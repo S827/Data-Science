{
 "cells": [
  {
   "cell_type": "code",
   "execution_count": 1,
   "id": "77b1e551",
   "metadata": {},
   "outputs": [
    {
     "data": {
      "text/plain": [
       "'light blue'"
      ]
     },
     "execution_count": 1,
     "metadata": {},
     "output_type": "execute_result"
    }
   ],
   "source": [
    "my_fav_color = \"light blue\"\n",
    "my_fav_color"
   ]
  },
  {
   "cell_type": "code",
   "execution_count": 3,
   "id": "915f2ec7",
   "metadata": {},
   "outputs": [],
   "source": [
    "col1, col2, col3 = \"red\", \"green\", \"black\""
   ]
  },
  {
   "cell_type": "code",
   "execution_count": 4,
   "id": "43190473",
   "metadata": {},
   "outputs": [
    {
     "data": {
      "text/plain": [
       "'red'"
      ]
     },
     "execution_count": 4,
     "metadata": {},
     "output_type": "execute_result"
    }
   ],
   "source": [
    "col1"
   ]
  },
  {
   "cell_type": "code",
   "execution_count": 5,
   "id": "10dfff17",
   "metadata": {},
   "outputs": [
    {
     "data": {
      "text/plain": [
       "'green'"
      ]
     },
     "execution_count": 5,
     "metadata": {},
     "output_type": "execute_result"
    }
   ],
   "source": [
    "col2"
   ]
  },
  {
   "cell_type": "code",
   "execution_count": 6,
   "id": "9ee42d31",
   "metadata": {},
   "outputs": [
    {
     "data": {
      "text/plain": [
       "'black'"
      ]
     },
     "execution_count": 6,
     "metadata": {},
     "output_type": "execute_result"
    }
   ],
   "source": [
    "col3"
   ]
  },
  {
   "cell_type": "code",
   "execution_count": 7,
   "id": "ed38c4eb",
   "metadata": {},
   "outputs": [],
   "source": [
    "col4 = col5 = col6 = \"purple\""
   ]
  },
  {
   "cell_type": "code",
   "execution_count": 8,
   "id": "5785d226",
   "metadata": {},
   "outputs": [
    {
     "data": {
      "text/plain": [
       "'purple'"
      ]
     },
     "execution_count": 8,
     "metadata": {},
     "output_type": "execute_result"
    }
   ],
   "source": [
    "col4"
   ]
  },
  {
   "cell_type": "code",
   "execution_count": 9,
   "id": "758f3fb7",
   "metadata": {},
   "outputs": [
    {
     "data": {
      "text/plain": [
       "'purple'"
      ]
     },
     "execution_count": 9,
     "metadata": {},
     "output_type": "execute_result"
    }
   ],
   "source": [
    "col5"
   ]
  },
  {
   "cell_type": "code",
   "execution_count": 10,
   "id": "007ef799",
   "metadata": {},
   "outputs": [
    {
     "data": {
      "text/plain": [
       "'purple'"
      ]
     },
     "execution_count": 10,
     "metadata": {},
     "output_type": "execute_result"
    }
   ],
   "source": [
    "col6"
   ]
  },
  {
   "cell_type": "code",
   "execution_count": 11,
   "id": "051460a9",
   "metadata": {},
   "outputs": [],
   "source": [
    "my_fav_col = \"green\""
   ]
  },
  {
   "cell_type": "code",
   "execution_count": 12,
   "id": "6ec15b9d",
   "metadata": {},
   "outputs": [
    {
     "data": {
      "text/plain": [
       "'green'"
      ]
     },
     "execution_count": 12,
     "metadata": {},
     "output_type": "execute_result"
    }
   ],
   "source": [
    "my_fav_col"
   ]
  },
  {
   "cell_type": "code",
   "execution_count": 13,
   "id": "0ec7b604",
   "metadata": {},
   "outputs": [],
   "source": [
    "my_fav_col = \"black\""
   ]
  },
  {
   "cell_type": "code",
   "execution_count": 14,
   "id": "7ceb4f30",
   "metadata": {},
   "outputs": [
    {
     "data": {
      "text/plain": [
       "'black'"
      ]
     },
     "execution_count": 14,
     "metadata": {},
     "output_type": "execute_result"
    }
   ],
   "source": [
    "my_fav_col"
   ]
  },
  {
   "cell_type": "code",
   "execution_count": 15,
   "id": "1d06ff77",
   "metadata": {},
   "outputs": [],
   "source": [
    "count = 3"
   ]
  },
  {
   "cell_type": "code",
   "execution_count": 16,
   "id": "341908b5",
   "metadata": {},
   "outputs": [],
   "source": [
    "count = count +3"
   ]
  },
  {
   "cell_type": "code",
   "execution_count": 17,
   "id": "97ec9512",
   "metadata": {},
   "outputs": [
    {
     "data": {
      "text/plain": [
       "6"
      ]
     },
     "execution_count": 17,
     "metadata": {},
     "output_type": "execute_result"
    }
   ],
   "source": [
    "count"
   ]
  },
  {
   "cell_type": "code",
   "execution_count": 18,
   "id": "6fcd78ec",
   "metadata": {},
   "outputs": [],
   "source": [
    "count = 56"
   ]
  },
  {
   "cell_type": "code",
   "execution_count": 19,
   "id": "1606c3c1",
   "metadata": {},
   "outputs": [],
   "source": [
    "count += 10"
   ]
  },
  {
   "cell_type": "code",
   "execution_count": 20,
   "id": "20e752c0",
   "metadata": {},
   "outputs": [
    {
     "data": {
      "text/plain": [
       "66"
      ]
     },
     "execution_count": 20,
     "metadata": {},
     "output_type": "execute_result"
    }
   ],
   "source": [
    "count"
   ]
  },
  {
   "cell_type": "code",
   "execution_count": 22,
   "id": "655a056f",
   "metadata": {},
   "outputs": [],
   "source": [
    "a_var = 34\n",
    "is_today_saturday = False\n",
    "my_fav_car = \"tesla\"\n",
    "the_3_muskeeters = ['amar', 'akbar', 'anthony']"
   ]
  },
  {
   "cell_type": "code",
   "execution_count": 23,
   "id": "d0b7ad32",
   "metadata": {},
   "outputs": [
    {
     "data": {
      "text/plain": [
       "34"
      ]
     },
     "execution_count": 23,
     "metadata": {},
     "output_type": "execute_result"
    }
   ],
   "source": [
    "a_var"
   ]
  },
  {
   "cell_type": "code",
   "execution_count": 24,
   "id": "745aba82",
   "metadata": {},
   "outputs": [
    {
     "data": {
      "text/plain": [
       "False"
      ]
     },
     "execution_count": 24,
     "metadata": {},
     "output_type": "execute_result"
    }
   ],
   "source": [
    "is_today_saturday"
   ]
  },
  {
   "cell_type": "code",
   "execution_count": 25,
   "id": "40ae0e55",
   "metadata": {},
   "outputs": [
    {
     "data": {
      "text/plain": [
       "'tesla'"
      ]
     },
     "execution_count": 25,
     "metadata": {},
     "output_type": "execute_result"
    }
   ],
   "source": [
    "my_fav_car"
   ]
  },
  {
   "cell_type": "code",
   "execution_count": 26,
   "id": "c31811d2",
   "metadata": {},
   "outputs": [
    {
     "data": {
      "text/plain": [
       "['amar', 'akbar', 'anthony']"
      ]
     },
     "execution_count": 26,
     "metadata": {},
     "output_type": "execute_result"
    }
   ],
   "source": [
    "the_3_muskeeters"
   ]
  },
  {
   "cell_type": "code",
   "execution_count": 27,
   "id": "cedfd7e6",
   "metadata": {},
   "outputs": [
    {
     "ename": "SyntaxError",
     "evalue": "invalid syntax (728727500.py, line 1)",
     "output_type": "error",
     "traceback": [
      "\u001b[1;36m  File \u001b[1;32m\"C:\\Users\\INDIA\\AppData\\Local\\Temp\\ipykernel_12148\\728727500.py\"\u001b[1;36m, line \u001b[1;32m1\u001b[0m\n\u001b[1;33m    a var = 23\u001b[0m\n\u001b[1;37m      ^\u001b[0m\n\u001b[1;31mSyntaxError\u001b[0m\u001b[1;31m:\u001b[0m invalid syntax\n"
     ]
    }
   ],
   "source": [
    "a var = 23"
   ]
  },
  {
   "cell_type": "code",
   "execution_count": 28,
   "id": "4da76b15",
   "metadata": {},
   "outputs": [],
   "source": [
    "a_var = 23"
   ]
  },
  {
   "cell_type": "code",
   "execution_count": 29,
   "id": "f8ca4549",
   "metadata": {},
   "outputs": [
    {
     "ename": "SyntaxError",
     "evalue": "invalid syntax (3968258449.py, line 1)",
     "output_type": "error",
     "traceback": [
      "\u001b[1;36m  File \u001b[1;32m\"C:\\Users\\INDIA\\AppData\\Local\\Temp\\ipykernel_12148\\3968258449.py\"\u001b[1;36m, line \u001b[1;32m1\u001b[0m\n\u001b[1;33m    is_today_$aturday\u001b[0m\n\u001b[1;37m             ^\u001b[0m\n\u001b[1;31mSyntaxError\u001b[0m\u001b[1;31m:\u001b[0m invalid syntax\n"
     ]
    }
   ],
   "source": [
    "is_today_$aturday"
   ]
  },
  {
   "cell_type": "code",
   "execution_count": 30,
   "id": "7141a2e9",
   "metadata": {},
   "outputs": [
    {
     "data": {
      "text/plain": [
       "False"
      ]
     },
     "execution_count": 30,
     "metadata": {},
     "output_type": "execute_result"
    }
   ],
   "source": [
    "is_today_saturday"
   ]
  },
  {
   "cell_type": "code",
   "execution_count": 31,
   "id": "e2e9f8c9",
   "metadata": {},
   "outputs": [
    {
     "ename": "NameError",
     "evalue": "name 'my' is not defined",
     "output_type": "error",
     "traceback": [
      "\u001b[1;31m---------------------------------------------------------------------------\u001b[0m",
      "\u001b[1;31mNameError\u001b[0m                                 Traceback (most recent call last)",
      "\u001b[1;32m~\\AppData\\Local\\Temp\\ipykernel_12148\\701379264.py\u001b[0m in \u001b[0;36m<module>\u001b[1;34m\u001b[0m\n\u001b[1;32m----> 1\u001b[1;33m \u001b[0mmy\u001b[0m\u001b[1;33m-\u001b[0m\u001b[0mfav\u001b[0m\u001b[1;33m-\u001b[0m\u001b[0mcar\u001b[0m\u001b[1;33m\u001b[0m\u001b[1;33m\u001b[0m\u001b[0m\n\u001b[0m",
      "\u001b[1;31mNameError\u001b[0m: name 'my' is not defined"
     ]
    }
   ],
   "source": [
    "my-fav-car"
   ]
  },
  {
   "cell_type": "code",
   "execution_count": 32,
   "id": "6964d8a4",
   "metadata": {},
   "outputs": [
    {
     "data": {
      "text/plain": [
       "'tesla'"
      ]
     },
     "execution_count": 32,
     "metadata": {},
     "output_type": "execute_result"
    }
   ],
   "source": [
    "my_fav_car"
   ]
  },
  {
   "cell_type": "code",
   "execution_count": 33,
   "id": "841c5226",
   "metadata": {},
   "outputs": [
    {
     "ename": "SyntaxError",
     "evalue": "invalid decimal literal (1403766374.py, line 1)",
     "output_type": "error",
     "traceback": [
      "\u001b[1;36m  File \u001b[1;32m\"C:\\Users\\INDIA\\AppData\\Local\\Temp\\ipykernel_12148\\1403766374.py\"\u001b[1;36m, line \u001b[1;32m1\u001b[0m\n\u001b[1;33m    3_muskeeters\u001b[0m\n\u001b[1;37m     ^\u001b[0m\n\u001b[1;31mSyntaxError\u001b[0m\u001b[1;31m:\u001b[0m invalid decimal literal\n"
     ]
    }
   ],
   "source": [
    "3_muskeeters"
   ]
  },
  {
   "cell_type": "code",
   "execution_count": 34,
   "id": "cbb47f32",
   "metadata": {},
   "outputs": [
    {
     "data": {
      "text/plain": [
       "['amar', 'akbar', 'anthony']"
      ]
     },
     "execution_count": 34,
     "metadata": {},
     "output_type": "execute_result"
    }
   ],
   "source": [
    "the_3_muskeeters"
   ]
  },
  {
   "cell_type": "code",
   "execution_count": null,
   "id": "84798909",
   "metadata": {},
   "outputs": [],
   "source": []
  }
 ],
 "metadata": {
  "kernelspec": {
   "display_name": "Python 3 (ipykernel)",
   "language": "python",
   "name": "python3"
  },
  "language_info": {
   "codemirror_mode": {
    "name": "ipython",
    "version": 3
   },
   "file_extension": ".py",
   "mimetype": "text/x-python",
   "name": "python",
   "nbconvert_exporter": "python",
   "pygments_lexer": "ipython3",
   "version": "3.9.13"
  }
 },
 "nbformat": 4,
 "nbformat_minor": 5
}
