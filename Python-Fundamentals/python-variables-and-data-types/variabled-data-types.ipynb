{
 "cells": [
  {
   "cell_type": "code",
   "execution_count": 1,
   "id": "a6abb60b",
   "metadata": {},
   "outputs": [
    {
     "data": {
      "text/plain": [
       "'light blue'"
      ]
     },
     "execution_count": 1,
     "metadata": {},
     "output_type": "execute_result"
    }
   ],
   "source": [
    "my_fav_color = \"light blue\"\n",
    "my_fav_color"
   ]
  },
  {
   "cell_type": "code",
   "execution_count": 3,
   "id": "686bfdf3",
   "metadata": {},
   "outputs": [],
   "source": [
    "col1, col2, col3 = \"red\", \"green\", \"black\""
   ]
  },
  {
   "cell_type": "code",
   "execution_count": 4,
   "id": "9bae9b6b",
   "metadata": {},
   "outputs": [
    {
     "data": {
      "text/plain": [
       "'red'"
      ]
     },
     "execution_count": 4,
     "metadata": {},
     "output_type": "execute_result"
    }
   ],
   "source": [
    "col1"
   ]
  },
  {
   "cell_type": "code",
   "execution_count": 5,
   "id": "4238bf1d",
   "metadata": {},
   "outputs": [
    {
     "data": {
      "text/plain": [
       "'green'"
      ]
     },
     "execution_count": 5,
     "metadata": {},
     "output_type": "execute_result"
    }
   ],
   "source": [
    "col2"
   ]
  },
  {
   "cell_type": "code",
   "execution_count": 6,
   "id": "8c560bad",
   "metadata": {},
   "outputs": [
    {
     "data": {
      "text/plain": [
       "'black'"
      ]
     },
     "execution_count": 6,
     "metadata": {},
     "output_type": "execute_result"
    }
   ],
   "source": [
    "col3"
   ]
  },
  {
   "cell_type": "code",
   "execution_count": 7,
   "id": "f54d0152",
   "metadata": {},
   "outputs": [],
   "source": [
    "col4 = col5 = col6 = \"purple\""
   ]
  },
  {
   "cell_type": "code",
   "execution_count": 8,
   "id": "800a08d4",
   "metadata": {},
   "outputs": [
    {
     "data": {
      "text/plain": [
       "'purple'"
      ]
     },
     "execution_count": 8,
     "metadata": {},
     "output_type": "execute_result"
    }
   ],
   "source": [
    "col4"
   ]
  },
  {
   "cell_type": "code",
   "execution_count": 9,
   "id": "575edc3b",
   "metadata": {},
   "outputs": [
    {
     "data": {
      "text/plain": [
       "'purple'"
      ]
     },
     "execution_count": 9,
     "metadata": {},
     "output_type": "execute_result"
    }
   ],
   "source": [
    "col5"
   ]
  },
  {
   "cell_type": "code",
   "execution_count": 10,
   "id": "14384aa4",
   "metadata": {},
   "outputs": [
    {
     "data": {
      "text/plain": [
       "'purple'"
      ]
     },
     "execution_count": 10,
     "metadata": {},
     "output_type": "execute_result"
    }
   ],
   "source": [
    "col6"
   ]
  },
  {
   "cell_type": "code",
   "execution_count": 11,
   "id": "b45388bc",
   "metadata": {},
   "outputs": [],
   "source": [
    "my_fav_col = \"green\""
   ]
  },
  {
   "cell_type": "code",
   "execution_count": 12,
   "id": "3531e33c",
   "metadata": {},
   "outputs": [
    {
     "data": {
      "text/plain": [
       "'green'"
      ]
     },
     "execution_count": 12,
     "metadata": {},
     "output_type": "execute_result"
    }
   ],
   "source": [
    "my_fav_col"
   ]
  },
  {
   "cell_type": "code",
   "execution_count": 13,
   "id": "46ee7956",
   "metadata": {},
   "outputs": [],
   "source": [
    "my_fav_col = \"black\""
   ]
  },
  {
   "cell_type": "code",
   "execution_count": 14,
   "id": "b31fd755",
   "metadata": {},
   "outputs": [
    {
     "data": {
      "text/plain": [
       "'black'"
      ]
     },
     "execution_count": 14,
     "metadata": {},
     "output_type": "execute_result"
    }
   ],
   "source": [
    "my_fav_col"
   ]
  },
  {
   "cell_type": "code",
   "execution_count": 15,
   "id": "6b7f64db",
   "metadata": {},
   "outputs": [],
   "source": [
    "count = 3"
   ]
  },
  {
   "cell_type": "code",
   "execution_count": 16,
   "id": "554164ac",
   "metadata": {},
   "outputs": [],
   "source": [
    "count = count +3"
   ]
  },
  {
   "cell_type": "code",
   "execution_count": 17,
   "id": "be93c1c4",
   "metadata": {},
   "outputs": [
    {
     "data": {
      "text/plain": [
       "6"
      ]
     },
     "execution_count": 17,
     "metadata": {},
     "output_type": "execute_result"
    }
   ],
   "source": [
    "count"
   ]
  },
  {
   "cell_type": "code",
   "execution_count": 18,
   "id": "7019cc7c",
   "metadata": {},
   "outputs": [],
   "source": [
    "count = 56"
   ]
  },
  {
   "cell_type": "code",
   "execution_count": 19,
   "id": "e4544f1a",
   "metadata": {},
   "outputs": [],
   "source": [
    "count += 10"
   ]
  },
  {
   "cell_type": "code",
   "execution_count": 20,
   "id": "7ff53249",
   "metadata": {},
   "outputs": [
    {
     "data": {
      "text/plain": [
       "66"
      ]
     },
     "execution_count": 20,
     "metadata": {},
     "output_type": "execute_result"
    }
   ],
   "source": [
    "count"
   ]
  },
  {
   "cell_type": "code",
   "execution_count": 22,
   "id": "8da6d8b0",
   "metadata": {},
   "outputs": [],
   "source": [
    "a_var = 34\n",
    "is_today_saturday = False\n",
    "my_fav_car = \"tesla\"\n",
    "the_3_muskeeters = ['amar', 'akbar', 'anthony']"
   ]
  },
  {
   "cell_type": "code",
   "execution_count": 23,
   "id": "c90e03a8",
   "metadata": {},
   "outputs": [
    {
     "data": {
      "text/plain": [
       "34"
      ]
     },
     "execution_count": 23,
     "metadata": {},
     "output_type": "execute_result"
    }
   ],
   "source": [
    "a_var"
   ]
  },
  {
   "cell_type": "code",
   "execution_count": 24,
   "id": "2373fa2b",
   "metadata": {},
   "outputs": [
    {
     "data": {
      "text/plain": [
       "False"
      ]
     },
     "execution_count": 24,
     "metadata": {},
     "output_type": "execute_result"
    }
   ],
   "source": [
    "is_today_saturday"
   ]
  },
  {
   "cell_type": "code",
   "execution_count": 25,
   "id": "6d3eb932",
   "metadata": {},
   "outputs": [
    {
     "data": {
      "text/plain": [
       "'tesla'"
      ]
     },
     "execution_count": 25,
     "metadata": {},
     "output_type": "execute_result"
    }
   ],
   "source": [
    "my_fav_car"
   ]
  },
  {
   "cell_type": "code",
   "execution_count": 26,
   "id": "dca3ec0f",
   "metadata": {},
   "outputs": [
    {
     "data": {
      "text/plain": [
       "['amar', 'akbar', 'anthony']"
      ]
     },
     "execution_count": 26,
     "metadata": {},
     "output_type": "execute_result"
    }
   ],
   "source": [
    "the_3_muskeeters"
   ]
  },
  {
   "cell_type": "code",
   "execution_count": 27,
   "id": "199b4df6",
   "metadata": {},
   "outputs": [
    {
     "ename": "SyntaxError",
     "evalue": "invalid syntax (728727500.py, line 1)",
     "output_type": "error",
     "traceback": [
      "\u001b[1;36m  File \u001b[1;32m\"C:\\Users\\INDIA\\AppData\\Local\\Temp\\ipykernel_12148\\728727500.py\"\u001b[1;36m, line \u001b[1;32m1\u001b[0m\n\u001b[1;33m    a var = 23\u001b[0m\n\u001b[1;37m      ^\u001b[0m\n\u001b[1;31mSyntaxError\u001b[0m\u001b[1;31m:\u001b[0m invalid syntax\n"
     ]
    }
   ],
   "source": [
    "a var = 23"
   ]
  },
  {
   "cell_type": "code",
   "execution_count": 28,
   "id": "04cd08ff",
   "metadata": {},
   "outputs": [],
   "source": [
    "a_var = 23"
   ]
  },
  {
   "cell_type": "code",
   "execution_count": 29,
   "id": "b0a1a843",
   "metadata": {},
   "outputs": [
    {
     "ename": "SyntaxError",
     "evalue": "invalid syntax (3968258449.py, line 1)",
     "output_type": "error",
     "traceback": [
      "\u001b[1;36m  File \u001b[1;32m\"C:\\Users\\INDIA\\AppData\\Local\\Temp\\ipykernel_12148\\3968258449.py\"\u001b[1;36m, line \u001b[1;32m1\u001b[0m\n\u001b[1;33m    is_today_$aturday\u001b[0m\n\u001b[1;37m             ^\u001b[0m\n\u001b[1;31mSyntaxError\u001b[0m\u001b[1;31m:\u001b[0m invalid syntax\n"
     ]
    }
   ],
   "source": [
    "is_today_$aturday"
   ]
  },
  {
   "cell_type": "code",
   "execution_count": 30,
   "id": "4dc9f41e",
   "metadata": {},
   "outputs": [
    {
     "data": {
      "text/plain": [
       "False"
      ]
     },
     "execution_count": 30,
     "metadata": {},
     "output_type": "execute_result"
    }
   ],
   "source": [
    "is_today_saturday"
   ]
  },
  {
   "cell_type": "code",
   "execution_count": 31,
   "id": "c26f0067",
   "metadata": {},
   "outputs": [
    {
     "ename": "NameError",
     "evalue": "name 'my' is not defined",
     "output_type": "error",
     "traceback": [
      "\u001b[1;31m---------------------------------------------------------------------------\u001b[0m",
      "\u001b[1;31mNameError\u001b[0m                                 Traceback (most recent call last)",
      "\u001b[1;32m~\\AppData\\Local\\Temp\\ipykernel_12148\\701379264.py\u001b[0m in \u001b[0;36m<module>\u001b[1;34m\u001b[0m\n\u001b[1;32m----> 1\u001b[1;33m \u001b[0mmy\u001b[0m\u001b[1;33m-\u001b[0m\u001b[0mfav\u001b[0m\u001b[1;33m-\u001b[0m\u001b[0mcar\u001b[0m\u001b[1;33m\u001b[0m\u001b[1;33m\u001b[0m\u001b[0m\n\u001b[0m",
      "\u001b[1;31mNameError\u001b[0m: name 'my' is not defined"
     ]
    }
   ],
   "source": [
    "my-fav-car"
   ]
  },
  {
   "cell_type": "code",
   "execution_count": 32,
   "id": "10ab0a51",
   "metadata": {},
   "outputs": [
    {
     "data": {
      "text/plain": [
       "'tesla'"
      ]
     },
     "execution_count": 32,
     "metadata": {},
     "output_type": "execute_result"
    }
   ],
   "source": [
    "my_fav_car"
   ]
  },
  {
   "cell_type": "code",
   "execution_count": 33,
   "id": "6ada30bf",
   "metadata": {},
   "outputs": [
    {
     "ename": "SyntaxError",
     "evalue": "invalid decimal literal (1403766374.py, line 1)",
     "output_type": "error",
     "traceback": [
      "\u001b[1;36m  File \u001b[1;32m\"C:\\Users\\INDIA\\AppData\\Local\\Temp\\ipykernel_12148\\1403766374.py\"\u001b[1;36m, line \u001b[1;32m1\u001b[0m\n\u001b[1;33m    3_muskeeters\u001b[0m\n\u001b[1;37m     ^\u001b[0m\n\u001b[1;31mSyntaxError\u001b[0m\u001b[1;31m:\u001b[0m invalid decimal literal\n"
     ]
    }
   ],
   "source": [
    "3_muskeeters"
   ]
  },
  {
   "cell_type": "code",
   "execution_count": 34,
   "id": "4d1c4d27",
   "metadata": {},
   "outputs": [
    {
     "data": {
      "text/plain": [
       "['amar', 'akbar', 'anthony']"
      ]
     },
     "execution_count": 34,
     "metadata": {},
     "output_type": "execute_result"
    }
   ],
   "source": [
    "the_3_muskeeters"
   ]
  },
  {
   "cell_type": "code",
   "execution_count": 35,
   "id": "fadf469a",
   "metadata": {},
   "outputs": [
    {
     "ename": "SyntaxError",
     "evalue": "invalid syntax (3528599804.py, line 1)",
     "output_type": "error",
     "traceback": [
      "\u001b[1;36m  File \u001b[1;32m\"C:\\Users\\INDIA\\AppData\\Local\\Temp\\ipykernel_12148\\3528599804.py\"\u001b[1;36m, line \u001b[1;32m1\u001b[0m\n\u001b[1;33m    git status\u001b[0m\n\u001b[1;37m        ^\u001b[0m\n\u001b[1;31mSyntaxError\u001b[0m\u001b[1;31m:\u001b[0m invalid syntax\n"
     ]
    }
   ],
   "source": [
    "git status"
   ]
  },
  {
   "cell_type": "code",
   "execution_count": 36,
   "id": "c5ea9986",
   "metadata": {},
   "outputs": [
    {
     "data": {
      "text/plain": [
       "23"
      ]
     },
     "execution_count": 36,
     "metadata": {},
     "output_type": "execute_result"
    }
   ],
   "source": [
    "a_var"
   ]
  },
  {
   "cell_type": "code",
   "execution_count": 37,
   "id": "7c00ef45",
   "metadata": {},
   "outputs": [
    {
     "data": {
      "text/plain": [
       "int"
      ]
     },
     "execution_count": 37,
     "metadata": {},
     "output_type": "execute_result"
    }
   ],
   "source": [
    "type(a_var)"
   ]
  },
  {
   "cell_type": "code",
   "execution_count": 38,
   "id": "5ba507a7",
   "metadata": {},
   "outputs": [
    {
     "data": {
      "text/plain": [
       "False"
      ]
     },
     "execution_count": 38,
     "metadata": {},
     "output_type": "execute_result"
    }
   ],
   "source": [
    "is_today_saturday"
   ]
  },
  {
   "cell_type": "code",
   "execution_count": 39,
   "id": "955a161d",
   "metadata": {},
   "outputs": [
    {
     "data": {
      "text/plain": [
       "bool"
      ]
     },
     "execution_count": 39,
     "metadata": {},
     "output_type": "execute_result"
    }
   ],
   "source": [
    "type(is_today_saturday)"
   ]
  },
  {
   "cell_type": "code",
   "execution_count": 40,
   "id": "1656d262",
   "metadata": {},
   "outputs": [
    {
     "data": {
      "text/plain": [
       "'tesla'"
      ]
     },
     "execution_count": 40,
     "metadata": {},
     "output_type": "execute_result"
    }
   ],
   "source": [
    "my_fav_car"
   ]
  },
  {
   "cell_type": "code",
   "execution_count": 41,
   "id": "e6753051",
   "metadata": {},
   "outputs": [
    {
     "data": {
      "text/plain": [
       "str"
      ]
     },
     "execution_count": 41,
     "metadata": {},
     "output_type": "execute_result"
    }
   ],
   "source": [
    "type(my_fav_car)"
   ]
  },
  {
   "cell_type": "code",
   "execution_count": 42,
   "id": "bbb86801",
   "metadata": {},
   "outputs": [
    {
     "ename": "NameError",
     "evalue": "name 'the_3_musketeers' is not defined",
     "output_type": "error",
     "traceback": [
      "\u001b[1;31m---------------------------------------------------------------------------\u001b[0m",
      "\u001b[1;31mNameError\u001b[0m                                 Traceback (most recent call last)",
      "\u001b[1;32m~\\AppData\\Local\\Temp\\ipykernel_12148\\1645490061.py\u001b[0m in \u001b[0;36m<module>\u001b[1;34m\u001b[0m\n\u001b[1;32m----> 1\u001b[1;33m \u001b[0mthe_3_musketeers\u001b[0m\u001b[1;33m\u001b[0m\u001b[1;33m\u001b[0m\u001b[0m\n\u001b[0m",
      "\u001b[1;31mNameError\u001b[0m: name 'the_3_musketeers' is not defined"
     ]
    }
   ],
   "source": [
    "the_3_musketeers"
   ]
  },
  {
   "cell_type": "code",
   "execution_count": 43,
   "id": "8e0824d5",
   "metadata": {},
   "outputs": [
    {
     "data": {
      "text/plain": [
       "['amar', 'akbar', 'anthony']"
      ]
     },
     "execution_count": 43,
     "metadata": {},
     "output_type": "execute_result"
    }
   ],
   "source": [
    "the_3_muskeeters"
   ]
  },
  {
   "cell_type": "code",
   "execution_count": 44,
   "id": "f85e21ee",
   "metadata": {},
   "outputs": [
    {
     "data": {
      "text/plain": [
       "list"
      ]
     },
     "execution_count": 44,
     "metadata": {},
     "output_type": "execute_result"
    }
   ],
   "source": [
    "type(the_3_muskeeters)"
   ]
  },
  {
   "cell_type": "markdown",
   "id": "1ca1991a",
   "metadata": {},
   "source": [
    "# Integer Data Type"
   ]
  },
  {
   "cell_type": "code",
   "execution_count": 45,
   "id": "74d8264e",
   "metadata": {},
   "outputs": [],
   "source": [
    "current_year = 2023"
   ]
  },
  {
   "cell_type": "code",
   "execution_count": 46,
   "id": "6c152432",
   "metadata": {},
   "outputs": [
    {
     "data": {
      "text/plain": [
       "2023"
      ]
     },
     "execution_count": 46,
     "metadata": {},
     "output_type": "execute_result"
    }
   ],
   "source": [
    "current_year"
   ]
  },
  {
   "cell_type": "code",
   "execution_count": 47,
   "id": "1bd26c77",
   "metadata": {},
   "outputs": [
    {
     "data": {
      "text/plain": [
       "int"
      ]
     },
     "execution_count": 47,
     "metadata": {},
     "output_type": "execute_result"
    }
   ],
   "source": [
    "type(current_year)"
   ]
  },
  {
   "cell_type": "code",
   "execution_count": 48,
   "id": "324d07a3",
   "metadata": {},
   "outputs": [],
   "source": [
    "a_large_negative_number = -321842981349827398473298892137843278892374823"
   ]
  },
  {
   "cell_type": "code",
   "execution_count": 49,
   "id": "79c126ac",
   "metadata": {},
   "outputs": [
    {
     "data": {
      "text/plain": [
       "-321842981349827398473298892137843278892374823"
      ]
     },
     "execution_count": 49,
     "metadata": {},
     "output_type": "execute_result"
    }
   ],
   "source": [
    "a_large_negative_number"
   ]
  },
  {
   "cell_type": "markdown",
   "id": "e4c04822",
   "metadata": {},
   "source": [
    "# Float Data Type"
   ]
  },
  {
   "cell_type": "code",
   "execution_count": 50,
   "id": "3ce1af4a",
   "metadata": {},
   "outputs": [],
   "source": [
    "pi = 3.141592653589793238"
   ]
  },
  {
   "cell_type": "code",
   "execution_count": 51,
   "id": "5cc3f156",
   "metadata": {},
   "outputs": [
    {
     "data": {
      "text/plain": [
       "3.141592653589793"
      ]
     },
     "execution_count": 51,
     "metadata": {},
     "output_type": "execute_result"
    }
   ],
   "source": [
    "pi"
   ]
  },
  {
   "cell_type": "code",
   "execution_count": 52,
   "id": "fb4af3b3",
   "metadata": {},
   "outputs": [
    {
     "data": {
      "text/plain": [
       "float"
      ]
     },
     "execution_count": 52,
     "metadata": {},
     "output_type": "execute_result"
    }
   ],
   "source": [
    "type(pi)"
   ]
  },
  {
   "cell_type": "code",
   "execution_count": 53,
   "id": "9efa3ed1",
   "metadata": {},
   "outputs": [],
   "source": [
    "a_number = 3.0"
   ]
  },
  {
   "cell_type": "code",
   "execution_count": 54,
   "id": "280ed70f",
   "metadata": {},
   "outputs": [
    {
     "data": {
      "text/plain": [
       "3.0"
      ]
     },
     "execution_count": 54,
     "metadata": {},
     "output_type": "execute_result"
    }
   ],
   "source": [
    "a_number"
   ]
  },
  {
   "cell_type": "code",
   "execution_count": 55,
   "id": "fcae8f20",
   "metadata": {},
   "outputs": [
    {
     "data": {
      "text/plain": [
       "float"
      ]
     },
     "execution_count": 55,
     "metadata": {},
     "output_type": "execute_result"
    }
   ],
   "source": [
    "type(a_number)"
   ]
  },
  {
   "cell_type": "code",
   "execution_count": 56,
   "id": "d3c5979d",
   "metadata": {},
   "outputs": [],
   "source": [
    "another_number = 3."
   ]
  },
  {
   "cell_type": "code",
   "execution_count": 57,
   "id": "55d69164",
   "metadata": {},
   "outputs": [
    {
     "data": {
      "text/plain": [
       "3.0"
      ]
     },
     "execution_count": 57,
     "metadata": {},
     "output_type": "execute_result"
    }
   ],
   "source": [
    "another_number"
   ]
  },
  {
   "cell_type": "code",
   "execution_count": 58,
   "id": "35a73538",
   "metadata": {},
   "outputs": [
    {
     "data": {
      "text/plain": [
       "float"
      ]
     },
     "execution_count": 58,
     "metadata": {},
     "output_type": "execute_result"
    }
   ],
   "source": [
    "type(another_number)"
   ]
  },
  {
   "cell_type": "code",
   "execution_count": 59,
   "id": "e27b5e2c",
   "metadata": {},
   "outputs": [],
   "source": [
    "one_hundredth = 1e-2"
   ]
  },
  {
   "cell_type": "code",
   "execution_count": 60,
   "id": "fdd50711",
   "metadata": {},
   "outputs": [
    {
     "data": {
      "text/plain": [
       "0.01"
      ]
     },
     "execution_count": 60,
     "metadata": {},
     "output_type": "execute_result"
    }
   ],
   "source": [
    "one_hundredth"
   ]
  },
  {
   "cell_type": "code",
   "execution_count": 61,
   "id": "ae910512",
   "metadata": {},
   "outputs": [
    {
     "data": {
      "text/plain": [
       "float"
      ]
     },
     "execution_count": 61,
     "metadata": {},
     "output_type": "execute_result"
    }
   ],
   "source": [
    "type(one_hundredth)"
   ]
  },
  {
   "cell_type": "code",
   "execution_count": 62,
   "id": "d846a4a7",
   "metadata": {},
   "outputs": [],
   "source": [
    "avogadro_number = 6.02214076e23"
   ]
  },
  {
   "cell_type": "code",
   "execution_count": 63,
   "id": "2671a4b6",
   "metadata": {},
   "outputs": [
    {
     "data": {
      "text/plain": [
       "6.02214076e+23"
      ]
     },
     "execution_count": 63,
     "metadata": {},
     "output_type": "execute_result"
    }
   ],
   "source": [
    "avogadro_number"
   ]
  },
  {
   "cell_type": "code",
   "execution_count": 64,
   "id": "0701e3af",
   "metadata": {},
   "outputs": [
    {
     "data": {
      "text/plain": [
       "float"
      ]
     },
     "execution_count": 64,
     "metadata": {},
     "output_type": "execute_result"
    }
   ],
   "source": [
    "type(avogadro_number)"
   ]
  },
  {
   "cell_type": "markdown",
   "id": "bdbeb227",
   "metadata": {},
   "source": [
    "## convert int into floats"
   ]
  },
  {
   "cell_type": "code",
   "execution_count": 65,
   "id": "23f22b59",
   "metadata": {},
   "outputs": [
    {
     "data": {
      "text/plain": [
       "2023"
      ]
     },
     "execution_count": 65,
     "metadata": {},
     "output_type": "execute_result"
    }
   ],
   "source": [
    "current_year"
   ]
  },
  {
   "cell_type": "code",
   "execution_count": 66,
   "id": "279c81e5",
   "metadata": {},
   "outputs": [
    {
     "data": {
      "text/plain": [
       "int"
      ]
     },
     "execution_count": 66,
     "metadata": {},
     "output_type": "execute_result"
    }
   ],
   "source": [
    "type(current_year)"
   ]
  },
  {
   "cell_type": "code",
   "execution_count": 67,
   "id": "7bbb0575",
   "metadata": {},
   "outputs": [
    {
     "data": {
      "text/plain": [
       "2023.0"
      ]
     },
     "execution_count": 67,
     "metadata": {},
     "output_type": "execute_result"
    }
   ],
   "source": [
    "float(current_year)"
   ]
  },
  {
   "cell_type": "code",
   "execution_count": 68,
   "id": "fa9cc03f",
   "metadata": {},
   "outputs": [
    {
     "data": {
      "text/plain": [
       "int"
      ]
     },
     "execution_count": 68,
     "metadata": {},
     "output_type": "execute_result"
    }
   ],
   "source": [
    "type(current_year)"
   ]
  },
  {
   "cell_type": "code",
   "execution_count": 69,
   "id": "8da1640e",
   "metadata": {},
   "outputs": [
    {
     "data": {
      "text/plain": [
       "3.141592653589793"
      ]
     },
     "execution_count": 69,
     "metadata": {},
     "output_type": "execute_result"
    }
   ],
   "source": [
    "pi"
   ]
  },
  {
   "cell_type": "code",
   "execution_count": 70,
   "id": "99574c54",
   "metadata": {},
   "outputs": [
    {
     "data": {
      "text/plain": [
       "3"
      ]
     },
     "execution_count": 70,
     "metadata": {},
     "output_type": "execute_result"
    }
   ],
   "source": [
    "int(pi)"
   ]
  },
  {
   "cell_type": "code",
   "execution_count": 71,
   "id": "b503e31c",
   "metadata": {},
   "outputs": [
    {
     "data": {
      "text/plain": [
       "float"
      ]
     },
     "execution_count": 71,
     "metadata": {},
     "output_type": "execute_result"
    }
   ],
   "source": [
    "type(pi)"
   ]
  },
  {
   "cell_type": "code",
   "execution_count": 72,
   "id": "11357a3d",
   "metadata": {},
   "outputs": [
    {
     "data": {
      "text/plain": [
       "602214075999999987023872"
      ]
     },
     "execution_count": 72,
     "metadata": {},
     "output_type": "execute_result"
    }
   ],
   "source": [
    "int(avogadro_number)"
   ]
  },
  {
   "cell_type": "code",
   "execution_count": 73,
   "id": "32d1ef36",
   "metadata": {},
   "outputs": [
    {
     "data": {
      "text/plain": [
       "float"
      ]
     },
     "execution_count": 73,
     "metadata": {},
     "output_type": "execute_result"
    }
   ],
   "source": [
    "type(avogadro_number)"
   ]
  },
  {
   "cell_type": "code",
   "execution_count": 74,
   "id": "4f7408e7",
   "metadata": {},
   "outputs": [
    {
     "data": {
      "text/plain": [
       "float"
      ]
     },
     "execution_count": 74,
     "metadata": {},
     "output_type": "execute_result"
    }
   ],
   "source": [
    "type(45 * 3.0)"
   ]
  },
  {
   "cell_type": "code",
   "execution_count": 75,
   "id": "98104198",
   "metadata": {},
   "outputs": [
    {
     "data": {
      "text/plain": [
       "int"
      ]
     },
     "execution_count": 75,
     "metadata": {},
     "output_type": "execute_result"
    }
   ],
   "source": [
    "type(45 * 5)"
   ]
  },
  {
   "cell_type": "code",
   "execution_count": 76,
   "id": "255d518e",
   "metadata": {},
   "outputs": [
    {
     "data": {
      "text/plain": [
       "float"
      ]
     },
     "execution_count": 76,
     "metadata": {},
     "output_type": "execute_result"
    }
   ],
   "source": [
    "type(20/7)"
   ]
  },
  {
   "cell_type": "code",
   "execution_count": 77,
   "id": "3691eaf9",
   "metadata": {},
   "outputs": [
    {
     "data": {
      "text/plain": [
       "float"
      ]
     },
     "execution_count": 77,
     "metadata": {},
     "output_type": "execute_result"
    }
   ],
   "source": [
    "type(20/10)"
   ]
  },
  {
   "cell_type": "code",
   "execution_count": 78,
   "id": "282e4c4e",
   "metadata": {},
   "outputs": [
    {
     "data": {
      "text/plain": [
       "int"
      ]
     },
     "execution_count": 78,
     "metadata": {},
     "output_type": "execute_result"
    }
   ],
   "source": [
    "type(20//7)"
   ]
  },
  {
   "cell_type": "code",
   "execution_count": 79,
   "id": "8ef18976",
   "metadata": {},
   "outputs": [
    {
     "data": {
      "text/plain": [
       "int"
      ]
     },
     "execution_count": 79,
     "metadata": {},
     "output_type": "execute_result"
    }
   ],
   "source": [
    "type(20//10)"
   ]
  },
  {
   "cell_type": "markdown",
   "id": "81c11af6",
   "metadata": {},
   "source": [
    "# Boolean data type"
   ]
  },
  {
   "cell_type": "code",
   "execution_count": 80,
   "id": "7e016c1f",
   "metadata": {},
   "outputs": [],
   "source": [
    "is_today_friday = True"
   ]
  },
  {
   "cell_type": "code",
   "execution_count": 81,
   "id": "80cd19ee",
   "metadata": {},
   "outputs": [
    {
     "data": {
      "text/plain": [
       "True"
      ]
     },
     "execution_count": 81,
     "metadata": {},
     "output_type": "execute_result"
    }
   ],
   "source": [
    "is_today_friday"
   ]
  },
  {
   "cell_type": "code",
   "execution_count": 82,
   "id": "32ea9d94",
   "metadata": {},
   "outputs": [
    {
     "data": {
      "text/plain": [
       "bool"
      ]
     },
     "execution_count": 82,
     "metadata": {},
     "output_type": "execute_result"
    }
   ],
   "source": [
    "type(is_today_friday)"
   ]
  },
  {
   "cell_type": "code",
   "execution_count": 83,
   "id": "3646e566",
   "metadata": {},
   "outputs": [],
   "source": [
    "cost_of_something = 2.31"
   ]
  },
  {
   "cell_type": "code",
   "execution_count": 84,
   "id": "c9d63ceb",
   "metadata": {},
   "outputs": [],
   "source": [
    "is_something_expensive = cost_of_something >= 20"
   ]
  },
  {
   "cell_type": "code",
   "execution_count": 85,
   "id": "3e995f44",
   "metadata": {},
   "outputs": [
    {
     "data": {
      "text/plain": [
       "False"
      ]
     },
     "execution_count": 85,
     "metadata": {},
     "output_type": "execute_result"
    }
   ],
   "source": [
    "is_something_expensive"
   ]
  },
  {
   "cell_type": "code",
   "execution_count": 86,
   "id": "041ee6bc",
   "metadata": {},
   "outputs": [
    {
     "data": {
      "text/plain": [
       "bool"
      ]
     },
     "execution_count": 86,
     "metadata": {},
     "output_type": "execute_result"
    }
   ],
   "source": [
    "type(is_something_expensive)"
   ]
  },
  {
   "cell_type": "code",
   "execution_count": 87,
   "id": "f4d2d7a4",
   "metadata": {},
   "outputs": [
    {
     "ename": "NameError",
     "evalue": "name 'false' is not defined",
     "output_type": "error",
     "traceback": [
      "\u001b[1;31m---------------------------------------------------------------------------\u001b[0m",
      "\u001b[1;31mNameError\u001b[0m                                 Traceback (most recent call last)",
      "\u001b[1;32m~\\AppData\\Local\\Temp\\ipykernel_12148\\3358226641.py\u001b[0m in \u001b[0;36m<module>\u001b[1;34m\u001b[0m\n\u001b[1;32m----> 1\u001b[1;33m \u001b[1;36m5\u001b[0m\u001b[1;33m+\u001b[0m\u001b[0mfalse\u001b[0m\u001b[1;33m\u001b[0m\u001b[1;33m\u001b[0m\u001b[0m\n\u001b[0m",
      "\u001b[1;31mNameError\u001b[0m: name 'false' is not defined"
     ]
    }
   ],
   "source": [
    "5+false"
   ]
  },
  {
   "cell_type": "code",
   "execution_count": 88,
   "id": "e56a75af",
   "metadata": {},
   "outputs": [
    {
     "data": {
      "text/plain": [
       "5"
      ]
     },
     "execution_count": 88,
     "metadata": {},
     "output_type": "execute_result"
    }
   ],
   "source": [
    "5 + False"
   ]
  },
  {
   "cell_type": "code",
   "execution_count": 89,
   "id": "00fdc183",
   "metadata": {},
   "outputs": [
    {
     "data": {
      "text/plain": [
       "4.0"
      ]
     },
     "execution_count": 89,
     "metadata": {},
     "output_type": "execute_result"
    }
   ],
   "source": [
    "3. + True"
   ]
  },
  {
   "cell_type": "code",
   "execution_count": 90,
   "id": "46365ce3",
   "metadata": {},
   "outputs": [
    {
     "data": {
      "text/plain": [
       "True"
      ]
     },
     "execution_count": 90,
     "metadata": {},
     "output_type": "execute_result"
    }
   ],
   "source": [
    "True == 1"
   ]
  },
  {
   "cell_type": "code",
   "execution_count": 91,
   "id": "781a0ac0",
   "metadata": {},
   "outputs": [
    {
     "data": {
      "text/plain": [
       "True"
      ]
     },
     "execution_count": 91,
     "metadata": {},
     "output_type": "execute_result"
    }
   ],
   "source": [
    "False == 0"
   ]
  },
  {
   "cell_type": "code",
   "execution_count": 92,
   "id": "5dc45f2c",
   "metadata": {},
   "outputs": [
    {
     "data": {
      "text/plain": [
       "False"
      ]
     },
     "execution_count": 92,
     "metadata": {},
     "output_type": "execute_result"
    }
   ],
   "source": [
    "False == 1"
   ]
  },
  {
   "cell_type": "code",
   "execution_count": 93,
   "id": "5e68893b",
   "metadata": {},
   "outputs": [
    {
     "data": {
      "text/plain": [
       "False"
      ]
     },
     "execution_count": 93,
     "metadata": {},
     "output_type": "execute_result"
    }
   ],
   "source": [
    "bool(False)"
   ]
  },
  {
   "cell_type": "code",
   "execution_count": 94,
   "id": "defd859b",
   "metadata": {},
   "outputs": [
    {
     "data": {
      "text/plain": [
       "False"
      ]
     },
     "execution_count": 94,
     "metadata": {},
     "output_type": "execute_result"
    }
   ],
   "source": [
    "bool(0)"
   ]
  },
  {
   "cell_type": "code",
   "execution_count": 95,
   "id": "6dd26e7d",
   "metadata": {},
   "outputs": [
    {
     "data": {
      "text/plain": [
       "False"
      ]
     },
     "execution_count": 95,
     "metadata": {},
     "output_type": "execute_result"
    }
   ],
   "source": [
    "bool(0.0)"
   ]
  },
  {
   "cell_type": "code",
   "execution_count": 96,
   "id": "f0788f43",
   "metadata": {},
   "outputs": [
    {
     "data": {
      "text/plain": [
       "False"
      ]
     },
     "execution_count": 96,
     "metadata": {},
     "output_type": "execute_result"
    }
   ],
   "source": [
    "bool(None)"
   ]
  },
  {
   "cell_type": "code",
   "execution_count": 97,
   "id": "a4455141",
   "metadata": {},
   "outputs": [
    {
     "data": {
      "text/plain": [
       "False"
      ]
     },
     "execution_count": 97,
     "metadata": {},
     "output_type": "execute_result"
    }
   ],
   "source": [
    "bool(\"\")"
   ]
  },
  {
   "cell_type": "code",
   "execution_count": 98,
   "id": "aa9ea709",
   "metadata": {},
   "outputs": [
    {
     "data": {
      "text/plain": [
       "False"
      ]
     },
     "execution_count": 98,
     "metadata": {},
     "output_type": "execute_result"
    }
   ],
   "source": [
    "bool([])"
   ]
  },
  {
   "cell_type": "code",
   "execution_count": 99,
   "id": "4a747905",
   "metadata": {},
   "outputs": [
    {
     "data": {
      "text/plain": [
       "False"
      ]
     },
     "execution_count": 99,
     "metadata": {},
     "output_type": "execute_result"
    }
   ],
   "source": [
    "bool(())"
   ]
  },
  {
   "cell_type": "code",
   "execution_count": 100,
   "id": "8d49f60e",
   "metadata": {},
   "outputs": [
    {
     "data": {
      "text/plain": [
       "False"
      ]
     },
     "execution_count": 100,
     "metadata": {},
     "output_type": "execute_result"
    }
   ],
   "source": [
    "bool({})"
   ]
  },
  {
   "cell_type": "code",
   "execution_count": 101,
   "id": "15bc64e4",
   "metadata": {},
   "outputs": [
    {
     "data": {
      "text/plain": [
       "False"
      ]
     },
     "execution_count": 101,
     "metadata": {},
     "output_type": "execute_result"
    }
   ],
   "source": [
    "bool(set())"
   ]
  },
  {
   "cell_type": "code",
   "execution_count": 102,
   "id": "caf57c51",
   "metadata": {},
   "outputs": [
    {
     "data": {
      "text/plain": [
       "False"
      ]
     },
     "execution_count": 102,
     "metadata": {},
     "output_type": "execute_result"
    }
   ],
   "source": [
    "bool(range(0))"
   ]
  },
  {
   "cell_type": "code",
   "execution_count": 103,
   "id": "72b7c130",
   "metadata": {},
   "outputs": [
    {
     "data": {
      "text/plain": [
       "True"
      ]
     },
     "execution_count": 103,
     "metadata": {},
     "output_type": "execute_result"
    }
   ],
   "source": [
    "bool(True)"
   ]
  },
  {
   "cell_type": "code",
   "execution_count": 104,
   "id": "29a218bb",
   "metadata": {},
   "outputs": [
    {
     "data": {
      "text/plain": [
       "True"
      ]
     },
     "execution_count": 104,
     "metadata": {},
     "output_type": "execute_result"
    }
   ],
   "source": [
    "bool(1)"
   ]
  },
  {
   "cell_type": "code",
   "execution_count": 105,
   "id": "4ea94453",
   "metadata": {},
   "outputs": [
    {
     "data": {
      "text/plain": [
       "True"
      ]
     },
     "execution_count": 105,
     "metadata": {},
     "output_type": "execute_result"
    }
   ],
   "source": [
    "bool(2.0)"
   ]
  },
  {
   "cell_type": "code",
   "execution_count": 106,
   "id": "8e5cce1c",
   "metadata": {},
   "outputs": [
    {
     "data": {
      "text/plain": [
       "True"
      ]
     },
     "execution_count": 106,
     "metadata": {},
     "output_type": "execute_result"
    }
   ],
   "source": [
    "bool(\"helloii\")"
   ]
  },
  {
   "cell_type": "code",
   "execution_count": 107,
   "id": "01fedecc",
   "metadata": {},
   "outputs": [
    {
     "data": {
      "text/plain": [
       "True"
      ]
     },
     "execution_count": 107,
     "metadata": {},
     "output_type": "execute_result"
    }
   ],
   "source": [
    "bool([1, 2])"
   ]
  },
  {
   "cell_type": "code",
   "execution_count": 108,
   "id": "250eefbb",
   "metadata": {},
   "outputs": [
    {
     "data": {
      "text/plain": [
       "True"
      ]
     },
     "execution_count": 108,
     "metadata": {},
     "output_type": "execute_result"
    }
   ],
   "source": [
    "bool((1,))"
   ]
  },
  {
   "cell_type": "code",
   "execution_count": 109,
   "id": "58eec9b6",
   "metadata": {},
   "outputs": [
    {
     "data": {
      "text/plain": [
       "True"
      ]
     },
     "execution_count": 109,
     "metadata": {},
     "output_type": "execute_result"
    }
   ],
   "source": [
    "bool(range(2))"
   ]
  },
  {
   "cell_type": "code",
   "execution_count": 110,
   "id": "b4635a8a",
   "metadata": {},
   "outputs": [
    {
     "ename": "TypeError",
     "evalue": "'int' object is not iterable",
     "output_type": "error",
     "traceback": [
      "\u001b[1;31m---------------------------------------------------------------------------\u001b[0m",
      "\u001b[1;31mTypeError\u001b[0m                                 Traceback (most recent call last)",
      "\u001b[1;32m~\\AppData\\Local\\Temp\\ipykernel_12148\\965920842.py\u001b[0m in \u001b[0;36m<module>\u001b[1;34m\u001b[0m\n\u001b[1;32m----> 1\u001b[1;33m \u001b[0mbool\u001b[0m\u001b[1;33m(\u001b[0m\u001b[0mset\u001b[0m\u001b[1;33m(\u001b[0m\u001b[1;36m2\u001b[0m\u001b[1;33m)\u001b[0m\u001b[1;33m)\u001b[0m\u001b[1;33m\u001b[0m\u001b[1;33m\u001b[0m\u001b[0m\n\u001b[0m",
      "\u001b[1;31mTypeError\u001b[0m: 'int' object is not iterable"
     ]
    }
   ],
   "source": [
    "bool(set(2))"
   ]
  },
  {
   "cell_type": "code",
   "execution_count": 111,
   "id": "36553838",
   "metadata": {},
   "outputs": [
    {
     "data": {
      "text/plain": [
       "False"
      ]
     },
     "execution_count": 111,
     "metadata": {},
     "output_type": "execute_result"
    }
   ],
   "source": [
    "(1,) == 1"
   ]
  },
  {
   "cell_type": "code",
   "execution_count": 112,
   "id": "ba0c3c73",
   "metadata": {},
   "outputs": [
    {
     "data": {
      "text/plain": [
       "False"
      ]
     },
     "execution_count": 112,
     "metadata": {},
     "output_type": "execute_result"
    }
   ],
   "source": [
    "bool((1,) == 1)"
   ]
  },
  {
   "cell_type": "code",
   "execution_count": 113,
   "id": "60e37fc6",
   "metadata": {},
   "outputs": [],
   "source": [
    "nothing = None"
   ]
  },
  {
   "cell_type": "code",
   "execution_count": 114,
   "id": "61c96cb9",
   "metadata": {},
   "outputs": [
    {
     "data": {
      "text/plain": [
       "NoneType"
      ]
     },
     "execution_count": 114,
     "metadata": {},
     "output_type": "execute_result"
    }
   ],
   "source": [
    "type(nothing)"
   ]
  },
  {
   "cell_type": "markdown",
   "id": "e810214e",
   "metadata": {},
   "source": [
    "# String Data Type"
   ]
  },
  {
   "cell_type": "code",
   "execution_count": 1,
   "id": "d9dd90ba",
   "metadata": {},
   "outputs": [],
   "source": [
    "today = \"Saturday\""
   ]
  },
  {
   "cell_type": "code",
   "execution_count": 2,
   "id": "f9ec645a",
   "metadata": {},
   "outputs": [
    {
     "data": {
      "text/plain": [
       "'Saturday'"
      ]
     },
     "execution_count": 2,
     "metadata": {},
     "output_type": "execute_result"
    }
   ],
   "source": [
    "today"
   ]
  },
  {
   "cell_type": "code",
   "execution_count": 3,
   "id": "72871540",
   "metadata": {},
   "outputs": [
    {
     "data": {
      "text/plain": [
       "str"
      ]
     },
     "execution_count": 3,
     "metadata": {},
     "output_type": "execute_result"
    }
   ],
   "source": [
    "type(today)"
   ]
  },
  {
   "cell_type": "code",
   "execution_count": 4,
   "id": "05bd6f5a",
   "metadata": {},
   "outputs": [],
   "source": [
    "my_fav_movie = \"some movie\""
   ]
  },
  {
   "cell_type": "code",
   "execution_count": 5,
   "id": "13d47dc8",
   "metadata": {},
   "outputs": [
    {
     "data": {
      "text/plain": [
       "'some movie'"
      ]
     },
     "execution_count": 5,
     "metadata": {},
     "output_type": "execute_result"
    }
   ],
   "source": [
    "my_fav_movie"
   ]
  },
  {
   "cell_type": "code",
   "execution_count": 6,
   "id": "a6c54064",
   "metadata": {},
   "outputs": [],
   "source": [
    "my_fav_pun = 'thanks to my \"many\" friends'"
   ]
  },
  {
   "cell_type": "code",
   "execution_count": 7,
   "id": "04f0f567",
   "metadata": {},
   "outputs": [
    {
     "data": {
      "text/plain": [
       "'thanks to my \"many\" friends'"
      ]
     },
     "execution_count": 7,
     "metadata": {},
     "output_type": "execute_result"
    }
   ],
   "source": [
    "my_fav_pun"
   ]
  },
  {
   "cell_type": "code",
   "execution_count": 8,
   "id": "ed272599",
   "metadata": {},
   "outputs": [],
   "source": [
    "my_fav_pun = \"see this \\\"one\\\"\""
   ]
  },
  {
   "cell_type": "code",
   "execution_count": 9,
   "id": "f1a95ef2",
   "metadata": {},
   "outputs": [
    {
     "data": {
      "text/plain": [
       "'see this \"one\"'"
      ]
     },
     "execution_count": 9,
     "metadata": {},
     "output_type": "execute_result"
    }
   ],
   "source": [
    "my_fav_pun"
   ]
  },
  {
   "cell_type": "code",
   "execution_count": 10,
   "id": "dea03786",
   "metadata": {},
   "outputs": [],
   "source": [
    "another = '''Son: hey \"You\"\n",
    "Dad: \"Get out\"'''"
   ]
  },
  {
   "cell_type": "code",
   "execution_count": 11,
   "id": "5fbbb340",
   "metadata": {},
   "outputs": [
    {
     "data": {
      "text/plain": [
       "'Son: hey \"You\"\\nDad: \"Get out\"'"
      ]
     },
     "execution_count": 11,
     "metadata": {},
     "output_type": "execute_result"
    }
   ],
   "source": [
    "another"
   ]
  },
  {
   "cell_type": "code",
   "execution_count": 12,
   "id": "cf0fac40",
   "metadata": {},
   "outputs": [
    {
     "name": "stdout",
     "output_type": "stream",
     "text": [
      "Son: hey \"You\"\n",
      "Dad: \"Get out\"\n"
     ]
    }
   ],
   "source": [
    "print(another)"
   ]
  },
  {
   "cell_type": "code",
   "execution_count": 13,
   "id": "07ea4ab3",
   "metadata": {},
   "outputs": [],
   "source": [
    "some_multiline = \"\"\"\n",
    "hey\n",
    "hi\n",
    "yo\n",
    "yahoo \"no\"\n",
    "\"\"\""
   ]
  },
  {
   "cell_type": "code",
   "execution_count": 14,
   "id": "29cf1610",
   "metadata": {},
   "outputs": [
    {
     "data": {
      "text/plain": [
       "'\\nhey\\nhi\\nyo\\nyahoo \"no\"\\n'"
      ]
     },
     "execution_count": 14,
     "metadata": {},
     "output_type": "execute_result"
    }
   ],
   "source": [
    "some_multiline"
   ]
  },
  {
   "cell_type": "code",
   "execution_count": 15,
   "id": "fb414ec7",
   "metadata": {},
   "outputs": [
    {
     "name": "stdout",
     "output_type": "stream",
     "text": [
      "\n",
      "hey\n",
      "hi\n",
      "yo\n",
      "yahoo \"no\"\n",
      "\n"
     ]
    }
   ],
   "source": [
    "print(some_multiline)"
   ]
  },
  {
   "cell_type": "code",
   "execution_count": 16,
   "id": "bdee0976",
   "metadata": {},
   "outputs": [
    {
     "data": {
      "text/plain": [
       "29"
      ]
     },
     "execution_count": 16,
     "metadata": {},
     "output_type": "execute_result"
    }
   ],
   "source": [
    "len(another)"
   ]
  },
  {
   "cell_type": "code",
   "execution_count": 17,
   "id": "e33042d3",
   "metadata": {},
   "outputs": [],
   "source": [
    "multi_String = \"\"\"a\n",
    "b\n",
    "c\"\"\""
   ]
  },
  {
   "cell_type": "code",
   "execution_count": 18,
   "id": "afa46b52",
   "metadata": {},
   "outputs": [
    {
     "data": {
      "text/plain": [
       "'a\\nb\\nc'"
      ]
     },
     "execution_count": 18,
     "metadata": {},
     "output_type": "execute_result"
    }
   ],
   "source": [
    "multi_String"
   ]
  },
  {
   "cell_type": "code",
   "execution_count": 19,
   "id": "8d76bb53",
   "metadata": {},
   "outputs": [
    {
     "data": {
      "text/plain": [
       "5"
      ]
     },
     "execution_count": 19,
     "metadata": {},
     "output_type": "execute_result"
    }
   ],
   "source": [
    "len(multi_String)"
   ]
  },
  {
   "cell_type": "code",
   "execution_count": 20,
   "id": "31d3c4f5",
   "metadata": {},
   "outputs": [
    {
     "name": "stdout",
     "output_type": "stream",
     "text": [
      "a\n",
      "b\n",
      "c\n"
     ]
    }
   ],
   "source": [
    "print(multi_String)"
   ]
  },
  {
   "cell_type": "markdown",
   "id": "fdba93ee",
   "metadata": {},
   "source": [
    "string to list conversion"
   ]
  },
  {
   "cell_type": "code",
   "execution_count": 21,
   "id": "8f5ed764",
   "metadata": {},
   "outputs": [
    {
     "data": {
      "text/plain": [
       "['a', '\\n', 'b', '\\n', 'c']"
      ]
     },
     "execution_count": 21,
     "metadata": {},
     "output_type": "execute_result"
    }
   ],
   "source": [
    "list(multi_String)"
   ]
  },
  {
   "cell_type": "code",
   "execution_count": 22,
   "id": "1bbf3578",
   "metadata": {},
   "outputs": [
    {
     "data": {
      "text/plain": [
       "'a\\nb\\nc'"
      ]
     },
     "execution_count": 22,
     "metadata": {},
     "output_type": "execute_result"
    }
   ],
   "source": [
    "multi_String"
   ]
  },
  {
   "cell_type": "code",
   "execution_count": 23,
   "id": "a84ee5b8",
   "metadata": {},
   "outputs": [
    {
     "data": {
      "text/plain": [
       "'Saturday'"
      ]
     },
     "execution_count": 23,
     "metadata": {},
     "output_type": "execute_result"
    }
   ],
   "source": [
    "today"
   ]
  },
  {
   "cell_type": "code",
   "execution_count": 24,
   "id": "83b9b96e",
   "metadata": {},
   "outputs": [
    {
     "data": {
      "text/plain": [
       "'S'"
      ]
     },
     "execution_count": 24,
     "metadata": {},
     "output_type": "execute_result"
    }
   ],
   "source": [
    "today[0]"
   ]
  },
  {
   "cell_type": "code",
   "execution_count": 25,
   "id": "ee0f72df",
   "metadata": {},
   "outputs": [
    {
     "data": {
      "text/plain": [
       "'a'"
      ]
     },
     "execution_count": 25,
     "metadata": {},
     "output_type": "execute_result"
    }
   ],
   "source": [
    "today[1]"
   ]
  },
  {
   "cell_type": "code",
   "execution_count": 26,
   "id": "daf79867",
   "metadata": {},
   "outputs": [
    {
     "data": {
      "text/plain": [
       "'t'"
      ]
     },
     "execution_count": 26,
     "metadata": {},
     "output_type": "execute_result"
    }
   ],
   "source": [
    "today[2]"
   ]
  },
  {
   "cell_type": "code",
   "execution_count": 27,
   "id": "06df3a28",
   "metadata": {},
   "outputs": [
    {
     "data": {
      "text/plain": [
       "'u'"
      ]
     },
     "execution_count": 27,
     "metadata": {},
     "output_type": "execute_result"
    }
   ],
   "source": [
    "today[3]"
   ]
  },
  {
   "cell_type": "code",
   "execution_count": 28,
   "id": "ac3b7b42",
   "metadata": {},
   "outputs": [
    {
     "data": {
      "text/plain": [
       "'r'"
      ]
     },
     "execution_count": 28,
     "metadata": {},
     "output_type": "execute_result"
    }
   ],
   "source": [
    "today[4]"
   ]
  },
  {
   "cell_type": "code",
   "execution_count": 29,
   "id": "026aedb8",
   "metadata": {},
   "outputs": [
    {
     "data": {
      "text/plain": [
       "'d'"
      ]
     },
     "execution_count": 29,
     "metadata": {},
     "output_type": "execute_result"
    }
   ],
   "source": [
    "today[5]"
   ]
  },
  {
   "cell_type": "code",
   "execution_count": 30,
   "id": "73a82471",
   "metadata": {},
   "outputs": [
    {
     "data": {
      "text/plain": [
       "'a'"
      ]
     },
     "execution_count": 30,
     "metadata": {},
     "output_type": "execute_result"
    }
   ],
   "source": [
    "today[6]"
   ]
  },
  {
   "cell_type": "code",
   "execution_count": 31,
   "id": "0205a4d1",
   "metadata": {},
   "outputs": [
    {
     "data": {
      "text/plain": [
       "'y'"
      ]
     },
     "execution_count": 31,
     "metadata": {},
     "output_type": "execute_result"
    }
   ],
   "source": [
    "today[7]"
   ]
  },
  {
   "cell_type": "code",
   "execution_count": 32,
   "id": "3f737635",
   "metadata": {},
   "outputs": [
    {
     "ename": "IndexError",
     "evalue": "string index out of range",
     "output_type": "error",
     "traceback": [
      "\u001b[1;31m---------------------------------------------------------------------------\u001b[0m",
      "\u001b[1;31mIndexError\u001b[0m                                Traceback (most recent call last)",
      "\u001b[1;32m~\\AppData\\Local\\Temp\\ipykernel_12100\\1577548248.py\u001b[0m in \u001b[0;36m<module>\u001b[1;34m\u001b[0m\n\u001b[1;32m----> 1\u001b[1;33m \u001b[0mtoday\u001b[0m\u001b[1;33m[\u001b[0m\u001b[1;36m8\u001b[0m\u001b[1;33m]\u001b[0m\u001b[1;33m\u001b[0m\u001b[1;33m\u001b[0m\u001b[0m\n\u001b[0m",
      "\u001b[1;31mIndexError\u001b[0m: string index out of range"
     ]
    }
   ],
   "source": [
    "today[8]"
   ]
  },
  {
   "cell_type": "code",
   "execution_count": 33,
   "id": "6dc727b5",
   "metadata": {},
   "outputs": [
    {
     "data": {
      "text/plain": [
       "'y'"
      ]
     },
     "execution_count": 33,
     "metadata": {},
     "output_type": "execute_result"
    }
   ],
   "source": [
    "today[-1]"
   ]
  },
  {
   "cell_type": "code",
   "execution_count": 34,
   "id": "0bd23864",
   "metadata": {},
   "outputs": [
    {
     "data": {
      "text/plain": [
       "'a'"
      ]
     },
     "execution_count": 34,
     "metadata": {},
     "output_type": "execute_result"
    }
   ],
   "source": [
    "today[-2]"
   ]
  },
  {
   "cell_type": "code",
   "execution_count": 35,
   "id": "c63ad0d8",
   "metadata": {},
   "outputs": [
    {
     "data": {
      "text/plain": [
       "'d'"
      ]
     },
     "execution_count": 35,
     "metadata": {},
     "output_type": "execute_result"
    }
   ],
   "source": [
    "today[-3]"
   ]
  },
  {
   "cell_type": "code",
   "execution_count": 36,
   "id": "619892d5",
   "metadata": {},
   "outputs": [
    {
     "data": {
      "text/plain": [
       "'r'"
      ]
     },
     "execution_count": 36,
     "metadata": {},
     "output_type": "execute_result"
    }
   ],
   "source": [
    "today[-4]"
   ]
  },
  {
   "cell_type": "code",
   "execution_count": 37,
   "id": "b3c3e937",
   "metadata": {},
   "outputs": [
    {
     "data": {
      "text/plain": [
       "'u'"
      ]
     },
     "execution_count": 37,
     "metadata": {},
     "output_type": "execute_result"
    }
   ],
   "source": [
    "today[-5]"
   ]
  },
  {
   "cell_type": "code",
   "execution_count": 38,
   "id": "30d3e653",
   "metadata": {},
   "outputs": [
    {
     "data": {
      "text/plain": [
       "'t'"
      ]
     },
     "execution_count": 38,
     "metadata": {},
     "output_type": "execute_result"
    }
   ],
   "source": [
    "today[-6]"
   ]
  },
  {
   "cell_type": "code",
   "execution_count": 39,
   "id": "8d3f64f3",
   "metadata": {},
   "outputs": [
    {
     "data": {
      "text/plain": [
       "'a'"
      ]
     },
     "execution_count": 39,
     "metadata": {},
     "output_type": "execute_result"
    }
   ],
   "source": [
    "today[-7]"
   ]
  },
  {
   "cell_type": "code",
   "execution_count": 40,
   "id": "c93e5d2b",
   "metadata": {},
   "outputs": [
    {
     "data": {
      "text/plain": [
       "'S'"
      ]
     },
     "execution_count": 40,
     "metadata": {},
     "output_type": "execute_result"
    }
   ],
   "source": [
    "today[-8]"
   ]
  },
  {
   "cell_type": "code",
   "execution_count": 41,
   "id": "ba6e7740",
   "metadata": {},
   "outputs": [
    {
     "ename": "IndexError",
     "evalue": "string index out of range",
     "output_type": "error",
     "traceback": [
      "\u001b[1;31m---------------------------------------------------------------------------\u001b[0m",
      "\u001b[1;31mIndexError\u001b[0m                                Traceback (most recent call last)",
      "\u001b[1;32m~\\AppData\\Local\\Temp\\ipykernel_12100\\3457427596.py\u001b[0m in \u001b[0;36m<module>\u001b[1;34m\u001b[0m\n\u001b[1;32m----> 1\u001b[1;33m \u001b[0mtoday\u001b[0m\u001b[1;33m[\u001b[0m\u001b[1;33m-\u001b[0m\u001b[1;36m9\u001b[0m\u001b[1;33m]\u001b[0m\u001b[1;33m\u001b[0m\u001b[1;33m\u001b[0m\u001b[0m\n\u001b[0m",
      "\u001b[1;31mIndexError\u001b[0m: string index out of range"
     ]
    }
   ],
   "source": [
    "today[-9]"
   ]
  },
  {
   "cell_type": "code",
   "execution_count": 42,
   "id": "ee991d9a",
   "metadata": {},
   "outputs": [
    {
     "data": {
      "text/plain": [
       "'turday'"
      ]
     },
     "execution_count": 42,
     "metadata": {},
     "output_type": "execute_result"
    }
   ],
   "source": [
    "today[2:8]"
   ]
  },
  {
   "cell_type": "code",
   "execution_count": 43,
   "id": "6c091688",
   "metadata": {},
   "outputs": [
    {
     "data": {
      "text/plain": [
       "8"
      ]
     },
     "execution_count": 43,
     "metadata": {},
     "output_type": "execute_result"
    }
   ],
   "source": [
    "len(today)"
   ]
  },
  {
   "cell_type": "code",
   "execution_count": 44,
   "id": "725b760f",
   "metadata": {},
   "outputs": [
    {
     "data": {
      "text/plain": [
       "'Saturda'"
      ]
     },
     "execution_count": 44,
     "metadata": {},
     "output_type": "execute_result"
    }
   ],
   "source": [
    "today[:7]"
   ]
  },
  {
   "cell_type": "code",
   "execution_count": 45,
   "id": "f4e42476",
   "metadata": {},
   "outputs": [
    {
     "data": {
      "text/plain": [
       "'Saturday'"
      ]
     },
     "execution_count": 45,
     "metadata": {},
     "output_type": "execute_result"
    }
   ],
   "source": [
    "today[:8]"
   ]
  },
  {
   "cell_type": "code",
   "execution_count": 46,
   "id": "8808bdcb",
   "metadata": {},
   "outputs": [
    {
     "data": {
      "text/plain": [
       "'urday'"
      ]
     },
     "execution_count": 46,
     "metadata": {},
     "output_type": "execute_result"
    }
   ],
   "source": [
    "today[3:]"
   ]
  },
  {
   "cell_type": "code",
   "execution_count": 47,
   "id": "4a192c55",
   "metadata": {},
   "outputs": [
    {
     "data": {
      "text/plain": [
       "True"
      ]
     },
     "execution_count": 47,
     "metadata": {},
     "output_type": "execute_result"
    }
   ],
   "source": [
    "'ur' in today"
   ]
  },
  {
   "cell_type": "code",
   "execution_count": 48,
   "id": "add7bf7f",
   "metadata": {},
   "outputs": [
    {
     "data": {
      "text/plain": [
       "False"
      ]
     },
     "execution_count": 48,
     "metadata": {},
     "output_type": "execute_result"
    }
   ],
   "source": [
    "'sur' in today"
   ]
  },
  {
   "cell_type": "code",
   "execution_count": 49,
   "id": "e177b674",
   "metadata": {},
   "outputs": [
    {
     "data": {
      "text/plain": [
       "False"
      ]
     },
     "execution_count": 49,
     "metadata": {},
     "output_type": "execute_result"
    }
   ],
   "source": [
    "'sat' in today"
   ]
  },
  {
   "cell_type": "code",
   "execution_count": 50,
   "id": "a4184ffe",
   "metadata": {},
   "outputs": [
    {
     "data": {
      "text/plain": [
       "True"
      ]
     },
     "execution_count": 50,
     "metadata": {},
     "output_type": "execute_result"
    }
   ],
   "source": [
    "'Sat' in today"
   ]
  },
  {
   "cell_type": "code",
   "execution_count": 51,
   "id": "b497ccb8",
   "metadata": {},
   "outputs": [],
   "source": [
    "name = 'eto'"
   ]
  },
  {
   "cell_type": "code",
   "execution_count": 52,
   "id": "fa590a67",
   "metadata": {},
   "outputs": [],
   "source": [
    "greet = 'namaste'"
   ]
  },
  {
   "cell_type": "code",
   "execution_count": 53,
   "id": "3e2a21cd",
   "metadata": {},
   "outputs": [
    {
     "data": {
      "text/plain": [
       "'namasteeto'"
      ]
     },
     "execution_count": 53,
     "metadata": {},
     "output_type": "execute_result"
    }
   ],
   "source": [
    "greet + name"
   ]
  },
  {
   "cell_type": "code",
   "execution_count": 54,
   "id": "209b6a27",
   "metadata": {},
   "outputs": [
    {
     "data": {
      "text/plain": [
       "'namaste eto'"
      ]
     },
     "execution_count": 54,
     "metadata": {},
     "output_type": "execute_result"
    }
   ],
   "source": [
    "greet + ' ' + name"
   ]
  },
  {
   "cell_type": "markdown",
   "id": "4f4acd9f",
   "metadata": {},
   "source": [
    ".lower(), .upper(), .capitalize()"
   ]
  },
  {
   "cell_type": "code",
   "execution_count": 55,
   "id": "8a680047",
   "metadata": {},
   "outputs": [
    {
     "data": {
      "text/plain": [
       "'Saturday'"
      ]
     },
     "execution_count": 55,
     "metadata": {},
     "output_type": "execute_result"
    }
   ],
   "source": [
    "today"
   ]
  },
  {
   "cell_type": "code",
   "execution_count": 56,
   "id": "d8499f24",
   "metadata": {},
   "outputs": [
    {
     "data": {
      "text/plain": [
       "'saturday'"
      ]
     },
     "execution_count": 56,
     "metadata": {},
     "output_type": "execute_result"
    }
   ],
   "source": [
    "today.lower()"
   ]
  },
  {
   "cell_type": "code",
   "execution_count": 57,
   "id": "fd6e2e0e",
   "metadata": {},
   "outputs": [
    {
     "data": {
      "text/plain": [
       "'SATURDAY'"
      ]
     },
     "execution_count": 57,
     "metadata": {},
     "output_type": "execute_result"
    }
   ],
   "source": [
    "today.upper()"
   ]
  },
  {
   "cell_type": "code",
   "execution_count": 58,
   "id": "23181e86",
   "metadata": {},
   "outputs": [],
   "source": [
    "today_a = 'a hen'"
   ]
  },
  {
   "cell_type": "code",
   "execution_count": 59,
   "id": "475184a6",
   "metadata": {},
   "outputs": [
    {
     "data": {
      "text/plain": [
       "'A hen'"
      ]
     },
     "execution_count": 59,
     "metadata": {},
     "output_type": "execute_result"
    }
   ],
   "source": [
    "today_a.capitalize()"
   ]
  },
  {
   "cell_type": "markdown",
   "id": "ce2b0eea",
   "metadata": {},
   "source": [
    "replace"
   ]
  },
  {
   "cell_type": "code",
   "execution_count": 60,
   "id": "0327186b",
   "metadata": {},
   "outputs": [
    {
     "data": {
      "text/plain": [
       "'Saturday'"
      ]
     },
     "execution_count": 60,
     "metadata": {},
     "output_type": "execute_result"
    }
   ],
   "source": [
    "today"
   ]
  },
  {
   "cell_type": "code",
   "execution_count": 61,
   "id": "e57fceab",
   "metadata": {},
   "outputs": [
    {
     "data": {
      "text/plain": [
       "'Sunurday'"
      ]
     },
     "execution_count": 61,
     "metadata": {},
     "output_type": "execute_result"
    }
   ],
   "source": [
    "today.replace('Sat', 'Sun')"
   ]
  },
  {
   "cell_type": "code",
   "execution_count": 62,
   "id": "4e86d485",
   "metadata": {},
   "outputs": [
    {
     "data": {
      "text/plain": [
       "'Saturday'"
      ]
     },
     "execution_count": 62,
     "metadata": {},
     "output_type": "execute_result"
    }
   ],
   "source": [
    "today"
   ]
  },
  {
   "cell_type": "code",
   "execution_count": 63,
   "id": "1a2e4fa3",
   "metadata": {},
   "outputs": [
    {
     "data": {
      "text/plain": [
       "'Sunday'"
      ]
     },
     "execution_count": 63,
     "metadata": {},
     "output_type": "execute_result"
    }
   ],
   "source": [
    "today.replace('Satur', 'Sun')"
   ]
  },
  {
   "cell_type": "markdown",
   "id": "a1a7d027",
   "metadata": {},
   "source": [
    "conversion of string to list splitted with ,"
   ]
  },
  {
   "cell_type": "code",
   "execution_count": 64,
   "id": "dcafe5c1",
   "metadata": {},
   "outputs": [],
   "source": [
    "string = 'a,e,i,o,u'"
   ]
  },
  {
   "cell_type": "code",
   "execution_count": 65,
   "id": "043d3de2",
   "metadata": {},
   "outputs": [
    {
     "data": {
      "text/plain": [
       "['a', 'e', 'i', 'o', 'u']"
      ]
     },
     "execution_count": 65,
     "metadata": {},
     "output_type": "execute_result"
    }
   ],
   "source": [
    "string.split(',')"
   ]
  },
  {
   "cell_type": "markdown",
   "id": "ab469967",
   "metadata": {},
   "source": [
    "conversion of comma separated string to list splitted with \" \""
   ]
  },
  {
   "cell_type": "code",
   "execution_count": 66,
   "id": "20f6dd10",
   "metadata": {},
   "outputs": [
    {
     "data": {
      "text/plain": [
       "['a,e,i,o,u']"
      ]
     },
     "execution_count": 66,
     "metadata": {},
     "output_type": "execute_result"
    }
   ],
   "source": [
    "string.split(' ')"
   ]
  },
  {
   "cell_type": "code",
   "execution_count": 67,
   "id": "8ba9bdb3",
   "metadata": {},
   "outputs": [
    {
     "data": {
      "text/plain": [
       "'a,e,i,o,u'"
      ]
     },
     "execution_count": 67,
     "metadata": {},
     "output_type": "execute_result"
    }
   ],
   "source": [
    "string"
   ]
  },
  {
   "cell_type": "markdown",
   "id": "2d36a1a4",
   "metadata": {},
   "source": [
    "coversion of comma separated string to list separated by $"
   ]
  },
  {
   "cell_type": "code",
   "execution_count": 68,
   "id": "1ebd75da",
   "metadata": {},
   "outputs": [
    {
     "data": {
      "text/plain": [
       "['a,e,i,o,u']"
      ]
     },
     "execution_count": 68,
     "metadata": {},
     "output_type": "execute_result"
    }
   ],
   "source": [
    "string.split('$')"
   ]
  },
  {
   "cell_type": "markdown",
   "id": "0e8aa585",
   "metadata": {},
   "source": [
    "it separates according to the separator and convert to list, so if the string has , and we want to convert it to list and the list items to be which is separated with , in string"
   ]
  },
  {
   "cell_type": "code",
   "execution_count": 69,
   "id": "1b8eee68",
   "metadata": {},
   "outputs": [],
   "source": [
    "string_a = 'a#b#c#d$h$i#h$i$k$k#h'"
   ]
  },
  {
   "cell_type": "code",
   "execution_count": 70,
   "id": "a067c5f2",
   "metadata": {},
   "outputs": [
    {
     "data": {
      "text/plain": [
       "['a', 'b', 'c', 'd$h$i', 'h$i$k$k', 'h']"
      ]
     },
     "execution_count": 70,
     "metadata": {},
     "output_type": "execute_result"
    }
   ],
   "source": [
    "string_a.split('#')"
   ]
  },
  {
   "cell_type": "code",
   "execution_count": 71,
   "id": "23fb28b7",
   "metadata": {},
   "outputs": [
    {
     "data": {
      "text/plain": [
       "['a,e,i,o,u']"
      ]
     },
     "execution_count": 71,
     "metadata": {},
     "output_type": "execute_result"
    }
   ],
   "source": [
    "string.split('$')"
   ]
  },
  {
   "cell_type": "code",
   "execution_count": 72,
   "id": "5daf46ad",
   "metadata": {},
   "outputs": [
    {
     "data": {
      "text/plain": [
       "['a#b#c#d', 'h', 'i#h', 'i', 'k', 'k#h']"
      ]
     },
     "execution_count": 72,
     "metadata": {},
     "output_type": "execute_result"
    }
   ],
   "source": [
    "string_a.split('$')"
   ]
  },
  {
   "cell_type": "markdown",
   "id": "7c0fee1b",
   "metadata": {},
   "source": [
    ".strip function removed white spaces at the beginning and at the end"
   ]
  },
  {
   "cell_type": "code",
   "execution_count": 73,
   "id": "7ea61df1",
   "metadata": {},
   "outputs": [],
   "source": [
    "some_str = \"    hellp    is     ther   any space                     \""
   ]
  },
  {
   "cell_type": "code",
   "execution_count": 74,
   "id": "03f6b1ec",
   "metadata": {},
   "outputs": [
    {
     "data": {
      "text/plain": [
       "'    hellp    is     ther   any space                     '"
      ]
     },
     "execution_count": 74,
     "metadata": {},
     "output_type": "execute_result"
    }
   ],
   "source": [
    "some_str"
   ]
  },
  {
   "cell_type": "code",
   "execution_count": 75,
   "id": "8f9e1598",
   "metadata": {},
   "outputs": [
    {
     "data": {
      "text/plain": [
       "'hellp    is     ther   any space'"
      ]
     },
     "execution_count": 75,
     "metadata": {},
     "output_type": "execute_result"
    }
   ],
   "source": [
    "some_str.strip()"
   ]
  },
  {
   "cell_type": "markdown",
   "id": "ecd1d3fb",
   "metadata": {},
   "source": [
    ".format() combines values of other data types with strings, used to construc output messages for display"
   ]
  },
  {
   "cell_type": "code",
   "execution_count": 76,
   "id": "480f8a4d",
   "metadata": {},
   "outputs": [],
   "source": [
    "first = 'I'"
   ]
  },
  {
   "cell_type": "code",
   "execution_count": 77,
   "id": "6b77cc8f",
   "metadata": {},
   "outputs": [],
   "source": [
    "middle = 'Love'"
   ]
  },
  {
   "cell_type": "code",
   "execution_count": 78,
   "id": "387c6671",
   "metadata": {},
   "outputs": [],
   "source": [
    "last = 'You'"
   ]
  },
  {
   "cell_type": "code",
   "execution_count": 95,
   "id": "29b00c07",
   "metadata": {},
   "outputs": [],
   "source": [
    "display = \"\"\"He said once {} are his enemy\n",
    "then he said {} am his enemy\n",
    "then he said {} {} {}\n",
    "\"\"\""
   ]
  },
  {
   "cell_type": "code",
   "execution_count": 104,
   "id": "c2dc2161",
   "metadata": {},
   "outputs": [],
   "source": [
    "new = display.format(last, first, first, middle, last*30)"
   ]
  },
  {
   "cell_type": "code",
   "execution_count": 105,
   "id": "7b74cc35",
   "metadata": {},
   "outputs": [
    {
     "name": "stdout",
     "output_type": "stream",
     "text": [
      "He said once You are his enemy\n",
      "then he said I am his enemy\n",
      "then he said I Love YouYouYouYouYouYouYouYouYouYouYouYouYouYouYouYouYouYouYouYouYouYouYouYouYouYouYouYouYouYou\n",
      "\n"
     ]
    }
   ],
   "source": [
    "print(new)"
   ]
  },
  {
   "cell_type": "markdown",
   "id": "82a623f1",
   "metadata": {},
   "source": [
    "convert int to string"
   ]
  },
  {
   "cell_type": "code",
   "execution_count": 106,
   "id": "e55a0747",
   "metadata": {},
   "outputs": [
    {
     "data": {
      "text/plain": [
       "'100'"
      ]
     },
     "execution_count": 106,
     "metadata": {},
     "output_type": "execute_result"
    }
   ],
   "source": [
    "str(100)"
   ]
  },
  {
   "cell_type": "code",
   "execution_count": 107,
   "id": "a3f20ddf",
   "metadata": {},
   "outputs": [],
   "source": [
    "a = str(32)"
   ]
  },
  {
   "cell_type": "code",
   "execution_count": 108,
   "id": "74b29f09",
   "metadata": {},
   "outputs": [
    {
     "data": {
      "text/plain": [
       "str"
      ]
     },
     "execution_count": 108,
     "metadata": {},
     "output_type": "execute_result"
    }
   ],
   "source": [
    "type(a)"
   ]
  },
  {
   "cell_type": "code",
   "execution_count": 109,
   "id": "680a9192",
   "metadata": {},
   "outputs": [],
   "source": [
    "b = str(10.1)"
   ]
  },
  {
   "cell_type": "code",
   "execution_count": 110,
   "id": "a12e1eda",
   "metadata": {},
   "outputs": [
    {
     "data": {
      "text/plain": [
       "str"
      ]
     },
     "execution_count": 110,
     "metadata": {},
     "output_type": "execute_result"
    }
   ],
   "source": [
    "type(b)"
   ]
  },
  {
   "cell_type": "code",
   "execution_count": 111,
   "id": "411b2cb9",
   "metadata": {},
   "outputs": [
    {
     "data": {
      "text/plain": [
       "'False'"
      ]
     },
     "execution_count": 111,
     "metadata": {},
     "output_type": "execute_result"
    }
   ],
   "source": [
    "str(False)"
   ]
  },
  {
   "cell_type": "code",
   "execution_count": 112,
   "id": "3356c2b9",
   "metadata": {},
   "outputs": [],
   "source": [
    "c = str(True)"
   ]
  },
  {
   "cell_type": "code",
   "execution_count": 113,
   "id": "e834ca72",
   "metadata": {},
   "outputs": [
    {
     "data": {
      "text/plain": [
       "str"
      ]
     },
     "execution_count": 113,
     "metadata": {},
     "output_type": "execute_result"
    }
   ],
   "source": [
    "type(c)"
   ]
  },
  {
   "cell_type": "code",
   "execution_count": 114,
   "id": "3b02a10f",
   "metadata": {},
   "outputs": [
    {
     "data": {
      "text/plain": [
       "'True'"
      ]
     },
     "execution_count": 114,
     "metadata": {},
     "output_type": "execute_result"
    }
   ],
   "source": [
    "c"
   ]
  },
  {
   "cell_type": "markdown",
   "id": "669b88c7",
   "metadata": {},
   "source": [
    "# List Data Type"
   ]
  },
  {
   "cell_type": "markdown",
   "id": "dd5e909c",
   "metadata": {},
   "source": [
    "it is an ordered collection of values"
   ]
  },
  {
   "cell_type": "markdown",
   "id": "5b94c240",
   "metadata": {},
   "source": [
    "* can hold values of different data types\n",
    "* supports operations \n",
    "    1. add \n",
    "    2. remove \n",
    "    3. change values\n",
    "* values within [], separated by commas"
   ]
  },
  {
   "cell_type": "code",
   "execution_count": 115,
   "id": "35c217cc",
   "metadata": {},
   "outputs": [],
   "source": [
    "players = ['sachin', 'srinath', 'balaji']"
   ]
  },
  {
   "cell_type": "code",
   "execution_count": 116,
   "id": "30491962",
   "metadata": {},
   "outputs": [
    {
     "data": {
      "text/plain": [
       "['sachin', 'srinath', 'balaji']"
      ]
     },
     "execution_count": 116,
     "metadata": {},
     "output_type": "execute_result"
    }
   ],
   "source": [
    "players"
   ]
  },
  {
   "cell_type": "code",
   "execution_count": 117,
   "id": "8bc499cd",
   "metadata": {},
   "outputs": [
    {
     "data": {
      "text/plain": [
       "list"
      ]
     },
     "execution_count": 117,
     "metadata": {},
     "output_type": "execute_result"
    }
   ],
   "source": [
    "type(players)"
   ]
  },
  {
   "cell_type": "code",
   "execution_count": 118,
   "id": "788648db",
   "metadata": {},
   "outputs": [],
   "source": [
    "list_with_diff_data_types_as_values = [1, 2.3, True, None, 'a' == 'b', 'no']"
   ]
  },
  {
   "cell_type": "code",
   "execution_count": 119,
   "id": "463c3fe1",
   "metadata": {},
   "outputs": [
    {
     "data": {
      "text/plain": [
       "[1, 2.3, True, None, False, 'no']"
      ]
     },
     "execution_count": 119,
     "metadata": {},
     "output_type": "execute_result"
    }
   ],
   "source": [
    "list_with_diff_data_types_as_values"
   ]
  },
  {
   "cell_type": "code",
   "execution_count": 120,
   "id": "5f352c70",
   "metadata": {},
   "outputs": [],
   "source": [
    "empty_list = []"
   ]
  },
  {
   "cell_type": "code",
   "execution_count": 121,
   "id": "89acfc83",
   "metadata": {},
   "outputs": [
    {
     "data": {
      "text/plain": [
       "[]"
      ]
     },
     "execution_count": 121,
     "metadata": {},
     "output_type": "execute_result"
    }
   ],
   "source": [
    "empty_list"
   ]
  },
  {
   "cell_type": "code",
   "execution_count": 122,
   "id": "c7191361",
   "metadata": {},
   "outputs": [
    {
     "data": {
      "text/plain": [
       "0"
      ]
     },
     "execution_count": 122,
     "metadata": {},
     "output_type": "execute_result"
    }
   ],
   "source": [
    "len(empty_list)"
   ]
  },
  {
   "cell_type": "code",
   "execution_count": 123,
   "id": "8ff76f17",
   "metadata": {},
   "outputs": [
    {
     "data": {
      "text/plain": [
       "6"
      ]
     },
     "execution_count": 123,
     "metadata": {},
     "output_type": "execute_result"
    }
   ],
   "source": [
    "len(list_with_diff_data_types_as_values)"
   ]
  },
  {
   "cell_type": "code",
   "execution_count": 124,
   "id": "a303dcc4",
   "metadata": {},
   "outputs": [
    {
     "data": {
      "text/plain": [
       "'sachin'"
      ]
     },
     "execution_count": 124,
     "metadata": {},
     "output_type": "execute_result"
    }
   ],
   "source": [
    "players[0]"
   ]
  },
  {
   "cell_type": "code",
   "execution_count": 125,
   "id": "cbf84a2c",
   "metadata": {},
   "outputs": [
    {
     "data": {
      "text/plain": [
       "'srinath'"
      ]
     },
     "execution_count": 125,
     "metadata": {},
     "output_type": "execute_result"
    }
   ],
   "source": [
    "players[1]"
   ]
  },
  {
   "cell_type": "code",
   "execution_count": 126,
   "id": "08df9461",
   "metadata": {},
   "outputs": [
    {
     "data": {
      "text/plain": [
       "'balaji'"
      ]
     },
     "execution_count": 126,
     "metadata": {},
     "output_type": "execute_result"
    }
   ],
   "source": [
    "players[2]"
   ]
  },
  {
   "cell_type": "code",
   "execution_count": 127,
   "id": "7264d188",
   "metadata": {},
   "outputs": [
    {
     "ename": "IndexError",
     "evalue": "list index out of range",
     "output_type": "error",
     "traceback": [
      "\u001b[1;31m---------------------------------------------------------------------------\u001b[0m",
      "\u001b[1;31mIndexError\u001b[0m                                Traceback (most recent call last)",
      "\u001b[1;32m~\\AppData\\Local\\Temp\\ipykernel_12100\\1530186158.py\u001b[0m in \u001b[0;36m<module>\u001b[1;34m\u001b[0m\n\u001b[1;32m----> 1\u001b[1;33m \u001b[0mplayers\u001b[0m\u001b[1;33m[\u001b[0m\u001b[1;36m3\u001b[0m\u001b[1;33m]\u001b[0m\u001b[1;33m\u001b[0m\u001b[1;33m\u001b[0m\u001b[0m\n\u001b[0m",
      "\u001b[1;31mIndexError\u001b[0m: list index out of range"
     ]
    }
   ],
   "source": [
    "players[3]"
   ]
  },
  {
   "cell_type": "code",
   "execution_count": 128,
   "id": "13e40b42",
   "metadata": {},
   "outputs": [
    {
     "data": {
      "text/plain": [
       "'balaji'"
      ]
     },
     "execution_count": 128,
     "metadata": {},
     "output_type": "execute_result"
    }
   ],
   "source": [
    "players[-1]"
   ]
  },
  {
   "cell_type": "code",
   "execution_count": 129,
   "id": "c1bd3245",
   "metadata": {},
   "outputs": [
    {
     "data": {
      "text/plain": [
       "'srinath'"
      ]
     },
     "execution_count": 129,
     "metadata": {},
     "output_type": "execute_result"
    }
   ],
   "source": [
    "players[-2]"
   ]
  },
  {
   "cell_type": "code",
   "execution_count": 130,
   "id": "41c45459",
   "metadata": {},
   "outputs": [
    {
     "data": {
      "text/plain": [
       "'sachin'"
      ]
     },
     "execution_count": 130,
     "metadata": {},
     "output_type": "execute_result"
    }
   ],
   "source": [
    "players[-3]"
   ]
  },
  {
   "cell_type": "code",
   "execution_count": 131,
   "id": "6965475e",
   "metadata": {},
   "outputs": [
    {
     "ename": "IndexError",
     "evalue": "list index out of range",
     "output_type": "error",
     "traceback": [
      "\u001b[1;31m---------------------------------------------------------------------------\u001b[0m",
      "\u001b[1;31mIndexError\u001b[0m                                Traceback (most recent call last)",
      "\u001b[1;32m~\\AppData\\Local\\Temp\\ipykernel_12100\\2367801875.py\u001b[0m in \u001b[0;36m<module>\u001b[1;34m\u001b[0m\n\u001b[1;32m----> 1\u001b[1;33m \u001b[0mplayers\u001b[0m\u001b[1;33m[\u001b[0m\u001b[1;33m-\u001b[0m\u001b[1;36m4\u001b[0m\u001b[1;33m]\u001b[0m\u001b[1;33m\u001b[0m\u001b[1;33m\u001b[0m\u001b[0m\n\u001b[0m",
      "\u001b[1;31mIndexError\u001b[0m: list index out of range"
     ]
    }
   ],
   "source": [
    "players[-4]"
   ]
  },
  {
   "cell_type": "code",
   "execution_count": 132,
   "id": "048989f1",
   "metadata": {},
   "outputs": [],
   "source": [
    "new_list = [players, 'some', 1, 3/4, list_with_diff_data_types_as_values]"
   ]
  },
  {
   "cell_type": "code",
   "execution_count": 133,
   "id": "a91537ed",
   "metadata": {},
   "outputs": [
    {
     "data": {
      "text/plain": [
       "[['sachin', 'srinath', 'balaji'],\n",
       " 'some',\n",
       " 1,\n",
       " 0.75,\n",
       " [1, 2.3, True, None, False, 'no']]"
      ]
     },
     "execution_count": 133,
     "metadata": {},
     "output_type": "execute_result"
    }
   ],
   "source": [
    "new_list"
   ]
  },
  {
   "cell_type": "code",
   "execution_count": 134,
   "id": "d4ce4ae5",
   "metadata": {},
   "outputs": [
    {
     "data": {
      "text/plain": [
       "5"
      ]
     },
     "execution_count": 134,
     "metadata": {},
     "output_type": "execute_result"
    }
   ],
   "source": [
    "len(new_list)"
   ]
  },
  {
   "cell_type": "code",
   "execution_count": 135,
   "id": "b29801b5",
   "metadata": {},
   "outputs": [
    {
     "data": {
      "text/plain": [
       "['sachin', 'srinath', 'balaji']"
      ]
     },
     "execution_count": 135,
     "metadata": {},
     "output_type": "execute_result"
    }
   ],
   "source": [
    "new_list[0]"
   ]
  },
  {
   "cell_type": "code",
   "execution_count": 136,
   "id": "b8ea4ef3",
   "metadata": {},
   "outputs": [
    {
     "data": {
      "text/plain": [
       "'some'"
      ]
     },
     "execution_count": 136,
     "metadata": {},
     "output_type": "execute_result"
    }
   ],
   "source": [
    "new_list[1]"
   ]
  },
  {
   "cell_type": "code",
   "execution_count": 137,
   "id": "e388ed92",
   "metadata": {},
   "outputs": [
    {
     "data": {
      "text/plain": [
       "[['sachin', 'srinath', 'balaji'], 'some']"
      ]
     },
     "execution_count": 137,
     "metadata": {},
     "output_type": "execute_result"
    }
   ],
   "source": [
    "new_list[:2]"
   ]
  },
  {
   "cell_type": "code",
   "execution_count": 138,
   "id": "37fff511",
   "metadata": {},
   "outputs": [
    {
     "data": {
      "text/plain": [
       "['some', 1]"
      ]
     },
     "execution_count": 138,
     "metadata": {},
     "output_type": "execute_result"
    }
   ],
   "source": [
    "new_list[1:3]"
   ]
  },
  {
   "cell_type": "code",
   "execution_count": 139,
   "id": "46211f60",
   "metadata": {},
   "outputs": [
    {
     "data": {
      "text/plain": [
       "[1, 0.75, [1, 2.3, True, None, False, 'no']]"
      ]
     },
     "execution_count": 139,
     "metadata": {},
     "output_type": "execute_result"
    }
   ],
   "source": [
    "new_list[2:]"
   ]
  },
  {
   "cell_type": "code",
   "execution_count": 140,
   "id": "0f379bcf",
   "metadata": {},
   "outputs": [
    {
     "data": {
      "text/plain": [
       "['some', 1, 0.75, [1, 2.3, True, None, False, 'no']]"
      ]
     },
     "execution_count": 140,
     "metadata": {},
     "output_type": "execute_result"
    }
   ],
   "source": [
    "new_list[1:6]"
   ]
  },
  {
   "cell_type": "code",
   "execution_count": 141,
   "id": "2728dc8d",
   "metadata": {},
   "outputs": [
    {
     "data": {
      "text/plain": [
       "['some', 1, 0.75, [1, 2.3, True, None, False, 'no']]"
      ]
     },
     "execution_count": 141,
     "metadata": {},
     "output_type": "execute_result"
    }
   ],
   "source": [
    "new_list[1:7]"
   ]
  },
  {
   "cell_type": "code",
   "execution_count": 142,
   "id": "656e9ac5",
   "metadata": {},
   "outputs": [
    {
     "data": {
      "text/plain": [
       "['some', 1, 0.75, [1, 2.3, True, None, False, 'no']]"
      ]
     },
     "execution_count": 142,
     "metadata": {},
     "output_type": "execute_result"
    }
   ],
   "source": [
    "new_list[1:111]"
   ]
  },
  {
   "cell_type": "code",
   "execution_count": 143,
   "id": "914f4af3",
   "metadata": {},
   "outputs": [
    {
     "data": {
      "text/plain": [
       "[]"
      ]
     },
     "execution_count": 143,
     "metadata": {},
     "output_type": "execute_result"
    }
   ],
   "source": [
    "new_list[8: 12]"
   ]
  },
  {
   "cell_type": "code",
   "execution_count": 144,
   "id": "0f489fbf",
   "metadata": {},
   "outputs": [
    {
     "data": {
      "text/plain": [
       "[]"
      ]
     },
     "execution_count": 144,
     "metadata": {},
     "output_type": "execute_result"
    }
   ],
   "source": [
    "new_list[8: 5]"
   ]
  },
  {
   "cell_type": "code",
   "execution_count": 145,
   "id": "c41580a2",
   "metadata": {},
   "outputs": [
    {
     "data": {
      "text/plain": [
       "[]"
      ]
     },
     "execution_count": 145,
     "metadata": {},
     "output_type": "execute_result"
    }
   ],
   "source": [
    "new_list[-1: -4]"
   ]
  },
  {
   "cell_type": "code",
   "execution_count": 146,
   "id": "a86980cb",
   "metadata": {},
   "outputs": [
    {
     "data": {
      "text/plain": [
       "[['sachin', 'srinath', 'balaji'],\n",
       " 'some',\n",
       " 1,\n",
       " 0.75,\n",
       " [1, 2.3, True, None, False, 'no']]"
      ]
     },
     "execution_count": 146,
     "metadata": {},
     "output_type": "execute_result"
    }
   ],
   "source": [
    "new_list"
   ]
  },
  {
   "cell_type": "code",
   "execution_count": 147,
   "id": "281e9833",
   "metadata": {},
   "outputs": [
    {
     "data": {
      "text/plain": [
       "[]"
      ]
     },
     "execution_count": 147,
     "metadata": {},
     "output_type": "execute_result"
    }
   ],
   "source": [
    "new_list[-1:-3]"
   ]
  },
  {
   "cell_type": "code",
   "execution_count": 148,
   "id": "e6c303a0",
   "metadata": {},
   "outputs": [
    {
     "data": {
      "text/plain": [
       "1"
      ]
     },
     "execution_count": 148,
     "metadata": {},
     "output_type": "execute_result"
    }
   ],
   "source": [
    "new_list[-3]"
   ]
  },
  {
   "cell_type": "code",
   "execution_count": 149,
   "id": "756499a2",
   "metadata": {},
   "outputs": [
    {
     "ename": "NameError",
     "evalue": "name 'player' is not defined",
     "output_type": "error",
     "traceback": [
      "\u001b[1;31m---------------------------------------------------------------------------\u001b[0m",
      "\u001b[1;31mNameError\u001b[0m                                 Traceback (most recent call last)",
      "\u001b[1;32m~\\AppData\\Local\\Temp\\ipykernel_12100\\1762578767.py\u001b[0m in \u001b[0;36m<module>\u001b[1;34m\u001b[0m\n\u001b[1;32m----> 1\u001b[1;33m \u001b[0mplayer\u001b[0m\u001b[1;33m\u001b[0m\u001b[1;33m\u001b[0m\u001b[0m\n\u001b[0m",
      "\u001b[1;31mNameError\u001b[0m: name 'player' is not defined"
     ]
    }
   ],
   "source": [
    "player"
   ]
  },
  {
   "cell_type": "code",
   "execution_count": 150,
   "id": "e7595d5d",
   "metadata": {},
   "outputs": [
    {
     "data": {
      "text/plain": [
       "['sachin', 'srinath', 'balaji']"
      ]
     },
     "execution_count": 150,
     "metadata": {},
     "output_type": "execute_result"
    }
   ],
   "source": [
    "players"
   ]
  },
  {
   "cell_type": "code",
   "execution_count": 151,
   "id": "bb147f6e",
   "metadata": {},
   "outputs": [],
   "source": [
    "players[1] = 'Zaheer Khan'"
   ]
  },
  {
   "cell_type": "code",
   "execution_count": 152,
   "id": "b8e0348e",
   "metadata": {},
   "outputs": [
    {
     "data": {
      "text/plain": [
       "['sachin', 'Zaheer Khan', 'balaji']"
      ]
     },
     "execution_count": 152,
     "metadata": {},
     "output_type": "execute_result"
    }
   ],
   "source": [
    "players"
   ]
  },
  {
   "cell_type": "markdown",
   "id": "ebb65f52",
   "metadata": {},
   "source": [
    "A new value can be added at the end of the list byusing append method"
   ]
  },
  {
   "cell_type": "code",
   "execution_count": 153,
   "id": "6775541c",
   "metadata": {},
   "outputs": [],
   "source": [
    "players.append('Sourav Ganguly')"
   ]
  },
  {
   "cell_type": "code",
   "execution_count": 154,
   "id": "1b5fe592",
   "metadata": {},
   "outputs": [
    {
     "data": {
      "text/plain": [
       "['sachin', 'Zaheer Khan', 'balaji', 'Sourav Ganguly']"
      ]
     },
     "execution_count": 154,
     "metadata": {},
     "output_type": "execute_result"
    }
   ],
   "source": [
    "players"
   ]
  },
  {
   "cell_type": "markdown",
   "id": "a9ccce38",
   "metadata": {},
   "source": [
    "a new value can be inserted at the specific index in the list by insert method"
   ]
  },
  {
   "cell_type": "code",
   "execution_count": 155,
   "id": "6be86f85",
   "metadata": {},
   "outputs": [],
   "source": [
    "players.insert(1, 'Gautam Gambhir')"
   ]
  },
  {
   "cell_type": "code",
   "execution_count": 156,
   "id": "756b9134",
   "metadata": {},
   "outputs": [
    {
     "data": {
      "text/plain": [
       "['sachin', 'Gautam Gambhir', 'Zaheer Khan', 'balaji', 'Sourav Ganguly']"
      ]
     },
     "execution_count": 156,
     "metadata": {},
     "output_type": "execute_result"
    }
   ],
   "source": [
    "players"
   ]
  },
  {
   "cell_type": "markdown",
   "id": "914057cf",
   "metadata": {},
   "source": [
    "a value from list can be removed with remove methd"
   ]
  },
  {
   "cell_type": "code",
   "execution_count": 157,
   "id": "4e0a019f",
   "metadata": {},
   "outputs": [],
   "source": [
    "players.remove('balaji')"
   ]
  },
  {
   "cell_type": "code",
   "execution_count": 158,
   "id": "665d2bb9",
   "metadata": {},
   "outputs": [
    {
     "data": {
      "text/plain": [
       "['sachin', 'Gautam Gambhir', 'Zaheer Khan', 'Sourav Ganguly']"
      ]
     },
     "execution_count": 158,
     "metadata": {},
     "output_type": "execute_result"
    }
   ],
   "source": [
    "players"
   ]
  },
  {
   "cell_type": "code",
   "execution_count": 159,
   "id": "d2aee0a9",
   "metadata": {},
   "outputs": [
    {
     "ename": "TypeError",
     "evalue": "list.remove() takes exactly one argument (2 given)",
     "output_type": "error",
     "traceback": [
      "\u001b[1;31m---------------------------------------------------------------------------\u001b[0m",
      "\u001b[1;31mTypeError\u001b[0m                                 Traceback (most recent call last)",
      "\u001b[1;32m~\\AppData\\Local\\Temp\\ipykernel_12100\\782196516.py\u001b[0m in \u001b[0;36m<module>\u001b[1;34m\u001b[0m\n\u001b[1;32m----> 1\u001b[1;33m \u001b[0mplayers\u001b[0m\u001b[1;33m.\u001b[0m\u001b[0mremove\u001b[0m\u001b[1;33m(\u001b[0m\u001b[1;34m'Zaheer Khan'\u001b[0m\u001b[1;33m,\u001b[0m \u001b[1;34m'sachin'\u001b[0m\u001b[1;33m)\u001b[0m\u001b[1;33m\u001b[0m\u001b[1;33m\u001b[0m\u001b[0m\n\u001b[0m",
      "\u001b[1;31mTypeError\u001b[0m: list.remove() takes exactly one argument (2 given)"
     ]
    }
   ],
   "source": [
    "players.remove('Zaheer Khan', 'sachin')"
   ]
  },
  {
   "cell_type": "markdown",
   "id": "0ce988b1",
   "metadata": {},
   "source": [
    "specific list items can be removed with pop method, it returns removed element"
   ]
  },
  {
   "cell_type": "code",
   "execution_count": 160,
   "id": "f0120405",
   "metadata": {},
   "outputs": [
    {
     "ename": "TypeError",
     "evalue": "'str' object cannot be interpreted as an integer",
     "output_type": "error",
     "traceback": [
      "\u001b[1;31m---------------------------------------------------------------------------\u001b[0m",
      "\u001b[1;31mTypeError\u001b[0m                                 Traceback (most recent call last)",
      "\u001b[1;32m~\\AppData\\Local\\Temp\\ipykernel_12100\\918359995.py\u001b[0m in \u001b[0;36m<module>\u001b[1;34m\u001b[0m\n\u001b[1;32m----> 1\u001b[1;33m \u001b[0mplayers\u001b[0m\u001b[1;33m.\u001b[0m\u001b[0mpop\u001b[0m\u001b[1;33m(\u001b[0m\u001b[1;34m'sachin'\u001b[0m\u001b[1;33m)\u001b[0m\u001b[1;33m\u001b[0m\u001b[1;33m\u001b[0m\u001b[0m\n\u001b[0m",
      "\u001b[1;31mTypeError\u001b[0m: 'str' object cannot be interpreted as an integer"
     ]
    }
   ],
   "source": [
    "players.pop('sachin')"
   ]
  },
  {
   "cell_type": "code",
   "execution_count": 161,
   "id": "389c606a",
   "metadata": {},
   "outputs": [
    {
     "data": {
      "text/plain": [
       "['sachin', 'Gautam Gambhir', 'Zaheer Khan', 'Sourav Ganguly']"
      ]
     },
     "execution_count": 161,
     "metadata": {},
     "output_type": "execute_result"
    }
   ],
   "source": [
    "players"
   ]
  },
  {
   "cell_type": "code",
   "execution_count": 162,
   "id": "405da2a8",
   "metadata": {},
   "outputs": [
    {
     "data": {
      "text/plain": [
       "'sachin'"
      ]
     },
     "execution_count": 162,
     "metadata": {},
     "output_type": "execute_result"
    }
   ],
   "source": [
    "players.pop(0)"
   ]
  },
  {
   "cell_type": "code",
   "execution_count": 163,
   "id": "dd9a3ff7",
   "metadata": {},
   "outputs": [
    {
     "data": {
      "text/plain": [
       "['Gautam Gambhir', 'Zaheer Khan', 'Sourav Ganguly']"
      ]
     },
     "execution_count": 163,
     "metadata": {},
     "output_type": "execute_result"
    }
   ],
   "source": [
    "players"
   ]
  },
  {
   "cell_type": "markdown",
   "id": "4b6f1cc0",
   "metadata": {},
   "source": [
    "if  no index is provided as an argument of pop method, it removes the last list item"
   ]
  },
  {
   "cell_type": "code",
   "execution_count": 164,
   "id": "6302f545",
   "metadata": {},
   "outputs": [
    {
     "data": {
      "text/plain": [
       "'Sourav Ganguly'"
      ]
     },
     "execution_count": 164,
     "metadata": {},
     "output_type": "execute_result"
    }
   ],
   "source": [
    "players.pop()"
   ]
  },
  {
   "cell_type": "code",
   "execution_count": 165,
   "id": "aae12740",
   "metadata": {},
   "outputs": [
    {
     "data": {
      "text/plain": [
       "['Gautam Gambhir', 'Zaheer Khan']"
      ]
     },
     "execution_count": 165,
     "metadata": {},
     "output_type": "execute_result"
    }
   ],
   "source": [
    "players"
   ]
  },
  {
   "cell_type": "markdown",
   "id": "48695d5b",
   "metadata": {},
   "source": [
    "we can use in operator to check if a specific value is present in list or not"
   ]
  },
  {
   "cell_type": "code",
   "execution_count": 166,
   "id": "2ca9ced3",
   "metadata": {},
   "outputs": [
    {
     "data": {
      "text/plain": [
       "False"
      ]
     },
     "execution_count": 166,
     "metadata": {},
     "output_type": "execute_result"
    }
   ],
   "source": [
    "'sachin' in players"
   ]
  },
  {
   "cell_type": "code",
   "execution_count": 167,
   "id": "2dbba72f",
   "metadata": {},
   "outputs": [
    {
     "data": {
      "text/plain": [
       "True"
      ]
     },
     "execution_count": 167,
     "metadata": {},
     "output_type": "execute_result"
    }
   ],
   "source": [
    "'Gautam Gambhir' in players"
   ]
  },
  {
   "cell_type": "markdown",
   "id": "ed3cce22",
   "metadata": {},
   "source": [
    "we can concatenate multiple lists with + operator"
   ]
  },
  {
   "cell_type": "code",
   "execution_count": 168,
   "id": "e70fd152",
   "metadata": {},
   "outputs": [],
   "source": [
    "bowlers = ['agarkar', 'balaji']"
   ]
  },
  {
   "cell_type": "code",
   "execution_count": 169,
   "id": "b2559729",
   "metadata": {},
   "outputs": [
    {
     "ename": "TypeError",
     "evalue": "can only concatenate list (not \"str\") to list",
     "output_type": "error",
     "traceback": [
      "\u001b[1;31m---------------------------------------------------------------------------\u001b[0m",
      "\u001b[1;31mTypeError\u001b[0m                                 Traceback (most recent call last)",
      "\u001b[1;32m~\\AppData\\Local\\Temp\\ipykernel_12100\\2731400425.py\u001b[0m in \u001b[0;36m<module>\u001b[1;34m\u001b[0m\n\u001b[1;32m----> 1\u001b[1;33m \u001b[0mplayers\u001b[0m \u001b[1;33m+\u001b[0m \u001b[0mbowlers\u001b[0m \u001b[1;33m+\u001b[0m \u001b[1;34m'srinath'\u001b[0m\u001b[1;33m\u001b[0m\u001b[1;33m\u001b[0m\u001b[0m\n\u001b[0m",
      "\u001b[1;31mTypeError\u001b[0m: can only concatenate list (not \"str\") to list"
     ]
    }
   ],
   "source": [
    "players + bowlers + 'srinath'"
   ]
  },
  {
   "cell_type": "code",
   "execution_count": 170,
   "id": "78e64b52",
   "metadata": {},
   "outputs": [
    {
     "ename": "SyntaxError",
     "evalue": "invalid syntax (2422521798.py, line 1)",
     "output_type": "error",
     "traceback": [
      "\u001b[1;36m  File \u001b[1;32m\"C:\\Users\\INDIA\\AppData\\Local\\Temp\\ipykernel_12100\\2422521798.py\"\u001b[1;36m, line \u001b[1;32m1\u001b[0m\n\u001b[1;33m    players + bowlers + []'srinath']\u001b[0m\n\u001b[1;37m                          ^\u001b[0m\n\u001b[1;31mSyntaxError\u001b[0m\u001b[1;31m:\u001b[0m invalid syntax\n"
     ]
    }
   ],
   "source": [
    "players + bowlers + []'srinath']"
   ]
  },
  {
   "cell_type": "code",
   "execution_count": 171,
   "id": "ab088937",
   "metadata": {},
   "outputs": [
    {
     "data": {
      "text/plain": [
       "['Gautam Gambhir', 'Zaheer Khan', 'agarkar', 'balaji', 'srinath']"
      ]
     },
     "execution_count": 171,
     "metadata": {},
     "output_type": "execute_result"
    }
   ],
   "source": [
    "players + bowlers + ['srinath']"
   ]
  },
  {
   "cell_type": "markdown",
   "id": "efc83615",
   "metadata": {},
   "source": [
    "to make a copy of list, use copy method"
   ]
  },
  {
   "cell_type": "code",
   "execution_count": 172,
   "id": "64deb0aa",
   "metadata": {},
   "outputs": [
    {
     "data": {
      "text/plain": [
       "['Gautam Gambhir', 'Zaheer Khan']"
      ]
     },
     "execution_count": 172,
     "metadata": {},
     "output_type": "execute_result"
    }
   ],
   "source": [
    "players"
   ]
  },
  {
   "cell_type": "code",
   "execution_count": 173,
   "id": "e0d05fec",
   "metadata": {},
   "outputs": [],
   "source": [
    "players_copy = players.copy()"
   ]
  },
  {
   "cell_type": "code",
   "execution_count": 174,
   "id": "5e052781",
   "metadata": {},
   "outputs": [
    {
     "data": {
      "text/plain": [
       "['Gautam Gambhir', 'Zaheer Khan']"
      ]
     },
     "execution_count": 174,
     "metadata": {},
     "output_type": "execute_result"
    }
   ],
   "source": [
    "players_copy"
   ]
  },
  {
   "cell_type": "code",
   "execution_count": 175,
   "id": "895d054b",
   "metadata": {},
   "outputs": [],
   "source": [
    "players_copy.insert(1, 'yuvraj')"
   ]
  },
  {
   "cell_type": "code",
   "execution_count": 176,
   "id": "9de57f8d",
   "metadata": {},
   "outputs": [
    {
     "data": {
      "text/plain": [
       "['Gautam Gambhir', 'yuvraj', 'Zaheer Khan']"
      ]
     },
     "execution_count": 176,
     "metadata": {},
     "output_type": "execute_result"
    }
   ],
   "source": [
    "players_copy"
   ]
  },
  {
   "cell_type": "code",
   "execution_count": 177,
   "id": "1453a232",
   "metadata": {},
   "outputs": [
    {
     "data": {
      "text/plain": [
       "['Gautam Gambhir', 'Zaheer Khan']"
      ]
     },
     "execution_count": 177,
     "metadata": {},
     "output_type": "execute_result"
    }
   ],
   "source": [
    "players"
   ]
  },
  {
   "cell_type": "code",
   "execution_count": 178,
   "id": "9483ec09",
   "metadata": {},
   "outputs": [
    {
     "data": {
      "text/plain": [
       "'Zaheer Khan'"
      ]
     },
     "execution_count": 178,
     "metadata": {},
     "output_type": "execute_result"
    }
   ],
   "source": [
    "players_copy.pop()"
   ]
  },
  {
   "cell_type": "code",
   "execution_count": 179,
   "id": "cc87c85a",
   "metadata": {},
   "outputs": [
    {
     "data": {
      "text/plain": [
       "['Gautam Gambhir', 'yuvraj']"
      ]
     },
     "execution_count": 179,
     "metadata": {},
     "output_type": "execute_result"
    }
   ],
   "source": [
    "players_copy"
   ]
  },
  {
   "cell_type": "code",
   "execution_count": 180,
   "id": "57b750d3",
   "metadata": {},
   "outputs": [
    {
     "data": {
      "text/plain": [
       "['Gautam Gambhir', 'Zaheer Khan']"
      ]
     },
     "execution_count": 180,
     "metadata": {},
     "output_type": "execute_result"
    }
   ],
   "source": [
    "players"
   ]
  },
  {
   "cell_type": "code",
   "execution_count": 181,
   "id": "95edc1f7",
   "metadata": {},
   "outputs": [],
   "source": [
    "players_not_copy = players"
   ]
  },
  {
   "cell_type": "code",
   "execution_count": 182,
   "id": "f25721d6",
   "metadata": {},
   "outputs": [
    {
     "data": {
      "text/plain": [
       "['Gautam Gambhir', 'Zaheer Khan']"
      ]
     },
     "execution_count": 182,
     "metadata": {},
     "output_type": "execute_result"
    }
   ],
   "source": [
    "players_not_copy"
   ]
  },
  {
   "cell_type": "code",
   "execution_count": 183,
   "id": "8f332377",
   "metadata": {},
   "outputs": [
    {
     "data": {
      "text/plain": [
       "'Zaheer Khan'"
      ]
     },
     "execution_count": 183,
     "metadata": {},
     "output_type": "execute_result"
    }
   ],
   "source": [
    "players_not_copy.pop()"
   ]
  },
  {
   "cell_type": "code",
   "execution_count": 184,
   "id": "5b2f6b2a",
   "metadata": {},
   "outputs": [
    {
     "data": {
      "text/plain": [
       "['Gautam Gambhir']"
      ]
     },
     "execution_count": 184,
     "metadata": {},
     "output_type": "execute_result"
    }
   ],
   "source": [
    "players_not_copy"
   ]
  },
  {
   "cell_type": "code",
   "execution_count": 185,
   "id": "60502ded",
   "metadata": {},
   "outputs": [
    {
     "data": {
      "text/plain": [
       "['Gautam Gambhir']"
      ]
     },
     "execution_count": 185,
     "metadata": {},
     "output_type": "execute_result"
    }
   ],
   "source": [
    "players"
   ]
  },
  {
   "cell_type": "markdown",
   "id": "3854a01a",
   "metadata": {},
   "source": [
    "by just assignign the list to another list, it does not create a copy of list, it references to the same list, so if we modifiy the assigned list, original list will get affected"
   ]
  },
  {
   "cell_type": "code",
   "execution_count": 186,
   "id": "dc87bed8",
   "metadata": {},
   "outputs": [],
   "source": [
    "a_list = [1, 2, 3, 8, 10, 12]"
   ]
  },
  {
   "cell_type": "code",
   "execution_count": 187,
   "id": "1feef2d5",
   "metadata": {},
   "outputs": [],
   "source": [
    "a_list.reverse()"
   ]
  },
  {
   "cell_type": "code",
   "execution_count": 188,
   "id": "56089a15",
   "metadata": {},
   "outputs": [
    {
     "data": {
      "text/plain": [
       "[12, 10, 8, 3, 2, 1]"
      ]
     },
     "execution_count": 188,
     "metadata": {},
     "output_type": "execute_result"
    }
   ],
   "source": [
    "a_list"
   ]
  },
  {
   "cell_type": "markdown",
   "id": "d6bfe265",
   "metadata": {},
   "source": [
    "Add the elements of one list at the end of another list"
   ]
  },
  {
   "cell_type": "code",
   "execution_count": 189,
   "id": "0968718c",
   "metadata": {},
   "outputs": [],
   "source": [
    "list_1 = ['d', 1, 8]\n",
    "list_2 = ['some', [1,2], 8]"
   ]
  },
  {
   "cell_type": "code",
   "execution_count": 190,
   "id": "275f8f04",
   "metadata": {},
   "outputs": [],
   "source": [
    "list_2 = list_2 + list_1"
   ]
  },
  {
   "cell_type": "code",
   "execution_count": 191,
   "id": "795f9616",
   "metadata": {},
   "outputs": [
    {
     "data": {
      "text/plain": [
       "['some', [1, 2], 8, 'd', 1, 8]"
      ]
     },
     "execution_count": 191,
     "metadata": {},
     "output_type": "execute_result"
    }
   ],
   "source": [
    "list_2"
   ]
  },
  {
   "cell_type": "markdown",
   "id": "5b22aa43",
   "metadata": {},
   "source": [
    "Sort a list of strings in alphabetical order"
   ]
  },
  {
   "cell_type": "code",
   "execution_count": 192,
   "id": "b0cf2c2c",
   "metadata": {},
   "outputs": [],
   "source": [
    "a_list = ['d', 'a', 2, 9, 'g', 3, 'c']"
   ]
  },
  {
   "cell_type": "code",
   "execution_count": 193,
   "id": "5f4067ec",
   "metadata": {},
   "outputs": [
    {
     "ename": "TypeError",
     "evalue": "'<' not supported between instances of 'int' and 'str'",
     "output_type": "error",
     "traceback": [
      "\u001b[1;31m---------------------------------------------------------------------------\u001b[0m",
      "\u001b[1;31mTypeError\u001b[0m                                 Traceback (most recent call last)",
      "\u001b[1;32m~\\AppData\\Local\\Temp\\ipykernel_12100\\1042120378.py\u001b[0m in \u001b[0;36m<module>\u001b[1;34m\u001b[0m\n\u001b[1;32m----> 1\u001b[1;33m \u001b[0ma_list\u001b[0m\u001b[1;33m.\u001b[0m\u001b[0msort\u001b[0m\u001b[1;33m(\u001b[0m\u001b[1;33m)\u001b[0m\u001b[1;33m\u001b[0m\u001b[1;33m\u001b[0m\u001b[0m\n\u001b[0m",
      "\u001b[1;31mTypeError\u001b[0m: '<' not supported between instances of 'int' and 'str'"
     ]
    }
   ],
   "source": [
    "a_list.sort()"
   ]
  },
  {
   "cell_type": "code",
   "execution_count": 194,
   "id": "b7ceb2fc",
   "metadata": {},
   "outputs": [],
   "source": [
    "a_list = ['d', 'z', 'b', 'j']"
   ]
  },
  {
   "cell_type": "code",
   "execution_count": 195,
   "id": "1d981bed",
   "metadata": {},
   "outputs": [],
   "source": [
    "a_list.sort()"
   ]
  },
  {
   "cell_type": "code",
   "execution_count": 196,
   "id": "639bb80f",
   "metadata": {},
   "outputs": [
    {
     "data": {
      "text/plain": [
       "['b', 'd', 'j', 'z']"
      ]
     },
     "execution_count": 196,
     "metadata": {},
     "output_type": "execute_result"
    }
   ],
   "source": [
    "a_list"
   ]
  },
  {
   "cell_type": "markdown",
   "id": "39d2da86",
   "metadata": {},
   "source": [
    "Sort a list of numbers in decreasing order"
   ]
  },
  {
   "cell_type": "code",
   "execution_count": 197,
   "id": "6a4133f3",
   "metadata": {},
   "outputs": [],
   "source": [
    "a_list.sort(reverse = True)"
   ]
  },
  {
   "cell_type": "code",
   "execution_count": 198,
   "id": "f0c1b13e",
   "metadata": {},
   "outputs": [
    {
     "data": {
      "text/plain": [
       "['z', 'j', 'd', 'b']"
      ]
     },
     "execution_count": 198,
     "metadata": {},
     "output_type": "execute_result"
    }
   ],
   "source": [
    "a_list"
   ]
  },
  {
   "cell_type": "markdown",
   "id": "07dd6604",
   "metadata": {},
   "source": [
    "# Tuple Data Type"
   ]
  },
  {
   "cell_type": "markdown",
   "id": "80f760db",
   "metadata": {},
   "source": [
    "A tuple is an ordered collection of values, similar to list\n",
    "* not possible to add, remove, or modify values in tuple\n",
    "* enclosed with parentheses () separated by commas\n",
    "* tuple data type is immutable\n",
    "'''\n",
    "Any data structure that can't be modified after creation is immutable\n",
    "'''"
   ]
  },
  {
   "cell_type": "code",
   "execution_count": 199,
   "id": "c732ee63",
   "metadata": {},
   "outputs": [],
   "source": [
    "books = ('an', 'dab', 'ban')"
   ]
  },
  {
   "cell_type": "code",
   "execution_count": 200,
   "id": "5899ed74",
   "metadata": {},
   "outputs": [
    {
     "data": {
      "text/plain": [
       "('an', 'dab', 'ban')"
      ]
     },
     "execution_count": 200,
     "metadata": {},
     "output_type": "execute_result"
    }
   ],
   "source": [
    "books"
   ]
  },
  {
   "cell_type": "code",
   "execution_count": 201,
   "id": "7f67c584",
   "metadata": {},
   "outputs": [
    {
     "data": {
      "text/plain": [
       "3"
      ]
     },
     "execution_count": 201,
     "metadata": {},
     "output_type": "execute_result"
    }
   ],
   "source": [
    "len(books)"
   ]
  },
  {
   "cell_type": "code",
   "execution_count": 202,
   "id": "ec05966a",
   "metadata": {},
   "outputs": [
    {
     "data": {
      "text/plain": [
       "'an'"
      ]
     },
     "execution_count": 202,
     "metadata": {},
     "output_type": "execute_result"
    }
   ],
   "source": [
    "books[0]"
   ]
  },
  {
   "cell_type": "code",
   "execution_count": 203,
   "id": "e1edf7fa",
   "metadata": {},
   "outputs": [
    {
     "data": {
      "text/plain": [
       "'dab'"
      ]
     },
     "execution_count": 203,
     "metadata": {},
     "output_type": "execute_result"
    }
   ],
   "source": [
    "books[1]"
   ]
  },
  {
   "cell_type": "code",
   "execution_count": 204,
   "id": "3e3df932",
   "metadata": {},
   "outputs": [
    {
     "data": {
      "text/plain": [
       "'ban'"
      ]
     },
     "execution_count": 204,
     "metadata": {},
     "output_type": "execute_result"
    }
   ],
   "source": [
    "books[2]"
   ]
  },
  {
   "cell_type": "code",
   "execution_count": 205,
   "id": "769c3c20",
   "metadata": {},
   "outputs": [
    {
     "ename": "IndexError",
     "evalue": "tuple index out of range",
     "output_type": "error",
     "traceback": [
      "\u001b[1;31m---------------------------------------------------------------------------\u001b[0m",
      "\u001b[1;31mIndexError\u001b[0m                                Traceback (most recent call last)",
      "\u001b[1;32m~\\AppData\\Local\\Temp\\ipykernel_12100\\930333076.py\u001b[0m in \u001b[0;36m<module>\u001b[1;34m\u001b[0m\n\u001b[1;32m----> 1\u001b[1;33m \u001b[0mbooks\u001b[0m\u001b[1;33m[\u001b[0m\u001b[1;36m3\u001b[0m\u001b[1;33m]\u001b[0m\u001b[1;33m\u001b[0m\u001b[1;33m\u001b[0m\u001b[0m\n\u001b[0m",
      "\u001b[1;31mIndexError\u001b[0m: tuple index out of range"
     ]
    }
   ],
   "source": [
    "books[3]"
   ]
  },
  {
   "cell_type": "code",
   "execution_count": 206,
   "id": "ab80cf5b",
   "metadata": {},
   "outputs": [
    {
     "data": {
      "text/plain": [
       "'ban'"
      ]
     },
     "execution_count": 206,
     "metadata": {},
     "output_type": "execute_result"
    }
   ],
   "source": [
    "books[-1]"
   ]
  },
  {
   "cell_type": "code",
   "execution_count": 207,
   "id": "c9e46909",
   "metadata": {},
   "outputs": [
    {
     "data": {
      "text/plain": [
       "'dab'"
      ]
     },
     "execution_count": 207,
     "metadata": {},
     "output_type": "execute_result"
    }
   ],
   "source": [
    "books[-2]"
   ]
  },
  {
   "cell_type": "code",
   "execution_count": 208,
   "id": "a95146d8",
   "metadata": {},
   "outputs": [
    {
     "data": {
      "text/plain": [
       "'an'"
      ]
     },
     "execution_count": 208,
     "metadata": {},
     "output_type": "execute_result"
    }
   ],
   "source": [
    "books[-3]"
   ]
  },
  {
   "cell_type": "code",
   "execution_count": 209,
   "id": "42ed7efb",
   "metadata": {},
   "outputs": [
    {
     "ename": "IndexError",
     "evalue": "tuple index out of range",
     "output_type": "error",
     "traceback": [
      "\u001b[1;31m---------------------------------------------------------------------------\u001b[0m",
      "\u001b[1;31mIndexError\u001b[0m                                Traceback (most recent call last)",
      "\u001b[1;32m~\\AppData\\Local\\Temp\\ipykernel_12100\\9093675.py\u001b[0m in \u001b[0;36m<module>\u001b[1;34m\u001b[0m\n\u001b[1;32m----> 1\u001b[1;33m \u001b[0mbooks\u001b[0m\u001b[1;33m[\u001b[0m\u001b[1;33m-\u001b[0m\u001b[1;36m4\u001b[0m\u001b[1;33m]\u001b[0m\u001b[1;33m\u001b[0m\u001b[1;33m\u001b[0m\u001b[0m\n\u001b[0m",
      "\u001b[1;31mIndexError\u001b[0m: tuple index out of range"
     ]
    }
   ],
   "source": [
    "books[-4]"
   ]
  },
  {
   "cell_type": "code",
   "execution_count": 210,
   "id": "fd1f5cf9",
   "metadata": {},
   "outputs": [
    {
     "data": {
      "text/plain": [
       "True"
      ]
     },
     "execution_count": 210,
     "metadata": {},
     "output_type": "execute_result"
    }
   ],
   "source": [
    "'ban' in books"
   ]
  },
  {
   "cell_type": "code",
   "execution_count": 211,
   "id": "53af697b",
   "metadata": {},
   "outputs": [
    {
     "data": {
      "text/plain": [
       "True"
      ]
     },
     "execution_count": 211,
     "metadata": {},
     "output_type": "execute_result"
    }
   ],
   "source": [
    "'dab' in books"
   ]
  },
  {
   "cell_type": "code",
   "execution_count": 212,
   "id": "22f0a8c6",
   "metadata": {},
   "outputs": [
    {
     "data": {
      "text/plain": [
       "False"
      ]
     },
     "execution_count": 212,
     "metadata": {},
     "output_type": "execute_result"
    }
   ],
   "source": [
    "'can' in books"
   ]
  },
  {
   "cell_type": "code",
   "execution_count": 213,
   "id": "4b1345e4",
   "metadata": {},
   "outputs": [
    {
     "ename": "TypeError",
     "evalue": "'tuple' object does not support item assignment",
     "output_type": "error",
     "traceback": [
      "\u001b[1;31m---------------------------------------------------------------------------\u001b[0m",
      "\u001b[1;31mTypeError\u001b[0m                                 Traceback (most recent call last)",
      "\u001b[1;32m~\\AppData\\Local\\Temp\\ipykernel_12100\\848637375.py\u001b[0m in \u001b[0;36m<module>\u001b[1;34m\u001b[0m\n\u001b[1;32m----> 1\u001b[1;33m \u001b[0mbooks\u001b[0m\u001b[1;33m[\u001b[0m\u001b[1;36m0\u001b[0m\u001b[1;33m]\u001b[0m \u001b[1;33m=\u001b[0m \u001b[1;34m'so'\u001b[0m\u001b[1;33m\u001b[0m\u001b[1;33m\u001b[0m\u001b[0m\n\u001b[0m",
      "\u001b[1;31mTypeError\u001b[0m: 'tuple' object does not support item assignment"
     ]
    }
   ],
   "source": [
    "books[0] = 'so'"
   ]
  },
  {
   "cell_type": "code",
   "execution_count": 214,
   "id": "a4d786c9",
   "metadata": {},
   "outputs": [
    {
     "ename": "AttributeError",
     "evalue": "'tuple' object has no attribute 'append'",
     "output_type": "error",
     "traceback": [
      "\u001b[1;31m---------------------------------------------------------------------------\u001b[0m",
      "\u001b[1;31mAttributeError\u001b[0m                            Traceback (most recent call last)",
      "\u001b[1;32m~\\AppData\\Local\\Temp\\ipykernel_12100\\1558394594.py\u001b[0m in \u001b[0;36m<module>\u001b[1;34m\u001b[0m\n\u001b[1;32m----> 1\u001b[1;33m \u001b[0mbooks\u001b[0m\u001b[1;33m.\u001b[0m\u001b[0mappend\u001b[0m\u001b[1;33m(\u001b[0m\u001b[1;34m'a'\u001b[0m\u001b[1;33m)\u001b[0m\u001b[1;33m\u001b[0m\u001b[1;33m\u001b[0m\u001b[0m\n\u001b[0m",
      "\u001b[1;31mAttributeError\u001b[0m: 'tuple' object has no attribute 'append'"
     ]
    }
   ],
   "source": [
    "books.append('a')"
   ]
  },
  {
   "cell_type": "code",
   "execution_count": 215,
   "id": "d3e65397",
   "metadata": {},
   "outputs": [
    {
     "ename": "AttributeError",
     "evalue": "'tuple' object has no attribute 'remove'",
     "output_type": "error",
     "traceback": [
      "\u001b[1;31m---------------------------------------------------------------------------\u001b[0m",
      "\u001b[1;31mAttributeError\u001b[0m                            Traceback (most recent call last)",
      "\u001b[1;32m~\\AppData\\Local\\Temp\\ipykernel_12100\\4043796714.py\u001b[0m in \u001b[0;36m<module>\u001b[1;34m\u001b[0m\n\u001b[1;32m----> 1\u001b[1;33m \u001b[0mbooks\u001b[0m\u001b[1;33m.\u001b[0m\u001b[0mremove\u001b[0m\u001b[1;33m(\u001b[0m\u001b[1;34m'dab'\u001b[0m\u001b[1;33m)\u001b[0m\u001b[1;33m\u001b[0m\u001b[1;33m\u001b[0m\u001b[0m\n\u001b[0m",
      "\u001b[1;31mAttributeError\u001b[0m: 'tuple' object has no attribute 'remove'"
     ]
    }
   ],
   "source": [
    "books.remove('dab')"
   ]
  },
  {
   "cell_type": "code",
   "execution_count": 216,
   "id": "a16e9a68",
   "metadata": {},
   "outputs": [],
   "source": [
    "simple_tuple = 'a', 'b', 'c'"
   ]
  },
  {
   "cell_type": "code",
   "execution_count": 217,
   "id": "a7474137",
   "metadata": {},
   "outputs": [
    {
     "data": {
      "text/plain": [
       "('a', 'b', 'c')"
      ]
     },
     "execution_count": 217,
     "metadata": {},
     "output_type": "execute_result"
    }
   ],
   "source": [
    "simple_tuple"
   ]
  },
  {
   "cell_type": "code",
   "execution_count": 218,
   "id": "8a68d1ea",
   "metadata": {},
   "outputs": [
    {
     "data": {
      "text/plain": [
       "tuple"
      ]
     },
     "execution_count": 218,
     "metadata": {},
     "output_type": "execute_result"
    }
   ],
   "source": [
    "type(simple_tuple)"
   ]
  },
  {
   "cell_type": "code",
   "execution_count": 219,
   "id": "d392ab34",
   "metadata": {},
   "outputs": [
    {
     "ename": "AttributeError",
     "evalue": "'tuple' object has no attribute 'copy'",
     "output_type": "error",
     "traceback": [
      "\u001b[1;31m---------------------------------------------------------------------------\u001b[0m",
      "\u001b[1;31mAttributeError\u001b[0m                            Traceback (most recent call last)",
      "\u001b[1;32m~\\AppData\\Local\\Temp\\ipykernel_12100\\4117256956.py\u001b[0m in \u001b[0;36m<module>\u001b[1;34m\u001b[0m\n\u001b[1;32m----> 1\u001b[1;33m \u001b[0mtup_copy\u001b[0m \u001b[1;33m=\u001b[0m \u001b[0msimple_tuple\u001b[0m\u001b[1;33m.\u001b[0m\u001b[0mcopy\u001b[0m\u001b[1;33m(\u001b[0m\u001b[1;33m)\u001b[0m\u001b[1;33m\u001b[0m\u001b[1;33m\u001b[0m\u001b[0m\n\u001b[0m",
      "\u001b[1;31mAttributeError\u001b[0m: 'tuple' object has no attribute 'copy'"
     ]
    }
   ],
   "source": [
    "tup_copy = simple_tuple.copy()"
   ]
  },
  {
   "cell_type": "code",
   "execution_count": 220,
   "id": "a392a521",
   "metadata": {},
   "outputs": [],
   "source": [
    "n_tup = 1,"
   ]
  },
  {
   "cell_type": "code",
   "execution_count": 221,
   "id": "3114108a",
   "metadata": {},
   "outputs": [
    {
     "data": {
      "text/plain": [
       "(1,)"
      ]
     },
     "execution_count": 221,
     "metadata": {},
     "output_type": "execute_result"
    }
   ],
   "source": [
    "n_tup"
   ]
  },
  {
   "cell_type": "code",
   "execution_count": 222,
   "id": "6c4fee22",
   "metadata": {},
   "outputs": [
    {
     "data": {
      "text/plain": [
       "tuple"
      ]
     },
     "execution_count": 222,
     "metadata": {},
     "output_type": "execute_result"
    }
   ],
   "source": [
    "type(n_tup)"
   ]
  },
  {
   "cell_type": "code",
   "execution_count": 223,
   "id": "86f23e5b",
   "metadata": {},
   "outputs": [],
   "source": [
    "a_tup = (3,)"
   ]
  },
  {
   "cell_type": "code",
   "execution_count": 224,
   "id": "0322a1ea",
   "metadata": {},
   "outputs": [
    {
     "data": {
      "text/plain": [
       "(3,)"
      ]
     },
     "execution_count": 224,
     "metadata": {},
     "output_type": "execute_result"
    }
   ],
   "source": [
    "a_tup"
   ]
  },
  {
   "cell_type": "code",
   "execution_count": 225,
   "id": "d9ff67e4",
   "metadata": {},
   "outputs": [],
   "source": [
    "x_y = (2, -1)\n",
    "point_x, point_y = x_y"
   ]
  },
  {
   "cell_type": "code",
   "execution_count": 226,
   "id": "14b44cc5",
   "metadata": {},
   "outputs": [
    {
     "data": {
      "text/plain": [
       "2"
      ]
     },
     "execution_count": 226,
     "metadata": {},
     "output_type": "execute_result"
    }
   ],
   "source": [
    "point_x"
   ]
  },
  {
   "cell_type": "code",
   "execution_count": 227,
   "id": "6fa3b760",
   "metadata": {},
   "outputs": [
    {
     "data": {
      "text/plain": [
       "-1"
      ]
     },
     "execution_count": 227,
     "metadata": {},
     "output_type": "execute_result"
    }
   ],
   "source": [
    "point_y"
   ]
  },
  {
   "cell_type": "markdown",
   "id": "f1fd9037",
   "metadata": {},
   "source": [
    "Convert list into tuple"
   ]
  },
  {
   "cell_type": "code",
   "execution_count": 230,
   "id": "48358f41",
   "metadata": {},
   "outputs": [],
   "source": [
    "a = tuple(['q', 'a', 'b'])"
   ]
  },
  {
   "cell_type": "code",
   "execution_count": 231,
   "id": "fb19fe71",
   "metadata": {},
   "outputs": [
    {
     "data": {
      "text/plain": [
       "('q', 'a', 'b')"
      ]
     },
     "execution_count": 231,
     "metadata": {},
     "output_type": "execute_result"
    }
   ],
   "source": [
    "a"
   ]
  },
  {
   "cell_type": "code",
   "execution_count": 232,
   "id": "2728e844",
   "metadata": {},
   "outputs": [
    {
     "data": {
      "text/plain": [
       "tuple"
      ]
     },
     "execution_count": 232,
     "metadata": {},
     "output_type": "execute_result"
    }
   ],
   "source": [
    "type(a)"
   ]
  },
  {
   "cell_type": "markdown",
   "id": "9152c51a",
   "metadata": {},
   "source": [
    "convert tuple into list"
   ]
  },
  {
   "cell_type": "code",
   "execution_count": 233,
   "id": "238beedb",
   "metadata": {},
   "outputs": [
    {
     "data": {
      "text/plain": [
       "['Gautam Gambhir']"
      ]
     },
     "execution_count": 233,
     "metadata": {},
     "output_type": "execute_result"
    }
   ],
   "source": [
    "players"
   ]
  },
  {
   "cell_type": "code",
   "execution_count": 234,
   "id": "3f69b6f9",
   "metadata": {},
   "outputs": [
    {
     "data": {
      "text/plain": [
       "('Gautam Gambhir',)"
      ]
     },
     "execution_count": 234,
     "metadata": {},
     "output_type": "execute_result"
    }
   ],
   "source": [
    "tuple(players)"
   ]
  },
  {
   "cell_type": "code",
   "execution_count": 235,
   "id": "13c79fb1",
   "metadata": {},
   "outputs": [
    {
     "data": {
      "text/plain": [
       "['Gautam Gambhir']"
      ]
     },
     "execution_count": 235,
     "metadata": {},
     "output_type": "execute_result"
    }
   ],
   "source": [
    "players"
   ]
  },
  {
   "cell_type": "code",
   "execution_count": 236,
   "id": "8059d037",
   "metadata": {},
   "outputs": [
    {
     "data": {
      "text/plain": [
       "('q', 'a', 'b')"
      ]
     },
     "execution_count": 236,
     "metadata": {},
     "output_type": "execute_result"
    }
   ],
   "source": [
    "a"
   ]
  },
  {
   "cell_type": "code",
   "execution_count": 238,
   "id": "3e8e386d",
   "metadata": {},
   "outputs": [],
   "source": [
    "b = list(a)"
   ]
  },
  {
   "cell_type": "code",
   "execution_count": 239,
   "id": "c88116c7",
   "metadata": {},
   "outputs": [
    {
     "data": {
      "text/plain": [
       "['q', 'a', 'b']"
      ]
     },
     "execution_count": 239,
     "metadata": {},
     "output_type": "execute_result"
    }
   ],
   "source": [
    "b"
   ]
  },
  {
   "cell_type": "code",
   "execution_count": 240,
   "id": "d046036a",
   "metadata": {},
   "outputs": [],
   "source": [
    "b.insert(2, 'x')"
   ]
  },
  {
   "cell_type": "code",
   "execution_count": 241,
   "id": "8f8b2487",
   "metadata": {},
   "outputs": [
    {
     "data": {
      "text/plain": [
       "['q', 'a', 'x', 'b']"
      ]
     },
     "execution_count": 241,
     "metadata": {},
     "output_type": "execute_result"
    }
   ],
   "source": [
    "b"
   ]
  },
  {
   "cell_type": "code",
   "execution_count": 242,
   "id": "bcee9fed",
   "metadata": {},
   "outputs": [
    {
     "data": {
      "text/plain": [
       "('q', 'a', 'x', 'b')"
      ]
     },
     "execution_count": 242,
     "metadata": {},
     "output_type": "execute_result"
    }
   ],
   "source": [
    "tuple(b)"
   ]
  },
  {
   "cell_type": "code",
   "execution_count": 243,
   "id": "9b8485df",
   "metadata": {},
   "outputs": [
    {
     "data": {
      "text/plain": [
       "<function list.count(value, /)>"
      ]
     },
     "execution_count": 243,
     "metadata": {},
     "output_type": "execute_result"
    }
   ],
   "source": [
    "b.count"
   ]
  },
  {
   "cell_type": "code",
   "execution_count": 244,
   "id": "37207063",
   "metadata": {},
   "outputs": [
    {
     "name": "stdout",
     "output_type": "stream",
     "text": [
      "<built-in method count of list object at 0x00000219FC110B40>\n"
     ]
    }
   ],
   "source": [
    "print(b.count)"
   ]
  },
  {
   "cell_type": "code",
   "execution_count": 245,
   "id": "027286d9",
   "metadata": {},
   "outputs": [
    {
     "ename": "SyntaxError",
     "evalue": "invalid syntax (4142941444.py, line 1)",
     "output_type": "error",
     "traceback": [
      "\u001b[1;36m  File \u001b[1;32m\"C:\\Users\\INDIA\\AppData\\Local\\Temp\\ipykernel_12100\\4142941444.py\"\u001b[1;36m, line \u001b[1;32m1\u001b[0m\n\u001b[1;33m    help b.count\u001b[0m\n\u001b[1;37m         ^\u001b[0m\n\u001b[1;31mSyntaxError\u001b[0m\u001b[1;31m:\u001b[0m invalid syntax\n"
     ]
    }
   ],
   "source": [
    "help b.count"
   ]
  },
  {
   "cell_type": "code",
   "execution_count": 246,
   "id": "2eed6f2f",
   "metadata": {
    "scrolled": true
   },
   "outputs": [
    {
     "name": "stdout",
     "output_type": "stream",
     "text": [
      "Help on built-in function count:\n",
      "\n",
      "count(value, /) method of builtins.list instance\n",
      "    Return number of occurrences of value.\n",
      "\n"
     ]
    }
   ],
   "source": [
    "help(b.count)"
   ]
  },
  {
   "cell_type": "code",
   "execution_count": 247,
   "id": "b7496283",
   "metadata": {},
   "outputs": [],
   "source": [
    "?b.index"
   ]
  },
  {
   "cell_type": "code",
   "execution_count": 248,
   "id": "4cda4ecc",
   "metadata": {},
   "outputs": [
    {
     "data": {
      "text/plain": [
       "['q', 'a', 'x', 'b']"
      ]
     },
     "execution_count": 248,
     "metadata": {},
     "output_type": "execute_result"
    }
   ],
   "source": [
    "b"
   ]
  },
  {
   "cell_type": "code",
   "execution_count": 249,
   "id": "cd7f5afc",
   "metadata": {},
   "outputs": [
    {
     "data": {
      "text/plain": [
       "<function list.count(value, /)>"
      ]
     },
     "execution_count": 249,
     "metadata": {},
     "output_type": "execute_result"
    }
   ],
   "source": [
    "b.count"
   ]
  },
  {
   "cell_type": "code",
   "execution_count": 250,
   "id": "c42982e8",
   "metadata": {},
   "outputs": [
    {
     "ename": "TypeError",
     "evalue": "list.count() takes exactly one argument (0 given)",
     "output_type": "error",
     "traceback": [
      "\u001b[1;31m---------------------------------------------------------------------------\u001b[0m",
      "\u001b[1;31mTypeError\u001b[0m                                 Traceback (most recent call last)",
      "\u001b[1;32m~\\AppData\\Local\\Temp\\ipykernel_12100\\2646381259.py\u001b[0m in \u001b[0;36m<module>\u001b[1;34m\u001b[0m\n\u001b[1;32m----> 1\u001b[1;33m \u001b[0mb\u001b[0m\u001b[1;33m.\u001b[0m\u001b[0mcount\u001b[0m\u001b[1;33m(\u001b[0m\u001b[1;33m)\u001b[0m\u001b[1;33m\u001b[0m\u001b[1;33m\u001b[0m\u001b[0m\n\u001b[0m",
      "\u001b[1;31mTypeError\u001b[0m: list.count() takes exactly one argument (0 given)"
     ]
    }
   ],
   "source": [
    "b.count()"
   ]
  },
  {
   "cell_type": "code",
   "execution_count": 251,
   "id": "2f0818ec",
   "metadata": {},
   "outputs": [
    {
     "data": {
      "text/plain": [
       "builtin_function_or_method"
      ]
     },
     "execution_count": 251,
     "metadata": {},
     "output_type": "execute_result"
    }
   ],
   "source": [
    "type(b.count)"
   ]
  },
  {
   "cell_type": "code",
   "execution_count": 252,
   "id": "0564b1de",
   "metadata": {},
   "outputs": [
    {
     "name": "stdout",
     "output_type": "stream",
     "text": [
      "<built-in method count of list object at 0x00000219FC110B40>\n"
     ]
    }
   ],
   "source": [
    "print(b.count)"
   ]
  },
  {
   "cell_type": "code",
   "execution_count": 253,
   "id": "ed9cf752",
   "metadata": {},
   "outputs": [
    {
     "data": {
      "text/plain": [
       "<function list.index(value, start=0, stop=9223372036854775807, /)>"
      ]
     },
     "execution_count": 253,
     "metadata": {},
     "output_type": "execute_result"
    }
   ],
   "source": [
    "b.index"
   ]
  },
  {
   "cell_type": "code",
   "execution_count": 254,
   "id": "d7a1ce41",
   "metadata": {},
   "outputs": [
    {
     "name": "stdout",
     "output_type": "stream",
     "text": [
      "<built-in method index of list object at 0x00000219FC110B40>\n"
     ]
    }
   ],
   "source": [
    "print(b.index)"
   ]
  },
  {
   "cell_type": "code",
   "execution_count": 255,
   "id": "97b84d77",
   "metadata": {},
   "outputs": [
    {
     "data": {
      "text/plain": [
       "['z', 'j', 'd', 'b']"
      ]
     },
     "execution_count": 255,
     "metadata": {},
     "output_type": "execute_result"
    }
   ],
   "source": [
    "a_list"
   ]
  },
  {
   "cell_type": "code",
   "execution_count": 256,
   "id": "a479a8b7",
   "metadata": {},
   "outputs": [
    {
     "name": "stdout",
     "output_type": "stream",
     "text": [
      "<built-in method count of list object at 0x00000219FBF9B700>\n"
     ]
    }
   ],
   "source": [
    "print(a_list.count)"
   ]
  },
  {
   "cell_type": "code",
   "execution_count": 257,
   "id": "d985a3de",
   "metadata": {},
   "outputs": [
    {
     "name": "stdout",
     "output_type": "stream",
     "text": [
      "<built-in method index of list object at 0x00000219FBF9B700>\n"
     ]
    }
   ],
   "source": [
    "print(a_list.index)"
   ]
  },
  {
   "cell_type": "markdown",
   "id": "71726c7d",
   "metadata": {},
   "source": [
    "# Dictionary Data Type"
   ]
  },
  {
   "cell_type": "markdown",
   "id": "28dc7274",
   "metadata": {},
   "source": [
    "A dictionary is an\n",
    "* unordered collection of items\n",
    "* each item stored has a key and value\n",
    "* can use a key to retrieve corresponding value from dictionary\n",
    "* it has data type of dict\n",
    "* used to store many pieces of info\n",
    "* created by enclosing key-value paris within braces { }"
   ]
  },
  {
   "cell_type": "code",
   "execution_count": 258,
   "id": "c47cac45",
   "metadata": {},
   "outputs": [],
   "source": [
    "movie = {\n",
    "    'name': 'Jungle Book',\n",
    "    'genre': 'adventure',\n",
    "    'imdb-rating': 8.2,\n",
    "    'fun-to-watch': True\n",
    "}"
   ]
  },
  {
   "cell_type": "code",
   "execution_count": 259,
   "id": "6dbbb1ec",
   "metadata": {},
   "outputs": [
    {
     "data": {
      "text/plain": [
       "{'name': 'Jungle Book',\n",
       " 'genre': 'adventure',\n",
       " 'imdb-rating': 8.2,\n",
       " 'fun-to-watch': True}"
      ]
     },
     "execution_count": 259,
     "metadata": {},
     "output_type": "execute_result"
    }
   ],
   "source": [
    "movie"
   ]
  },
  {
   "cell_type": "code",
   "execution_count": 260,
   "id": "ecae212c",
   "metadata": {},
   "outputs": [
    {
     "name": "stdout",
     "output_type": "stream",
     "text": [
      "{'name': 'Jungle Book', 'genre': 'adventure', 'imdb-rating': 8.2, 'fun-to-watch': True}\n"
     ]
    }
   ],
   "source": [
    "print(movie)"
   ]
  },
  {
   "cell_type": "code",
   "execution_count": 263,
   "id": "f88265a4",
   "metadata": {},
   "outputs": [],
   "source": [
    "movie1 = dict(name='Inception', genre='thriller', imdb_rating=8.9, fun_to_watch=True)"
   ]
  },
  {
   "cell_type": "code",
   "execution_count": 264,
   "id": "9013c3bd",
   "metadata": {},
   "outputs": [
    {
     "data": {
      "text/plain": [
       "{'name': 'Inception',\n",
       " 'genre': 'thriller',\n",
       " 'imdb_rating': 8.9,\n",
       " 'fun_to_watch': True}"
      ]
     },
     "execution_count": 264,
     "metadata": {},
     "output_type": "execute_result"
    }
   ],
   "source": [
    "movie1"
   ]
  },
  {
   "cell_type": "code",
   "execution_count": 265,
   "id": "98e092bf",
   "metadata": {},
   "outputs": [
    {
     "data": {
      "text/plain": [
       "dict"
      ]
     },
     "execution_count": 265,
     "metadata": {},
     "output_type": "execute_result"
    }
   ],
   "source": [
    "type(movie1)"
   ]
  },
  {
   "cell_type": "code",
   "execution_count": 266,
   "id": "c71f249c",
   "metadata": {},
   "outputs": [
    {
     "data": {
      "text/plain": [
       "'Jungle Book'"
      ]
     },
     "execution_count": 266,
     "metadata": {},
     "output_type": "execute_result"
    }
   ],
   "source": [
    "movie['name']"
   ]
  },
  {
   "cell_type": "code",
   "execution_count": 267,
   "id": "b4b8c01d",
   "metadata": {},
   "outputs": [
    {
     "data": {
      "text/plain": [
       "'Inception'"
      ]
     },
     "execution_count": 267,
     "metadata": {},
     "output_type": "execute_result"
    }
   ],
   "source": [
    "movie1['name']"
   ]
  },
  {
   "cell_type": "code",
   "execution_count": 268,
   "id": "5c356c95",
   "metadata": {},
   "outputs": [
    {
     "data": {
      "text/plain": [
       "8.2"
      ]
     },
     "execution_count": 268,
     "metadata": {},
     "output_type": "execute_result"
    }
   ],
   "source": [
    "movie['imdb-rating']"
   ]
  },
  {
   "cell_type": "code",
   "execution_count": 270,
   "id": "95929c69",
   "metadata": {},
   "outputs": [
    {
     "data": {
      "text/plain": [
       "8.9"
      ]
     },
     "execution_count": 270,
     "metadata": {},
     "output_type": "execute_result"
    }
   ],
   "source": [
    "movie1['imdb_rating']"
   ]
  },
  {
   "cell_type": "code",
   "execution_count": 271,
   "id": "d9812ec9",
   "metadata": {},
   "outputs": [
    {
     "data": {
      "text/plain": [
       "'adventure'"
      ]
     },
     "execution_count": 271,
     "metadata": {},
     "output_type": "execute_result"
    }
   ],
   "source": [
    "movie['genre']"
   ]
  },
  {
   "cell_type": "code",
   "execution_count": 272,
   "id": "e877dd8c",
   "metadata": {},
   "outputs": [
    {
     "data": {
      "text/plain": [
       "'thriller'"
      ]
     },
     "execution_count": 272,
     "metadata": {},
     "output_type": "execute_result"
    }
   ],
   "source": [
    "movie1['genre']"
   ]
  },
  {
   "cell_type": "code",
   "execution_count": 273,
   "id": "85064d56",
   "metadata": {},
   "outputs": [
    {
     "data": {
      "text/plain": [
       "True"
      ]
     },
     "execution_count": 273,
     "metadata": {},
     "output_type": "execute_result"
    }
   ],
   "source": [
    "movie['fun-to-watch']"
   ]
  },
  {
   "cell_type": "code",
   "execution_count": 275,
   "id": "f87e95de",
   "metadata": {},
   "outputs": [
    {
     "data": {
      "text/plain": [
       "True"
      ]
     },
     "execution_count": 275,
     "metadata": {},
     "output_type": "execute_result"
    }
   ],
   "source": [
    "movie1['fun_to_watch']"
   ]
  },
  {
   "cell_type": "code",
   "execution_count": 276,
   "id": "0e986cdb",
   "metadata": {
    "scrolled": true
   },
   "outputs": [
    {
     "ename": "KeyError",
     "evalue": "'views'",
     "output_type": "error",
     "traceback": [
      "\u001b[1;31m---------------------------------------------------------------------------\u001b[0m",
      "\u001b[1;31mKeyError\u001b[0m                                  Traceback (most recent call last)",
      "\u001b[1;32m~\\AppData\\Local\\Temp\\ipykernel_12100\\4099055634.py\u001b[0m in \u001b[0;36m<module>\u001b[1;34m\u001b[0m\n\u001b[1;32m----> 1\u001b[1;33m \u001b[0mmovie\u001b[0m\u001b[1;33m[\u001b[0m\u001b[1;34m'views'\u001b[0m\u001b[1;33m]\u001b[0m\u001b[1;33m\u001b[0m\u001b[1;33m\u001b[0m\u001b[0m\n\u001b[0m",
      "\u001b[1;31mKeyError\u001b[0m: 'views'"
     ]
    }
   ],
   "source": [
    "movie['views']"
   ]
  },
  {
   "cell_type": "markdown",
   "id": "fa08debc",
   "metadata": {},
   "source": [
    "can use get method to access the value associated with a key"
   ]
  },
  {
   "cell_type": "code",
   "execution_count": 277,
   "id": "9255f58e",
   "metadata": {},
   "outputs": [
    {
     "data": {
      "text/plain": [
       "'Jungle Book'"
      ]
     },
     "execution_count": 277,
     "metadata": {},
     "output_type": "execute_result"
    }
   ],
   "source": [
    "movie.get('name')"
   ]
  },
  {
   "cell_type": "markdown",
   "id": "2c89ce55",
   "metadata": {},
   "source": [
    "get method also takes a default value, returned if key is not present in dictionary"
   ]
  },
  {
   "cell_type": "code",
   "execution_count": 278,
   "id": "019de7d8",
   "metadata": {},
   "outputs": [
    {
     "data": {
      "text/plain": [
       "329043298"
      ]
     },
     "execution_count": 278,
     "metadata": {},
     "output_type": "execute_result"
    }
   ],
   "source": [
    "movie.get('views', 329043298)"
   ]
  },
  {
   "cell_type": "code",
   "execution_count": 279,
   "id": "481b4c62",
   "metadata": {},
   "outputs": [
    {
     "data": {
      "text/plain": [
       "{'name': 'Jungle Book',\n",
       " 'genre': 'adventure',\n",
       " 'imdb-rating': 8.2,\n",
       " 'fun-to-watch': True}"
      ]
     },
     "execution_count": 279,
     "metadata": {},
     "output_type": "execute_result"
    }
   ],
   "source": [
    "movie"
   ]
  },
  {
   "cell_type": "markdown",
   "id": "5d71c28d",
   "metadata": {},
   "source": [
    "With in operator, can check if key is present in dictionary"
   ]
  },
  {
   "cell_type": "code",
   "execution_count": 281,
   "id": "b3fc62be",
   "metadata": {},
   "outputs": [
    {
     "data": {
      "text/plain": [
       "True"
      ]
     },
     "execution_count": 281,
     "metadata": {},
     "output_type": "execute_result"
    }
   ],
   "source": [
    "'name' in movie"
   ]
  },
  {
   "cell_type": "code",
   "execution_count": 282,
   "id": "0b474865",
   "metadata": {},
   "outputs": [
    {
     "data": {
      "text/plain": [
       "True"
      ]
     },
     "execution_count": 282,
     "metadata": {},
     "output_type": "execute_result"
    }
   ],
   "source": [
    "'name' in movie1"
   ]
  },
  {
   "cell_type": "code",
   "execution_count": 283,
   "id": "363040a7",
   "metadata": {},
   "outputs": [
    {
     "data": {
      "text/plain": [
       "False"
      ]
     },
     "execution_count": 283,
     "metadata": {},
     "output_type": "execute_result"
    }
   ],
   "source": [
    "'views' in movie"
   ]
  },
  {
   "cell_type": "markdown",
   "id": "2b647e3d",
   "metadata": {},
   "source": [
    "can change the value associated with a key using assignment operator"
   ]
  },
  {
   "cell_type": "code",
   "execution_count": 284,
   "id": "f734791a",
   "metadata": {},
   "outputs": [],
   "source": [
    "movie['fun-to-watch'] = False"
   ]
  },
  {
   "cell_type": "code",
   "execution_count": 285,
   "id": "83e02634",
   "metadata": {},
   "outputs": [
    {
     "data": {
      "text/plain": [
       "{'name': 'Jungle Book',\n",
       " 'genre': 'adventure',\n",
       " 'imdb-rating': 8.2,\n",
       " 'fun-to-watch': False}"
      ]
     },
     "execution_count": 285,
     "metadata": {},
     "output_type": "execute_result"
    }
   ],
   "source": [
    "movie"
   ]
  },
  {
   "cell_type": "markdown",
   "id": "22073c0c",
   "metadata": {},
   "source": [
    "assignment operator can also be used to add new key-value pairs to dictionary"
   ]
  },
  {
   "cell_type": "code",
   "execution_count": 286,
   "id": "ced480bf",
   "metadata": {},
   "outputs": [],
   "source": [
    "movie['views'] = 32432142"
   ]
  },
  {
   "cell_type": "code",
   "execution_count": 287,
   "id": "7b718221",
   "metadata": {},
   "outputs": [
    {
     "data": {
      "text/plain": [
       "{'name': 'Jungle Book',\n",
       " 'genre': 'adventure',\n",
       " 'imdb-rating': 8.2,\n",
       " 'fun-to-watch': False,\n",
       " 'views': 32432142}"
      ]
     },
     "execution_count": 287,
     "metadata": {},
     "output_type": "execute_result"
    }
   ],
   "source": [
    "movie"
   ]
  },
  {
   "cell_type": "markdown",
   "id": "48e1a55c",
   "metadata": {},
   "source": [
    "to remove a key and the corresponding value from dictionary, use pop method and it returns removed corresponding value of key"
   ]
  },
  {
   "cell_type": "code",
   "execution_count": 288,
   "id": "87944eed",
   "metadata": {},
   "outputs": [
    {
     "data": {
      "text/plain": [
       "32432142"
      ]
     },
     "execution_count": 288,
     "metadata": {},
     "output_type": "execute_result"
    }
   ],
   "source": [
    "movie.pop('views')"
   ]
  },
  {
   "cell_type": "code",
   "execution_count": 289,
   "id": "9b9d1050",
   "metadata": {},
   "outputs": [
    {
     "data": {
      "text/plain": [
       "{'name': 'Jungle Book',\n",
       " 'genre': 'adventure',\n",
       " 'imdb-rating': 8.2,\n",
       " 'fun-to-watch': False}"
      ]
     },
     "execution_count": 289,
     "metadata": {},
     "output_type": "execute_result"
    }
   ],
   "source": [
    "movie"
   ]
  },
  {
   "cell_type": "markdown",
   "id": "ade2341e",
   "metadata": {},
   "source": [
    "to view list of keys, use .keys() method"
   ]
  },
  {
   "cell_type": "code",
   "execution_count": 290,
   "id": "b123c0e9",
   "metadata": {},
   "outputs": [
    {
     "data": {
      "text/plain": [
       "dict_keys(['name', 'genre', 'imdb-rating', 'fun-to-watch'])"
      ]
     },
     "execution_count": 290,
     "metadata": {},
     "output_type": "execute_result"
    }
   ],
   "source": [
    "movie.keys()"
   ]
  },
  {
   "cell_type": "markdown",
   "id": "92453a10",
   "metadata": {},
   "source": [
    "to view list of value, use .values() method"
   ]
  },
  {
   "cell_type": "code",
   "execution_count": 291,
   "id": "03aed2a0",
   "metadata": {},
   "outputs": [
    {
     "data": {
      "text/plain": [
       "dict_values(['Jungle Book', 'adventure', 8.2, False])"
      ]
     },
     "execution_count": 291,
     "metadata": {},
     "output_type": "execute_result"
    }
   ],
   "source": [
    "movie.values()"
   ]
  },
  {
   "cell_type": "code",
   "execution_count": 292,
   "id": "3640b9cc",
   "metadata": {},
   "outputs": [
    {
     "data": {
      "text/plain": [
       "dict_keys(['name', 'genre', 'imdb_rating', 'fun_to_watch'])"
      ]
     },
     "execution_count": 292,
     "metadata": {},
     "output_type": "execute_result"
    }
   ],
   "source": [
    "movie1.keys()"
   ]
  },
  {
   "cell_type": "code",
   "execution_count": 293,
   "id": "8717e3e6",
   "metadata": {},
   "outputs": [
    {
     "data": {
      "text/plain": [
       "dict_values(['Inception', 'thriller', 8.9, True])"
      ]
     },
     "execution_count": 293,
     "metadata": {},
     "output_type": "execute_result"
    }
   ],
   "source": [
    "movie1.values()"
   ]
  },
  {
   "cell_type": "markdown",
   "id": "4a4064e9",
   "metadata": {},
   "source": [
    "with .items() method, can view key-value seprated with commas in a list"
   ]
  },
  {
   "cell_type": "code",
   "execution_count": 294,
   "id": "df2c61fe",
   "metadata": {},
   "outputs": [
    {
     "data": {
      "text/plain": [
       "dict_items([('name', 'Jungle Book'), ('genre', 'adventure'), ('imdb-rating', 8.2), ('fun-to-watch', False)])"
      ]
     },
     "execution_count": 294,
     "metadata": {},
     "output_type": "execute_result"
    }
   ],
   "source": [
    "movie.items()"
   ]
  },
  {
   "cell_type": "code",
   "execution_count": 295,
   "id": "e23a7e57",
   "metadata": {},
   "outputs": [
    {
     "data": {
      "text/plain": [
       "dict_items([('name', 'Inception'), ('genre', 'thriller'), ('imdb_rating', 8.9), ('fun_to_watch', True)])"
      ]
     },
     "execution_count": 295,
     "metadata": {},
     "output_type": "execute_result"
    }
   ],
   "source": [
    "movie1.items()"
   ]
  },
  {
   "cell_type": "markdown",
   "id": "c34a8c60",
   "metadata": {},
   "source": [
    ".items() method doesn't support indexing operator [] to retrieve elements"
   ]
  },
  {
   "cell_type": "code",
   "execution_count": 296,
   "id": "e4ced594",
   "metadata": {},
   "outputs": [
    {
     "ename": "TypeError",
     "evalue": "'dict_items' object is not subscriptable",
     "output_type": "error",
     "traceback": [
      "\u001b[1;31m---------------------------------------------------------------------------\u001b[0m",
      "\u001b[1;31mTypeError\u001b[0m                                 Traceback (most recent call last)",
      "\u001b[1;32m~\\AppData\\Local\\Temp\\ipykernel_12100\\2133807492.py\u001b[0m in \u001b[0;36m<module>\u001b[1;34m\u001b[0m\n\u001b[1;32m----> 1\u001b[1;33m \u001b[0mmovie\u001b[0m\u001b[1;33m.\u001b[0m\u001b[0mitems\u001b[0m\u001b[1;33m(\u001b[0m\u001b[1;33m)\u001b[0m\u001b[1;33m[\u001b[0m\u001b[1;36m1\u001b[0m\u001b[1;33m]\u001b[0m\u001b[1;33m\u001b[0m\u001b[1;33m\u001b[0m\u001b[0m\n\u001b[0m",
      "\u001b[1;31mTypeError\u001b[0m: 'dict_items' object is not subscriptable"
     ]
    }
   ],
   "source": [
    "movie.items()[1]"
   ]
  },
  {
   "cell_type": "markdown",
   "id": "a31be2f9",
   "metadata": {},
   "source": [
    ".copy() method returns a copy of the dictionary"
   ]
  },
  {
   "cell_type": "code",
   "execution_count": 305,
   "id": "35a73b49",
   "metadata": {},
   "outputs": [],
   "source": [
    "movie_copy = movie.copy()"
   ]
  },
  {
   "cell_type": "code",
   "execution_count": 306,
   "id": "9ca778f0",
   "metadata": {},
   "outputs": [
    {
     "data": {
      "text/plain": [
       "{}"
      ]
     },
     "execution_count": 306,
     "metadata": {},
     "output_type": "execute_result"
    }
   ],
   "source": [
    "movie_copy"
   ]
  },
  {
   "cell_type": "code",
   "execution_count": 307,
   "id": "6bf1f7cb",
   "metadata": {},
   "outputs": [],
   "source": [
    "movie = {\n",
    "     'name': 'Jungle Book',\n",
    "     'genre': 'adventure',\n",
    "     'imdb-rating': 8.2,\n",
    "     'fun-to-watch': False\n",
    "}"
   ]
  },
  {
   "cell_type": "code",
   "execution_count": 308,
   "id": "422e9d65",
   "metadata": {},
   "outputs": [
    {
     "data": {
      "text/plain": [
       "{'name': 'Jungle Book',\n",
       " 'genre': 'adventure',\n",
       " 'imdb-rating': 8.2,\n",
       " 'fun-to-watch': False}"
      ]
     },
     "execution_count": 308,
     "metadata": {},
     "output_type": "execute_result"
    }
   ],
   "source": [
    "movie"
   ]
  },
  {
   "cell_type": "code",
   "execution_count": 309,
   "id": "dba3a825",
   "metadata": {},
   "outputs": [],
   "source": [
    "movie_copy = movie.copy()"
   ]
  },
  {
   "cell_type": "code",
   "execution_count": 310,
   "id": "80782a07",
   "metadata": {},
   "outputs": [
    {
     "data": {
      "text/plain": [
       "{'name': 'Jungle Book',\n",
       " 'genre': 'adventure',\n",
       " 'imdb-rating': 8.2,\n",
       " 'fun-to-watch': False}"
      ]
     },
     "execution_count": 310,
     "metadata": {},
     "output_type": "execute_result"
    }
   ],
   "source": [
    "movie_copy"
   ]
  },
  {
   "cell_type": "code",
   "execution_count": 311,
   "id": "982d1a2c",
   "metadata": {},
   "outputs": [
    {
     "data": {
      "text/plain": [
       "{'name': 'Jungle Book',\n",
       " 'genre': 'adventure',\n",
       " 'imdb-rating': 8.2,\n",
       " 'fun-to-watch': False}"
      ]
     },
     "execution_count": 311,
     "metadata": {},
     "output_type": "execute_result"
    }
   ],
   "source": [
    "movie"
   ]
  },
  {
   "cell_type": "markdown",
   "id": "57915fc7",
   "metadata": {},
   "source": [
    ".clear() method removed all elements from dictionary"
   ]
  },
  {
   "cell_type": "code",
   "execution_count": 312,
   "id": "9510404b",
   "metadata": {},
   "outputs": [],
   "source": [
    "movie.clear()"
   ]
  },
  {
   "cell_type": "code",
   "execution_count": 313,
   "id": "205159a6",
   "metadata": {},
   "outputs": [
    {
     "data": {
      "text/plain": [
       "{}"
      ]
     },
     "execution_count": 313,
     "metadata": {},
     "output_type": "execute_result"
    }
   ],
   "source": [
    "movie"
   ]
  },
  {
   "cell_type": "code",
   "execution_count": 314,
   "id": "b1dca0db",
   "metadata": {},
   "outputs": [
    {
     "data": {
      "text/plain": [
       "{'name': 'Jungle Book',\n",
       " 'genre': 'adventure',\n",
       " 'imdb-rating': 8.2,\n",
       " 'fun-to-watch': False}"
      ]
     },
     "execution_count": 314,
     "metadata": {},
     "output_type": "execute_result"
    }
   ],
   "source": [
    "movie_copy"
   ]
  },
  {
   "cell_type": "markdown",
   "id": "dbd84fae",
   "metadata": {},
   "source": [
    ".fromkeys() method returns a dictionary with specified keys and the specified value"
   ]
  },
  {
   "cell_type": "code",
   "execution_count": 324,
   "id": "e1fe40dd",
   "metadata": {},
   "outputs": [],
   "source": [
    "movie_1 = dict.fromkeys(('k1', 'k2', 'k3'), True)"
   ]
  },
  {
   "cell_type": "code",
   "execution_count": 325,
   "id": "c91807b2",
   "metadata": {},
   "outputs": [
    {
     "data": {
      "text/plain": [
       "{'k1': True, 'k2': True, 'k3': True}"
      ]
     },
     "execution_count": 325,
     "metadata": {},
     "output_type": "execute_result"
    }
   ],
   "source": [
    "movie_1"
   ]
  },
  {
   "cell_type": "markdown",
   "id": "5602ec1c",
   "metadata": {},
   "source": [
    "Return a dictionary with keys 'maths', 'phy', 'chem' with common value 75"
   ]
  },
  {
   "cell_type": "code",
   "execution_count": 326,
   "id": "5756cdf8",
   "metadata": {},
   "outputs": [],
   "source": [
    "marks = dict.fromkeys(('maths', 'phy', 'chem'), 75)"
   ]
  },
  {
   "cell_type": "code",
   "execution_count": 327,
   "id": "fc4e3411",
   "metadata": {},
   "outputs": [
    {
     "data": {
      "text/plain": [
       "{'maths': 75, 'phy': 75, 'chem': 75}"
      ]
     },
     "execution_count": 327,
     "metadata": {},
     "output_type": "execute_result"
    }
   ],
   "source": [
    "marks"
   ]
  },
  {
   "cell_type": "markdown",
   "id": "1340c48d",
   "metadata": {},
   "source": [
    "Return a dictionary with keys 'a','b','c' with no value"
   ]
  },
  {
   "cell_type": "code",
   "execution_count": 329,
   "id": "f5d62864",
   "metadata": {},
   "outputs": [],
   "source": [
    "dict1 = dict.fromkeys(('a','b','c'))"
   ]
  },
  {
   "cell_type": "code",
   "execution_count": 330,
   "id": "66961bf5",
   "metadata": {},
   "outputs": [
    {
     "data": {
      "text/plain": [
       "{'a': None, 'b': None, 'c': None}"
      ]
     },
     "execution_count": 330,
     "metadata": {},
     "output_type": "execute_result"
    }
   ],
   "source": [
    "dict1"
   ]
  },
  {
   "cell_type": "markdown",
   "id": "11cd8954",
   "metadata": {},
   "source": [
    ".popitem() removes the last key-value pair and return removed key-value"
   ]
  },
  {
   "cell_type": "code",
   "execution_count": 332,
   "id": "88b2a3c7",
   "metadata": {},
   "outputs": [
    {
     "data": {
      "text/plain": [
       "{'maths': 75, 'phy': 75, 'chem': 75}"
      ]
     },
     "execution_count": 332,
     "metadata": {},
     "output_type": "execute_result"
    }
   ],
   "source": [
    "marks"
   ]
  },
  {
   "cell_type": "code",
   "execution_count": 333,
   "id": "4a0002d3",
   "metadata": {},
   "outputs": [
    {
     "data": {
      "text/plain": [
       "('chem', 75)"
      ]
     },
     "execution_count": 333,
     "metadata": {},
     "output_type": "execute_result"
    }
   ],
   "source": [
    "marks.popitem()"
   ]
  },
  {
   "cell_type": "code",
   "execution_count": 334,
   "id": "903cfa98",
   "metadata": {},
   "outputs": [
    {
     "data": {
      "text/plain": [
       "{'maths': 75, 'phy': 75}"
      ]
     },
     "execution_count": 334,
     "metadata": {},
     "output_type": "execute_result"
    }
   ],
   "source": [
    "marks"
   ]
  },
  {
   "cell_type": "markdown",
   "id": "18c55ee1",
   "metadata": {},
   "source": [
    ".setdefault() method returns value of specified key, if key is available in dict, if it's not then it will insert the key with specified value"
   ]
  },
  {
   "cell_type": "code",
   "execution_count": 337,
   "id": "b765c1e2",
   "metadata": {},
   "outputs": [
    {
     "data": {
      "text/plain": [
       "75"
      ]
     },
     "execution_count": 337,
     "metadata": {},
     "output_type": "execute_result"
    }
   ],
   "source": [
    "marks.setdefault('maths', 70)"
   ]
  },
  {
   "cell_type": "code",
   "execution_count": 336,
   "id": "4292ce9c",
   "metadata": {},
   "outputs": [
    {
     "data": {
      "text/plain": [
       "75"
      ]
     },
     "execution_count": 336,
     "metadata": {},
     "output_type": "execute_result"
    }
   ],
   "source": [
    "marks1"
   ]
  },
  {
   "cell_type": "code",
   "execution_count": 341,
   "id": "9f4c97e3",
   "metadata": {},
   "outputs": [
    {
     "data": {
      "text/plain": [
       "80"
      ]
     },
     "execution_count": 341,
     "metadata": {},
     "output_type": "execute_result"
    }
   ],
   "source": [
    "marks.setdefault('economics', 80)"
   ]
  },
  {
   "cell_type": "code",
   "execution_count": 342,
   "id": "9e502d9e",
   "metadata": {},
   "outputs": [
    {
     "data": {
      "text/plain": [
       "{'maths': 75, 'phy': 75, 'economics': 80}"
      ]
     },
     "execution_count": 342,
     "metadata": {},
     "output_type": "execute_result"
    }
   ],
   "source": [
    "marks"
   ]
  },
  {
   "cell_type": "code",
   "execution_count": 343,
   "id": "b3e5dcdf",
   "metadata": {},
   "outputs": [
    {
     "data": {
      "text/plain": [
       "75"
      ]
     },
     "execution_count": 343,
     "metadata": {},
     "output_type": "execute_result"
    }
   ],
   "source": [
    "marks.setdefault('maths', 80)"
   ]
  },
  {
   "cell_type": "code",
   "execution_count": 344,
   "id": "8456dc4c",
   "metadata": {},
   "outputs": [],
   "source": [
    "marks.setdefault('hindi')"
   ]
  },
  {
   "cell_type": "code",
   "execution_count": 345,
   "id": "14f52025",
   "metadata": {},
   "outputs": [
    {
     "data": {
      "text/plain": [
       "{'maths': 75, 'phy': 75, 'economics': 80, 'hindi': None}"
      ]
     },
     "execution_count": 345,
     "metadata": {},
     "output_type": "execute_result"
    }
   ],
   "source": [
    "marks"
   ]
  },
  {
   "cell_type": "code",
   "execution_count": 346,
   "id": "ac170eec",
   "metadata": {},
   "outputs": [],
   "source": [
    "marks.get('hindi', 80)"
   ]
  },
  {
   "cell_type": "code",
   "execution_count": 347,
   "id": "abfffebe",
   "metadata": {},
   "outputs": [
    {
     "data": {
      "text/plain": [
       "{'maths': 75, 'phy': 75, 'economics': 80, 'hindi': None}"
      ]
     },
     "execution_count": 347,
     "metadata": {},
     "output_type": "execute_result"
    }
   ],
   "source": [
    "marks"
   ]
  },
  {
   "cell_type": "code",
   "execution_count": 348,
   "id": "2beebe2d",
   "metadata": {},
   "outputs": [],
   "source": [
    "marks.setdefault('hindi', 80)"
   ]
  },
  {
   "cell_type": "code",
   "execution_count": 349,
   "id": "2aa98b21",
   "metadata": {},
   "outputs": [
    {
     "data": {
      "text/plain": [
       "{'maths': 75, 'phy': 75, 'economics': 80, 'hindi': None}"
      ]
     },
     "execution_count": 349,
     "metadata": {},
     "output_type": "execute_result"
    }
   ],
   "source": [
    "marks"
   ]
  },
  {
   "cell_type": "code",
   "execution_count": 350,
   "id": "210f74cf",
   "metadata": {},
   "outputs": [],
   "source": [
    "marks.get('hindi', 80)"
   ]
  },
  {
   "cell_type": "code",
   "execution_count": 351,
   "id": "ee21f218",
   "metadata": {},
   "outputs": [
    {
     "data": {
      "text/plain": [
       "{'maths': 75, 'phy': 75, 'economics': 80, 'hindi': None}"
      ]
     },
     "execution_count": 351,
     "metadata": {},
     "output_type": "execute_result"
    }
   ],
   "source": [
    "marks"
   ]
  },
  {
   "cell_type": "code",
   "execution_count": 352,
   "id": "2c054dcd",
   "metadata": {},
   "outputs": [
    {
     "data": {
      "text/plain": [
       "80"
      ]
     },
     "execution_count": 352,
     "metadata": {},
     "output_type": "execute_result"
    }
   ],
   "source": [
    "marks.setdefault('eng', 80)"
   ]
  },
  {
   "cell_type": "code",
   "execution_count": 353,
   "id": "53e25afb",
   "metadata": {},
   "outputs": [
    {
     "data": {
      "text/plain": [
       "{'maths': 75, 'phy': 75, 'economics': 80, 'hindi': None, 'eng': 80}"
      ]
     },
     "execution_count": 353,
     "metadata": {},
     "output_type": "execute_result"
    }
   ],
   "source": [
    "marks"
   ]
  },
  {
   "cell_type": "markdown",
   "id": "1f6570b1",
   "metadata": {},
   "source": [
    ".update() method inserts specified item to the dict, argument takes a dict of key-value pair within parenthesis"
   ]
  },
  {
   "cell_type": "code",
   "execution_count": 354,
   "id": "e81a6b06",
   "metadata": {},
   "outputs": [
    {
     "data": {
      "text/plain": [
       "{'maths': 75, 'phy': 75, 'economics': 80, 'hindi': None, 'eng': 80}"
      ]
     },
     "execution_count": 354,
     "metadata": {},
     "output_type": "execute_result"
    }
   ],
   "source": [
    "marks"
   ]
  },
  {
   "cell_type": "code",
   "execution_count": 357,
   "id": "09d59d69",
   "metadata": {},
   "outputs": [],
   "source": [
    "marks.update({'statistics': 91})"
   ]
  },
  {
   "cell_type": "code",
   "execution_count": 358,
   "id": "b9b0b233",
   "metadata": {},
   "outputs": [
    {
     "data": {
      "text/plain": [
       "{'maths': 75,\n",
       " 'phy': 75,\n",
       " 'economics': 80,\n",
       " 'hindi': None,\n",
       " 'eng': 80,\n",
       " 'statistics': 91}"
      ]
     },
     "execution_count": 358,
     "metadata": {},
     "output_type": "execute_result"
    }
   ],
   "source": [
    "marks"
   ]
  },
  {
   "cell_type": "markdown",
   "id": "5eba4257",
   "metadata": {},
   "source": [
    "What happens if you use the same key multiple times while creating a dictionary?"
   ]
  },
  {
   "cell_type": "code",
   "execution_count": 361,
   "id": "c3242908",
   "metadata": {},
   "outputs": [],
   "source": [
    "some_dict = {\n",
    "    'a': 1,\n",
    "    'a': 2,\n",
    "    'a': True\n",
    "}"
   ]
  },
  {
   "cell_type": "code",
   "execution_count": 362,
   "id": "03177523",
   "metadata": {},
   "outputs": [
    {
     "data": {
      "text/plain": [
       "{'a': True}"
      ]
     },
     "execution_count": 362,
     "metadata": {},
     "output_type": "execute_result"
    }
   ],
   "source": [
    "some_dict"
   ]
  },
  {
   "cell_type": "markdown",
   "id": "40411009",
   "metadata": {},
   "source": [
    "if keys are same, dict will take the last same key and its value"
   ]
  },
  {
   "cell_type": "markdown",
   "id": "727cbdfe",
   "metadata": {},
   "source": [
    "How can you create a copy of a dictionary (modifying the copy should not change the original)?"
   ]
  },
  {
   "cell_type": "markdown",
   "id": "9c23c760",
   "metadata": {},
   "source": [
    "with .copy method"
   ]
  },
  {
   "cell_type": "code",
   "execution_count": 363,
   "id": "6a74e979",
   "metadata": {},
   "outputs": [
    {
     "data": {
      "text/plain": [
       "{'maths': 75,\n",
       " 'phy': 75,\n",
       " 'economics': 80,\n",
       " 'hindi': None,\n",
       " 'eng': 80,\n",
       " 'statistics': 91}"
      ]
     },
     "execution_count": 363,
     "metadata": {},
     "output_type": "execute_result"
    }
   ],
   "source": [
    "marks"
   ]
  },
  {
   "cell_type": "code",
   "execution_count": 364,
   "id": "2fd99edd",
   "metadata": {},
   "outputs": [],
   "source": [
    "marks_copy = marks.copy()"
   ]
  },
  {
   "cell_type": "code",
   "execution_count": 365,
   "id": "1458b648",
   "metadata": {},
   "outputs": [
    {
     "data": {
      "text/plain": [
       "('statistics', 91)"
      ]
     },
     "execution_count": 365,
     "metadata": {},
     "output_type": "execute_result"
    }
   ],
   "source": [
    "marks_copy.popitem()"
   ]
  },
  {
   "cell_type": "code",
   "execution_count": 366,
   "id": "6dd679ac",
   "metadata": {},
   "outputs": [
    {
     "data": {
      "text/plain": [
       "{'maths': 75, 'phy': 75, 'economics': 80, 'hindi': None, 'eng': 80}"
      ]
     },
     "execution_count": 366,
     "metadata": {},
     "output_type": "execute_result"
    }
   ],
   "source": [
    "marks_copy"
   ]
  },
  {
   "cell_type": "code",
   "execution_count": 367,
   "id": "42752322",
   "metadata": {},
   "outputs": [
    {
     "data": {
      "text/plain": [
       "{'maths': 75,\n",
       " 'phy': 75,\n",
       " 'economics': 80,\n",
       " 'hindi': None,\n",
       " 'eng': 80,\n",
       " 'statistics': 91}"
      ]
     },
     "execution_count": 367,
     "metadata": {},
     "output_type": "execute_result"
    }
   ],
   "source": [
    "marks"
   ]
  },
  {
   "cell_type": "markdown",
   "id": "e61e1b72",
   "metadata": {},
   "source": [
    "Can the value associated with a key itself be a dictionary?"
   ]
  },
  {
   "cell_type": "code",
   "execution_count": 370,
   "id": "b733c3dd",
   "metadata": {},
   "outputs": [],
   "source": [
    "dict2 = {\n",
    "    'a':1,\n",
    "    'b': {\n",
    "        'c': 3,\n",
    "        'd': 5\n",
    "        },\n",
    "    'e':7 \n",
    "    \n",
    "}"
   ]
  },
  {
   "cell_type": "code",
   "execution_count": 371,
   "id": "0300ce76",
   "metadata": {},
   "outputs": [
    {
     "data": {
      "text/plain": [
       "{'a': 1, 'b': {'c': 3, 'd': 5}, 'e': 7}"
      ]
     },
     "execution_count": 371,
     "metadata": {},
     "output_type": "execute_result"
    }
   ],
   "source": [
    "dict2"
   ]
  },
  {
   "cell_type": "markdown",
   "id": "26adc13e",
   "metadata": {},
   "source": [
    "Yes, a value associated with a key can be a dictionary itself"
   ]
  },
  {
   "cell_type": "markdown",
   "id": "d462c23c",
   "metadata": {},
   "source": [
    "How can you add the key-value pairs from one dictionary into another dictionary? Hint: See the update method."
   ]
  },
  {
   "cell_type": "code",
   "execution_count": 372,
   "id": "7f4c04f9",
   "metadata": {},
   "outputs": [
    {
     "data": {
      "text/plain": [
       "{'maths': 75,\n",
       " 'phy': 75,\n",
       " 'economics': 80,\n",
       " 'hindi': None,\n",
       " 'eng': 80,\n",
       " 'statistics': 91}"
      ]
     },
     "execution_count": 372,
     "metadata": {},
     "output_type": "execute_result"
    }
   ],
   "source": [
    "marks"
   ]
  },
  {
   "cell_type": "code",
   "execution_count": 373,
   "id": "5e314068",
   "metadata": {},
   "outputs": [
    {
     "data": {
      "text/plain": [
       "{'a': 1, 'b': {'c': 3, 'd': 5}, 'e': 7}"
      ]
     },
     "execution_count": 373,
     "metadata": {},
     "output_type": "execute_result"
    }
   ],
   "source": [
    "dict2"
   ]
  },
  {
   "cell_type": "code",
   "execution_count": 374,
   "id": "d37b3bd1",
   "metadata": {},
   "outputs": [],
   "source": [
    "marks.update(dict2)"
   ]
  },
  {
   "cell_type": "code",
   "execution_count": 375,
   "id": "1191ab59",
   "metadata": {},
   "outputs": [
    {
     "data": {
      "text/plain": [
       "{'maths': 75,\n",
       " 'phy': 75,\n",
       " 'economics': 80,\n",
       " 'hindi': None,\n",
       " 'eng': 80,\n",
       " 'statistics': 91,\n",
       " 'a': 1,\n",
       " 'b': {'c': 3, 'd': 5},\n",
       " 'e': 7}"
      ]
     },
     "execution_count": 375,
     "metadata": {},
     "output_type": "execute_result"
    }
   ],
   "source": [
    "marks"
   ]
  },
  {
   "cell_type": "markdown",
   "id": "0d896053",
   "metadata": {},
   "source": [
    "With .update() method, a dictionary can be added into another dictionary"
   ]
  },
  {
   "cell_type": "markdown",
   "id": "9358e64e",
   "metadata": {},
   "source": [
    "Can the dictionary's keys be something other than a string, e.g., a number, boolean, list, etc.?"
   ]
  },
  {
   "cell_type": "code",
   "execution_count": 399,
   "id": "d372b740",
   "metadata": {},
   "outputs": [],
   "source": [
    "dict3 = {\n",
    "    1: 7,\n",
    "    True: 3,\n",
    "    3: 4\n",
    "}"
   ]
  },
  {
   "cell_type": "code",
   "execution_count": 400,
   "id": "68162ffe",
   "metadata": {},
   "outputs": [
    {
     "data": {
      "text/plain": [
       "{1: 3, 3: 4}"
      ]
     },
     "execution_count": 400,
     "metadata": {},
     "output_type": "execute_result"
    }
   ],
   "source": [
    "dict3"
   ]
  },
  {
   "cell_type": "code",
   "execution_count": 401,
   "id": "76afbfb7",
   "metadata": {},
   "outputs": [
    {
     "data": {
      "text/plain": [
       "3"
      ]
     },
     "execution_count": 401,
     "metadata": {},
     "output_type": "execute_result"
    }
   ],
   "source": [
    "dict3[1]"
   ]
  },
  {
   "cell_type": "code",
   "execution_count": 402,
   "id": "8220c98c",
   "metadata": {},
   "outputs": [
    {
     "data": {
      "text/plain": [
       "3"
      ]
     },
     "execution_count": 402,
     "metadata": {},
     "output_type": "execute_result"
    }
   ],
   "source": [
    "dict3[True]"
   ]
  },
  {
   "cell_type": "code",
   "execution_count": 403,
   "id": "622b3623",
   "metadata": {},
   "outputs": [
    {
     "data": {
      "text/plain": [
       "4"
      ]
     },
     "execution_count": 403,
     "metadata": {},
     "output_type": "execute_result"
    }
   ],
   "source": [
    "dict3[3]"
   ]
  },
  {
   "cell_type": "code",
   "execution_count": null,
   "id": "46db8e5b",
   "metadata": {},
   "outputs": [],
   "source": []
  },
  {
   "cell_type": "markdown",
   "id": "9aff0ef3",
   "metadata": {},
   "source": [
    "key can be a number, boolean but can't be a list. Also with bool as a key"
   ]
  }
 ],
 "metadata": {
  "kernelspec": {
   "display_name": "Python 3 (ipykernel)",
   "language": "python",
   "name": "python3"
  },
  "language_info": {
   "codemirror_mode": {
    "name": "ipython",
    "version": 3
   },
   "file_extension": ".py",
   "mimetype": "text/x-python",
   "name": "python",
   "nbconvert_exporter": "python",
   "pygments_lexer": "ipython3",
   "version": "3.9.13"
  }
 },
 "nbformat": 4,
 "nbformat_minor": 5
}
