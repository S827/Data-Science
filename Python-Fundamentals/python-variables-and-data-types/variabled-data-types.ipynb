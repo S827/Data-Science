{
 "cells": [
  {
   "cell_type": "code",
   "execution_count": 1,
   "id": "a6abb60b",
   "metadata": {},
   "outputs": [
    {
     "data": {
      "text/plain": [
       "'light blue'"
      ]
     },
     "execution_count": 1,
     "metadata": {},
     "output_type": "execute_result"
    }
   ],
   "source": [
    "my_fav_color = \"light blue\"\n",
    "my_fav_color"
   ]
  },
  {
   "cell_type": "code",
   "execution_count": 3,
   "id": "686bfdf3",
   "metadata": {},
   "outputs": [],
   "source": [
    "col1, col2, col3 = \"red\", \"green\", \"black\""
   ]
  },
  {
   "cell_type": "code",
   "execution_count": 4,
   "id": "9bae9b6b",
   "metadata": {},
   "outputs": [
    {
     "data": {
      "text/plain": [
       "'red'"
      ]
     },
     "execution_count": 4,
     "metadata": {},
     "output_type": "execute_result"
    }
   ],
   "source": [
    "col1"
   ]
  },
  {
   "cell_type": "code",
   "execution_count": 5,
   "id": "4238bf1d",
   "metadata": {},
   "outputs": [
    {
     "data": {
      "text/plain": [
       "'green'"
      ]
     },
     "execution_count": 5,
     "metadata": {},
     "output_type": "execute_result"
    }
   ],
   "source": [
    "col2"
   ]
  },
  {
   "cell_type": "code",
   "execution_count": 6,
   "id": "8c560bad",
   "metadata": {},
   "outputs": [
    {
     "data": {
      "text/plain": [
       "'black'"
      ]
     },
     "execution_count": 6,
     "metadata": {},
     "output_type": "execute_result"
    }
   ],
   "source": [
    "col3"
   ]
  },
  {
   "cell_type": "code",
   "execution_count": 7,
   "id": "f54d0152",
   "metadata": {},
   "outputs": [],
   "source": [
    "col4 = col5 = col6 = \"purple\""
   ]
  },
  {
   "cell_type": "code",
   "execution_count": 8,
   "id": "800a08d4",
   "metadata": {},
   "outputs": [
    {
     "data": {
      "text/plain": [
       "'purple'"
      ]
     },
     "execution_count": 8,
     "metadata": {},
     "output_type": "execute_result"
    }
   ],
   "source": [
    "col4"
   ]
  },
  {
   "cell_type": "code",
   "execution_count": 9,
   "id": "575edc3b",
   "metadata": {},
   "outputs": [
    {
     "data": {
      "text/plain": [
       "'purple'"
      ]
     },
     "execution_count": 9,
     "metadata": {},
     "output_type": "execute_result"
    }
   ],
   "source": [
    "col5"
   ]
  },
  {
   "cell_type": "code",
   "execution_count": 10,
   "id": "14384aa4",
   "metadata": {},
   "outputs": [
    {
     "data": {
      "text/plain": [
       "'purple'"
      ]
     },
     "execution_count": 10,
     "metadata": {},
     "output_type": "execute_result"
    }
   ],
   "source": [
    "col6"
   ]
  },
  {
   "cell_type": "code",
   "execution_count": 11,
   "id": "b45388bc",
   "metadata": {},
   "outputs": [],
   "source": [
    "my_fav_col = \"green\""
   ]
  },
  {
   "cell_type": "code",
   "execution_count": 12,
   "id": "3531e33c",
   "metadata": {},
   "outputs": [
    {
     "data": {
      "text/plain": [
       "'green'"
      ]
     },
     "execution_count": 12,
     "metadata": {},
     "output_type": "execute_result"
    }
   ],
   "source": [
    "my_fav_col"
   ]
  },
  {
   "cell_type": "code",
   "execution_count": 13,
   "id": "46ee7956",
   "metadata": {},
   "outputs": [],
   "source": [
    "my_fav_col = \"black\""
   ]
  },
  {
   "cell_type": "code",
   "execution_count": 14,
   "id": "b31fd755",
   "metadata": {},
   "outputs": [
    {
     "data": {
      "text/plain": [
       "'black'"
      ]
     },
     "execution_count": 14,
     "metadata": {},
     "output_type": "execute_result"
    }
   ],
   "source": [
    "my_fav_col"
   ]
  },
  {
   "cell_type": "code",
   "execution_count": 15,
   "id": "6b7f64db",
   "metadata": {},
   "outputs": [],
   "source": [
    "count = 3"
   ]
  },
  {
   "cell_type": "code",
   "execution_count": 16,
   "id": "554164ac",
   "metadata": {},
   "outputs": [],
   "source": [
    "count = count +3"
   ]
  },
  {
   "cell_type": "code",
   "execution_count": 17,
   "id": "be93c1c4",
   "metadata": {},
   "outputs": [
    {
     "data": {
      "text/plain": [
       "6"
      ]
     },
     "execution_count": 17,
     "metadata": {},
     "output_type": "execute_result"
    }
   ],
   "source": [
    "count"
   ]
  },
  {
   "cell_type": "code",
   "execution_count": 18,
   "id": "7019cc7c",
   "metadata": {},
   "outputs": [],
   "source": [
    "count = 56"
   ]
  },
  {
   "cell_type": "code",
   "execution_count": 19,
   "id": "e4544f1a",
   "metadata": {},
   "outputs": [],
   "source": [
    "count += 10"
   ]
  },
  {
   "cell_type": "code",
   "execution_count": 20,
   "id": "7ff53249",
   "metadata": {},
   "outputs": [
    {
     "data": {
      "text/plain": [
       "66"
      ]
     },
     "execution_count": 20,
     "metadata": {},
     "output_type": "execute_result"
    }
   ],
   "source": [
    "count"
   ]
  },
  {
   "cell_type": "code",
   "execution_count": 22,
   "id": "8da6d8b0",
   "metadata": {},
   "outputs": [],
   "source": [
    "a_var = 34\n",
    "is_today_saturday = False\n",
    "my_fav_car = \"tesla\"\n",
    "the_3_muskeeters = ['amar', 'akbar', 'anthony']"
   ]
  },
  {
   "cell_type": "code",
   "execution_count": 23,
   "id": "c90e03a8",
   "metadata": {},
   "outputs": [
    {
     "data": {
      "text/plain": [
       "34"
      ]
     },
     "execution_count": 23,
     "metadata": {},
     "output_type": "execute_result"
    }
   ],
   "source": [
    "a_var"
   ]
  },
  {
   "cell_type": "code",
   "execution_count": 24,
   "id": "2373fa2b",
   "metadata": {},
   "outputs": [
    {
     "data": {
      "text/plain": [
       "False"
      ]
     },
     "execution_count": 24,
     "metadata": {},
     "output_type": "execute_result"
    }
   ],
   "source": [
    "is_today_saturday"
   ]
  },
  {
   "cell_type": "code",
   "execution_count": 25,
   "id": "6d3eb932",
   "metadata": {},
   "outputs": [
    {
     "data": {
      "text/plain": [
       "'tesla'"
      ]
     },
     "execution_count": 25,
     "metadata": {},
     "output_type": "execute_result"
    }
   ],
   "source": [
    "my_fav_car"
   ]
  },
  {
   "cell_type": "code",
   "execution_count": 26,
   "id": "dca3ec0f",
   "metadata": {},
   "outputs": [
    {
     "data": {
      "text/plain": [
       "['amar', 'akbar', 'anthony']"
      ]
     },
     "execution_count": 26,
     "metadata": {},
     "output_type": "execute_result"
    }
   ],
   "source": [
    "the_3_muskeeters"
   ]
  },
  {
   "cell_type": "code",
   "execution_count": 27,
   "id": "199b4df6",
   "metadata": {},
   "outputs": [
    {
     "ename": "SyntaxError",
     "evalue": "invalid syntax (728727500.py, line 1)",
     "output_type": "error",
     "traceback": [
      "\u001b[1;36m  File \u001b[1;32m\"C:\\Users\\INDIA\\AppData\\Local\\Temp\\ipykernel_12148\\728727500.py\"\u001b[1;36m, line \u001b[1;32m1\u001b[0m\n\u001b[1;33m    a var = 23\u001b[0m\n\u001b[1;37m      ^\u001b[0m\n\u001b[1;31mSyntaxError\u001b[0m\u001b[1;31m:\u001b[0m invalid syntax\n"
     ]
    }
   ],
   "source": [
    "a var = 23"
   ]
  },
  {
   "cell_type": "code",
   "execution_count": 28,
   "id": "04cd08ff",
   "metadata": {},
   "outputs": [],
   "source": [
    "a_var = 23"
   ]
  },
  {
   "cell_type": "code",
   "execution_count": 29,
   "id": "b0a1a843",
   "metadata": {},
   "outputs": [
    {
     "ename": "SyntaxError",
     "evalue": "invalid syntax (3968258449.py, line 1)",
     "output_type": "error",
     "traceback": [
      "\u001b[1;36m  File \u001b[1;32m\"C:\\Users\\INDIA\\AppData\\Local\\Temp\\ipykernel_12148\\3968258449.py\"\u001b[1;36m, line \u001b[1;32m1\u001b[0m\n\u001b[1;33m    is_today_$aturday\u001b[0m\n\u001b[1;37m             ^\u001b[0m\n\u001b[1;31mSyntaxError\u001b[0m\u001b[1;31m:\u001b[0m invalid syntax\n"
     ]
    }
   ],
   "source": [
    "is_today_$aturday"
   ]
  },
  {
   "cell_type": "code",
   "execution_count": 30,
   "id": "4dc9f41e",
   "metadata": {},
   "outputs": [
    {
     "data": {
      "text/plain": [
       "False"
      ]
     },
     "execution_count": 30,
     "metadata": {},
     "output_type": "execute_result"
    }
   ],
   "source": [
    "is_today_saturday"
   ]
  },
  {
   "cell_type": "code",
   "execution_count": 31,
   "id": "c26f0067",
   "metadata": {},
   "outputs": [
    {
     "ename": "NameError",
     "evalue": "name 'my' is not defined",
     "output_type": "error",
     "traceback": [
      "\u001b[1;31m---------------------------------------------------------------------------\u001b[0m",
      "\u001b[1;31mNameError\u001b[0m                                 Traceback (most recent call last)",
      "\u001b[1;32m~\\AppData\\Local\\Temp\\ipykernel_12148\\701379264.py\u001b[0m in \u001b[0;36m<module>\u001b[1;34m\u001b[0m\n\u001b[1;32m----> 1\u001b[1;33m \u001b[0mmy\u001b[0m\u001b[1;33m-\u001b[0m\u001b[0mfav\u001b[0m\u001b[1;33m-\u001b[0m\u001b[0mcar\u001b[0m\u001b[1;33m\u001b[0m\u001b[1;33m\u001b[0m\u001b[0m\n\u001b[0m",
      "\u001b[1;31mNameError\u001b[0m: name 'my' is not defined"
     ]
    }
   ],
   "source": [
    "my-fav-car"
   ]
  },
  {
   "cell_type": "code",
   "execution_count": 32,
   "id": "10ab0a51",
   "metadata": {},
   "outputs": [
    {
     "data": {
      "text/plain": [
       "'tesla'"
      ]
     },
     "execution_count": 32,
     "metadata": {},
     "output_type": "execute_result"
    }
   ],
   "source": [
    "my_fav_car"
   ]
  },
  {
   "cell_type": "code",
   "execution_count": 33,
   "id": "6ada30bf",
   "metadata": {},
   "outputs": [
    {
     "ename": "SyntaxError",
     "evalue": "invalid decimal literal (1403766374.py, line 1)",
     "output_type": "error",
     "traceback": [
      "\u001b[1;36m  File \u001b[1;32m\"C:\\Users\\INDIA\\AppData\\Local\\Temp\\ipykernel_12148\\1403766374.py\"\u001b[1;36m, line \u001b[1;32m1\u001b[0m\n\u001b[1;33m    3_muskeeters\u001b[0m\n\u001b[1;37m     ^\u001b[0m\n\u001b[1;31mSyntaxError\u001b[0m\u001b[1;31m:\u001b[0m invalid decimal literal\n"
     ]
    }
   ],
   "source": [
    "3_muskeeters"
   ]
  },
  {
   "cell_type": "code",
   "execution_count": 34,
   "id": "4d1c4d27",
   "metadata": {},
   "outputs": [
    {
     "data": {
      "text/plain": [
       "['amar', 'akbar', 'anthony']"
      ]
     },
     "execution_count": 34,
     "metadata": {},
     "output_type": "execute_result"
    }
   ],
   "source": [
    "the_3_muskeeters"
   ]
  },
  {
   "cell_type": "code",
   "execution_count": 35,
   "id": "fadf469a",
   "metadata": {},
   "outputs": [
    {
     "ename": "SyntaxError",
     "evalue": "invalid syntax (3528599804.py, line 1)",
     "output_type": "error",
     "traceback": [
      "\u001b[1;36m  File \u001b[1;32m\"C:\\Users\\INDIA\\AppData\\Local\\Temp\\ipykernel_12148\\3528599804.py\"\u001b[1;36m, line \u001b[1;32m1\u001b[0m\n\u001b[1;33m    git status\u001b[0m\n\u001b[1;37m        ^\u001b[0m\n\u001b[1;31mSyntaxError\u001b[0m\u001b[1;31m:\u001b[0m invalid syntax\n"
     ]
    }
   ],
   "source": [
    "git status"
   ]
  },
  {
   "cell_type": "code",
   "execution_count": 36,
   "id": "c5ea9986",
   "metadata": {},
   "outputs": [
    {
     "data": {
      "text/plain": [
       "23"
      ]
     },
     "execution_count": 36,
     "metadata": {},
     "output_type": "execute_result"
    }
   ],
   "source": [
    "a_var"
   ]
  },
  {
   "cell_type": "code",
   "execution_count": 37,
   "id": "7c00ef45",
   "metadata": {},
   "outputs": [
    {
     "data": {
      "text/plain": [
       "int"
      ]
     },
     "execution_count": 37,
     "metadata": {},
     "output_type": "execute_result"
    }
   ],
   "source": [
    "type(a_var)"
   ]
  },
  {
   "cell_type": "code",
   "execution_count": 38,
   "id": "5ba507a7",
   "metadata": {},
   "outputs": [
    {
     "data": {
      "text/plain": [
       "False"
      ]
     },
     "execution_count": 38,
     "metadata": {},
     "output_type": "execute_result"
    }
   ],
   "source": [
    "is_today_saturday"
   ]
  },
  {
   "cell_type": "code",
   "execution_count": 39,
   "id": "955a161d",
   "metadata": {},
   "outputs": [
    {
     "data": {
      "text/plain": [
       "bool"
      ]
     },
     "execution_count": 39,
     "metadata": {},
     "output_type": "execute_result"
    }
   ],
   "source": [
    "type(is_today_saturday)"
   ]
  },
  {
   "cell_type": "code",
   "execution_count": 40,
   "id": "1656d262",
   "metadata": {},
   "outputs": [
    {
     "data": {
      "text/plain": [
       "'tesla'"
      ]
     },
     "execution_count": 40,
     "metadata": {},
     "output_type": "execute_result"
    }
   ],
   "source": [
    "my_fav_car"
   ]
  },
  {
   "cell_type": "code",
   "execution_count": 41,
   "id": "e6753051",
   "metadata": {},
   "outputs": [
    {
     "data": {
      "text/plain": [
       "str"
      ]
     },
     "execution_count": 41,
     "metadata": {},
     "output_type": "execute_result"
    }
   ],
   "source": [
    "type(my_fav_car)"
   ]
  },
  {
   "cell_type": "code",
   "execution_count": 42,
   "id": "bbb86801",
   "metadata": {},
   "outputs": [
    {
     "ename": "NameError",
     "evalue": "name 'the_3_musketeers' is not defined",
     "output_type": "error",
     "traceback": [
      "\u001b[1;31m---------------------------------------------------------------------------\u001b[0m",
      "\u001b[1;31mNameError\u001b[0m                                 Traceback (most recent call last)",
      "\u001b[1;32m~\\AppData\\Local\\Temp\\ipykernel_12148\\1645490061.py\u001b[0m in \u001b[0;36m<module>\u001b[1;34m\u001b[0m\n\u001b[1;32m----> 1\u001b[1;33m \u001b[0mthe_3_musketeers\u001b[0m\u001b[1;33m\u001b[0m\u001b[1;33m\u001b[0m\u001b[0m\n\u001b[0m",
      "\u001b[1;31mNameError\u001b[0m: name 'the_3_musketeers' is not defined"
     ]
    }
   ],
   "source": [
    "the_3_musketeers"
   ]
  },
  {
   "cell_type": "code",
   "execution_count": 43,
   "id": "8e0824d5",
   "metadata": {},
   "outputs": [
    {
     "data": {
      "text/plain": [
       "['amar', 'akbar', 'anthony']"
      ]
     },
     "execution_count": 43,
     "metadata": {},
     "output_type": "execute_result"
    }
   ],
   "source": [
    "the_3_muskeeters"
   ]
  },
  {
   "cell_type": "code",
   "execution_count": 44,
   "id": "f85e21ee",
   "metadata": {},
   "outputs": [
    {
     "data": {
      "text/plain": [
       "list"
      ]
     },
     "execution_count": 44,
     "metadata": {},
     "output_type": "execute_result"
    }
   ],
   "source": [
    "type(the_3_muskeeters)"
   ]
  },
  {
   "cell_type": "markdown",
   "id": "1ca1991a",
   "metadata": {},
   "source": [
    "# Integer Data Type"
   ]
  },
  {
   "cell_type": "code",
   "execution_count": 45,
   "id": "74d8264e",
   "metadata": {},
   "outputs": [],
   "source": [
    "current_year = 2023"
   ]
  },
  {
   "cell_type": "code",
   "execution_count": 46,
   "id": "6c152432",
   "metadata": {},
   "outputs": [
    {
     "data": {
      "text/plain": [
       "2023"
      ]
     },
     "execution_count": 46,
     "metadata": {},
     "output_type": "execute_result"
    }
   ],
   "source": [
    "current_year"
   ]
  },
  {
   "cell_type": "code",
   "execution_count": 47,
   "id": "1bd26c77",
   "metadata": {},
   "outputs": [
    {
     "data": {
      "text/plain": [
       "int"
      ]
     },
     "execution_count": 47,
     "metadata": {},
     "output_type": "execute_result"
    }
   ],
   "source": [
    "type(current_year)"
   ]
  },
  {
   "cell_type": "code",
   "execution_count": 48,
   "id": "324d07a3",
   "metadata": {},
   "outputs": [],
   "source": [
    "a_large_negative_number = -321842981349827398473298892137843278892374823"
   ]
  },
  {
   "cell_type": "code",
   "execution_count": 49,
   "id": "79c126ac",
   "metadata": {},
   "outputs": [
    {
     "data": {
      "text/plain": [
       "-321842981349827398473298892137843278892374823"
      ]
     },
     "execution_count": 49,
     "metadata": {},
     "output_type": "execute_result"
    }
   ],
   "source": [
    "a_large_negative_number"
   ]
  },
  {
   "cell_type": "markdown",
   "id": "e4c04822",
   "metadata": {},
   "source": [
    "# Float Data Type"
   ]
  },
  {
   "cell_type": "code",
   "execution_count": 50,
   "id": "3ce1af4a",
   "metadata": {},
   "outputs": [],
   "source": [
    "pi = 3.141592653589793238"
   ]
  },
  {
   "cell_type": "code",
   "execution_count": 51,
   "id": "5cc3f156",
   "metadata": {},
   "outputs": [
    {
     "data": {
      "text/plain": [
       "3.141592653589793"
      ]
     },
     "execution_count": 51,
     "metadata": {},
     "output_type": "execute_result"
    }
   ],
   "source": [
    "pi"
   ]
  },
  {
   "cell_type": "code",
   "execution_count": 52,
   "id": "fb4af3b3",
   "metadata": {},
   "outputs": [
    {
     "data": {
      "text/plain": [
       "float"
      ]
     },
     "execution_count": 52,
     "metadata": {},
     "output_type": "execute_result"
    }
   ],
   "source": [
    "type(pi)"
   ]
  },
  {
   "cell_type": "code",
   "execution_count": 53,
   "id": "9efa3ed1",
   "metadata": {},
   "outputs": [],
   "source": [
    "a_number = 3.0"
   ]
  },
  {
   "cell_type": "code",
   "execution_count": 54,
   "id": "280ed70f",
   "metadata": {},
   "outputs": [
    {
     "data": {
      "text/plain": [
       "3.0"
      ]
     },
     "execution_count": 54,
     "metadata": {},
     "output_type": "execute_result"
    }
   ],
   "source": [
    "a_number"
   ]
  },
  {
   "cell_type": "code",
   "execution_count": 55,
   "id": "fcae8f20",
   "metadata": {},
   "outputs": [
    {
     "data": {
      "text/plain": [
       "float"
      ]
     },
     "execution_count": 55,
     "metadata": {},
     "output_type": "execute_result"
    }
   ],
   "source": [
    "type(a_number)"
   ]
  },
  {
   "cell_type": "code",
   "execution_count": 56,
   "id": "d3c5979d",
   "metadata": {},
   "outputs": [],
   "source": [
    "another_number = 3."
   ]
  },
  {
   "cell_type": "code",
   "execution_count": 57,
   "id": "55d69164",
   "metadata": {},
   "outputs": [
    {
     "data": {
      "text/plain": [
       "3.0"
      ]
     },
     "execution_count": 57,
     "metadata": {},
     "output_type": "execute_result"
    }
   ],
   "source": [
    "another_number"
   ]
  },
  {
   "cell_type": "code",
   "execution_count": 58,
   "id": "35a73538",
   "metadata": {},
   "outputs": [
    {
     "data": {
      "text/plain": [
       "float"
      ]
     },
     "execution_count": 58,
     "metadata": {},
     "output_type": "execute_result"
    }
   ],
   "source": [
    "type(another_number)"
   ]
  },
  {
   "cell_type": "code",
   "execution_count": 59,
   "id": "e27b5e2c",
   "metadata": {},
   "outputs": [],
   "source": [
    "one_hundredth = 1e-2"
   ]
  },
  {
   "cell_type": "code",
   "execution_count": 60,
   "id": "fdd50711",
   "metadata": {},
   "outputs": [
    {
     "data": {
      "text/plain": [
       "0.01"
      ]
     },
     "execution_count": 60,
     "metadata": {},
     "output_type": "execute_result"
    }
   ],
   "source": [
    "one_hundredth"
   ]
  },
  {
   "cell_type": "code",
   "execution_count": 61,
   "id": "ae910512",
   "metadata": {},
   "outputs": [
    {
     "data": {
      "text/plain": [
       "float"
      ]
     },
     "execution_count": 61,
     "metadata": {},
     "output_type": "execute_result"
    }
   ],
   "source": [
    "type(one_hundredth)"
   ]
  },
  {
   "cell_type": "code",
   "execution_count": 62,
   "id": "d846a4a7",
   "metadata": {},
   "outputs": [],
   "source": [
    "avogadro_number = 6.02214076e23"
   ]
  },
  {
   "cell_type": "code",
   "execution_count": 63,
   "id": "2671a4b6",
   "metadata": {},
   "outputs": [
    {
     "data": {
      "text/plain": [
       "6.02214076e+23"
      ]
     },
     "execution_count": 63,
     "metadata": {},
     "output_type": "execute_result"
    }
   ],
   "source": [
    "avogadro_number"
   ]
  },
  {
   "cell_type": "code",
   "execution_count": 64,
   "id": "0701e3af",
   "metadata": {},
   "outputs": [
    {
     "data": {
      "text/plain": [
       "float"
      ]
     },
     "execution_count": 64,
     "metadata": {},
     "output_type": "execute_result"
    }
   ],
   "source": [
    "type(avogadro_number)"
   ]
  },
  {
   "cell_type": "markdown",
   "id": "bdbeb227",
   "metadata": {},
   "source": [
    "## convert int into floats"
   ]
  },
  {
   "cell_type": "code",
   "execution_count": 65,
   "id": "23f22b59",
   "metadata": {},
   "outputs": [
    {
     "data": {
      "text/plain": [
       "2023"
      ]
     },
     "execution_count": 65,
     "metadata": {},
     "output_type": "execute_result"
    }
   ],
   "source": [
    "current_year"
   ]
  },
  {
   "cell_type": "code",
   "execution_count": 66,
   "id": "279c81e5",
   "metadata": {},
   "outputs": [
    {
     "data": {
      "text/plain": [
       "int"
      ]
     },
     "execution_count": 66,
     "metadata": {},
     "output_type": "execute_result"
    }
   ],
   "source": [
    "type(current_year)"
   ]
  },
  {
   "cell_type": "code",
   "execution_count": 67,
   "id": "7bbb0575",
   "metadata": {},
   "outputs": [
    {
     "data": {
      "text/plain": [
       "2023.0"
      ]
     },
     "execution_count": 67,
     "metadata": {},
     "output_type": "execute_result"
    }
   ],
   "source": [
    "float(current_year)"
   ]
  },
  {
   "cell_type": "code",
   "execution_count": 68,
   "id": "fa9cc03f",
   "metadata": {},
   "outputs": [
    {
     "data": {
      "text/plain": [
       "int"
      ]
     },
     "execution_count": 68,
     "metadata": {},
     "output_type": "execute_result"
    }
   ],
   "source": [
    "type(current_year)"
   ]
  },
  {
   "cell_type": "code",
   "execution_count": 69,
   "id": "8da1640e",
   "metadata": {},
   "outputs": [
    {
     "data": {
      "text/plain": [
       "3.141592653589793"
      ]
     },
     "execution_count": 69,
     "metadata": {},
     "output_type": "execute_result"
    }
   ],
   "source": [
    "pi"
   ]
  },
  {
   "cell_type": "code",
   "execution_count": 70,
   "id": "99574c54",
   "metadata": {},
   "outputs": [
    {
     "data": {
      "text/plain": [
       "3"
      ]
     },
     "execution_count": 70,
     "metadata": {},
     "output_type": "execute_result"
    }
   ],
   "source": [
    "int(pi)"
   ]
  },
  {
   "cell_type": "code",
   "execution_count": 71,
   "id": "b503e31c",
   "metadata": {},
   "outputs": [
    {
     "data": {
      "text/plain": [
       "float"
      ]
     },
     "execution_count": 71,
     "metadata": {},
     "output_type": "execute_result"
    }
   ],
   "source": [
    "type(pi)"
   ]
  },
  {
   "cell_type": "code",
   "execution_count": 72,
   "id": "11357a3d",
   "metadata": {},
   "outputs": [
    {
     "data": {
      "text/plain": [
       "602214075999999987023872"
      ]
     },
     "execution_count": 72,
     "metadata": {},
     "output_type": "execute_result"
    }
   ],
   "source": [
    "int(avogadro_number)"
   ]
  },
  {
   "cell_type": "code",
   "execution_count": 73,
   "id": "32d1ef36",
   "metadata": {},
   "outputs": [
    {
     "data": {
      "text/plain": [
       "float"
      ]
     },
     "execution_count": 73,
     "metadata": {},
     "output_type": "execute_result"
    }
   ],
   "source": [
    "type(avogadro_number)"
   ]
  },
  {
   "cell_type": "code",
   "execution_count": 74,
   "id": "4f7408e7",
   "metadata": {},
   "outputs": [
    {
     "data": {
      "text/plain": [
       "float"
      ]
     },
     "execution_count": 74,
     "metadata": {},
     "output_type": "execute_result"
    }
   ],
   "source": [
    "type(45 * 3.0)"
   ]
  },
  {
   "cell_type": "code",
   "execution_count": 75,
   "id": "98104198",
   "metadata": {},
   "outputs": [
    {
     "data": {
      "text/plain": [
       "int"
      ]
     },
     "execution_count": 75,
     "metadata": {},
     "output_type": "execute_result"
    }
   ],
   "source": [
    "type(45 * 5)"
   ]
  },
  {
   "cell_type": "code",
   "execution_count": 76,
   "id": "255d518e",
   "metadata": {},
   "outputs": [
    {
     "data": {
      "text/plain": [
       "float"
      ]
     },
     "execution_count": 76,
     "metadata": {},
     "output_type": "execute_result"
    }
   ],
   "source": [
    "type(20/7)"
   ]
  },
  {
   "cell_type": "code",
   "execution_count": 77,
   "id": "3691eaf9",
   "metadata": {},
   "outputs": [
    {
     "data": {
      "text/plain": [
       "float"
      ]
     },
     "execution_count": 77,
     "metadata": {},
     "output_type": "execute_result"
    }
   ],
   "source": [
    "type(20/10)"
   ]
  },
  {
   "cell_type": "code",
   "execution_count": 78,
   "id": "282e4c4e",
   "metadata": {},
   "outputs": [
    {
     "data": {
      "text/plain": [
       "int"
      ]
     },
     "execution_count": 78,
     "metadata": {},
     "output_type": "execute_result"
    }
   ],
   "source": [
    "type(20//7)"
   ]
  },
  {
   "cell_type": "code",
   "execution_count": 79,
   "id": "8ef18976",
   "metadata": {},
   "outputs": [
    {
     "data": {
      "text/plain": [
       "int"
      ]
     },
     "execution_count": 79,
     "metadata": {},
     "output_type": "execute_result"
    }
   ],
   "source": [
    "type(20//10)"
   ]
  },
  {
   "cell_type": "markdown",
   "id": "81c11af6",
   "metadata": {},
   "source": [
    "# Boolean data type"
   ]
  },
  {
   "cell_type": "code",
   "execution_count": 80,
   "id": "7e016c1f",
   "metadata": {},
   "outputs": [],
   "source": [
    "is_today_friday = True"
   ]
  },
  {
   "cell_type": "code",
   "execution_count": 81,
   "id": "80cd19ee",
   "metadata": {},
   "outputs": [
    {
     "data": {
      "text/plain": [
       "True"
      ]
     },
     "execution_count": 81,
     "metadata": {},
     "output_type": "execute_result"
    }
   ],
   "source": [
    "is_today_friday"
   ]
  },
  {
   "cell_type": "code",
   "execution_count": 82,
   "id": "32ea9d94",
   "metadata": {},
   "outputs": [
    {
     "data": {
      "text/plain": [
       "bool"
      ]
     },
     "execution_count": 82,
     "metadata": {},
     "output_type": "execute_result"
    }
   ],
   "source": [
    "type(is_today_friday)"
   ]
  },
  {
   "cell_type": "code",
   "execution_count": 83,
   "id": "3646e566",
   "metadata": {},
   "outputs": [],
   "source": [
    "cost_of_something = 2.31"
   ]
  },
  {
   "cell_type": "code",
   "execution_count": 84,
   "id": "c9d63ceb",
   "metadata": {},
   "outputs": [],
   "source": [
    "is_something_expensive = cost_of_something >= 20"
   ]
  },
  {
   "cell_type": "code",
   "execution_count": 85,
   "id": "3e995f44",
   "metadata": {},
   "outputs": [
    {
     "data": {
      "text/plain": [
       "False"
      ]
     },
     "execution_count": 85,
     "metadata": {},
     "output_type": "execute_result"
    }
   ],
   "source": [
    "is_something_expensive"
   ]
  },
  {
   "cell_type": "code",
   "execution_count": 86,
   "id": "041ee6bc",
   "metadata": {},
   "outputs": [
    {
     "data": {
      "text/plain": [
       "bool"
      ]
     },
     "execution_count": 86,
     "metadata": {},
     "output_type": "execute_result"
    }
   ],
   "source": [
    "type(is_something_expensive)"
   ]
  },
  {
   "cell_type": "code",
   "execution_count": 87,
   "id": "f4d2d7a4",
   "metadata": {},
   "outputs": [
    {
     "ename": "NameError",
     "evalue": "name 'false' is not defined",
     "output_type": "error",
     "traceback": [
      "\u001b[1;31m---------------------------------------------------------------------------\u001b[0m",
      "\u001b[1;31mNameError\u001b[0m                                 Traceback (most recent call last)",
      "\u001b[1;32m~\\AppData\\Local\\Temp\\ipykernel_12148\\3358226641.py\u001b[0m in \u001b[0;36m<module>\u001b[1;34m\u001b[0m\n\u001b[1;32m----> 1\u001b[1;33m \u001b[1;36m5\u001b[0m\u001b[1;33m+\u001b[0m\u001b[0mfalse\u001b[0m\u001b[1;33m\u001b[0m\u001b[1;33m\u001b[0m\u001b[0m\n\u001b[0m",
      "\u001b[1;31mNameError\u001b[0m: name 'false' is not defined"
     ]
    }
   ],
   "source": [
    "5+false"
   ]
  },
  {
   "cell_type": "code",
   "execution_count": 88,
   "id": "e56a75af",
   "metadata": {},
   "outputs": [
    {
     "data": {
      "text/plain": [
       "5"
      ]
     },
     "execution_count": 88,
     "metadata": {},
     "output_type": "execute_result"
    }
   ],
   "source": [
    "5 + False"
   ]
  },
  {
   "cell_type": "code",
   "execution_count": 89,
   "id": "00fdc183",
   "metadata": {},
   "outputs": [
    {
     "data": {
      "text/plain": [
       "4.0"
      ]
     },
     "execution_count": 89,
     "metadata": {},
     "output_type": "execute_result"
    }
   ],
   "source": [
    "3. + True"
   ]
  },
  {
   "cell_type": "code",
   "execution_count": 90,
   "id": "46365ce3",
   "metadata": {},
   "outputs": [
    {
     "data": {
      "text/plain": [
       "True"
      ]
     },
     "execution_count": 90,
     "metadata": {},
     "output_type": "execute_result"
    }
   ],
   "source": [
    "True == 1"
   ]
  },
  {
   "cell_type": "code",
   "execution_count": 91,
   "id": "781a0ac0",
   "metadata": {},
   "outputs": [
    {
     "data": {
      "text/plain": [
       "True"
      ]
     },
     "execution_count": 91,
     "metadata": {},
     "output_type": "execute_result"
    }
   ],
   "source": [
    "False == 0"
   ]
  },
  {
   "cell_type": "code",
   "execution_count": 92,
   "id": "5dc45f2c",
   "metadata": {},
   "outputs": [
    {
     "data": {
      "text/plain": [
       "False"
      ]
     },
     "execution_count": 92,
     "metadata": {},
     "output_type": "execute_result"
    }
   ],
   "source": [
    "False == 1"
   ]
  },
  {
   "cell_type": "code",
   "execution_count": 93,
   "id": "5e68893b",
   "metadata": {},
   "outputs": [
    {
     "data": {
      "text/plain": [
       "False"
      ]
     },
     "execution_count": 93,
     "metadata": {},
     "output_type": "execute_result"
    }
   ],
   "source": [
    "bool(False)"
   ]
  },
  {
   "cell_type": "code",
   "execution_count": 94,
   "id": "defd859b",
   "metadata": {},
   "outputs": [
    {
     "data": {
      "text/plain": [
       "False"
      ]
     },
     "execution_count": 94,
     "metadata": {},
     "output_type": "execute_result"
    }
   ],
   "source": [
    "bool(0)"
   ]
  },
  {
   "cell_type": "code",
   "execution_count": 95,
   "id": "6dd26e7d",
   "metadata": {},
   "outputs": [
    {
     "data": {
      "text/plain": [
       "False"
      ]
     },
     "execution_count": 95,
     "metadata": {},
     "output_type": "execute_result"
    }
   ],
   "source": [
    "bool(0.0)"
   ]
  },
  {
   "cell_type": "code",
   "execution_count": 96,
   "id": "f0788f43",
   "metadata": {},
   "outputs": [
    {
     "data": {
      "text/plain": [
       "False"
      ]
     },
     "execution_count": 96,
     "metadata": {},
     "output_type": "execute_result"
    }
   ],
   "source": [
    "bool(None)"
   ]
  },
  {
   "cell_type": "code",
   "execution_count": 97,
   "id": "a4455141",
   "metadata": {},
   "outputs": [
    {
     "data": {
      "text/plain": [
       "False"
      ]
     },
     "execution_count": 97,
     "metadata": {},
     "output_type": "execute_result"
    }
   ],
   "source": [
    "bool(\"\")"
   ]
  },
  {
   "cell_type": "code",
   "execution_count": 98,
   "id": "aa9ea709",
   "metadata": {},
   "outputs": [
    {
     "data": {
      "text/plain": [
       "False"
      ]
     },
     "execution_count": 98,
     "metadata": {},
     "output_type": "execute_result"
    }
   ],
   "source": [
    "bool([])"
   ]
  },
  {
   "cell_type": "code",
   "execution_count": 99,
   "id": "4a747905",
   "metadata": {},
   "outputs": [
    {
     "data": {
      "text/plain": [
       "False"
      ]
     },
     "execution_count": 99,
     "metadata": {},
     "output_type": "execute_result"
    }
   ],
   "source": [
    "bool(())"
   ]
  },
  {
   "cell_type": "code",
   "execution_count": 100,
   "id": "8d49f60e",
   "metadata": {},
   "outputs": [
    {
     "data": {
      "text/plain": [
       "False"
      ]
     },
     "execution_count": 100,
     "metadata": {},
     "output_type": "execute_result"
    }
   ],
   "source": [
    "bool({})"
   ]
  },
  {
   "cell_type": "code",
   "execution_count": 101,
   "id": "15bc64e4",
   "metadata": {},
   "outputs": [
    {
     "data": {
      "text/plain": [
       "False"
      ]
     },
     "execution_count": 101,
     "metadata": {},
     "output_type": "execute_result"
    }
   ],
   "source": [
    "bool(set())"
   ]
  },
  {
   "cell_type": "code",
   "execution_count": 102,
   "id": "caf57c51",
   "metadata": {},
   "outputs": [
    {
     "data": {
      "text/plain": [
       "False"
      ]
     },
     "execution_count": 102,
     "metadata": {},
     "output_type": "execute_result"
    }
   ],
   "source": [
    "bool(range(0))"
   ]
  },
  {
   "cell_type": "code",
   "execution_count": 103,
   "id": "72b7c130",
   "metadata": {},
   "outputs": [
    {
     "data": {
      "text/plain": [
       "True"
      ]
     },
     "execution_count": 103,
     "metadata": {},
     "output_type": "execute_result"
    }
   ],
   "source": [
    "bool(True)"
   ]
  },
  {
   "cell_type": "code",
   "execution_count": 104,
   "id": "29a218bb",
   "metadata": {},
   "outputs": [
    {
     "data": {
      "text/plain": [
       "True"
      ]
     },
     "execution_count": 104,
     "metadata": {},
     "output_type": "execute_result"
    }
   ],
   "source": [
    "bool(1)"
   ]
  },
  {
   "cell_type": "code",
   "execution_count": 105,
   "id": "4ea94453",
   "metadata": {},
   "outputs": [
    {
     "data": {
      "text/plain": [
       "True"
      ]
     },
     "execution_count": 105,
     "metadata": {},
     "output_type": "execute_result"
    }
   ],
   "source": [
    "bool(2.0)"
   ]
  },
  {
   "cell_type": "code",
   "execution_count": 106,
   "id": "8e5cce1c",
   "metadata": {},
   "outputs": [
    {
     "data": {
      "text/plain": [
       "True"
      ]
     },
     "execution_count": 106,
     "metadata": {},
     "output_type": "execute_result"
    }
   ],
   "source": [
    "bool(\"helloii\")"
   ]
  },
  {
   "cell_type": "code",
   "execution_count": 107,
   "id": "01fedecc",
   "metadata": {},
   "outputs": [
    {
     "data": {
      "text/plain": [
       "True"
      ]
     },
     "execution_count": 107,
     "metadata": {},
     "output_type": "execute_result"
    }
   ],
   "source": [
    "bool([1, 2])"
   ]
  },
  {
   "cell_type": "code",
   "execution_count": 108,
   "id": "250eefbb",
   "metadata": {},
   "outputs": [
    {
     "data": {
      "text/plain": [
       "True"
      ]
     },
     "execution_count": 108,
     "metadata": {},
     "output_type": "execute_result"
    }
   ],
   "source": [
    "bool((1,))"
   ]
  },
  {
   "cell_type": "code",
   "execution_count": 109,
   "id": "58eec9b6",
   "metadata": {},
   "outputs": [
    {
     "data": {
      "text/plain": [
       "True"
      ]
     },
     "execution_count": 109,
     "metadata": {},
     "output_type": "execute_result"
    }
   ],
   "source": [
    "bool(range(2))"
   ]
  },
  {
   "cell_type": "code",
   "execution_count": 110,
   "id": "b4635a8a",
   "metadata": {},
   "outputs": [
    {
     "ename": "TypeError",
     "evalue": "'int' object is not iterable",
     "output_type": "error",
     "traceback": [
      "\u001b[1;31m---------------------------------------------------------------------------\u001b[0m",
      "\u001b[1;31mTypeError\u001b[0m                                 Traceback (most recent call last)",
      "\u001b[1;32m~\\AppData\\Local\\Temp\\ipykernel_12148\\965920842.py\u001b[0m in \u001b[0;36m<module>\u001b[1;34m\u001b[0m\n\u001b[1;32m----> 1\u001b[1;33m \u001b[0mbool\u001b[0m\u001b[1;33m(\u001b[0m\u001b[0mset\u001b[0m\u001b[1;33m(\u001b[0m\u001b[1;36m2\u001b[0m\u001b[1;33m)\u001b[0m\u001b[1;33m)\u001b[0m\u001b[1;33m\u001b[0m\u001b[1;33m\u001b[0m\u001b[0m\n\u001b[0m",
      "\u001b[1;31mTypeError\u001b[0m: 'int' object is not iterable"
     ]
    }
   ],
   "source": [
    "bool(set(2))"
   ]
  },
  {
   "cell_type": "code",
   "execution_count": 111,
   "id": "36553838",
   "metadata": {},
   "outputs": [
    {
     "data": {
      "text/plain": [
       "False"
      ]
     },
     "execution_count": 111,
     "metadata": {},
     "output_type": "execute_result"
    }
   ],
   "source": [
    "(1,) == 1"
   ]
  },
  {
   "cell_type": "code",
   "execution_count": 112,
   "id": "ba0c3c73",
   "metadata": {},
   "outputs": [
    {
     "data": {
      "text/plain": [
       "False"
      ]
     },
     "execution_count": 112,
     "metadata": {},
     "output_type": "execute_result"
    }
   ],
   "source": [
    "bool((1,) == 1)"
   ]
  },
  {
   "cell_type": "code",
   "execution_count": 113,
   "id": "60e37fc6",
   "metadata": {},
   "outputs": [],
   "source": [
    "nothing = None"
   ]
  },
  {
   "cell_type": "code",
   "execution_count": 114,
   "id": "61c96cb9",
   "metadata": {},
   "outputs": [
    {
     "data": {
      "text/plain": [
       "NoneType"
      ]
     },
     "execution_count": 114,
     "metadata": {},
     "output_type": "execute_result"
    }
   ],
   "source": [
    "type(nothing)"
   ]
  },
  {
   "cell_type": "markdown",
   "id": "e810214e",
   "metadata": {},
   "source": [
    "# String Data Type"
   ]
  },
  {
   "cell_type": "code",
   "execution_count": 1,
   "id": "d9dd90ba",
   "metadata": {},
   "outputs": [],
   "source": [
    "today = \"Saturday\""
   ]
  },
  {
   "cell_type": "code",
   "execution_count": 2,
   "id": "e1a34229",
   "metadata": {},
   "outputs": [
    {
     "data": {
      "text/plain": [
       "'Saturday'"
      ]
     },
     "execution_count": 2,
     "metadata": {},
     "output_type": "execute_result"
    }
   ],
   "source": [
    "today"
   ]
  },
  {
   "cell_type": "code",
   "execution_count": 3,
   "id": "4e69cf43",
   "metadata": {},
   "outputs": [
    {
     "data": {
      "text/plain": [
       "str"
      ]
     },
     "execution_count": 3,
     "metadata": {},
     "output_type": "execute_result"
    }
   ],
   "source": [
    "type(today)"
   ]
  },
  {
   "cell_type": "code",
   "execution_count": 4,
   "id": "30ea7600",
   "metadata": {},
   "outputs": [],
   "source": [
    "my_fav_movie = \"some movie\""
   ]
  },
  {
   "cell_type": "code",
   "execution_count": 5,
   "id": "b1706ac9",
   "metadata": {},
   "outputs": [
    {
     "data": {
      "text/plain": [
       "'some movie'"
      ]
     },
     "execution_count": 5,
     "metadata": {},
     "output_type": "execute_result"
    }
   ],
   "source": [
    "my_fav_movie"
   ]
  },
  {
   "cell_type": "code",
   "execution_count": 6,
   "id": "08dd0884",
   "metadata": {},
   "outputs": [],
   "source": [
    "my_fav_pun = 'thanks to my \"many\" friends'"
   ]
  },
  {
   "cell_type": "code",
   "execution_count": 7,
   "id": "a373a7a4",
   "metadata": {},
   "outputs": [
    {
     "data": {
      "text/plain": [
       "'thanks to my \"many\" friends'"
      ]
     },
     "execution_count": 7,
     "metadata": {},
     "output_type": "execute_result"
    }
   ],
   "source": [
    "my_fav_pun"
   ]
  },
  {
   "cell_type": "code",
   "execution_count": 8,
   "id": "fc38a6a7",
   "metadata": {},
   "outputs": [],
   "source": [
    "my_fav_pun = \"see this \\\"one\\\"\""
   ]
  },
  {
   "cell_type": "code",
   "execution_count": 9,
   "id": "a875fa02",
   "metadata": {},
   "outputs": [
    {
     "data": {
      "text/plain": [
       "'see this \"one\"'"
      ]
     },
     "execution_count": 9,
     "metadata": {},
     "output_type": "execute_result"
    }
   ],
   "source": [
    "my_fav_pun"
   ]
  },
  {
   "cell_type": "code",
   "execution_count": 10,
   "id": "5abdd132",
   "metadata": {},
   "outputs": [],
   "source": [
    "another = '''Son: hey \"You\"\n",
    "Dad: \"Get out\"'''"
   ]
  },
  {
   "cell_type": "code",
   "execution_count": 11,
   "id": "39ac0499",
   "metadata": {},
   "outputs": [
    {
     "data": {
      "text/plain": [
       "'Son: hey \"You\"\\nDad: \"Get out\"'"
      ]
     },
     "execution_count": 11,
     "metadata": {},
     "output_type": "execute_result"
    }
   ],
   "source": [
    "another"
   ]
  },
  {
   "cell_type": "code",
   "execution_count": 12,
   "id": "760279f2",
   "metadata": {},
   "outputs": [
    {
     "name": "stdout",
     "output_type": "stream",
     "text": [
      "Son: hey \"You\"\n",
      "Dad: \"Get out\"\n"
     ]
    }
   ],
   "source": [
    "print(another)"
   ]
  },
  {
   "cell_type": "code",
   "execution_count": 13,
   "id": "e05d8b4f",
   "metadata": {},
   "outputs": [],
   "source": [
    "some_multiline = \"\"\"\n",
    "hey\n",
    "hi\n",
    "yo\n",
    "yahoo \"no\"\n",
    "\"\"\""
   ]
  },
  {
   "cell_type": "code",
   "execution_count": 14,
   "id": "c04a1be5",
   "metadata": {},
   "outputs": [
    {
     "data": {
      "text/plain": [
       "'\\nhey\\nhi\\nyo\\nyahoo \"no\"\\n'"
      ]
     },
     "execution_count": 14,
     "metadata": {},
     "output_type": "execute_result"
    }
   ],
   "source": [
    "some_multiline"
   ]
  },
  {
   "cell_type": "code",
   "execution_count": 15,
   "id": "9e83d711",
   "metadata": {},
   "outputs": [
    {
     "name": "stdout",
     "output_type": "stream",
     "text": [
      "\n",
      "hey\n",
      "hi\n",
      "yo\n",
      "yahoo \"no\"\n",
      "\n"
     ]
    }
   ],
   "source": [
    "print(some_multiline)"
   ]
  },
  {
   "cell_type": "code",
   "execution_count": 16,
   "id": "f87178c9",
   "metadata": {},
   "outputs": [
    {
     "data": {
      "text/plain": [
       "29"
      ]
     },
     "execution_count": 16,
     "metadata": {},
     "output_type": "execute_result"
    }
   ],
   "source": [
    "len(another)"
   ]
  },
  {
   "cell_type": "code",
   "execution_count": 17,
   "id": "493de76b",
   "metadata": {},
   "outputs": [],
   "source": [
    "multi_String = \"\"\"a\n",
    "b\n",
    "c\"\"\""
   ]
  },
  {
   "cell_type": "code",
   "execution_count": 18,
   "id": "610d2630",
   "metadata": {},
   "outputs": [
    {
     "data": {
      "text/plain": [
       "'a\\nb\\nc'"
      ]
     },
     "execution_count": 18,
     "metadata": {},
     "output_type": "execute_result"
    }
   ],
   "source": [
    "multi_String"
   ]
  },
  {
   "cell_type": "code",
   "execution_count": 19,
   "id": "a1c4d21e",
   "metadata": {},
   "outputs": [
    {
     "data": {
      "text/plain": [
       "5"
      ]
     },
     "execution_count": 19,
     "metadata": {},
     "output_type": "execute_result"
    }
   ],
   "source": [
    "len(multi_String)"
   ]
  },
  {
   "cell_type": "code",
   "execution_count": 20,
   "id": "78d9baf9",
   "metadata": {},
   "outputs": [
    {
     "name": "stdout",
     "output_type": "stream",
     "text": [
      "a\n",
      "b\n",
      "c\n"
     ]
    }
   ],
   "source": [
    "print(multi_String)"
   ]
  },
  {
   "cell_type": "markdown",
   "id": "f7321231",
   "metadata": {},
   "source": [
    "string to list conversion"
   ]
  },
  {
   "cell_type": "code",
   "execution_count": 21,
   "id": "4837531f",
   "metadata": {},
   "outputs": [
    {
     "data": {
      "text/plain": [
       "['a', '\\n', 'b', '\\n', 'c']"
      ]
     },
     "execution_count": 21,
     "metadata": {},
     "output_type": "execute_result"
    }
   ],
   "source": [
    "list(multi_String)"
   ]
  },
  {
   "cell_type": "code",
   "execution_count": 22,
   "id": "eb945148",
   "metadata": {},
   "outputs": [
    {
     "data": {
      "text/plain": [
       "'a\\nb\\nc'"
      ]
     },
     "execution_count": 22,
     "metadata": {},
     "output_type": "execute_result"
    }
   ],
   "source": [
    "multi_String"
   ]
  },
  {
   "cell_type": "code",
   "execution_count": 23,
   "id": "f5fb54e4",
   "metadata": {},
   "outputs": [
    {
     "data": {
      "text/plain": [
       "'Saturday'"
      ]
     },
     "execution_count": 23,
     "metadata": {},
     "output_type": "execute_result"
    }
   ],
   "source": [
    "today"
   ]
  },
  {
   "cell_type": "code",
   "execution_count": 24,
   "id": "0b65c42d",
   "metadata": {},
   "outputs": [
    {
     "data": {
      "text/plain": [
       "'S'"
      ]
     },
     "execution_count": 24,
     "metadata": {},
     "output_type": "execute_result"
    }
   ],
   "source": [
    "today[0]"
   ]
  },
  {
   "cell_type": "code",
   "execution_count": 25,
   "id": "a30599e8",
   "metadata": {},
   "outputs": [
    {
     "data": {
      "text/plain": [
       "'a'"
      ]
     },
     "execution_count": 25,
     "metadata": {},
     "output_type": "execute_result"
    }
   ],
   "source": [
    "today[1]"
   ]
  },
  {
   "cell_type": "code",
   "execution_count": 26,
   "id": "24a1b096",
   "metadata": {},
   "outputs": [
    {
     "data": {
      "text/plain": [
       "'t'"
      ]
     },
     "execution_count": 26,
     "metadata": {},
     "output_type": "execute_result"
    }
   ],
   "source": [
    "today[2]"
   ]
  },
  {
   "cell_type": "code",
   "execution_count": 27,
   "id": "5ba65f16",
   "metadata": {},
   "outputs": [
    {
     "data": {
      "text/plain": [
       "'u'"
      ]
     },
     "execution_count": 27,
     "metadata": {},
     "output_type": "execute_result"
    }
   ],
   "source": [
    "today[3]"
   ]
  },
  {
   "cell_type": "code",
   "execution_count": 28,
   "id": "718de77d",
   "metadata": {},
   "outputs": [
    {
     "data": {
      "text/plain": [
       "'r'"
      ]
     },
     "execution_count": 28,
     "metadata": {},
     "output_type": "execute_result"
    }
   ],
   "source": [
    "today[4]"
   ]
  },
  {
   "cell_type": "code",
   "execution_count": 29,
   "id": "64a36df4",
   "metadata": {},
   "outputs": [
    {
     "data": {
      "text/plain": [
       "'d'"
      ]
     },
     "execution_count": 29,
     "metadata": {},
     "output_type": "execute_result"
    }
   ],
   "source": [
    "today[5]"
   ]
  },
  {
   "cell_type": "code",
   "execution_count": 30,
   "id": "9ba4aea4",
   "metadata": {},
   "outputs": [
    {
     "data": {
      "text/plain": [
       "'a'"
      ]
     },
     "execution_count": 30,
     "metadata": {},
     "output_type": "execute_result"
    }
   ],
   "source": [
    "today[6]"
   ]
  },
  {
   "cell_type": "code",
   "execution_count": 31,
   "id": "6439463b",
   "metadata": {},
   "outputs": [
    {
     "data": {
      "text/plain": [
       "'y'"
      ]
     },
     "execution_count": 31,
     "metadata": {},
     "output_type": "execute_result"
    }
   ],
   "source": [
    "today[7]"
   ]
  },
  {
   "cell_type": "code",
   "execution_count": 32,
   "id": "e0374b63",
   "metadata": {},
   "outputs": [
    {
     "ename": "IndexError",
     "evalue": "string index out of range",
     "output_type": "error",
     "traceback": [
      "\u001b[1;31m---------------------------------------------------------------------------\u001b[0m",
      "\u001b[1;31mIndexError\u001b[0m                                Traceback (most recent call last)",
      "\u001b[1;32m~\\AppData\\Local\\Temp\\ipykernel_12100\\1577548248.py\u001b[0m in \u001b[0;36m<module>\u001b[1;34m\u001b[0m\n\u001b[1;32m----> 1\u001b[1;33m \u001b[0mtoday\u001b[0m\u001b[1;33m[\u001b[0m\u001b[1;36m8\u001b[0m\u001b[1;33m]\u001b[0m\u001b[1;33m\u001b[0m\u001b[1;33m\u001b[0m\u001b[0m\n\u001b[0m",
      "\u001b[1;31mIndexError\u001b[0m: string index out of range"
     ]
    }
   ],
   "source": [
    "today[8]"
   ]
  },
  {
   "cell_type": "code",
   "execution_count": 33,
   "id": "4bdca686",
   "metadata": {},
   "outputs": [
    {
     "data": {
      "text/plain": [
       "'y'"
      ]
     },
     "execution_count": 33,
     "metadata": {},
     "output_type": "execute_result"
    }
   ],
   "source": [
    "today[-1]"
   ]
  },
  {
   "cell_type": "code",
   "execution_count": 34,
   "id": "04297e02",
   "metadata": {},
   "outputs": [
    {
     "data": {
      "text/plain": [
       "'a'"
      ]
     },
     "execution_count": 34,
     "metadata": {},
     "output_type": "execute_result"
    }
   ],
   "source": [
    "today[-2]"
   ]
  },
  {
   "cell_type": "code",
   "execution_count": 35,
   "id": "c7db954c",
   "metadata": {},
   "outputs": [
    {
     "data": {
      "text/plain": [
       "'d'"
      ]
     },
     "execution_count": 35,
     "metadata": {},
     "output_type": "execute_result"
    }
   ],
   "source": [
    "today[-3]"
   ]
  },
  {
   "cell_type": "code",
   "execution_count": 36,
   "id": "cac6d99d",
   "metadata": {},
   "outputs": [
    {
     "data": {
      "text/plain": [
       "'r'"
      ]
     },
     "execution_count": 36,
     "metadata": {},
     "output_type": "execute_result"
    }
   ],
   "source": [
    "today[-4]"
   ]
  },
  {
   "cell_type": "code",
   "execution_count": 37,
   "id": "3958a18c",
   "metadata": {},
   "outputs": [
    {
     "data": {
      "text/plain": [
       "'u'"
      ]
     },
     "execution_count": 37,
     "metadata": {},
     "output_type": "execute_result"
    }
   ],
   "source": [
    "today[-5]"
   ]
  },
  {
   "cell_type": "code",
   "execution_count": 38,
   "id": "306bec48",
   "metadata": {},
   "outputs": [
    {
     "data": {
      "text/plain": [
       "'t'"
      ]
     },
     "execution_count": 38,
     "metadata": {},
     "output_type": "execute_result"
    }
   ],
   "source": [
    "today[-6]"
   ]
  },
  {
   "cell_type": "code",
   "execution_count": 39,
   "id": "ad5d5f64",
   "metadata": {},
   "outputs": [
    {
     "data": {
      "text/plain": [
       "'a'"
      ]
     },
     "execution_count": 39,
     "metadata": {},
     "output_type": "execute_result"
    }
   ],
   "source": [
    "today[-7]"
   ]
  },
  {
   "cell_type": "code",
   "execution_count": 40,
   "id": "343b22d9",
   "metadata": {},
   "outputs": [
    {
     "data": {
      "text/plain": [
       "'S'"
      ]
     },
     "execution_count": 40,
     "metadata": {},
     "output_type": "execute_result"
    }
   ],
   "source": [
    "today[-8]"
   ]
  },
  {
   "cell_type": "code",
   "execution_count": 41,
   "id": "c67d496a",
   "metadata": {},
   "outputs": [
    {
     "ename": "IndexError",
     "evalue": "string index out of range",
     "output_type": "error",
     "traceback": [
      "\u001b[1;31m---------------------------------------------------------------------------\u001b[0m",
      "\u001b[1;31mIndexError\u001b[0m                                Traceback (most recent call last)",
      "\u001b[1;32m~\\AppData\\Local\\Temp\\ipykernel_12100\\3457427596.py\u001b[0m in \u001b[0;36m<module>\u001b[1;34m\u001b[0m\n\u001b[1;32m----> 1\u001b[1;33m \u001b[0mtoday\u001b[0m\u001b[1;33m[\u001b[0m\u001b[1;33m-\u001b[0m\u001b[1;36m9\u001b[0m\u001b[1;33m]\u001b[0m\u001b[1;33m\u001b[0m\u001b[1;33m\u001b[0m\u001b[0m\n\u001b[0m",
      "\u001b[1;31mIndexError\u001b[0m: string index out of range"
     ]
    }
   ],
   "source": [
    "today[-9]"
   ]
  },
  {
   "cell_type": "code",
   "execution_count": 42,
   "id": "217861c1",
   "metadata": {},
   "outputs": [
    {
     "data": {
      "text/plain": [
       "'turday'"
      ]
     },
     "execution_count": 42,
     "metadata": {},
     "output_type": "execute_result"
    }
   ],
   "source": [
    "today[2:8]"
   ]
  },
  {
   "cell_type": "code",
   "execution_count": 43,
   "id": "e5dfd4cc",
   "metadata": {},
   "outputs": [
    {
     "data": {
      "text/plain": [
       "8"
      ]
     },
     "execution_count": 43,
     "metadata": {},
     "output_type": "execute_result"
    }
   ],
   "source": [
    "len(today)"
   ]
  },
  {
   "cell_type": "code",
   "execution_count": 44,
   "id": "f1168b51",
   "metadata": {},
   "outputs": [
    {
     "data": {
      "text/plain": [
       "'Saturda'"
      ]
     },
     "execution_count": 44,
     "metadata": {},
     "output_type": "execute_result"
    }
   ],
   "source": [
    "today[:7]"
   ]
  },
  {
   "cell_type": "code",
   "execution_count": 45,
   "id": "5dcd0608",
   "metadata": {},
   "outputs": [
    {
     "data": {
      "text/plain": [
       "'Saturday'"
      ]
     },
     "execution_count": 45,
     "metadata": {},
     "output_type": "execute_result"
    }
   ],
   "source": [
    "today[:8]"
   ]
  },
  {
   "cell_type": "code",
   "execution_count": 46,
   "id": "8564e36e",
   "metadata": {},
   "outputs": [
    {
     "data": {
      "text/plain": [
       "'urday'"
      ]
     },
     "execution_count": 46,
     "metadata": {},
     "output_type": "execute_result"
    }
   ],
   "source": [
    "today[3:]"
   ]
  },
  {
   "cell_type": "code",
   "execution_count": 47,
   "id": "3ea01cdd",
   "metadata": {},
   "outputs": [
    {
     "data": {
      "text/plain": [
       "True"
      ]
     },
     "execution_count": 47,
     "metadata": {},
     "output_type": "execute_result"
    }
   ],
   "source": [
    "'ur' in today"
   ]
  },
  {
   "cell_type": "code",
   "execution_count": 48,
   "id": "9ba1c6cf",
   "metadata": {},
   "outputs": [
    {
     "data": {
      "text/plain": [
       "False"
      ]
     },
     "execution_count": 48,
     "metadata": {},
     "output_type": "execute_result"
    }
   ],
   "source": [
    "'sur' in today"
   ]
  },
  {
   "cell_type": "code",
   "execution_count": 49,
   "id": "47ac3007",
   "metadata": {},
   "outputs": [
    {
     "data": {
      "text/plain": [
       "False"
      ]
     },
     "execution_count": 49,
     "metadata": {},
     "output_type": "execute_result"
    }
   ],
   "source": [
    "'sat' in today"
   ]
  },
  {
   "cell_type": "code",
   "execution_count": 50,
   "id": "cdb1a5a5",
   "metadata": {},
   "outputs": [
    {
     "data": {
      "text/plain": [
       "True"
      ]
     },
     "execution_count": 50,
     "metadata": {},
     "output_type": "execute_result"
    }
   ],
   "source": [
    "'Sat' in today"
   ]
  },
  {
   "cell_type": "code",
   "execution_count": 51,
   "id": "424842a1",
   "metadata": {},
   "outputs": [],
   "source": [
    "name = 'eto'"
   ]
  },
  {
   "cell_type": "code",
   "execution_count": 52,
   "id": "f7b477c0",
   "metadata": {},
   "outputs": [],
   "source": [
    "greet = 'namaste'"
   ]
  },
  {
   "cell_type": "code",
   "execution_count": 53,
   "id": "89acfe52",
   "metadata": {},
   "outputs": [
    {
     "data": {
      "text/plain": [
       "'namasteeto'"
      ]
     },
     "execution_count": 53,
     "metadata": {},
     "output_type": "execute_result"
    }
   ],
   "source": [
    "greet + name"
   ]
  },
  {
   "cell_type": "code",
   "execution_count": 54,
   "id": "d49e2fb5",
   "metadata": {},
   "outputs": [
    {
     "data": {
      "text/plain": [
       "'namaste eto'"
      ]
     },
     "execution_count": 54,
     "metadata": {},
     "output_type": "execute_result"
    }
   ],
   "source": [
    "greet + ' ' + name"
   ]
  },
  {
   "cell_type": "markdown",
   "id": "c0318fd8",
   "metadata": {},
   "source": [
    ".lower(), .upper(), .capitalize()"
   ]
  },
  {
   "cell_type": "code",
   "execution_count": 55,
   "id": "19b121a6",
   "metadata": {},
   "outputs": [
    {
     "data": {
      "text/plain": [
       "'Saturday'"
      ]
     },
     "execution_count": 55,
     "metadata": {},
     "output_type": "execute_result"
    }
   ],
   "source": [
    "today"
   ]
  },
  {
   "cell_type": "code",
   "execution_count": 56,
   "id": "69ce5e61",
   "metadata": {},
   "outputs": [
    {
     "data": {
      "text/plain": [
       "'saturday'"
      ]
     },
     "execution_count": 56,
     "metadata": {},
     "output_type": "execute_result"
    }
   ],
   "source": [
    "today.lower()"
   ]
  },
  {
   "cell_type": "code",
   "execution_count": 57,
   "id": "2d97ff14",
   "metadata": {},
   "outputs": [
    {
     "data": {
      "text/plain": [
       "'SATURDAY'"
      ]
     },
     "execution_count": 57,
     "metadata": {},
     "output_type": "execute_result"
    }
   ],
   "source": [
    "today.upper()"
   ]
  },
  {
   "cell_type": "code",
   "execution_count": 58,
   "id": "4fa4b615",
   "metadata": {},
   "outputs": [],
   "source": [
    "today_a = 'a hen'"
   ]
  },
  {
   "cell_type": "code",
   "execution_count": 59,
   "id": "7248b954",
   "metadata": {},
   "outputs": [
    {
     "data": {
      "text/plain": [
       "'A hen'"
      ]
     },
     "execution_count": 59,
     "metadata": {},
     "output_type": "execute_result"
    }
   ],
   "source": [
    "today_a.capitalize()"
   ]
  },
  {
   "cell_type": "markdown",
   "id": "f7ad08b9",
   "metadata": {},
   "source": [
    "replace"
   ]
  },
  {
   "cell_type": "code",
   "execution_count": 60,
   "id": "75d2c75a",
   "metadata": {},
   "outputs": [
    {
     "data": {
      "text/plain": [
       "'Saturday'"
      ]
     },
     "execution_count": 60,
     "metadata": {},
     "output_type": "execute_result"
    }
   ],
   "source": [
    "today"
   ]
  },
  {
   "cell_type": "code",
   "execution_count": 61,
   "id": "09d499a6",
   "metadata": {},
   "outputs": [
    {
     "data": {
      "text/plain": [
       "'Sunurday'"
      ]
     },
     "execution_count": 61,
     "metadata": {},
     "output_type": "execute_result"
    }
   ],
   "source": [
    "today.replace('Sat', 'Sun')"
   ]
  },
  {
   "cell_type": "code",
   "execution_count": 62,
   "id": "29066237",
   "metadata": {},
   "outputs": [
    {
     "data": {
      "text/plain": [
       "'Saturday'"
      ]
     },
     "execution_count": 62,
     "metadata": {},
     "output_type": "execute_result"
    }
   ],
   "source": [
    "today"
   ]
  },
  {
   "cell_type": "code",
   "execution_count": 63,
   "id": "29734a71",
   "metadata": {},
   "outputs": [
    {
     "data": {
      "text/plain": [
       "'Sunday'"
      ]
     },
     "execution_count": 63,
     "metadata": {},
     "output_type": "execute_result"
    }
   ],
   "source": [
    "today.replace('Satur', 'Sun')"
   ]
  },
  {
   "cell_type": "markdown",
   "id": "05f1480b",
   "metadata": {},
   "source": [
    "conversion of string to list splitted with ,"
   ]
  },
  {
   "cell_type": "code",
   "execution_count": 64,
   "id": "37a1c297",
   "metadata": {},
   "outputs": [],
   "source": [
    "string = 'a,e,i,o,u'"
   ]
  },
  {
   "cell_type": "code",
   "execution_count": 65,
   "id": "9ddf328e",
   "metadata": {},
   "outputs": [
    {
     "data": {
      "text/plain": [
       "['a', 'e', 'i', 'o', 'u']"
      ]
     },
     "execution_count": 65,
     "metadata": {},
     "output_type": "execute_result"
    }
   ],
   "source": [
    "string.split(',')"
   ]
  },
  {
   "cell_type": "markdown",
   "id": "c89c0690",
   "metadata": {},
   "source": [
    "conversion of comma separated string to list splitted with \" \""
   ]
  },
  {
   "cell_type": "code",
   "execution_count": 66,
   "id": "fa409517",
   "metadata": {},
   "outputs": [
    {
     "data": {
      "text/plain": [
       "['a,e,i,o,u']"
      ]
     },
     "execution_count": 66,
     "metadata": {},
     "output_type": "execute_result"
    }
   ],
   "source": [
    "string.split(' ')"
   ]
  },
  {
   "cell_type": "code",
   "execution_count": 67,
   "id": "5124e5b5",
   "metadata": {},
   "outputs": [
    {
     "data": {
      "text/plain": [
       "'a,e,i,o,u'"
      ]
     },
     "execution_count": 67,
     "metadata": {},
     "output_type": "execute_result"
    }
   ],
   "source": [
    "string"
   ]
  },
  {
   "cell_type": "markdown",
   "id": "e9229b3b",
   "metadata": {},
   "source": [
    "coversion of comma separated string to list separated by $"
   ]
  },
  {
   "cell_type": "code",
   "execution_count": 68,
   "id": "2737417d",
   "metadata": {},
   "outputs": [
    {
     "data": {
      "text/plain": [
       "['a,e,i,o,u']"
      ]
     },
     "execution_count": 68,
     "metadata": {},
     "output_type": "execute_result"
    }
   ],
   "source": [
    "string.split('$')"
   ]
  },
  {
   "cell_type": "markdown",
   "id": "55ec8bf2",
   "metadata": {},
   "source": [
    "it separates according to the separator and convert to list, so if the string has , and we want to convert it to list and the list items to be which is separated with , in string"
   ]
  },
  {
   "cell_type": "code",
   "execution_count": 69,
   "id": "9f06b2d6",
   "metadata": {},
   "outputs": [],
   "source": [
    "string_a = 'a#b#c#d$h$i#h$i$k$k#h'"
   ]
  },
  {
   "cell_type": "code",
   "execution_count": 70,
   "id": "eb904e77",
   "metadata": {},
   "outputs": [
    {
     "data": {
      "text/plain": [
       "['a', 'b', 'c', 'd$h$i', 'h$i$k$k', 'h']"
      ]
     },
     "execution_count": 70,
     "metadata": {},
     "output_type": "execute_result"
    }
   ],
   "source": [
    "string_a.split('#')"
   ]
  },
  {
   "cell_type": "code",
   "execution_count": 71,
   "id": "7c65396b",
   "metadata": {},
   "outputs": [
    {
     "data": {
      "text/plain": [
       "['a,e,i,o,u']"
      ]
     },
     "execution_count": 71,
     "metadata": {},
     "output_type": "execute_result"
    }
   ],
   "source": [
    "string.split('$')"
   ]
  },
  {
   "cell_type": "code",
   "execution_count": 72,
   "id": "1bb973a8",
   "metadata": {},
   "outputs": [
    {
     "data": {
      "text/plain": [
       "['a#b#c#d', 'h', 'i#h', 'i', 'k', 'k#h']"
      ]
     },
     "execution_count": 72,
     "metadata": {},
     "output_type": "execute_result"
    }
   ],
   "source": [
    "string_a.split('$')"
   ]
  },
  {
   "cell_type": "markdown",
   "id": "a2688c87",
   "metadata": {},
   "source": [
    ".strip function removed white spaces at the beginning and at the end"
   ]
  },
  {
   "cell_type": "code",
   "execution_count": 73,
   "id": "0684341f",
   "metadata": {},
   "outputs": [],
   "source": [
    "some_str = \"    hellp    is     ther   any space                     \""
   ]
  },
  {
   "cell_type": "code",
   "execution_count": 74,
   "id": "02ae7cd0",
   "metadata": {},
   "outputs": [
    {
     "data": {
      "text/plain": [
       "'    hellp    is     ther   any space                     '"
      ]
     },
     "execution_count": 74,
     "metadata": {},
     "output_type": "execute_result"
    }
   ],
   "source": [
    "some_str"
   ]
  },
  {
   "cell_type": "code",
   "execution_count": 75,
   "id": "a338cb6b",
   "metadata": {},
   "outputs": [
    {
     "data": {
      "text/plain": [
       "'hellp    is     ther   any space'"
      ]
     },
     "execution_count": 75,
     "metadata": {},
     "output_type": "execute_result"
    }
   ],
   "source": [
    "some_str.strip()"
   ]
  },
  {
   "cell_type": "markdown",
   "id": "99709607",
   "metadata": {},
   "source": [
    ".format() combines values of other data types with strings, used to construc output messages for display"
   ]
  },
  {
   "cell_type": "code",
   "execution_count": 76,
   "id": "55f6ce3d",
   "metadata": {},
   "outputs": [],
   "source": [
    "first = 'I'"
   ]
  },
  {
   "cell_type": "code",
   "execution_count": 77,
   "id": "17317c87",
   "metadata": {},
   "outputs": [],
   "source": [
    "middle = 'Love'"
   ]
  },
  {
   "cell_type": "code",
   "execution_count": 78,
   "id": "1b49e614",
   "metadata": {},
   "outputs": [],
   "source": [
    "last = 'You'"
   ]
  },
  {
   "cell_type": "code",
   "execution_count": 95,
   "id": "f012ca9f",
   "metadata": {},
   "outputs": [],
   "source": [
    "display = \"\"\"He said once {} are his enemy\n",
    "then he said {} am his enemy\n",
    "then he said {} {} {}\n",
    "\"\"\""
   ]
  },
  {
   "cell_type": "code",
   "execution_count": 104,
   "id": "7f79a452",
   "metadata": {},
   "outputs": [],
   "source": [
    "new = display.format(last, first, first, middle, last*30)"
   ]
  },
  {
   "cell_type": "code",
   "execution_count": 105,
   "id": "a4bb3380",
   "metadata": {},
   "outputs": [
    {
     "name": "stdout",
     "output_type": "stream",
     "text": [
      "He said once You are his enemy\n",
      "then he said I am his enemy\n",
      "then he said I Love YouYouYouYouYouYouYouYouYouYouYouYouYouYouYouYouYouYouYouYouYouYouYouYouYouYouYouYouYouYou\n",
      "\n"
     ]
    }
   ],
   "source": [
    "print(new)"
   ]
  },
  {
   "cell_type": "markdown",
   "id": "64775f6d",
   "metadata": {},
   "source": [
    "convert int to string"
   ]
  },
  {
   "cell_type": "code",
   "execution_count": 106,
   "id": "c1b51ee6",
   "metadata": {},
   "outputs": [
    {
     "data": {
      "text/plain": [
       "'100'"
      ]
     },
     "execution_count": 106,
     "metadata": {},
     "output_type": "execute_result"
    }
   ],
   "source": [
    "str(100)"
   ]
  },
  {
   "cell_type": "code",
   "execution_count": 107,
   "id": "531a3010",
   "metadata": {},
   "outputs": [],
   "source": [
    "a = str(32)"
   ]
  },
  {
   "cell_type": "code",
   "execution_count": 108,
   "id": "21107d00",
   "metadata": {},
   "outputs": [
    {
     "data": {
      "text/plain": [
       "str"
      ]
     },
     "execution_count": 108,
     "metadata": {},
     "output_type": "execute_result"
    }
   ],
   "source": [
    "type(a)"
   ]
  },
  {
   "cell_type": "code",
   "execution_count": 109,
   "id": "a761ace2",
   "metadata": {},
   "outputs": [],
   "source": [
    "b = str(10.1)"
   ]
  },
  {
   "cell_type": "code",
   "execution_count": 110,
   "id": "e3c82bed",
   "metadata": {},
   "outputs": [
    {
     "data": {
      "text/plain": [
       "str"
      ]
     },
     "execution_count": 110,
     "metadata": {},
     "output_type": "execute_result"
    }
   ],
   "source": [
    "type(b)"
   ]
  },
  {
   "cell_type": "code",
   "execution_count": 111,
   "id": "fac48ddb",
   "metadata": {},
   "outputs": [
    {
     "data": {
      "text/plain": [
       "'False'"
      ]
     },
     "execution_count": 111,
     "metadata": {},
     "output_type": "execute_result"
    }
   ],
   "source": [
    "str(False)"
   ]
  },
  {
   "cell_type": "code",
   "execution_count": 112,
   "id": "327f23e3",
   "metadata": {},
   "outputs": [],
   "source": [
    "c = str(True)"
   ]
  },
  {
   "cell_type": "code",
   "execution_count": 113,
   "id": "3eda7d92",
   "metadata": {},
   "outputs": [
    {
     "data": {
      "text/plain": [
       "str"
      ]
     },
     "execution_count": 113,
     "metadata": {},
     "output_type": "execute_result"
    }
   ],
   "source": [
    "type(c)"
   ]
  },
  {
   "cell_type": "code",
   "execution_count": 114,
   "id": "2cf4d74c",
   "metadata": {},
   "outputs": [
    {
     "data": {
      "text/plain": [
       "'True'"
      ]
     },
     "execution_count": 114,
     "metadata": {},
     "output_type": "execute_result"
    }
   ],
   "source": [
    "c"
   ]
  },
  {
   "cell_type": "markdown",
   "id": "b1a66285",
   "metadata": {},
   "source": [
    "# List Data Type"
   ]
  },
  {
   "cell_type": "markdown",
   "id": "dab88255",
   "metadata": {},
   "source": [
    "it is an ordered collection of values"
   ]
  },
  {
   "cell_type": "markdown",
   "id": "e26b5cdd",
   "metadata": {},
   "source": [
    "* can hold values of different data types\n",
    "* supports operations \n",
    "    1. add \n",
    "    2. remove \n",
    "    3. change values\n",
    "* values within [], separated by commas"
   ]
  },
  {
   "cell_type": "code",
   "execution_count": 115,
   "id": "b4a003fa",
   "metadata": {},
   "outputs": [],
   "source": [
    "players = ['sachin', 'srinath', 'balaji']"
   ]
  },
  {
   "cell_type": "code",
   "execution_count": 116,
   "id": "ba30d362",
   "metadata": {},
   "outputs": [
    {
     "data": {
      "text/plain": [
       "['sachin', 'srinath', 'balaji']"
      ]
     },
     "execution_count": 116,
     "metadata": {},
     "output_type": "execute_result"
    }
   ],
   "source": [
    "players"
   ]
  },
  {
   "cell_type": "code",
   "execution_count": 117,
   "id": "520d2687",
   "metadata": {},
   "outputs": [
    {
     "data": {
      "text/plain": [
       "list"
      ]
     },
     "execution_count": 117,
     "metadata": {},
     "output_type": "execute_result"
    }
   ],
   "source": [
    "type(players)"
   ]
  },
  {
   "cell_type": "code",
   "execution_count": 118,
   "id": "319009fb",
   "metadata": {},
   "outputs": [],
   "source": [
    "list_with_diff_data_types_as_values = [1, 2.3, True, None, 'a' == 'b', 'no']"
   ]
  },
  {
   "cell_type": "code",
   "execution_count": 119,
   "id": "917f9c35",
   "metadata": {},
   "outputs": [
    {
     "data": {
      "text/plain": [
       "[1, 2.3, True, None, False, 'no']"
      ]
     },
     "execution_count": 119,
     "metadata": {},
     "output_type": "execute_result"
    }
   ],
   "source": [
    "list_with_diff_data_types_as_values"
   ]
  },
  {
   "cell_type": "code",
   "execution_count": 120,
   "id": "22a55a6a",
   "metadata": {},
   "outputs": [],
   "source": [
    "empty_list = []"
   ]
  },
  {
   "cell_type": "code",
   "execution_count": 121,
   "id": "53025877",
   "metadata": {},
   "outputs": [
    {
     "data": {
      "text/plain": [
       "[]"
      ]
     },
     "execution_count": 121,
     "metadata": {},
     "output_type": "execute_result"
    }
   ],
   "source": [
    "empty_list"
   ]
  },
  {
   "cell_type": "code",
   "execution_count": 122,
   "id": "1458ba4d",
   "metadata": {},
   "outputs": [
    {
     "data": {
      "text/plain": [
       "0"
      ]
     },
     "execution_count": 122,
     "metadata": {},
     "output_type": "execute_result"
    }
   ],
   "source": [
    "len(empty_list)"
   ]
  },
  {
   "cell_type": "code",
   "execution_count": 123,
   "id": "fb0d6780",
   "metadata": {},
   "outputs": [
    {
     "data": {
      "text/plain": [
       "6"
      ]
     },
     "execution_count": 123,
     "metadata": {},
     "output_type": "execute_result"
    }
   ],
   "source": [
    "len(list_with_diff_data_types_as_values)"
   ]
  },
  {
   "cell_type": "code",
   "execution_count": 124,
   "id": "e8f0a3f1",
   "metadata": {},
   "outputs": [
    {
     "data": {
      "text/plain": [
       "'sachin'"
      ]
     },
     "execution_count": 124,
     "metadata": {},
     "output_type": "execute_result"
    }
   ],
   "source": [
    "players[0]"
   ]
  },
  {
   "cell_type": "code",
   "execution_count": 125,
   "id": "dc252b5f",
   "metadata": {},
   "outputs": [
    {
     "data": {
      "text/plain": [
       "'srinath'"
      ]
     },
     "execution_count": 125,
     "metadata": {},
     "output_type": "execute_result"
    }
   ],
   "source": [
    "players[1]"
   ]
  },
  {
   "cell_type": "code",
   "execution_count": 126,
   "id": "500f37c1",
   "metadata": {},
   "outputs": [
    {
     "data": {
      "text/plain": [
       "'balaji'"
      ]
     },
     "execution_count": 126,
     "metadata": {},
     "output_type": "execute_result"
    }
   ],
   "source": [
    "players[2]"
   ]
  },
  {
   "cell_type": "code",
   "execution_count": 127,
   "id": "d7f806e1",
   "metadata": {},
   "outputs": [
    {
     "ename": "IndexError",
     "evalue": "list index out of range",
     "output_type": "error",
     "traceback": [
      "\u001b[1;31m---------------------------------------------------------------------------\u001b[0m",
      "\u001b[1;31mIndexError\u001b[0m                                Traceback (most recent call last)",
      "\u001b[1;32m~\\AppData\\Local\\Temp\\ipykernel_12100\\1530186158.py\u001b[0m in \u001b[0;36m<module>\u001b[1;34m\u001b[0m\n\u001b[1;32m----> 1\u001b[1;33m \u001b[0mplayers\u001b[0m\u001b[1;33m[\u001b[0m\u001b[1;36m3\u001b[0m\u001b[1;33m]\u001b[0m\u001b[1;33m\u001b[0m\u001b[1;33m\u001b[0m\u001b[0m\n\u001b[0m",
      "\u001b[1;31mIndexError\u001b[0m: list index out of range"
     ]
    }
   ],
   "source": [
    "players[3]"
   ]
  },
  {
   "cell_type": "code",
   "execution_count": 128,
   "id": "1a916cf6",
   "metadata": {},
   "outputs": [
    {
     "data": {
      "text/plain": [
       "'balaji'"
      ]
     },
     "execution_count": 128,
     "metadata": {},
     "output_type": "execute_result"
    }
   ],
   "source": [
    "players[-1]"
   ]
  },
  {
   "cell_type": "code",
   "execution_count": 129,
   "id": "415f425a",
   "metadata": {},
   "outputs": [
    {
     "data": {
      "text/plain": [
       "'srinath'"
      ]
     },
     "execution_count": 129,
     "metadata": {},
     "output_type": "execute_result"
    }
   ],
   "source": [
    "players[-2]"
   ]
  },
  {
   "cell_type": "code",
   "execution_count": 130,
   "id": "6db866e4",
   "metadata": {},
   "outputs": [
    {
     "data": {
      "text/plain": [
       "'sachin'"
      ]
     },
     "execution_count": 130,
     "metadata": {},
     "output_type": "execute_result"
    }
   ],
   "source": [
    "players[-3]"
   ]
  },
  {
   "cell_type": "code",
   "execution_count": 131,
   "id": "485543e7",
   "metadata": {},
   "outputs": [
    {
     "ename": "IndexError",
     "evalue": "list index out of range",
     "output_type": "error",
     "traceback": [
      "\u001b[1;31m---------------------------------------------------------------------------\u001b[0m",
      "\u001b[1;31mIndexError\u001b[0m                                Traceback (most recent call last)",
      "\u001b[1;32m~\\AppData\\Local\\Temp\\ipykernel_12100\\2367801875.py\u001b[0m in \u001b[0;36m<module>\u001b[1;34m\u001b[0m\n\u001b[1;32m----> 1\u001b[1;33m \u001b[0mplayers\u001b[0m\u001b[1;33m[\u001b[0m\u001b[1;33m-\u001b[0m\u001b[1;36m4\u001b[0m\u001b[1;33m]\u001b[0m\u001b[1;33m\u001b[0m\u001b[1;33m\u001b[0m\u001b[0m\n\u001b[0m",
      "\u001b[1;31mIndexError\u001b[0m: list index out of range"
     ]
    }
   ],
   "source": [
    "players[-4]"
   ]
  },
  {
   "cell_type": "code",
   "execution_count": 132,
   "id": "1b129ab4",
   "metadata": {},
   "outputs": [],
   "source": [
    "new_list = [players, 'some', 1, 3/4, list_with_diff_data_types_as_values]"
   ]
  },
  {
   "cell_type": "code",
   "execution_count": 133,
   "id": "94d3b0b1",
   "metadata": {},
   "outputs": [
    {
     "data": {
      "text/plain": [
       "[['sachin', 'srinath', 'balaji'],\n",
       " 'some',\n",
       " 1,\n",
       " 0.75,\n",
       " [1, 2.3, True, None, False, 'no']]"
      ]
     },
     "execution_count": 133,
     "metadata": {},
     "output_type": "execute_result"
    }
   ],
   "source": [
    "new_list"
   ]
  },
  {
   "cell_type": "code",
   "execution_count": 134,
   "id": "90708d2a",
   "metadata": {},
   "outputs": [
    {
     "data": {
      "text/plain": [
       "5"
      ]
     },
     "execution_count": 134,
     "metadata": {},
     "output_type": "execute_result"
    }
   ],
   "source": [
    "len(new_list)"
   ]
  },
  {
   "cell_type": "code",
   "execution_count": 135,
   "id": "23defbc1",
   "metadata": {},
   "outputs": [
    {
     "data": {
      "text/plain": [
       "['sachin', 'srinath', 'balaji']"
      ]
     },
     "execution_count": 135,
     "metadata": {},
     "output_type": "execute_result"
    }
   ],
   "source": [
    "new_list[0]"
   ]
  },
  {
   "cell_type": "code",
   "execution_count": 136,
   "id": "e8106c2b",
   "metadata": {},
   "outputs": [
    {
     "data": {
      "text/plain": [
       "'some'"
      ]
     },
     "execution_count": 136,
     "metadata": {},
     "output_type": "execute_result"
    }
   ],
   "source": [
    "new_list[1]"
   ]
  },
  {
   "cell_type": "code",
   "execution_count": 137,
   "id": "0c109733",
   "metadata": {},
   "outputs": [
    {
     "data": {
      "text/plain": [
       "[['sachin', 'srinath', 'balaji'], 'some']"
      ]
     },
     "execution_count": 137,
     "metadata": {},
     "output_type": "execute_result"
    }
   ],
   "source": [
    "new_list[:2]"
   ]
  },
  {
   "cell_type": "code",
   "execution_count": 138,
   "id": "858e4f0c",
   "metadata": {},
   "outputs": [
    {
     "data": {
      "text/plain": [
       "['some', 1]"
      ]
     },
     "execution_count": 138,
     "metadata": {},
     "output_type": "execute_result"
    }
   ],
   "source": [
    "new_list[1:3]"
   ]
  },
  {
   "cell_type": "code",
   "execution_count": 139,
   "id": "620610ee",
   "metadata": {},
   "outputs": [
    {
     "data": {
      "text/plain": [
       "[1, 0.75, [1, 2.3, True, None, False, 'no']]"
      ]
     },
     "execution_count": 139,
     "metadata": {},
     "output_type": "execute_result"
    }
   ],
   "source": [
    "new_list[2:]"
   ]
  },
  {
   "cell_type": "code",
   "execution_count": 140,
   "id": "88f985d5",
   "metadata": {},
   "outputs": [
    {
     "data": {
      "text/plain": [
       "['some', 1, 0.75, [1, 2.3, True, None, False, 'no']]"
      ]
     },
     "execution_count": 140,
     "metadata": {},
     "output_type": "execute_result"
    }
   ],
   "source": [
    "new_list[1:6]"
   ]
  },
  {
   "cell_type": "code",
   "execution_count": 141,
   "id": "4635a6bd",
   "metadata": {},
   "outputs": [
    {
     "data": {
      "text/plain": [
       "['some', 1, 0.75, [1, 2.3, True, None, False, 'no']]"
      ]
     },
     "execution_count": 141,
     "metadata": {},
     "output_type": "execute_result"
    }
   ],
   "source": [
    "new_list[1:7]"
   ]
  },
  {
   "cell_type": "code",
   "execution_count": 142,
   "id": "d13e2c7e",
   "metadata": {},
   "outputs": [
    {
     "data": {
      "text/plain": [
       "['some', 1, 0.75, [1, 2.3, True, None, False, 'no']]"
      ]
     },
     "execution_count": 142,
     "metadata": {},
     "output_type": "execute_result"
    }
   ],
   "source": [
    "new_list[1:111]"
   ]
  },
  {
   "cell_type": "code",
   "execution_count": 143,
   "id": "8491e203",
   "metadata": {},
   "outputs": [
    {
     "data": {
      "text/plain": [
       "[]"
      ]
     },
     "execution_count": 143,
     "metadata": {},
     "output_type": "execute_result"
    }
   ],
   "source": [
    "new_list[8: 12]"
   ]
  },
  {
   "cell_type": "code",
   "execution_count": 144,
   "id": "f0b71b5d",
   "metadata": {},
   "outputs": [
    {
     "data": {
      "text/plain": [
       "[]"
      ]
     },
     "execution_count": 144,
     "metadata": {},
     "output_type": "execute_result"
    }
   ],
   "source": [
    "new_list[8: 5]"
   ]
  },
  {
   "cell_type": "code",
   "execution_count": 145,
   "id": "e5d43e10",
   "metadata": {},
   "outputs": [
    {
     "data": {
      "text/plain": [
       "[]"
      ]
     },
     "execution_count": 145,
     "metadata": {},
     "output_type": "execute_result"
    }
   ],
   "source": [
    "new_list[-1: -4]"
   ]
  },
  {
   "cell_type": "code",
   "execution_count": 146,
   "id": "e6a75bef",
   "metadata": {},
   "outputs": [
    {
     "data": {
      "text/plain": [
       "[['sachin', 'srinath', 'balaji'],\n",
       " 'some',\n",
       " 1,\n",
       " 0.75,\n",
       " [1, 2.3, True, None, False, 'no']]"
      ]
     },
     "execution_count": 146,
     "metadata": {},
     "output_type": "execute_result"
    }
   ],
   "source": [
    "new_list"
   ]
  },
  {
   "cell_type": "code",
   "execution_count": 147,
   "id": "f303a4ec",
   "metadata": {},
   "outputs": [
    {
     "data": {
      "text/plain": [
       "[]"
      ]
     },
     "execution_count": 147,
     "metadata": {},
     "output_type": "execute_result"
    }
   ],
   "source": [
    "new_list[-1:-3]"
   ]
  },
  {
   "cell_type": "code",
   "execution_count": 148,
   "id": "68672188",
   "metadata": {},
   "outputs": [
    {
     "data": {
      "text/plain": [
       "1"
      ]
     },
     "execution_count": 148,
     "metadata": {},
     "output_type": "execute_result"
    }
   ],
   "source": [
    "new_list[-3]"
   ]
  },
  {
   "cell_type": "code",
   "execution_count": 149,
   "id": "65b26741",
   "metadata": {},
   "outputs": [
    {
     "ename": "NameError",
     "evalue": "name 'player' is not defined",
     "output_type": "error",
     "traceback": [
      "\u001b[1;31m---------------------------------------------------------------------------\u001b[0m",
      "\u001b[1;31mNameError\u001b[0m                                 Traceback (most recent call last)",
      "\u001b[1;32m~\\AppData\\Local\\Temp\\ipykernel_12100\\1762578767.py\u001b[0m in \u001b[0;36m<module>\u001b[1;34m\u001b[0m\n\u001b[1;32m----> 1\u001b[1;33m \u001b[0mplayer\u001b[0m\u001b[1;33m\u001b[0m\u001b[1;33m\u001b[0m\u001b[0m\n\u001b[0m",
      "\u001b[1;31mNameError\u001b[0m: name 'player' is not defined"
     ]
    }
   ],
   "source": [
    "player"
   ]
  },
  {
   "cell_type": "code",
   "execution_count": 150,
   "id": "d924a6a1",
   "metadata": {},
   "outputs": [
    {
     "data": {
      "text/plain": [
       "['sachin', 'srinath', 'balaji']"
      ]
     },
     "execution_count": 150,
     "metadata": {},
     "output_type": "execute_result"
    }
   ],
   "source": [
    "players"
   ]
  },
  {
   "cell_type": "code",
   "execution_count": 151,
   "id": "41be072b",
   "metadata": {},
   "outputs": [],
   "source": [
    "players[1] = 'Zaheer Khan'"
   ]
  },
  {
   "cell_type": "code",
   "execution_count": 152,
   "id": "9af2c1ad",
   "metadata": {},
   "outputs": [
    {
     "data": {
      "text/plain": [
       "['sachin', 'Zaheer Khan', 'balaji']"
      ]
     },
     "execution_count": 152,
     "metadata": {},
     "output_type": "execute_result"
    }
   ],
   "source": [
    "players"
   ]
  },
  {
   "cell_type": "markdown",
   "id": "9049f23f",
   "metadata": {},
   "source": [
    "A new value can be added at the end of the list byusing append method"
   ]
  },
  {
   "cell_type": "code",
   "execution_count": 153,
   "id": "d91670aa",
   "metadata": {},
   "outputs": [],
   "source": [
    "players.append('Sourav Ganguly')"
   ]
  },
  {
   "cell_type": "code",
   "execution_count": 154,
   "id": "e5140225",
   "metadata": {},
   "outputs": [
    {
     "data": {
      "text/plain": [
       "['sachin', 'Zaheer Khan', 'balaji', 'Sourav Ganguly']"
      ]
     },
     "execution_count": 154,
     "metadata": {},
     "output_type": "execute_result"
    }
   ],
   "source": [
    "players"
   ]
  },
  {
   "cell_type": "markdown",
   "id": "7f7d1050",
   "metadata": {},
   "source": [
    "a new value can be inserted at the specific index in the list by insert method"
   ]
  },
  {
   "cell_type": "code",
   "execution_count": 155,
   "id": "6a9c8186",
   "metadata": {},
   "outputs": [],
   "source": [
    "players.insert(1, 'Gautam Gambhir')"
   ]
  },
  {
   "cell_type": "code",
   "execution_count": 156,
   "id": "e11f7b49",
   "metadata": {},
   "outputs": [
    {
     "data": {
      "text/plain": [
       "['sachin', 'Gautam Gambhir', 'Zaheer Khan', 'balaji', 'Sourav Ganguly']"
      ]
     },
     "execution_count": 156,
     "metadata": {},
     "output_type": "execute_result"
    }
   ],
   "source": [
    "players"
   ]
  },
  {
   "cell_type": "markdown",
   "id": "de3634d7",
   "metadata": {},
   "source": [
    "a value from list can be removed with remove methd"
   ]
  },
  {
   "cell_type": "code",
   "execution_count": 157,
   "id": "5a156c81",
   "metadata": {},
   "outputs": [],
   "source": [
    "players.remove('balaji')"
   ]
  },
  {
   "cell_type": "code",
   "execution_count": 158,
   "id": "8bc1dce3",
   "metadata": {},
   "outputs": [
    {
     "data": {
      "text/plain": [
       "['sachin', 'Gautam Gambhir', 'Zaheer Khan', 'Sourav Ganguly']"
      ]
     },
     "execution_count": 158,
     "metadata": {},
     "output_type": "execute_result"
    }
   ],
   "source": [
    "players"
   ]
  },
  {
   "cell_type": "code",
   "execution_count": 159,
   "id": "eb1f936d",
   "metadata": {},
   "outputs": [
    {
     "ename": "TypeError",
     "evalue": "list.remove() takes exactly one argument (2 given)",
     "output_type": "error",
     "traceback": [
      "\u001b[1;31m---------------------------------------------------------------------------\u001b[0m",
      "\u001b[1;31mTypeError\u001b[0m                                 Traceback (most recent call last)",
      "\u001b[1;32m~\\AppData\\Local\\Temp\\ipykernel_12100\\782196516.py\u001b[0m in \u001b[0;36m<module>\u001b[1;34m\u001b[0m\n\u001b[1;32m----> 1\u001b[1;33m \u001b[0mplayers\u001b[0m\u001b[1;33m.\u001b[0m\u001b[0mremove\u001b[0m\u001b[1;33m(\u001b[0m\u001b[1;34m'Zaheer Khan'\u001b[0m\u001b[1;33m,\u001b[0m \u001b[1;34m'sachin'\u001b[0m\u001b[1;33m)\u001b[0m\u001b[1;33m\u001b[0m\u001b[1;33m\u001b[0m\u001b[0m\n\u001b[0m",
      "\u001b[1;31mTypeError\u001b[0m: list.remove() takes exactly one argument (2 given)"
     ]
    }
   ],
   "source": [
    "players.remove('Zaheer Khan', 'sachin')"
   ]
  },
  {
   "cell_type": "markdown",
   "id": "fbb99180",
   "metadata": {},
   "source": [
    "specific list items can be removed with pop method, it returns removed element"
   ]
  },
  {
   "cell_type": "code",
   "execution_count": 160,
   "id": "31f0f479",
   "metadata": {},
   "outputs": [
    {
     "ename": "TypeError",
     "evalue": "'str' object cannot be interpreted as an integer",
     "output_type": "error",
     "traceback": [
      "\u001b[1;31m---------------------------------------------------------------------------\u001b[0m",
      "\u001b[1;31mTypeError\u001b[0m                                 Traceback (most recent call last)",
      "\u001b[1;32m~\\AppData\\Local\\Temp\\ipykernel_12100\\918359995.py\u001b[0m in \u001b[0;36m<module>\u001b[1;34m\u001b[0m\n\u001b[1;32m----> 1\u001b[1;33m \u001b[0mplayers\u001b[0m\u001b[1;33m.\u001b[0m\u001b[0mpop\u001b[0m\u001b[1;33m(\u001b[0m\u001b[1;34m'sachin'\u001b[0m\u001b[1;33m)\u001b[0m\u001b[1;33m\u001b[0m\u001b[1;33m\u001b[0m\u001b[0m\n\u001b[0m",
      "\u001b[1;31mTypeError\u001b[0m: 'str' object cannot be interpreted as an integer"
     ]
    }
   ],
   "source": [
    "players.pop('sachin')"
   ]
  },
  {
   "cell_type": "code",
   "execution_count": 161,
   "id": "2c06cc03",
   "metadata": {},
   "outputs": [
    {
     "data": {
      "text/plain": [
       "['sachin', 'Gautam Gambhir', 'Zaheer Khan', 'Sourav Ganguly']"
      ]
     },
     "execution_count": 161,
     "metadata": {},
     "output_type": "execute_result"
    }
   ],
   "source": [
    "players"
   ]
  },
  {
   "cell_type": "code",
   "execution_count": 162,
   "id": "7b92eb9f",
   "metadata": {},
   "outputs": [
    {
     "data": {
      "text/plain": [
       "'sachin'"
      ]
     },
     "execution_count": 162,
     "metadata": {},
     "output_type": "execute_result"
    }
   ],
   "source": [
    "players.pop(0)"
   ]
  },
  {
   "cell_type": "code",
   "execution_count": 163,
   "id": "2527497d",
   "metadata": {},
   "outputs": [
    {
     "data": {
      "text/plain": [
       "['Gautam Gambhir', 'Zaheer Khan', 'Sourav Ganguly']"
      ]
     },
     "execution_count": 163,
     "metadata": {},
     "output_type": "execute_result"
    }
   ],
   "source": [
    "players"
   ]
  },
  {
   "cell_type": "markdown",
   "id": "90a32baa",
   "metadata": {},
   "source": [
    "if  no index is provided as an argument of pop method, it removes the last list item"
   ]
  },
  {
   "cell_type": "code",
   "execution_count": 164,
   "id": "68208e21",
   "metadata": {},
   "outputs": [
    {
     "data": {
      "text/plain": [
       "'Sourav Ganguly'"
      ]
     },
     "execution_count": 164,
     "metadata": {},
     "output_type": "execute_result"
    }
   ],
   "source": [
    "players.pop()"
   ]
  },
  {
   "cell_type": "code",
   "execution_count": 165,
   "id": "2b090ccf",
   "metadata": {},
   "outputs": [
    {
     "data": {
      "text/plain": [
       "['Gautam Gambhir', 'Zaheer Khan']"
      ]
     },
     "execution_count": 165,
     "metadata": {},
     "output_type": "execute_result"
    }
   ],
   "source": [
    "players"
   ]
  },
  {
   "cell_type": "markdown",
   "id": "65f33659",
   "metadata": {},
   "source": [
    "we can use in operator to check if a specific value is present in list or not"
   ]
  },
  {
   "cell_type": "code",
   "execution_count": 166,
   "id": "7bf81e2e",
   "metadata": {},
   "outputs": [
    {
     "data": {
      "text/plain": [
       "False"
      ]
     },
     "execution_count": 166,
     "metadata": {},
     "output_type": "execute_result"
    }
   ],
   "source": [
    "'sachin' in players"
   ]
  },
  {
   "cell_type": "code",
   "execution_count": 167,
   "id": "0363c7ef",
   "metadata": {},
   "outputs": [
    {
     "data": {
      "text/plain": [
       "True"
      ]
     },
     "execution_count": 167,
     "metadata": {},
     "output_type": "execute_result"
    }
   ],
   "source": [
    "'Gautam Gambhir' in players"
   ]
  },
  {
   "cell_type": "markdown",
   "id": "daf5ef98",
   "metadata": {},
   "source": [
    "we can concatenate multiple lists with + operator"
   ]
  },
  {
   "cell_type": "code",
   "execution_count": 168,
   "id": "7b6eeb57",
   "metadata": {},
   "outputs": [],
   "source": [
    "bowlers = ['agarkar', 'balaji']"
   ]
  },
  {
   "cell_type": "code",
   "execution_count": 169,
   "id": "f73a9b5f",
   "metadata": {},
   "outputs": [
    {
     "ename": "TypeError",
     "evalue": "can only concatenate list (not \"str\") to list",
     "output_type": "error",
     "traceback": [
      "\u001b[1;31m---------------------------------------------------------------------------\u001b[0m",
      "\u001b[1;31mTypeError\u001b[0m                                 Traceback (most recent call last)",
      "\u001b[1;32m~\\AppData\\Local\\Temp\\ipykernel_12100\\2731400425.py\u001b[0m in \u001b[0;36m<module>\u001b[1;34m\u001b[0m\n\u001b[1;32m----> 1\u001b[1;33m \u001b[0mplayers\u001b[0m \u001b[1;33m+\u001b[0m \u001b[0mbowlers\u001b[0m \u001b[1;33m+\u001b[0m \u001b[1;34m'srinath'\u001b[0m\u001b[1;33m\u001b[0m\u001b[1;33m\u001b[0m\u001b[0m\n\u001b[0m",
      "\u001b[1;31mTypeError\u001b[0m: can only concatenate list (not \"str\") to list"
     ]
    }
   ],
   "source": [
    "players + bowlers + 'srinath'"
   ]
  },
  {
   "cell_type": "code",
   "execution_count": 170,
   "id": "c5731fdf",
   "metadata": {},
   "outputs": [
    {
     "ename": "SyntaxError",
     "evalue": "invalid syntax (2422521798.py, line 1)",
     "output_type": "error",
     "traceback": [
      "\u001b[1;36m  File \u001b[1;32m\"C:\\Users\\INDIA\\AppData\\Local\\Temp\\ipykernel_12100\\2422521798.py\"\u001b[1;36m, line \u001b[1;32m1\u001b[0m\n\u001b[1;33m    players + bowlers + []'srinath']\u001b[0m\n\u001b[1;37m                          ^\u001b[0m\n\u001b[1;31mSyntaxError\u001b[0m\u001b[1;31m:\u001b[0m invalid syntax\n"
     ]
    }
   ],
   "source": [
    "players + bowlers + []'srinath']"
   ]
  },
  {
   "cell_type": "code",
   "execution_count": 171,
   "id": "d15a1c84",
   "metadata": {},
   "outputs": [
    {
     "data": {
      "text/plain": [
       "['Gautam Gambhir', 'Zaheer Khan', 'agarkar', 'balaji', 'srinath']"
      ]
     },
     "execution_count": 171,
     "metadata": {},
     "output_type": "execute_result"
    }
   ],
   "source": [
    "players + bowlers + ['srinath']"
   ]
  },
  {
   "cell_type": "markdown",
   "id": "947a86c6",
   "metadata": {},
   "source": [
    "to make a copy of list, use copy method"
   ]
  },
  {
   "cell_type": "code",
   "execution_count": 172,
   "id": "4f7331a0",
   "metadata": {},
   "outputs": [
    {
     "data": {
      "text/plain": [
       "['Gautam Gambhir', 'Zaheer Khan']"
      ]
     },
     "execution_count": 172,
     "metadata": {},
     "output_type": "execute_result"
    }
   ],
   "source": [
    "players"
   ]
  },
  {
   "cell_type": "code",
   "execution_count": 173,
   "id": "9cf842b6",
   "metadata": {},
   "outputs": [],
   "source": [
    "players_copy = players.copy()"
   ]
  },
  {
   "cell_type": "code",
   "execution_count": 174,
   "id": "5c2b4e28",
   "metadata": {},
   "outputs": [
    {
     "data": {
      "text/plain": [
       "['Gautam Gambhir', 'Zaheer Khan']"
      ]
     },
     "execution_count": 174,
     "metadata": {},
     "output_type": "execute_result"
    }
   ],
   "source": [
    "players_copy"
   ]
  },
  {
   "cell_type": "code",
   "execution_count": 175,
   "id": "fc56cd22",
   "metadata": {},
   "outputs": [],
   "source": [
    "players_copy.insert(1, 'yuvraj')"
   ]
  },
  {
   "cell_type": "code",
   "execution_count": 176,
   "id": "b2ccdc29",
   "metadata": {},
   "outputs": [
    {
     "data": {
      "text/plain": [
       "['Gautam Gambhir', 'yuvraj', 'Zaheer Khan']"
      ]
     },
     "execution_count": 176,
     "metadata": {},
     "output_type": "execute_result"
    }
   ],
   "source": [
    "players_copy"
   ]
  },
  {
   "cell_type": "code",
   "execution_count": 177,
   "id": "8b520303",
   "metadata": {},
   "outputs": [
    {
     "data": {
      "text/plain": [
       "['Gautam Gambhir', 'Zaheer Khan']"
      ]
     },
     "execution_count": 177,
     "metadata": {},
     "output_type": "execute_result"
    }
   ],
   "source": [
    "players"
   ]
  },
  {
   "cell_type": "code",
   "execution_count": 178,
   "id": "cd393b9f",
   "metadata": {},
   "outputs": [
    {
     "data": {
      "text/plain": [
       "'Zaheer Khan'"
      ]
     },
     "execution_count": 178,
     "metadata": {},
     "output_type": "execute_result"
    }
   ],
   "source": [
    "players_copy.pop()"
   ]
  },
  {
   "cell_type": "code",
   "execution_count": 179,
   "id": "f502bf3f",
   "metadata": {},
   "outputs": [
    {
     "data": {
      "text/plain": [
       "['Gautam Gambhir', 'yuvraj']"
      ]
     },
     "execution_count": 179,
     "metadata": {},
     "output_type": "execute_result"
    }
   ],
   "source": [
    "players_copy"
   ]
  },
  {
   "cell_type": "code",
   "execution_count": 180,
   "id": "4b992989",
   "metadata": {},
   "outputs": [
    {
     "data": {
      "text/plain": [
       "['Gautam Gambhir', 'Zaheer Khan']"
      ]
     },
     "execution_count": 180,
     "metadata": {},
     "output_type": "execute_result"
    }
   ],
   "source": [
    "players"
   ]
  },
  {
   "cell_type": "code",
   "execution_count": 181,
   "id": "080e56a9",
   "metadata": {},
   "outputs": [],
   "source": [
    "players_not_copy = players"
   ]
  },
  {
   "cell_type": "code",
   "execution_count": 182,
   "id": "0f6a7779",
   "metadata": {},
   "outputs": [
    {
     "data": {
      "text/plain": [
       "['Gautam Gambhir', 'Zaheer Khan']"
      ]
     },
     "execution_count": 182,
     "metadata": {},
     "output_type": "execute_result"
    }
   ],
   "source": [
    "players_not_copy"
   ]
  },
  {
   "cell_type": "code",
   "execution_count": 183,
   "id": "79b9bedc",
   "metadata": {},
   "outputs": [
    {
     "data": {
      "text/plain": [
       "'Zaheer Khan'"
      ]
     },
     "execution_count": 183,
     "metadata": {},
     "output_type": "execute_result"
    }
   ],
   "source": [
    "players_not_copy.pop()"
   ]
  },
  {
   "cell_type": "code",
   "execution_count": 184,
   "id": "834765df",
   "metadata": {},
   "outputs": [
    {
     "data": {
      "text/plain": [
       "['Gautam Gambhir']"
      ]
     },
     "execution_count": 184,
     "metadata": {},
     "output_type": "execute_result"
    }
   ],
   "source": [
    "players_not_copy"
   ]
  },
  {
   "cell_type": "code",
   "execution_count": 185,
   "id": "b74e71c9",
   "metadata": {},
   "outputs": [
    {
     "data": {
      "text/plain": [
       "['Gautam Gambhir']"
      ]
     },
     "execution_count": 185,
     "metadata": {},
     "output_type": "execute_result"
    }
   ],
   "source": [
    "players"
   ]
  },
  {
   "cell_type": "markdown",
   "id": "5be66ed2",
   "metadata": {},
   "source": [
    "by just assignign the list to another list, it does not create a copy of list, it references to the same list, so if we modifiy the assigned list, original list will get affected"
   ]
  },
  {
   "cell_type": "code",
   "execution_count": 186,
   "id": "9c8690b3",
   "metadata": {},
   "outputs": [],
   "source": [
    "a_list = [1, 2, 3, 8, 10, 12]"
   ]
  },
  {
   "cell_type": "code",
   "execution_count": 187,
   "id": "baf08737",
   "metadata": {},
   "outputs": [],
   "source": [
    "a_list.reverse()"
   ]
  },
  {
   "cell_type": "code",
   "execution_count": 188,
   "id": "655a401e",
   "metadata": {},
   "outputs": [
    {
     "data": {
      "text/plain": [
       "[12, 10, 8, 3, 2, 1]"
      ]
     },
     "execution_count": 188,
     "metadata": {},
     "output_type": "execute_result"
    }
   ],
   "source": [
    "a_list"
   ]
  },
  {
   "cell_type": "markdown",
   "id": "0343bd34",
   "metadata": {},
   "source": [
    "Add the elements of one list at the end of another list"
   ]
  },
  {
   "cell_type": "code",
   "execution_count": 189,
   "id": "1336433e",
   "metadata": {},
   "outputs": [],
   "source": [
    "list_1 = ['d', 1, 8]\n",
    "list_2 = ['some', [1,2], 8]"
   ]
  },
  {
   "cell_type": "code",
   "execution_count": 190,
   "id": "7d4b8c67",
   "metadata": {},
   "outputs": [],
   "source": [
    "list_2 = list_2 + list_1"
   ]
  },
  {
   "cell_type": "code",
   "execution_count": 191,
   "id": "353fe9bf",
   "metadata": {},
   "outputs": [
    {
     "data": {
      "text/plain": [
       "['some', [1, 2], 8, 'd', 1, 8]"
      ]
     },
     "execution_count": 191,
     "metadata": {},
     "output_type": "execute_result"
    }
   ],
   "source": [
    "list_2"
   ]
  },
  {
   "cell_type": "markdown",
   "id": "3f6bc83e",
   "metadata": {},
   "source": [
    "Sort a list of strings in alphabetical order"
   ]
  },
  {
   "cell_type": "code",
   "execution_count": 192,
   "id": "f38ac275",
   "metadata": {},
   "outputs": [],
   "source": [
    "a_list = ['d', 'a', 2, 9, 'g', 3, 'c']"
   ]
  },
  {
   "cell_type": "code",
   "execution_count": 193,
   "id": "073f41c5",
   "metadata": {},
   "outputs": [
    {
     "ename": "TypeError",
     "evalue": "'<' not supported between instances of 'int' and 'str'",
     "output_type": "error",
     "traceback": [
      "\u001b[1;31m---------------------------------------------------------------------------\u001b[0m",
      "\u001b[1;31mTypeError\u001b[0m                                 Traceback (most recent call last)",
      "\u001b[1;32m~\\AppData\\Local\\Temp\\ipykernel_12100\\1042120378.py\u001b[0m in \u001b[0;36m<module>\u001b[1;34m\u001b[0m\n\u001b[1;32m----> 1\u001b[1;33m \u001b[0ma_list\u001b[0m\u001b[1;33m.\u001b[0m\u001b[0msort\u001b[0m\u001b[1;33m(\u001b[0m\u001b[1;33m)\u001b[0m\u001b[1;33m\u001b[0m\u001b[1;33m\u001b[0m\u001b[0m\n\u001b[0m",
      "\u001b[1;31mTypeError\u001b[0m: '<' not supported between instances of 'int' and 'str'"
     ]
    }
   ],
   "source": [
    "a_list.sort()"
   ]
  },
  {
   "cell_type": "code",
   "execution_count": 194,
   "id": "a37da1b7",
   "metadata": {},
   "outputs": [],
   "source": [
    "a_list = ['d', 'z', 'b', 'j']"
   ]
  },
  {
   "cell_type": "code",
   "execution_count": 195,
   "id": "94c7e359",
   "metadata": {},
   "outputs": [],
   "source": [
    "a_list.sort()"
   ]
  },
  {
   "cell_type": "code",
   "execution_count": 196,
   "id": "808a8e4c",
   "metadata": {},
   "outputs": [
    {
     "data": {
      "text/plain": [
       "['b', 'd', 'j', 'z']"
      ]
     },
     "execution_count": 196,
     "metadata": {},
     "output_type": "execute_result"
    }
   ],
   "source": [
    "a_list"
   ]
  },
  {
   "cell_type": "markdown",
   "id": "eccba8a5",
   "metadata": {},
   "source": [
    "Sort a list of numbers in decreasing order"
   ]
  },
  {
   "cell_type": "code",
   "execution_count": null,
   "id": "630c50a2",
   "metadata": {},
   "outputs": [],
   "source": [
    "a_list.sort(revers)"
   ]
  }
 ],
 "metadata": {
  "kernelspec": {
   "display_name": "Python 3 (ipykernel)",
   "language": "python",
   "name": "python3"
  },
  "language_info": {
   "codemirror_mode": {
    "name": "ipython",
    "version": 3
   },
   "file_extension": ".py",
   "mimetype": "text/x-python",
   "name": "python",
   "nbconvert_exporter": "python",
   "pygments_lexer": "ipython3",
   "version": "3.9.13"
  }
 },
 "nbformat": 4,
 "nbformat_minor": 5
}
