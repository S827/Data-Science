{
 "cells": [
  {
   "cell_type": "code",
   "execution_count": 1,
   "id": "a6abb60b",
   "metadata": {},
   "outputs": [
    {
     "data": {
      "text/plain": [
       "'light blue'"
      ]
     },
     "execution_count": 1,
     "metadata": {},
     "output_type": "execute_result"
    }
   ],
   "source": [
    "my_fav_color = \"light blue\"\n",
    "my_fav_color"
   ]
  },
  {
   "cell_type": "code",
   "execution_count": 3,
   "id": "686bfdf3",
   "metadata": {},
   "outputs": [],
   "source": [
    "col1, col2, col3 = \"red\", \"green\", \"black\""
   ]
  },
  {
   "cell_type": "code",
   "execution_count": 4,
   "id": "9bae9b6b",
   "metadata": {},
   "outputs": [
    {
     "data": {
      "text/plain": [
       "'red'"
      ]
     },
     "execution_count": 4,
     "metadata": {},
     "output_type": "execute_result"
    }
   ],
   "source": [
    "col1"
   ]
  },
  {
   "cell_type": "code",
   "execution_count": 5,
   "id": "4238bf1d",
   "metadata": {},
   "outputs": [
    {
     "data": {
      "text/plain": [
       "'green'"
      ]
     },
     "execution_count": 5,
     "metadata": {},
     "output_type": "execute_result"
    }
   ],
   "source": [
    "col2"
   ]
  },
  {
   "cell_type": "code",
   "execution_count": 6,
   "id": "8c560bad",
   "metadata": {},
   "outputs": [
    {
     "data": {
      "text/plain": [
       "'black'"
      ]
     },
     "execution_count": 6,
     "metadata": {},
     "output_type": "execute_result"
    }
   ],
   "source": [
    "col3"
   ]
  },
  {
   "cell_type": "code",
   "execution_count": 7,
   "id": "f54d0152",
   "metadata": {},
   "outputs": [],
   "source": [
    "col4 = col5 = col6 = \"purple\""
   ]
  },
  {
   "cell_type": "code",
   "execution_count": 8,
   "id": "800a08d4",
   "metadata": {},
   "outputs": [
    {
     "data": {
      "text/plain": [
       "'purple'"
      ]
     },
     "execution_count": 8,
     "metadata": {},
     "output_type": "execute_result"
    }
   ],
   "source": [
    "col4"
   ]
  },
  {
   "cell_type": "code",
   "execution_count": 9,
   "id": "575edc3b",
   "metadata": {},
   "outputs": [
    {
     "data": {
      "text/plain": [
       "'purple'"
      ]
     },
     "execution_count": 9,
     "metadata": {},
     "output_type": "execute_result"
    }
   ],
   "source": [
    "col5"
   ]
  },
  {
   "cell_type": "code",
   "execution_count": 10,
   "id": "14384aa4",
   "metadata": {},
   "outputs": [
    {
     "data": {
      "text/plain": [
       "'purple'"
      ]
     },
     "execution_count": 10,
     "metadata": {},
     "output_type": "execute_result"
    }
   ],
   "source": [
    "col6"
   ]
  },
  {
   "cell_type": "code",
   "execution_count": 11,
   "id": "b45388bc",
   "metadata": {},
   "outputs": [],
   "source": [
    "my_fav_col = \"green\""
   ]
  },
  {
   "cell_type": "code",
   "execution_count": 12,
   "id": "3531e33c",
   "metadata": {},
   "outputs": [
    {
     "data": {
      "text/plain": [
       "'green'"
      ]
     },
     "execution_count": 12,
     "metadata": {},
     "output_type": "execute_result"
    }
   ],
   "source": [
    "my_fav_col"
   ]
  },
  {
   "cell_type": "code",
   "execution_count": 13,
   "id": "46ee7956",
   "metadata": {},
   "outputs": [],
   "source": [
    "my_fav_col = \"black\""
   ]
  },
  {
   "cell_type": "code",
   "execution_count": 14,
   "id": "b31fd755",
   "metadata": {},
   "outputs": [
    {
     "data": {
      "text/plain": [
       "'black'"
      ]
     },
     "execution_count": 14,
     "metadata": {},
     "output_type": "execute_result"
    }
   ],
   "source": [
    "my_fav_col"
   ]
  },
  {
   "cell_type": "code",
   "execution_count": 15,
   "id": "6b7f64db",
   "metadata": {},
   "outputs": [],
   "source": [
    "count = 3"
   ]
  },
  {
   "cell_type": "code",
   "execution_count": 16,
   "id": "554164ac",
   "metadata": {},
   "outputs": [],
   "source": [
    "count = count +3"
   ]
  },
  {
   "cell_type": "code",
   "execution_count": 17,
   "id": "be93c1c4",
   "metadata": {},
   "outputs": [
    {
     "data": {
      "text/plain": [
       "6"
      ]
     },
     "execution_count": 17,
     "metadata": {},
     "output_type": "execute_result"
    }
   ],
   "source": [
    "count"
   ]
  },
  {
   "cell_type": "code",
   "execution_count": 18,
   "id": "7019cc7c",
   "metadata": {},
   "outputs": [],
   "source": [
    "count = 56"
   ]
  },
  {
   "cell_type": "code",
   "execution_count": 19,
   "id": "e4544f1a",
   "metadata": {},
   "outputs": [],
   "source": [
    "count += 10"
   ]
  },
  {
   "cell_type": "code",
   "execution_count": 20,
   "id": "7ff53249",
   "metadata": {},
   "outputs": [
    {
     "data": {
      "text/plain": [
       "66"
      ]
     },
     "execution_count": 20,
     "metadata": {},
     "output_type": "execute_result"
    }
   ],
   "source": [
    "count"
   ]
  },
  {
   "cell_type": "code",
   "execution_count": 22,
   "id": "8da6d8b0",
   "metadata": {},
   "outputs": [],
   "source": [
    "a_var = 34\n",
    "is_today_saturday = False\n",
    "my_fav_car = \"tesla\"\n",
    "the_3_muskeeters = ['amar', 'akbar', 'anthony']"
   ]
  },
  {
   "cell_type": "code",
   "execution_count": 23,
   "id": "c90e03a8",
   "metadata": {},
   "outputs": [
    {
     "data": {
      "text/plain": [
       "34"
      ]
     },
     "execution_count": 23,
     "metadata": {},
     "output_type": "execute_result"
    }
   ],
   "source": [
    "a_var"
   ]
  },
  {
   "cell_type": "code",
   "execution_count": 24,
   "id": "2373fa2b",
   "metadata": {},
   "outputs": [
    {
     "data": {
      "text/plain": [
       "False"
      ]
     },
     "execution_count": 24,
     "metadata": {},
     "output_type": "execute_result"
    }
   ],
   "source": [
    "is_today_saturday"
   ]
  },
  {
   "cell_type": "code",
   "execution_count": 25,
   "id": "6d3eb932",
   "metadata": {},
   "outputs": [
    {
     "data": {
      "text/plain": [
       "'tesla'"
      ]
     },
     "execution_count": 25,
     "metadata": {},
     "output_type": "execute_result"
    }
   ],
   "source": [
    "my_fav_car"
   ]
  },
  {
   "cell_type": "code",
   "execution_count": 26,
   "id": "dca3ec0f",
   "metadata": {},
   "outputs": [
    {
     "data": {
      "text/plain": [
       "['amar', 'akbar', 'anthony']"
      ]
     },
     "execution_count": 26,
     "metadata": {},
     "output_type": "execute_result"
    }
   ],
   "source": [
    "the_3_muskeeters"
   ]
  },
  {
   "cell_type": "code",
   "execution_count": 27,
   "id": "199b4df6",
   "metadata": {},
   "outputs": [
    {
     "ename": "SyntaxError",
     "evalue": "invalid syntax (728727500.py, line 1)",
     "output_type": "error",
     "traceback": [
      "\u001b[1;36m  File \u001b[1;32m\"C:\\Users\\INDIA\\AppData\\Local\\Temp\\ipykernel_12148\\728727500.py\"\u001b[1;36m, line \u001b[1;32m1\u001b[0m\n\u001b[1;33m    a var = 23\u001b[0m\n\u001b[1;37m      ^\u001b[0m\n\u001b[1;31mSyntaxError\u001b[0m\u001b[1;31m:\u001b[0m invalid syntax\n"
     ]
    }
   ],
   "source": [
    "a var = 23"
   ]
  },
  {
   "cell_type": "code",
   "execution_count": 28,
   "id": "04cd08ff",
   "metadata": {},
   "outputs": [],
   "source": [
    "a_var = 23"
   ]
  },
  {
   "cell_type": "code",
   "execution_count": 29,
   "id": "b0a1a843",
   "metadata": {},
   "outputs": [
    {
     "ename": "SyntaxError",
     "evalue": "invalid syntax (3968258449.py, line 1)",
     "output_type": "error",
     "traceback": [
      "\u001b[1;36m  File \u001b[1;32m\"C:\\Users\\INDIA\\AppData\\Local\\Temp\\ipykernel_12148\\3968258449.py\"\u001b[1;36m, line \u001b[1;32m1\u001b[0m\n\u001b[1;33m    is_today_$aturday\u001b[0m\n\u001b[1;37m             ^\u001b[0m\n\u001b[1;31mSyntaxError\u001b[0m\u001b[1;31m:\u001b[0m invalid syntax\n"
     ]
    }
   ],
   "source": [
    "is_today_$aturday"
   ]
  },
  {
   "cell_type": "code",
   "execution_count": 30,
   "id": "4dc9f41e",
   "metadata": {},
   "outputs": [
    {
     "data": {
      "text/plain": [
       "False"
      ]
     },
     "execution_count": 30,
     "metadata": {},
     "output_type": "execute_result"
    }
   ],
   "source": [
    "is_today_saturday"
   ]
  },
  {
   "cell_type": "code",
   "execution_count": 31,
   "id": "c26f0067",
   "metadata": {},
   "outputs": [
    {
     "ename": "NameError",
     "evalue": "name 'my' is not defined",
     "output_type": "error",
     "traceback": [
      "\u001b[1;31m---------------------------------------------------------------------------\u001b[0m",
      "\u001b[1;31mNameError\u001b[0m                                 Traceback (most recent call last)",
      "\u001b[1;32m~\\AppData\\Local\\Temp\\ipykernel_12148\\701379264.py\u001b[0m in \u001b[0;36m<module>\u001b[1;34m\u001b[0m\n\u001b[1;32m----> 1\u001b[1;33m \u001b[0mmy\u001b[0m\u001b[1;33m-\u001b[0m\u001b[0mfav\u001b[0m\u001b[1;33m-\u001b[0m\u001b[0mcar\u001b[0m\u001b[1;33m\u001b[0m\u001b[1;33m\u001b[0m\u001b[0m\n\u001b[0m",
      "\u001b[1;31mNameError\u001b[0m: name 'my' is not defined"
     ]
    }
   ],
   "source": [
    "my-fav-car"
   ]
  },
  {
   "cell_type": "code",
   "execution_count": 32,
   "id": "10ab0a51",
   "metadata": {},
   "outputs": [
    {
     "data": {
      "text/plain": [
       "'tesla'"
      ]
     },
     "execution_count": 32,
     "metadata": {},
     "output_type": "execute_result"
    }
   ],
   "source": [
    "my_fav_car"
   ]
  },
  {
   "cell_type": "code",
   "execution_count": 33,
   "id": "6ada30bf",
   "metadata": {},
   "outputs": [
    {
     "ename": "SyntaxError",
     "evalue": "invalid decimal literal (1403766374.py, line 1)",
     "output_type": "error",
     "traceback": [
      "\u001b[1;36m  File \u001b[1;32m\"C:\\Users\\INDIA\\AppData\\Local\\Temp\\ipykernel_12148\\1403766374.py\"\u001b[1;36m, line \u001b[1;32m1\u001b[0m\n\u001b[1;33m    3_muskeeters\u001b[0m\n\u001b[1;37m     ^\u001b[0m\n\u001b[1;31mSyntaxError\u001b[0m\u001b[1;31m:\u001b[0m invalid decimal literal\n"
     ]
    }
   ],
   "source": [
    "3_muskeeters"
   ]
  },
  {
   "cell_type": "code",
   "execution_count": 34,
   "id": "4d1c4d27",
   "metadata": {},
   "outputs": [
    {
     "data": {
      "text/plain": [
       "['amar', 'akbar', 'anthony']"
      ]
     },
     "execution_count": 34,
     "metadata": {},
     "output_type": "execute_result"
    }
   ],
   "source": [
    "the_3_muskeeters"
   ]
  },
  {
   "cell_type": "code",
   "execution_count": 35,
   "id": "fadf469a",
   "metadata": {},
   "outputs": [
    {
     "ename": "SyntaxError",
     "evalue": "invalid syntax (3528599804.py, line 1)",
     "output_type": "error",
     "traceback": [
      "\u001b[1;36m  File \u001b[1;32m\"C:\\Users\\INDIA\\AppData\\Local\\Temp\\ipykernel_12148\\3528599804.py\"\u001b[1;36m, line \u001b[1;32m1\u001b[0m\n\u001b[1;33m    git status\u001b[0m\n\u001b[1;37m        ^\u001b[0m\n\u001b[1;31mSyntaxError\u001b[0m\u001b[1;31m:\u001b[0m invalid syntax\n"
     ]
    }
   ],
   "source": [
    "git status"
   ]
  },
  {
   "cell_type": "code",
   "execution_count": 36,
   "id": "c5ea9986",
   "metadata": {},
   "outputs": [
    {
     "data": {
      "text/plain": [
       "23"
      ]
     },
     "execution_count": 36,
     "metadata": {},
     "output_type": "execute_result"
    }
   ],
   "source": [
    "a_var"
   ]
  },
  {
   "cell_type": "code",
   "execution_count": 37,
   "id": "7c00ef45",
   "metadata": {},
   "outputs": [
    {
     "data": {
      "text/plain": [
       "int"
      ]
     },
     "execution_count": 37,
     "metadata": {},
     "output_type": "execute_result"
    }
   ],
   "source": [
    "type(a_var)"
   ]
  },
  {
   "cell_type": "code",
   "execution_count": 38,
   "id": "5ba507a7",
   "metadata": {},
   "outputs": [
    {
     "data": {
      "text/plain": [
       "False"
      ]
     },
     "execution_count": 38,
     "metadata": {},
     "output_type": "execute_result"
    }
   ],
   "source": [
    "is_today_saturday"
   ]
  },
  {
   "cell_type": "code",
   "execution_count": 39,
   "id": "955a161d",
   "metadata": {},
   "outputs": [
    {
     "data": {
      "text/plain": [
       "bool"
      ]
     },
     "execution_count": 39,
     "metadata": {},
     "output_type": "execute_result"
    }
   ],
   "source": [
    "type(is_today_saturday)"
   ]
  },
  {
   "cell_type": "code",
   "execution_count": 40,
   "id": "1656d262",
   "metadata": {},
   "outputs": [
    {
     "data": {
      "text/plain": [
       "'tesla'"
      ]
     },
     "execution_count": 40,
     "metadata": {},
     "output_type": "execute_result"
    }
   ],
   "source": [
    "my_fav_car"
   ]
  },
  {
   "cell_type": "code",
   "execution_count": 41,
   "id": "e6753051",
   "metadata": {},
   "outputs": [
    {
     "data": {
      "text/plain": [
       "str"
      ]
     },
     "execution_count": 41,
     "metadata": {},
     "output_type": "execute_result"
    }
   ],
   "source": [
    "type(my_fav_car)"
   ]
  },
  {
   "cell_type": "code",
   "execution_count": 42,
   "id": "bbb86801",
   "metadata": {},
   "outputs": [
    {
     "ename": "NameError",
     "evalue": "name 'the_3_musketeers' is not defined",
     "output_type": "error",
     "traceback": [
      "\u001b[1;31m---------------------------------------------------------------------------\u001b[0m",
      "\u001b[1;31mNameError\u001b[0m                                 Traceback (most recent call last)",
      "\u001b[1;32m~\\AppData\\Local\\Temp\\ipykernel_12148\\1645490061.py\u001b[0m in \u001b[0;36m<module>\u001b[1;34m\u001b[0m\n\u001b[1;32m----> 1\u001b[1;33m \u001b[0mthe_3_musketeers\u001b[0m\u001b[1;33m\u001b[0m\u001b[1;33m\u001b[0m\u001b[0m\n\u001b[0m",
      "\u001b[1;31mNameError\u001b[0m: name 'the_3_musketeers' is not defined"
     ]
    }
   ],
   "source": [
    "the_3_musketeers"
   ]
  },
  {
   "cell_type": "code",
   "execution_count": 43,
   "id": "8e0824d5",
   "metadata": {},
   "outputs": [
    {
     "data": {
      "text/plain": [
       "['amar', 'akbar', 'anthony']"
      ]
     },
     "execution_count": 43,
     "metadata": {},
     "output_type": "execute_result"
    }
   ],
   "source": [
    "the_3_muskeeters"
   ]
  },
  {
   "cell_type": "code",
   "execution_count": 44,
   "id": "f85e21ee",
   "metadata": {},
   "outputs": [
    {
     "data": {
      "text/plain": [
       "list"
      ]
     },
     "execution_count": 44,
     "metadata": {},
     "output_type": "execute_result"
    }
   ],
   "source": [
    "type(the_3_muskeeters)"
   ]
  },
  {
   "cell_type": "markdown",
   "id": "1ca1991a",
   "metadata": {},
   "source": [
    "# Integer Data Type"
   ]
  },
  {
   "cell_type": "code",
   "execution_count": 45,
   "id": "74d8264e",
   "metadata": {},
   "outputs": [],
   "source": [
    "current_year = 2023"
   ]
  },
  {
   "cell_type": "code",
   "execution_count": 46,
   "id": "6c152432",
   "metadata": {},
   "outputs": [
    {
     "data": {
      "text/plain": [
       "2023"
      ]
     },
     "execution_count": 46,
     "metadata": {},
     "output_type": "execute_result"
    }
   ],
   "source": [
    "current_year"
   ]
  },
  {
   "cell_type": "code",
   "execution_count": 47,
   "id": "1bd26c77",
   "metadata": {},
   "outputs": [
    {
     "data": {
      "text/plain": [
       "int"
      ]
     },
     "execution_count": 47,
     "metadata": {},
     "output_type": "execute_result"
    }
   ],
   "source": [
    "type(current_year)"
   ]
  },
  {
   "cell_type": "code",
   "execution_count": 48,
   "id": "324d07a3",
   "metadata": {},
   "outputs": [],
   "source": [
    "a_large_negative_number = -321842981349827398473298892137843278892374823"
   ]
  },
  {
   "cell_type": "code",
   "execution_count": 49,
   "id": "79c126ac",
   "metadata": {},
   "outputs": [
    {
     "data": {
      "text/plain": [
       "-321842981349827398473298892137843278892374823"
      ]
     },
     "execution_count": 49,
     "metadata": {},
     "output_type": "execute_result"
    }
   ],
   "source": [
    "a_large_negative_number"
   ]
  },
  {
   "cell_type": "markdown",
   "id": "e4c04822",
   "metadata": {},
   "source": [
    "# Float Data Type"
   ]
  },
  {
   "cell_type": "code",
   "execution_count": 50,
   "id": "3ce1af4a",
   "metadata": {},
   "outputs": [],
   "source": [
    "pi = 3.141592653589793238"
   ]
  },
  {
   "cell_type": "code",
   "execution_count": 51,
   "id": "5cc3f156",
   "metadata": {},
   "outputs": [
    {
     "data": {
      "text/plain": [
       "3.141592653589793"
      ]
     },
     "execution_count": 51,
     "metadata": {},
     "output_type": "execute_result"
    }
   ],
   "source": [
    "pi"
   ]
  },
  {
   "cell_type": "code",
   "execution_count": 52,
   "id": "fb4af3b3",
   "metadata": {},
   "outputs": [
    {
     "data": {
      "text/plain": [
       "float"
      ]
     },
     "execution_count": 52,
     "metadata": {},
     "output_type": "execute_result"
    }
   ],
   "source": [
    "type(pi)"
   ]
  },
  {
   "cell_type": "code",
   "execution_count": 53,
   "id": "9efa3ed1",
   "metadata": {},
   "outputs": [],
   "source": [
    "a_number = 3.0"
   ]
  },
  {
   "cell_type": "code",
   "execution_count": 54,
   "id": "280ed70f",
   "metadata": {},
   "outputs": [
    {
     "data": {
      "text/plain": [
       "3.0"
      ]
     },
     "execution_count": 54,
     "metadata": {},
     "output_type": "execute_result"
    }
   ],
   "source": [
    "a_number"
   ]
  },
  {
   "cell_type": "code",
   "execution_count": 55,
   "id": "fcae8f20",
   "metadata": {},
   "outputs": [
    {
     "data": {
      "text/plain": [
       "float"
      ]
     },
     "execution_count": 55,
     "metadata": {},
     "output_type": "execute_result"
    }
   ],
   "source": [
    "type(a_number)"
   ]
  },
  {
   "cell_type": "code",
   "execution_count": 56,
   "id": "d3c5979d",
   "metadata": {},
   "outputs": [],
   "source": [
    "another_number = 3."
   ]
  },
  {
   "cell_type": "code",
   "execution_count": 57,
   "id": "55d69164",
   "metadata": {},
   "outputs": [
    {
     "data": {
      "text/plain": [
       "3.0"
      ]
     },
     "execution_count": 57,
     "metadata": {},
     "output_type": "execute_result"
    }
   ],
   "source": [
    "another_number"
   ]
  },
  {
   "cell_type": "code",
   "execution_count": 58,
   "id": "35a73538",
   "metadata": {},
   "outputs": [
    {
     "data": {
      "text/plain": [
       "float"
      ]
     },
     "execution_count": 58,
     "metadata": {},
     "output_type": "execute_result"
    }
   ],
   "source": [
    "type(another_number)"
   ]
  },
  {
   "cell_type": "code",
   "execution_count": 59,
   "id": "e27b5e2c",
   "metadata": {},
   "outputs": [],
   "source": [
    "one_hundredth = 1e-2"
   ]
  },
  {
   "cell_type": "code",
   "execution_count": 60,
   "id": "fdd50711",
   "metadata": {},
   "outputs": [
    {
     "data": {
      "text/plain": [
       "0.01"
      ]
     },
     "execution_count": 60,
     "metadata": {},
     "output_type": "execute_result"
    }
   ],
   "source": [
    "one_hundredth"
   ]
  },
  {
   "cell_type": "code",
   "execution_count": 61,
   "id": "ae910512",
   "metadata": {},
   "outputs": [
    {
     "data": {
      "text/plain": [
       "float"
      ]
     },
     "execution_count": 61,
     "metadata": {},
     "output_type": "execute_result"
    }
   ],
   "source": [
    "type(one_hundredth)"
   ]
  },
  {
   "cell_type": "code",
   "execution_count": 62,
   "id": "d846a4a7",
   "metadata": {},
   "outputs": [],
   "source": [
    "avogadro_number = 6.02214076e23"
   ]
  },
  {
   "cell_type": "code",
   "execution_count": 63,
   "id": "2671a4b6",
   "metadata": {},
   "outputs": [
    {
     "data": {
      "text/plain": [
       "6.02214076e+23"
      ]
     },
     "execution_count": 63,
     "metadata": {},
     "output_type": "execute_result"
    }
   ],
   "source": [
    "avogadro_number"
   ]
  },
  {
   "cell_type": "code",
   "execution_count": 64,
   "id": "0701e3af",
   "metadata": {},
   "outputs": [
    {
     "data": {
      "text/plain": [
       "float"
      ]
     },
     "execution_count": 64,
     "metadata": {},
     "output_type": "execute_result"
    }
   ],
   "source": [
    "type(avogadro_number)"
   ]
  },
  {
   "cell_type": "markdown",
   "id": "bdbeb227",
   "metadata": {},
   "source": [
    "## convert int into floats"
   ]
  },
  {
   "cell_type": "code",
   "execution_count": 65,
   "id": "23f22b59",
   "metadata": {},
   "outputs": [
    {
     "data": {
      "text/plain": [
       "2023"
      ]
     },
     "execution_count": 65,
     "metadata": {},
     "output_type": "execute_result"
    }
   ],
   "source": [
    "current_year"
   ]
  },
  {
   "cell_type": "code",
   "execution_count": 66,
   "id": "279c81e5",
   "metadata": {},
   "outputs": [
    {
     "data": {
      "text/plain": [
       "int"
      ]
     },
     "execution_count": 66,
     "metadata": {},
     "output_type": "execute_result"
    }
   ],
   "source": [
    "type(current_year)"
   ]
  },
  {
   "cell_type": "code",
   "execution_count": 67,
   "id": "7bbb0575",
   "metadata": {},
   "outputs": [
    {
     "data": {
      "text/plain": [
       "2023.0"
      ]
     },
     "execution_count": 67,
     "metadata": {},
     "output_type": "execute_result"
    }
   ],
   "source": [
    "float(current_year)"
   ]
  },
  {
   "cell_type": "code",
   "execution_count": 68,
   "id": "fa9cc03f",
   "metadata": {},
   "outputs": [
    {
     "data": {
      "text/plain": [
       "int"
      ]
     },
     "execution_count": 68,
     "metadata": {},
     "output_type": "execute_result"
    }
   ],
   "source": [
    "type(current_year)"
   ]
  },
  {
   "cell_type": "code",
   "execution_count": 69,
   "id": "8da1640e",
   "metadata": {},
   "outputs": [
    {
     "data": {
      "text/plain": [
       "3.141592653589793"
      ]
     },
     "execution_count": 69,
     "metadata": {},
     "output_type": "execute_result"
    }
   ],
   "source": [
    "pi"
   ]
  },
  {
   "cell_type": "code",
   "execution_count": 70,
   "id": "99574c54",
   "metadata": {},
   "outputs": [
    {
     "data": {
      "text/plain": [
       "3"
      ]
     },
     "execution_count": 70,
     "metadata": {},
     "output_type": "execute_result"
    }
   ],
   "source": [
    "int(pi)"
   ]
  },
  {
   "cell_type": "code",
   "execution_count": 71,
   "id": "b503e31c",
   "metadata": {},
   "outputs": [
    {
     "data": {
      "text/plain": [
       "float"
      ]
     },
     "execution_count": 71,
     "metadata": {},
     "output_type": "execute_result"
    }
   ],
   "source": [
    "type(pi)"
   ]
  },
  {
   "cell_type": "code",
   "execution_count": 72,
   "id": "11357a3d",
   "metadata": {},
   "outputs": [
    {
     "data": {
      "text/plain": [
       "602214075999999987023872"
      ]
     },
     "execution_count": 72,
     "metadata": {},
     "output_type": "execute_result"
    }
   ],
   "source": [
    "int(avogadro_number)"
   ]
  },
  {
   "cell_type": "code",
   "execution_count": 73,
   "id": "32d1ef36",
   "metadata": {},
   "outputs": [
    {
     "data": {
      "text/plain": [
       "float"
      ]
     },
     "execution_count": 73,
     "metadata": {},
     "output_type": "execute_result"
    }
   ],
   "source": [
    "type(avogadro_number)"
   ]
  },
  {
   "cell_type": "code",
   "execution_count": 74,
   "id": "4f7408e7",
   "metadata": {},
   "outputs": [
    {
     "data": {
      "text/plain": [
       "float"
      ]
     },
     "execution_count": 74,
     "metadata": {},
     "output_type": "execute_result"
    }
   ],
   "source": [
    "type(45 * 3.0)"
   ]
  },
  {
   "cell_type": "code",
   "execution_count": 75,
   "id": "98104198",
   "metadata": {},
   "outputs": [
    {
     "data": {
      "text/plain": [
       "int"
      ]
     },
     "execution_count": 75,
     "metadata": {},
     "output_type": "execute_result"
    }
   ],
   "source": [
    "type(45 * 5)"
   ]
  },
  {
   "cell_type": "code",
   "execution_count": 76,
   "id": "255d518e",
   "metadata": {},
   "outputs": [
    {
     "data": {
      "text/plain": [
       "float"
      ]
     },
     "execution_count": 76,
     "metadata": {},
     "output_type": "execute_result"
    }
   ],
   "source": [
    "type(20/7)"
   ]
  },
  {
   "cell_type": "code",
   "execution_count": 77,
   "id": "3691eaf9",
   "metadata": {},
   "outputs": [
    {
     "data": {
      "text/plain": [
       "float"
      ]
     },
     "execution_count": 77,
     "metadata": {},
     "output_type": "execute_result"
    }
   ],
   "source": [
    "type(20/10)"
   ]
  },
  {
   "cell_type": "code",
   "execution_count": 78,
   "id": "282e4c4e",
   "metadata": {},
   "outputs": [
    {
     "data": {
      "text/plain": [
       "int"
      ]
     },
     "execution_count": 78,
     "metadata": {},
     "output_type": "execute_result"
    }
   ],
   "source": [
    "type(20//7)"
   ]
  },
  {
   "cell_type": "code",
   "execution_count": 79,
   "id": "8ef18976",
   "metadata": {},
   "outputs": [
    {
     "data": {
      "text/plain": [
       "int"
      ]
     },
     "execution_count": 79,
     "metadata": {},
     "output_type": "execute_result"
    }
   ],
   "source": [
    "type(20//10)"
   ]
  },
  {
   "cell_type": "markdown",
   "id": "81c11af6",
   "metadata": {},
   "source": [
    "# Boolean data type"
   ]
  },
  {
   "cell_type": "code",
   "execution_count": 80,
   "id": "7e016c1f",
   "metadata": {},
   "outputs": [],
   "source": [
    "is_today_friday = True"
   ]
  },
  {
   "cell_type": "code",
   "execution_count": 81,
   "id": "80cd19ee",
   "metadata": {},
   "outputs": [
    {
     "data": {
      "text/plain": [
       "True"
      ]
     },
     "execution_count": 81,
     "metadata": {},
     "output_type": "execute_result"
    }
   ],
   "source": [
    "is_today_friday"
   ]
  },
  {
   "cell_type": "code",
   "execution_count": 82,
   "id": "32ea9d94",
   "metadata": {},
   "outputs": [
    {
     "data": {
      "text/plain": [
       "bool"
      ]
     },
     "execution_count": 82,
     "metadata": {},
     "output_type": "execute_result"
    }
   ],
   "source": [
    "type(is_today_friday)"
   ]
  },
  {
   "cell_type": "code",
   "execution_count": 83,
   "id": "3646e566",
   "metadata": {},
   "outputs": [],
   "source": [
    "cost_of_something = 2.31"
   ]
  },
  {
   "cell_type": "code",
   "execution_count": 84,
   "id": "c9d63ceb",
   "metadata": {},
   "outputs": [],
   "source": [
    "is_something_expensive = cost_of_something >= 20"
   ]
  },
  {
   "cell_type": "code",
   "execution_count": 85,
   "id": "3e995f44",
   "metadata": {},
   "outputs": [
    {
     "data": {
      "text/plain": [
       "False"
      ]
     },
     "execution_count": 85,
     "metadata": {},
     "output_type": "execute_result"
    }
   ],
   "source": [
    "is_something_expensive"
   ]
  },
  {
   "cell_type": "code",
   "execution_count": 86,
   "id": "041ee6bc",
   "metadata": {},
   "outputs": [
    {
     "data": {
      "text/plain": [
       "bool"
      ]
     },
     "execution_count": 86,
     "metadata": {},
     "output_type": "execute_result"
    }
   ],
   "source": [
    "type(is_something_expensive)"
   ]
  },
  {
   "cell_type": "code",
   "execution_count": 87,
   "id": "f4d2d7a4",
   "metadata": {},
   "outputs": [
    {
     "ename": "NameError",
     "evalue": "name 'false' is not defined",
     "output_type": "error",
     "traceback": [
      "\u001b[1;31m---------------------------------------------------------------------------\u001b[0m",
      "\u001b[1;31mNameError\u001b[0m                                 Traceback (most recent call last)",
      "\u001b[1;32m~\\AppData\\Local\\Temp\\ipykernel_12148\\3358226641.py\u001b[0m in \u001b[0;36m<module>\u001b[1;34m\u001b[0m\n\u001b[1;32m----> 1\u001b[1;33m \u001b[1;36m5\u001b[0m\u001b[1;33m+\u001b[0m\u001b[0mfalse\u001b[0m\u001b[1;33m\u001b[0m\u001b[1;33m\u001b[0m\u001b[0m\n\u001b[0m",
      "\u001b[1;31mNameError\u001b[0m: name 'false' is not defined"
     ]
    }
   ],
   "source": [
    "5+false"
   ]
  },
  {
   "cell_type": "code",
   "execution_count": 88,
   "id": "e56a75af",
   "metadata": {},
   "outputs": [
    {
     "data": {
      "text/plain": [
       "5"
      ]
     },
     "execution_count": 88,
     "metadata": {},
     "output_type": "execute_result"
    }
   ],
   "source": [
    "5 + False"
   ]
  },
  {
   "cell_type": "code",
   "execution_count": 89,
   "id": "00fdc183",
   "metadata": {},
   "outputs": [
    {
     "data": {
      "text/plain": [
       "4.0"
      ]
     },
     "execution_count": 89,
     "metadata": {},
     "output_type": "execute_result"
    }
   ],
   "source": [
    "3. + True"
   ]
  },
  {
   "cell_type": "code",
   "execution_count": 90,
   "id": "46365ce3",
   "metadata": {},
   "outputs": [
    {
     "data": {
      "text/plain": [
       "True"
      ]
     },
     "execution_count": 90,
     "metadata": {},
     "output_type": "execute_result"
    }
   ],
   "source": [
    "True == 1"
   ]
  },
  {
   "cell_type": "code",
   "execution_count": 91,
   "id": "781a0ac0",
   "metadata": {},
   "outputs": [
    {
     "data": {
      "text/plain": [
       "True"
      ]
     },
     "execution_count": 91,
     "metadata": {},
     "output_type": "execute_result"
    }
   ],
   "source": [
    "False == 0"
   ]
  },
  {
   "cell_type": "code",
   "execution_count": 92,
   "id": "5dc45f2c",
   "metadata": {},
   "outputs": [
    {
     "data": {
      "text/plain": [
       "False"
      ]
     },
     "execution_count": 92,
     "metadata": {},
     "output_type": "execute_result"
    }
   ],
   "source": [
    "False == 1"
   ]
  },
  {
   "cell_type": "code",
   "execution_count": 93,
   "id": "5e68893b",
   "metadata": {},
   "outputs": [
    {
     "data": {
      "text/plain": [
       "False"
      ]
     },
     "execution_count": 93,
     "metadata": {},
     "output_type": "execute_result"
    }
   ],
   "source": [
    "bool(False)"
   ]
  },
  {
   "cell_type": "code",
   "execution_count": 94,
   "id": "defd859b",
   "metadata": {},
   "outputs": [
    {
     "data": {
      "text/plain": [
       "False"
      ]
     },
     "execution_count": 94,
     "metadata": {},
     "output_type": "execute_result"
    }
   ],
   "source": [
    "bool(0)"
   ]
  },
  {
   "cell_type": "code",
   "execution_count": 95,
   "id": "6dd26e7d",
   "metadata": {},
   "outputs": [
    {
     "data": {
      "text/plain": [
       "False"
      ]
     },
     "execution_count": 95,
     "metadata": {},
     "output_type": "execute_result"
    }
   ],
   "source": [
    "bool(0.0)"
   ]
  },
  {
   "cell_type": "code",
   "execution_count": 96,
   "id": "f0788f43",
   "metadata": {},
   "outputs": [
    {
     "data": {
      "text/plain": [
       "False"
      ]
     },
     "execution_count": 96,
     "metadata": {},
     "output_type": "execute_result"
    }
   ],
   "source": [
    "bool(None)"
   ]
  },
  {
   "cell_type": "code",
   "execution_count": 97,
   "id": "a4455141",
   "metadata": {},
   "outputs": [
    {
     "data": {
      "text/plain": [
       "False"
      ]
     },
     "execution_count": 97,
     "metadata": {},
     "output_type": "execute_result"
    }
   ],
   "source": [
    "bool(\"\")"
   ]
  },
  {
   "cell_type": "code",
   "execution_count": 98,
   "id": "aa9ea709",
   "metadata": {},
   "outputs": [
    {
     "data": {
      "text/plain": [
       "False"
      ]
     },
     "execution_count": 98,
     "metadata": {},
     "output_type": "execute_result"
    }
   ],
   "source": [
    "bool([])"
   ]
  },
  {
   "cell_type": "code",
   "execution_count": 99,
   "id": "4a747905",
   "metadata": {},
   "outputs": [
    {
     "data": {
      "text/plain": [
       "False"
      ]
     },
     "execution_count": 99,
     "metadata": {},
     "output_type": "execute_result"
    }
   ],
   "source": [
    "bool(())"
   ]
  },
  {
   "cell_type": "code",
   "execution_count": 100,
   "id": "8d49f60e",
   "metadata": {},
   "outputs": [
    {
     "data": {
      "text/plain": [
       "False"
      ]
     },
     "execution_count": 100,
     "metadata": {},
     "output_type": "execute_result"
    }
   ],
   "source": [
    "bool({})"
   ]
  },
  {
   "cell_type": "code",
   "execution_count": 101,
   "id": "15bc64e4",
   "metadata": {},
   "outputs": [
    {
     "data": {
      "text/plain": [
       "False"
      ]
     },
     "execution_count": 101,
     "metadata": {},
     "output_type": "execute_result"
    }
   ],
   "source": [
    "bool(set())"
   ]
  },
  {
   "cell_type": "code",
   "execution_count": 102,
   "id": "caf57c51",
   "metadata": {},
   "outputs": [
    {
     "data": {
      "text/plain": [
       "False"
      ]
     },
     "execution_count": 102,
     "metadata": {},
     "output_type": "execute_result"
    }
   ],
   "source": [
    "bool(range(0))"
   ]
  },
  {
   "cell_type": "code",
   "execution_count": 103,
   "id": "72b7c130",
   "metadata": {},
   "outputs": [
    {
     "data": {
      "text/plain": [
       "True"
      ]
     },
     "execution_count": 103,
     "metadata": {},
     "output_type": "execute_result"
    }
   ],
   "source": [
    "bool(True)"
   ]
  },
  {
   "cell_type": "code",
   "execution_count": 104,
   "id": "29a218bb",
   "metadata": {},
   "outputs": [
    {
     "data": {
      "text/plain": [
       "True"
      ]
     },
     "execution_count": 104,
     "metadata": {},
     "output_type": "execute_result"
    }
   ],
   "source": [
    "bool(1)"
   ]
  },
  {
   "cell_type": "code",
   "execution_count": 105,
   "id": "4ea94453",
   "metadata": {},
   "outputs": [
    {
     "data": {
      "text/plain": [
       "True"
      ]
     },
     "execution_count": 105,
     "metadata": {},
     "output_type": "execute_result"
    }
   ],
   "source": [
    "bool(2.0)"
   ]
  },
  {
   "cell_type": "code",
   "execution_count": 106,
   "id": "8e5cce1c",
   "metadata": {},
   "outputs": [
    {
     "data": {
      "text/plain": [
       "True"
      ]
     },
     "execution_count": 106,
     "metadata": {},
     "output_type": "execute_result"
    }
   ],
   "source": [
    "bool(\"helloii\")"
   ]
  },
  {
   "cell_type": "code",
   "execution_count": 107,
   "id": "01fedecc",
   "metadata": {},
   "outputs": [
    {
     "data": {
      "text/plain": [
       "True"
      ]
     },
     "execution_count": 107,
     "metadata": {},
     "output_type": "execute_result"
    }
   ],
   "source": [
    "bool([1, 2])"
   ]
  },
  {
   "cell_type": "code",
   "execution_count": 108,
   "id": "250eefbb",
   "metadata": {},
   "outputs": [
    {
     "data": {
      "text/plain": [
       "True"
      ]
     },
     "execution_count": 108,
     "metadata": {},
     "output_type": "execute_result"
    }
   ],
   "source": [
    "bool((1,))"
   ]
  },
  {
   "cell_type": "code",
   "execution_count": 109,
   "id": "58eec9b6",
   "metadata": {},
   "outputs": [
    {
     "data": {
      "text/plain": [
       "True"
      ]
     },
     "execution_count": 109,
     "metadata": {},
     "output_type": "execute_result"
    }
   ],
   "source": [
    "bool(range(2))"
   ]
  },
  {
   "cell_type": "code",
   "execution_count": 110,
   "id": "b4635a8a",
   "metadata": {},
   "outputs": [
    {
     "ename": "TypeError",
     "evalue": "'int' object is not iterable",
     "output_type": "error",
     "traceback": [
      "\u001b[1;31m---------------------------------------------------------------------------\u001b[0m",
      "\u001b[1;31mTypeError\u001b[0m                                 Traceback (most recent call last)",
      "\u001b[1;32m~\\AppData\\Local\\Temp\\ipykernel_12148\\965920842.py\u001b[0m in \u001b[0;36m<module>\u001b[1;34m\u001b[0m\n\u001b[1;32m----> 1\u001b[1;33m \u001b[0mbool\u001b[0m\u001b[1;33m(\u001b[0m\u001b[0mset\u001b[0m\u001b[1;33m(\u001b[0m\u001b[1;36m2\u001b[0m\u001b[1;33m)\u001b[0m\u001b[1;33m)\u001b[0m\u001b[1;33m\u001b[0m\u001b[1;33m\u001b[0m\u001b[0m\n\u001b[0m",
      "\u001b[1;31mTypeError\u001b[0m: 'int' object is not iterable"
     ]
    }
   ],
   "source": [
    "bool(set(2))"
   ]
  },
  {
   "cell_type": "code",
   "execution_count": 111,
   "id": "36553838",
   "metadata": {},
   "outputs": [
    {
     "data": {
      "text/plain": [
       "False"
      ]
     },
     "execution_count": 111,
     "metadata": {},
     "output_type": "execute_result"
    }
   ],
   "source": [
    "(1,) == 1"
   ]
  },
  {
   "cell_type": "code",
   "execution_count": 112,
   "id": "ba0c3c73",
   "metadata": {},
   "outputs": [
    {
     "data": {
      "text/plain": [
       "False"
      ]
     },
     "execution_count": 112,
     "metadata": {},
     "output_type": "execute_result"
    }
   ],
   "source": [
    "bool((1,) == 1)"
   ]
  },
  {
   "cell_type": "code",
   "execution_count": 113,
   "id": "60e37fc6",
   "metadata": {},
   "outputs": [],
   "source": [
    "nothing = None"
   ]
  },
  {
   "cell_type": "code",
   "execution_count": 114,
   "id": "61c96cb9",
   "metadata": {},
   "outputs": [
    {
     "data": {
      "text/plain": [
       "NoneType"
      ]
     },
     "execution_count": 114,
     "metadata": {},
     "output_type": "execute_result"
    }
   ],
   "source": [
    "type(nothing)"
   ]
  },
  {
   "cell_type": "markdown",
   "id": "e810214e",
   "metadata": {},
   "source": [
    "# String Data Type"
   ]
  },
  {
   "cell_type": "code",
   "execution_count": 1,
   "id": "d9dd90ba",
   "metadata": {},
   "outputs": [],
   "source": [
    "today = \"Saturday\""
   ]
  },
  {
   "cell_type": "code",
   "execution_count": 2,
   "id": "05c31330",
   "metadata": {},
   "outputs": [
    {
     "data": {
      "text/plain": [
       "'Saturday'"
      ]
     },
     "execution_count": 2,
     "metadata": {},
     "output_type": "execute_result"
    }
   ],
   "source": [
    "today"
   ]
  },
  {
   "cell_type": "code",
   "execution_count": 3,
   "id": "499dd7a2",
   "metadata": {},
   "outputs": [
    {
     "data": {
      "text/plain": [
       "str"
      ]
     },
     "execution_count": 3,
     "metadata": {},
     "output_type": "execute_result"
    }
   ],
   "source": [
    "type(today)"
   ]
  },
  {
   "cell_type": "code",
   "execution_count": 4,
   "id": "fec742be",
   "metadata": {},
   "outputs": [],
   "source": [
    "my_fav_movie = \"some movie\""
   ]
  },
  {
   "cell_type": "code",
   "execution_count": 5,
   "id": "d3ea1d43",
   "metadata": {},
   "outputs": [
    {
     "data": {
      "text/plain": [
       "'some movie'"
      ]
     },
     "execution_count": 5,
     "metadata": {},
     "output_type": "execute_result"
    }
   ],
   "source": [
    "my_fav_movie"
   ]
  },
  {
   "cell_type": "code",
   "execution_count": 6,
   "id": "200e70a4",
   "metadata": {},
   "outputs": [],
   "source": [
    "my_fav_pun = 'thanks to my \"many\" friends'"
   ]
  },
  {
   "cell_type": "code",
   "execution_count": 7,
   "id": "97b7fb06",
   "metadata": {},
   "outputs": [
    {
     "data": {
      "text/plain": [
       "'thanks to my \"many\" friends'"
      ]
     },
     "execution_count": 7,
     "metadata": {},
     "output_type": "execute_result"
    }
   ],
   "source": [
    "my_fav_pun"
   ]
  },
  {
   "cell_type": "code",
   "execution_count": 8,
   "id": "019ff405",
   "metadata": {},
   "outputs": [],
   "source": [
    "my_fav_pun = \"see this \\\"one\\\"\""
   ]
  },
  {
   "cell_type": "code",
   "execution_count": 9,
   "id": "62715ae8",
   "metadata": {},
   "outputs": [
    {
     "data": {
      "text/plain": [
       "'see this \"one\"'"
      ]
     },
     "execution_count": 9,
     "metadata": {},
     "output_type": "execute_result"
    }
   ],
   "source": [
    "my_fav_pun"
   ]
  },
  {
   "cell_type": "code",
   "execution_count": 10,
   "id": "4504dcf6",
   "metadata": {},
   "outputs": [],
   "source": [
    "another = '''Son: hey \"You\"\n",
    "Dad: \"Get out\"'''"
   ]
  },
  {
   "cell_type": "code",
   "execution_count": 11,
   "id": "1cc53a4e",
   "metadata": {},
   "outputs": [
    {
     "data": {
      "text/plain": [
       "'Son: hey \"You\"\\nDad: \"Get out\"'"
      ]
     },
     "execution_count": 11,
     "metadata": {},
     "output_type": "execute_result"
    }
   ],
   "source": [
    "another"
   ]
  },
  {
   "cell_type": "code",
   "execution_count": 12,
   "id": "dbdf26e4",
   "metadata": {},
   "outputs": [
    {
     "name": "stdout",
     "output_type": "stream",
     "text": [
      "Son: hey \"You\"\n",
      "Dad: \"Get out\"\n"
     ]
    }
   ],
   "source": [
    "print(another)"
   ]
  },
  {
   "cell_type": "code",
   "execution_count": 13,
   "id": "5a768c82",
   "metadata": {},
   "outputs": [],
   "source": [
    "some_multiline = \"\"\"\n",
    "hey\n",
    "hi\n",
    "yo\n",
    "yahoo \"no\"\n",
    "\"\"\""
   ]
  },
  {
   "cell_type": "code",
   "execution_count": 14,
   "id": "176d0fdf",
   "metadata": {},
   "outputs": [
    {
     "data": {
      "text/plain": [
       "'\\nhey\\nhi\\nyo\\nyahoo \"no\"\\n'"
      ]
     },
     "execution_count": 14,
     "metadata": {},
     "output_type": "execute_result"
    }
   ],
   "source": [
    "some_multiline"
   ]
  },
  {
   "cell_type": "code",
   "execution_count": 15,
   "id": "06b16fc5",
   "metadata": {},
   "outputs": [
    {
     "name": "stdout",
     "output_type": "stream",
     "text": [
      "\n",
      "hey\n",
      "hi\n",
      "yo\n",
      "yahoo \"no\"\n",
      "\n"
     ]
    }
   ],
   "source": [
    "print(some_multiline)"
   ]
  },
  {
   "cell_type": "code",
   "execution_count": 16,
   "id": "994e59c8",
   "metadata": {},
   "outputs": [
    {
     "data": {
      "text/plain": [
       "29"
      ]
     },
     "execution_count": 16,
     "metadata": {},
     "output_type": "execute_result"
    }
   ],
   "source": [
    "len(another)"
   ]
  },
  {
   "cell_type": "code",
   "execution_count": 17,
   "id": "f55988d5",
   "metadata": {},
   "outputs": [],
   "source": [
    "multi_String = \"\"\"a\n",
    "b\n",
    "c\"\"\""
   ]
  },
  {
   "cell_type": "code",
   "execution_count": 18,
   "id": "05a38c59",
   "metadata": {},
   "outputs": [
    {
     "data": {
      "text/plain": [
       "'a\\nb\\nc'"
      ]
     },
     "execution_count": 18,
     "metadata": {},
     "output_type": "execute_result"
    }
   ],
   "source": [
    "multi_String"
   ]
  },
  {
   "cell_type": "code",
   "execution_count": 19,
   "id": "0dee6f69",
   "metadata": {},
   "outputs": [
    {
     "data": {
      "text/plain": [
       "5"
      ]
     },
     "execution_count": 19,
     "metadata": {},
     "output_type": "execute_result"
    }
   ],
   "source": [
    "len(multi_String)"
   ]
  },
  {
   "cell_type": "code",
   "execution_count": 20,
   "id": "1efd9197",
   "metadata": {},
   "outputs": [
    {
     "name": "stdout",
     "output_type": "stream",
     "text": [
      "a\n",
      "b\n",
      "c\n"
     ]
    }
   ],
   "source": [
    "print(multi_String)"
   ]
  },
  {
   "cell_type": "markdown",
   "id": "20801405",
   "metadata": {},
   "source": [
    "string to list conversion"
   ]
  },
  {
   "cell_type": "code",
   "execution_count": 21,
   "id": "78a6d6c1",
   "metadata": {},
   "outputs": [
    {
     "data": {
      "text/plain": [
       "['a', '\\n', 'b', '\\n', 'c']"
      ]
     },
     "execution_count": 21,
     "metadata": {},
     "output_type": "execute_result"
    }
   ],
   "source": [
    "list(multi_String)"
   ]
  },
  {
   "cell_type": "code",
   "execution_count": 22,
   "id": "4368b01e",
   "metadata": {},
   "outputs": [
    {
     "data": {
      "text/plain": [
       "'a\\nb\\nc'"
      ]
     },
     "execution_count": 22,
     "metadata": {},
     "output_type": "execute_result"
    }
   ],
   "source": [
    "multi_String"
   ]
  },
  {
   "cell_type": "code",
   "execution_count": 23,
   "id": "88effb33",
   "metadata": {},
   "outputs": [
    {
     "data": {
      "text/plain": [
       "'Saturday'"
      ]
     },
     "execution_count": 23,
     "metadata": {},
     "output_type": "execute_result"
    }
   ],
   "source": [
    "today"
   ]
  },
  {
   "cell_type": "code",
   "execution_count": 24,
   "id": "6311dce0",
   "metadata": {},
   "outputs": [
    {
     "data": {
      "text/plain": [
       "'S'"
      ]
     },
     "execution_count": 24,
     "metadata": {},
     "output_type": "execute_result"
    }
   ],
   "source": [
    "today[0]"
   ]
  },
  {
   "cell_type": "code",
   "execution_count": 25,
   "id": "210ef887",
   "metadata": {},
   "outputs": [
    {
     "data": {
      "text/plain": [
       "'a'"
      ]
     },
     "execution_count": 25,
     "metadata": {},
     "output_type": "execute_result"
    }
   ],
   "source": [
    "today[1]"
   ]
  },
  {
   "cell_type": "code",
   "execution_count": 26,
   "id": "09ca5fb6",
   "metadata": {},
   "outputs": [
    {
     "data": {
      "text/plain": [
       "'t'"
      ]
     },
     "execution_count": 26,
     "metadata": {},
     "output_type": "execute_result"
    }
   ],
   "source": [
    "today[2]"
   ]
  },
  {
   "cell_type": "code",
   "execution_count": 27,
   "id": "fd8ee4cc",
   "metadata": {},
   "outputs": [
    {
     "data": {
      "text/plain": [
       "'u'"
      ]
     },
     "execution_count": 27,
     "metadata": {},
     "output_type": "execute_result"
    }
   ],
   "source": [
    "today[3]"
   ]
  },
  {
   "cell_type": "code",
   "execution_count": 28,
   "id": "ef2abab0",
   "metadata": {},
   "outputs": [
    {
     "data": {
      "text/plain": [
       "'r'"
      ]
     },
     "execution_count": 28,
     "metadata": {},
     "output_type": "execute_result"
    }
   ],
   "source": [
    "today[4]"
   ]
  },
  {
   "cell_type": "code",
   "execution_count": 29,
   "id": "9b960ac6",
   "metadata": {},
   "outputs": [
    {
     "data": {
      "text/plain": [
       "'d'"
      ]
     },
     "execution_count": 29,
     "metadata": {},
     "output_type": "execute_result"
    }
   ],
   "source": [
    "today[5]"
   ]
  },
  {
   "cell_type": "code",
   "execution_count": 30,
   "id": "acf18a29",
   "metadata": {},
   "outputs": [
    {
     "data": {
      "text/plain": [
       "'a'"
      ]
     },
     "execution_count": 30,
     "metadata": {},
     "output_type": "execute_result"
    }
   ],
   "source": [
    "today[6]"
   ]
  },
  {
   "cell_type": "code",
   "execution_count": 31,
   "id": "f53af12c",
   "metadata": {},
   "outputs": [
    {
     "data": {
      "text/plain": [
       "'y'"
      ]
     },
     "execution_count": 31,
     "metadata": {},
     "output_type": "execute_result"
    }
   ],
   "source": [
    "today[7]"
   ]
  },
  {
   "cell_type": "code",
   "execution_count": 32,
   "id": "f02adf8e",
   "metadata": {},
   "outputs": [
    {
     "ename": "IndexError",
     "evalue": "string index out of range",
     "output_type": "error",
     "traceback": [
      "\u001b[1;31m---------------------------------------------------------------------------\u001b[0m",
      "\u001b[1;31mIndexError\u001b[0m                                Traceback (most recent call last)",
      "\u001b[1;32m~\\AppData\\Local\\Temp\\ipykernel_12100\\1577548248.py\u001b[0m in \u001b[0;36m<module>\u001b[1;34m\u001b[0m\n\u001b[1;32m----> 1\u001b[1;33m \u001b[0mtoday\u001b[0m\u001b[1;33m[\u001b[0m\u001b[1;36m8\u001b[0m\u001b[1;33m]\u001b[0m\u001b[1;33m\u001b[0m\u001b[1;33m\u001b[0m\u001b[0m\n\u001b[0m",
      "\u001b[1;31mIndexError\u001b[0m: string index out of range"
     ]
    }
   ],
   "source": [
    "today[8]"
   ]
  },
  {
   "cell_type": "code",
   "execution_count": 33,
   "id": "54d6ee44",
   "metadata": {},
   "outputs": [
    {
     "data": {
      "text/plain": [
       "'y'"
      ]
     },
     "execution_count": 33,
     "metadata": {},
     "output_type": "execute_result"
    }
   ],
   "source": [
    "today[-1]"
   ]
  },
  {
   "cell_type": "code",
   "execution_count": 34,
   "id": "74c587f6",
   "metadata": {},
   "outputs": [
    {
     "data": {
      "text/plain": [
       "'a'"
      ]
     },
     "execution_count": 34,
     "metadata": {},
     "output_type": "execute_result"
    }
   ],
   "source": [
    "today[-2]"
   ]
  },
  {
   "cell_type": "code",
   "execution_count": 35,
   "id": "76e9ba7c",
   "metadata": {},
   "outputs": [
    {
     "data": {
      "text/plain": [
       "'d'"
      ]
     },
     "execution_count": 35,
     "metadata": {},
     "output_type": "execute_result"
    }
   ],
   "source": [
    "today[-3]"
   ]
  },
  {
   "cell_type": "code",
   "execution_count": 36,
   "id": "f7bee207",
   "metadata": {},
   "outputs": [
    {
     "data": {
      "text/plain": [
       "'r'"
      ]
     },
     "execution_count": 36,
     "metadata": {},
     "output_type": "execute_result"
    }
   ],
   "source": [
    "today[-4]"
   ]
  },
  {
   "cell_type": "code",
   "execution_count": 37,
   "id": "24c1ea9d",
   "metadata": {},
   "outputs": [
    {
     "data": {
      "text/plain": [
       "'u'"
      ]
     },
     "execution_count": 37,
     "metadata": {},
     "output_type": "execute_result"
    }
   ],
   "source": [
    "today[-5]"
   ]
  },
  {
   "cell_type": "code",
   "execution_count": 38,
   "id": "6d1cf80a",
   "metadata": {},
   "outputs": [
    {
     "data": {
      "text/plain": [
       "'t'"
      ]
     },
     "execution_count": 38,
     "metadata": {},
     "output_type": "execute_result"
    }
   ],
   "source": [
    "today[-6]"
   ]
  },
  {
   "cell_type": "code",
   "execution_count": 39,
   "id": "ab3cb2c7",
   "metadata": {},
   "outputs": [
    {
     "data": {
      "text/plain": [
       "'a'"
      ]
     },
     "execution_count": 39,
     "metadata": {},
     "output_type": "execute_result"
    }
   ],
   "source": [
    "today[-7]"
   ]
  },
  {
   "cell_type": "code",
   "execution_count": 40,
   "id": "ca70df50",
   "metadata": {},
   "outputs": [
    {
     "data": {
      "text/plain": [
       "'S'"
      ]
     },
     "execution_count": 40,
     "metadata": {},
     "output_type": "execute_result"
    }
   ],
   "source": [
    "today[-8]"
   ]
  },
  {
   "cell_type": "code",
   "execution_count": 41,
   "id": "57bd10f9",
   "metadata": {},
   "outputs": [
    {
     "ename": "IndexError",
     "evalue": "string index out of range",
     "output_type": "error",
     "traceback": [
      "\u001b[1;31m---------------------------------------------------------------------------\u001b[0m",
      "\u001b[1;31mIndexError\u001b[0m                                Traceback (most recent call last)",
      "\u001b[1;32m~\\AppData\\Local\\Temp\\ipykernel_12100\\3457427596.py\u001b[0m in \u001b[0;36m<module>\u001b[1;34m\u001b[0m\n\u001b[1;32m----> 1\u001b[1;33m \u001b[0mtoday\u001b[0m\u001b[1;33m[\u001b[0m\u001b[1;33m-\u001b[0m\u001b[1;36m9\u001b[0m\u001b[1;33m]\u001b[0m\u001b[1;33m\u001b[0m\u001b[1;33m\u001b[0m\u001b[0m\n\u001b[0m",
      "\u001b[1;31mIndexError\u001b[0m: string index out of range"
     ]
    }
   ],
   "source": [
    "today[-9]"
   ]
  },
  {
   "cell_type": "code",
   "execution_count": 42,
   "id": "cb247724",
   "metadata": {},
   "outputs": [
    {
     "data": {
      "text/plain": [
       "'turday'"
      ]
     },
     "execution_count": 42,
     "metadata": {},
     "output_type": "execute_result"
    }
   ],
   "source": [
    "today[2:8]"
   ]
  },
  {
   "cell_type": "code",
   "execution_count": 43,
   "id": "4accc93c",
   "metadata": {},
   "outputs": [
    {
     "data": {
      "text/plain": [
       "8"
      ]
     },
     "execution_count": 43,
     "metadata": {},
     "output_type": "execute_result"
    }
   ],
   "source": [
    "len(today)"
   ]
  },
  {
   "cell_type": "code",
   "execution_count": 44,
   "id": "8cd77de7",
   "metadata": {},
   "outputs": [
    {
     "data": {
      "text/plain": [
       "'Saturda'"
      ]
     },
     "execution_count": 44,
     "metadata": {},
     "output_type": "execute_result"
    }
   ],
   "source": [
    "today[:7]"
   ]
  },
  {
   "cell_type": "code",
   "execution_count": 45,
   "id": "76012d8e",
   "metadata": {},
   "outputs": [
    {
     "data": {
      "text/plain": [
       "'Saturday'"
      ]
     },
     "execution_count": 45,
     "metadata": {},
     "output_type": "execute_result"
    }
   ],
   "source": [
    "today[:8]"
   ]
  },
  {
   "cell_type": "code",
   "execution_count": 46,
   "id": "1ef9107e",
   "metadata": {},
   "outputs": [
    {
     "data": {
      "text/plain": [
       "'urday'"
      ]
     },
     "execution_count": 46,
     "metadata": {},
     "output_type": "execute_result"
    }
   ],
   "source": [
    "today[3:]"
   ]
  },
  {
   "cell_type": "code",
   "execution_count": 47,
   "id": "6edea54b",
   "metadata": {},
   "outputs": [
    {
     "data": {
      "text/plain": [
       "True"
      ]
     },
     "execution_count": 47,
     "metadata": {},
     "output_type": "execute_result"
    }
   ],
   "source": [
    "'ur' in today"
   ]
  },
  {
   "cell_type": "code",
   "execution_count": 48,
   "id": "cbd0990c",
   "metadata": {},
   "outputs": [
    {
     "data": {
      "text/plain": [
       "False"
      ]
     },
     "execution_count": 48,
     "metadata": {},
     "output_type": "execute_result"
    }
   ],
   "source": [
    "'sur' in today"
   ]
  },
  {
   "cell_type": "code",
   "execution_count": 49,
   "id": "2850ccd7",
   "metadata": {},
   "outputs": [
    {
     "data": {
      "text/plain": [
       "False"
      ]
     },
     "execution_count": 49,
     "metadata": {},
     "output_type": "execute_result"
    }
   ],
   "source": [
    "'sat' in today"
   ]
  },
  {
   "cell_type": "code",
   "execution_count": 50,
   "id": "1e7cabdc",
   "metadata": {},
   "outputs": [
    {
     "data": {
      "text/plain": [
       "True"
      ]
     },
     "execution_count": 50,
     "metadata": {},
     "output_type": "execute_result"
    }
   ],
   "source": [
    "'Sat' in today"
   ]
  },
  {
   "cell_type": "code",
   "execution_count": 51,
   "id": "43ed3e0d",
   "metadata": {},
   "outputs": [],
   "source": [
    "name = 'eto'"
   ]
  },
  {
   "cell_type": "code",
   "execution_count": 52,
   "id": "e9d1215d",
   "metadata": {},
   "outputs": [],
   "source": [
    "greet = 'namaste'"
   ]
  },
  {
   "cell_type": "code",
   "execution_count": 53,
   "id": "d863f4be",
   "metadata": {},
   "outputs": [
    {
     "data": {
      "text/plain": [
       "'namasteeto'"
      ]
     },
     "execution_count": 53,
     "metadata": {},
     "output_type": "execute_result"
    }
   ],
   "source": [
    "greet + name"
   ]
  },
  {
   "cell_type": "code",
   "execution_count": 54,
   "id": "b3129465",
   "metadata": {},
   "outputs": [
    {
     "data": {
      "text/plain": [
       "'namaste eto'"
      ]
     },
     "execution_count": 54,
     "metadata": {},
     "output_type": "execute_result"
    }
   ],
   "source": [
    "greet + ' ' + name"
   ]
  },
  {
   "cell_type": "markdown",
   "id": "7555f64f",
   "metadata": {},
   "source": [
    ".lower(), .upper(), .capitalize()"
   ]
  },
  {
   "cell_type": "code",
   "execution_count": 55,
   "id": "58f7bb50",
   "metadata": {},
   "outputs": [
    {
     "data": {
      "text/plain": [
       "'Saturday'"
      ]
     },
     "execution_count": 55,
     "metadata": {},
     "output_type": "execute_result"
    }
   ],
   "source": [
    "today"
   ]
  },
  {
   "cell_type": "code",
   "execution_count": 56,
   "id": "1a5b7fbb",
   "metadata": {},
   "outputs": [
    {
     "data": {
      "text/plain": [
       "'saturday'"
      ]
     },
     "execution_count": 56,
     "metadata": {},
     "output_type": "execute_result"
    }
   ],
   "source": [
    "today.lower()"
   ]
  },
  {
   "cell_type": "code",
   "execution_count": 57,
   "id": "856a1695",
   "metadata": {},
   "outputs": [
    {
     "data": {
      "text/plain": [
       "'SATURDAY'"
      ]
     },
     "execution_count": 57,
     "metadata": {},
     "output_type": "execute_result"
    }
   ],
   "source": [
    "today.upper()"
   ]
  },
  {
   "cell_type": "code",
   "execution_count": 58,
   "id": "96f4ca1e",
   "metadata": {},
   "outputs": [],
   "source": [
    "today_a = 'a hen'"
   ]
  },
  {
   "cell_type": "code",
   "execution_count": 59,
   "id": "a4fcc445",
   "metadata": {},
   "outputs": [
    {
     "data": {
      "text/plain": [
       "'A hen'"
      ]
     },
     "execution_count": 59,
     "metadata": {},
     "output_type": "execute_result"
    }
   ],
   "source": [
    "today_a.capitalize()"
   ]
  },
  {
   "cell_type": "markdown",
   "id": "b128f24d",
   "metadata": {},
   "source": [
    "replace"
   ]
  },
  {
   "cell_type": "code",
   "execution_count": 60,
   "id": "c60d36e0",
   "metadata": {},
   "outputs": [
    {
     "data": {
      "text/plain": [
       "'Saturday'"
      ]
     },
     "execution_count": 60,
     "metadata": {},
     "output_type": "execute_result"
    }
   ],
   "source": [
    "today"
   ]
  },
  {
   "cell_type": "code",
   "execution_count": 61,
   "id": "e929fb8b",
   "metadata": {},
   "outputs": [
    {
     "data": {
      "text/plain": [
       "'Sunurday'"
      ]
     },
     "execution_count": 61,
     "metadata": {},
     "output_type": "execute_result"
    }
   ],
   "source": [
    "today.replace('Sat', 'Sun')"
   ]
  },
  {
   "cell_type": "code",
   "execution_count": 62,
   "id": "8d4d7b98",
   "metadata": {},
   "outputs": [
    {
     "data": {
      "text/plain": [
       "'Saturday'"
      ]
     },
     "execution_count": 62,
     "metadata": {},
     "output_type": "execute_result"
    }
   ],
   "source": [
    "today"
   ]
  },
  {
   "cell_type": "code",
   "execution_count": 63,
   "id": "cb2ff9dd",
   "metadata": {},
   "outputs": [
    {
     "data": {
      "text/plain": [
       "'Sunday'"
      ]
     },
     "execution_count": 63,
     "metadata": {},
     "output_type": "execute_result"
    }
   ],
   "source": [
    "today.replace('Satur', 'Sun')"
   ]
  },
  {
   "cell_type": "markdown",
   "id": "8d55beee",
   "metadata": {},
   "source": [
    "conversion of string to list splitted with ,"
   ]
  },
  {
   "cell_type": "code",
   "execution_count": 64,
   "id": "ac47c745",
   "metadata": {},
   "outputs": [],
   "source": [
    "string = 'a,e,i,o,u'"
   ]
  },
  {
   "cell_type": "code",
   "execution_count": 65,
   "id": "3f9cf626",
   "metadata": {},
   "outputs": [
    {
     "data": {
      "text/plain": [
       "['a', 'e', 'i', 'o', 'u']"
      ]
     },
     "execution_count": 65,
     "metadata": {},
     "output_type": "execute_result"
    }
   ],
   "source": [
    "string.split(',')"
   ]
  },
  {
   "cell_type": "markdown",
   "id": "14aacb89",
   "metadata": {},
   "source": [
    "conversion of comma separated string to list splitted with \" \""
   ]
  },
  {
   "cell_type": "code",
   "execution_count": 66,
   "id": "7babb0b0",
   "metadata": {},
   "outputs": [
    {
     "data": {
      "text/plain": [
       "['a,e,i,o,u']"
      ]
     },
     "execution_count": 66,
     "metadata": {},
     "output_type": "execute_result"
    }
   ],
   "source": [
    "string.split(' ')"
   ]
  },
  {
   "cell_type": "code",
   "execution_count": 67,
   "id": "2f9aafdc",
   "metadata": {},
   "outputs": [
    {
     "data": {
      "text/plain": [
       "'a,e,i,o,u'"
      ]
     },
     "execution_count": 67,
     "metadata": {},
     "output_type": "execute_result"
    }
   ],
   "source": [
    "string"
   ]
  },
  {
   "cell_type": "markdown",
   "id": "50634002",
   "metadata": {},
   "source": [
    "coversion of comma separated string to list separated by $"
   ]
  },
  {
   "cell_type": "code",
   "execution_count": 68,
   "id": "6c6d4fca",
   "metadata": {},
   "outputs": [
    {
     "data": {
      "text/plain": [
       "['a,e,i,o,u']"
      ]
     },
     "execution_count": 68,
     "metadata": {},
     "output_type": "execute_result"
    }
   ],
   "source": [
    "string.split('$')"
   ]
  },
  {
   "cell_type": "markdown",
   "id": "a231a35c",
   "metadata": {},
   "source": [
    "it separates according to the separator and convert to list, so if the string has , and we want to convert it to list and the list items to be which is separated with , in string"
   ]
  },
  {
   "cell_type": "code",
   "execution_count": 69,
   "id": "6aae6902",
   "metadata": {},
   "outputs": [],
   "source": [
    "string_a = 'a#b#c#d$h$i#h$i$k$k#h'"
   ]
  },
  {
   "cell_type": "code",
   "execution_count": 70,
   "id": "6dc3a118",
   "metadata": {},
   "outputs": [
    {
     "data": {
      "text/plain": [
       "['a', 'b', 'c', 'd$h$i', 'h$i$k$k', 'h']"
      ]
     },
     "execution_count": 70,
     "metadata": {},
     "output_type": "execute_result"
    }
   ],
   "source": [
    "string_a.split('#')"
   ]
  },
  {
   "cell_type": "code",
   "execution_count": 71,
   "id": "7a5d75ab",
   "metadata": {},
   "outputs": [
    {
     "data": {
      "text/plain": [
       "['a,e,i,o,u']"
      ]
     },
     "execution_count": 71,
     "metadata": {},
     "output_type": "execute_result"
    }
   ],
   "source": [
    "string.split('$')"
   ]
  },
  {
   "cell_type": "code",
   "execution_count": 72,
   "id": "e69fbddc",
   "metadata": {},
   "outputs": [
    {
     "data": {
      "text/plain": [
       "['a#b#c#d', 'h', 'i#h', 'i', 'k', 'k#h']"
      ]
     },
     "execution_count": 72,
     "metadata": {},
     "output_type": "execute_result"
    }
   ],
   "source": [
    "string_a.split('$')"
   ]
  },
  {
   "cell_type": "markdown",
   "id": "3917ee52",
   "metadata": {},
   "source": [
    ".strip function removed white spaces at the beginning and at the end"
   ]
  },
  {
   "cell_type": "code",
   "execution_count": 73,
   "id": "10e11c3e",
   "metadata": {},
   "outputs": [],
   "source": [
    "some_str = \"    hellp    is     ther   any space                     \""
   ]
  },
  {
   "cell_type": "code",
   "execution_count": 74,
   "id": "7b61fa65",
   "metadata": {},
   "outputs": [
    {
     "data": {
      "text/plain": [
       "'    hellp    is     ther   any space                     '"
      ]
     },
     "execution_count": 74,
     "metadata": {},
     "output_type": "execute_result"
    }
   ],
   "source": [
    "some_str"
   ]
  },
  {
   "cell_type": "code",
   "execution_count": 75,
   "id": "863a89a1",
   "metadata": {},
   "outputs": [
    {
     "data": {
      "text/plain": [
       "'hellp    is     ther   any space'"
      ]
     },
     "execution_count": 75,
     "metadata": {},
     "output_type": "execute_result"
    }
   ],
   "source": [
    "some_str.strip()"
   ]
  },
  {
   "cell_type": "markdown",
   "id": "8dbae08a",
   "metadata": {},
   "source": [
    ".format() combines values of other data types with strings, used to construc output messages for display"
   ]
  },
  {
   "cell_type": "code",
   "execution_count": 76,
   "id": "878d88b3",
   "metadata": {},
   "outputs": [],
   "source": [
    "first = 'I'"
   ]
  },
  {
   "cell_type": "code",
   "execution_count": 77,
   "id": "29a1d1e1",
   "metadata": {},
   "outputs": [],
   "source": [
    "middle = 'Love'"
   ]
  },
  {
   "cell_type": "code",
   "execution_count": 78,
   "id": "1d660e93",
   "metadata": {},
   "outputs": [],
   "source": [
    "last = 'You'"
   ]
  },
  {
   "cell_type": "code",
   "execution_count": 95,
   "id": "5187c899",
   "metadata": {},
   "outputs": [],
   "source": [
    "display = \"\"\"He said once {} are his enemy\n",
    "then he said {} am his enemy\n",
    "then he said {} {} {}\n",
    "\"\"\""
   ]
  },
  {
   "cell_type": "code",
   "execution_count": 104,
   "id": "f5a49ef9",
   "metadata": {},
   "outputs": [],
   "source": [
    "new = display.format(last, first, first, middle, last*30)"
   ]
  },
  {
   "cell_type": "code",
   "execution_count": 105,
   "id": "2831c255",
   "metadata": {},
   "outputs": [
    {
     "name": "stdout",
     "output_type": "stream",
     "text": [
      "He said once You are his enemy\n",
      "then he said I am his enemy\n",
      "then he said I Love YouYouYouYouYouYouYouYouYouYouYouYouYouYouYouYouYouYouYouYouYouYouYouYouYouYouYouYouYouYou\n",
      "\n"
     ]
    }
   ],
   "source": [
    "print(new)"
   ]
  },
  {
   "cell_type": "markdown",
   "id": "d9c06bdb",
   "metadata": {},
   "source": [
    "convert int to string"
   ]
  },
  {
   "cell_type": "code",
   "execution_count": 106,
   "id": "320bec2a",
   "metadata": {},
   "outputs": [
    {
     "data": {
      "text/plain": [
       "'100'"
      ]
     },
     "execution_count": 106,
     "metadata": {},
     "output_type": "execute_result"
    }
   ],
   "source": [
    "str(100)"
   ]
  },
  {
   "cell_type": "code",
   "execution_count": 107,
   "id": "f0b32fa8",
   "metadata": {},
   "outputs": [],
   "source": [
    "a = str(32)"
   ]
  },
  {
   "cell_type": "code",
   "execution_count": 108,
   "id": "27f54510",
   "metadata": {},
   "outputs": [
    {
     "data": {
      "text/plain": [
       "str"
      ]
     },
     "execution_count": 108,
     "metadata": {},
     "output_type": "execute_result"
    }
   ],
   "source": [
    "type(a)"
   ]
  },
  {
   "cell_type": "code",
   "execution_count": 109,
   "id": "bc6b2d8e",
   "metadata": {},
   "outputs": [],
   "source": [
    "b = str(10.1)"
   ]
  },
  {
   "cell_type": "code",
   "execution_count": 110,
   "id": "368a1a95",
   "metadata": {},
   "outputs": [
    {
     "data": {
      "text/plain": [
       "str"
      ]
     },
     "execution_count": 110,
     "metadata": {},
     "output_type": "execute_result"
    }
   ],
   "source": [
    "type(b)"
   ]
  },
  {
   "cell_type": "code",
   "execution_count": 111,
   "id": "8415110d",
   "metadata": {},
   "outputs": [
    {
     "data": {
      "text/plain": [
       "'False'"
      ]
     },
     "execution_count": 111,
     "metadata": {},
     "output_type": "execute_result"
    }
   ],
   "source": [
    "str(False)"
   ]
  },
  {
   "cell_type": "code",
   "execution_count": 112,
   "id": "bc6301d2",
   "metadata": {},
   "outputs": [],
   "source": [
    "c = str(True)"
   ]
  },
  {
   "cell_type": "code",
   "execution_count": 113,
   "id": "108ca1fe",
   "metadata": {},
   "outputs": [
    {
     "data": {
      "text/plain": [
       "str"
      ]
     },
     "execution_count": 113,
     "metadata": {},
     "output_type": "execute_result"
    }
   ],
   "source": [
    "type(c)"
   ]
  },
  {
   "cell_type": "code",
   "execution_count": 114,
   "id": "546c6b38",
   "metadata": {},
   "outputs": [
    {
     "data": {
      "text/plain": [
       "'True'"
      ]
     },
     "execution_count": 114,
     "metadata": {},
     "output_type": "execute_result"
    }
   ],
   "source": [
    "c"
   ]
  },
  {
   "cell_type": "markdown",
   "id": "4a8edb51",
   "metadata": {},
   "source": [
    "# List Data Type"
   ]
  },
  {
   "cell_type": "markdown",
   "id": "651dc28a",
   "metadata": {},
   "source": [
    "it is an ordered collection of values"
   ]
  },
  {
   "cell_type": "markdown",
   "id": "8ee8c92d",
   "metadata": {},
   "source": [
    "* can hold values of different data types\n",
    "* supports operations \n",
    "    1. add \n",
    "    2. remove \n",
    "    3. change values\n",
    "* values within [], separated by commas"
   ]
  },
  {
   "cell_type": "code",
   "execution_count": 115,
   "id": "57460a05",
   "metadata": {},
   "outputs": [],
   "source": [
    "players = ['sachin', 'srinath', 'balaji']"
   ]
  },
  {
   "cell_type": "code",
   "execution_count": 116,
   "id": "2e36c045",
   "metadata": {},
   "outputs": [
    {
     "data": {
      "text/plain": [
       "['sachin', 'srinath', 'balaji']"
      ]
     },
     "execution_count": 116,
     "metadata": {},
     "output_type": "execute_result"
    }
   ],
   "source": [
    "players"
   ]
  },
  {
   "cell_type": "code",
   "execution_count": 117,
   "id": "93935023",
   "metadata": {},
   "outputs": [
    {
     "data": {
      "text/plain": [
       "list"
      ]
     },
     "execution_count": 117,
     "metadata": {},
     "output_type": "execute_result"
    }
   ],
   "source": [
    "type(players)"
   ]
  },
  {
   "cell_type": "code",
   "execution_count": 118,
   "id": "312e87d0",
   "metadata": {},
   "outputs": [],
   "source": [
    "list_with_diff_data_types_as_values = [1, 2.3, True, None, 'a' == 'b', 'no']"
   ]
  },
  {
   "cell_type": "code",
   "execution_count": 119,
   "id": "9ed63d1b",
   "metadata": {},
   "outputs": [
    {
     "data": {
      "text/plain": [
       "[1, 2.3, True, None, False, 'no']"
      ]
     },
     "execution_count": 119,
     "metadata": {},
     "output_type": "execute_result"
    }
   ],
   "source": [
    "list_with_diff_data_types_as_values"
   ]
  },
  {
   "cell_type": "code",
   "execution_count": 120,
   "id": "1c94a795",
   "metadata": {},
   "outputs": [],
   "source": [
    "empty_list = []"
   ]
  },
  {
   "cell_type": "code",
   "execution_count": 121,
   "id": "126636b8",
   "metadata": {},
   "outputs": [
    {
     "data": {
      "text/plain": [
       "[]"
      ]
     },
     "execution_count": 121,
     "metadata": {},
     "output_type": "execute_result"
    }
   ],
   "source": [
    "empty_list"
   ]
  },
  {
   "cell_type": "code",
   "execution_count": 122,
   "id": "345492ad",
   "metadata": {},
   "outputs": [
    {
     "data": {
      "text/plain": [
       "0"
      ]
     },
     "execution_count": 122,
     "metadata": {},
     "output_type": "execute_result"
    }
   ],
   "source": [
    "len(empty_list)"
   ]
  },
  {
   "cell_type": "code",
   "execution_count": 123,
   "id": "6e04ba9c",
   "metadata": {},
   "outputs": [
    {
     "data": {
      "text/plain": [
       "6"
      ]
     },
     "execution_count": 123,
     "metadata": {},
     "output_type": "execute_result"
    }
   ],
   "source": [
    "len(list_with_diff_data_types_as_values)"
   ]
  },
  {
   "cell_type": "code",
   "execution_count": 124,
   "id": "f7165497",
   "metadata": {},
   "outputs": [
    {
     "data": {
      "text/plain": [
       "'sachin'"
      ]
     },
     "execution_count": 124,
     "metadata": {},
     "output_type": "execute_result"
    }
   ],
   "source": [
    "players[0]"
   ]
  },
  {
   "cell_type": "code",
   "execution_count": 125,
   "id": "b01f33f7",
   "metadata": {},
   "outputs": [
    {
     "data": {
      "text/plain": [
       "'srinath'"
      ]
     },
     "execution_count": 125,
     "metadata": {},
     "output_type": "execute_result"
    }
   ],
   "source": [
    "players[1]"
   ]
  },
  {
   "cell_type": "code",
   "execution_count": 126,
   "id": "808ad43f",
   "metadata": {},
   "outputs": [
    {
     "data": {
      "text/plain": [
       "'balaji'"
      ]
     },
     "execution_count": 126,
     "metadata": {},
     "output_type": "execute_result"
    }
   ],
   "source": [
    "players[2]"
   ]
  },
  {
   "cell_type": "code",
   "execution_count": 127,
   "id": "72e070f8",
   "metadata": {},
   "outputs": [
    {
     "ename": "IndexError",
     "evalue": "list index out of range",
     "output_type": "error",
     "traceback": [
      "\u001b[1;31m---------------------------------------------------------------------------\u001b[0m",
      "\u001b[1;31mIndexError\u001b[0m                                Traceback (most recent call last)",
      "\u001b[1;32m~\\AppData\\Local\\Temp\\ipykernel_12100\\1530186158.py\u001b[0m in \u001b[0;36m<module>\u001b[1;34m\u001b[0m\n\u001b[1;32m----> 1\u001b[1;33m \u001b[0mplayers\u001b[0m\u001b[1;33m[\u001b[0m\u001b[1;36m3\u001b[0m\u001b[1;33m]\u001b[0m\u001b[1;33m\u001b[0m\u001b[1;33m\u001b[0m\u001b[0m\n\u001b[0m",
      "\u001b[1;31mIndexError\u001b[0m: list index out of range"
     ]
    }
   ],
   "source": [
    "players[3]"
   ]
  },
  {
   "cell_type": "code",
   "execution_count": 128,
   "id": "0b14dd1c",
   "metadata": {},
   "outputs": [
    {
     "data": {
      "text/plain": [
       "'balaji'"
      ]
     },
     "execution_count": 128,
     "metadata": {},
     "output_type": "execute_result"
    }
   ],
   "source": [
    "players[-1]"
   ]
  },
  {
   "cell_type": "code",
   "execution_count": 129,
   "id": "f9968ce2",
   "metadata": {},
   "outputs": [
    {
     "data": {
      "text/plain": [
       "'srinath'"
      ]
     },
     "execution_count": 129,
     "metadata": {},
     "output_type": "execute_result"
    }
   ],
   "source": [
    "players[-2]"
   ]
  },
  {
   "cell_type": "code",
   "execution_count": 130,
   "id": "90807d55",
   "metadata": {},
   "outputs": [
    {
     "data": {
      "text/plain": [
       "'sachin'"
      ]
     },
     "execution_count": 130,
     "metadata": {},
     "output_type": "execute_result"
    }
   ],
   "source": [
    "players[-3]"
   ]
  },
  {
   "cell_type": "code",
   "execution_count": 131,
   "id": "ef7de461",
   "metadata": {},
   "outputs": [
    {
     "ename": "IndexError",
     "evalue": "list index out of range",
     "output_type": "error",
     "traceback": [
      "\u001b[1;31m---------------------------------------------------------------------------\u001b[0m",
      "\u001b[1;31mIndexError\u001b[0m                                Traceback (most recent call last)",
      "\u001b[1;32m~\\AppData\\Local\\Temp\\ipykernel_12100\\2367801875.py\u001b[0m in \u001b[0;36m<module>\u001b[1;34m\u001b[0m\n\u001b[1;32m----> 1\u001b[1;33m \u001b[0mplayers\u001b[0m\u001b[1;33m[\u001b[0m\u001b[1;33m-\u001b[0m\u001b[1;36m4\u001b[0m\u001b[1;33m]\u001b[0m\u001b[1;33m\u001b[0m\u001b[1;33m\u001b[0m\u001b[0m\n\u001b[0m",
      "\u001b[1;31mIndexError\u001b[0m: list index out of range"
     ]
    }
   ],
   "source": [
    "players[-4]"
   ]
  },
  {
   "cell_type": "code",
   "execution_count": 132,
   "id": "7678a29e",
   "metadata": {},
   "outputs": [],
   "source": [
    "new_list = [players, 'some', 1, 3/4, list_with_diff_data_types_as_values]"
   ]
  },
  {
   "cell_type": "code",
   "execution_count": 133,
   "id": "d7243f38",
   "metadata": {},
   "outputs": [
    {
     "data": {
      "text/plain": [
       "[['sachin', 'srinath', 'balaji'],\n",
       " 'some',\n",
       " 1,\n",
       " 0.75,\n",
       " [1, 2.3, True, None, False, 'no']]"
      ]
     },
     "execution_count": 133,
     "metadata": {},
     "output_type": "execute_result"
    }
   ],
   "source": [
    "new_list"
   ]
  },
  {
   "cell_type": "code",
   "execution_count": 134,
   "id": "8bca6161",
   "metadata": {},
   "outputs": [
    {
     "data": {
      "text/plain": [
       "5"
      ]
     },
     "execution_count": 134,
     "metadata": {},
     "output_type": "execute_result"
    }
   ],
   "source": [
    "len(new_list)"
   ]
  },
  {
   "cell_type": "code",
   "execution_count": 135,
   "id": "446aacee",
   "metadata": {},
   "outputs": [
    {
     "data": {
      "text/plain": [
       "['sachin', 'srinath', 'balaji']"
      ]
     },
     "execution_count": 135,
     "metadata": {},
     "output_type": "execute_result"
    }
   ],
   "source": [
    "new_list[0]"
   ]
  },
  {
   "cell_type": "code",
   "execution_count": 136,
   "id": "d0b3f91d",
   "metadata": {},
   "outputs": [
    {
     "data": {
      "text/plain": [
       "'some'"
      ]
     },
     "execution_count": 136,
     "metadata": {},
     "output_type": "execute_result"
    }
   ],
   "source": [
    "new_list[1]"
   ]
  },
  {
   "cell_type": "code",
   "execution_count": 137,
   "id": "93035405",
   "metadata": {},
   "outputs": [
    {
     "data": {
      "text/plain": [
       "[['sachin', 'srinath', 'balaji'], 'some']"
      ]
     },
     "execution_count": 137,
     "metadata": {},
     "output_type": "execute_result"
    }
   ],
   "source": [
    "new_list[:2]"
   ]
  },
  {
   "cell_type": "code",
   "execution_count": 138,
   "id": "6267370d",
   "metadata": {},
   "outputs": [
    {
     "data": {
      "text/plain": [
       "['some', 1]"
      ]
     },
     "execution_count": 138,
     "metadata": {},
     "output_type": "execute_result"
    }
   ],
   "source": [
    "new_list[1:3]"
   ]
  },
  {
   "cell_type": "code",
   "execution_count": 139,
   "id": "8b3725c7",
   "metadata": {},
   "outputs": [
    {
     "data": {
      "text/plain": [
       "[1, 0.75, [1, 2.3, True, None, False, 'no']]"
      ]
     },
     "execution_count": 139,
     "metadata": {},
     "output_type": "execute_result"
    }
   ],
   "source": [
    "new_list[2:]"
   ]
  },
  {
   "cell_type": "code",
   "execution_count": 140,
   "id": "41154619",
   "metadata": {},
   "outputs": [
    {
     "data": {
      "text/plain": [
       "['some', 1, 0.75, [1, 2.3, True, None, False, 'no']]"
      ]
     },
     "execution_count": 140,
     "metadata": {},
     "output_type": "execute_result"
    }
   ],
   "source": [
    "new_list[1:6]"
   ]
  },
  {
   "cell_type": "code",
   "execution_count": 141,
   "id": "46b6665f",
   "metadata": {},
   "outputs": [
    {
     "data": {
      "text/plain": [
       "['some', 1, 0.75, [1, 2.3, True, None, False, 'no']]"
      ]
     },
     "execution_count": 141,
     "metadata": {},
     "output_type": "execute_result"
    }
   ],
   "source": [
    "new_list[1:7]"
   ]
  },
  {
   "cell_type": "code",
   "execution_count": 142,
   "id": "ebeda66e",
   "metadata": {},
   "outputs": [
    {
     "data": {
      "text/plain": [
       "['some', 1, 0.75, [1, 2.3, True, None, False, 'no']]"
      ]
     },
     "execution_count": 142,
     "metadata": {},
     "output_type": "execute_result"
    }
   ],
   "source": [
    "new_list[1:111]"
   ]
  },
  {
   "cell_type": "code",
   "execution_count": 143,
   "id": "1abfd664",
   "metadata": {},
   "outputs": [
    {
     "data": {
      "text/plain": [
       "[]"
      ]
     },
     "execution_count": 143,
     "metadata": {},
     "output_type": "execute_result"
    }
   ],
   "source": [
    "new_list[8: 12]"
   ]
  },
  {
   "cell_type": "code",
   "execution_count": 144,
   "id": "acaf1efe",
   "metadata": {},
   "outputs": [
    {
     "data": {
      "text/plain": [
       "[]"
      ]
     },
     "execution_count": 144,
     "metadata": {},
     "output_type": "execute_result"
    }
   ],
   "source": [
    "new_list[8: 5]"
   ]
  },
  {
   "cell_type": "code",
   "execution_count": 145,
   "id": "6bafe439",
   "metadata": {},
   "outputs": [
    {
     "data": {
      "text/plain": [
       "[]"
      ]
     },
     "execution_count": 145,
     "metadata": {},
     "output_type": "execute_result"
    }
   ],
   "source": [
    "new_list[-1: -4]"
   ]
  },
  {
   "cell_type": "code",
   "execution_count": 146,
   "id": "ca4efa82",
   "metadata": {},
   "outputs": [
    {
     "data": {
      "text/plain": [
       "[['sachin', 'srinath', 'balaji'],\n",
       " 'some',\n",
       " 1,\n",
       " 0.75,\n",
       " [1, 2.3, True, None, False, 'no']]"
      ]
     },
     "execution_count": 146,
     "metadata": {},
     "output_type": "execute_result"
    }
   ],
   "source": [
    "new_list"
   ]
  },
  {
   "cell_type": "code",
   "execution_count": 147,
   "id": "ec4ee78c",
   "metadata": {},
   "outputs": [
    {
     "data": {
      "text/plain": [
       "[]"
      ]
     },
     "execution_count": 147,
     "metadata": {},
     "output_type": "execute_result"
    }
   ],
   "source": [
    "new_list[-1:-3]"
   ]
  },
  {
   "cell_type": "code",
   "execution_count": 148,
   "id": "238c418d",
   "metadata": {},
   "outputs": [
    {
     "data": {
      "text/plain": [
       "1"
      ]
     },
     "execution_count": 148,
     "metadata": {},
     "output_type": "execute_result"
    }
   ],
   "source": [
    "new_list[-3]"
   ]
  },
  {
   "cell_type": "code",
   "execution_count": 149,
   "id": "b8fdb6f4",
   "metadata": {},
   "outputs": [
    {
     "ename": "NameError",
     "evalue": "name 'player' is not defined",
     "output_type": "error",
     "traceback": [
      "\u001b[1;31m---------------------------------------------------------------------------\u001b[0m",
      "\u001b[1;31mNameError\u001b[0m                                 Traceback (most recent call last)",
      "\u001b[1;32m~\\AppData\\Local\\Temp\\ipykernel_12100\\1762578767.py\u001b[0m in \u001b[0;36m<module>\u001b[1;34m\u001b[0m\n\u001b[1;32m----> 1\u001b[1;33m \u001b[0mplayer\u001b[0m\u001b[1;33m\u001b[0m\u001b[1;33m\u001b[0m\u001b[0m\n\u001b[0m",
      "\u001b[1;31mNameError\u001b[0m: name 'player' is not defined"
     ]
    }
   ],
   "source": [
    "player"
   ]
  },
  {
   "cell_type": "code",
   "execution_count": 150,
   "id": "527dbeb7",
   "metadata": {},
   "outputs": [
    {
     "data": {
      "text/plain": [
       "['sachin', 'srinath', 'balaji']"
      ]
     },
     "execution_count": 150,
     "metadata": {},
     "output_type": "execute_result"
    }
   ],
   "source": [
    "players"
   ]
  },
  {
   "cell_type": "code",
   "execution_count": 151,
   "id": "9c1b0ed6",
   "metadata": {},
   "outputs": [],
   "source": [
    "players[1] = 'Zaheer Khan'"
   ]
  },
  {
   "cell_type": "code",
   "execution_count": 152,
   "id": "75e8bebe",
   "metadata": {},
   "outputs": [
    {
     "data": {
      "text/plain": [
       "['sachin', 'Zaheer Khan', 'balaji']"
      ]
     },
     "execution_count": 152,
     "metadata": {},
     "output_type": "execute_result"
    }
   ],
   "source": [
    "players"
   ]
  },
  {
   "cell_type": "markdown",
   "id": "6b122115",
   "metadata": {},
   "source": [
    "A new value can be added at the end of the list byusing append method"
   ]
  },
  {
   "cell_type": "code",
   "execution_count": 153,
   "id": "432142e6",
   "metadata": {},
   "outputs": [],
   "source": [
    "players.append('Sourav Ganguly')"
   ]
  },
  {
   "cell_type": "code",
   "execution_count": 154,
   "id": "49c8cbbf",
   "metadata": {},
   "outputs": [
    {
     "data": {
      "text/plain": [
       "['sachin', 'Zaheer Khan', 'balaji', 'Sourav Ganguly']"
      ]
     },
     "execution_count": 154,
     "metadata": {},
     "output_type": "execute_result"
    }
   ],
   "source": [
    "players"
   ]
  },
  {
   "cell_type": "markdown",
   "id": "0c55a032",
   "metadata": {},
   "source": [
    "a new value can be inserted at the specific index in the list by insert method"
   ]
  },
  {
   "cell_type": "code",
   "execution_count": 155,
   "id": "c48e25d5",
   "metadata": {},
   "outputs": [],
   "source": [
    "players.insert(1, 'Gautam Gambhir')"
   ]
  },
  {
   "cell_type": "code",
   "execution_count": 156,
   "id": "6c9ee977",
   "metadata": {},
   "outputs": [
    {
     "data": {
      "text/plain": [
       "['sachin', 'Gautam Gambhir', 'Zaheer Khan', 'balaji', 'Sourav Ganguly']"
      ]
     },
     "execution_count": 156,
     "metadata": {},
     "output_type": "execute_result"
    }
   ],
   "source": [
    "players"
   ]
  },
  {
   "cell_type": "markdown",
   "id": "f2e301f4",
   "metadata": {},
   "source": [
    "a value from list can be removed with remove methd"
   ]
  },
  {
   "cell_type": "code",
   "execution_count": 157,
   "id": "86e8e9e5",
   "metadata": {},
   "outputs": [],
   "source": [
    "players.remove('balaji')"
   ]
  },
  {
   "cell_type": "code",
   "execution_count": 158,
   "id": "33fa2cdf",
   "metadata": {},
   "outputs": [
    {
     "data": {
      "text/plain": [
       "['sachin', 'Gautam Gambhir', 'Zaheer Khan', 'Sourav Ganguly']"
      ]
     },
     "execution_count": 158,
     "metadata": {},
     "output_type": "execute_result"
    }
   ],
   "source": [
    "players"
   ]
  },
  {
   "cell_type": "code",
   "execution_count": 159,
   "id": "7cf09545",
   "metadata": {},
   "outputs": [
    {
     "ename": "TypeError",
     "evalue": "list.remove() takes exactly one argument (2 given)",
     "output_type": "error",
     "traceback": [
      "\u001b[1;31m---------------------------------------------------------------------------\u001b[0m",
      "\u001b[1;31mTypeError\u001b[0m                                 Traceback (most recent call last)",
      "\u001b[1;32m~\\AppData\\Local\\Temp\\ipykernel_12100\\782196516.py\u001b[0m in \u001b[0;36m<module>\u001b[1;34m\u001b[0m\n\u001b[1;32m----> 1\u001b[1;33m \u001b[0mplayers\u001b[0m\u001b[1;33m.\u001b[0m\u001b[0mremove\u001b[0m\u001b[1;33m(\u001b[0m\u001b[1;34m'Zaheer Khan'\u001b[0m\u001b[1;33m,\u001b[0m \u001b[1;34m'sachin'\u001b[0m\u001b[1;33m)\u001b[0m\u001b[1;33m\u001b[0m\u001b[1;33m\u001b[0m\u001b[0m\n\u001b[0m",
      "\u001b[1;31mTypeError\u001b[0m: list.remove() takes exactly one argument (2 given)"
     ]
    }
   ],
   "source": [
    "players.remove('Zaheer Khan', 'sachin')"
   ]
  },
  {
   "cell_type": "markdown",
   "id": "4e83685d",
   "metadata": {},
   "source": [
    "specific list items can be removed with pop method, it returns removed element"
   ]
  },
  {
   "cell_type": "code",
   "execution_count": 160,
   "id": "e7ba7768",
   "metadata": {},
   "outputs": [
    {
     "ename": "TypeError",
     "evalue": "'str' object cannot be interpreted as an integer",
     "output_type": "error",
     "traceback": [
      "\u001b[1;31m---------------------------------------------------------------------------\u001b[0m",
      "\u001b[1;31mTypeError\u001b[0m                                 Traceback (most recent call last)",
      "\u001b[1;32m~\\AppData\\Local\\Temp\\ipykernel_12100\\918359995.py\u001b[0m in \u001b[0;36m<module>\u001b[1;34m\u001b[0m\n\u001b[1;32m----> 1\u001b[1;33m \u001b[0mplayers\u001b[0m\u001b[1;33m.\u001b[0m\u001b[0mpop\u001b[0m\u001b[1;33m(\u001b[0m\u001b[1;34m'sachin'\u001b[0m\u001b[1;33m)\u001b[0m\u001b[1;33m\u001b[0m\u001b[1;33m\u001b[0m\u001b[0m\n\u001b[0m",
      "\u001b[1;31mTypeError\u001b[0m: 'str' object cannot be interpreted as an integer"
     ]
    }
   ],
   "source": [
    "players.pop('sachin')"
   ]
  },
  {
   "cell_type": "code",
   "execution_count": 161,
   "id": "d2ac0652",
   "metadata": {},
   "outputs": [
    {
     "data": {
      "text/plain": [
       "['sachin', 'Gautam Gambhir', 'Zaheer Khan', 'Sourav Ganguly']"
      ]
     },
     "execution_count": 161,
     "metadata": {},
     "output_type": "execute_result"
    }
   ],
   "source": [
    "players"
   ]
  },
  {
   "cell_type": "code",
   "execution_count": 162,
   "id": "73061865",
   "metadata": {},
   "outputs": [
    {
     "data": {
      "text/plain": [
       "'sachin'"
      ]
     },
     "execution_count": 162,
     "metadata": {},
     "output_type": "execute_result"
    }
   ],
   "source": [
    "players.pop(0)"
   ]
  },
  {
   "cell_type": "code",
   "execution_count": 163,
   "id": "621dcb4d",
   "metadata": {},
   "outputs": [
    {
     "data": {
      "text/plain": [
       "['Gautam Gambhir', 'Zaheer Khan', 'Sourav Ganguly']"
      ]
     },
     "execution_count": 163,
     "metadata": {},
     "output_type": "execute_result"
    }
   ],
   "source": [
    "players"
   ]
  },
  {
   "cell_type": "markdown",
   "id": "7dc2068f",
   "metadata": {},
   "source": [
    "if  no index is provided as an argument of pop method, it removes the last list item"
   ]
  },
  {
   "cell_type": "code",
   "execution_count": 164,
   "id": "e9c862f8",
   "metadata": {},
   "outputs": [
    {
     "data": {
      "text/plain": [
       "'Sourav Ganguly'"
      ]
     },
     "execution_count": 164,
     "metadata": {},
     "output_type": "execute_result"
    }
   ],
   "source": [
    "players.pop()"
   ]
  },
  {
   "cell_type": "code",
   "execution_count": 165,
   "id": "281b9be9",
   "metadata": {},
   "outputs": [
    {
     "data": {
      "text/plain": [
       "['Gautam Gambhir', 'Zaheer Khan']"
      ]
     },
     "execution_count": 165,
     "metadata": {},
     "output_type": "execute_result"
    }
   ],
   "source": [
    "players"
   ]
  },
  {
   "cell_type": "markdown",
   "id": "fad26bbb",
   "metadata": {},
   "source": [
    "we can use in operator to check if a specific value is present in list or not"
   ]
  },
  {
   "cell_type": "code",
   "execution_count": 166,
   "id": "1a30a485",
   "metadata": {},
   "outputs": [
    {
     "data": {
      "text/plain": [
       "False"
      ]
     },
     "execution_count": 166,
     "metadata": {},
     "output_type": "execute_result"
    }
   ],
   "source": [
    "'sachin' in players"
   ]
  },
  {
   "cell_type": "code",
   "execution_count": 167,
   "id": "e95739b3",
   "metadata": {},
   "outputs": [
    {
     "data": {
      "text/plain": [
       "True"
      ]
     },
     "execution_count": 167,
     "metadata": {},
     "output_type": "execute_result"
    }
   ],
   "source": [
    "'Gautam Gambhir' in players"
   ]
  },
  {
   "cell_type": "markdown",
   "id": "9975a2e9",
   "metadata": {},
   "source": [
    "we can concatenate multiple lists with + operator"
   ]
  },
  {
   "cell_type": "code",
   "execution_count": 168,
   "id": "23368fd4",
   "metadata": {},
   "outputs": [],
   "source": [
    "bowlers = ['agarkar', 'balaji']"
   ]
  },
  {
   "cell_type": "code",
   "execution_count": 169,
   "id": "5a0226e8",
   "metadata": {},
   "outputs": [
    {
     "ename": "TypeError",
     "evalue": "can only concatenate list (not \"str\") to list",
     "output_type": "error",
     "traceback": [
      "\u001b[1;31m---------------------------------------------------------------------------\u001b[0m",
      "\u001b[1;31mTypeError\u001b[0m                                 Traceback (most recent call last)",
      "\u001b[1;32m~\\AppData\\Local\\Temp\\ipykernel_12100\\2731400425.py\u001b[0m in \u001b[0;36m<module>\u001b[1;34m\u001b[0m\n\u001b[1;32m----> 1\u001b[1;33m \u001b[0mplayers\u001b[0m \u001b[1;33m+\u001b[0m \u001b[0mbowlers\u001b[0m \u001b[1;33m+\u001b[0m \u001b[1;34m'srinath'\u001b[0m\u001b[1;33m\u001b[0m\u001b[1;33m\u001b[0m\u001b[0m\n\u001b[0m",
      "\u001b[1;31mTypeError\u001b[0m: can only concatenate list (not \"str\") to list"
     ]
    }
   ],
   "source": [
    "players + bowlers + 'srinath'"
   ]
  },
  {
   "cell_type": "code",
   "execution_count": 170,
   "id": "e4bd9115",
   "metadata": {},
   "outputs": [
    {
     "ename": "SyntaxError",
     "evalue": "invalid syntax (2422521798.py, line 1)",
     "output_type": "error",
     "traceback": [
      "\u001b[1;36m  File \u001b[1;32m\"C:\\Users\\INDIA\\AppData\\Local\\Temp\\ipykernel_12100\\2422521798.py\"\u001b[1;36m, line \u001b[1;32m1\u001b[0m\n\u001b[1;33m    players + bowlers + []'srinath']\u001b[0m\n\u001b[1;37m                          ^\u001b[0m\n\u001b[1;31mSyntaxError\u001b[0m\u001b[1;31m:\u001b[0m invalid syntax\n"
     ]
    }
   ],
   "source": [
    "players + bowlers + []'srinath']"
   ]
  },
  {
   "cell_type": "code",
   "execution_count": 171,
   "id": "f692f270",
   "metadata": {},
   "outputs": [
    {
     "data": {
      "text/plain": [
       "['Gautam Gambhir', 'Zaheer Khan', 'agarkar', 'balaji', 'srinath']"
      ]
     },
     "execution_count": 171,
     "metadata": {},
     "output_type": "execute_result"
    }
   ],
   "source": [
    "players + bowlers + ['srinath']"
   ]
  },
  {
   "cell_type": "markdown",
   "id": "5a6158e3",
   "metadata": {},
   "source": [
    "to make a copy of list, use copy method"
   ]
  },
  {
   "cell_type": "code",
   "execution_count": 172,
   "id": "40a0124a",
   "metadata": {},
   "outputs": [
    {
     "data": {
      "text/plain": [
       "['Gautam Gambhir', 'Zaheer Khan']"
      ]
     },
     "execution_count": 172,
     "metadata": {},
     "output_type": "execute_result"
    }
   ],
   "source": [
    "players"
   ]
  },
  {
   "cell_type": "code",
   "execution_count": 173,
   "id": "f64055f9",
   "metadata": {},
   "outputs": [],
   "source": [
    "players_copy = players.copy()"
   ]
  },
  {
   "cell_type": "code",
   "execution_count": 174,
   "id": "ac39ee11",
   "metadata": {},
   "outputs": [
    {
     "data": {
      "text/plain": [
       "['Gautam Gambhir', 'Zaheer Khan']"
      ]
     },
     "execution_count": 174,
     "metadata": {},
     "output_type": "execute_result"
    }
   ],
   "source": [
    "players_copy"
   ]
  },
  {
   "cell_type": "code",
   "execution_count": 175,
   "id": "43b42044",
   "metadata": {},
   "outputs": [],
   "source": [
    "players_copy.insert(1, 'yuvraj')"
   ]
  },
  {
   "cell_type": "code",
   "execution_count": 176,
   "id": "5835fe4a",
   "metadata": {},
   "outputs": [
    {
     "data": {
      "text/plain": [
       "['Gautam Gambhir', 'yuvraj', 'Zaheer Khan']"
      ]
     },
     "execution_count": 176,
     "metadata": {},
     "output_type": "execute_result"
    }
   ],
   "source": [
    "players_copy"
   ]
  },
  {
   "cell_type": "code",
   "execution_count": 177,
   "id": "2c6ca8cc",
   "metadata": {},
   "outputs": [
    {
     "data": {
      "text/plain": [
       "['Gautam Gambhir', 'Zaheer Khan']"
      ]
     },
     "execution_count": 177,
     "metadata": {},
     "output_type": "execute_result"
    }
   ],
   "source": [
    "players"
   ]
  },
  {
   "cell_type": "code",
   "execution_count": 178,
   "id": "7a5c5e3b",
   "metadata": {},
   "outputs": [
    {
     "data": {
      "text/plain": [
       "'Zaheer Khan'"
      ]
     },
     "execution_count": 178,
     "metadata": {},
     "output_type": "execute_result"
    }
   ],
   "source": [
    "players_copy.pop()"
   ]
  },
  {
   "cell_type": "code",
   "execution_count": 179,
   "id": "08134ea3",
   "metadata": {},
   "outputs": [
    {
     "data": {
      "text/plain": [
       "['Gautam Gambhir', 'yuvraj']"
      ]
     },
     "execution_count": 179,
     "metadata": {},
     "output_type": "execute_result"
    }
   ],
   "source": [
    "players_copy"
   ]
  },
  {
   "cell_type": "code",
   "execution_count": 180,
   "id": "81bb9fcf",
   "metadata": {},
   "outputs": [
    {
     "data": {
      "text/plain": [
       "['Gautam Gambhir', 'Zaheer Khan']"
      ]
     },
     "execution_count": 180,
     "metadata": {},
     "output_type": "execute_result"
    }
   ],
   "source": [
    "players"
   ]
  },
  {
   "cell_type": "code",
   "execution_count": 181,
   "id": "df9e0f35",
   "metadata": {},
   "outputs": [],
   "source": [
    "players_not_copy = players"
   ]
  },
  {
   "cell_type": "code",
   "execution_count": 182,
   "id": "14242673",
   "metadata": {},
   "outputs": [
    {
     "data": {
      "text/plain": [
       "['Gautam Gambhir', 'Zaheer Khan']"
      ]
     },
     "execution_count": 182,
     "metadata": {},
     "output_type": "execute_result"
    }
   ],
   "source": [
    "players_not_copy"
   ]
  },
  {
   "cell_type": "code",
   "execution_count": 183,
   "id": "3627f6a8",
   "metadata": {},
   "outputs": [
    {
     "data": {
      "text/plain": [
       "'Zaheer Khan'"
      ]
     },
     "execution_count": 183,
     "metadata": {},
     "output_type": "execute_result"
    }
   ],
   "source": [
    "players_not_copy.pop()"
   ]
  },
  {
   "cell_type": "code",
   "execution_count": 184,
   "id": "3138b381",
   "metadata": {},
   "outputs": [
    {
     "data": {
      "text/plain": [
       "['Gautam Gambhir']"
      ]
     },
     "execution_count": 184,
     "metadata": {},
     "output_type": "execute_result"
    }
   ],
   "source": [
    "players_not_copy"
   ]
  },
  {
   "cell_type": "code",
   "execution_count": 185,
   "id": "81de36f5",
   "metadata": {},
   "outputs": [
    {
     "data": {
      "text/plain": [
       "['Gautam Gambhir']"
      ]
     },
     "execution_count": 185,
     "metadata": {},
     "output_type": "execute_result"
    }
   ],
   "source": [
    "players"
   ]
  },
  {
   "cell_type": "markdown",
   "id": "b745828a",
   "metadata": {},
   "source": [
    "by just assignign the list to another list, it does not create a copy of list, it references to the same list, so if we modifiy the assigned list, original list will get affected"
   ]
  },
  {
   "cell_type": "code",
   "execution_count": 186,
   "id": "50ff79e5",
   "metadata": {},
   "outputs": [],
   "source": [
    "a_list = [1, 2, 3, 8, 10, 12]"
   ]
  },
  {
   "cell_type": "code",
   "execution_count": 187,
   "id": "4f5b1a09",
   "metadata": {},
   "outputs": [],
   "source": [
    "a_list.reverse()"
   ]
  },
  {
   "cell_type": "code",
   "execution_count": 188,
   "id": "a5763bb4",
   "metadata": {},
   "outputs": [
    {
     "data": {
      "text/plain": [
       "[12, 10, 8, 3, 2, 1]"
      ]
     },
     "execution_count": 188,
     "metadata": {},
     "output_type": "execute_result"
    }
   ],
   "source": [
    "a_list"
   ]
  },
  {
   "cell_type": "markdown",
   "id": "e5719d21",
   "metadata": {},
   "source": [
    "Add the elements of one list at the end of another list"
   ]
  },
  {
   "cell_type": "code",
   "execution_count": 189,
   "id": "8f461144",
   "metadata": {},
   "outputs": [],
   "source": [
    "list_1 = ['d', 1, 8]\n",
    "list_2 = ['some', [1,2], 8]"
   ]
  },
  {
   "cell_type": "code",
   "execution_count": 190,
   "id": "ddf6ace6",
   "metadata": {},
   "outputs": [],
   "source": [
    "list_2 = list_2 + list_1"
   ]
  },
  {
   "cell_type": "code",
   "execution_count": 191,
   "id": "61c3e77c",
   "metadata": {},
   "outputs": [
    {
     "data": {
      "text/plain": [
       "['some', [1, 2], 8, 'd', 1, 8]"
      ]
     },
     "execution_count": 191,
     "metadata": {},
     "output_type": "execute_result"
    }
   ],
   "source": [
    "list_2"
   ]
  },
  {
   "cell_type": "markdown",
   "id": "b20734e6",
   "metadata": {},
   "source": [
    "Sort a list of strings in alphabetical order"
   ]
  },
  {
   "cell_type": "code",
   "execution_count": 192,
   "id": "b83a0d44",
   "metadata": {},
   "outputs": [],
   "source": [
    "a_list = ['d', 'a', 2, 9, 'g', 3, 'c']"
   ]
  },
  {
   "cell_type": "code",
   "execution_count": 193,
   "id": "c05d7013",
   "metadata": {},
   "outputs": [
    {
     "ename": "TypeError",
     "evalue": "'<' not supported between instances of 'int' and 'str'",
     "output_type": "error",
     "traceback": [
      "\u001b[1;31m---------------------------------------------------------------------------\u001b[0m",
      "\u001b[1;31mTypeError\u001b[0m                                 Traceback (most recent call last)",
      "\u001b[1;32m~\\AppData\\Local\\Temp\\ipykernel_12100\\1042120378.py\u001b[0m in \u001b[0;36m<module>\u001b[1;34m\u001b[0m\n\u001b[1;32m----> 1\u001b[1;33m \u001b[0ma_list\u001b[0m\u001b[1;33m.\u001b[0m\u001b[0msort\u001b[0m\u001b[1;33m(\u001b[0m\u001b[1;33m)\u001b[0m\u001b[1;33m\u001b[0m\u001b[1;33m\u001b[0m\u001b[0m\n\u001b[0m",
      "\u001b[1;31mTypeError\u001b[0m: '<' not supported between instances of 'int' and 'str'"
     ]
    }
   ],
   "source": [
    "a_list.sort()"
   ]
  },
  {
   "cell_type": "code",
   "execution_count": 194,
   "id": "eca3e0b9",
   "metadata": {},
   "outputs": [],
   "source": [
    "a_list = ['d', 'z', 'b', 'j']"
   ]
  },
  {
   "cell_type": "code",
   "execution_count": 195,
   "id": "a00b0710",
   "metadata": {},
   "outputs": [],
   "source": [
    "a_list.sort()"
   ]
  },
  {
   "cell_type": "code",
   "execution_count": 196,
   "id": "24de3c2b",
   "metadata": {},
   "outputs": [
    {
     "data": {
      "text/plain": [
       "['b', 'd', 'j', 'z']"
      ]
     },
     "execution_count": 196,
     "metadata": {},
     "output_type": "execute_result"
    }
   ],
   "source": [
    "a_list"
   ]
  },
  {
   "cell_type": "markdown",
   "id": "9f9d90eb",
   "metadata": {},
   "source": [
    "Sort a list of numbers in decreasing order"
   ]
  },
  {
   "cell_type": "code",
   "execution_count": 197,
   "id": "13fa6e6f",
   "metadata": {},
   "outputs": [],
   "source": [
    "a_list.sort(reverse = True)"
   ]
  },
  {
   "cell_type": "code",
   "execution_count": 198,
   "id": "b5fc2799",
   "metadata": {},
   "outputs": [
    {
     "data": {
      "text/plain": [
       "['z', 'j', 'd', 'b']"
      ]
     },
     "execution_count": 198,
     "metadata": {},
     "output_type": "execute_result"
    }
   ],
   "source": [
    "a_list"
   ]
  },
  {
   "cell_type": "markdown",
   "id": "ebad6c41",
   "metadata": {},
   "source": [
    "# Tuple Data Type"
   ]
  },
  {
   "cell_type": "markdown",
   "id": "edbc009c",
   "metadata": {},
   "source": [
    "A tuple is an ordered collection of values, similar to list\n",
    "* not possible to add, remove, or modify values in tuple\n",
    "* enclosed with parentheses () separated by commas\n",
    "* tuple data type is immutable\n",
    "'''\n",
    "Any data structure that can't be modified after creation is immutable\n",
    "'''"
   ]
  },
  {
   "cell_type": "code",
   "execution_count": 199,
   "id": "e3a7a72c",
   "metadata": {},
   "outputs": [],
   "source": [
    "books = ('an', 'dab', 'ban')"
   ]
  },
  {
   "cell_type": "code",
   "execution_count": 200,
   "id": "55ff4a82",
   "metadata": {},
   "outputs": [
    {
     "data": {
      "text/plain": [
       "('an', 'dab', 'ban')"
      ]
     },
     "execution_count": 200,
     "metadata": {},
     "output_type": "execute_result"
    }
   ],
   "source": [
    "books"
   ]
  },
  {
   "cell_type": "code",
   "execution_count": 201,
   "id": "b77993c9",
   "metadata": {},
   "outputs": [
    {
     "data": {
      "text/plain": [
       "3"
      ]
     },
     "execution_count": 201,
     "metadata": {},
     "output_type": "execute_result"
    }
   ],
   "source": [
    "len(books)"
   ]
  },
  {
   "cell_type": "code",
   "execution_count": 202,
   "id": "3422e76a",
   "metadata": {},
   "outputs": [
    {
     "data": {
      "text/plain": [
       "'an'"
      ]
     },
     "execution_count": 202,
     "metadata": {},
     "output_type": "execute_result"
    }
   ],
   "source": [
    "books[0]"
   ]
  },
  {
   "cell_type": "code",
   "execution_count": 203,
   "id": "1b3fc38e",
   "metadata": {},
   "outputs": [
    {
     "data": {
      "text/plain": [
       "'dab'"
      ]
     },
     "execution_count": 203,
     "metadata": {},
     "output_type": "execute_result"
    }
   ],
   "source": [
    "books[1]"
   ]
  },
  {
   "cell_type": "code",
   "execution_count": 204,
   "id": "816b7ca8",
   "metadata": {},
   "outputs": [
    {
     "data": {
      "text/plain": [
       "'ban'"
      ]
     },
     "execution_count": 204,
     "metadata": {},
     "output_type": "execute_result"
    }
   ],
   "source": [
    "books[2]"
   ]
  },
  {
   "cell_type": "code",
   "execution_count": 205,
   "id": "7650b422",
   "metadata": {},
   "outputs": [
    {
     "ename": "IndexError",
     "evalue": "tuple index out of range",
     "output_type": "error",
     "traceback": [
      "\u001b[1;31m---------------------------------------------------------------------------\u001b[0m",
      "\u001b[1;31mIndexError\u001b[0m                                Traceback (most recent call last)",
      "\u001b[1;32m~\\AppData\\Local\\Temp\\ipykernel_12100\\930333076.py\u001b[0m in \u001b[0;36m<module>\u001b[1;34m\u001b[0m\n\u001b[1;32m----> 1\u001b[1;33m \u001b[0mbooks\u001b[0m\u001b[1;33m[\u001b[0m\u001b[1;36m3\u001b[0m\u001b[1;33m]\u001b[0m\u001b[1;33m\u001b[0m\u001b[1;33m\u001b[0m\u001b[0m\n\u001b[0m",
      "\u001b[1;31mIndexError\u001b[0m: tuple index out of range"
     ]
    }
   ],
   "source": [
    "books[3]"
   ]
  },
  {
   "cell_type": "code",
   "execution_count": 206,
   "id": "fa7610e6",
   "metadata": {},
   "outputs": [
    {
     "data": {
      "text/plain": [
       "'ban'"
      ]
     },
     "execution_count": 206,
     "metadata": {},
     "output_type": "execute_result"
    }
   ],
   "source": [
    "books[-1]"
   ]
  },
  {
   "cell_type": "code",
   "execution_count": 207,
   "id": "eee98b56",
   "metadata": {},
   "outputs": [
    {
     "data": {
      "text/plain": [
       "'dab'"
      ]
     },
     "execution_count": 207,
     "metadata": {},
     "output_type": "execute_result"
    }
   ],
   "source": [
    "books[-2]"
   ]
  },
  {
   "cell_type": "code",
   "execution_count": 208,
   "id": "5a0ca690",
   "metadata": {},
   "outputs": [
    {
     "data": {
      "text/plain": [
       "'an'"
      ]
     },
     "execution_count": 208,
     "metadata": {},
     "output_type": "execute_result"
    }
   ],
   "source": [
    "books[-3]"
   ]
  },
  {
   "cell_type": "code",
   "execution_count": 209,
   "id": "fc54764a",
   "metadata": {},
   "outputs": [
    {
     "ename": "IndexError",
     "evalue": "tuple index out of range",
     "output_type": "error",
     "traceback": [
      "\u001b[1;31m---------------------------------------------------------------------------\u001b[0m",
      "\u001b[1;31mIndexError\u001b[0m                                Traceback (most recent call last)",
      "\u001b[1;32m~\\AppData\\Local\\Temp\\ipykernel_12100\\9093675.py\u001b[0m in \u001b[0;36m<module>\u001b[1;34m\u001b[0m\n\u001b[1;32m----> 1\u001b[1;33m \u001b[0mbooks\u001b[0m\u001b[1;33m[\u001b[0m\u001b[1;33m-\u001b[0m\u001b[1;36m4\u001b[0m\u001b[1;33m]\u001b[0m\u001b[1;33m\u001b[0m\u001b[1;33m\u001b[0m\u001b[0m\n\u001b[0m",
      "\u001b[1;31mIndexError\u001b[0m: tuple index out of range"
     ]
    }
   ],
   "source": [
    "books[-4]"
   ]
  },
  {
   "cell_type": "code",
   "execution_count": 210,
   "id": "d87b40b5",
   "metadata": {},
   "outputs": [
    {
     "data": {
      "text/plain": [
       "True"
      ]
     },
     "execution_count": 210,
     "metadata": {},
     "output_type": "execute_result"
    }
   ],
   "source": [
    "'ban' in books"
   ]
  },
  {
   "cell_type": "code",
   "execution_count": 211,
   "id": "f88a2648",
   "metadata": {},
   "outputs": [
    {
     "data": {
      "text/plain": [
       "True"
      ]
     },
     "execution_count": 211,
     "metadata": {},
     "output_type": "execute_result"
    }
   ],
   "source": [
    "'dab' in books"
   ]
  },
  {
   "cell_type": "code",
   "execution_count": 212,
   "id": "19767ea5",
   "metadata": {},
   "outputs": [
    {
     "data": {
      "text/plain": [
       "False"
      ]
     },
     "execution_count": 212,
     "metadata": {},
     "output_type": "execute_result"
    }
   ],
   "source": [
    "'can' in books"
   ]
  },
  {
   "cell_type": "code",
   "execution_count": 213,
   "id": "3f93f566",
   "metadata": {},
   "outputs": [
    {
     "ename": "TypeError",
     "evalue": "'tuple' object does not support item assignment",
     "output_type": "error",
     "traceback": [
      "\u001b[1;31m---------------------------------------------------------------------------\u001b[0m",
      "\u001b[1;31mTypeError\u001b[0m                                 Traceback (most recent call last)",
      "\u001b[1;32m~\\AppData\\Local\\Temp\\ipykernel_12100\\848637375.py\u001b[0m in \u001b[0;36m<module>\u001b[1;34m\u001b[0m\n\u001b[1;32m----> 1\u001b[1;33m \u001b[0mbooks\u001b[0m\u001b[1;33m[\u001b[0m\u001b[1;36m0\u001b[0m\u001b[1;33m]\u001b[0m \u001b[1;33m=\u001b[0m \u001b[1;34m'so'\u001b[0m\u001b[1;33m\u001b[0m\u001b[1;33m\u001b[0m\u001b[0m\n\u001b[0m",
      "\u001b[1;31mTypeError\u001b[0m: 'tuple' object does not support item assignment"
     ]
    }
   ],
   "source": [
    "books[0] = 'so'"
   ]
  },
  {
   "cell_type": "code",
   "execution_count": 214,
   "id": "e5b2699e",
   "metadata": {},
   "outputs": [
    {
     "ename": "AttributeError",
     "evalue": "'tuple' object has no attribute 'append'",
     "output_type": "error",
     "traceback": [
      "\u001b[1;31m---------------------------------------------------------------------------\u001b[0m",
      "\u001b[1;31mAttributeError\u001b[0m                            Traceback (most recent call last)",
      "\u001b[1;32m~\\AppData\\Local\\Temp\\ipykernel_12100\\1558394594.py\u001b[0m in \u001b[0;36m<module>\u001b[1;34m\u001b[0m\n\u001b[1;32m----> 1\u001b[1;33m \u001b[0mbooks\u001b[0m\u001b[1;33m.\u001b[0m\u001b[0mappend\u001b[0m\u001b[1;33m(\u001b[0m\u001b[1;34m'a'\u001b[0m\u001b[1;33m)\u001b[0m\u001b[1;33m\u001b[0m\u001b[1;33m\u001b[0m\u001b[0m\n\u001b[0m",
      "\u001b[1;31mAttributeError\u001b[0m: 'tuple' object has no attribute 'append'"
     ]
    }
   ],
   "source": [
    "books.append('a')"
   ]
  },
  {
   "cell_type": "code",
   "execution_count": 215,
   "id": "7b0ec8a8",
   "metadata": {},
   "outputs": [
    {
     "ename": "AttributeError",
     "evalue": "'tuple' object has no attribute 'remove'",
     "output_type": "error",
     "traceback": [
      "\u001b[1;31m---------------------------------------------------------------------------\u001b[0m",
      "\u001b[1;31mAttributeError\u001b[0m                            Traceback (most recent call last)",
      "\u001b[1;32m~\\AppData\\Local\\Temp\\ipykernel_12100\\4043796714.py\u001b[0m in \u001b[0;36m<module>\u001b[1;34m\u001b[0m\n\u001b[1;32m----> 1\u001b[1;33m \u001b[0mbooks\u001b[0m\u001b[1;33m.\u001b[0m\u001b[0mremove\u001b[0m\u001b[1;33m(\u001b[0m\u001b[1;34m'dab'\u001b[0m\u001b[1;33m)\u001b[0m\u001b[1;33m\u001b[0m\u001b[1;33m\u001b[0m\u001b[0m\n\u001b[0m",
      "\u001b[1;31mAttributeError\u001b[0m: 'tuple' object has no attribute 'remove'"
     ]
    }
   ],
   "source": [
    "books.remove('dab')"
   ]
  },
  {
   "cell_type": "code",
   "execution_count": 216,
   "id": "3273226e",
   "metadata": {},
   "outputs": [],
   "source": [
    "simple_tuple = 'a', 'b', 'c'"
   ]
  },
  {
   "cell_type": "code",
   "execution_count": 217,
   "id": "498a766e",
   "metadata": {},
   "outputs": [
    {
     "data": {
      "text/plain": [
       "('a', 'b', 'c')"
      ]
     },
     "execution_count": 217,
     "metadata": {},
     "output_type": "execute_result"
    }
   ],
   "source": [
    "simple_tuple"
   ]
  },
  {
   "cell_type": "code",
   "execution_count": 218,
   "id": "32051647",
   "metadata": {},
   "outputs": [
    {
     "data": {
      "text/plain": [
       "tuple"
      ]
     },
     "execution_count": 218,
     "metadata": {},
     "output_type": "execute_result"
    }
   ],
   "source": [
    "type(simple_tuple)"
   ]
  },
  {
   "cell_type": "code",
   "execution_count": 219,
   "id": "a13d4816",
   "metadata": {},
   "outputs": [
    {
     "ename": "AttributeError",
     "evalue": "'tuple' object has no attribute 'copy'",
     "output_type": "error",
     "traceback": [
      "\u001b[1;31m---------------------------------------------------------------------------\u001b[0m",
      "\u001b[1;31mAttributeError\u001b[0m                            Traceback (most recent call last)",
      "\u001b[1;32m~\\AppData\\Local\\Temp\\ipykernel_12100\\4117256956.py\u001b[0m in \u001b[0;36m<module>\u001b[1;34m\u001b[0m\n\u001b[1;32m----> 1\u001b[1;33m \u001b[0mtup_copy\u001b[0m \u001b[1;33m=\u001b[0m \u001b[0msimple_tuple\u001b[0m\u001b[1;33m.\u001b[0m\u001b[0mcopy\u001b[0m\u001b[1;33m(\u001b[0m\u001b[1;33m)\u001b[0m\u001b[1;33m\u001b[0m\u001b[1;33m\u001b[0m\u001b[0m\n\u001b[0m",
      "\u001b[1;31mAttributeError\u001b[0m: 'tuple' object has no attribute 'copy'"
     ]
    }
   ],
   "source": [
    "tup_copy = simple_tuple.copy()"
   ]
  },
  {
   "cell_type": "code",
   "execution_count": 220,
   "id": "21ee952c",
   "metadata": {},
   "outputs": [],
   "source": [
    "n_tup = 1,"
   ]
  },
  {
   "cell_type": "code",
   "execution_count": 221,
   "id": "459758fc",
   "metadata": {},
   "outputs": [
    {
     "data": {
      "text/plain": [
       "(1,)"
      ]
     },
     "execution_count": 221,
     "metadata": {},
     "output_type": "execute_result"
    }
   ],
   "source": [
    "n_tup"
   ]
  },
  {
   "cell_type": "code",
   "execution_count": 222,
   "id": "e874aafb",
   "metadata": {},
   "outputs": [
    {
     "data": {
      "text/plain": [
       "tuple"
      ]
     },
     "execution_count": 222,
     "metadata": {},
     "output_type": "execute_result"
    }
   ],
   "source": [
    "type(n_tup)"
   ]
  },
  {
   "cell_type": "code",
   "execution_count": 223,
   "id": "4f9c31fe",
   "metadata": {},
   "outputs": [],
   "source": [
    "a_tup = (3,)"
   ]
  },
  {
   "cell_type": "code",
   "execution_count": 224,
   "id": "ef2bc2c5",
   "metadata": {},
   "outputs": [
    {
     "data": {
      "text/plain": [
       "(3,)"
      ]
     },
     "execution_count": 224,
     "metadata": {},
     "output_type": "execute_result"
    }
   ],
   "source": [
    "a_tup"
   ]
  },
  {
   "cell_type": "code",
   "execution_count": 225,
   "id": "61139138",
   "metadata": {},
   "outputs": [],
   "source": [
    "x_y = (2, -1)\n",
    "point_x, point_y = x_y"
   ]
  },
  {
   "cell_type": "code",
   "execution_count": 226,
   "id": "5d772b6b",
   "metadata": {},
   "outputs": [
    {
     "data": {
      "text/plain": [
       "2"
      ]
     },
     "execution_count": 226,
     "metadata": {},
     "output_type": "execute_result"
    }
   ],
   "source": [
    "point_x"
   ]
  },
  {
   "cell_type": "code",
   "execution_count": 227,
   "id": "1c342331",
   "metadata": {},
   "outputs": [
    {
     "data": {
      "text/plain": [
       "-1"
      ]
     },
     "execution_count": 227,
     "metadata": {},
     "output_type": "execute_result"
    }
   ],
   "source": [
    "point_y"
   ]
  },
  {
   "cell_type": "markdown",
   "id": "a4806569",
   "metadata": {},
   "source": [
    "Convert list into tuple"
   ]
  },
  {
   "cell_type": "code",
   "execution_count": 230,
   "id": "6e39ac91",
   "metadata": {},
   "outputs": [],
   "source": [
    "a = tuple(['q', 'a', 'b'])"
   ]
  },
  {
   "cell_type": "code",
   "execution_count": 231,
   "id": "760bbfe1",
   "metadata": {},
   "outputs": [
    {
     "data": {
      "text/plain": [
       "('q', 'a', 'b')"
      ]
     },
     "execution_count": 231,
     "metadata": {},
     "output_type": "execute_result"
    }
   ],
   "source": [
    "a"
   ]
  },
  {
   "cell_type": "code",
   "execution_count": 232,
   "id": "0329f9b9",
   "metadata": {},
   "outputs": [
    {
     "data": {
      "text/plain": [
       "tuple"
      ]
     },
     "execution_count": 232,
     "metadata": {},
     "output_type": "execute_result"
    }
   ],
   "source": [
    "type(a)"
   ]
  },
  {
   "cell_type": "markdown",
   "id": "65cc3dc6",
   "metadata": {},
   "source": [
    "convert tuple into list"
   ]
  },
  {
   "cell_type": "code",
   "execution_count": 233,
   "id": "32238a75",
   "metadata": {},
   "outputs": [
    {
     "data": {
      "text/plain": [
       "['Gautam Gambhir']"
      ]
     },
     "execution_count": 233,
     "metadata": {},
     "output_type": "execute_result"
    }
   ],
   "source": [
    "players"
   ]
  },
  {
   "cell_type": "code",
   "execution_count": 234,
   "id": "e223081c",
   "metadata": {},
   "outputs": [
    {
     "data": {
      "text/plain": [
       "('Gautam Gambhir',)"
      ]
     },
     "execution_count": 234,
     "metadata": {},
     "output_type": "execute_result"
    }
   ],
   "source": [
    "tuple(players)"
   ]
  },
  {
   "cell_type": "code",
   "execution_count": 235,
   "id": "d745ba2b",
   "metadata": {},
   "outputs": [
    {
     "data": {
      "text/plain": [
       "['Gautam Gambhir']"
      ]
     },
     "execution_count": 235,
     "metadata": {},
     "output_type": "execute_result"
    }
   ],
   "source": [
    "players"
   ]
  },
  {
   "cell_type": "code",
   "execution_count": 236,
   "id": "e92c2ab0",
   "metadata": {},
   "outputs": [
    {
     "data": {
      "text/plain": [
       "('q', 'a', 'b')"
      ]
     },
     "execution_count": 236,
     "metadata": {},
     "output_type": "execute_result"
    }
   ],
   "source": [
    "a"
   ]
  },
  {
   "cell_type": "code",
   "execution_count": 238,
   "id": "5880a7dd",
   "metadata": {},
   "outputs": [],
   "source": [
    "b = list(a)"
   ]
  },
  {
   "cell_type": "code",
   "execution_count": 239,
   "id": "fcd4ebfa",
   "metadata": {},
   "outputs": [
    {
     "data": {
      "text/plain": [
       "['q', 'a', 'b']"
      ]
     },
     "execution_count": 239,
     "metadata": {},
     "output_type": "execute_result"
    }
   ],
   "source": [
    "b"
   ]
  },
  {
   "cell_type": "code",
   "execution_count": 240,
   "id": "a258f781",
   "metadata": {},
   "outputs": [],
   "source": [
    "b.insert(2, 'x')"
   ]
  },
  {
   "cell_type": "code",
   "execution_count": 241,
   "id": "bc0cb952",
   "metadata": {},
   "outputs": [
    {
     "data": {
      "text/plain": [
       "['q', 'a', 'x', 'b']"
      ]
     },
     "execution_count": 241,
     "metadata": {},
     "output_type": "execute_result"
    }
   ],
   "source": [
    "b"
   ]
  },
  {
   "cell_type": "code",
   "execution_count": 242,
   "id": "00c23328",
   "metadata": {},
   "outputs": [
    {
     "data": {
      "text/plain": [
       "('q', 'a', 'x', 'b')"
      ]
     },
     "execution_count": 242,
     "metadata": {},
     "output_type": "execute_result"
    }
   ],
   "source": [
    "tuple(b)"
   ]
  },
  {
   "cell_type": "code",
   "execution_count": 243,
   "id": "4ef73057",
   "metadata": {},
   "outputs": [
    {
     "data": {
      "text/plain": [
       "<function list.count(value, /)>"
      ]
     },
     "execution_count": 243,
     "metadata": {},
     "output_type": "execute_result"
    }
   ],
   "source": [
    "b.count"
   ]
  },
  {
   "cell_type": "code",
   "execution_count": 244,
   "id": "0fc73824",
   "metadata": {},
   "outputs": [
    {
     "name": "stdout",
     "output_type": "stream",
     "text": [
      "<built-in method count of list object at 0x00000219FC110B40>\n"
     ]
    }
   ],
   "source": [
    "print(b.count)"
   ]
  },
  {
   "cell_type": "code",
   "execution_count": 245,
   "id": "718f1822",
   "metadata": {},
   "outputs": [
    {
     "ename": "SyntaxError",
     "evalue": "invalid syntax (4142941444.py, line 1)",
     "output_type": "error",
     "traceback": [
      "\u001b[1;36m  File \u001b[1;32m\"C:\\Users\\INDIA\\AppData\\Local\\Temp\\ipykernel_12100\\4142941444.py\"\u001b[1;36m, line \u001b[1;32m1\u001b[0m\n\u001b[1;33m    help b.count\u001b[0m\n\u001b[1;37m         ^\u001b[0m\n\u001b[1;31mSyntaxError\u001b[0m\u001b[1;31m:\u001b[0m invalid syntax\n"
     ]
    }
   ],
   "source": [
    "help b.count"
   ]
  },
  {
   "cell_type": "code",
   "execution_count": 246,
   "id": "10ed89e2",
   "metadata": {
    "scrolled": true
   },
   "outputs": [
    {
     "name": "stdout",
     "output_type": "stream",
     "text": [
      "Help on built-in function count:\n",
      "\n",
      "count(value, /) method of builtins.list instance\n",
      "    Return number of occurrences of value.\n",
      "\n"
     ]
    }
   ],
   "source": [
    "help(b.count)"
   ]
  },
  {
   "cell_type": "code",
   "execution_count": 247,
   "id": "5e00918e",
   "metadata": {},
   "outputs": [],
   "source": [
    "?b.index"
   ]
  },
  {
   "cell_type": "code",
   "execution_count": 248,
   "id": "28014b6b",
   "metadata": {},
   "outputs": [
    {
     "data": {
      "text/plain": [
       "['q', 'a', 'x', 'b']"
      ]
     },
     "execution_count": 248,
     "metadata": {},
     "output_type": "execute_result"
    }
   ],
   "source": [
    "b"
   ]
  },
  {
   "cell_type": "code",
   "execution_count": 249,
   "id": "1e3a412d",
   "metadata": {},
   "outputs": [
    {
     "data": {
      "text/plain": [
       "<function list.count(value, /)>"
      ]
     },
     "execution_count": 249,
     "metadata": {},
     "output_type": "execute_result"
    }
   ],
   "source": [
    "b.count"
   ]
  },
  {
   "cell_type": "code",
   "execution_count": 250,
   "id": "82ac1f3c",
   "metadata": {},
   "outputs": [
    {
     "ename": "TypeError",
     "evalue": "list.count() takes exactly one argument (0 given)",
     "output_type": "error",
     "traceback": [
      "\u001b[1;31m---------------------------------------------------------------------------\u001b[0m",
      "\u001b[1;31mTypeError\u001b[0m                                 Traceback (most recent call last)",
      "\u001b[1;32m~\\AppData\\Local\\Temp\\ipykernel_12100\\2646381259.py\u001b[0m in \u001b[0;36m<module>\u001b[1;34m\u001b[0m\n\u001b[1;32m----> 1\u001b[1;33m \u001b[0mb\u001b[0m\u001b[1;33m.\u001b[0m\u001b[0mcount\u001b[0m\u001b[1;33m(\u001b[0m\u001b[1;33m)\u001b[0m\u001b[1;33m\u001b[0m\u001b[1;33m\u001b[0m\u001b[0m\n\u001b[0m",
      "\u001b[1;31mTypeError\u001b[0m: list.count() takes exactly one argument (0 given)"
     ]
    }
   ],
   "source": [
    "b.count()"
   ]
  },
  {
   "cell_type": "code",
   "execution_count": 251,
   "id": "828178aa",
   "metadata": {},
   "outputs": [
    {
     "data": {
      "text/plain": [
       "builtin_function_or_method"
      ]
     },
     "execution_count": 251,
     "metadata": {},
     "output_type": "execute_result"
    }
   ],
   "source": [
    "type(b.count)"
   ]
  },
  {
   "cell_type": "code",
   "execution_count": 252,
   "id": "0ffc07dc",
   "metadata": {},
   "outputs": [
    {
     "name": "stdout",
     "output_type": "stream",
     "text": [
      "<built-in method count of list object at 0x00000219FC110B40>\n"
     ]
    }
   ],
   "source": [
    "print(b.count)"
   ]
  },
  {
   "cell_type": "code",
   "execution_count": 253,
   "id": "6192cd76",
   "metadata": {},
   "outputs": [
    {
     "data": {
      "text/plain": [
       "<function list.index(value, start=0, stop=9223372036854775807, /)>"
      ]
     },
     "execution_count": 253,
     "metadata": {},
     "output_type": "execute_result"
    }
   ],
   "source": [
    "b.index"
   ]
  },
  {
   "cell_type": "code",
   "execution_count": 254,
   "id": "279ee361",
   "metadata": {},
   "outputs": [
    {
     "name": "stdout",
     "output_type": "stream",
     "text": [
      "<built-in method index of list object at 0x00000219FC110B40>\n"
     ]
    }
   ],
   "source": [
    "print(b.index)"
   ]
  },
  {
   "cell_type": "code",
   "execution_count": 255,
   "id": "1255dc7f",
   "metadata": {},
   "outputs": [
    {
     "data": {
      "text/plain": [
       "['z', 'j', 'd', 'b']"
      ]
     },
     "execution_count": 255,
     "metadata": {},
     "output_type": "execute_result"
    }
   ],
   "source": [
    "a_list"
   ]
  },
  {
   "cell_type": "code",
   "execution_count": 256,
   "id": "ed3c55b4",
   "metadata": {},
   "outputs": [
    {
     "name": "stdout",
     "output_type": "stream",
     "text": [
      "<built-in method count of list object at 0x00000219FBF9B700>\n"
     ]
    }
   ],
   "source": [
    "print(a_list.count)"
   ]
  },
  {
   "cell_type": "code",
   "execution_count": 257,
   "id": "e3bcf49e",
   "metadata": {},
   "outputs": [
    {
     "name": "stdout",
     "output_type": "stream",
     "text": [
      "<built-in method index of list object at 0x00000219FBF9B700>\n"
     ]
    }
   ],
   "source": [
    "print(a_list.index)"
   ]
  },
  {
   "cell_type": "markdown",
   "id": "918a1a84",
   "metadata": {},
   "source": [
    "# Dictionary Data Type"
   ]
  },
  {
   "cell_type": "markdown",
   "id": "c4bb1bfc",
   "metadata": {},
   "source": [
    "A dictionary is an\n",
    "* unordered collection of items\n",
    "* each item stored has a key and value\n",
    "* can use a key to retrieve corresponding value from dictionary\n",
    "* it has data type of dict\n",
    "* used to store many pieces of info\n",
    "* created by enclosing key-value paris within braces { }"
   ]
  },
  {
   "cell_type": "code",
   "execution_count": 258,
   "id": "0db895d8",
   "metadata": {},
   "outputs": [],
   "source": [
    "movie = {\n",
    "    'name': 'Jungle Book',\n",
    "    'genre': 'adventure',\n",
    "    'imdb-rating': 8.2,\n",
    "    'fun-to-watch': True\n",
    "}"
   ]
  },
  {
   "cell_type": "code",
   "execution_count": 259,
   "id": "f6e53cdd",
   "metadata": {},
   "outputs": [
    {
     "data": {
      "text/plain": [
       "{'name': 'Jungle Book',\n",
       " 'genre': 'adventure',\n",
       " 'imdb-rating': 8.2,\n",
       " 'fun-to-watch': True}"
      ]
     },
     "execution_count": 259,
     "metadata": {},
     "output_type": "execute_result"
    }
   ],
   "source": [
    "movie"
   ]
  },
  {
   "cell_type": "code",
   "execution_count": 260,
   "id": "c66f1755",
   "metadata": {},
   "outputs": [
    {
     "name": "stdout",
     "output_type": "stream",
     "text": [
      "{'name': 'Jungle Book', 'genre': 'adventure', 'imdb-rating': 8.2, 'fun-to-watch': True}\n"
     ]
    }
   ],
   "source": [
    "print(movie)"
   ]
  },
  {
   "cell_type": "code",
   "execution_count": 263,
   "id": "80eb86a7",
   "metadata": {},
   "outputs": [],
   "source": [
    "movie1 = dict(name='Inception', genre='thriller', imdb_rating=8.9, fun_to_watch=True)"
   ]
  },
  {
   "cell_type": "code",
   "execution_count": 264,
   "id": "ef585667",
   "metadata": {},
   "outputs": [
    {
     "data": {
      "text/plain": [
       "{'name': 'Inception',\n",
       " 'genre': 'thriller',\n",
       " 'imdb_rating': 8.9,\n",
       " 'fun_to_watch': True}"
      ]
     },
     "execution_count": 264,
     "metadata": {},
     "output_type": "execute_result"
    }
   ],
   "source": [
    "movie1"
   ]
  },
  {
   "cell_type": "code",
   "execution_count": 265,
   "id": "9d01ff76",
   "metadata": {},
   "outputs": [
    {
     "data": {
      "text/plain": [
       "dict"
      ]
     },
     "execution_count": 265,
     "metadata": {},
     "output_type": "execute_result"
    }
   ],
   "source": [
    "type(movie1)"
   ]
  },
  {
   "cell_type": "code",
   "execution_count": 266,
   "id": "1715dc77",
   "metadata": {},
   "outputs": [
    {
     "data": {
      "text/plain": [
       "'Jungle Book'"
      ]
     },
     "execution_count": 266,
     "metadata": {},
     "output_type": "execute_result"
    }
   ],
   "source": [
    "movie['name']"
   ]
  },
  {
   "cell_type": "code",
   "execution_count": 267,
   "id": "99886b0c",
   "metadata": {},
   "outputs": [
    {
     "data": {
      "text/plain": [
       "'Inception'"
      ]
     },
     "execution_count": 267,
     "metadata": {},
     "output_type": "execute_result"
    }
   ],
   "source": [
    "movie1['name']"
   ]
  },
  {
   "cell_type": "code",
   "execution_count": 268,
   "id": "d5ada509",
   "metadata": {},
   "outputs": [
    {
     "data": {
      "text/plain": [
       "8.2"
      ]
     },
     "execution_count": 268,
     "metadata": {},
     "output_type": "execute_result"
    }
   ],
   "source": [
    "movie['imdb-rating']"
   ]
  },
  {
   "cell_type": "code",
   "execution_count": 270,
   "id": "39e02282",
   "metadata": {},
   "outputs": [
    {
     "data": {
      "text/plain": [
       "8.9"
      ]
     },
     "execution_count": 270,
     "metadata": {},
     "output_type": "execute_result"
    }
   ],
   "source": [
    "movie1['imdb_rating']"
   ]
  },
  {
   "cell_type": "code",
   "execution_count": 271,
   "id": "99fac238",
   "metadata": {},
   "outputs": [
    {
     "data": {
      "text/plain": [
       "'adventure'"
      ]
     },
     "execution_count": 271,
     "metadata": {},
     "output_type": "execute_result"
    }
   ],
   "source": [
    "movie['genre']"
   ]
  },
  {
   "cell_type": "code",
   "execution_count": 272,
   "id": "bf31e6b0",
   "metadata": {},
   "outputs": [
    {
     "data": {
      "text/plain": [
       "'thriller'"
      ]
     },
     "execution_count": 272,
     "metadata": {},
     "output_type": "execute_result"
    }
   ],
   "source": [
    "movie1['genre']"
   ]
  },
  {
   "cell_type": "code",
   "execution_count": 273,
   "id": "fd77aeec",
   "metadata": {},
   "outputs": [
    {
     "data": {
      "text/plain": [
       "True"
      ]
     },
     "execution_count": 273,
     "metadata": {},
     "output_type": "execute_result"
    }
   ],
   "source": [
    "movie['fun-to-watch']"
   ]
  },
  {
   "cell_type": "code",
   "execution_count": 275,
   "id": "a0dd277c",
   "metadata": {},
   "outputs": [
    {
     "data": {
      "text/plain": [
       "True"
      ]
     },
     "execution_count": 275,
     "metadata": {},
     "output_type": "execute_result"
    }
   ],
   "source": [
    "movie1['fun_to_watch']"
   ]
  },
  {
   "cell_type": "code",
   "execution_count": 276,
   "id": "c6b577b8",
   "metadata": {
    "scrolled": true
   },
   "outputs": [
    {
     "ename": "KeyError",
     "evalue": "'views'",
     "output_type": "error",
     "traceback": [
      "\u001b[1;31m---------------------------------------------------------------------------\u001b[0m",
      "\u001b[1;31mKeyError\u001b[0m                                  Traceback (most recent call last)",
      "\u001b[1;32m~\\AppData\\Local\\Temp\\ipykernel_12100\\4099055634.py\u001b[0m in \u001b[0;36m<module>\u001b[1;34m\u001b[0m\n\u001b[1;32m----> 1\u001b[1;33m \u001b[0mmovie\u001b[0m\u001b[1;33m[\u001b[0m\u001b[1;34m'views'\u001b[0m\u001b[1;33m]\u001b[0m\u001b[1;33m\u001b[0m\u001b[1;33m\u001b[0m\u001b[0m\n\u001b[0m",
      "\u001b[1;31mKeyError\u001b[0m: 'views'"
     ]
    }
   ],
   "source": [
    "movie['views']"
   ]
  },
  {
   "cell_type": "markdown",
   "id": "f1c5cb8a",
   "metadata": {},
   "source": [
    "can use get method to access the value associated with a key"
   ]
  },
  {
   "cell_type": "code",
   "execution_count": 277,
   "id": "510ae386",
   "metadata": {},
   "outputs": [
    {
     "data": {
      "text/plain": [
       "'Jungle Book'"
      ]
     },
     "execution_count": 277,
     "metadata": {},
     "output_type": "execute_result"
    }
   ],
   "source": [
    "movie.get('name')"
   ]
  },
  {
   "cell_type": "markdown",
   "id": "a9da31c7",
   "metadata": {},
   "source": [
    "get method also takes a default value, returned if key is not present in dictionary"
   ]
  },
  {
   "cell_type": "code",
   "execution_count": 278,
   "id": "ebd27b6b",
   "metadata": {},
   "outputs": [
    {
     "data": {
      "text/plain": [
       "329043298"
      ]
     },
     "execution_count": 278,
     "metadata": {},
     "output_type": "execute_result"
    }
   ],
   "source": [
    "movie.get('views', 329043298)"
   ]
  },
  {
   "cell_type": "code",
   "execution_count": 279,
   "id": "f5075182",
   "metadata": {},
   "outputs": [
    {
     "data": {
      "text/plain": [
       "{'name': 'Jungle Book',\n",
       " 'genre': 'adventure',\n",
       " 'imdb-rating': 8.2,\n",
       " 'fun-to-watch': True}"
      ]
     },
     "execution_count": 279,
     "metadata": {},
     "output_type": "execute_result"
    }
   ],
   "source": [
    "movie"
   ]
  },
  {
   "cell_type": "markdown",
   "id": "5c341f8e",
   "metadata": {},
   "source": [
    "With in operator, can check if key is present in dictionary"
   ]
  },
  {
   "cell_type": "code",
   "execution_count": 281,
   "id": "7361e1c5",
   "metadata": {},
   "outputs": [
    {
     "data": {
      "text/plain": [
       "True"
      ]
     },
     "execution_count": 281,
     "metadata": {},
     "output_type": "execute_result"
    }
   ],
   "source": [
    "'name' in movie"
   ]
  },
  {
   "cell_type": "code",
   "execution_count": 282,
   "id": "4a13fc97",
   "metadata": {},
   "outputs": [
    {
     "data": {
      "text/plain": [
       "True"
      ]
     },
     "execution_count": 282,
     "metadata": {},
     "output_type": "execute_result"
    }
   ],
   "source": [
    "'name' in movie1"
   ]
  },
  {
   "cell_type": "code",
   "execution_count": 283,
   "id": "68a264b2",
   "metadata": {},
   "outputs": [
    {
     "data": {
      "text/plain": [
       "False"
      ]
     },
     "execution_count": 283,
     "metadata": {},
     "output_type": "execute_result"
    }
   ],
   "source": [
    "'views' in movie"
   ]
  },
  {
   "cell_type": "markdown",
   "id": "a7328f9f",
   "metadata": {},
   "source": [
    "can change the value associated with a key using assignment operator"
   ]
  },
  {
   "cell_type": "code",
   "execution_count": 284,
   "id": "b8e3816c",
   "metadata": {},
   "outputs": [],
   "source": [
    "movie['fun-to-watch'] = False"
   ]
  },
  {
   "cell_type": "code",
   "execution_count": 285,
   "id": "72bac7ca",
   "metadata": {},
   "outputs": [
    {
     "data": {
      "text/plain": [
       "{'name': 'Jungle Book',\n",
       " 'genre': 'adventure',\n",
       " 'imdb-rating': 8.2,\n",
       " 'fun-to-watch': False}"
      ]
     },
     "execution_count": 285,
     "metadata": {},
     "output_type": "execute_result"
    }
   ],
   "source": [
    "movie"
   ]
  },
  {
   "cell_type": "markdown",
   "id": "c18cdc8f",
   "metadata": {},
   "source": [
    "assignment operator can also be used to add new key-value pairs to dictionary"
   ]
  },
  {
   "cell_type": "code",
   "execution_count": 286,
   "id": "77454974",
   "metadata": {},
   "outputs": [],
   "source": [
    "movie['views'] = 32432142"
   ]
  },
  {
   "cell_type": "code",
   "execution_count": 287,
   "id": "f14bc43a",
   "metadata": {},
   "outputs": [
    {
     "data": {
      "text/plain": [
       "{'name': 'Jungle Book',\n",
       " 'genre': 'adventure',\n",
       " 'imdb-rating': 8.2,\n",
       " 'fun-to-watch': False,\n",
       " 'views': 32432142}"
      ]
     },
     "execution_count": 287,
     "metadata": {},
     "output_type": "execute_result"
    }
   ],
   "source": [
    "movie"
   ]
  },
  {
   "cell_type": "markdown",
   "id": "8041f198",
   "metadata": {},
   "source": [
    "to remove a key and the corresponding value from dictionary, use pop method and it returns removed corresponding value of key"
   ]
  },
  {
   "cell_type": "code",
   "execution_count": 288,
   "id": "c495cbc7",
   "metadata": {},
   "outputs": [
    {
     "data": {
      "text/plain": [
       "32432142"
      ]
     },
     "execution_count": 288,
     "metadata": {},
     "output_type": "execute_result"
    }
   ],
   "source": [
    "movie.pop('views')"
   ]
  },
  {
   "cell_type": "code",
   "execution_count": 289,
   "id": "d49620cf",
   "metadata": {},
   "outputs": [
    {
     "data": {
      "text/plain": [
       "{'name': 'Jungle Book',\n",
       " 'genre': 'adventure',\n",
       " 'imdb-rating': 8.2,\n",
       " 'fun-to-watch': False}"
      ]
     },
     "execution_count": 289,
     "metadata": {},
     "output_type": "execute_result"
    }
   ],
   "source": [
    "movie"
   ]
  },
  {
   "cell_type": "markdown",
   "id": "8acc1164",
   "metadata": {},
   "source": [
    "to view list of keys, use .keys() method"
   ]
  },
  {
   "cell_type": "code",
   "execution_count": 290,
   "id": "0292cdab",
   "metadata": {},
   "outputs": [
    {
     "data": {
      "text/plain": [
       "dict_keys(['name', 'genre', 'imdb-rating', 'fun-to-watch'])"
      ]
     },
     "execution_count": 290,
     "metadata": {},
     "output_type": "execute_result"
    }
   ],
   "source": [
    "movie.keys()"
   ]
  },
  {
   "cell_type": "markdown",
   "id": "322b1e6a",
   "metadata": {},
   "source": [
    "to view list of value, use .values() method"
   ]
  },
  {
   "cell_type": "code",
   "execution_count": 291,
   "id": "8e6f50b2",
   "metadata": {},
   "outputs": [
    {
     "data": {
      "text/plain": [
       "dict_values(['Jungle Book', 'adventure', 8.2, False])"
      ]
     },
     "execution_count": 291,
     "metadata": {},
     "output_type": "execute_result"
    }
   ],
   "source": [
    "movie.values()"
   ]
  },
  {
   "cell_type": "code",
   "execution_count": 292,
   "id": "df5fb6c7",
   "metadata": {},
   "outputs": [
    {
     "data": {
      "text/plain": [
       "dict_keys(['name', 'genre', 'imdb_rating', 'fun_to_watch'])"
      ]
     },
     "execution_count": 292,
     "metadata": {},
     "output_type": "execute_result"
    }
   ],
   "source": [
    "movie1.keys()"
   ]
  },
  {
   "cell_type": "code",
   "execution_count": 293,
   "id": "f35a05b2",
   "metadata": {},
   "outputs": [
    {
     "data": {
      "text/plain": [
       "dict_values(['Inception', 'thriller', 8.9, True])"
      ]
     },
     "execution_count": 293,
     "metadata": {},
     "output_type": "execute_result"
    }
   ],
   "source": [
    "movie1.values()"
   ]
  },
  {
   "cell_type": "markdown",
   "id": "16ca882f",
   "metadata": {},
   "source": [
    "with .items() method, can view key-value seprated with commas in a list"
   ]
  },
  {
   "cell_type": "code",
   "execution_count": 294,
   "id": "3912aadb",
   "metadata": {},
   "outputs": [
    {
     "data": {
      "text/plain": [
       "dict_items([('name', 'Jungle Book'), ('genre', 'adventure'), ('imdb-rating', 8.2), ('fun-to-watch', False)])"
      ]
     },
     "execution_count": 294,
     "metadata": {},
     "output_type": "execute_result"
    }
   ],
   "source": [
    "movie.items()"
   ]
  },
  {
   "cell_type": "code",
   "execution_count": 295,
   "id": "a997dad2",
   "metadata": {},
   "outputs": [
    {
     "data": {
      "text/plain": [
       "dict_items([('name', 'Inception'), ('genre', 'thriller'), ('imdb_rating', 8.9), ('fun_to_watch', True)])"
      ]
     },
     "execution_count": 295,
     "metadata": {},
     "output_type": "execute_result"
    }
   ],
   "source": [
    "movie1.items()"
   ]
  },
  {
   "cell_type": "markdown",
   "id": "d61ed46d",
   "metadata": {},
   "source": [
    ".items() method doesn't support indexing operator [] to retrieve elements"
   ]
  },
  {
   "cell_type": "code",
   "execution_count": 296,
   "id": "8bac21d0",
   "metadata": {},
   "outputs": [
    {
     "ename": "TypeError",
     "evalue": "'dict_items' object is not subscriptable",
     "output_type": "error",
     "traceback": [
      "\u001b[1;31m---------------------------------------------------------------------------\u001b[0m",
      "\u001b[1;31mTypeError\u001b[0m                                 Traceback (most recent call last)",
      "\u001b[1;32m~\\AppData\\Local\\Temp\\ipykernel_12100\\2133807492.py\u001b[0m in \u001b[0;36m<module>\u001b[1;34m\u001b[0m\n\u001b[1;32m----> 1\u001b[1;33m \u001b[0mmovie\u001b[0m\u001b[1;33m.\u001b[0m\u001b[0mitems\u001b[0m\u001b[1;33m(\u001b[0m\u001b[1;33m)\u001b[0m\u001b[1;33m[\u001b[0m\u001b[1;36m1\u001b[0m\u001b[1;33m]\u001b[0m\u001b[1;33m\u001b[0m\u001b[1;33m\u001b[0m\u001b[0m\n\u001b[0m",
      "\u001b[1;31mTypeError\u001b[0m: 'dict_items' object is not subscriptable"
     ]
    }
   ],
   "source": [
    "movie.items()[1]"
   ]
  },
  {
   "cell_type": "markdown",
   "id": "97d40f66",
   "metadata": {},
   "source": [
    ".copy() method returns a copy of the dictionary"
   ]
  },
  {
   "cell_type": "code",
   "execution_count": 305,
   "id": "690bec33",
   "metadata": {},
   "outputs": [],
   "source": [
    "movie_copy = movie.copy()"
   ]
  },
  {
   "cell_type": "code",
   "execution_count": 306,
   "id": "78af84cb",
   "metadata": {},
   "outputs": [
    {
     "data": {
      "text/plain": [
       "{}"
      ]
     },
     "execution_count": 306,
     "metadata": {},
     "output_type": "execute_result"
    }
   ],
   "source": [
    "movie_copy"
   ]
  },
  {
   "cell_type": "code",
   "execution_count": 307,
   "id": "66319247",
   "metadata": {},
   "outputs": [],
   "source": [
    "movie = {\n",
    "     'name': 'Jungle Book',\n",
    "     'genre': 'adventure',\n",
    "     'imdb-rating': 8.2,\n",
    "     'fun-to-watch': False\n",
    "}"
   ]
  },
  {
   "cell_type": "code",
   "execution_count": 308,
   "id": "f85c2209",
   "metadata": {},
   "outputs": [
    {
     "data": {
      "text/plain": [
       "{'name': 'Jungle Book',\n",
       " 'genre': 'adventure',\n",
       " 'imdb-rating': 8.2,\n",
       " 'fun-to-watch': False}"
      ]
     },
     "execution_count": 308,
     "metadata": {},
     "output_type": "execute_result"
    }
   ],
   "source": [
    "movie"
   ]
  },
  {
   "cell_type": "code",
   "execution_count": 309,
   "id": "107d43d2",
   "metadata": {},
   "outputs": [],
   "source": [
    "movie_copy = movie.copy()"
   ]
  },
  {
   "cell_type": "code",
   "execution_count": 310,
   "id": "926ba61e",
   "metadata": {},
   "outputs": [
    {
     "data": {
      "text/plain": [
       "{'name': 'Jungle Book',\n",
       " 'genre': 'adventure',\n",
       " 'imdb-rating': 8.2,\n",
       " 'fun-to-watch': False}"
      ]
     },
     "execution_count": 310,
     "metadata": {},
     "output_type": "execute_result"
    }
   ],
   "source": [
    "movie_copy"
   ]
  },
  {
   "cell_type": "code",
   "execution_count": 311,
   "id": "900ab0af",
   "metadata": {},
   "outputs": [
    {
     "data": {
      "text/plain": [
       "{'name': 'Jungle Book',\n",
       " 'genre': 'adventure',\n",
       " 'imdb-rating': 8.2,\n",
       " 'fun-to-watch': False}"
      ]
     },
     "execution_count": 311,
     "metadata": {},
     "output_type": "execute_result"
    }
   ],
   "source": [
    "movie"
   ]
  },
  {
   "cell_type": "markdown",
   "id": "d664cfcb",
   "metadata": {},
   "source": [
    ".clear() method removed all elements from dictionary"
   ]
  },
  {
   "cell_type": "code",
   "execution_count": 312,
   "id": "7b0c58e2",
   "metadata": {},
   "outputs": [],
   "source": [
    "movie.clear()"
   ]
  },
  {
   "cell_type": "code",
   "execution_count": 313,
   "id": "6f4df965",
   "metadata": {},
   "outputs": [
    {
     "data": {
      "text/plain": [
       "{}"
      ]
     },
     "execution_count": 313,
     "metadata": {},
     "output_type": "execute_result"
    }
   ],
   "source": [
    "movie"
   ]
  },
  {
   "cell_type": "code",
   "execution_count": 314,
   "id": "a5568dc0",
   "metadata": {},
   "outputs": [
    {
     "data": {
      "text/plain": [
       "{'name': 'Jungle Book',\n",
       " 'genre': 'adventure',\n",
       " 'imdb-rating': 8.2,\n",
       " 'fun-to-watch': False}"
      ]
     },
     "execution_count": 314,
     "metadata": {},
     "output_type": "execute_result"
    }
   ],
   "source": [
    "movie_copy"
   ]
  },
  {
   "cell_type": "markdown",
   "id": "dc55eb22",
   "metadata": {},
   "source": [
    ".fromkeys() method returns a dictionary with specified keys and the specified value"
   ]
  },
  {
   "cell_type": "code",
   "execution_count": 324,
   "id": "50960b2c",
   "metadata": {},
   "outputs": [],
   "source": [
    "movie_1 = dict.fromkeys(('k1', 'k2', 'k3'), True)"
   ]
  },
  {
   "cell_type": "code",
   "execution_count": 325,
   "id": "a7fd83b9",
   "metadata": {},
   "outputs": [
    {
     "data": {
      "text/plain": [
       "{'k1': True, 'k2': True, 'k3': True}"
      ]
     },
     "execution_count": 325,
     "metadata": {},
     "output_type": "execute_result"
    }
   ],
   "source": [
    "movie_1"
   ]
  },
  {
   "cell_type": "markdown",
   "id": "cb072aa4",
   "metadata": {},
   "source": [
    "Return a dictionary with keys 'maths', 'phy', 'chem' with common value 75"
   ]
  },
  {
   "cell_type": "code",
   "execution_count": 326,
   "id": "27ed7b79",
   "metadata": {},
   "outputs": [],
   "source": [
    "marks = dict.fromkeys(('maths', 'phy', 'chem'), 75)"
   ]
  },
  {
   "cell_type": "code",
   "execution_count": 327,
   "id": "d2338273",
   "metadata": {},
   "outputs": [
    {
     "data": {
      "text/plain": [
       "{'maths': 75, 'phy': 75, 'chem': 75}"
      ]
     },
     "execution_count": 327,
     "metadata": {},
     "output_type": "execute_result"
    }
   ],
   "source": [
    "marks"
   ]
  },
  {
   "cell_type": "markdown",
   "id": "af39f119",
   "metadata": {},
   "source": [
    "Return a dictionary with keys 'a','b','c' with no value"
   ]
  },
  {
   "cell_type": "code",
   "execution_count": 329,
   "id": "b47821b0",
   "metadata": {},
   "outputs": [],
   "source": [
    "dict1 = dict.fromkeys(('a','b','c'))"
   ]
  },
  {
   "cell_type": "code",
   "execution_count": 330,
   "id": "6cecee39",
   "metadata": {},
   "outputs": [
    {
     "data": {
      "text/plain": [
       "{'a': None, 'b': None, 'c': None}"
      ]
     },
     "execution_count": 330,
     "metadata": {},
     "output_type": "execute_result"
    }
   ],
   "source": [
    "dict1"
   ]
  },
  {
   "cell_type": "markdown",
   "id": "f46a2cc9",
   "metadata": {},
   "source": [
    ".popitem() removes the last key-value pair and return removed key-value"
   ]
  },
  {
   "cell_type": "code",
   "execution_count": 332,
   "id": "e6d7978b",
   "metadata": {},
   "outputs": [
    {
     "data": {
      "text/plain": [
       "{'maths': 75, 'phy': 75, 'chem': 75}"
      ]
     },
     "execution_count": 332,
     "metadata": {},
     "output_type": "execute_result"
    }
   ],
   "source": [
    "marks"
   ]
  },
  {
   "cell_type": "code",
   "execution_count": 333,
   "id": "cc2fe04d",
   "metadata": {},
   "outputs": [
    {
     "data": {
      "text/plain": [
       "('chem', 75)"
      ]
     },
     "execution_count": 333,
     "metadata": {},
     "output_type": "execute_result"
    }
   ],
   "source": [
    "marks.popitem()"
   ]
  },
  {
   "cell_type": "code",
   "execution_count": 334,
   "id": "75b42edb",
   "metadata": {},
   "outputs": [
    {
     "data": {
      "text/plain": [
       "{'maths': 75, 'phy': 75}"
      ]
     },
     "execution_count": 334,
     "metadata": {},
     "output_type": "execute_result"
    }
   ],
   "source": [
    "marks"
   ]
  },
  {
   "cell_type": "markdown",
   "id": "7bcf5467",
   "metadata": {},
   "source": [
    ".setdefault() method returns value of specified key, if key is available in dict, if it's not then it will insert the key with specified value"
   ]
  },
  {
   "cell_type": "code",
   "execution_count": 337,
   "id": "777e60e9",
   "metadata": {},
   "outputs": [
    {
     "data": {
      "text/plain": [
       "75"
      ]
     },
     "execution_count": 337,
     "metadata": {},
     "output_type": "execute_result"
    }
   ],
   "source": [
    "marks.setdefault('maths', 70)"
   ]
  },
  {
   "cell_type": "code",
   "execution_count": 336,
   "id": "b249df50",
   "metadata": {},
   "outputs": [
    {
     "data": {
      "text/plain": [
       "75"
      ]
     },
     "execution_count": 336,
     "metadata": {},
     "output_type": "execute_result"
    }
   ],
   "source": [
    "marks1"
   ]
  },
  {
   "cell_type": "code",
   "execution_count": 341,
   "id": "a4a59259",
   "metadata": {},
   "outputs": [
    {
     "data": {
      "text/plain": [
       "80"
      ]
     },
     "execution_count": 341,
     "metadata": {},
     "output_type": "execute_result"
    }
   ],
   "source": [
    "marks.setdefault('economics', 80)"
   ]
  },
  {
   "cell_type": "code",
   "execution_count": 342,
   "id": "01fe821c",
   "metadata": {},
   "outputs": [
    {
     "data": {
      "text/plain": [
       "{'maths': 75, 'phy': 75, 'economics': 80}"
      ]
     },
     "execution_count": 342,
     "metadata": {},
     "output_type": "execute_result"
    }
   ],
   "source": [
    "marks"
   ]
  },
  {
   "cell_type": "code",
   "execution_count": 343,
   "id": "0263dd54",
   "metadata": {},
   "outputs": [
    {
     "data": {
      "text/plain": [
       "75"
      ]
     },
     "execution_count": 343,
     "metadata": {},
     "output_type": "execute_result"
    }
   ],
   "source": [
    "marks.setdefault('maths', 80)"
   ]
  },
  {
   "cell_type": "code",
   "execution_count": 344,
   "id": "976e9d1d",
   "metadata": {},
   "outputs": [],
   "source": [
    "marks.setdefault('hindi')"
   ]
  },
  {
   "cell_type": "code",
   "execution_count": 345,
   "id": "11faeb1b",
   "metadata": {},
   "outputs": [
    {
     "data": {
      "text/plain": [
       "{'maths': 75, 'phy': 75, 'economics': 80, 'hindi': None}"
      ]
     },
     "execution_count": 345,
     "metadata": {},
     "output_type": "execute_result"
    }
   ],
   "source": [
    "marks"
   ]
  },
  {
   "cell_type": "code",
   "execution_count": 346,
   "id": "5b511d0c",
   "metadata": {},
   "outputs": [],
   "source": [
    "marks.get('hindi', 80)"
   ]
  },
  {
   "cell_type": "code",
   "execution_count": 347,
   "id": "5e754c74",
   "metadata": {},
   "outputs": [
    {
     "data": {
      "text/plain": [
       "{'maths': 75, 'phy': 75, 'economics': 80, 'hindi': None}"
      ]
     },
     "execution_count": 347,
     "metadata": {},
     "output_type": "execute_result"
    }
   ],
   "source": [
    "marks"
   ]
  },
  {
   "cell_type": "code",
   "execution_count": 348,
   "id": "3fa4b36a",
   "metadata": {},
   "outputs": [],
   "source": [
    "marks.setdefault('hindi', 80)"
   ]
  },
  {
   "cell_type": "code",
   "execution_count": 349,
   "id": "66f5d448",
   "metadata": {},
   "outputs": [
    {
     "data": {
      "text/plain": [
       "{'maths': 75, 'phy': 75, 'economics': 80, 'hindi': None}"
      ]
     },
     "execution_count": 349,
     "metadata": {},
     "output_type": "execute_result"
    }
   ],
   "source": [
    "marks"
   ]
  },
  {
   "cell_type": "code",
   "execution_count": 350,
   "id": "3b7933e2",
   "metadata": {},
   "outputs": [],
   "source": [
    "marks.get('hindi', 80)"
   ]
  },
  {
   "cell_type": "code",
   "execution_count": 351,
   "id": "5ba4e05f",
   "metadata": {},
   "outputs": [
    {
     "data": {
      "text/plain": [
       "{'maths': 75, 'phy': 75, 'economics': 80, 'hindi': None}"
      ]
     },
     "execution_count": 351,
     "metadata": {},
     "output_type": "execute_result"
    }
   ],
   "source": [
    "marks"
   ]
  },
  {
   "cell_type": "code",
   "execution_count": 352,
   "id": "0bbc2c27",
   "metadata": {},
   "outputs": [
    {
     "data": {
      "text/plain": [
       "80"
      ]
     },
     "execution_count": 352,
     "metadata": {},
     "output_type": "execute_result"
    }
   ],
   "source": [
    "marks.setdefault('eng', 80)"
   ]
  },
  {
   "cell_type": "code",
   "execution_count": 353,
   "id": "b6687301",
   "metadata": {},
   "outputs": [
    {
     "data": {
      "text/plain": [
       "{'maths': 75, 'phy': 75, 'economics': 80, 'hindi': None, 'eng': 80}"
      ]
     },
     "execution_count": 353,
     "metadata": {},
     "output_type": "execute_result"
    }
   ],
   "source": [
    "marks"
   ]
  },
  {
   "cell_type": "markdown",
   "id": "b25452b3",
   "metadata": {},
   "source": []
  },
  {
   "cell_type": "raw",
   "id": "8e0554bc",
   "metadata": {},
   "source": []
  },
  {
   "cell_type": "markdown",
   "id": "6036d292",
   "metadata": {},
   "source": []
  }
 ],
 "metadata": {
  "kernelspec": {
   "display_name": "Python 3 (ipykernel)",
   "language": "python",
   "name": "python3"
  },
  "language_info": {
   "codemirror_mode": {
    "name": "ipython",
    "version": 3
   },
   "file_extension": ".py",
   "mimetype": "text/x-python",
   "name": "python",
   "nbconvert_exporter": "python",
   "pygments_lexer": "ipython3",
   "version": "3.9.13"
  }
 },
 "nbformat": 4,
 "nbformat_minor": 5
}
