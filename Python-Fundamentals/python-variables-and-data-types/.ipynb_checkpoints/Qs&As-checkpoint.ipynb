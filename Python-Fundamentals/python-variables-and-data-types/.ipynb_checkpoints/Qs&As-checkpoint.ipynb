{
 "cells": [
  {
   "cell_type": "markdown",
   "id": "79087041",
   "metadata": {},
   "source": [
    "# Questions on Variables and Data Types"
   ]
  },
  {
   "cell_type": "markdown",
   "id": "de0bc7d3",
   "metadata": {},
   "source": [
    "1. What is a variable in Python?"
   ]
  },
  {
   "cell_type": "markdown",
   "id": "a6764a70",
   "metadata": {},
   "source": [
    "variable is an object which can contain different kinds of data types, example int, floats, strings, mathematical expressions, boolean, list, tuple, dictionary etc."
   ]
  },
  {
   "cell_type": "markdown",
   "id": "4f675553",
   "metadata": {},
   "source": [
    "2. How do you create a variable?"
   ]
  },
  {
   "cell_type": "markdown",
   "id": "23d1f2db",
   "metadata": {},
   "source": [
    "it can be created by decalring a variable name and assigning value to it by assignment operator"
   ]
  },
  {
   "cell_type": "markdown",
   "id": "685daae8",
   "metadata": {},
   "source": [
    "3. How do you check the value within a variable?"
   ]
  },
  {
   "cell_type": "markdown",
   "id": "ed968887",
   "metadata": {},
   "source": [
    "we can check the value with print function and its data type can  be checked with type function"
   ]
  },
  {
   "cell_type": "markdown",
   "id": "13fd4641",
   "metadata": {},
   "source": [
    "4. How do you create multiple variables in a single statement?"
   ]
  },
  {
   "cell_type": "code",
   "execution_count": 3,
   "id": "29de9663",
   "metadata": {},
   "outputs": [],
   "source": [
    "x, y, z = 2, 3, 4"
   ]
  },
  {
   "cell_type": "code",
   "execution_count": 4,
   "id": "7e1dc45d",
   "metadata": {},
   "outputs": [
    {
     "data": {
      "text/plain": [
       "2"
      ]
     },
     "execution_count": 4,
     "metadata": {},
     "output_type": "execute_result"
    }
   ],
   "source": [
    "x"
   ]
  },
  {
   "cell_type": "code",
   "execution_count": 5,
   "id": "309d4800",
   "metadata": {},
   "outputs": [
    {
     "data": {
      "text/plain": [
       "3"
      ]
     },
     "execution_count": 5,
     "metadata": {},
     "output_type": "execute_result"
    }
   ],
   "source": [
    "y"
   ]
  },
  {
   "cell_type": "code",
   "execution_count": 6,
   "id": "6fa20a8e",
   "metadata": {},
   "outputs": [
    {
     "data": {
      "text/plain": [
       "4"
      ]
     },
     "execution_count": 6,
     "metadata": {},
     "output_type": "execute_result"
    }
   ],
   "source": [
    "z"
   ]
  },
  {
   "cell_type": "markdown",
   "id": "5618f50c",
   "metadata": {},
   "source": [
    "5. How do you create multiple variables with the same value?"
   ]
  },
  {
   "cell_type": "code",
   "execution_count": 16,
   "id": "1cef7d37",
   "metadata": {},
   "outputs": [],
   "source": [
    "a = b = c = 2"
   ]
  },
  {
   "cell_type": "code",
   "execution_count": 17,
   "id": "cb167575",
   "metadata": {},
   "outputs": [
    {
     "data": {
      "text/plain": [
       "2"
      ]
     },
     "execution_count": 17,
     "metadata": {},
     "output_type": "execute_result"
    }
   ],
   "source": [
    "a"
   ]
  },
  {
   "cell_type": "code",
   "execution_count": 18,
   "id": "faa54cbd",
   "metadata": {},
   "outputs": [
    {
     "data": {
      "text/plain": [
       "2"
      ]
     },
     "execution_count": 18,
     "metadata": {},
     "output_type": "execute_result"
    }
   ],
   "source": [
    "b"
   ]
  },
  {
   "cell_type": "code",
   "execution_count": 19,
   "id": "a0254020",
   "metadata": {},
   "outputs": [
    {
     "data": {
      "text/plain": [
       "2"
      ]
     },
     "execution_count": 19,
     "metadata": {},
     "output_type": "execute_result"
    }
   ],
   "source": [
    "c"
   ]
  },
  {
   "cell_type": "markdown",
   "id": "d602b65b",
   "metadata": {},
   "source": [
    "6. How do you change the value of a variable?"
   ]
  },
  {
   "cell_type": "code",
   "execution_count": 20,
   "id": "1601e3cb",
   "metadata": {},
   "outputs": [
    {
     "data": {
      "text/plain": [
       "2"
      ]
     },
     "execution_count": 20,
     "metadata": {},
     "output_type": "execute_result"
    }
   ],
   "source": [
    "a"
   ]
  },
  {
   "cell_type": "code",
   "execution_count": 21,
   "id": "8741e709",
   "metadata": {},
   "outputs": [],
   "source": [
    "a = 5"
   ]
  },
  {
   "cell_type": "code",
   "execution_count": 22,
   "id": "12eb2fe2",
   "metadata": {},
   "outputs": [
    {
     "data": {
      "text/plain": [
       "5"
      ]
     },
     "execution_count": 22,
     "metadata": {},
     "output_type": "execute_result"
    }
   ],
   "source": [
    "a"
   ]
  },
  {
   "cell_type": "markdown",
   "id": "fddca682",
   "metadata": {},
   "source": [
    "7. How do you reassign a variable by modifying the previous value?"
   ]
  },
  {
   "cell_type": "code",
   "execution_count": 23,
   "id": "afc59eb1",
   "metadata": {},
   "outputs": [
    {
     "data": {
      "text/plain": [
       "5"
      ]
     },
     "execution_count": 23,
     "metadata": {},
     "output_type": "execute_result"
    }
   ],
   "source": [
    "a"
   ]
  },
  {
   "cell_type": "code",
   "execution_count": 24,
   "id": "2f4bb621",
   "metadata": {},
   "outputs": [],
   "source": [
    "a += 5"
   ]
  },
  {
   "cell_type": "code",
   "execution_count": 25,
   "id": "ef5f4a1b",
   "metadata": {},
   "outputs": [
    {
     "data": {
      "text/plain": [
       "10"
      ]
     },
     "execution_count": 25,
     "metadata": {},
     "output_type": "execute_result"
    }
   ],
   "source": [
    "a"
   ]
  },
  {
   "cell_type": "markdown",
   "id": "86c098dc",
   "metadata": {},
   "source": [
    "8. What does the statement counter += 4 do?"
   ]
  },
  {
   "cell_type": "markdown",
   "id": "c4602464",
   "metadata": {},
   "source": [
    "it will add 4 with the value of counter and reassigns the value to counter"
   ]
  },
  {
   "cell_type": "code",
   "execution_count": 27,
   "id": "8a5b5f06",
   "metadata": {},
   "outputs": [],
   "source": [
    "counter = 2"
   ]
  },
  {
   "cell_type": "code",
   "execution_count": 28,
   "id": "f1e8eb62",
   "metadata": {},
   "outputs": [],
   "source": [
    "counter += 4"
   ]
  },
  {
   "cell_type": "code",
   "execution_count": 29,
   "id": "7b595bba",
   "metadata": {},
   "outputs": [
    {
     "data": {
      "text/plain": [
       "6"
      ]
     },
     "execution_count": 29,
     "metadata": {},
     "output_type": "execute_result"
    }
   ],
   "source": [
    "counter"
   ]
  },
  {
   "cell_type": "markdown",
   "id": "c5f23907",
   "metadata": {},
   "source": [
    "9. What are the rules for naming a variable?"
   ]
  },
  {
   "cell_type": "markdown",
   "id": "a2e45f37",
   "metadata": {},
   "source": [
    "it should start with an alphabet, it can be small case or upper case"
   ]
  },
  {
   "cell_type": "markdown",
   "id": "9d8d2dad",
   "metadata": {},
   "source": [
    "10. Are variable names case-sensitive? Do a_variable, A_Variable, and A_VARIABLE represent the same variable or different ones?"
   ]
  },
  {
   "cell_type": "markdown",
   "id": "e67a81d8",
   "metadata": {},
   "source": [
    "diff variables they are"
   ]
  },
  {
   "cell_type": "markdown",
   "id": "3fb4274a",
   "metadata": {},
   "source": [
    "11. What is Syntax? Why is it important?\n",
    "12. What happens if you execute a statement with invalid syntax?"
   ]
  },
  {
   "cell_type": "markdown",
   "id": "dc536785",
   "metadata": {},
   "source": [
    "Syntax is a set of rules which interpreter can understand while executing the code, it will throw an error when it encounters syntax error"
   ]
  },
  {
   "cell_type": "markdown",
   "id": "fbcc35fa",
   "metadata": {},
   "source": [
    "13. How do you check the data type of a variable?"
   ]
  },
  {
   "cell_type": "code",
   "execution_count": 39,
   "id": "32713a67",
   "metadata": {},
   "outputs": [
    {
     "name": "stdout",
     "output_type": "stream",
     "text": [
      "<class 'int'>\n"
     ]
    }
   ],
   "source": [
    "#with type function\n",
    "a = 3\n",
    "print(type(a))"
   ]
  },
  {
   "cell_type": "code",
   "execution_count": 40,
   "id": "a6267d62",
   "metadata": {},
   "outputs": [
    {
     "name": "stdout",
     "output_type": "stream",
     "text": [
      "Object `Python` not found.\n"
     ]
    }
   ],
   "source": [
    "14. What are the built-in data types in Python?"
   ]
  },
  {
   "cell_type": "code",
   "execution_count": null,
   "id": "140cd3df",
   "metadata": {},
   "outputs": [],
   "source": [
    "14. What are the built-in data types in Python"
   ]
  },
  {
   "cell_type": "code",
   "execution_count": 41,
   "id": "1a43325c",
   "metadata": {},
   "outputs": [
    {
     "data": {
      "text/plain": [
       "'\\nint\\nfloat\\nstr\\nlist\\ntuple\\ndict\\nbool\\n'"
      ]
     },
     "execution_count": 41,
     "metadata": {},
     "output_type": "execute_result"
    }
   ],
   "source": [
    "\"\"\"\n",
    "int\n",
    "float\n",
    "str\n",
    "list\n",
    "tuple\n",
    "dict\n",
    "bool\n",
    "\"\"\""
   ]
  },
  {
   "cell_type": "markdown",
   "id": "ddd4170c",
   "metadata": {},
   "source": [
    "15. What is a primitive data type?"
   ]
  },
  {
   "cell_type": "code",
   "execution_count": 42,
   "id": "029d3ffe",
   "metadata": {},
   "outputs": [],
   "source": [
    "# It is basic data type from which other data types are created"
   ]
  },
  {
   "cell_type": "markdown",
   "id": "81dc8f4a",
   "metadata": {},
   "source": [
    "What are the primitive data types available in Python?"
   ]
  },
  {
   "cell_type": "code",
   "execution_count": 43,
   "id": "01cbd293",
   "metadata": {},
   "outputs": [],
   "source": [
    "#int\n",
    "#float\n",
    "#string\n",
    "#bool"
   ]
  },
  {
   "cell_type": "markdown",
   "id": "fd5438c2",
   "metadata": {},
   "source": [
    "# What happens if you try to use a boolean in arithmetic operation?"
   ]
  },
  {
   "cell_type": "code",
   "execution_count": 1,
   "id": "6c9ec1b9",
   "metadata": {},
   "outputs": [
    {
     "data": {
      "text/plain": [
       "9"
      ]
     },
     "execution_count": 1,
     "metadata": {},
     "output_type": "execute_result"
    }
   ],
   "source": [
    "1 + 7 + True"
   ]
  },
  {
   "cell_type": "code",
   "execution_count": 2,
   "id": "36a7ef3e",
   "metadata": {},
   "outputs": [
    {
     "data": {
      "text/plain": [
       "3"
      ]
     },
     "execution_count": 2,
     "metadata": {},
     "output_type": "execute_result"
    }
   ],
   "source": [
    "1 * False +3"
   ]
  },
  {
   "cell_type": "markdown",
   "id": "67b668fa",
   "metadata": {},
   "source": [
    "# How can any value in Python be covered to a boolean? "
   ]
  },
  {
   "cell_type": "code",
   "execution_count": 3,
   "id": "3976e4db",
   "metadata": {},
   "outputs": [
    {
     "data": {
      "text/plain": [
       "True"
      ]
     },
     "execution_count": 3,
     "metadata": {},
     "output_type": "execute_result"
    }
   ],
   "source": [
    "bool(5)"
   ]
  },
  {
   "cell_type": "code",
   "execution_count": 4,
   "id": "bdc0b4be",
   "metadata": {},
   "outputs": [
    {
     "data": {
      "text/plain": [
       "False"
      ]
     },
     "execution_count": 4,
     "metadata": {},
     "output_type": "execute_result"
    }
   ],
   "source": [
    "bool(0)"
   ]
  },
  {
   "cell_type": "code",
   "execution_count": 5,
   "id": "01f45884",
   "metadata": {},
   "outputs": [
    {
     "data": {
      "text/plain": [
       "True"
      ]
     },
     "execution_count": 5,
     "metadata": {},
     "output_type": "execute_result"
    }
   ],
   "source": [
    "bool(' ')"
   ]
  },
  {
   "cell_type": "markdown",
   "id": "ad629627",
   "metadata": {},
   "source": [
    "# How do you check the length of a string?"
   ]
  },
  {
   "cell_type": "code",
   "execution_count": 42,
   "id": "cf47e5cd",
   "metadata": {},
   "outputs": [],
   "source": [
    "str4 = 'hello '"
   ]
  },
  {
   "cell_type": "code",
   "execution_count": 43,
   "id": "4bf3a816",
   "metadata": {},
   "outputs": [
    {
     "data": {
      "text/plain": [
       "6"
      ]
     },
     "execution_count": 43,
     "metadata": {},
     "output_type": "execute_result"
    }
   ],
   "source": [
    "len(str4)"
   ]
  },
  {
   "cell_type": "markdown",
   "id": "a252f4e3",
   "metadata": {},
   "source": [
    "# How do you convert a string into a list of characters?"
   ]
  },
  {
   "cell_type": "code",
   "execution_count": 9,
   "id": "4dc0d59f",
   "metadata": {},
   "outputs": [],
   "source": [
    "str1 = 'h,e,l,l,o'"
   ]
  },
  {
   "cell_type": "code",
   "execution_count": 10,
   "id": "de22fede",
   "metadata": {},
   "outputs": [
    {
     "data": {
      "text/plain": [
       "['h', 'e', 'l', 'l', 'o']"
      ]
     },
     "execution_count": 10,
     "metadata": {},
     "output_type": "execute_result"
    }
   ],
   "source": [
    "str1.split(',')"
   ]
  },
  {
   "cell_type": "markdown",
   "id": "08b6a5ff",
   "metadata": {},
   "source": [
    "# How do you access a specific character from a string?"
   ]
  },
  {
   "cell_type": "code",
   "execution_count": 11,
   "id": "64abab15",
   "metadata": {},
   "outputs": [
    {
     "data": {
      "text/plain": [
       "'h'"
      ]
     },
     "execution_count": 11,
     "metadata": {},
     "output_type": "execute_result"
    }
   ],
   "source": [
    "str1[0]"
   ]
  },
  {
   "cell_type": "code",
   "execution_count": 12,
   "id": "8b5d2b20",
   "metadata": {},
   "outputs": [
    {
     "data": {
      "text/plain": [
       "'e'"
      ]
     },
     "execution_count": 12,
     "metadata": {},
     "output_type": "execute_result"
    }
   ],
   "source": [
    "str1[2]"
   ]
  },
  {
   "cell_type": "markdown",
   "id": "ed2cfbb6",
   "metadata": {},
   "source": [
    "# How do you access a range of characters from a string?"
   ]
  },
  {
   "cell_type": "code",
   "execution_count": 13,
   "id": "1ad4a81a",
   "metadata": {},
   "outputs": [
    {
     "data": {
      "text/plain": [
       "',e,'"
      ]
     },
     "execution_count": 13,
     "metadata": {},
     "output_type": "execute_result"
    }
   ],
   "source": [
    "str1[1:4]"
   ]
  },
  {
   "cell_type": "markdown",
   "id": "009b46da",
   "metadata": {},
   "source": [
    "# How do you check if a specific character occurs in a string?"
   ]
  },
  {
   "cell_type": "code",
   "execution_count": 14,
   "id": "fc0bfcaf",
   "metadata": {},
   "outputs": [
    {
     "data": {
      "text/plain": [
       "True"
      ]
     },
     "execution_count": 14,
     "metadata": {},
     "output_type": "execute_result"
    }
   ],
   "source": [
    "'h' in str1"
   ]
  },
  {
   "cell_type": "markdown",
   "id": "44f70fdd",
   "metadata": {},
   "source": [
    "# How do you check if a smaller string occurs within a bigger string?"
   ]
  },
  {
   "cell_type": "code",
   "execution_count": null,
   "id": "618b0872",
   "metadata": {},
   "outputs": [],
   "source": []
  },
  {
   "cell_type": "code",
   "execution_count": 47,
   "id": "51c024cd",
   "metadata": {},
   "outputs": [
    {
     "data": {
      "text/plain": [
       "False"
      ]
     },
     "execution_count": 47,
     "metadata": {},
     "output_type": "execute_result"
    }
   ],
   "source": [
    "'hell' in str"
   ]
  },
  {
   "cell_type": "markdown",
   "id": "5c6bbfdc",
   "metadata": {},
   "source": [
    "# How do you join two or more strings?"
   ]
  },
  {
   "cell_type": "code",
   "execution_count": 19,
   "id": "78b047be",
   "metadata": {},
   "outputs": [
    {
     "data": {
      "text/plain": [
       "'hello h,e,l,l,o'"
      ]
     },
     "execution_count": 19,
     "metadata": {},
     "output_type": "execute_result"
    }
   ],
   "source": [
    "str + str1"
   ]
  },
  {
   "cell_type": "markdown",
   "id": "24469d2b",
   "metadata": {},
   "source": [
    "# What do the .lower, .upper and .capitalize methods on strings do?"
   ]
  },
  {
   "cell_type": "code",
   "execution_count": 20,
   "id": "a7523b41",
   "metadata": {},
   "outputs": [
    {
     "data": {
      "text/plain": [
       "'hello '"
      ]
     },
     "execution_count": 20,
     "metadata": {},
     "output_type": "execute_result"
    }
   ],
   "source": [
    "str"
   ]
  },
  {
   "cell_type": "code",
   "execution_count": 21,
   "id": "e670b58c",
   "metadata": {},
   "outputs": [],
   "source": [
    "str = 'heLLo'"
   ]
  },
  {
   "cell_type": "code",
   "execution_count": 22,
   "id": "daa82102",
   "metadata": {},
   "outputs": [
    {
     "data": {
      "text/plain": [
       "'hello'"
      ]
     },
     "execution_count": 22,
     "metadata": {},
     "output_type": "execute_result"
    }
   ],
   "source": [
    "str.lower()"
   ]
  },
  {
   "cell_type": "code",
   "execution_count": 23,
   "id": "6182b8a6",
   "metadata": {},
   "outputs": [
    {
     "data": {
      "text/plain": [
       "'HELLO'"
      ]
     },
     "execution_count": 23,
     "metadata": {},
     "output_type": "execute_result"
    }
   ],
   "source": [
    "str.upper()"
   ]
  },
  {
   "cell_type": "code",
   "execution_count": 24,
   "id": "f3de9fd1",
   "metadata": {},
   "outputs": [
    {
     "data": {
      "text/plain": [
       "'Hello'"
      ]
     },
     "execution_count": 24,
     "metadata": {},
     "output_type": "execute_result"
    }
   ],
   "source": [
    "str.capitalize()"
   ]
  },
  {
   "cell_type": "markdown",
   "id": "376bab01",
   "metadata": {},
   "source": [
    "#  How do you replace a specific part of a string with something else?"
   ]
  },
  {
   "cell_type": "code",
   "execution_count": 25,
   "id": "4f344455",
   "metadata": {},
   "outputs": [
    {
     "data": {
      "text/plain": [
       "'kheLLo'"
      ]
     },
     "execution_count": 25,
     "metadata": {},
     "output_type": "execute_result"
    }
   ],
   "source": [
    "str.replace('h', 'kh')"
   ]
  },
  {
   "cell_type": "markdown",
   "id": "252781be",
   "metadata": {},
   "source": [
    "# How do you split the string \"Sun,Mon,Tue,Wed,Thu,Fri,Sat\" into a list of days?"
   ]
  },
  {
   "cell_type": "code",
   "execution_count": 26,
   "id": "0e573e49",
   "metadata": {},
   "outputs": [],
   "source": [
    "str2 = \"Sun,Mon,Tue,Wed,Thu,Fri,Sat\""
   ]
  },
  {
   "cell_type": "code",
   "execution_count": 27,
   "id": "56d32b3d",
   "metadata": {},
   "outputs": [
    {
     "data": {
      "text/plain": [
       "['Sun', 'Mon', 'Tue', 'Wed', 'Thu', 'Fri', 'Sat']"
      ]
     },
     "execution_count": 27,
     "metadata": {},
     "output_type": "execute_result"
    }
   ],
   "source": [
    "str2.split(',')"
   ]
  },
  {
   "cell_type": "markdown",
   "id": "885a294c",
   "metadata": {},
   "source": [
    "# How do you remove whitespace from the beginning and end of a string?"
   ]
  },
  {
   "cell_type": "code",
   "execution_count": 28,
   "id": "53f8100d",
   "metadata": {},
   "outputs": [],
   "source": [
    "str3 = '    jjjj   kkk   '"
   ]
  },
  {
   "cell_type": "code",
   "execution_count": 29,
   "id": "2bde5404",
   "metadata": {},
   "outputs": [
    {
     "data": {
      "text/plain": [
       "'jjjj   kkk'"
      ]
     },
     "execution_count": 29,
     "metadata": {},
     "output_type": "execute_result"
    }
   ],
   "source": [
    "str3.strip()"
   ]
  },
  {
   "cell_type": "markdown",
   "id": "83c12a8c",
   "metadata": {},
   "source": [
    "# What is the string .format method used for? Can you give an example?"
   ]
  },
  {
   "cell_type": "code",
   "execution_count": 30,
   "id": "9635868a",
   "metadata": {},
   "outputs": [],
   "source": [
    "cost_of_1_pencil = 2\n",
    "num_of_pencil = 10\n",
    "total_cost = 'total cost of {} pencils is {}, when 1 pencil costs {}'"
   ]
  },
  {
   "cell_type": "code",
   "execution_count": 31,
   "id": "9fe57c4b",
   "metadata": {},
   "outputs": [
    {
     "data": {
      "text/plain": [
       "'total cost of 10 pencils is 20, when 1 pencil costs 2'"
      ]
     },
     "execution_count": 31,
     "metadata": {},
     "output_type": "execute_result"
    }
   ],
   "source": [
    "total_cost.format(num_of_pencil, cost_of_1_pencil* num_of_pencil, cost_of_1_pencil)"
   ]
  },
  {
   "cell_type": "markdown",
   "id": "045679b6",
   "metadata": {},
   "source": [
    "# How do you convert a value of another type to a string?"
   ]
  },
  {
   "cell_type": "code",
   "execution_count": 34,
   "id": "a57ae53f",
   "metadata": {},
   "outputs": [],
   "source": [
    "num = 2"
   ]
  },
  {
   "cell_type": "code",
   "execution_count": 41,
   "id": "42fb7a64",
   "metadata": {},
   "outputs": [
    {
     "data": {
      "text/plain": [
       "'heLLo'"
      ]
     },
     "execution_count": 41,
     "metadata": {},
     "output_type": "execute_result"
    }
   ],
   "source": [
    "str"
   ]
  },
  {
   "cell_type": "code",
   "execution_count": null,
   "id": "e68a68fb",
   "metadata": {},
   "outputs": [],
   "source": []
  }
 ],
 "metadata": {
  "kernelspec": {
   "display_name": "Python 3 (ipykernel)",
   "language": "python",
   "name": "python3"
  },
  "language_info": {
   "codemirror_mode": {
    "name": "ipython",
    "version": 3
   },
   "file_extension": ".py",
   "mimetype": "text/x-python",
   "name": "python",
   "nbconvert_exporter": "python",
   "pygments_lexer": "ipython3",
   "version": "3.9.13"
  }
 },
 "nbformat": 4,
 "nbformat_minor": 5
}
