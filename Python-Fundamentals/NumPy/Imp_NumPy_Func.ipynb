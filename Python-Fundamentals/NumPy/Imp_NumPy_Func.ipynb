{
 "cells": [
  {
   "cell_type": "markdown",
   "id": "6e29a92d",
   "metadata": {},
   "source": [
    "# Some Important NumPy Functions"
   ]
  },
  {
   "cell_type": "markdown",
   "id": "22ae8f1d",
   "metadata": {},
   "source": [
    "## numpy.count_nonzero"
   ]
  },
  {
   "cell_type": "markdown",
   "id": "0b999b6f",
   "metadata": {},
   "source": [
    "### numpy.count_nonzero(a, axis=None, *, keepdims=False)"
   ]
  },
  {
   "cell_type": "markdown",
   "id": "e1dfce0f",
   "metadata": {},
   "source": [
    "counts the number of non-zero values in array a"
   ]
  },
  {
   "cell_type": "markdown",
   "id": "bd6c40b2",
   "metadata": {},
   "source": [
    "Paramters: a: array for which to count non-zeros\n",
    "           axis: int or tuple, optional\n",
    "           keepdims: bool, optional\n",
    "           \n",
    "Returns: count: int or array of int"
   ]
  },
  {
   "cell_type": "markdown",
   "id": "5fd092cd",
   "metadata": {},
   "source": [
    "## Examples:"
   ]
  },
  {
   "cell_type": "code",
   "execution_count": 1,
   "id": "50960078",
   "metadata": {},
   "outputs": [],
   "source": [
    "import numpy as np"
   ]
  },
  {
   "cell_type": "code",
   "execution_count": 2,
   "id": "53b16cae",
   "metadata": {},
   "outputs": [],
   "source": [
    "a = np.eye(4)"
   ]
  },
  {
   "cell_type": "code",
   "execution_count": 3,
   "id": "5ce3cb33",
   "metadata": {},
   "outputs": [
    {
     "data": {
      "text/plain": [
       "array([[1., 0., 0., 0.],\n",
       "       [0., 1., 0., 0.],\n",
       "       [0., 0., 1., 0.],\n",
       "       [0., 0., 0., 1.]])"
      ]
     },
     "execution_count": 3,
     "metadata": {},
     "output_type": "execute_result"
    }
   ],
   "source": [
    "a"
   ]
  },
  {
   "cell_type": "code",
   "execution_count": 4,
   "id": "45c78c98",
   "metadata": {},
   "outputs": [
    {
     "data": {
      "text/plain": [
       "4"
      ]
     },
     "execution_count": 4,
     "metadata": {},
     "output_type": "execute_result"
    }
   ],
   "source": [
    "np.count_nonzero(a)"
   ]
  },
  {
   "cell_type": "code",
   "execution_count": 5,
   "id": "4fc30434",
   "metadata": {},
   "outputs": [
    {
     "data": {
      "text/plain": [
       "array([1, 1, 1, 1], dtype=int64)"
      ]
     },
     "execution_count": 5,
     "metadata": {},
     "output_type": "execute_result"
    }
   ],
   "source": [
    "np.count_nonzero(a, axis=0)"
   ]
  },
  {
   "cell_type": "code",
   "execution_count": 6,
   "id": "2c06670c",
   "metadata": {},
   "outputs": [
    {
     "data": {
      "text/plain": [
       "array([1, 1, 1, 1], dtype=int64)"
      ]
     },
     "execution_count": 6,
     "metadata": {},
     "output_type": "execute_result"
    }
   ],
   "source": [
    "np.count_nonzero(a, axis=1)"
   ]
  },
  {
   "cell_type": "code",
   "execution_count": 7,
   "id": "8fee87c9",
   "metadata": {},
   "outputs": [],
   "source": [
    "b = np.array([[0,1,0,2],\n",
    "              [1,2,0,1],\n",
    "              [0,0,0,1],\n",
    "              [1,0,0,0]])"
   ]
  },
  {
   "cell_type": "code",
   "execution_count": 8,
   "id": "4aa355ab",
   "metadata": {},
   "outputs": [
    {
     "data": {
      "text/plain": [
       "7"
      ]
     },
     "execution_count": 8,
     "metadata": {},
     "output_type": "execute_result"
    }
   ],
   "source": [
    "np.count_nonzero(b)"
   ]
  },
  {
   "cell_type": "code",
   "execution_count": 9,
   "id": "cea6a3a2",
   "metadata": {},
   "outputs": [
    {
     "data": {
      "text/plain": [
       "array([2, 2, 0, 3], dtype=int64)"
      ]
     },
     "execution_count": 9,
     "metadata": {},
     "output_type": "execute_result"
    }
   ],
   "source": [
    "np.count_nonzero(b,axis=0)"
   ]
  },
  {
   "cell_type": "code",
   "execution_count": 10,
   "id": "86e96186",
   "metadata": {},
   "outputs": [
    {
     "data": {
      "text/plain": [
       "array([[2, 2, 0, 3]], dtype=int64)"
      ]
     },
     "execution_count": 10,
     "metadata": {},
     "output_type": "execute_result"
    }
   ],
   "source": [
    "np.count_nonzero(b, axis=0, keepdims=True)"
   ]
  },
  {
   "cell_type": "code",
   "execution_count": 11,
   "id": "6399c806",
   "metadata": {},
   "outputs": [
    {
     "data": {
      "text/plain": [
       "array([2, 2, 0, 3], dtype=int64)"
      ]
     },
     "execution_count": 11,
     "metadata": {},
     "output_type": "execute_result"
    }
   ],
   "source": [
    "np.count_nonzero(b,axis=0,keepdims=False)"
   ]
  },
  {
   "cell_type": "code",
   "execution_count": 12,
   "id": "4714dd2f",
   "metadata": {},
   "outputs": [],
   "source": [
    "import numpy as np"
   ]
  },
  {
   "cell_type": "code",
   "execution_count": 13,
   "id": "aed251a2",
   "metadata": {},
   "outputs": [
    {
     "data": {
      "text/plain": [
       "array([2, 3, 1, 1], dtype=int64)"
      ]
     },
     "execution_count": 13,
     "metadata": {},
     "output_type": "execute_result"
    }
   ],
   "source": [
    "np.count_nonzero(b, axis=1, keepdims=False)"
   ]
  },
  {
   "cell_type": "code",
   "execution_count": 14,
   "id": "7d12f0d3",
   "metadata": {},
   "outputs": [
    {
     "data": {
      "text/plain": [
       "array([[2],\n",
       "       [3],\n",
       "       [1],\n",
       "       [1]], dtype=int64)"
      ]
     },
     "execution_count": 14,
     "metadata": {},
     "output_type": "execute_result"
    }
   ],
   "source": [
    "np.count_nonzero(b, axis=1, keepdims=True)"
   ]
  },
  {
   "cell_type": "code",
   "execution_count": 15,
   "id": "101a3df9",
   "metadata": {},
   "outputs": [],
   "source": [
    "c = np.array([[[1,2,0],[0,1,9],[1,0,0]],\n",
    "              [[0,1,1],[1,2,0],[0,0,0]],\n",
    "              [[0,1,0],[0,0,0],[1,1,1]]])"
   ]
  },
  {
   "cell_type": "code",
   "execution_count": 16,
   "id": "bfe7e44c",
   "metadata": {},
   "outputs": [
    {
     "data": {
      "text/plain": [
       "(3, 3, 3)"
      ]
     },
     "execution_count": 16,
     "metadata": {},
     "output_type": "execute_result"
    }
   ],
   "source": [
    "c.shape"
   ]
  },
  {
   "cell_type": "code",
   "execution_count": 17,
   "id": "a6d30273",
   "metadata": {},
   "outputs": [
    {
     "data": {
      "text/plain": [
       "13"
      ]
     },
     "execution_count": 17,
     "metadata": {},
     "output_type": "execute_result"
    }
   ],
   "source": [
    "np.count_nonzero(c)"
   ]
  },
  {
   "cell_type": "code",
   "execution_count": 18,
   "id": "084ca7af",
   "metadata": {},
   "outputs": [
    {
     "data": {
      "text/plain": [
       "array([[[2],\n",
       "        [2],\n",
       "        [1]],\n",
       "\n",
       "       [[2],\n",
       "        [2],\n",
       "        [0]],\n",
       "\n",
       "       [[1],\n",
       "        [0],\n",
       "        [3]]], dtype=int64)"
      ]
     },
     "execution_count": 18,
     "metadata": {},
     "output_type": "execute_result"
    }
   ],
   "source": [
    "np.count_nonzero(c, axis=2, keepdims=True)"
   ]
  },
  {
   "cell_type": "code",
   "execution_count": 19,
   "id": "e5b423b1",
   "metadata": {},
   "outputs": [
    {
     "data": {
      "text/plain": [
       "array([[[1, 3, 1],\n",
       "        [1, 2, 1],\n",
       "        [2, 1, 1]]], dtype=int64)"
      ]
     },
     "execution_count": 19,
     "metadata": {},
     "output_type": "execute_result"
    }
   ],
   "source": [
    "np.count_nonzero(c, axis=0,keepdims=True)"
   ]
  },
  {
   "cell_type": "code",
   "execution_count": 20,
   "id": "b7e1f5f2",
   "metadata": {},
   "outputs": [
    {
     "data": {
      "text/plain": [
       "array([[[2, 2, 1]],\n",
       "\n",
       "       [[1, 2, 1]],\n",
       "\n",
       "       [[1, 2, 1]]], dtype=int64)"
      ]
     },
     "execution_count": 20,
     "metadata": {},
     "output_type": "execute_result"
    }
   ],
   "source": [
    "np.count_nonzero(c,axis=1,keepdims=True)"
   ]
  },
  {
   "cell_type": "code",
   "execution_count": 21,
   "id": "9303bcf7",
   "metadata": {},
   "outputs": [
    {
     "data": {
      "text/plain": [
       "(3, 3, 3)"
      ]
     },
     "execution_count": 21,
     "metadata": {},
     "output_type": "execute_result"
    }
   ],
   "source": [
    "c.shape"
   ]
  },
  {
   "cell_type": "code",
   "execution_count": 22,
   "id": "d181c890",
   "metadata": {},
   "outputs": [],
   "source": [
    "x = np.array([1,2])"
   ]
  },
  {
   "cell_type": "code",
   "execution_count": 23,
   "id": "6d256e25",
   "metadata": {},
   "outputs": [
    {
     "data": {
      "text/plain": [
       "(2,)"
      ]
     },
     "execution_count": 23,
     "metadata": {},
     "output_type": "execute_result"
    }
   ],
   "source": [
    "x.shape"
   ]
  },
  {
   "cell_type": "code",
   "execution_count": 24,
   "id": "64156d47",
   "metadata": {},
   "outputs": [],
   "source": [
    "x = np.array([[1,2],[1,2]])"
   ]
  },
  {
   "cell_type": "code",
   "execution_count": 25,
   "id": "f1dbfbd0",
   "metadata": {},
   "outputs": [
    {
     "data": {
      "text/plain": [
       "array([[1, 2],\n",
       "       [1, 2]])"
      ]
     },
     "execution_count": 25,
     "metadata": {},
     "output_type": "execute_result"
    }
   ],
   "source": [
    "x"
   ]
  },
  {
   "cell_type": "code",
   "execution_count": 26,
   "id": "0ce1717c",
   "metadata": {},
   "outputs": [],
   "source": [
    "a = np.array([[[1,2],[1,2],[1,2]]])"
   ]
  },
  {
   "cell_type": "code",
   "execution_count": 27,
   "id": "04889a87",
   "metadata": {},
   "outputs": [
    {
     "data": {
      "text/plain": [
       "array([[[1, 2],\n",
       "        [1, 2],\n",
       "        [1, 2]]])"
      ]
     },
     "execution_count": 27,
     "metadata": {},
     "output_type": "execute_result"
    }
   ],
   "source": [
    "a"
   ]
  },
  {
   "cell_type": "code",
   "execution_count": 28,
   "id": "6218b3b5",
   "metadata": {},
   "outputs": [
    {
     "data": {
      "text/plain": [
       "(1, 3, 2)"
      ]
     },
     "execution_count": 28,
     "metadata": {},
     "output_type": "execute_result"
    }
   ],
   "source": [
    "a.shape"
   ]
  },
  {
   "cell_type": "code",
   "execution_count": 29,
   "id": "2f838329",
   "metadata": {},
   "outputs": [
    {
     "data": {
      "text/plain": [
       "array([0, 1, 2, 3, 4, 5, 6, 7, 8, 9])"
      ]
     },
     "execution_count": 29,
     "metadata": {},
     "output_type": "execute_result"
    }
   ],
   "source": [
    "np.arange(10)"
   ]
  },
  {
   "cell_type": "code",
   "execution_count": 30,
   "id": "0fca8fca",
   "metadata": {},
   "outputs": [],
   "source": [
    "y = np.arange(100).reshape(4,5,5)"
   ]
  },
  {
   "cell_type": "code",
   "execution_count": 31,
   "id": "8ae65793",
   "metadata": {},
   "outputs": [
    {
     "data": {
      "text/plain": [
       "array([[[ 0,  1,  2,  3,  4],\n",
       "        [ 5,  6,  7,  8,  9],\n",
       "        [10, 11, 12, 13, 14],\n",
       "        [15, 16, 17, 18, 19],\n",
       "        [20, 21, 22, 23, 24]],\n",
       "\n",
       "       [[25, 26, 27, 28, 29],\n",
       "        [30, 31, 32, 33, 34],\n",
       "        [35, 36, 37, 38, 39],\n",
       "        [40, 41, 42, 43, 44],\n",
       "        [45, 46, 47, 48, 49]],\n",
       "\n",
       "       [[50, 51, 52, 53, 54],\n",
       "        [55, 56, 57, 58, 59],\n",
       "        [60, 61, 62, 63, 64],\n",
       "        [65, 66, 67, 68, 69],\n",
       "        [70, 71, 72, 73, 74]],\n",
       "\n",
       "       [[75, 76, 77, 78, 79],\n",
       "        [80, 81, 82, 83, 84],\n",
       "        [85, 86, 87, 88, 89],\n",
       "        [90, 91, 92, 93, 94],\n",
       "        [95, 96, 97, 98, 99]]])"
      ]
     },
     "execution_count": 31,
     "metadata": {},
     "output_type": "execute_result"
    }
   ],
   "source": [
    "y"
   ]
  },
  {
   "cell_type": "code",
   "execution_count": 32,
   "id": "67094433",
   "metadata": {},
   "outputs": [
    {
     "data": {
      "text/plain": [
       "array([[[4],\n",
       "        [5],\n",
       "        [5],\n",
       "        [5],\n",
       "        [5]],\n",
       "\n",
       "       [[5],\n",
       "        [5],\n",
       "        [5],\n",
       "        [5],\n",
       "        [5]],\n",
       "\n",
       "       [[5],\n",
       "        [5],\n",
       "        [5],\n",
       "        [5],\n",
       "        [5]],\n",
       "\n",
       "       [[5],\n",
       "        [5],\n",
       "        [5],\n",
       "        [5],\n",
       "        [5]]], dtype=int64)"
      ]
     },
     "execution_count": 32,
     "metadata": {},
     "output_type": "execute_result"
    }
   ],
   "source": [
    "np.count_nonzero(y,axis=2,keepdims=True)"
   ]
  },
  {
   "cell_type": "code",
   "execution_count": 33,
   "id": "32605fa4",
   "metadata": {},
   "outputs": [],
   "source": [
    "z = np.array(\n",
    "      [[[0,  1,  2,  0,  4],\n",
    "        [5,  6,  7,  0,  9],\n",
    "        [10, 11, 12, 0, 14],\n",
    "        [0, 16, 0, 18, 19],\n",
    "        [0, 21, 0, 23, 0]],\n",
    "\n",
    "       [[0, 26, 27, 0, 29],\n",
    "        [30, 0, 0, 33, 0],\n",
    "        [35, 36, 37, 38, 39],\n",
    "        [40, 41, 42, 0, 44],\n",
    "        [45, 0, 47, 48, 0]],\n",
    "\n",
    "       [[50, 0, 52, 0, 54],\n",
    "        [55, 56, 57, 58, 59],\n",
    "        [60, 61, 0, 0, 64],\n",
    "        [65, 0, 67, 68, 69],\n",
    "        [70, 71, 72, 73, 74]],\n",
    "\n",
    "       [[75, 0, 77, 0, 79],\n",
    "        [80, 0, 82, 0, 84],\n",
    "        [85, 86, 0, 88, 89],\n",
    "        [90, 91, 92, 93, 94],\n",
    "        [95, 96, 97, 98, 99]]])"
   ]
  },
  {
   "cell_type": "code",
   "execution_count": 34,
   "id": "2e2f49d5",
   "metadata": {},
   "outputs": [
    {
     "ename": "NameError",
     "evalue": "name 'array' is not defined",
     "output_type": "error",
     "traceback": [
      "\u001b[1;31m---------------------------------------------------------------------------\u001b[0m",
      "\u001b[1;31mNameError\u001b[0m                                 Traceback (most recent call last)",
      "\u001b[1;32m~\\AppData\\Local\\Temp\\ipykernel_1700\\2334678633.py\u001b[0m in \u001b[0;36m<module>\u001b[1;34m\u001b[0m\n\u001b[1;32m----> 1\u001b[1;33m array([[[2,4,4,3,3],\n\u001b[0m\u001b[0;32m      2\u001b[0m         \u001b[1;33m[\u001b[0m\u001b[1;36m2\u001b[0m\u001b[1;33m,\u001b[0m\u001b[1;36m2\u001b[0m\u001b[1;33m,\u001b[0m\u001b[1;36m4\u001b[0m\u001b[1;33m,\u001b[0m\u001b[1;36m3\u001b[0m\u001b[1;33m,\u001b[0m\u001b[1;36m3\u001b[0m\u001b[1;33m]\u001b[0m\u001b[1;33m,\u001b[0m\u001b[1;33m\u001b[0m\u001b[1;33m\u001b[0m\u001b[0m\n\u001b[0;32m      3\u001b[0m         \u001b[1;33m[\u001b[0m\u001b[1;36m4\u001b[0m\u001b[1;33m,\u001b[0m\u001b[1;36m3\u001b[0m\u001b[1;33m,\u001b[0m\u001b[1;36m2\u001b[0m\u001b[1;33m,\u001b[0m\u001b[1;36m3\u001b[0m\u001b[1;33m,\u001b[0m\u001b[1;36m3\u001b[0m\u001b[1;33m]\u001b[0m\u001b[1;33m,\u001b[0m\u001b[1;33m\u001b[0m\u001b[1;33m\u001b[0m\u001b[0m\n\u001b[0;32m      4\u001b[0m         \u001b[1;33m[\u001b[0m\u001b[1;36m0\u001b[0m\u001b[1;33m,\u001b[0m\u001b[1;36m2\u001b[0m\u001b[1;33m,\u001b[0m\u001b[1;36m2\u001b[0m\u001b[1;33m,\u001b[0m\u001b[1;36m3\u001b[0m\u001b[1;33m,\u001b[0m\u001b[1;36m4\u001b[0m\u001b[1;33m]\u001b[0m\u001b[1;33m,\u001b[0m\u001b[1;33m\u001b[0m\u001b[1;33m\u001b[0m\u001b[0m\n\u001b[0;32m      5\u001b[0m         [4,3,4,4,2]]])\n",
      "\u001b[1;31mNameError\u001b[0m: name 'array' is not defined"
     ]
    }
   ],
   "source": [
    "array([[[2,4,4,3,3],\n",
    "        [2,2,4,3,3],\n",
    "        [4,3,2,3,3],\n",
    "        [0,2,2,3,4],\n",
    "        [4,3,4,4,2]]])"
   ]
  },
  {
   "cell_type": "code",
   "execution_count": null,
   "id": "12377d52",
   "metadata": {},
   "outputs": [],
   "source": [
    "np.count_nonzero(z, axis=0, keepdims=True)"
   ]
  },
  {
   "cell_type": "code",
   "execution_count": null,
   "id": "7b1c7f76",
   "metadata": {},
   "outputs": [],
   "source": [
    "np.count_nonzero(z, axis=1, keepdims=True)"
   ]
  },
  {
   "cell_type": "markdown",
   "id": "62dc2f70",
   "metadata": {},
   "source": [
    "# numpy.mean"
   ]
  },
  {
   "cell_type": "markdown",
   "id": "22f20250",
   "metadata": {},
   "source": [
    "## numpy.mean(a, axis=None, dtype=None, out=None, keepdims=<no value>, *, where=<no value>)"
   ]
  },
  {
   "cell_type": "markdown",
   "id": "e1b0b1ee",
   "metadata": {},
   "source": [
    "this function computes the arithmetic mean along the specified axis"
   ]
  },
  {
   "cell_type": "markdown",
   "id": "2324c917",
   "metadata": {},
   "source": [
    "It returns average of flattened array by default otherwise along the specified axis\n"
   ]
  },
  {
   "cell_type": "markdown",
   "id": "d0ac6286",
   "metadata": {},
   "source": [
    "Parameters--\n",
    "   1. a: array\n",
    "   2. axis: None or int or tuple of ints, optional\n",
    "   3. dtype: data-type, optional,type to use in computing the mean, for integer inputs default is float64, for floating inputs it is same as the input dtype\n",
    "   4. out: ndarray, optional\n",
    "           alternate output array in which to place the result\n",
    "           default is None, if provided, must have same shape as the expected output\n",
    "   5. keepdims: bool, optional\n",
    "                if set to True, axes which are reduced are left in the result\n",
    "   6. where: array of bool, optional\n",
    "   \n",
    "It returns a new array containing mean values, otherwise a reference to the output array is returned"
   ]
  },
  {
   "cell_type": "markdown",
   "id": "d118b34a",
   "metadata": {},
   "source": [
    "## Examples:"
   ]
  },
  {
   "cell_type": "code",
   "execution_count": null,
   "id": "be13da0a",
   "metadata": {},
   "outputs": [],
   "source": [
    "import numpy as np"
   ]
  },
  {
   "cell_type": "code",
   "execution_count": null,
   "id": "d4949f0a",
   "metadata": {},
   "outputs": [],
   "source": [
    "a = np.array([[1, 2], [3, 4]])"
   ]
  },
  {
   "cell_type": "code",
   "execution_count": null,
   "id": "ffd3b6f0",
   "metadata": {},
   "outputs": [],
   "source": [
    "np.mean(a)"
   ]
  },
  {
   "cell_type": "code",
   "execution_count": null,
   "id": "561c280b",
   "metadata": {},
   "outputs": [],
   "source": [
    "np.mean(a, axis=0)"
   ]
  },
  {
   "cell_type": "code",
   "execution_count": null,
   "id": "8be2fa86",
   "metadata": {},
   "outputs": [],
   "source": [
    "np.mean(a, axis=1)"
   ]
  },
  {
   "cell_type": "markdown",
   "id": "aa5684ae",
   "metadata": {},
   "source": [
    "in single precision, mean can be inaccurate"
   ]
  },
  {
   "cell_type": "code",
   "execution_count": null,
   "id": "59a7201e",
   "metadata": {},
   "outputs": [],
   "source": [
    "a = np.zeros((2, 512*512), dtype=np.float32)"
   ]
  },
  {
   "cell_type": "code",
   "execution_count": null,
   "id": "1654ccd2",
   "metadata": {},
   "outputs": [],
   "source": [
    "a"
   ]
  },
  {
   "cell_type": "code",
   "execution_count": null,
   "id": "50abb49e",
   "metadata": {},
   "outputs": [],
   "source": [
    "a[0, :] = 1.0\n",
    "a[1, :] = 0.1"
   ]
  },
  {
   "cell_type": "code",
   "execution_count": null,
   "id": "4e43cf54",
   "metadata": {},
   "outputs": [],
   "source": [
    "np.mean(a)"
   ]
  },
  {
   "cell_type": "code",
   "execution_count": null,
   "id": "5bc5f0df",
   "metadata": {},
   "outputs": [],
   "source": [
    "a[0, :]"
   ]
  },
  {
   "cell_type": "code",
   "execution_count": null,
   "id": "5e000c84",
   "metadata": {},
   "outputs": [],
   "source": [
    "a[1, :]"
   ]
  },
  {
   "cell_type": "markdown",
   "id": "abe13468",
   "metadata": {},
   "source": [
    "computing the mean in float64 is accurate"
   ]
  },
  {
   "cell_type": "code",
   "execution_count": null,
   "id": "7bf4a5cf",
   "metadata": {},
   "outputs": [],
   "source": [
    "np.mean(a, dtype=np.float64)"
   ]
  },
  {
   "cell_type": "markdown",
   "id": "0810d73d",
   "metadata": {},
   "source": [
    "specifying a where argument"
   ]
  },
  {
   "cell_type": "code",
   "execution_count": null,
   "id": "51e2ea7e",
   "metadata": {},
   "outputs": [],
   "source": [
    "a = np.array([[5, 9, 13], [14, 10, 12], [11, 15, 19]])\n",
    "np.mean(a)"
   ]
  },
  {
   "cell_type": "code",
   "execution_count": null,
   "id": "bac859c3",
   "metadata": {},
   "outputs": [],
   "source": [
    "np.mean(a, where=[[True], [False], [False]])"
   ]
  },
  {
   "cell_type": "code",
   "execution_count": null,
   "id": "547f8b33",
   "metadata": {},
   "outputs": [],
   "source": [
    "np.mean(a, where=[[False], [True], [False]])"
   ]
  },
  {
   "cell_type": "code",
   "execution_count": null,
   "id": "771c9c24",
   "metadata": {},
   "outputs": [],
   "source": [
    "np.mean(a, where=[[False], [False], [True]])"
   ]
  },
  {
   "cell_type": "code",
   "execution_count": null,
   "id": "8c0d3b4a",
   "metadata": {},
   "outputs": [],
   "source": [
    "np.mean(a, where=[[True], [True], [False]], dtype=np.float64, axis=0)"
   ]
  },
  {
   "cell_type": "code",
   "execution_count": null,
   "id": "88ba359c",
   "metadata": {},
   "outputs": [],
   "source": [
    "a"
   ]
  },
  {
   "cell_type": "code",
   "execution_count": null,
   "id": "fb03dca2",
   "metadata": {},
   "outputs": [],
   "source": [
    "np.mean(a, out=None)"
   ]
  },
  {
   "cell_type": "markdown",
   "id": "be8f8a85",
   "metadata": {},
   "source": [
    "# numpy.maximum"
   ]
  },
  {
   "cell_type": "markdown",
   "id": "29bb1389",
   "metadata": {},
   "source": [
    "element wise maximum of array elements"
   ]
  },
  {
   "cell_type": "markdown",
   "id": "e189ecd8",
   "metadata": {},
   "source": [
    "compares 2 arrays and returns new array containing the element-wise maxima"
   ]
  },
  {
   "cell_type": "markdown",
   "id": "4501d70c",
   "metadata": {},
   "source": [
    "parameters:\n",
    "1. x1, x2 -> array to compare\n",
    "2. out -> ndarray, None or tuple of ndarray and None, optional\n",
    "3. where-> array, optional\n",
    "\n",
    "returns array or scalar"
   ]
  },
  {
   "cell_type": "markdown",
   "id": "c642502b",
   "metadata": {},
   "source": [
    "## Example"
   ]
  },
  {
   "cell_type": "code",
   "execution_count": null,
   "id": "e685bde8",
   "metadata": {},
   "outputs": [],
   "source": [
    "np.maximum([1,0,1], [1,1,2])"
   ]
  },
  {
   "cell_type": "code",
   "execution_count": null,
   "id": "120ad767",
   "metadata": {},
   "outputs": [],
   "source": [
    "np.maximum(np.eye(3),[2,3,4])"
   ]
  },
  {
   "cell_type": "code",
   "execution_count": null,
   "id": "7236e3b6",
   "metadata": {},
   "outputs": [],
   "source": [
    "np.maximum([np.nan, 0, np.nan],[1,1,np.nan])"
   ]
  },
  {
   "cell_type": "code",
   "execution_count": null,
   "id": "ce0f5965",
   "metadata": {},
   "outputs": [],
   "source": [
    "np.maximum(np.inf,1)"
   ]
  },
  {
   "cell_type": "code",
   "execution_count": null,
   "id": "98caa088",
   "metadata": {},
   "outputs": [],
   "source": [
    "np.maximum([1,2,4],[1,2,3], out=[np.float64,np.float64,np.float64])"
   ]
  },
  {
   "cell_type": "markdown",
   "id": "37de3cef",
   "metadata": {},
   "source": [
    "# numpy.fmax"
   ]
  },
  {
   "cell_type": "markdown",
   "id": "85727568",
   "metadata": {},
   "source": [
    "## numpy.fmax(x1, x2, out=None, where=True, casting='same_kind', order='k', dtype=None, subok=True[, signature, extobj])"
   ]
  },
  {
   "cell_type": "markdown",
   "id": "38b7fa71",
   "metadata": {},
   "source": [
    "element wise maximum of array elements"
   ]
  },
  {
   "cell_type": "markdown",
   "id": "131de8f8",
   "metadata": {},
   "source": [
    "compares 2 arrays and returns new array contianing element-wise maxima. If one of the elements being compares is NaN, it returns non-NaN elements. If both elements are NaN, then first is returned. net effect is that NaNs are ignored when possible"
   ]
  },
  {
   "cell_type": "markdown",
   "id": "cf059c7e",
   "metadata": {},
   "source": [
    "# Examples"
   ]
  },
  {
   "cell_type": "code",
   "execution_count": null,
   "id": "a799288c",
   "metadata": {},
   "outputs": [],
   "source": [
    "a = [1,8, 12]\n",
    "b = [4, 7, 321]\n",
    "max_a_b = np.fmax(a, b)\n",
    "max_a_b"
   ]
  },
  {
   "cell_type": "code",
   "execution_count": null,
   "id": "464799a3",
   "metadata": {},
   "outputs": [],
   "source": [
    "np.fmax([2, 0], [2, 4])"
   ]
  },
  {
   "cell_type": "code",
   "execution_count": null,
   "id": "4d06ddf0",
   "metadata": {},
   "outputs": [],
   "source": [
    "np.eye(2)"
   ]
  },
  {
   "cell_type": "code",
   "execution_count": null,
   "id": "75347584",
   "metadata": {},
   "outputs": [],
   "source": [
    "np.fmax([[2,4],[3,8]],[3,3])"
   ]
  },
  {
   "cell_type": "code",
   "execution_count": null,
   "id": "e0511451",
   "metadata": {},
   "outputs": [],
   "source": [
    "np.fmax([np.nan, 0, np.nan, np.nan], [2, np.nan, 9, np.nan])"
   ]
  },
  {
   "cell_type": "code",
   "execution_count": null,
   "id": "9da22f3d",
   "metadata": {},
   "outputs": [],
   "source": [
    "a = np.array([1, 2, np.nan])\n",
    "b = np.array([3, np.nan, 4])\n",
    "np.fmax(a, b)"
   ]
  },
  {
   "cell_type": "markdown",
   "id": "14652f92",
   "metadata": {},
   "source": [
    "# numpy.minimum"
   ]
  },
  {
   "cell_type": "markdown",
   "id": "f2be4372",
   "metadata": {},
   "source": [
    "element wise minimum of array elements"
   ]
  },
  {
   "cell_type": "markdown",
   "id": "912f7227",
   "metadata": {},
   "source": [
    "compares 2 arrays and returns new array containing element wise minima"
   ]
  },
  {
   "cell_type": "markdown",
   "id": "335159d7",
   "metadata": {},
   "source": [
    "NaNs are propagated"
   ]
  },
  {
   "cell_type": "code",
   "execution_count": null,
   "id": "d64cabaa",
   "metadata": {},
   "outputs": [],
   "source": [
    "np.minimum([2,3,4], [0, -1, 5])"
   ]
  },
  {
   "cell_type": "code",
   "execution_count": null,
   "id": "ebbfd42a",
   "metadata": {},
   "outputs": [],
   "source": [
    "np.minimum([[1,2,0], [0, -2, -4]], [1,2,3])"
   ]
  },
  {
   "cell_type": "code",
   "execution_count": null,
   "id": "377deb54",
   "metadata": {},
   "outputs": [],
   "source": [
    "np.minimum([np.nan, np.inf, np.nan],[1, np.nan, 1])"
   ]
  },
  {
   "cell_type": "code",
   "execution_count": null,
   "id": "94a65a17",
   "metadata": {},
   "outputs": [],
   "source": [
    "np.minimum(-np.inf, -3)"
   ]
  },
  {
   "cell_type": "markdown",
   "id": "9e8b3c4b",
   "metadata": {},
   "source": [
    "# numpy.zeros"
   ]
  },
  {
   "cell_type": "markdown",
   "id": "b9ee7963",
   "metadata": {},
   "source": [
    "## numpy.zeros(shape, dtype=float, order='C', like=None)"
   ]
  },
  {
   "cell_type": "markdown",
   "id": "e0aab1f5",
   "metadata": {},
   "source": [
    "Return a new array of given shape and type, filled with zeros"
   ]
  },
  {
   "cell_type": "markdown",
   "id": "1f52e2fa",
   "metadata": {},
   "source": [
    "parameters:\n",
    "* shape: int or tuple of ints\n",
    "* dtype: data-type, optional, default is numpy.float64\n",
    "* order: {'C','F'}, optional default is 'C' ('C': row-major, 'F': column-major)\n",
    "\n",
    "returns: array of zeros of given shape, order and dtype"
   ]
  },
  {
   "cell_type": "markdown",
   "id": "efdd279d",
   "metadata": {},
   "source": [
    "## Examples"
   ]
  },
  {
   "cell_type": "code",
   "execution_count": null,
   "id": "3299aab3",
   "metadata": {},
   "outputs": [],
   "source": [
    "np.zeros(5)"
   ]
  },
  {
   "cell_type": "code",
   "execution_count": null,
   "id": "330db934",
   "metadata": {},
   "outputs": [],
   "source": [
    "np.zeros((5,), dtype=int)"
   ]
  },
  {
   "cell_type": "code",
   "execution_count": null,
   "id": "57d4f4b0",
   "metadata": {},
   "outputs": [],
   "source": [
    "np.zeros((2,3), dtype=int)"
   ]
  },
  {
   "cell_type": "code",
   "execution_count": null,
   "id": "d037d823",
   "metadata": {},
   "outputs": [],
   "source": [
    "np.zeros((3,), dtype=[('x', 'i4'), ('y', 'i4')])"
   ]
  },
  {
   "cell_type": "code",
   "execution_count": null,
   "id": "b59b6088",
   "metadata": {},
   "outputs": [],
   "source": [
    "np.zeros(2, dtype=[('x','i8'),('y','i8')])"
   ]
  },
  {
   "cell_type": "code",
   "execution_count": null,
   "id": "79ffc2d6",
   "metadata": {},
   "outputs": [],
   "source": [
    "np.zeros(10,dtype=[('x','f8')])"
   ]
  },
  {
   "cell_type": "markdown",
   "id": "eb440828",
   "metadata": {},
   "source": [
    "# numpy.arange"
   ]
  },
  {
   "cell_type": "code",
   "execution_count": null,
   "id": "1aa68648",
   "metadata": {},
   "outputs": [],
   "source": []
  },
  {
   "cell_type": "markdown",
   "id": "2edf3810",
   "metadata": {},
   "source": [
    "# reverse vector"
   ]
  },
  {
   "cell_type": "code",
   "execution_count": null,
   "id": "a885176c",
   "metadata": {},
   "outputs": [],
   "source": [
    "a = np.arange(0,19)"
   ]
  },
  {
   "cell_type": "code",
   "execution_count": null,
   "id": "9353c378",
   "metadata": {},
   "outputs": [],
   "source": [
    "#reverse a\n",
    "a[::-1]"
   ]
  },
  {
   "cell_type": "markdown",
   "id": "c237167b",
   "metadata": {},
   "source": [
    "# numpy.nonzero"
   ]
  },
  {
   "cell_type": "markdown",
   "id": "4c53a439",
   "metadata": {},
   "source": [
    "# numpy.eye"
   ]
  },
  {
   "cell_type": "markdown",
   "id": "84647472",
   "metadata": {},
   "source": [
    "# numpy.random.rand"
   ]
  },
  {
   "cell_type": "markdown",
   "id": "ebe87092",
   "metadata": {},
   "source": [
    "# numpy.random.randn"
   ]
  },
  {
   "cell_type": "markdown",
   "id": "2e63ef4a",
   "metadata": {},
   "source": [
    "# numpy.random.randint"
   ]
  },
  {
   "cell_type": "markdown",
   "id": "8f172b7b",
   "metadata": {},
   "source": [
    "# numpy.unravel_index"
   ]
  },
  {
   "cell_type": "markdown",
   "id": "c550ac73",
   "metadata": {},
   "source": [
    "numpy.unravel_index(indices, shape, order='C')"
   ]
  },
  {
   "cell_type": "code",
   "execution_count": null,
   "id": "8df58e3b",
   "metadata": {
    "scrolled": true
   },
   "outputs": [],
   "source": [
    "import numpy as np\n",
    "np.unravel_index([22,41,37], (7,6))"
   ]
  },
  {
   "cell_type": "code",
   "execution_count": null,
   "id": "40def701",
   "metadata": {},
   "outputs": [],
   "source": [
    "arr = np.zeros((6,7,8))\n",
    "index = np.unravel_index(335, arr.shape)\n",
    "index"
   ]
  },
  {
   "cell_type": "code",
   "execution_count": null,
   "id": "a745ddb9",
   "metadata": {},
   "outputs": [],
   "source": [
    "arr = np.random.randint(0, 100, size=(2, 2, 2))\n",
    "arr"
   ]
  },
  {
   "cell_type": "code",
   "execution_count": null,
   "id": "72be3b09",
   "metadata": {},
   "outputs": [],
   "source": [
    "index = np.unravel_index(7, arr.shape)\n",
    "index"
   ]
  },
  {
   "cell_type": "code",
   "execution_count": null,
   "id": "406a554d",
   "metadata": {},
   "outputs": [],
   "source": [
    "arr = np.random.randint(0, 100, size=(6, 7, 8))\n",
    "index = np.unravel_index(100, arr.shape)\n",
    "index"
   ]
  },
  {
   "cell_type": "code",
   "execution_count": null,
   "id": "9a12fd4b",
   "metadata": {},
   "outputs": [],
   "source": [
    "arr.reshape(336, 1)[100]"
   ]
  },
  {
   "cell_type": "code",
   "execution_count": null,
   "id": "cd9a842a",
   "metadata": {},
   "outputs": [],
   "source": [
    "arr"
   ]
  },
  {
   "cell_type": "markdown",
   "id": "e155b2c7",
   "metadata": {},
   "source": [
    "# numpy.tile(A, reps)"
   ]
  },
  {
   "cell_type": "markdown",
   "id": "9424279c",
   "metadata": {},
   "source": [
    "parameters:\n",
    "* A: input array\n",
    "* reps: number of repitions of A along each axis\n",
    "\n",
    "returns:\n",
    "* tiled output array"
   ]
  },
  {
   "cell_type": "markdown",
   "id": "1ccb163e",
   "metadata": {},
   "source": [
    "## Examples"
   ]
  },
  {
   "cell_type": "code",
   "execution_count": null,
   "id": "7d38b1ff",
   "metadata": {},
   "outputs": [],
   "source": [
    "import numpy as np\n",
    "a = np.array([0, 1, 3, 4, 5])\n",
    "np.tile(a, 2)"
   ]
  },
  {
   "cell_type": "code",
   "execution_count": null,
   "id": "21292dcb",
   "metadata": {},
   "outputs": [],
   "source": [
    "a = np.array([[1,2,3], [4,5,6]])\n",
    "np.tile(a, 3)"
   ]
  },
  {
   "cell_type": "code",
   "execution_count": null,
   "id": "a9db4b0a",
   "metadata": {},
   "outputs": [],
   "source": [
    "a = np.array(['X', ' '])\n",
    "np.tile(a, 8)"
   ]
  },
  {
   "cell_type": "code",
   "execution_count": null,
   "id": "a9867230",
   "metadata": {},
   "outputs": [],
   "source": [
    "a = np.array([['X',' '],\n",
    "              [' ', 'X'],\n",
    "              ['X', ' '],\n",
    "              [' ', 'X'],\n",
    "              ['X', ' '],\n",
    "              [' ', 'X'],])\n",
    "np.tile(a, 3)"
   ]
  },
  {
   "cell_type": "code",
   "execution_count": null,
   "id": "01687e3a",
   "metadata": {},
   "outputs": [],
   "source": [
    "a = np.array([[1, 2], [3, 4]])\n",
    "np.tile(a, (2,1))"
   ]
  },
  {
   "cell_type": "code",
   "execution_count": null,
   "id": "e018400c",
   "metadata": {},
   "outputs": [],
   "source": [
    "np.tile(a, (2,2))"
   ]
  },
  {
   "cell_type": "code",
   "execution_count": null,
   "id": "2ec795f9",
   "metadata": {},
   "outputs": [],
   "source": [
    "np.tile(a, (1,2))"
   ]
  },
  {
   "cell_type": "code",
   "execution_count": null,
   "id": "4b756d5b",
   "metadata": {},
   "outputs": [],
   "source": [
    "np.tile(a, (4,4))"
   ]
  },
  {
   "cell_type": "markdown",
   "id": "b3e0158c",
   "metadata": {},
   "source": [
    "### Q> Create a checkerboard 8x8 matrix using the tile function"
   ]
  },
  {
   "cell_type": "code",
   "execution_count": null,
   "id": "f0c43c79",
   "metadata": {},
   "outputs": [],
   "source": [
    "a = np.array([['X',' '],[' ', 'X']])\n",
    "np.tile(a, (4,4))"
   ]
  },
  {
   "cell_type": "markdown",
   "id": "c948970f",
   "metadata": {},
   "source": [
    "# Normalize a matrix"
   ]
  },
  {
   "cell_type": "markdown",
   "id": "0e11583b",
   "metadata": {},
   "source": [
    "* array divided with sum of all the elements\n",
    "* array divided with max value "
   ]
  },
  {
   "cell_type": "code",
   "execution_count": 35,
   "id": "2906f205",
   "metadata": {},
   "outputs": [
    {
     "data": {
      "text/plain": [
       "array([[0.09090909, 0.12121212],\n",
       "       [0.15151515, 0.18181818],\n",
       "       [0.21212121, 0.24242424]])"
      ]
     },
     "execution_count": 35,
     "metadata": {},
     "output_type": "execute_result"
    }
   ],
   "source": [
    "a = np.array([[3, 4], [5,6], [7, 8]])\n",
    "sum_a = np.sum(a)\n",
    "a_normalize = a / sum_a\n",
    "a_normalize"
   ]
  },
  {
   "cell_type": "code",
   "execution_count": 37,
   "id": "5e919c52",
   "metadata": {},
   "outputs": [
    {
     "data": {
      "text/plain": [
       "array([[0.375, 0.5  ],\n",
       "       [0.625, 0.75 ],\n",
       "       [0.875, 1.   ]])"
      ]
     },
     "execution_count": 37,
     "metadata": {},
     "output_type": "execute_result"
    }
   ],
   "source": [
    "max_a = np.max(a)\n",
    "a_max_normalize = a/max_a\n",
    "a_max_normalize"
   ]
  },
  {
   "cell_type": "markdown",
   "id": "2fce022b",
   "metadata": {},
   "source": [
    "# Create a custom dtype that describes a color as four unsigned bytes (RGBA)"
   ]
  },
  {
   "cell_type": "code",
   "execution_count": 44,
   "id": "00cb972e",
   "metadata": {},
   "outputs": [
    {
     "name": "stderr",
     "output_type": "stream",
     "text": [
      "C:\\Users\\INDIA\\AppData\\Local\\Temp\\ipykernel_1700\\1489744843.py:1: FutureWarning: Passing (type, 1) or '1type' as a synonym of type is deprecated; in a future version of numpy, it will be understood as (type, (1,)) / '(1,)type'.\n",
      "  color = np.dtype([(\"r\", np.ubyte, 1),\n"
     ]
    },
    {
     "data": {
      "text/plain": [
       "dtype([('r', 'u1'), ('g', 'u1'), ('b', 'u1'), ('a', 'u1')])"
      ]
     },
     "execution_count": 44,
     "metadata": {},
     "output_type": "execute_result"
    }
   ],
   "source": [
    "color = np.dtype([(\"r\", np.ubyte, 1),\n",
    "                  (\"g\", np.ubyte, 1),\n",
    "                  (\"b\", np.ubyte, 1),\n",
    "                  (\"a\", np.ubyte, 1)])\n",
    "color"
   ]
  },
  {
   "cell_type": "markdown",
   "id": "ce00be0f",
   "metadata": {},
   "source": [
    "## Given a 1D array, negate all elements which are between 3 and 8, in place"
   ]
  },
  {
   "cell_type": "code",
   "execution_count": 45,
   "id": "8cbc516e",
   "metadata": {},
   "outputs": [
    {
     "data": {
      "text/plain": [
       "array([ 0,  1,  2,  3, -4, -5, -6, -7,  8,  9])"
      ]
     },
     "execution_count": 45,
     "metadata": {},
     "output_type": "execute_result"
    }
   ],
   "source": [
    "a = np.arange(0, 10)\n",
    "a[(a>3)&(a<8)] *= -1\n",
    "a"
   ]
  },
  {
   "cell_type": "markdown",
   "id": "021e7756",
   "metadata": {},
   "source": [
    "### Given a 1D array, negate all elements which are between 30 and 80, in place"
   ]
  },
  {
   "cell_type": "code",
   "execution_count": 46,
   "id": "389f807d",
   "metadata": {},
   "outputs": [
    {
     "data": {
      "text/plain": [
       "array([  0,   1,   2,   3,   4,   5,   6,   7,   8,   9,  10,  11,  12,\n",
       "        13,  14,  15,  16,  17,  18,  19,  20,  21,  22,  23,  24,  25,\n",
       "        26,  27,  28,  29,  30, -31, -32, -33, -34, -35, -36, -37, -38,\n",
       "       -39, -40, -41, -42, -43, -44, -45, -46, -47, -48, -49, -50, -51,\n",
       "       -52, -53, -54, -55, -56, -57, -58, -59, -60, -61, -62, -63, -64,\n",
       "       -65, -66, -67, -68, -69, -70, -71, -72, -73, -74, -75, -76, -77,\n",
       "       -78, -79,  80,  81,  82,  83,  84,  85,  86,  87,  88,  89,  90,\n",
       "        91,  92,  93,  94,  95,  96,  97,  98,  99])"
      ]
     },
     "execution_count": 46,
     "metadata": {},
     "output_type": "execute_result"
    }
   ],
   "source": [
    "a = np.arange(0, 100)\n",
    "a[(a>30)&(a<80)] *= -1\n",
    "a"
   ]
  },
  {
   "cell_type": "markdown",
   "id": "ad5194eb",
   "metadata": {},
   "source": [
    "### Given a 2D array, negate all elements which are between 3 and 8, in place"
   ]
  },
  {
   "cell_type": "code",
   "execution_count": 55,
   "id": "63a97675",
   "metadata": {},
   "outputs": [
    {
     "data": {
      "text/plain": [
       "array([[17, -5, -7, -7, 13, -5, -5, 19,  2, 17,  3, 16,  3,  2, -4,  2,\n",
       "        -7, -7, -7, 19],\n",
       "       [ 1, 17,  3, -5, -7, 10,  2, 12, 11, 14, -4, 13, 18, 17, 16, -6,\n",
       "         8, -7, 19, 18]])"
      ]
     },
     "execution_count": 55,
     "metadata": {},
     "output_type": "execute_result"
    }
   ],
   "source": [
    "a = np.random.randint(0, 20, size=(2,20))\n",
    "a[(a>3) & (a<8)] *= -1\n",
    "a"
   ]
  },
  {
   "cell_type": "markdown",
   "id": "63a1cea1",
   "metadata": {},
   "source": [
    "np.array(0) / np.array(0)"
   ]
  },
  {
   "cell_type": "code",
   "execution_count": 56,
   "id": "3553c0d6",
   "metadata": {},
   "outputs": [
    {
     "name": "stderr",
     "output_type": "stream",
     "text": [
      "C:\\Users\\INDIA\\AppData\\Local\\Temp\\ipykernel_1700\\873513115.py:1: RuntimeWarning: invalid value encountered in divide\n",
      "  np.array(0) / np.array(0)\n"
     ]
    },
    {
     "data": {
      "text/plain": [
       "nan"
      ]
     },
     "execution_count": 56,
     "metadata": {},
     "output_type": "execute_result"
    }
   ],
   "source": [
    "np.array(0) / np.array(0)"
   ]
  },
  {
   "cell_type": "code",
   "execution_count": 57,
   "id": "cce7fa1d",
   "metadata": {},
   "outputs": [
    {
     "name": "stderr",
     "output_type": "stream",
     "text": [
      "C:\\Users\\INDIA\\AppData\\Local\\Temp\\ipykernel_1700\\2018018105.py:1: RuntimeWarning: divide by zero encountered in floor_divide\n",
      "  np.array(0) // np.array(0)\n"
     ]
    },
    {
     "data": {
      "text/plain": [
       "0"
      ]
     },
     "execution_count": 57,
     "metadata": {},
     "output_type": "execute_result"
    }
   ],
   "source": [
    "np.array(0) // np.array(0)"
   ]
  },
  {
   "cell_type": "code",
   "execution_count": 59,
   "id": "ee711904",
   "metadata": {},
   "outputs": [
    {
     "name": "stderr",
     "output_type": "stream",
     "text": [
      "C:\\Users\\INDIA\\AppData\\Local\\Temp\\ipykernel_1700\\3806834155.py:1: RuntimeWarning: invalid value encountered in cast\n",
      "  np.array([np.nan]).astype(float).astype(int)\n"
     ]
    },
    {
     "data": {
      "text/plain": [
       "array([-2147483648])"
      ]
     },
     "execution_count": 59,
     "metadata": {},
     "output_type": "execute_result"
    }
   ],
   "source": [
    "np.array([np.nan]).astype(float).astype(int)"
   ]
  },
  {
   "cell_type": "code",
   "execution_count": 60,
   "id": "3e91e73e",
   "metadata": {},
   "outputs": [
    {
     "name": "stderr",
     "output_type": "stream",
     "text": [
      "C:\\Users\\INDIA\\AppData\\Local\\Temp\\ipykernel_1700\\699728972.py:1: RuntimeWarning: invalid value encountered in cast\n",
      "  np.array([np.nan]).astype(int).astype(float)\n"
     ]
    },
    {
     "data": {
      "text/plain": [
       "array([-2.14748365e+09])"
      ]
     },
     "execution_count": 60,
     "metadata": {},
     "output_type": "execute_result"
    }
   ],
   "source": [
    "np.array([np.nan]).astype(int).astype(float)"
   ]
  },
  {
   "cell_type": "code",
   "execution_count": 61,
   "id": "39133ffd",
   "metadata": {},
   "outputs": [
    {
     "name": "stderr",
     "output_type": "stream",
     "text": [
      "C:\\Users\\INDIA\\AppData\\Local\\Temp\\ipykernel_1700\\3341796633.py:1: RuntimeWarning: invalid value encountered in cast\n",
      "  np.array([np.nan]).astype(int).astype(int)\n"
     ]
    },
    {
     "data": {
      "text/plain": [
       "array([-2147483648])"
      ]
     },
     "execution_count": 61,
     "metadata": {},
     "output_type": "execute_result"
    }
   ],
   "source": [
    "np.array([np.nan]).astype(int).astype(int)"
   ]
  },
  {
   "cell_type": "code",
   "execution_count": 62,
   "id": "d233f961",
   "metadata": {},
   "outputs": [],
   "source": [
    "Z = np.eye(2)"
   ]
  },
  {
   "cell_type": "code",
   "execution_count": 63,
   "id": "7825032c",
   "metadata": {},
   "outputs": [
    {
     "data": {
      "text/plain": [
       "array([[1., 0.],\n",
       "       [0., 1.]])"
      ]
     },
     "execution_count": 63,
     "metadata": {},
     "output_type": "execute_result"
    }
   ],
   "source": [
    "Z"
   ]
  },
  {
   "cell_type": "code",
   "execution_count": 64,
   "id": "13c82595",
   "metadata": {},
   "outputs": [
    {
     "data": {
      "text/plain": [
       "array([[1., 1.],\n",
       "       [1., 1.]])"
      ]
     },
     "execution_count": 64,
     "metadata": {},
     "output_type": "execute_result"
    }
   ],
   "source": [
    "Z ** Z"
   ]
  },
  {
   "cell_type": "code",
   "execution_count": 66,
   "id": "363fc0c7",
   "metadata": {},
   "outputs": [
    {
     "ename": "TypeError",
     "evalue": "ufunc 'left_shift' not supported for the input types, and the inputs could not be safely coerced to any supported types according to the casting rule ''safe''",
     "output_type": "error",
     "traceback": [
      "\u001b[1;31m---------------------------------------------------------------------------\u001b[0m",
      "\u001b[1;31mTypeError\u001b[0m                                 Traceback (most recent call last)",
      "\u001b[1;32m~\\AppData\\Local\\Temp\\ipykernel_1700\\3932684529.py\u001b[0m in \u001b[0;36m<module>\u001b[1;34m\u001b[0m\n\u001b[1;32m----> 1\u001b[1;33m \u001b[1;36m2\u001b[0m \u001b[1;33m<<\u001b[0m \u001b[0mZ\u001b[0m \u001b[1;33m>>\u001b[0m \u001b[1;36m2\u001b[0m\u001b[1;33m\u001b[0m\u001b[1;33m\u001b[0m\u001b[0m\n\u001b[0m",
      "\u001b[1;31mTypeError\u001b[0m: ufunc 'left_shift' not supported for the input types, and the inputs could not be safely coerced to any supported types according to the casting rule ''safe''"
     ]
    }
   ],
   "source": [
    "2 << Z >> 2"
   ]
  },
  {
   "cell_type": "code",
   "execution_count": 67,
   "id": "a9dfa179",
   "metadata": {},
   "outputs": [
    {
     "data": {
      "text/plain": [
       "array([[False, False],\n",
       "       [False, False]])"
      ]
     },
     "execution_count": 67,
     "metadata": {},
     "output_type": "execute_result"
    }
   ],
   "source": [
    "Z < -Z"
   ]
  },
  {
   "cell_type": "code",
   "execution_count": 68,
   "id": "6bf04f5c",
   "metadata": {},
   "outputs": [
    {
     "data": {
      "text/plain": [
       "array([[ True, False],\n",
       "       [False,  True]])"
      ]
     },
     "execution_count": 68,
     "metadata": {},
     "output_type": "execute_result"
    }
   ],
   "source": [
    "Z > -Z"
   ]
  },
  {
   "cell_type": "markdown",
   "id": "369e5813",
   "metadata": {},
   "source": [
    "# numpy.intersect1d(a,b)"
   ]
  },
  {
   "cell_type": "markdown",
   "id": "c28e22bc",
   "metadata": {},
   "source": [
    "### to find the common values in 2 numpy arrays"
   ]
  },
  {
   "cell_type": "markdown",
   "id": "5f5c8068",
   "metadata": {},
   "source": [
    "### Example"
   ]
  },
  {
   "cell_type": "code",
   "execution_count": 77,
   "id": "2047ef44",
   "metadata": {},
   "outputs": [
    {
     "name": "stdout",
     "output_type": "stream",
     "text": [
      "[[39 35 81 70]\n",
      " [16 76  9  5]\n",
      " [43 66 94 40]\n",
      " [69 58 97 72]]\n",
      "[[87 23 63 69 56]\n",
      " [24 61 44 51 14]\n",
      " [65 93 85 10 58]\n",
      " [58 73 46 61 52]\n",
      " [84 72 96 48 73]]\n"
     ]
    },
    {
     "data": {
      "text/plain": [
       "array([58, 69, 72])"
      ]
     },
     "execution_count": 77,
     "metadata": {},
     "output_type": "execute_result"
    }
   ],
   "source": [
    "a = np.random.randint(0, 100, size=(4,4))\n",
    "b = np.random.randint(0, 100, size=(5,5))\n",
    "print(a)\n",
    "print(b)\n",
    "common = np.intersect1d(a, b)\n",
    "common"
   ]
  },
  {
   "cell_type": "markdown",
   "id": "11c06692",
   "metadata": {},
   "source": [
    "# numpy.ceil(a)"
   ]
  },
  {
   "cell_type": "markdown",
   "id": "74e69fd0",
   "metadata": {},
   "source": [
    "when you want to round away from zero for each array elements, use ceil function"
   ]
  },
  {
   "cell_type": "code",
   "execution_count": 78,
   "id": "9e15a09e",
   "metadata": {},
   "outputs": [
    {
     "data": {
      "text/plain": [
       "array([-1.,  1.,  4.,  9.])"
      ]
     },
     "execution_count": 78,
     "metadata": {},
     "output_type": "execute_result"
    }
   ],
   "source": [
    "a = np.array([-1.23, 0.02, 3.3, 9.0])\n",
    "rounded = np.ceil(a)\n",
    "rounded"
   ]
  },
  {
   "cell_type": "code",
   "execution_count": 79,
   "id": "e2ffcd0d",
   "metadata": {},
   "outputs": [
    {
     "ename": "NameError",
     "evalue": "name 'dtype' is not defined",
     "output_type": "error",
     "traceback": [
      "\u001b[1;31m---------------------------------------------------------------------------\u001b[0m",
      "\u001b[1;31mNameError\u001b[0m                                 Traceback (most recent call last)",
      "\u001b[1;32m~\\AppData\\Local\\Temp\\ipykernel_1700\\3628062165.py\u001b[0m in \u001b[0;36m<module>\u001b[1;34m\u001b[0m\n\u001b[1;32m----> 1\u001b[1;33m \u001b[0mdtype\u001b[0m\u001b[1;33m(\u001b[0m\u001b[0mrounded\u001b[0m\u001b[1;33m)\u001b[0m\u001b[1;33m\u001b[0m\u001b[1;33m\u001b[0m\u001b[0m\n\u001b[0m",
      "\u001b[1;31mNameError\u001b[0m: name 'dtype' is not defined"
     ]
    }
   ],
   "source": []
  },
  {
   "cell_type": "code",
   "execution_count": null,
   "id": "644f5c5a",
   "metadata": {},
   "outputs": [],
   "source": []
  }
 ],
 "metadata": {
  "kernelspec": {
   "display_name": "Python 3 (ipykernel)",
   "language": "python",
   "name": "python3"
  },
  "language_info": {
   "codemirror_mode": {
    "name": "ipython",
    "version": 3
   },
   "file_extension": ".py",
   "mimetype": "text/x-python",
   "name": "python",
   "nbconvert_exporter": "python",
   "pygments_lexer": "ipython3",
   "version": "3.9.13"
  }
 },
 "nbformat": 4,
 "nbformat_minor": 5
}
