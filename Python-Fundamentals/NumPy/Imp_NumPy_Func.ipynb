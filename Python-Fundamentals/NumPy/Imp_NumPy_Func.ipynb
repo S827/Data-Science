{
 "cells": [
  {
   "cell_type": "markdown",
   "id": "6e29a92d",
   "metadata": {},
   "source": [
    "# Some Important NumPy Functions"
   ]
  },
  {
   "cell_type": "markdown",
   "id": "22ae8f1d",
   "metadata": {},
   "source": [
    "## numpy.count_nonzero"
   ]
  },
  {
   "cell_type": "markdown",
   "id": "0b999b6f",
   "metadata": {},
   "source": [
    "### numpy.count_nonzero(a, axis=None, *, keepdims=False)"
   ]
  },
  {
   "cell_type": "markdown",
   "id": "e1dfce0f",
   "metadata": {},
   "source": [
    "counts the number of non-zero values in array a"
   ]
  },
  {
   "cell_type": "markdown",
   "id": "bd6c40b2",
   "metadata": {},
   "source": [
    "Paramters: a: array for which to count non-zeros\n",
    "           axis: int or tuple, optional\n",
    "           keepdims: bool, optional\n",
    "           \n",
    "Returns: count: int or array of int"
   ]
  },
  {
   "cell_type": "markdown",
   "id": "5fd092cd",
   "metadata": {},
   "source": [
    "## Examples:"
   ]
  },
  {
   "cell_type": "code",
   "execution_count": 2,
   "id": "50960078",
   "metadata": {},
   "outputs": [],
   "source": [
    "import numpy as np"
   ]
  },
  {
   "cell_type": "code",
   "execution_count": 3,
   "id": "53b16cae",
   "metadata": {},
   "outputs": [],
   "source": [
    "a = np.eye(4)"
   ]
  },
  {
   "cell_type": "code",
   "execution_count": 4,
   "id": "5ce3cb33",
   "metadata": {},
   "outputs": [
    {
     "data": {
      "text/plain": [
       "array([[1., 0., 0., 0.],\n",
       "       [0., 1., 0., 0.],\n",
       "       [0., 0., 1., 0.],\n",
       "       [0., 0., 0., 1.]])"
      ]
     },
     "execution_count": 4,
     "metadata": {},
     "output_type": "execute_result"
    }
   ],
   "source": [
    "a"
   ]
  },
  {
   "cell_type": "code",
   "execution_count": 5,
   "id": "45c78c98",
   "metadata": {},
   "outputs": [
    {
     "data": {
      "text/plain": [
       "4"
      ]
     },
     "execution_count": 5,
     "metadata": {},
     "output_type": "execute_result"
    }
   ],
   "source": [
    "np.count_nonzero(a)"
   ]
  },
  {
   "cell_type": "code",
   "execution_count": 6,
   "id": "4fc30434",
   "metadata": {},
   "outputs": [
    {
     "data": {
      "text/plain": [
       "array([1, 1, 1, 1], dtype=int64)"
      ]
     },
     "execution_count": 6,
     "metadata": {},
     "output_type": "execute_result"
    }
   ],
   "source": [
    "np.count_nonzero(a, axis=0)"
   ]
  },
  {
   "cell_type": "code",
   "execution_count": 7,
   "id": "2c06670c",
   "metadata": {},
   "outputs": [
    {
     "data": {
      "text/plain": [
       "array([1, 1, 1, 1], dtype=int64)"
      ]
     },
     "execution_count": 7,
     "metadata": {},
     "output_type": "execute_result"
    }
   ],
   "source": [
    "np.count_nonzero(a, axis=1)"
   ]
  },
  {
   "cell_type": "code",
   "execution_count": 8,
   "id": "8fee87c9",
   "metadata": {},
   "outputs": [],
   "source": [
    "b = np.array([[0,1,0,2],\n",
    "              [1,2,0,1],\n",
    "              [0,0,0,1],\n",
    "              [1,0,0,0]])"
   ]
  },
  {
   "cell_type": "code",
   "execution_count": 9,
   "id": "4aa355ab",
   "metadata": {},
   "outputs": [
    {
     "data": {
      "text/plain": [
       "7"
      ]
     },
     "execution_count": 9,
     "metadata": {},
     "output_type": "execute_result"
    }
   ],
   "source": [
    "np.count_nonzero(b)"
   ]
  },
  {
   "cell_type": "code",
   "execution_count": 10,
   "id": "cea6a3a2",
   "metadata": {},
   "outputs": [
    {
     "data": {
      "text/plain": [
       "array([2, 2, 0, 3], dtype=int64)"
      ]
     },
     "execution_count": 10,
     "metadata": {},
     "output_type": "execute_result"
    }
   ],
   "source": [
    "np.count_nonzero(b,axis=0)"
   ]
  },
  {
   "cell_type": "code",
   "execution_count": 12,
   "id": "86e96186",
   "metadata": {},
   "outputs": [
    {
     "data": {
      "text/plain": [
       "array([[2, 2, 0, 3]], dtype=int64)"
      ]
     },
     "execution_count": 12,
     "metadata": {},
     "output_type": "execute_result"
    }
   ],
   "source": [
    "np.count_nonzero(b, axis=0, keepdims=True)"
   ]
  },
  {
   "cell_type": "code",
   "execution_count": 13,
   "id": "6399c806",
   "metadata": {},
   "outputs": [
    {
     "data": {
      "text/plain": [
       "array([2, 2, 0, 3], dtype=int64)"
      ]
     },
     "execution_count": 13,
     "metadata": {},
     "output_type": "execute_result"
    }
   ],
   "source": [
    "np.count_nonzero(b,axis=0,keepdims=False)"
   ]
  },
  {
   "cell_type": "code",
   "execution_count": 14,
   "id": "aed251a2",
   "metadata": {},
   "outputs": [
    {
     "data": {
      "text/plain": [
       "array([2, 3, 1, 1], dtype=int64)"
      ]
     },
     "execution_count": 14,
     "metadata": {},
     "output_type": "execute_result"
    }
   ],
   "source": [
    "np.count_nonzero(b, axis=1, keepdims=False)"
   ]
  },
  {
   "cell_type": "code",
   "execution_count": 15,
   "id": "7d12f0d3",
   "metadata": {},
   "outputs": [
    {
     "data": {
      "text/plain": [
       "array([[2],\n",
       "       [3],\n",
       "       [1],\n",
       "       [1]], dtype=int64)"
      ]
     },
     "execution_count": 15,
     "metadata": {},
     "output_type": "execute_result"
    }
   ],
   "source": [
    "np.count_nonzero(b, axis=1, keepdims=True)"
   ]
  },
  {
   "cell_type": "code",
   "execution_count": 34,
   "id": "101a3df9",
   "metadata": {},
   "outputs": [],
   "source": [
    "c = np.array([[[1,2,0],[0,1,9],[1,0,0]],\n",
    "              [[0,1,1],[1,2,0],[0,0,0]],\n",
    "              [[0,1,0],[0,0,0],[1,1,1]]])"
   ]
  },
  {
   "cell_type": "code",
   "execution_count": 28,
   "id": "bfe7e44c",
   "metadata": {},
   "outputs": [
    {
     "data": {
      "text/plain": [
       "(3, 3, 3)"
      ]
     },
     "execution_count": 28,
     "metadata": {},
     "output_type": "execute_result"
    }
   ],
   "source": [
    "c.shape"
   ]
  },
  {
   "cell_type": "code",
   "execution_count": 29,
   "id": "a6d30273",
   "metadata": {},
   "outputs": [
    {
     "data": {
      "text/plain": [
       "13"
      ]
     },
     "execution_count": 29,
     "metadata": {},
     "output_type": "execute_result"
    }
   ],
   "source": [
    "np.count_nonzero(c)"
   ]
  },
  {
   "cell_type": "code",
   "execution_count": 38,
   "id": "084ca7af",
   "metadata": {},
   "outputs": [
    {
     "data": {
      "text/plain": [
       "array([[[2],\n",
       "        [2],\n",
       "        [1]],\n",
       "\n",
       "       [[2],\n",
       "        [2],\n",
       "        [0]],\n",
       "\n",
       "       [[1],\n",
       "        [0],\n",
       "        [3]]], dtype=int64)"
      ]
     },
     "execution_count": 38,
     "metadata": {},
     "output_type": "execute_result"
    }
   ],
   "source": [
    "np.count_nonzero(c, axis=2, keepdims=True)"
   ]
  },
  {
   "cell_type": "code",
   "execution_count": 30,
   "id": "e5b423b1",
   "metadata": {},
   "outputs": [
    {
     "data": {
      "text/plain": [
       "array([[[1, 3, 1],\n",
       "        [1, 2, 1],\n",
       "        [2, 1, 1]]], dtype=int64)"
      ]
     },
     "execution_count": 30,
     "metadata": {},
     "output_type": "execute_result"
    }
   ],
   "source": [
    "np.count_nonzero(c, axis=0,keepdims=True)"
   ]
  },
  {
   "cell_type": "code",
   "execution_count": 35,
   "id": "b7e1f5f2",
   "metadata": {},
   "outputs": [
    {
     "data": {
      "text/plain": [
       "array([[[2, 2, 1]],\n",
       "\n",
       "       [[1, 2, 1]],\n",
       "\n",
       "       [[1, 2, 1]]], dtype=int64)"
      ]
     },
     "execution_count": 35,
     "metadata": {},
     "output_type": "execute_result"
    }
   ],
   "source": [
    "np.count_nonzero(c,axis=1,keepdims=True)"
   ]
  },
  {
   "cell_type": "code",
   "execution_count": 48,
   "id": "9303bcf7",
   "metadata": {},
   "outputs": [
    {
     "data": {
      "text/plain": [
       "(3, 3, 3)"
      ]
     },
     "execution_count": 48,
     "metadata": {},
     "output_type": "execute_result"
    }
   ],
   "source": [
    "c.shape"
   ]
  },
  {
   "cell_type": "code",
   "execution_count": 39,
   "id": "d181c890",
   "metadata": {},
   "outputs": [],
   "source": [
    "x = np.array([1,2])"
   ]
  },
  {
   "cell_type": "code",
   "execution_count": 40,
   "id": "6d256e25",
   "metadata": {},
   "outputs": [
    {
     "data": {
      "text/plain": [
       "(2,)"
      ]
     },
     "execution_count": 40,
     "metadata": {},
     "output_type": "execute_result"
    }
   ],
   "source": [
    "x.shape"
   ]
  },
  {
   "cell_type": "code",
   "execution_count": 41,
   "id": "64156d47",
   "metadata": {},
   "outputs": [],
   "source": [
    "x = np.array([[1,2],[1,2]])"
   ]
  },
  {
   "cell_type": "code",
   "execution_count": 47,
   "id": "f1dbfbd0",
   "metadata": {},
   "outputs": [
    {
     "data": {
      "text/plain": [
       "array([[1, 2],\n",
       "       [1, 2]])"
      ]
     },
     "execution_count": 47,
     "metadata": {},
     "output_type": "execute_result"
    }
   ],
   "source": [
    "x"
   ]
  },
  {
   "cell_type": "code",
   "execution_count": 43,
   "id": "0ce1717c",
   "metadata": {},
   "outputs": [],
   "source": [
    "a = np.array([[[1,2],[1,2],[1,2]]])"
   ]
  },
  {
   "cell_type": "code",
   "execution_count": 44,
   "id": "04889a87",
   "metadata": {},
   "outputs": [
    {
     "data": {
      "text/plain": [
       "array([[[1, 2],\n",
       "        [1, 2],\n",
       "        [1, 2]]])"
      ]
     },
     "execution_count": 44,
     "metadata": {},
     "output_type": "execute_result"
    }
   ],
   "source": [
    "a"
   ]
  },
  {
   "cell_type": "code",
   "execution_count": 45,
   "id": "6218b3b5",
   "metadata": {},
   "outputs": [
    {
     "data": {
      "text/plain": [
       "(1, 3, 2)"
      ]
     },
     "execution_count": 45,
     "metadata": {},
     "output_type": "execute_result"
    }
   ],
   "source": [
    "a.shape"
   ]
  },
  {
   "cell_type": "code",
   "execution_count": 49,
   "id": "2f838329",
   "metadata": {},
   "outputs": [
    {
     "data": {
      "text/plain": [
       "array([0, 1, 2, 3, 4, 5, 6, 7, 8, 9])"
      ]
     },
     "execution_count": 49,
     "metadata": {},
     "output_type": "execute_result"
    }
   ],
   "source": [
    "np.arange(10)"
   ]
  },
  {
   "cell_type": "code",
   "execution_count": 60,
   "id": "0fca8fca",
   "metadata": {},
   "outputs": [],
   "source": [
    "y = np.arange(100).reshape(4,5,5)"
   ]
  },
  {
   "cell_type": "code",
   "execution_count": 61,
   "id": "8ae65793",
   "metadata": {},
   "outputs": [
    {
     "data": {
      "text/plain": [
       "array([[[ 0,  1,  2,  3,  4],\n",
       "        [ 5,  6,  7,  8,  9],\n",
       "        [10, 11, 12, 13, 14],\n",
       "        [15, 16, 17, 18, 19],\n",
       "        [20, 21, 22, 23, 24]],\n",
       "\n",
       "       [[25, 26, 27, 28, 29],\n",
       "        [30, 31, 32, 33, 34],\n",
       "        [35, 36, 37, 38, 39],\n",
       "        [40, 41, 42, 43, 44],\n",
       "        [45, 46, 47, 48, 49]],\n",
       "\n",
       "       [[50, 51, 52, 53, 54],\n",
       "        [55, 56, 57, 58, 59],\n",
       "        [60, 61, 62, 63, 64],\n",
       "        [65, 66, 67, 68, 69],\n",
       "        [70, 71, 72, 73, 74]],\n",
       "\n",
       "       [[75, 76, 77, 78, 79],\n",
       "        [80, 81, 82, 83, 84],\n",
       "        [85, 86, 87, 88, 89],\n",
       "        [90, 91, 92, 93, 94],\n",
       "        [95, 96, 97, 98, 99]]])"
      ]
     },
     "execution_count": 61,
     "metadata": {},
     "output_type": "execute_result"
    }
   ],
   "source": [
    "y"
   ]
  },
  {
   "cell_type": "code",
   "execution_count": 65,
   "id": "67094433",
   "metadata": {},
   "outputs": [
    {
     "data": {
      "text/plain": [
       "array([[[4],\n",
       "        [5],\n",
       "        [5],\n",
       "        [5],\n",
       "        [5]],\n",
       "\n",
       "       [[5],\n",
       "        [5],\n",
       "        [5],\n",
       "        [5],\n",
       "        [5]],\n",
       "\n",
       "       [[5],\n",
       "        [5],\n",
       "        [5],\n",
       "        [5],\n",
       "        [5]],\n",
       "\n",
       "       [[5],\n",
       "        [5],\n",
       "        [5],\n",
       "        [5],\n",
       "        [5]]], dtype=int64)"
      ]
     },
     "execution_count": 65,
     "metadata": {},
     "output_type": "execute_result"
    }
   ],
   "source": [
    "np.count_nonzero(y,axis=2,keepdims=True)"
   ]
  },
  {
   "cell_type": "code",
   "execution_count": 68,
   "id": "32605fa4",
   "metadata": {},
   "outputs": [],
   "source": [
    "z = np.array(\n",
    "      [[[0,  1,  2,  0,  4],\n",
    "        [5,  6,  7,  0,  9],\n",
    "        [10, 11, 12, 0, 14],\n",
    "        [0, 16, 0, 18, 19],\n",
    "        [0, 21, 0, 23, 0]],\n",
    "\n",
    "       [[0, 26, 27, 0, 29],\n",
    "        [30, 0, 0, 33, 0],\n",
    "        [35, 36, 37, 38, 39],\n",
    "        [40, 41, 42, 0, 44],\n",
    "        [45, 0, 47, 48, 0]],\n",
    "\n",
    "       [[50, 0, 52, 0, 54],\n",
    "        [55, 56, 57, 58, 59],\n",
    "        [60, 61, 0, 0, 64],\n",
    "        [65, 0, 67, 68, 69],\n",
    "        [70, 71, 72, 73, 74]],\n",
    "\n",
    "       [[75, 0, 77, 0, 79],\n",
    "        [80, 0, 82, 0, 84],\n",
    "        [85, 86, 0, 88, 89],\n",
    "        [90, 91, 92, 93, 94],\n",
    "        [95, 96, 97, 98, 99]]])"
   ]
  },
  {
   "cell_type": "code",
   "execution_count": 69,
   "id": "2e2f49d5",
   "metadata": {},
   "outputs": [
    {
     "data": {
      "text/plain": [
       "[5, 3, 4, 3, 5]"
      ]
     },
     "execution_count": 69,
     "metadata": {},
     "output_type": "execute_result"
    }
   ],
   "source": [
    "array([[[2,4,4,3,3],\n",
    "        [2,2,4,3,3],\n",
    "        [4,3,2,3,3],\n",
    "        [0,2,2,3,4],\n",
    "        [4,3,4,4,2]]])"
   ]
  },
  {
   "cell_type": "code",
   "execution_count": 72,
   "id": "12377d52",
   "metadata": {},
   "outputs": [
    {
     "data": {
      "text/plain": [
       "array([[[2, 2, 4, 0, 4],\n",
       "        [4, 2, 3, 2, 3],\n",
       "        [4, 4, 2, 2, 4],\n",
       "        [3, 3, 3, 3, 4],\n",
       "        [3, 3, 3, 4, 2]]], dtype=int64)"
      ]
     },
     "execution_count": 72,
     "metadata": {},
     "output_type": "execute_result"
    }
   ],
   "source": [
    "np.count_nonzero(z, axis=0, keepdims=True)"
   ]
  },
  {
   "cell_type": "code",
   "execution_count": 73,
   "id": "7b1c7f76",
   "metadata": {},
   "outputs": [
    {
     "data": {
      "text/plain": [
       "array([[[2, 5, 3, 2, 4]],\n",
       "\n",
       "       [[4, 3, 4, 3, 3]],\n",
       "\n",
       "       [[5, 3, 4, 3, 5]],\n",
       "\n",
       "       [[5, 3, 4, 3, 5]]], dtype=int64)"
      ]
     },
     "execution_count": 73,
     "metadata": {},
     "output_type": "execute_result"
    }
   ],
   "source": [
    "np.count_nonzero(z, axis=1, keepdims=True)"
   ]
  },
  {
   "cell_type": "markdown",
   "id": "62dc2f70",
   "metadata": {},
   "source": [
    "# numpy.mean"
   ]
  },
  {
   "cell_type": "markdown",
   "id": "22f20250",
   "metadata": {},
   "source": [
    "## numpy.mean(a, axis=None, dtype=None, out=None, keepdims=<no value>, *, where=<no value>)"
   ]
  },
  {
   "cell_type": "markdown",
   "id": "e1b0b1ee",
   "metadata": {},
   "source": [
    "this function computes the arithmetic mean along the specified axis"
   ]
  },
  {
   "cell_type": "markdown",
   "id": "2324c917",
   "metadata": {},
   "source": [
    "It returns average of flattened array by default otherwise along the specified axis\n"
   ]
  },
  {
   "cell_type": "markdown",
   "id": "d0ac6286",
   "metadata": {},
   "source": [
    "Parameters--\n",
    "   1. a: array\n",
    "   2. axis: None or int or tuple of ints, optional\n",
    "   3. dtype: data-type, optional,type to use in computing the mean, for integer inputs default is float64, for floating inputs it is same as the input dtype\n",
    "   4. out: ndarray, optional\n",
    "           alternate output array in which to place the result\n",
    "           default is None, if provided, must have same shape as the expected output\n",
    "   5. keepdims: bool, optional\n",
    "                if set to True, axes which are reduced are left in the result\n",
    "   6. where: array of bool, optional\n",
    "   \n",
    "It returns a new array containing mean values, otherwise a reference to the output array is returned"
   ]
  },
  {
   "cell_type": "markdown",
   "id": "d118b34a",
   "metadata": {},
   "source": [
    "## Examples:"
   ]
  },
  {
   "cell_type": "code",
   "execution_count": 3,
   "id": "be13da0a",
   "metadata": {},
   "outputs": [],
   "source": [
    "import numpy as np"
   ]
  },
  {
   "cell_type": "code",
   "execution_count": 4,
   "id": "d4949f0a",
   "metadata": {},
   "outputs": [],
   "source": [
    "a = np.array([[1, 2], [3, 4]])"
   ]
  },
  {
   "cell_type": "code",
   "execution_count": 5,
   "id": "ffd3b6f0",
   "metadata": {},
   "outputs": [
    {
     "data": {
      "text/plain": [
       "2.5"
      ]
     },
     "execution_count": 5,
     "metadata": {},
     "output_type": "execute_result"
    }
   ],
   "source": [
    "np.mean(a)"
   ]
  },
  {
   "cell_type": "code",
   "execution_count": 6,
   "id": "561c280b",
   "metadata": {},
   "outputs": [
    {
     "data": {
      "text/plain": [
       "array([2., 3.])"
      ]
     },
     "execution_count": 6,
     "metadata": {},
     "output_type": "execute_result"
    }
   ],
   "source": [
    "np.mean(a, axis=0)"
   ]
  },
  {
   "cell_type": "code",
   "execution_count": 7,
   "id": "8be2fa86",
   "metadata": {},
   "outputs": [
    {
     "data": {
      "text/plain": [
       "array([1.5, 3.5])"
      ]
     },
     "execution_count": 7,
     "metadata": {},
     "output_type": "execute_result"
    }
   ],
   "source": [
    "np.mean(a, axis=1)"
   ]
  },
  {
   "cell_type": "markdown",
   "id": "aa5684ae",
   "metadata": {},
   "source": [
    "in single precision, mean can be inaccurate"
   ]
  },
  {
   "cell_type": "code",
   "execution_count": 8,
   "id": "59a7201e",
   "metadata": {},
   "outputs": [],
   "source": [
    "a = np.zeros((2, 512*512), dtype=np.float32)"
   ]
  },
  {
   "cell_type": "code",
   "execution_count": 9,
   "id": "1654ccd2",
   "metadata": {},
   "outputs": [
    {
     "data": {
      "text/plain": [
       "array([[0., 0., 0., ..., 0., 0., 0.],\n",
       "       [0., 0., 0., ..., 0., 0., 0.]], dtype=float32)"
      ]
     },
     "execution_count": 9,
     "metadata": {},
     "output_type": "execute_result"
    }
   ],
   "source": [
    "a"
   ]
  },
  {
   "cell_type": "code",
   "execution_count": 10,
   "id": "50abb49e",
   "metadata": {},
   "outputs": [],
   "source": [
    "a[0, :] = 1.0\n",
    "a[1, :] = 0.1"
   ]
  },
  {
   "cell_type": "code",
   "execution_count": 11,
   "id": "4e43cf54",
   "metadata": {},
   "outputs": [
    {
     "data": {
      "text/plain": [
       "0.54999924"
      ]
     },
     "execution_count": 11,
     "metadata": {},
     "output_type": "execute_result"
    }
   ],
   "source": [
    "np.mean(a)"
   ]
  },
  {
   "cell_type": "code",
   "execution_count": 12,
   "id": "5bc5f0df",
   "metadata": {},
   "outputs": [
    {
     "data": {
      "text/plain": [
       "array([1., 1., 1., ..., 1., 1., 1.], dtype=float32)"
      ]
     },
     "execution_count": 12,
     "metadata": {},
     "output_type": "execute_result"
    }
   ],
   "source": [
    "a[0, :]"
   ]
  },
  {
   "cell_type": "code",
   "execution_count": 13,
   "id": "5e000c84",
   "metadata": {},
   "outputs": [
    {
     "data": {
      "text/plain": [
       "array([0.1, 0.1, 0.1, ..., 0.1, 0.1, 0.1], dtype=float32)"
      ]
     },
     "execution_count": 13,
     "metadata": {},
     "output_type": "execute_result"
    }
   ],
   "source": [
    "a[1, :]"
   ]
  },
  {
   "cell_type": "markdown",
   "id": "abe13468",
   "metadata": {},
   "source": [
    "computing the mean in float64 is accurate"
   ]
  },
  {
   "cell_type": "code",
   "execution_count": 14,
   "id": "7bf4a5cf",
   "metadata": {},
   "outputs": [
    {
     "data": {
      "text/plain": [
       "0.5500000007450581"
      ]
     },
     "execution_count": 14,
     "metadata": {},
     "output_type": "execute_result"
    }
   ],
   "source": [
    "np.mean(a, dtype=np.float64)"
   ]
  },
  {
   "cell_type": "markdown",
   "id": "0810d73d",
   "metadata": {},
   "source": [
    "specifying a where argument"
   ]
  },
  {
   "cell_type": "code",
   "execution_count": 15,
   "id": "51e2ea7e",
   "metadata": {},
   "outputs": [
    {
     "data": {
      "text/plain": [
       "12.0"
      ]
     },
     "execution_count": 15,
     "metadata": {},
     "output_type": "execute_result"
    }
   ],
   "source": [
    "a = np.array([[5, 9, 13], [14, 10, 12], [11, 15, 19]])\n",
    "np.mean(a)"
   ]
  },
  {
   "cell_type": "code",
   "execution_count": 16,
   "id": "bac859c3",
   "metadata": {},
   "outputs": [
    {
     "data": {
      "text/plain": [
       "9.0"
      ]
     },
     "execution_count": 16,
     "metadata": {},
     "output_type": "execute_result"
    }
   ],
   "source": [
    "np.mean(a, where=[[True], [False], [False]])"
   ]
  },
  {
   "cell_type": "code",
   "execution_count": 18,
   "id": "547f8b33",
   "metadata": {},
   "outputs": [
    {
     "data": {
      "text/plain": [
       "12.0"
      ]
     },
     "execution_count": 18,
     "metadata": {},
     "output_type": "execute_result"
    }
   ],
   "source": [
    "np.mean(a, where=[[False], [True], [False]])"
   ]
  },
  {
   "cell_type": "code",
   "execution_count": 19,
   "id": "771c9c24",
   "metadata": {},
   "outputs": [
    {
     "data": {
      "text/plain": [
       "15.0"
      ]
     },
     "execution_count": 19,
     "metadata": {},
     "output_type": "execute_result"
    }
   ],
   "source": [
    "np.mean(a, where=[[False], [False], [True]])"
   ]
  },
  {
   "cell_type": "code",
   "execution_count": 36,
   "id": "8c0d3b4a",
   "metadata": {},
   "outputs": [
    {
     "data": {
      "text/plain": [
       "array([ 9.5,  9.5, 12.5])"
      ]
     },
     "execution_count": 36,
     "metadata": {},
     "output_type": "execute_result"
    }
   ],
   "source": [
    "np.mean(a, where=[[True], [True], [False]], dtype=np.float64, axis=0)"
   ]
  },
  {
   "cell_type": "code",
   "execution_count": 21,
   "id": "88ba359c",
   "metadata": {},
   "outputs": [
    {
     "data": {
      "text/plain": [
       "array([[ 5,  9, 13],\n",
       "       [14, 10, 12],\n",
       "       [11, 15, 19]])"
      ]
     },
     "execution_count": 21,
     "metadata": {},
     "output_type": "execute_result"
    }
   ],
   "source": [
    "a"
   ]
  },
  {
   "cell_type": "code",
   "execution_count": 47,
   "id": "fb03dca2",
   "metadata": {},
   "outputs": [
    {
     "data": {
      "text/plain": [
       "12.0"
      ]
     },
     "execution_count": 47,
     "metadata": {},
     "output_type": "execute_result"
    }
   ],
   "source": [
    "np.mean(a, out=None)"
   ]
  },
  {
   "cell_type": "markdown",
   "id": "be8f8a85",
   "metadata": {},
   "source": [
    "# numpy.maximum"
   ]
  },
  {
   "cell_type": "markdown",
   "id": "29bb1389",
   "metadata": {},
   "source": [
    "element wise maximum of array elements"
   ]
  },
  {
   "cell_type": "markdown",
   "id": "e189ecd8",
   "metadata": {},
   "source": [
    "compares 2 arrays and returns new array containing the element-wise maxima"
   ]
  },
  {
   "cell_type": "markdown",
   "id": "4501d70c",
   "metadata": {},
   "source": [
    "parameters:\n",
    "1. x1, x2 -> array to compare\n",
    "2. out -> ndarray, None or tuple of ndarray and None, optional\n",
    "3. where-> array, optional\n",
    "\n",
    "returns array or scalar"
   ]
  },
  {
   "cell_type": "markdown",
   "id": "c642502b",
   "metadata": {},
   "source": [
    "## Example"
   ]
  },
  {
   "cell_type": "code",
   "execution_count": 55,
   "id": "e685bde8",
   "metadata": {},
   "outputs": [
    {
     "data": {
      "text/plain": [
       "array([1, 1, 2])"
      ]
     },
     "execution_count": 55,
     "metadata": {},
     "output_type": "execute_result"
    }
   ],
   "source": [
    "np.maximum([1,0,1], [1,1,2])"
   ]
  },
  {
   "cell_type": "code",
   "execution_count": 59,
   "id": "120ad767",
   "metadata": {},
   "outputs": [
    {
     "data": {
      "text/plain": [
       "array([[2., 3., 4.],\n",
       "       [2., 3., 4.],\n",
       "       [2., 3., 4.]])"
      ]
     },
     "execution_count": 59,
     "metadata": {},
     "output_type": "execute_result"
    }
   ],
   "source": [
    "np.maximum(np.eye(3),[2,3,4])"
   ]
  },
  {
   "cell_type": "code",
   "execution_count": 60,
   "id": "7236e3b6",
   "metadata": {},
   "outputs": [
    {
     "data": {
      "text/plain": [
       "array([nan,  1., nan])"
      ]
     },
     "execution_count": 60,
     "metadata": {},
     "output_type": "execute_result"
    }
   ],
   "source": [
    "np.maximum([np.nan, 0, np.nan],[1,1,np.nan])"
   ]
  },
  {
   "cell_type": "code",
   "execution_count": 62,
   "id": "ce0f5965",
   "metadata": {},
   "outputs": [
    {
     "data": {
      "text/plain": [
       "inf"
      ]
     },
     "execution_count": 62,
     "metadata": {},
     "output_type": "execute_result"
    }
   ],
   "source": [
    "np.maximum(np.inf,1)"
   ]
  },
  {
   "cell_type": "code",
   "execution_count": 71,
   "id": "98caa088",
   "metadata": {},
   "outputs": [
    {
     "ename": "TypeError",
     "evalue": "return arrays must be of ArrayType",
     "output_type": "error",
     "traceback": [
      "\u001b[1;31m---------------------------------------------------------------------------\u001b[0m",
      "\u001b[1;31mTypeError\u001b[0m                                 Traceback (most recent call last)",
      "\u001b[1;32m~\\AppData\\Local\\Temp\\ipykernel_1284\\3556213507.py\u001b[0m in \u001b[0;36m<module>\u001b[1;34m\u001b[0m\n\u001b[1;32m----> 1\u001b[1;33m \u001b[0mnp\u001b[0m\u001b[1;33m.\u001b[0m\u001b[0mmaximum\u001b[0m\u001b[1;33m(\u001b[0m\u001b[1;33m[\u001b[0m\u001b[1;36m1\u001b[0m\u001b[1;33m,\u001b[0m\u001b[1;36m2\u001b[0m\u001b[1;33m,\u001b[0m\u001b[1;36m4\u001b[0m\u001b[1;33m]\u001b[0m\u001b[1;33m,\u001b[0m\u001b[1;33m[\u001b[0m\u001b[1;36m1\u001b[0m\u001b[1;33m,\u001b[0m\u001b[1;36m2\u001b[0m\u001b[1;33m,\u001b[0m\u001b[1;36m3\u001b[0m\u001b[1;33m]\u001b[0m\u001b[1;33m,\u001b[0m \u001b[0mout\u001b[0m\u001b[1;33m=\u001b[0m\u001b[1;33m[\u001b[0m\u001b[0mnp\u001b[0m\u001b[1;33m.\u001b[0m\u001b[0mfloat64\u001b[0m\u001b[1;33m,\u001b[0m\u001b[0mnp\u001b[0m\u001b[1;33m.\u001b[0m\u001b[0mfloat64\u001b[0m\u001b[1;33m,\u001b[0m\u001b[0mnp\u001b[0m\u001b[1;33m.\u001b[0m\u001b[0mfloat64\u001b[0m\u001b[1;33m]\u001b[0m\u001b[1;33m)\u001b[0m\u001b[1;33m\u001b[0m\u001b[1;33m\u001b[0m\u001b[0m\n\u001b[0m",
      "\u001b[1;31mTypeError\u001b[0m: return arrays must be of ArrayType"
     ]
    }
   ],
   "source": [
    "np.maximum([1,2,4],[1,2,3], out=[np.float64,np.float64,np.float64])"
   ]
  },
  {
   "cell_type": "markdown",
   "id": "37de3cef",
   "metadata": {},
   "source": [
    "# numpy.fmax"
   ]
  },
  {
   "cell_type": "markdown",
   "id": "85727568",
   "metadata": {},
   "source": [
    "## numpy.fmax(x1, x2, out=None, where=True, casting='same_kind', order='k', dtype=None, subok=True[, signature, extobj])"
   ]
  },
  {
   "cell_type": "markdown",
   "id": "38b7fa71",
   "metadata": {},
   "source": [
    "element wise maximum of array elements"
   ]
  },
  {
   "cell_type": "markdown",
   "id": "131de8f8",
   "metadata": {},
   "source": [
    "compares 2 arrays and returns new array contianing element-wise maxima. If one of the elements being compares is NaN, it returns non-NaN elements. If both elements are NaN, then first is returned. net effect is that NaNs are ignored when possible"
   ]
  },
  {
   "cell_type": "markdown",
   "id": "cf059c7e",
   "metadata": {},
   "source": [
    "# Examples"
   ]
  },
  {
   "cell_type": "code",
   "execution_count": 74,
   "id": "a799288c",
   "metadata": {},
   "outputs": [
    {
     "data": {
      "text/plain": [
       "array([  4,   8, 321])"
      ]
     },
     "execution_count": 74,
     "metadata": {},
     "output_type": "execute_result"
    }
   ],
   "source": [
    "a = [1,8, 12]\n",
    "b = [4, 7, 321]\n",
    "max_a_b = np.fmax(a, b)\n",
    "max_a_b"
   ]
  },
  {
   "cell_type": "code",
   "execution_count": 75,
   "id": "464799a3",
   "metadata": {},
   "outputs": [
    {
     "data": {
      "text/plain": [
       "array([2, 4])"
      ]
     },
     "execution_count": 75,
     "metadata": {},
     "output_type": "execute_result"
    }
   ],
   "source": [
    "np.fmax([2, 0], [2, 4])"
   ]
  },
  {
   "cell_type": "code",
   "execution_count": 76,
   "id": "4d06ddf0",
   "metadata": {},
   "outputs": [
    {
     "data": {
      "text/plain": [
       "array([[1., 0.],\n",
       "       [0., 1.]])"
      ]
     },
     "execution_count": 76,
     "metadata": {},
     "output_type": "execute_result"
    }
   ],
   "source": [
    "np.eye(2)"
   ]
  },
  {
   "cell_type": "code",
   "execution_count": 77,
   "id": "75347584",
   "metadata": {},
   "outputs": [
    {
     "data": {
      "text/plain": [
       "array([[3, 4],\n",
       "       [3, 8]])"
      ]
     },
     "execution_count": 77,
     "metadata": {},
     "output_type": "execute_result"
    }
   ],
   "source": [
    "np.fmax([[2,4],[3,8]],[3,3])"
   ]
  },
  {
   "cell_type": "code",
   "execution_count": 79,
   "id": "e0511451",
   "metadata": {},
   "outputs": [
    {
     "data": {
      "text/plain": [
       "array([ 2.,  0.,  9., nan])"
      ]
     },
     "execution_count": 79,
     "metadata": {},
     "output_type": "execute_result"
    }
   ],
   "source": [
    "np.fmax([np.nan, 0, np.nan, np.nan], [2, np.nan, 9, np.nan])"
   ]
  },
  {
   "cell_type": "code",
   "execution_count": 80,
   "id": "9da22f3d",
   "metadata": {},
   "outputs": [
    {
     "data": {
      "text/plain": [
       "array([3., 2., 4.])"
      ]
     },
     "execution_count": 80,
     "metadata": {},
     "output_type": "execute_result"
    }
   ],
   "source": [
    "a = np.array([1, 2, np.nan])\n",
    "b = np.array([3, np.nan, 4])\n",
    "np.fmax(a, b)"
   ]
  },
  {
   "cell_type": "markdown",
   "id": "14652f92",
   "metadata": {},
   "source": [
    "# numpy.minimum"
   ]
  },
  {
   "cell_type": "markdown",
   "id": "f2be4372",
   "metadata": {},
   "source": [
    "element wise minimum of array elements"
   ]
  },
  {
   "cell_type": "markdown",
   "id": "912f7227",
   "metadata": {},
   "source": [
    "compares 2 arrays and returns new array containing element wise minima"
   ]
  },
  {
   "cell_type": "markdown",
   "id": "335159d7",
   "metadata": {},
   "source": [
    "NaNs are propagated"
   ]
  },
  {
   "cell_type": "code",
   "execution_count": 84,
   "id": "d64cabaa",
   "metadata": {},
   "outputs": [
    {
     "data": {
      "text/plain": [
       "array([ 0, -1,  4])"
      ]
     },
     "execution_count": 84,
     "metadata": {},
     "output_type": "execute_result"
    }
   ],
   "source": [
    "np.minimum([2,3,4], [0, -1, 5])"
   ]
  },
  {
   "cell_type": "code",
   "execution_count": 86,
   "id": "ebbfd42a",
   "metadata": {},
   "outputs": [
    {
     "data": {
      "text/plain": [
       "array([[ 1,  2,  0],\n",
       "       [ 0, -2, -4]])"
      ]
     },
     "execution_count": 86,
     "metadata": {},
     "output_type": "execute_result"
    }
   ],
   "source": [
    "np.minimum([[1,2,0], [0, -2, -4]], [1,2,3])"
   ]
  },
  {
   "cell_type": "code",
   "execution_count": 90,
   "id": "377deb54",
   "metadata": {},
   "outputs": [
    {
     "data": {
      "text/plain": [
       "array([nan, nan, nan])"
      ]
     },
     "execution_count": 90,
     "metadata": {},
     "output_type": "execute_result"
    }
   ],
   "source": [
    "np.minimum([np.nan, np.inf, np.nan],[1, np.nan, 1])"
   ]
  },
  {
   "cell_type": "code",
   "execution_count": 91,
   "id": "94a65a17",
   "metadata": {},
   "outputs": [
    {
     "data": {
      "text/plain": [
       "-inf"
      ]
     },
     "execution_count": 91,
     "metadata": {},
     "output_type": "execute_result"
    }
   ],
   "source": [
    "np.minimum(-np.inf, -3)"
   ]
  },
  {
   "cell_type": "markdown",
   "id": "9e8b3c4b",
   "metadata": {},
   "source": [
    "# numpy.zeros"
   ]
  },
  {
   "cell_type": "markdown",
   "id": "b9ee7963",
   "metadata": {},
   "source": [
    "## numpy.zeros(shape, dtype=float, order='C', like=None)"
   ]
  },
  {
   "cell_type": "markdown",
   "id": "e0aab1f5",
   "metadata": {},
   "source": [
    "Return a new array of given shape and type, filled with zeros"
   ]
  },
  {
   "cell_type": "markdown",
   "id": "1f52e2fa",
   "metadata": {},
   "source": [
    "parameters:\n",
    "* shape: int or tuple of ints\n",
    "* dtype: data-type, optional, default is numpy.float64\n",
    "* order: {'C','F'}, optional default is 'C' ('C': row-major, 'F': column-major)\n",
    "\n",
    "returns: array of zeros of given shape, order and dtype"
   ]
  },
  {
   "cell_type": "markdown",
   "id": "efdd279d",
   "metadata": {},
   "source": [
    "## Examples"
   ]
  },
  {
   "cell_type": "code",
   "execution_count": 92,
   "id": "3299aab3",
   "metadata": {},
   "outputs": [
    {
     "data": {
      "text/plain": [
       "array([0., 0., 0., 0., 0.])"
      ]
     },
     "execution_count": 92,
     "metadata": {},
     "output_type": "execute_result"
    }
   ],
   "source": [
    "np.zeros(5)"
   ]
  },
  {
   "cell_type": "code",
   "execution_count": 93,
   "id": "330db934",
   "metadata": {},
   "outputs": [
    {
     "data": {
      "text/plain": [
       "array([0, 0, 0, 0, 0])"
      ]
     },
     "execution_count": 93,
     "metadata": {},
     "output_type": "execute_result"
    }
   ],
   "source": [
    "np.zeros((5,), dtype=int)"
   ]
  },
  {
   "cell_type": "code",
   "execution_count": 94,
   "id": "57d4f4b0",
   "metadata": {},
   "outputs": [
    {
     "data": {
      "text/plain": [
       "array([[0, 0, 0],\n",
       "       [0, 0, 0]])"
      ]
     },
     "execution_count": 94,
     "metadata": {},
     "output_type": "execute_result"
    }
   ],
   "source": [
    "np.zeros((2,3), dtype=int)"
   ]
  },
  {
   "cell_type": "code",
   "execution_count": 98,
   "id": "d037d823",
   "metadata": {},
   "outputs": [
    {
     "data": {
      "text/plain": [
       "array([(0, 0), (0, 0), (0, 0)], dtype=[('x', '<i4'), ('y', '<i4')])"
      ]
     },
     "execution_count": 98,
     "metadata": {},
     "output_type": "execute_result"
    }
   ],
   "source": [
    "np.zeros((3,), dtype=[('x', 'i4'), ('y', 'i4')])"
   ]
  },
  {
   "cell_type": "code",
   "execution_count": 99,
   "id": "b59b6088",
   "metadata": {},
   "outputs": [
    {
     "data": {
      "text/plain": [
       "array([(0, 0), (0, 0)], dtype=[('x', '<i8'), ('y', '<i8')])"
      ]
     },
     "execution_count": 99,
     "metadata": {},
     "output_type": "execute_result"
    }
   ],
   "source": [
    "np.zeros(2, dtype=[('x','i8'),('y','i8')])"
   ]
  },
  {
   "cell_type": "code",
   "execution_count": 107,
   "id": "79ffc2d6",
   "metadata": {},
   "outputs": [
    {
     "data": {
      "text/plain": [
       "array([(0.,), (0.,), (0.,), (0.,), (0.,), (0.,), (0.,), (0.,), (0.,),\n",
       "       (0.,)], dtype=[('x', '<f8')])"
      ]
     },
     "execution_count": 107,
     "metadata": {},
     "output_type": "execute_result"
    }
   ],
   "source": [
    "np.zeros(10,dtype=[('x','f8')])"
   ]
  },
  {
   "cell_type": "markdown",
   "id": "eb440828",
   "metadata": {},
   "source": [
    "# numpy.arange"
   ]
  },
  {
   "cell_type": "code",
   "execution_count": null,
   "id": "1aa68648",
   "metadata": {},
   "outputs": [],
   "source": []
  },
  {
   "cell_type": "markdown",
   "id": "2edf3810",
   "metadata": {},
   "source": [
    "# reverse vector"
   ]
  },
  {
   "cell_type": "code",
   "execution_count": 113,
   "id": "a885176c",
   "metadata": {},
   "outputs": [],
   "source": [
    "a = np.arange(0,19)"
   ]
  },
  {
   "cell_type": "code",
   "execution_count": 114,
   "id": "9353c378",
   "metadata": {},
   "outputs": [
    {
     "data": {
      "text/plain": [
       "array([18, 17, 16, 15, 14, 13, 12, 11, 10,  9,  8,  7,  6,  5,  4,  3,  2,\n",
       "        1,  0])"
      ]
     },
     "execution_count": 114,
     "metadata": {},
     "output_type": "execute_result"
    }
   ],
   "source": [
    "#reverse a\n",
    "a[::-1]"
   ]
  },
  {
   "cell_type": "markdown",
   "id": "c237167b",
   "metadata": {},
   "source": [
    "# numpy.nonzero"
   ]
  },
  {
   "cell_type": "markdown",
   "id": "4c53a439",
   "metadata": {},
   "source": [
    "# numpy.eye"
   ]
  },
  {
   "cell_type": "markdown",
   "id": "84647472",
   "metadata": {},
   "source": [
    "# numpy.random.rand"
   ]
  },
  {
   "cell_type": "markdown",
   "id": "ebe87092",
   "metadata": {},
   "source": [
    "# numpy.random.randn"
   ]
  },
  {
   "cell_type": "markdown",
   "id": "2e63ef4a",
   "metadata": {},
   "source": [
    "# numpy.random.randint"
   ]
  },
  {
   "cell_type": "code",
   "execution_count": null,
   "id": "d8474344",
   "metadata": {},
   "outputs": [],
   "source": []
  }
 ],
 "metadata": {
  "kernelspec": {
   "display_name": "Python 3 (ipykernel)",
   "language": "python",
   "name": "python3"
  },
  "language_info": {
   "codemirror_mode": {
    "name": "ipython",
    "version": 3
   },
   "file_extension": ".py",
   "mimetype": "text/x-python",
   "name": "python",
   "nbconvert_exporter": "python",
   "pygments_lexer": "ipython3",
   "version": "3.9.13"
  }
 },
 "nbformat": 4,
 "nbformat_minor": 5
}
