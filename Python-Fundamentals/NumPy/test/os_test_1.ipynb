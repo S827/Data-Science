{
 "cells": [
  {
   "cell_type": "markdown",
   "id": "bb2fc841",
   "metadata": {},
   "source": [
    "Test-Set 1\n",
    "\n",
    "1. import os\n",
    "2. check the current working directory\n",
    "3. make new dir of data-sample\n",
    "4. add some files in data-sample dir\n",
    "    * url1 = 'https://gist.githubusercontent.com/aakashns/257f6e6c8719c17d0e498ea287d1a386/raw/7def9ef4234ddf0bc82f855ad67dac8b971852ef/loans1.txt'\n",
    "    * url2 = 'https://gist.githubusercontent.com/aakashns/257f6e6c8719c17d0e498ea287d1a386/raw/7def9ef4234ddf0bc82f855ad67dac8b971852ef/loans2.txt'\n",
    "    * url3 = 'https://gist.githubusercontent.com/aakashns/257f6e6c8719c17d0e498ea287d1a386/raw/7def9ef4234ddf0bc82f855ad67dac8b971852ef/loans3.txt'\n",
    "\n",
    "5. from urllib import urlretrieve\n",
    "6. retreive file1,2, and 3 in data-sample dir\n",
    "7. after retrieving check the files in dir\n",
    "8. try read file1\n",
    "9. after read, close it\n",
    "10. use with to open and close automatically file2\n",
    "11. read file line by line \n",
    "12. process the data by defining functions to input data lines to get the header\n",
    "13. def another function to parse values\n",
    "14. figure out the error and resolve with if, try and except, make another function\n",
    "15. define a func to create dictionary"
   ]
  },
  {
   "cell_type": "code",
   "execution_count": null,
   "id": "60ec3b4c",
   "metadata": {},
   "outputs": [],
   "source": []
  }
 ],
 "metadata": {
  "kernelspec": {
   "display_name": "Python 3 (ipykernel)",
   "language": "python",
   "name": "python3"
  },
  "language_info": {
   "codemirror_mode": {
    "name": "ipython",
    "version": 3
   },
   "file_extension": ".py",
   "mimetype": "text/x-python",
   "name": "python",
   "nbconvert_exporter": "python",
   "pygments_lexer": "ipython3",
   "version": "3.9.13"
  }
 },
 "nbformat": 4,
 "nbformat_minor": 5
}
