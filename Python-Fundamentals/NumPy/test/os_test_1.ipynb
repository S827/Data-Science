{
 "cells": [
  {
   "cell_type": "markdown",
   "id": "a778dbdc",
   "metadata": {},
   "source": [
    "# Test-Set 1\n",
    "\n",
    "1. import os\n",
    "2. check the current working directory\n",
    "3. make new dir of data-sample\n",
    "4. add some files in data-sample dir\n",
    "    * url1 = 'https://gist.githubusercontent.com/aakashns/257f6e6c8719c17d0e498ea287d1a386/raw/7def9ef4234ddf0bc82f855ad67dac8b971852ef/loans1.txt'\n",
    "    * url2 = 'https://gist.githubusercontent.com/aakashns/257f6e6c8719c17d0e498ea287d1a386/raw/7def9ef4234ddf0bc82f855ad67dac8b971852ef/loans2.txt'\n",
    "    * url3 = 'https://gist.githubusercontent.com/aakashns/257f6e6c8719c17d0e498ea287d1a386/raw/7def9ef4234ddf0bc82f855ad67dac8b971852ef/loans3.txt'\n",
    "\n",
    "5. from urllib import urlretrieve\n",
    "6. retreive file1,2, and 3 in data-sample dir\n",
    "7. after retrieving check the files in dir\n",
    "8. try read file1\n",
    "9. after read, close it\n",
    "10. use with to open and close automatically file2\n",
    "11. read file line by line \n",
    "12. process the data by defining functions to input data lines to get the header\n",
    "13. def another function to parse values\n",
    "14. figure out the error and resolve with if, try and except, make another function\n",
    "15. define a func to create dictionary"
   ]
  },
  {
   "cell_type": "code",
   "execution_count": 1,
   "id": "e94f3118",
   "metadata": {},
   "outputs": [],
   "source": [
    "import os"
   ]
  },
  {
   "cell_type": "code",
   "execution_count": 2,
   "id": "01f2bed5",
   "metadata": {},
   "outputs": [
    {
     "data": {
      "text/plain": [
       "'C:\\\\Users\\\\INDIA\\\\Desktop\\\\work\\\\Data-Science\\\\Python-Fundamentals\\\\NumPy\\\\test'"
      ]
     },
     "execution_count": 2,
     "metadata": {},
     "output_type": "execute_result"
    }
   ],
   "source": [
    "os.getcwd()"
   ]
  },
  {
   "cell_type": "code",
   "execution_count": 3,
   "id": "32173ece",
   "metadata": {},
   "outputs": [],
   "source": [
    "os.makedirs('./data-sample')"
   ]
  },
  {
   "cell_type": "code",
   "execution_count": 8,
   "id": "891c2e1c",
   "metadata": {},
   "outputs": [
    {
     "data": {
      "text/plain": [
       "[]"
      ]
     },
     "execution_count": 8,
     "metadata": {},
     "output_type": "execute_result"
    }
   ],
   "source": [
    "os.listdir('./data-sample')"
   ]
  },
  {
   "cell_type": "code",
   "execution_count": 37,
   "id": "cecb30f4",
   "metadata": {},
   "outputs": [],
   "source": [
    "url1 = 'https://gist.githubusercontent.com/aakashns/257f6e6c8719c17d0e498ea287d1a386/raw/7def9ef4234ddf0bc82f855ad67dac8b971852ef/loans1.txt'\n",
    "url2 = 'https://gist.githubusercontent.com/aakashns/257f6e6c8719c17d0e498ea287d1a386/raw/7def9ef4234ddf0bc82f855ad67dac8b971852ef/loans2.txt'\n",
    "url3 = 'https://gist.githubusercontent.com/aakashns/257f6e6c8719c17d0e498ea287d1a386/raw/7def9ef4234ddf0bc82f855ad67dac8b971852ef/loans3.txt'"
   ]
  },
  {
   "cell_type": "code",
   "execution_count": 38,
   "id": "8c5c47cf",
   "metadata": {},
   "outputs": [],
   "source": [
    "from urllib.request import urlretrieve"
   ]
  },
  {
   "cell_type": "code",
   "execution_count": 39,
   "id": "bcf26456",
   "metadata": {},
   "outputs": [
    {
     "data": {
      "text/plain": [
       "[]"
      ]
     },
     "execution_count": 39,
     "metadata": {},
     "output_type": "execute_result"
    }
   ],
   "source": [
    "os.listdir('./data-sample')"
   ]
  },
  {
   "cell_type": "code",
   "execution_count": 40,
   "id": "f86d76e7",
   "metadata": {},
   "outputs": [
    {
     "data": {
      "text/plain": [
       "['.ipynb_checkpoints', '.jovianrc', 'data-sample', 'os_test_1.ipynb']"
      ]
     },
     "execution_count": 40,
     "metadata": {},
     "output_type": "execute_result"
    }
   ],
   "source": [
    "os.listdir()"
   ]
  },
  {
   "cell_type": "code",
   "execution_count": 41,
   "id": "9f37cbda",
   "metadata": {},
   "outputs": [
    {
     "ename": "FileNotFoundError",
     "evalue": "[WinError 2] The system cannot find the file specified: 'loans1.txt'",
     "output_type": "error",
     "traceback": [
      "\u001b[1;31m---------------------------------------------------------------------------\u001b[0m",
      "\u001b[1;31mFileNotFoundError\u001b[0m                         Traceback (most recent call last)",
      "\u001b[1;32m~\\AppData\\Local\\Temp\\ipykernel_10068\\1940689078.py\u001b[0m in \u001b[0;36m<module>\u001b[1;34m\u001b[0m\n\u001b[1;32m----> 1\u001b[1;33m \u001b[0mos\u001b[0m\u001b[1;33m.\u001b[0m\u001b[0mremove\u001b[0m\u001b[1;33m(\u001b[0m\u001b[1;34m'loans1.txt'\u001b[0m\u001b[1;33m)\u001b[0m\u001b[1;33m\u001b[0m\u001b[1;33m\u001b[0m\u001b[0m\n\u001b[0m",
      "\u001b[1;31mFileNotFoundError\u001b[0m: [WinError 2] The system cannot find the file specified: 'loans1.txt'"
     ]
    }
   ],
   "source": [
    "os.remove('loans1.txt')"
   ]
  },
  {
   "cell_type": "code",
   "execution_count": 42,
   "id": "8d978e49",
   "metadata": {},
   "outputs": [
    {
     "ename": "FileNotFoundError",
     "evalue": "[WinError 2] The system cannot find the file specified: 'loans2.txt'",
     "output_type": "error",
     "traceback": [
      "\u001b[1;31m---------------------------------------------------------------------------\u001b[0m",
      "\u001b[1;31mFileNotFoundError\u001b[0m                         Traceback (most recent call last)",
      "\u001b[1;32m~\\AppData\\Local\\Temp\\ipykernel_10068\\1916861911.py\u001b[0m in \u001b[0;36m<module>\u001b[1;34m\u001b[0m\n\u001b[1;32m----> 1\u001b[1;33m \u001b[0mos\u001b[0m\u001b[1;33m.\u001b[0m\u001b[0mremove\u001b[0m\u001b[1;33m(\u001b[0m\u001b[1;34m'loans2.txt'\u001b[0m\u001b[1;33m)\u001b[0m\u001b[1;33m\u001b[0m\u001b[1;33m\u001b[0m\u001b[0m\n\u001b[0m",
      "\u001b[1;31mFileNotFoundError\u001b[0m: [WinError 2] The system cannot find the file specified: 'loans2.txt'"
     ]
    }
   ],
   "source": [
    "os.remove('loans2.txt')"
   ]
  },
  {
   "cell_type": "code",
   "execution_count": 43,
   "id": "ba70dde6",
   "metadata": {},
   "outputs": [
    {
     "data": {
      "text/plain": [
       "['.ipynb_checkpoints', '.jovianrc', 'data-sample', 'os_test_1.ipynb']"
      ]
     },
     "execution_count": 43,
     "metadata": {},
     "output_type": "execute_result"
    }
   ],
   "source": [
    "os.listdir()"
   ]
  },
  {
   "cell_type": "code",
   "execution_count": 44,
   "id": "2616d308",
   "metadata": {},
   "outputs": [
    {
     "data": {
      "text/plain": [
       "('./data-sample/loans1.txt', <http.client.HTTPMessage at 0x27d19556fa0>)"
      ]
     },
     "execution_count": 44,
     "metadata": {},
     "output_type": "execute_result"
    }
   ],
   "source": [
    "urlretrieve(url1, './data-sample/loans1.txt')"
   ]
  },
  {
   "cell_type": "code",
   "execution_count": 45,
   "id": "150c2f88",
   "metadata": {},
   "outputs": [
    {
     "data": {
      "text/plain": [
       "('./data-sample/loans2.txt', <http.client.HTTPMessage at 0x27d195565e0>)"
      ]
     },
     "execution_count": 45,
     "metadata": {},
     "output_type": "execute_result"
    }
   ],
   "source": [
    "urlretrieve(url2, './data-sample/loans2.txt')"
   ]
  },
  {
   "cell_type": "code",
   "execution_count": 46,
   "id": "40810c8b",
   "metadata": {},
   "outputs": [
    {
     "data": {
      "text/plain": [
       "('./data-sample/loans3.txt', <http.client.HTTPMessage at 0x27d19556640>)"
      ]
     },
     "execution_count": 46,
     "metadata": {},
     "output_type": "execute_result"
    }
   ],
   "source": [
    "urlretrieve(url3, './data-sample/loans3.txt')"
   ]
  },
  {
   "cell_type": "code",
   "execution_count": 47,
   "id": "452fa292",
   "metadata": {},
   "outputs": [
    {
     "data": {
      "text/plain": [
       "['loans1.txt', 'loans2.txt', 'loans3.txt']"
      ]
     },
     "execution_count": 47,
     "metadata": {},
     "output_type": "execute_result"
    }
   ],
   "source": [
    "os.listdir('./data-sample')"
   ]
  },
  {
   "cell_type": "code",
   "execution_count": 61,
   "id": "9bfb3cef",
   "metadata": {},
   "outputs": [],
   "source": [
    "file1 = open('./data-sample/loans1.txt', mode='r')"
   ]
  },
  {
   "cell_type": "code",
   "execution_count": 62,
   "id": "80dc7cb4",
   "metadata": {},
   "outputs": [
    {
     "data": {
      "text/plain": [
       "<_io.TextIOWrapper name='./data-sample/loans1.txt' mode='r' encoding='cp1252'>"
      ]
     },
     "execution_count": 62,
     "metadata": {},
     "output_type": "execute_result"
    }
   ],
   "source": [
    "file1"
   ]
  },
  {
   "cell_type": "code",
   "execution_count": 63,
   "id": "5f8b17bb",
   "metadata": {},
   "outputs": [
    {
     "name": "stdout",
     "output_type": "stream",
     "text": [
      "amount,duration,rate,down_payment\n",
      "100000,36,0.08,20000\n",
      "200000,12,0.1,\n",
      "628400,120,0.12,100000\n",
      "4637400,240,0.06,\n",
      "42900,90,0.07,8900\n",
      "916000,16,0.13,\n",
      "45230,48,0.08,4300\n",
      "991360,99,0.08,\n",
      "423000,27,0.09,47200\n"
     ]
    }
   ],
   "source": [
    "print(file1.read())"
   ]
  },
  {
   "cell_type": "code",
   "execution_count": 64,
   "id": "a8d53a38",
   "metadata": {},
   "outputs": [],
   "source": [
    "file1.close()"
   ]
  },
  {
   "cell_type": "code",
   "execution_count": 81,
   "id": "afe9146d",
   "metadata": {},
   "outputs": [],
   "source": [
    "with open('./data-sample/loans2.txt', mode='r') as file:\n",
    "    file2_lines = file.read()\n",
    "    file2_lines"
   ]
  },
  {
   "cell_type": "code",
   "execution_count": 82,
   "id": "6fad735f",
   "metadata": {},
   "outputs": [
    {
     "data": {
      "text/plain": [
       "'amount,duration,rate,down_payment\\n828400,120,0.11,100000\\n4633400,240,0.06,\\n42900,90,0.08,8900\\n983000,16,0.14,\\n15230,48,0.07,4300'"
      ]
     },
     "execution_count": 82,
     "metadata": {},
     "output_type": "execute_result"
    }
   ],
   "source": [
    "file2_lines"
   ]
  },
  {
   "cell_type": "code",
   "execution_count": 86,
   "id": "617be669",
   "metadata": {},
   "outputs": [
    {
     "name": "stdout",
     "output_type": "stream",
     "text": [
      "['amount,duration,rate,down_payment\\n', '45230,48,0.07,4300\\n', '883000,16,0.14,\\n', '100000,12,0.1,\\n', '728400,120,0.12,100000\\n', '3637400,240,0.06,\\n', '82900,90,0.07,8900\\n', '316000,16,0.13,\\n', '15230,48,0.08,4300\\n', '991360,99,0.08,\\n', '323000,27,0.09,4720010000,36,0.08,20000\\n', '528400,120,0.11,100000\\n', '8633400,240,0.06,\\n', '12900,90,0.08,8900']\n"
     ]
    }
   ],
   "source": [
    "with open('./data-sample/loans3.txt', mode='r') as file:\n",
    "    file3_lines = file.readlines()\n",
    "    print(file3_lines)"
   ]
  },
  {
   "cell_type": "code",
   "execution_count": 87,
   "id": "a7c7c136",
   "metadata": {},
   "outputs": [
    {
     "data": {
      "text/plain": [
       "['amount,duration,rate,down_payment\\n',\n",
       " '45230,48,0.07,4300\\n',\n",
       " '883000,16,0.14,\\n',\n",
       " '100000,12,0.1,\\n',\n",
       " '728400,120,0.12,100000\\n',\n",
       " '3637400,240,0.06,\\n',\n",
       " '82900,90,0.07,8900\\n',\n",
       " '316000,16,0.13,\\n',\n",
       " '15230,48,0.08,4300\\n',\n",
       " '991360,99,0.08,\\n',\n",
       " '323000,27,0.09,4720010000,36,0.08,20000\\n',\n",
       " '528400,120,0.11,100000\\n',\n",
       " '8633400,240,0.06,\\n',\n",
       " '12900,90,0.08,8900']"
      ]
     },
     "execution_count": 87,
     "metadata": {},
     "output_type": "execute_result"
    }
   ],
   "source": [
    "file3_lines"
   ]
  },
  {
   "cell_type": "code",
   "execution_count": 88,
   "id": "7fe8c220",
   "metadata": {},
   "outputs": [],
   "source": [
    "with open('./data-sample/loans1.txt') as file:\n",
    "    file1_lines = file.readlines()"
   ]
  },
  {
   "cell_type": "code",
   "execution_count": 89,
   "id": "78f5894b",
   "metadata": {},
   "outputs": [
    {
     "data": {
      "text/plain": [
       "['amount,duration,rate,down_payment\\n',\n",
       " '100000,36,0.08,20000\\n',\n",
       " '200000,12,0.1,\\n',\n",
       " '628400,120,0.12,100000\\n',\n",
       " '4637400,240,0.06,\\n',\n",
       " '42900,90,0.07,8900\\n',\n",
       " '916000,16,0.13,\\n',\n",
       " '45230,48,0.08,4300\\n',\n",
       " '991360,99,0.08,\\n',\n",
       " '423000,27,0.09,47200']"
      ]
     },
     "execution_count": 89,
     "metadata": {},
     "output_type": "execute_result"
    }
   ],
   "source": [
    "file1_lines"
   ]
  },
  {
   "cell_type": "code",
   "execution_count": 92,
   "id": "b6cec518",
   "metadata": {},
   "outputs": [],
   "source": [
    "with open('./data-sample/loans2.txt') as file:\n",
    "    file2_lines = file.readlines()"
   ]
  },
  {
   "cell_type": "code",
   "execution_count": 93,
   "id": "b767a6b0",
   "metadata": {},
   "outputs": [
    {
     "data": {
      "text/plain": [
       "['amount,duration,rate,down_payment\\n',\n",
       " '828400,120,0.11,100000\\n',\n",
       " '4633400,240,0.06,\\n',\n",
       " '42900,90,0.08,8900\\n',\n",
       " '983000,16,0.14,\\n',\n",
       " '15230,48,0.07,4300']"
      ]
     },
     "execution_count": 93,
     "metadata": {},
     "output_type": "execute_result"
    }
   ],
   "source": [
    "file2_lines"
   ]
  },
  {
   "cell_type": "code",
   "execution_count": 94,
   "id": "2da14fba",
   "metadata": {},
   "outputs": [
    {
     "data": {
      "text/plain": [
       "['amount,duration,rate,down_payment\\n',\n",
       " '100000,36,0.08,20000\\n',\n",
       " '200000,12,0.1,\\n',\n",
       " '628400,120,0.12,100000\\n',\n",
       " '4637400,240,0.06,\\n',\n",
       " '42900,90,0.07,8900\\n',\n",
       " '916000,16,0.13,\\n',\n",
       " '45230,48,0.08,4300\\n',\n",
       " '991360,99,0.08,\\n',\n",
       " '423000,27,0.09,47200']"
      ]
     },
     "execution_count": 94,
     "metadata": {},
     "output_type": "execute_result"
    }
   ],
   "source": [
    "file1_lines"
   ]
  },
  {
   "cell_type": "code",
   "execution_count": 95,
   "id": "91b584ed",
   "metadata": {},
   "outputs": [
    {
     "data": {
      "text/plain": [
       "['amount,duration,rate,down_payment\\n',\n",
       " '828400,120,0.11,100000\\n',\n",
       " '4633400,240,0.06,\\n',\n",
       " '42900,90,0.08,8900\\n',\n",
       " '983000,16,0.14,\\n',\n",
       " '15230,48,0.07,4300']"
      ]
     },
     "execution_count": 95,
     "metadata": {},
     "output_type": "execute_result"
    }
   ],
   "source": [
    "file2_lines"
   ]
  },
  {
   "cell_type": "code",
   "execution_count": 96,
   "id": "36f249f1",
   "metadata": {},
   "outputs": [
    {
     "data": {
      "text/plain": [
       "['amount,duration,rate,down_payment\\n',\n",
       " '45230,48,0.07,4300\\n',\n",
       " '883000,16,0.14,\\n',\n",
       " '100000,12,0.1,\\n',\n",
       " '728400,120,0.12,100000\\n',\n",
       " '3637400,240,0.06,\\n',\n",
       " '82900,90,0.07,8900\\n',\n",
       " '316000,16,0.13,\\n',\n",
       " '15230,48,0.08,4300\\n',\n",
       " '991360,99,0.08,\\n',\n",
       " '323000,27,0.09,4720010000,36,0.08,20000\\n',\n",
       " '528400,120,0.11,100000\\n',\n",
       " '8633400,240,0.06,\\n',\n",
       " '12900,90,0.08,8900']"
      ]
     },
     "execution_count": 96,
     "metadata": {},
     "output_type": "execute_result"
    }
   ],
   "source": [
    "file3_lines"
   ]
  },
  {
   "cell_type": "markdown",
   "id": "48a19f61",
   "metadata": {},
   "source": [
    " get the header use func"
   ]
  },
  {
   "cell_type": "code",
   "execution_count": 101,
   "id": "dd4f330f",
   "metadata": {},
   "outputs": [
    {
     "data": {
      "text/plain": [
       "'amount,duration,rate,down_payment\\n'"
      ]
     },
     "execution_count": 101,
     "metadata": {},
     "output_type": "execute_result"
    }
   ],
   "source": [
    "file1_lines[0]"
   ]
  },
  {
   "cell_type": "code",
   "execution_count": 104,
   "id": "35c3e015",
   "metadata": {},
   "outputs": [],
   "source": [
    "def get_header(file):\n",
    "    header = file.strip().split(',')\n",
    "    return header"
   ]
  },
  {
   "cell_type": "code",
   "execution_count": 106,
   "id": "b9366b3a",
   "metadata": {},
   "outputs": [],
   "source": [
    "headers = get_header(file1_lines[0])"
   ]
  },
  {
   "cell_type": "code",
   "execution_count": 107,
   "id": "a135e3d9",
   "metadata": {},
   "outputs": [
    {
     "data": {
      "text/plain": [
       "['amount', 'duration', 'rate', 'down_payment']"
      ]
     },
     "execution_count": 107,
     "metadata": {},
     "output_type": "execute_result"
    }
   ],
   "source": [
    "headers"
   ]
  },
  {
   "cell_type": "markdown",
   "id": "809c2951",
   "metadata": {},
   "source": [
    "def func to parse values"
   ]
  },
  {
   "cell_type": "code",
   "execution_count": 111,
   "id": "1dc44b65",
   "metadata": {},
   "outputs": [],
   "source": [
    "def get_values(file):\n",
    "    values = []\n",
    "    for item in file.strip().split(','):\n",
    "        values.append(float(item))\n",
    "    return values"
   ]
  },
  {
   "cell_type": "code",
   "execution_count": 112,
   "id": "e4238e18",
   "metadata": {},
   "outputs": [
    {
     "data": {
      "text/plain": [
       "[100000.0, 36.0, 0.08, 20000.0]"
      ]
     },
     "execution_count": 112,
     "metadata": {},
     "output_type": "execute_result"
    }
   ],
   "source": [
    "get_values(file1_lines[1])"
   ]
  },
  {
   "cell_type": "code",
   "execution_count": 113,
   "id": "f72315d9",
   "metadata": {},
   "outputs": [
    {
     "ename": "ValueError",
     "evalue": "could not convert string to float: ''",
     "output_type": "error",
     "traceback": [
      "\u001b[1;31m---------------------------------------------------------------------------\u001b[0m",
      "\u001b[1;31mValueError\u001b[0m                                Traceback (most recent call last)",
      "\u001b[1;32m~\\AppData\\Local\\Temp\\ipykernel_10068\\1589858844.py\u001b[0m in \u001b[0;36m<module>\u001b[1;34m\u001b[0m\n\u001b[1;32m----> 1\u001b[1;33m \u001b[0mget_values\u001b[0m\u001b[1;33m(\u001b[0m\u001b[0mfile1_lines\u001b[0m\u001b[1;33m[\u001b[0m\u001b[1;36m2\u001b[0m\u001b[1;33m]\u001b[0m\u001b[1;33m)\u001b[0m\u001b[1;33m\u001b[0m\u001b[1;33m\u001b[0m\u001b[0m\n\u001b[0m",
      "\u001b[1;32m~\\AppData\\Local\\Temp\\ipykernel_10068\\3574149533.py\u001b[0m in \u001b[0;36mget_values\u001b[1;34m(file)\u001b[0m\n\u001b[0;32m      2\u001b[0m     \u001b[0mvalues\u001b[0m \u001b[1;33m=\u001b[0m \u001b[1;33m[\u001b[0m\u001b[1;33m]\u001b[0m\u001b[1;33m\u001b[0m\u001b[1;33m\u001b[0m\u001b[0m\n\u001b[0;32m      3\u001b[0m     \u001b[1;32mfor\u001b[0m \u001b[0mitem\u001b[0m \u001b[1;32min\u001b[0m \u001b[0mfile\u001b[0m\u001b[1;33m.\u001b[0m\u001b[0mstrip\u001b[0m\u001b[1;33m(\u001b[0m\u001b[1;33m)\u001b[0m\u001b[1;33m.\u001b[0m\u001b[0msplit\u001b[0m\u001b[1;33m(\u001b[0m\u001b[1;34m','\u001b[0m\u001b[1;33m)\u001b[0m\u001b[1;33m:\u001b[0m\u001b[1;33m\u001b[0m\u001b[1;33m\u001b[0m\u001b[0m\n\u001b[1;32m----> 4\u001b[1;33m         \u001b[0mvalues\u001b[0m\u001b[1;33m.\u001b[0m\u001b[0mappend\u001b[0m\u001b[1;33m(\u001b[0m\u001b[0mfloat\u001b[0m\u001b[1;33m(\u001b[0m\u001b[0mitem\u001b[0m\u001b[1;33m)\u001b[0m\u001b[1;33m)\u001b[0m\u001b[1;33m\u001b[0m\u001b[1;33m\u001b[0m\u001b[0m\n\u001b[0m\u001b[0;32m      5\u001b[0m     \u001b[1;32mreturn\u001b[0m \u001b[0mvalues\u001b[0m\u001b[1;33m\u001b[0m\u001b[1;33m\u001b[0m\u001b[0m\n",
      "\u001b[1;31mValueError\u001b[0m: could not convert string to float: ''"
     ]
    }
   ],
   "source": [
    "get_values(file1_lines[2])"
   ]
  },
  {
   "cell_type": "code",
   "execution_count": 114,
   "id": "3c818379",
   "metadata": {},
   "outputs": [
    {
     "data": {
      "text/plain": [
       "'200000,12,0.1,\\n'"
      ]
     },
     "execution_count": 114,
     "metadata": {},
     "output_type": "execute_result"
    }
   ],
   "source": [
    "file1_lines[2]"
   ]
  },
  {
   "cell_type": "code",
   "execution_count": 153,
   "id": "95051995",
   "metadata": {},
   "outputs": [],
   "source": [
    "def get_values(file):\n",
    "    values = []\n",
    "    for item in file.strip().split(','):\n",
    "        if item == '':\n",
    "            values.append(0.0)\n",
    "        else:\n",
    "            try:\n",
    "                values.append(float(item))\n",
    "            except ValueError:\n",
    "                values.append(float(item))\n",
    "    return values"
   ]
  },
  {
   "cell_type": "code",
   "execution_count": 154,
   "id": "f6013fa1",
   "metadata": {},
   "outputs": [
    {
     "data": {
      "text/plain": [
       "[200000.0, 12.0, 0.1, 0.0]"
      ]
     },
     "execution_count": 154,
     "metadata": {},
     "output_type": "execute_result"
    }
   ],
   "source": [
    "get_values(file1_lines[2])"
   ]
  },
  {
   "cell_type": "code",
   "execution_count": 155,
   "id": "735e7216",
   "metadata": {},
   "outputs": [
    {
     "data": {
      "text/plain": [
       "[628400.0, 120.0, 0.12, 100000.0]"
      ]
     },
     "execution_count": 155,
     "metadata": {},
     "output_type": "execute_result"
    }
   ],
   "source": [
    "get_values(file1_lines[3])"
   ]
  },
  {
   "cell_type": "code",
   "execution_count": 156,
   "id": "c3ad1212",
   "metadata": {},
   "outputs": [
    {
     "data": {
      "text/plain": [
       "[4637400.0, 240.0, 0.06, 0.0]"
      ]
     },
     "execution_count": 156,
     "metadata": {},
     "output_type": "execute_result"
    }
   ],
   "source": [
    "get_values(file1_lines[4])"
   ]
  },
  {
   "cell_type": "code",
   "execution_count": 157,
   "id": "b45d277d",
   "metadata": {},
   "outputs": [
    {
     "data": {
      "text/plain": [
       "[42900.0, 90.0, 0.07, 8900.0]"
      ]
     },
     "execution_count": 157,
     "metadata": {},
     "output_type": "execute_result"
    }
   ],
   "source": [
    "get_values(file1_lines[5])"
   ]
  },
  {
   "cell_type": "code",
   "execution_count": 158,
   "id": "4987cbc9",
   "metadata": {},
   "outputs": [
    {
     "data": {
      "text/plain": [
       "[916000.0, 16.0, 0.13, 0.0]"
      ]
     },
     "execution_count": 158,
     "metadata": {},
     "output_type": "execute_result"
    }
   ],
   "source": [
    "get_values(file1_lines[6])"
   ]
  },
  {
   "cell_type": "code",
   "execution_count": 159,
   "id": "72517f65",
   "metadata": {},
   "outputs": [
    {
     "data": {
      "text/plain": [
       "[45230.0, 48.0, 0.08, 4300.0]"
      ]
     },
     "execution_count": 159,
     "metadata": {},
     "output_type": "execute_result"
    }
   ],
   "source": [
    "get_values(file1_lines[7])"
   ]
  },
  {
   "cell_type": "code",
   "execution_count": 160,
   "id": "cb61b43f",
   "metadata": {},
   "outputs": [
    {
     "data": {
      "text/plain": [
       "[991360.0, 99.0, 0.08, 0.0]"
      ]
     },
     "execution_count": 160,
     "metadata": {},
     "output_type": "execute_result"
    }
   ],
   "source": [
    "get_values(file1_lines[8])"
   ]
  },
  {
   "cell_type": "code",
   "execution_count": 161,
   "id": "3c1757bc",
   "metadata": {},
   "outputs": [
    {
     "data": {
      "text/plain": [
       "[423000.0, 27.0, 0.09, 47200.0]"
      ]
     },
     "execution_count": 161,
     "metadata": {},
     "output_type": "execute_result"
    }
   ],
   "source": [
    "get_values(file1_lines[9])"
   ]
  },
  {
   "cell_type": "markdown",
   "id": "48c47770",
   "metadata": {},
   "source": [
    "def func to create dictionary which stores headers as keys and values as values"
   ]
  },
  {
   "cell_type": "code",
   "execution_count": 162,
   "id": "a69877c5",
   "metadata": {},
   "outputs": [],
   "source": [
    "def create_dict(headers, values):\n",
    "    di = {}\n",
    "    for header, value in zip(headers, values):\n",
    "        di[header] = value\n",
    "    return di"
   ]
  },
  {
   "cell_type": "code",
   "execution_count": 163,
   "id": "0ed51b11",
   "metadata": {},
   "outputs": [],
   "source": [
    "values11 = get_values(file1_lines[1])"
   ]
  },
  {
   "cell_type": "code",
   "execution_count": 164,
   "id": "1e6876bb",
   "metadata": {},
   "outputs": [
    {
     "data": {
      "text/plain": [
       "[100000.0, 36.0, 0.08, 20000.0]"
      ]
     },
     "execution_count": 164,
     "metadata": {},
     "output_type": "execute_result"
    }
   ],
   "source": [
    "values11"
   ]
  },
  {
   "cell_type": "code",
   "execution_count": 165,
   "id": "c3ecf8ec",
   "metadata": {},
   "outputs": [
    {
     "data": {
      "text/plain": [
       "{'amount': 100000.0, 'duration': 36.0, 'rate': 0.08, 'down_payment': 20000.0}"
      ]
     },
     "execution_count": 165,
     "metadata": {},
     "output_type": "execute_result"
    }
   ],
   "source": [
    "create_dict(headers, values11)"
   ]
  },
  {
   "cell_type": "code",
   "execution_count": 166,
   "id": "2cb6bdfe",
   "metadata": {},
   "outputs": [
    {
     "data": {
      "text/plain": [
       "{'amount': 200000.0, 'duration': 12.0, 'rate': 0.1, 'down_payment': 0.0}"
      ]
     },
     "execution_count": 166,
     "metadata": {},
     "output_type": "execute_result"
    }
   ],
   "source": [
    "values12 = get_values(file1_lines[2])\n",
    "create_dict(headers, values12)"
   ]
  },
  {
   "cell_type": "code",
   "execution_count": 167,
   "id": "0975a58c",
   "metadata": {},
   "outputs": [
    {
     "data": {
      "text/plain": [
       "{'amount': 628400.0, 'duration': 120.0, 'rate': 0.12, 'down_payment': 100000.0}"
      ]
     },
     "execution_count": 167,
     "metadata": {},
     "output_type": "execute_result"
    }
   ],
   "source": [
    "values13 = get_values(file1_lines[3])\n",
    "create_dict(headers, values13)"
   ]
  },
  {
   "cell_type": "code",
   "execution_count": 168,
   "id": "a666f1e5",
   "metadata": {},
   "outputs": [
    {
     "data": {
      "text/plain": [
       "{'amount': 4637400.0, 'duration': 240.0, 'rate': 0.06, 'down_payment': 0.0}"
      ]
     },
     "execution_count": 168,
     "metadata": {},
     "output_type": "execute_result"
    }
   ],
   "source": [
    "values14 = get_values(file1_lines[4])\n",
    "create_dict(headers, values14)"
   ]
  },
  {
   "cell_type": "code",
   "execution_count": 169,
   "id": "c971f634",
   "metadata": {},
   "outputs": [
    {
     "data": {
      "text/plain": [
       "{'amount': 42900.0, 'duration': 90.0, 'rate': 0.07, 'down_payment': 8900.0}"
      ]
     },
     "execution_count": 169,
     "metadata": {},
     "output_type": "execute_result"
    }
   ],
   "source": [
    "values15 = get_values(file1_lines[5])\n",
    "create_dict(headers, values15)"
   ]
  },
  {
   "cell_type": "code",
   "execution_count": 170,
   "id": "92b7babb",
   "metadata": {},
   "outputs": [
    {
     "data": {
      "text/plain": [
       "{'amount': 916000.0, 'duration': 16.0, 'rate': 0.13, 'down_payment': 0.0}"
      ]
     },
     "execution_count": 170,
     "metadata": {},
     "output_type": "execute_result"
    }
   ],
   "source": [
    "values16 = get_values(file1_lines[6])\n",
    "create_dict(headers, values16)"
   ]
  },
  {
   "cell_type": "code",
   "execution_count": 171,
   "id": "336a481d",
   "metadata": {},
   "outputs": [
    {
     "data": {
      "text/plain": [
       "{'amount': 423000.0, 'duration': 27.0, 'rate': 0.09, 'down_payment': 47200.0}"
      ]
     },
     "execution_count": 171,
     "metadata": {},
     "output_type": "execute_result"
    }
   ],
   "source": [
    "values19 = get_values(file1_lines[9])\n",
    "create_dict(headers, values19)"
   ]
  },
  {
   "cell_type": "code",
   "execution_count": 173,
   "id": "95bd1f2a",
   "metadata": {},
   "outputs": [
    {
     "data": {
      "text/plain": [
       "{'amount': 828400.0, 'duration': 120.0, 'rate': 0.11, 'down_payment': 100000.0}"
      ]
     },
     "execution_count": 173,
     "metadata": {},
     "output_type": "execute_result"
    }
   ],
   "source": [
    "values21 = get_values(file2_lines[1])\n",
    "create_dict(headers, values21)"
   ]
  },
  {
   "cell_type": "code",
   "execution_count": null,
   "id": "634e912d",
   "metadata": {},
   "outputs": [],
   "source": []
  }
 ],
 "metadata": {
  "kernelspec": {
   "display_name": "Python 3 (ipykernel)",
   "language": "python",
   "name": "python3"
  },
  "language_info": {
   "codemirror_mode": {
    "name": "ipython",
    "version": 3
   },
   "file_extension": ".py",
   "mimetype": "text/x-python",
   "name": "python",
   "nbconvert_exporter": "python",
   "pygments_lexer": "ipython3",
   "version": "3.9.13"
  }
 },
 "nbformat": 4,
 "nbformat_minor": 5
}
