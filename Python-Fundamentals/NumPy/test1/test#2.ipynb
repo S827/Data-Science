{
 "cells": [
  {
   "cell_type": "markdown",
   "id": "86684199",
   "metadata": {},
   "source": [
    "# Test#2"
   ]
  },
  {
   "cell_type": "markdown",
   "id": "2567e487",
   "metadata": {},
   "source": [
    "1. import os\n",
    "2. store urllib\n",
    "3. def func to get headers\n",
    "4. def func to get values(use try , except to avoid any expected errors)\n",
    "5. def func to which will take path as an argument and returns a dictionary which will contain number of key values pairs\n",
    "    * declare empty list\n",
    "    * open file in read mode\n",
    "        * read the lines\n",
    "        * get the header\n",
    "        * loop over remaining lines\n",
    "            * parse values\n",
    "            * create dict with headers and values\n",
    "            * append dict in an empty list\n",
    "    * return list"
   ]
  },
  {
   "cell_type": "code",
   "execution_count": null,
   "id": "df61db80",
   "metadata": {},
   "outputs": [],
   "source": []
  }
 ],
 "metadata": {
  "kernelspec": {
   "display_name": "Python 3 (ipykernel)",
   "language": "python",
   "name": "python3"
  },
  "language_info": {
   "codemirror_mode": {
    "name": "ipython",
    "version": 3
   },
   "file_extension": ".py",
   "mimetype": "text/x-python",
   "name": "python",
   "nbconvert_exporter": "python",
   "pygments_lexer": "ipython3",
   "version": "3.9.13"
  }
 },
 "nbformat": 4,
 "nbformat_minor": 5
}
