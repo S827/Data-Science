{
 "cells": [
  {
   "cell_type": "markdown",
   "id": "d9609e92",
   "metadata": {},
   "source": [
    "# working with OS and file system"
   ]
  },
  {
   "cell_type": "markdown",
   "id": "1993f681",
   "metadata": {},
   "source": [
    "os module in python provides many func to work with os and file systems"
   ]
  },
  {
   "cell_type": "markdown",
   "id": "acfc1227",
   "metadata": {},
   "source": [
    "let's import os"
   ]
  },
  {
   "cell_type": "code",
   "execution_count": 1,
   "id": "ce0f8310",
   "metadata": {},
   "outputs": [],
   "source": [
    "import os"
   ]
  },
  {
   "cell_type": "markdown",
   "id": "1c377b54",
   "metadata": {},
   "source": [
    "to check pwd(present working directory) use cmd os.getcwd"
   ]
  },
  {
   "cell_type": "code",
   "execution_count": 3,
   "id": "e7b8d1da",
   "metadata": {},
   "outputs": [
    {
     "data": {
      "text/plain": [
       "'C:\\\\Users\\\\INDIA\\\\Desktop\\\\work\\\\Data-Science\\\\Python-Fundamentals\\\\NumPy'"
      ]
     },
     "execution_count": 3,
     "metadata": {},
     "output_type": "execute_result"
    }
   ],
   "source": [
    "os.getcwd()"
   ]
  },
  {
   "cell_type": "markdown",
   "id": "a8b206e7",
   "metadata": {},
   "source": [
    "list of file in directory"
   ]
  },
  {
   "cell_type": "code",
   "execution_count": 6,
   "id": "3089f324",
   "metadata": {},
   "outputs": [
    {
     "data": {
      "text/plain": [
       "['.ipynb_checkpoints',\n",
       " '.jovianrc',\n",
       " 'climate.txt',\n",
       " 'climate_results.txt',\n",
       " 'Imp_NumPy_Func.ipynb',\n",
       " 'matrix.py',\n",
       " 'python-numerical-computing-with-numpy.ipynb',\n",
       " 'python-os-and-filesystem.ipynb',\n",
       " 'Untitled-1.ipynb',\n",
       " 'Untitled.ipynb']"
      ]
     },
     "execution_count": 6,
     "metadata": {},
     "output_type": "execute_result"
    }
   ],
   "source": [
    "os.listdir()"
   ]
  },
  {
   "cell_type": "code",
   "execution_count": 10,
   "id": "7ec704a9",
   "metadata": {},
   "outputs": [
    {
     "data": {
      "text/plain": [
       "['.ipynb_checkpoints',\n",
       " 'control-flow',\n",
       " 'NumPy',\n",
       " 'Python-Functions',\n",
       " 'python-variables-and-data-types']"
      ]
     },
     "execution_count": 10,
     "metadata": {},
     "output_type": "execute_result"
    }
   ],
   "source": [
    "os.listdir('..')"
   ]
  },
  {
   "cell_type": "code",
   "execution_count": 11,
   "id": "189a0d25",
   "metadata": {},
   "outputs": [
    {
     "data": {
      "text/plain": [
       "['.ipynb_checkpoints',\n",
       " '.jovianrc',\n",
       " 'climate.txt',\n",
       " 'climate_results.txt',\n",
       " 'Imp_NumPy_Func.ipynb',\n",
       " 'matrix.py',\n",
       " 'python-numerical-computing-with-numpy.ipynb',\n",
       " 'python-os-and-filesystem.ipynb',\n",
       " 'Untitled-1.ipynb',\n",
       " 'Untitled.ipynb']"
      ]
     },
     "execution_count": 11,
     "metadata": {},
     "output_type": "execute_result"
    }
   ],
   "source": [
    "os.listdir('.')"
   ]
  },
  {
   "cell_type": "markdown",
   "id": "db1f4d52",
   "metadata": {},
   "source": [
    "create new dir with os.makedirs"
   ]
  },
  {
   "cell_type": "markdown",
   "id": "5730a90f",
   "metadata": {},
   "source": [
    "create new dir called data"
   ]
  },
  {
   "cell_type": "code",
   "execution_count": 23,
   "id": "50554870",
   "metadata": {},
   "outputs": [],
   "source": [
    "os.makedirs('./data', exist_ok=True)"
   ]
  },
  {
   "cell_type": "markdown",
   "id": "1b593234",
   "metadata": {},
   "source": [
    "when exist_ok = false which is default, if dir already exists, it will raise an error FileExistsError\n",
    "and when exist_ok = True, it won't raise error"
   ]
  },
  {
   "cell_type": "code",
   "execution_count": 25,
   "id": "7403086c",
   "metadata": {},
   "outputs": [
    {
     "ename": "FileExistsError",
     "evalue": "[WinError 183] Cannot create a file when that file already exists: './data'",
     "output_type": "error",
     "traceback": [
      "\u001b[1;31m---------------------------------------------------------------------------\u001b[0m",
      "\u001b[1;31mFileExistsError\u001b[0m                           Traceback (most recent call last)",
      "\u001b[1;32m~\\AppData\\Local\\Temp\\ipykernel_6296\\3259177440.py\u001b[0m in \u001b[0;36m<module>\u001b[1;34m\u001b[0m\n\u001b[1;32m----> 1\u001b[1;33m \u001b[0mos\u001b[0m\u001b[1;33m.\u001b[0m\u001b[0mmakedirs\u001b[0m\u001b[1;33m(\u001b[0m\u001b[1;34m'./data'\u001b[0m\u001b[1;33m,\u001b[0m \u001b[0mexist_ok\u001b[0m\u001b[1;33m=\u001b[0m\u001b[1;32mFalse\u001b[0m\u001b[1;33m)\u001b[0m\u001b[1;33m\u001b[0m\u001b[1;33m\u001b[0m\u001b[0m\n\u001b[0m",
      "\u001b[1;32m~\\anaconda3\\lib\\os.py\u001b[0m in \u001b[0;36mmakedirs\u001b[1;34m(name, mode, exist_ok)\u001b[0m\n\u001b[0;32m    223\u001b[0m             \u001b[1;32mreturn\u001b[0m\u001b[1;33m\u001b[0m\u001b[1;33m\u001b[0m\u001b[0m\n\u001b[0;32m    224\u001b[0m     \u001b[1;32mtry\u001b[0m\u001b[1;33m:\u001b[0m\u001b[1;33m\u001b[0m\u001b[1;33m\u001b[0m\u001b[0m\n\u001b[1;32m--> 225\u001b[1;33m         \u001b[0mmkdir\u001b[0m\u001b[1;33m(\u001b[0m\u001b[0mname\u001b[0m\u001b[1;33m,\u001b[0m \u001b[0mmode\u001b[0m\u001b[1;33m)\u001b[0m\u001b[1;33m\u001b[0m\u001b[1;33m\u001b[0m\u001b[0m\n\u001b[0m\u001b[0;32m    226\u001b[0m     \u001b[1;32mexcept\u001b[0m \u001b[0mOSError\u001b[0m\u001b[1;33m:\u001b[0m\u001b[1;33m\u001b[0m\u001b[1;33m\u001b[0m\u001b[0m\n\u001b[0;32m    227\u001b[0m         \u001b[1;31m# Cannot rely on checking for EEXIST, since the operating system\u001b[0m\u001b[1;33m\u001b[0m\u001b[1;33m\u001b[0m\u001b[0m\n",
      "\u001b[1;31mFileExistsError\u001b[0m: [WinError 183] Cannot create a file when that file already exists: './data'"
     ]
    }
   ],
   "source": [
    "os.makedirs('./data', exist_ok=False)"
   ]
  },
  {
   "cell_type": "code",
   "execution_count": 26,
   "id": "7238b9e0",
   "metadata": {},
   "outputs": [],
   "source": [
    "os.makedirs('./data', exist_ok=True)"
   ]
  },
  {
   "cell_type": "code",
   "execution_count": 27,
   "id": "70700a84",
   "metadata": {},
   "outputs": [
    {
     "data": {
      "text/plain": [
       "['.ipynb_checkpoints',\n",
       " '.jovianrc',\n",
       " 'climate.txt',\n",
       " 'climate_results.txt',\n",
       " 'data',\n",
       " 'Imp_NumPy_Func.ipynb',\n",
       " 'matrix.py',\n",
       " 'python-numerical-computing-with-numpy.ipynb',\n",
       " 'python-os-and-filesystem.ipynb',\n",
       " 'Untitled-1.ipynb',\n",
       " 'Untitled.ipynb']"
      ]
     },
     "execution_count": 27,
     "metadata": {},
     "output_type": "execute_result"
    }
   ],
   "source": [
    "os.listdir()"
   ]
  },
  {
   "cell_type": "markdown",
   "id": "39a7c331",
   "metadata": {},
   "source": [
    " verify if dir is empty"
   ]
  },
  {
   "cell_type": "code",
   "execution_count": 28,
   "id": "84c6d3e9",
   "metadata": {},
   "outputs": [
    {
     "data": {
      "text/plain": [
       "True"
      ]
     },
     "execution_count": 28,
     "metadata": {},
     "output_type": "execute_result"
    }
   ],
   "source": [
    "'data' in os.listdir('.')"
   ]
  },
  {
   "cell_type": "code",
   "execution_count": 30,
   "id": "b49546a1",
   "metadata": {},
   "outputs": [
    {
     "data": {
      "text/plain": [
       "[]"
      ]
     },
     "execution_count": 30,
     "metadata": {},
     "output_type": "execute_result"
    }
   ],
   "source": [
    "os.listdir('./data')"
   ]
  },
  {
   "cell_type": "markdown",
   "id": "fed2734c",
   "metadata": {},
   "source": [
    "add some files in data dir from urllib module"
   ]
  },
  {
   "cell_type": "code",
   "execution_count": 31,
   "id": "8d24ed08",
   "metadata": {},
   "outputs": [],
   "source": [
    "url1 = 'https://gist.githubusercontent.com/aakashns/257f6e6c8719c17d0e498ea287d1a386/raw/7def9ef4234ddf0bc82f855ad67dac8b971852ef/loans1.txt'\n",
    "url2 = 'https://gist.githubusercontent.com/aakashns/257f6e6c8719c17d0e498ea287d1a386/raw/7def9ef4234ddf0bc82f855ad67dac8b971852ef/loans2.txt'\n",
    "url3 = 'https://gist.githubusercontent.com/aakashns/257f6e6c8719c17d0e498ea287d1a386/raw/7def9ef4234ddf0bc82f855ad67dac8b971852ef/loans3.txt'"
   ]
  },
  {
   "cell_type": "code",
   "execution_count": 32,
   "id": "c24d8c74",
   "metadata": {},
   "outputs": [],
   "source": [
    "from urllib.request import urlretrieve"
   ]
  },
  {
   "cell_type": "code",
   "execution_count": 37,
   "id": "42832962",
   "metadata": {},
   "outputs": [
    {
     "data": {
      "text/plain": [
       "('./data/loans1.txt', <http.client.HTTPMessage at 0x13583902d90>)"
      ]
     },
     "execution_count": 37,
     "metadata": {},
     "output_type": "execute_result"
    }
   ],
   "source": [
    "urlretrieve(url1, './data/loans1.txt')"
   ]
  },
  {
   "cell_type": "code",
   "execution_count": 40,
   "id": "1ca007f1",
   "metadata": {},
   "outputs": [
    {
     "data": {
      "text/plain": [
       "('./data/loans2.txt', <http.client.HTTPMessage at 0x135825a2970>)"
      ]
     },
     "execution_count": 40,
     "metadata": {},
     "output_type": "execute_result"
    }
   ],
   "source": [
    "urlretrieve(url2, './data/loans2.txt')"
   ]
  },
  {
   "cell_type": "code",
   "execution_count": 41,
   "id": "2f5eabdd",
   "metadata": {},
   "outputs": [
    {
     "data": {
      "text/plain": [
       "('./data/loans3.txt', <http.client.HTTPMessage at 0x13583902d60>)"
      ]
     },
     "execution_count": 41,
     "metadata": {},
     "output_type": "execute_result"
    }
   ],
   "source": [
    "urlretrieve(url3, './data/loans3.txt')"
   ]
  },
  {
   "cell_type": "code",
   "execution_count": 43,
   "id": "84f9174b",
   "metadata": {},
   "outputs": [
    {
     "data": {
      "text/plain": [
       "['loans01.txt', 'loans1.txt', 'loans2.txt', 'loans3.txt']"
      ]
     },
     "execution_count": 43,
     "metadata": {},
     "output_type": "execute_result"
    }
   ],
   "source": [
    "os.listdir('./data')"
   ]
  },
  {
   "cell_type": "code",
   "execution_count": 44,
   "id": "2aebd457",
   "metadata": {},
   "outputs": [],
   "source": [
    "os.remove('./data/loans01.txt')"
   ]
  },
  {
   "cell_type": "code",
   "execution_count": 45,
   "id": "95843b89",
   "metadata": {},
   "outputs": [
    {
     "data": {
      "text/plain": [
       "['loans1.txt', 'loans2.txt', 'loans3.txt']"
      ]
     },
     "execution_count": 45,
     "metadata": {},
     "output_type": "execute_result"
    }
   ],
   "source": [
    "os.listdir('./data')"
   ]
  },
  {
   "cell_type": "markdown",
   "id": "c4c698f3",
   "metadata": {},
   "source": [
    "## Reading from file"
   ]
  },
  {
   "cell_type": "code",
   "execution_count": 55,
   "id": "011d3dea",
   "metadata": {},
   "outputs": [],
   "source": [
    "file1 = open('./data/loans1.txt', mode='r')"
   ]
  },
  {
   "cell_type": "code",
   "execution_count": 56,
   "id": "e9fba50b",
   "metadata": {},
   "outputs": [],
   "source": [
    "file1_contents = file1.read()"
   ]
  },
  {
   "cell_type": "code",
   "execution_count": 57,
   "id": "076c7baf",
   "metadata": {},
   "outputs": [
    {
     "name": "stdout",
     "output_type": "stream",
     "text": [
      "amount,duration,rate,down_payment\n",
      "100000,36,0.08,20000\n",
      "200000,12,0.1,\n",
      "628400,120,0.12,100000\n",
      "4637400,240,0.06,\n",
      "42900,90,0.07,8900\n",
      "916000,16,0.13,\n",
      "45230,48,0.08,4300\n",
      "991360,99,0.08,\n",
      "423000,27,0.09,47200\n"
     ]
    }
   ],
   "source": [
    "print(file1_contents)"
   ]
  },
  {
   "cell_type": "code",
   "execution_count": 58,
   "id": "b478f0e2",
   "metadata": {},
   "outputs": [
    {
     "name": "stdout",
     "output_type": "stream",
     "text": [
      "amount,duration,rate,down_payment\n",
      "828400,120,0.11,100000\n",
      "4633400,240,0.06,\n",
      "42900,90,0.08,8900\n",
      "983000,16,0.14,\n",
      "15230,48,0.07,4300\n"
     ]
    }
   ],
   "source": [
    "file2 = open('./data/loans2.txt', mode='r')\n",
    "file2_contents = file2.read()\n",
    "print(file2_contents)"
   ]
  },
  {
   "cell_type": "code",
   "execution_count": 59,
   "id": "11af18bd",
   "metadata": {},
   "outputs": [
    {
     "name": "stdout",
     "output_type": "stream",
     "text": [
      "amount,duration,rate,down_payment\n",
      "45230,48,0.07,4300\n",
      "883000,16,0.14,\n",
      "100000,12,0.1,\n",
      "728400,120,0.12,100000\n",
      "3637400,240,0.06,\n",
      "82900,90,0.07,8900\n",
      "316000,16,0.13,\n",
      "15230,48,0.08,4300\n",
      "991360,99,0.08,\n",
      "323000,27,0.09,4720010000,36,0.08,20000\n",
      "528400,120,0.11,100000\n",
      "8633400,240,0.06,\n",
      "12900,90,0.08,8900\n"
     ]
    }
   ],
   "source": [
    "file3 = open('./data/loans3.txt', mode='r')\n",
    "file3_contents = file3.read()\n",
    "print(file3_contents)"
   ]
  },
  {
   "cell_type": "code",
   "execution_count": 60,
   "id": "b2b05c43",
   "metadata": {},
   "outputs": [],
   "source": [
    "file1.close()"
   ]
  },
  {
   "cell_type": "code",
   "execution_count": 61,
   "id": "27cf63e6",
   "metadata": {},
   "outputs": [
    {
     "ename": "ValueError",
     "evalue": "I/O operation on closed file.",
     "output_type": "error",
     "traceback": [
      "\u001b[1;31m---------------------------------------------------------------------------\u001b[0m",
      "\u001b[1;31mValueError\u001b[0m                                Traceback (most recent call last)",
      "\u001b[1;32m~\\AppData\\Local\\Temp\\ipykernel_6296\\391184240.py\u001b[0m in \u001b[0;36m<module>\u001b[1;34m\u001b[0m\n\u001b[1;32m----> 1\u001b[1;33m \u001b[0mfile1\u001b[0m\u001b[1;33m.\u001b[0m\u001b[0mread\u001b[0m\u001b[1;33m(\u001b[0m\u001b[1;33m)\u001b[0m\u001b[1;33m\u001b[0m\u001b[1;33m\u001b[0m\u001b[0m\n\u001b[0m",
      "\u001b[1;31mValueError\u001b[0m: I/O operation on closed file."
     ]
    }
   ],
   "source": [
    "file1.read()"
   ]
  },
  {
   "cell_type": "code",
   "execution_count": 62,
   "id": "f1ae6392",
   "metadata": {},
   "outputs": [],
   "source": [
    "file2.close()"
   ]
  },
  {
   "cell_type": "code",
   "execution_count": 63,
   "id": "30f1f980",
   "metadata": {},
   "outputs": [],
   "source": [
    "file3.close()"
   ]
  },
  {
   "cell_type": "markdown",
   "id": "ce4ca7ef",
   "metadata": {},
   "source": [
    "# closing files automatically using with"
   ]
  },
  {
   "cell_type": "code",
   "execution_count": 64,
   "id": "30c902af",
   "metadata": {},
   "outputs": [
    {
     "name": "stdout",
     "output_type": "stream",
     "text": [
      "amount,duration,rate,down_payment\n",
      "45230,48,0.07,4300\n",
      "883000,16,0.14,\n",
      "100000,12,0.1,\n",
      "728400,120,0.12,100000\n",
      "3637400,240,0.06,\n",
      "82900,90,0.07,8900\n",
      "316000,16,0.13,\n",
      "15230,48,0.08,4300\n",
      "991360,99,0.08,\n",
      "323000,27,0.09,4720010000,36,0.08,20000\n",
      "528400,120,0.11,100000\n",
      "8633400,240,0.06,\n",
      "12900,90,0.08,8900\n"
     ]
    }
   ],
   "source": [
    "with open('./data/loans3.txt') as file3:\n",
    "    file3_contents = file3.read()\n",
    "    print(file3_contents)"
   ]
  },
  {
   "cell_type": "code",
   "execution_count": 65,
   "id": "30d5b1d5",
   "metadata": {},
   "outputs": [
    {
     "ename": "ValueError",
     "evalue": "I/O operation on closed file.",
     "output_type": "error",
     "traceback": [
      "\u001b[1;31m---------------------------------------------------------------------------\u001b[0m",
      "\u001b[1;31mValueError\u001b[0m                                Traceback (most recent call last)",
      "\u001b[1;32m~\\AppData\\Local\\Temp\\ipykernel_6296\\790705746.py\u001b[0m in \u001b[0;36m<module>\u001b[1;34m\u001b[0m\n\u001b[1;32m----> 1\u001b[1;33m \u001b[0mfile3\u001b[0m\u001b[1;33m.\u001b[0m\u001b[0mread\u001b[0m\u001b[1;33m(\u001b[0m\u001b[1;33m)\u001b[0m\u001b[1;33m\u001b[0m\u001b[1;33m\u001b[0m\u001b[0m\n\u001b[0m",
      "\u001b[1;31mValueError\u001b[0m: I/O operation on closed file."
     ]
    }
   ],
   "source": [
    "file3.read()"
   ]
  },
  {
   "cell_type": "code",
   "execution_count": 66,
   "id": "a7a49a34",
   "metadata": {},
   "outputs": [
    {
     "name": "stdout",
     "output_type": "stream",
     "text": [
      "amount,duration,rate,down_payment\n",
      "100000,36,0.08,20000\n",
      "200000,12,0.1,\n",
      "628400,120,0.12,100000\n",
      "4637400,240,0.06,\n",
      "42900,90,0.07,8900\n",
      "916000,16,0.13,\n",
      "45230,48,0.08,4300\n",
      "991360,99,0.08,\n",
      "423000,27,0.09,47200\n"
     ]
    }
   ],
   "source": [
    "with open('./data/loans1.txt') as file1:\n",
    "    file1_contents = file1.read()\n",
    "    print(file1_contents)"
   ]
  },
  {
   "cell_type": "code",
   "execution_count": 67,
   "id": "7ff993ef",
   "metadata": {},
   "outputs": [
    {
     "ename": "ValueError",
     "evalue": "I/O operation on closed file.",
     "output_type": "error",
     "traceback": [
      "\u001b[1;31m---------------------------------------------------------------------------\u001b[0m",
      "\u001b[1;31mValueError\u001b[0m                                Traceback (most recent call last)",
      "\u001b[1;32m~\\AppData\\Local\\Temp\\ipykernel_6296\\391184240.py\u001b[0m in \u001b[0;36m<module>\u001b[1;34m\u001b[0m\n\u001b[1;32m----> 1\u001b[1;33m \u001b[0mfile1\u001b[0m\u001b[1;33m.\u001b[0m\u001b[0mread\u001b[0m\u001b[1;33m(\u001b[0m\u001b[1;33m)\u001b[0m\u001b[1;33m\u001b[0m\u001b[1;33m\u001b[0m\u001b[0m\n\u001b[0m",
      "\u001b[1;31mValueError\u001b[0m: I/O operation on closed file."
     ]
    }
   ],
   "source": [
    "file1.read()"
   ]
  },
  {
   "cell_type": "code",
   "execution_count": 68,
   "id": "10ab0c1e",
   "metadata": {},
   "outputs": [
    {
     "name": "stdout",
     "output_type": "stream",
     "text": [
      "amount,duration,rate,down_payment\n",
      "828400,120,0.11,100000\n",
      "4633400,240,0.06,\n",
      "42900,90,0.08,8900\n",
      "983000,16,0.14,\n",
      "15230,48,0.07,4300\n"
     ]
    }
   ],
   "source": [
    "with open('./data/loans2.txt') as file2:\n",
    "    file2_contents = file2.read()\n",
    "    print(file2_contents)"
   ]
  },
  {
   "cell_type": "code",
   "execution_count": 69,
   "id": "9be7d4d0",
   "metadata": {},
   "outputs": [
    {
     "ename": "ValueError",
     "evalue": "I/O operation on closed file.",
     "output_type": "error",
     "traceback": [
      "\u001b[1;31m---------------------------------------------------------------------------\u001b[0m",
      "\u001b[1;31mValueError\u001b[0m                                Traceback (most recent call last)",
      "\u001b[1;32m~\\AppData\\Local\\Temp\\ipykernel_6296\\3036511092.py\u001b[0m in \u001b[0;36m<module>\u001b[1;34m\u001b[0m\n\u001b[1;32m----> 1\u001b[1;33m \u001b[0mfile2\u001b[0m\u001b[1;33m.\u001b[0m\u001b[0mread\u001b[0m\u001b[1;33m(\u001b[0m\u001b[1;33m)\u001b[0m\u001b[1;33m\u001b[0m\u001b[1;33m\u001b[0m\u001b[0m\n\u001b[0m",
      "\u001b[1;31mValueError\u001b[0m: I/O operation on closed file."
     ]
    }
   ],
   "source": [
    "file2.read()"
   ]
  },
  {
   "cell_type": "markdown",
   "id": "f254b850",
   "metadata": {},
   "source": [
    "# Reading a file line by line"
   ]
  },
  {
   "cell_type": "code",
   "execution_count": 70,
   "id": "ab5b6cfe",
   "metadata": {},
   "outputs": [],
   "source": [
    "with open('./data/loans1.txt') as file1:\n",
    "    file1_lines = file1.readlines()"
   ]
  },
  {
   "cell_type": "code",
   "execution_count": 71,
   "id": "2fbbe18c",
   "metadata": {},
   "outputs": [
    {
     "data": {
      "text/plain": [
       "['amount,duration,rate,down_payment\\n',\n",
       " '100000,36,0.08,20000\\n',\n",
       " '200000,12,0.1,\\n',\n",
       " '628400,120,0.12,100000\\n',\n",
       " '4637400,240,0.06,\\n',\n",
       " '42900,90,0.07,8900\\n',\n",
       " '916000,16,0.13,\\n',\n",
       " '45230,48,0.08,4300\\n',\n",
       " '991360,99,0.08,\\n',\n",
       " '423000,27,0.09,47200']"
      ]
     },
     "execution_count": 71,
     "metadata": {},
     "output_type": "execute_result"
    }
   ],
   "source": [
    "file1_lines"
   ]
  },
  {
   "cell_type": "code",
   "execution_count": 72,
   "id": "55098b39",
   "metadata": {},
   "outputs": [
    {
     "ename": "ValueError",
     "evalue": "I/O operation on closed file.",
     "output_type": "error",
     "traceback": [
      "\u001b[1;31m---------------------------------------------------------------------------\u001b[0m",
      "\u001b[1;31mValueError\u001b[0m                                Traceback (most recent call last)",
      "\u001b[1;32m~\\AppData\\Local\\Temp\\ipykernel_6296\\391184240.py\u001b[0m in \u001b[0;36m<module>\u001b[1;34m\u001b[0m\n\u001b[1;32m----> 1\u001b[1;33m \u001b[0mfile1\u001b[0m\u001b[1;33m.\u001b[0m\u001b[0mread\u001b[0m\u001b[1;33m(\u001b[0m\u001b[1;33m)\u001b[0m\u001b[1;33m\u001b[0m\u001b[1;33m\u001b[0m\u001b[0m\n\u001b[0m",
      "\u001b[1;31mValueError\u001b[0m: I/O operation on closed file."
     ]
    }
   ],
   "source": [
    "file1.read()"
   ]
  },
  {
   "cell_type": "code",
   "execution_count": 73,
   "id": "654b0c26",
   "metadata": {},
   "outputs": [
    {
     "ename": "ValueError",
     "evalue": "I/O operation on closed file.",
     "output_type": "error",
     "traceback": [
      "\u001b[1;31m---------------------------------------------------------------------------\u001b[0m",
      "\u001b[1;31mValueError\u001b[0m                                Traceback (most recent call last)",
      "\u001b[1;32m~\\AppData\\Local\\Temp\\ipykernel_6296\\984414980.py\u001b[0m in \u001b[0;36m<module>\u001b[1;34m\u001b[0m\n\u001b[1;32m----> 1\u001b[1;33m \u001b[0mfile1\u001b[0m\u001b[1;33m.\u001b[0m\u001b[0mreadlines\u001b[0m\u001b[1;33m(\u001b[0m\u001b[1;33m)\u001b[0m\u001b[1;33m\u001b[0m\u001b[1;33m\u001b[0m\u001b[0m\n\u001b[0m",
      "\u001b[1;31mValueError\u001b[0m: I/O operation on closed file."
     ]
    }
   ],
   "source": [
    "file1.readlines()"
   ]
  },
  {
   "cell_type": "code",
   "execution_count": 74,
   "id": "4a40e7c5",
   "metadata": {},
   "outputs": [],
   "source": [
    "with open('./data/loans2.txt') as file2:\n",
    "    file2_lines = file2.readlines()"
   ]
  },
  {
   "cell_type": "code",
   "execution_count": 75,
   "id": "c808c9d9",
   "metadata": {},
   "outputs": [
    {
     "data": {
      "text/plain": [
       "['amount,duration,rate,down_payment\\n',\n",
       " '828400,120,0.11,100000\\n',\n",
       " '4633400,240,0.06,\\n',\n",
       " '42900,90,0.08,8900\\n',\n",
       " '983000,16,0.14,\\n',\n",
       " '15230,48,0.07,4300']"
      ]
     },
     "execution_count": 75,
     "metadata": {},
     "output_type": "execute_result"
    }
   ],
   "source": [
    "file2_lines"
   ]
  },
  {
   "cell_type": "code",
   "execution_count": 76,
   "id": "b268cd6b",
   "metadata": {},
   "outputs": [],
   "source": [
    "with open('./data/loans3.txt') as file3:\n",
    "    file3_lines = file3.readlines()"
   ]
  },
  {
   "cell_type": "code",
   "execution_count": 77,
   "id": "927200d3",
   "metadata": {},
   "outputs": [
    {
     "data": {
      "text/plain": [
       "['amount,duration,rate,down_payment\\n',\n",
       " '45230,48,0.07,4300\\n',\n",
       " '883000,16,0.14,\\n',\n",
       " '100000,12,0.1,\\n',\n",
       " '728400,120,0.12,100000\\n',\n",
       " '3637400,240,0.06,\\n',\n",
       " '82900,90,0.07,8900\\n',\n",
       " '316000,16,0.13,\\n',\n",
       " '15230,48,0.08,4300\\n',\n",
       " '991360,99,0.08,\\n',\n",
       " '323000,27,0.09,4720010000,36,0.08,20000\\n',\n",
       " '528400,120,0.11,100000\\n',\n",
       " '8633400,240,0.06,\\n',\n",
       " '12900,90,0.08,8900']"
      ]
     },
     "execution_count": 77,
     "metadata": {},
     "output_type": "execute_result"
    }
   ],
   "source": [
    "file3_lines"
   ]
  },
  {
   "cell_type": "markdown",
   "id": "69c06f5a",
   "metadata": {},
   "source": [
    "# Processing data from files"
   ]
  },
  {
   "cell_type": "code",
   "execution_count": 95,
   "id": "10a6c286",
   "metadata": {},
   "outputs": [],
   "source": [
    "# define func parse_header that takes a line as its input and returns a list of column headers\n",
    "def parse_headers(header_line):\n",
    "    return header_line.strip().split(',')\n",
    "#here strip func will clear empty spaces and \\n\n",
    "#split func will break string into list using the spearator , in this case"
   ]
  },
  {
   "cell_type": "code",
   "execution_count": 96,
   "id": "d278ce26",
   "metadata": {},
   "outputs": [
    {
     "data": {
      "text/plain": [
       "'amount,duration,rate,down_payment\\n'"
      ]
     },
     "execution_count": 96,
     "metadata": {},
     "output_type": "execute_result"
    }
   ],
   "source": [
    "file3_lines[0]"
   ]
  },
  {
   "cell_type": "code",
   "execution_count": 97,
   "id": "639519ef",
   "metadata": {},
   "outputs": [],
   "source": [
    "headers = parse_headers(file3_lines[0])"
   ]
  },
  {
   "cell_type": "code",
   "execution_count": 98,
   "id": "804d5d8c",
   "metadata": {},
   "outputs": [
    {
     "data": {
      "text/plain": [
       "['amount', 'duration', 'rate', 'down_payment']"
      ]
     },
     "execution_count": 98,
     "metadata": {},
     "output_type": "execute_result"
    }
   ],
   "source": [
    "headers"
   ]
  },
  {
   "cell_type": "code",
   "execution_count": 153,
   "id": "eb54a9cb",
   "metadata": {},
   "outputs": [],
   "source": [
    "# now define another func parse_valuesthat takes a line containing data and returns list of floating point numbers:\n",
    "def parse_values(data_line):\n",
    "    values = [] # empty array\n",
    "    for item in data_line.strip().split(','): #loop over stripped and splitted data_line\n",
    "        values.append(float(item)) # append the float of items in values array\n",
    "    return values #return values array"
   ]
  },
  {
   "cell_type": "code",
   "execution_count": 154,
   "id": "491b588a",
   "metadata": {},
   "outputs": [
    {
     "data": {
      "text/plain": [
       "'45230,48,0.07,4300\\n'"
      ]
     },
     "execution_count": 154,
     "metadata": {},
     "output_type": "execute_result"
    }
   ],
   "source": [
    "file3_lines[1]"
   ]
  },
  {
   "cell_type": "code",
   "execution_count": 155,
   "id": "cf3f4a9a",
   "metadata": {},
   "outputs": [
    {
     "data": {
      "text/plain": [
       "[45230.0, 48.0, 0.07, 4300.0]"
      ]
     },
     "execution_count": 155,
     "metadata": {},
     "output_type": "execute_result"
    }
   ],
   "source": [
    "parse_values(file3_lines[1])"
   ]
  },
  {
   "cell_type": "code",
   "execution_count": 156,
   "id": "7ebd544c",
   "metadata": {},
   "outputs": [
    {
     "data": {
      "text/plain": [
       "'883000,16,0.14,\\n'"
      ]
     },
     "execution_count": 156,
     "metadata": {},
     "output_type": "execute_result"
    }
   ],
   "source": [
    "file3_lines[2]"
   ]
  },
  {
   "cell_type": "code",
   "execution_count": 157,
   "id": "cd337310",
   "metadata": {},
   "outputs": [
    {
     "ename": "ValueError",
     "evalue": "could not convert string to float: ''",
     "output_type": "error",
     "traceback": [
      "\u001b[1;31m---------------------------------------------------------------------------\u001b[0m",
      "\u001b[1;31mValueError\u001b[0m                                Traceback (most recent call last)",
      "\u001b[1;32m~\\AppData\\Local\\Temp\\ipykernel_6296\\757119364.py\u001b[0m in \u001b[0;36m<module>\u001b[1;34m\u001b[0m\n\u001b[1;32m----> 1\u001b[1;33m \u001b[0mparse_values\u001b[0m\u001b[1;33m(\u001b[0m\u001b[0mfile3_lines\u001b[0m\u001b[1;33m[\u001b[0m\u001b[1;36m2\u001b[0m\u001b[1;33m]\u001b[0m\u001b[1;33m)\u001b[0m\u001b[1;33m\u001b[0m\u001b[1;33m\u001b[0m\u001b[0m\n\u001b[0m",
      "\u001b[1;32m~\\AppData\\Local\\Temp\\ipykernel_6296\\2026161434.py\u001b[0m in \u001b[0;36mparse_values\u001b[1;34m(data_line)\u001b[0m\n\u001b[0;32m      3\u001b[0m     \u001b[0mvalues\u001b[0m \u001b[1;33m=\u001b[0m \u001b[1;33m[\u001b[0m\u001b[1;33m]\u001b[0m \u001b[1;31m# empty array\u001b[0m\u001b[1;33m\u001b[0m\u001b[1;33m\u001b[0m\u001b[0m\n\u001b[0;32m      4\u001b[0m     \u001b[1;32mfor\u001b[0m \u001b[0mitem\u001b[0m \u001b[1;32min\u001b[0m \u001b[0mdata_line\u001b[0m\u001b[1;33m.\u001b[0m\u001b[0mstrip\u001b[0m\u001b[1;33m(\u001b[0m\u001b[1;33m)\u001b[0m\u001b[1;33m.\u001b[0m\u001b[0msplit\u001b[0m\u001b[1;33m(\u001b[0m\u001b[1;34m','\u001b[0m\u001b[1;33m)\u001b[0m\u001b[1;33m:\u001b[0m \u001b[1;31m#loop over stripped and splitted data_line\u001b[0m\u001b[1;33m\u001b[0m\u001b[1;33m\u001b[0m\u001b[0m\n\u001b[1;32m----> 5\u001b[1;33m         \u001b[0mvalues\u001b[0m\u001b[1;33m.\u001b[0m\u001b[0mappend\u001b[0m\u001b[1;33m(\u001b[0m\u001b[0mfloat\u001b[0m\u001b[1;33m(\u001b[0m\u001b[0mitem\u001b[0m\u001b[1;33m)\u001b[0m\u001b[1;33m)\u001b[0m \u001b[1;31m# append the float of items in values array\u001b[0m\u001b[1;33m\u001b[0m\u001b[1;33m\u001b[0m\u001b[0m\n\u001b[0m\u001b[0;32m      6\u001b[0m     \u001b[1;32mreturn\u001b[0m \u001b[0mvalues\u001b[0m \u001b[1;31m#return values array\u001b[0m\u001b[1;33m\u001b[0m\u001b[1;33m\u001b[0m\u001b[0m\n",
      "\u001b[1;31mValueError\u001b[0m: could not convert string to float: ''"
     ]
    }
   ],
   "source": [
    "parse_values(file3_lines[2])"
   ]
  },
  {
   "cell_type": "code",
   "execution_count": 158,
   "id": "9ee9c3e9",
   "metadata": {},
   "outputs": [
    {
     "ename": "ValueError",
     "evalue": "could not convert string to float: ''",
     "output_type": "error",
     "traceback": [
      "\u001b[1;31m---------------------------------------------------------------------------\u001b[0m",
      "\u001b[1;31mValueError\u001b[0m                                Traceback (most recent call last)",
      "\u001b[1;32m~\\AppData\\Local\\Temp\\ipykernel_6296\\137078020.py\u001b[0m in \u001b[0;36m<module>\u001b[1;34m\u001b[0m\n\u001b[1;32m----> 1\u001b[1;33m \u001b[0ma\u001b[0m \u001b[1;33m=\u001b[0m \u001b[0mparse_values\u001b[0m\u001b[1;33m(\u001b[0m\u001b[0mfile3_lines\u001b[0m\u001b[1;33m[\u001b[0m\u001b[1;36m2\u001b[0m\u001b[1;33m]\u001b[0m\u001b[1;33m)\u001b[0m\u001b[1;33m\u001b[0m\u001b[1;33m\u001b[0m\u001b[0m\n\u001b[0m",
      "\u001b[1;32m~\\AppData\\Local\\Temp\\ipykernel_6296\\2026161434.py\u001b[0m in \u001b[0;36mparse_values\u001b[1;34m(data_line)\u001b[0m\n\u001b[0;32m      3\u001b[0m     \u001b[0mvalues\u001b[0m \u001b[1;33m=\u001b[0m \u001b[1;33m[\u001b[0m\u001b[1;33m]\u001b[0m \u001b[1;31m# empty array\u001b[0m\u001b[1;33m\u001b[0m\u001b[1;33m\u001b[0m\u001b[0m\n\u001b[0;32m      4\u001b[0m     \u001b[1;32mfor\u001b[0m \u001b[0mitem\u001b[0m \u001b[1;32min\u001b[0m \u001b[0mdata_line\u001b[0m\u001b[1;33m.\u001b[0m\u001b[0mstrip\u001b[0m\u001b[1;33m(\u001b[0m\u001b[1;33m)\u001b[0m\u001b[1;33m.\u001b[0m\u001b[0msplit\u001b[0m\u001b[1;33m(\u001b[0m\u001b[1;34m','\u001b[0m\u001b[1;33m)\u001b[0m\u001b[1;33m:\u001b[0m \u001b[1;31m#loop over stripped and splitted data_line\u001b[0m\u001b[1;33m\u001b[0m\u001b[1;33m\u001b[0m\u001b[0m\n\u001b[1;32m----> 5\u001b[1;33m         \u001b[0mvalues\u001b[0m\u001b[1;33m.\u001b[0m\u001b[0mappend\u001b[0m\u001b[1;33m(\u001b[0m\u001b[0mfloat\u001b[0m\u001b[1;33m(\u001b[0m\u001b[0mitem\u001b[0m\u001b[1;33m)\u001b[0m\u001b[1;33m)\u001b[0m \u001b[1;31m# append the float of items in values array\u001b[0m\u001b[1;33m\u001b[0m\u001b[1;33m\u001b[0m\u001b[0m\n\u001b[0m\u001b[0;32m      6\u001b[0m     \u001b[1;32mreturn\u001b[0m \u001b[0mvalues\u001b[0m \u001b[1;31m#return values array\u001b[0m\u001b[1;33m\u001b[0m\u001b[1;33m\u001b[0m\u001b[0m\n",
      "\u001b[1;31mValueError\u001b[0m: could not convert string to float: ''"
     ]
    }
   ],
   "source": [
    "a = parse_values(file3_lines[2])"
   ]
  },
  {
   "cell_type": "code",
   "execution_count": 160,
   "id": "f8345a27",
   "metadata": {},
   "outputs": [
    {
     "data": {
      "text/plain": [
       "['883000', '16', '0.14', '']"
      ]
     },
     "execution_count": 160,
     "metadata": {},
     "output_type": "execute_result"
    }
   ],
   "source": [
    "a #the last element is empty string and cant convert into float, so giving ValueError"
   ]
  },
  {
   "cell_type": "code",
   "execution_count": 164,
   "id": "e71c3a68",
   "metadata": {},
   "outputs": [],
   "source": [
    "# we redefine the function to handle such cases\n",
    "def parse_values(data_line):\n",
    "    values = []\n",
    "    for item in data_line.strip().split(','):\n",
    "        if item == '': #here we check if there is empty string, if true, append 0.0 to the values array\n",
    "            values.append(0.0)\n",
    "        else:\n",
    "            try:\n",
    "                values.append(float(item)) \n",
    "            except ValueError:\n",
    "                values.append(float(item))\n",
    "    return values"
   ]
  },
  {
   "cell_type": "code",
   "execution_count": 165,
   "id": "66eb2787",
   "metadata": {},
   "outputs": [
    {
     "data": {
      "text/plain": [
       "[883000.0, 16.0, 0.14, 0.0]"
      ]
     },
     "execution_count": 165,
     "metadata": {},
     "output_type": "execute_result"
    }
   ],
   "source": [
    "parse_values(file3_lines[2])"
   ]
  },
  {
   "cell_type": "code",
   "execution_count": null,
   "id": "2ca7c237",
   "metadata": {},
   "outputs": [],
   "source": []
  }
 ],
 "metadata": {
  "kernelspec": {
   "display_name": "Python 3 (ipykernel)",
   "language": "python",
   "name": "python3"
  },
  "language_info": {
   "codemirror_mode": {
    "name": "ipython",
    "version": 3
   },
   "file_extension": ".py",
   "mimetype": "text/x-python",
   "name": "python",
   "nbconvert_exporter": "python",
   "pygments_lexer": "ipython3",
   "version": "3.9.13"
  }
 },
 "nbformat": 4,
 "nbformat_minor": 5
}
