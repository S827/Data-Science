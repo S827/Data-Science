{
 "cells": [
  {
   "cell_type": "code",
   "execution_count": 1,
   "id": "9e43236d",
   "metadata": {},
   "outputs": [],
   "source": [
    "today = 'Saturday'"
   ]
  },
  {
   "cell_type": "code",
   "execution_count": 2,
   "id": "b8516026",
   "metadata": {},
   "outputs": [
    {
     "name": "stdout",
     "output_type": "stream",
     "text": [
      "Today is Saturday\n"
     ]
    }
   ],
   "source": [
    "print('Today is', today)"
   ]
  },
  {
   "cell_type": "code",
   "execution_count": 3,
   "id": "0df04b23",
   "metadata": {},
   "outputs": [],
   "source": [
    "def say_hello():\n",
    "    print('hello!')\n",
    "    print('how r u')"
   ]
  },
  {
   "cell_type": "code",
   "execution_count": 4,
   "id": "2f8fa67d",
   "metadata": {},
   "outputs": [
    {
     "name": "stdout",
     "output_type": "stream",
     "text": [
      "hello!\n",
      "how r u\n"
     ]
    }
   ],
   "source": [
    "say_hello()"
   ]
  },
  {
   "cell_type": "markdown",
   "id": "6999f2bb",
   "metadata": {},
   "source": [
    "## function arguments"
   ]
  },
  {
   "cell_type": "code",
   "execution_count": 5,
   "id": "7d7908c2",
   "metadata": {},
   "outputs": [],
   "source": [
    "def filter_even(number_list):\n",
    "    result_list = []\n",
    "    for number in number_list:\n",
    "        if number % 2 == 0:\n",
    "            result_list.append(number)\n",
    "    return result_list"
   ]
  },
  {
   "cell_type": "code",
   "execution_count": 6,
   "id": "bddd1557",
   "metadata": {},
   "outputs": [],
   "source": [
    "even_list = filter_even([1,2,3,4,5,6,7,8,91])"
   ]
  },
  {
   "cell_type": "code",
   "execution_count": 7,
   "id": "3758ad97",
   "metadata": {},
   "outputs": [
    {
     "data": {
      "text/plain": [
       "[2, 4, 6, 8]"
      ]
     },
     "execution_count": 7,
     "metadata": {},
     "output_type": "execute_result"
    }
   ],
   "source": [
    "even_list"
   ]
  },
  {
   "cell_type": "markdown",
   "id": "a8f920f9",
   "metadata": {},
   "source": [
    "## Problem on function\n",
    "\n",
    "Radha is planning to buy a house that costs $1,260,000. She considering two options to finance her purchase:\n",
    "\n",
    "* Option 1: Make an immediate down payment of $300,000, and take loan 8-year loan with an interest rate of 10% (compounded monthly) for the remaining amount.\n",
    "* Option 2: Take a 10-year loan with an interest rate of 8% (compounded monthly) for the entire amount.\n",
    "\n",
    "Both these loans have to be paid back in equal monthly installments (EMIs). Which loan has a lower EMI among the two?"
   ]
  },
  {
   "cell_type": "code",
   "execution_count": 11,
   "id": "70c00a0d",
   "metadata": {},
   "outputs": [],
   "source": [
    "def loan_emi(amount):\n",
    "    emi = amount / 12\n",
    "    print('EMI is ${}'.format(emi))"
   ]
  },
  {
   "cell_type": "code",
   "execution_count": 12,
   "id": "1d8ad8bf",
   "metadata": {},
   "outputs": [
    {
     "name": "stdout",
     "output_type": "stream",
     "text": [
      "EMI is $105000.0\n"
     ]
    }
   ],
   "source": [
    "loan_emi(1260000)"
   ]
  },
  {
   "cell_type": "code",
   "execution_count": 15,
   "id": "38c91732",
   "metadata": {},
   "outputs": [],
   "source": [
    "def loan_emi(amount, duration):\n",
    "    emi = amount/duration\n",
    "    print('EMI is ${}'.format(emi))"
   ]
  },
  {
   "cell_type": "code",
   "execution_count": 17,
   "id": "6f0f0fc0",
   "metadata": {},
   "outputs": [
    {
     "name": "stdout",
     "output_type": "stream",
     "text": [
      "EMI is $10500.0\n"
     ]
    }
   ],
   "source": [
    "loan_emi(1260000, 120)"
   ]
  },
  {
   "cell_type": "code",
   "execution_count": 18,
   "id": "ffdeac89",
   "metadata": {},
   "outputs": [
    {
     "ename": "NameError",
     "evalue": "name 'emi' is not defined",
     "output_type": "error",
     "traceback": [
      "\u001b[1;31m---------------------------------------------------------------------------\u001b[0m",
      "\u001b[1;31mNameError\u001b[0m                                 Traceback (most recent call last)",
      "\u001b[1;32m~\\AppData\\Local\\Temp\\ipykernel_1308\\1358411353.py\u001b[0m in \u001b[0;36m<module>\u001b[1;34m\u001b[0m\n\u001b[1;32m----> 1\u001b[1;33m \u001b[0memi\u001b[0m\u001b[1;33m\u001b[0m\u001b[1;33m\u001b[0m\u001b[0m\n\u001b[0m",
      "\u001b[1;31mNameError\u001b[0m: name 'emi' is not defined"
     ]
    }
   ],
   "source": [
    "emi"
   ]
  },
  {
   "cell_type": "code",
   "execution_count": 19,
   "id": "570ddf06",
   "metadata": {},
   "outputs": [
    {
     "ename": "NameError",
     "evalue": "name 'amount' is not defined",
     "output_type": "error",
     "traceback": [
      "\u001b[1;31m---------------------------------------------------------------------------\u001b[0m",
      "\u001b[1;31mNameError\u001b[0m                                 Traceback (most recent call last)",
      "\u001b[1;32m~\\AppData\\Local\\Temp\\ipykernel_1308\\628052274.py\u001b[0m in \u001b[0;36m<module>\u001b[1;34m\u001b[0m\n\u001b[1;32m----> 1\u001b[1;33m \u001b[0mamount\u001b[0m\u001b[1;33m\u001b[0m\u001b[1;33m\u001b[0m\u001b[0m\n\u001b[0m",
      "\u001b[1;31mNameError\u001b[0m: name 'amount' is not defined"
     ]
    }
   ],
   "source": [
    "amount"
   ]
  },
  {
   "cell_type": "code",
   "execution_count": 20,
   "id": "f3bd34dc",
   "metadata": {},
   "outputs": [
    {
     "ename": "NameError",
     "evalue": "name 'duration' is not defined",
     "output_type": "error",
     "traceback": [
      "\u001b[1;31m---------------------------------------------------------------------------\u001b[0m",
      "\u001b[1;31mNameError\u001b[0m                                 Traceback (most recent call last)",
      "\u001b[1;32m~\\AppData\\Local\\Temp\\ipykernel_1308\\3792379043.py\u001b[0m in \u001b[0;36m<module>\u001b[1;34m\u001b[0m\n\u001b[1;32m----> 1\u001b[1;33m \u001b[0mduration\u001b[0m\u001b[1;33m\u001b[0m\u001b[1;33m\u001b[0m\u001b[0m\n\u001b[0m",
      "\u001b[1;31mNameError\u001b[0m: name 'duration' is not defined"
     ]
    }
   ],
   "source": [
    "duration"
   ]
  },
  {
   "cell_type": "code",
   "execution_count": 21,
   "id": "19742395",
   "metadata": {},
   "outputs": [
    {
     "name": "stdout",
     "output_type": "stream",
     "text": [
      "EMI is $13125.0\n"
     ]
    }
   ],
   "source": [
    "loan_emi(1260000, 8*12)"
   ]
  },
  {
   "cell_type": "code",
   "execution_count": 23,
   "id": "c64a3080",
   "metadata": {},
   "outputs": [
    {
     "name": "stdout",
     "output_type": "stream",
     "text": [
      "EMI is $10500.0\n"
     ]
    }
   ],
   "source": [
    "loan_emi(1260000,10*12)"
   ]
  },
  {
   "cell_type": "code",
   "execution_count": 24,
   "id": "5983c42f",
   "metadata": {},
   "outputs": [],
   "source": [
    "def loan_emi(amount, duration):\n",
    "    emi = amount/duration\n",
    "    return emi"
   ]
  },
  {
   "cell_type": "code",
   "execution_count": 25,
   "id": "b2cf1396",
   "metadata": {},
   "outputs": [],
   "source": [
    "emi1 = loan_emi(1260000,8*12)"
   ]
  },
  {
   "cell_type": "code",
   "execution_count": 26,
   "id": "eb0ff809",
   "metadata": {},
   "outputs": [],
   "source": [
    "emi2 = loan_emi(1260000,10*12)"
   ]
  },
  {
   "cell_type": "code",
   "execution_count": 27,
   "id": "5f224b4c",
   "metadata": {},
   "outputs": [
    {
     "data": {
      "text/plain": [
       "13125.0"
      ]
     },
     "execution_count": 27,
     "metadata": {},
     "output_type": "execute_result"
    }
   ],
   "source": [
    "emi1"
   ]
  },
  {
   "cell_type": "code",
   "execution_count": 28,
   "id": "e6a0c345",
   "metadata": {},
   "outputs": [
    {
     "data": {
      "text/plain": [
       "10500.0"
      ]
     },
     "execution_count": 28,
     "metadata": {},
     "output_type": "execute_result"
    }
   ],
   "source": [
    "emi2"
   ]
  },
  {
   "cell_type": "code",
   "execution_count": 31,
   "id": "6cf692a2",
   "metadata": {},
   "outputs": [],
   "source": [
    "def loan_emi(amount, duration, rate, down_payment = 0):\n",
    "    loan_amount = amount - down_payment\n",
    "    emi = loan_amount * rate *((1+rate)**duration)/(((1+rate)**duration)-1)\n",
    "    return emi"
   ]
  },
  {
   "cell_type": "code",
   "execution_count": 32,
   "id": "2ce9810a",
   "metadata": {},
   "outputs": [
    {
     "data": {
      "text/plain": [
       "14567.19753389219"
      ]
     },
     "execution_count": 32,
     "metadata": {},
     "output_type": "execute_result"
    }
   ],
   "source": [
    "loan_emi(1260000,8*12,0.1/12,3e5)"
   ]
  },
  {
   "cell_type": "code",
   "execution_count": 33,
   "id": "b1d3c4ed",
   "metadata": {},
   "outputs": [
    {
     "data": {
      "text/plain": [
       "15287.276888775077"
      ]
     },
     "execution_count": 33,
     "metadata": {},
     "output_type": "execute_result"
    }
   ],
   "source": [
    "loan_emi(1260000, 10*12, 0.08/12)"
   ]
  },
  {
   "cell_type": "markdown",
   "id": "1a10d39e",
   "metadata": {},
   "source": [
    "### named arguments"
   ]
  },
  {
   "cell_type": "code",
   "execution_count": 34,
   "id": "39c36d85",
   "metadata": {},
   "outputs": [],
   "source": [
    "emi1 = loan_emi(\n",
    "    amount=1260000,\n",
    "    duration=8*12,\n",
    "    rate = 0.1/12,\n",
    "    down_payment = 3e5\n",
    ")"
   ]
  },
  {
   "cell_type": "code",
   "execution_count": 35,
   "id": "e8bc2026",
   "metadata": {},
   "outputs": [
    {
     "data": {
      "text/plain": [
       "14567.19753389219"
      ]
     },
     "execution_count": 35,
     "metadata": {},
     "output_type": "execute_result"
    }
   ],
   "source": [
    "emi1"
   ]
  },
  {
   "cell_type": "code",
   "execution_count": 36,
   "id": "f678c3d5",
   "metadata": {},
   "outputs": [],
   "source": [
    "emi2 = loan_emi(\n",
    "    amount = 1260000,\n",
    "    duration=10*12,\n",
    "    rate=0.08/12\n",
    ")"
   ]
  },
  {
   "cell_type": "code",
   "execution_count": 37,
   "id": "8a077b45",
   "metadata": {},
   "outputs": [
    {
     "data": {
      "text/plain": [
       "15287.276888775077"
      ]
     },
     "execution_count": 37,
     "metadata": {},
     "output_type": "execute_result"
    }
   ],
   "source": [
    "emi2"
   ]
  },
  {
   "cell_type": "code",
   "execution_count": 38,
   "id": "3b189525",
   "metadata": {},
   "outputs": [],
   "source": [
    "import math"
   ]
  },
  {
   "cell_type": "code",
   "execution_count": 40,
   "id": "4b113a3a",
   "metadata": {},
   "outputs": [
    {
     "name": "stdout",
     "output_type": "stream",
     "text": [
      "Help on built-in function ceil in module math:\n",
      "\n",
      "ceil(x, /)\n",
      "    Return the ceiling of x as an Integral.\n",
      "    \n",
      "    This is the smallest integer >= x.\n",
      "\n"
     ]
    }
   ],
   "source": [
    "help(math.ceil)"
   ]
  },
  {
   "cell_type": "code",
   "execution_count": 41,
   "id": "2f23d536",
   "metadata": {},
   "outputs": [
    {
     "data": {
      "text/plain": [
       "2"
      ]
     },
     "execution_count": 41,
     "metadata": {},
     "output_type": "execute_result"
    }
   ],
   "source": [
    "math.ceil(1.2)"
   ]
  },
  {
   "cell_type": "code",
   "execution_count": 42,
   "id": "64fa4b74",
   "metadata": {},
   "outputs": [],
   "source": [
    "def loan_emi(amount, duration,rate,down_payment=0):\n",
    "    loan_amount = amount - down_payment\n",
    "    emi = loan_amount * rate * ((1+rate)**duration) / (((1+rate)**duration)-1)\n",
    "    emi = math.ceil(emi)\n",
    "    return emi"
   ]
  },
  {
   "cell_type": "code",
   "execution_count": 43,
   "id": "94f62e3b",
   "metadata": {},
   "outputs": [],
   "source": [
    "emi1 = loan_emi(\n",
    "    amount = 1260000,\n",
    "    duration = 8*12,\n",
    "    rate = 0.1/12,\n",
    "    down_payment = 3e5\n",
    ")"
   ]
  },
  {
   "cell_type": "code",
   "execution_count": 44,
   "id": "e7bb004d",
   "metadata": {},
   "outputs": [
    {
     "data": {
      "text/plain": [
       "14568"
      ]
     },
     "execution_count": 44,
     "metadata": {},
     "output_type": "execute_result"
    }
   ],
   "source": [
    "emi1"
   ]
  },
  {
   "cell_type": "code",
   "execution_count": 45,
   "id": "cbbd83cd",
   "metadata": {},
   "outputs": [],
   "source": [
    "emi2 = loan_emi(\n",
    "    amount = 1260000,\n",
    "    duration = 10*12,\n",
    "    rate = 0.08/12,\n",
    ")"
   ]
  },
  {
   "cell_type": "code",
   "execution_count": 46,
   "id": "10b2da8e",
   "metadata": {},
   "outputs": [
    {
     "data": {
      "text/plain": [
       "15288"
      ]
     },
     "execution_count": 46,
     "metadata": {},
     "output_type": "execute_result"
    }
   ],
   "source": [
    "emi2"
   ]
  },
  {
   "cell_type": "code",
   "execution_count": 47,
   "id": "6e865791",
   "metadata": {},
   "outputs": [
    {
     "name": "stdout",
     "output_type": "stream",
     "text": [
      "Option1 has the lower EMI: $14568\n"
     ]
    }
   ],
   "source": [
    "if emi1 < emi2:\n",
    "    print('Option1 has the lower EMI: ${}'.format(emi1))\n",
    "else:\n",
    "    print('Option2 has the lower EMI: ${}'.format(emi2))"
   ]
  },
  {
   "cell_type": "markdown",
   "id": "f324dcbd",
   "metadata": {},
   "source": [
    "## Reusing and improving functions"
   ]
  },
  {
   "cell_type": "markdown",
   "id": "a94def49",
   "metadata": {},
   "source": [
    "```\n",
    "Q: Shaun is currently paying back a home loan for a house he bought a few years ago. The cost of the house was $800,000.  \n",
    "Shaun made a down payment of 25% of the price. He financed the remaining amount using a 6-year loan with an interest rate of 7% per annum (compounded monthly). Shaun is now buying a car worth $60,000, which he is planning to finance using a 1-year loan with an interest rate of 12% per annum. Both loans are paid back in EMIs. What is the total monthly payment Shaun makes towards loan repayment?```\n"
   ]
  },
  {
   "cell_type": "code",
   "execution_count": 48,
   "id": "9fbc6d9b",
   "metadata": {},
   "outputs": [
    {
     "data": {
      "text/plain": [
       "10230"
      ]
     },
     "execution_count": 48,
     "metadata": {},
     "output_type": "execute_result"
    }
   ],
   "source": [
    "cost_of_house = 800000\n",
    "down_payment_house = 0.25 * cost_of_house\n",
    "remaining_amount_house = cost_of_house - down_payment_house\n",
    "duration_house = 6*12\n",
    "rate_house = 0.07/12\n",
    "emi_house = loan_emi(\n",
    "    amount = cost_of_house,\n",
    "    duration = duration_house,\n",
    "    rate = rate_house,\n",
    "    down_payment = down_payment_house\n",
    ")\n",
    "emi_house"
   ]
  },
  {
   "cell_type": "code",
   "execution_count": 50,
   "id": "a1502799",
   "metadata": {},
   "outputs": [
    {
     "data": {
      "text/plain": [
       "5331"
      ]
     },
     "execution_count": 50,
     "metadata": {},
     "output_type": "execute_result"
    }
   ],
   "source": [
    "cost_of_car = 60000\n",
    "duration_car = 1*12\n",
    "rate_car = 0.12/12\n",
    "emi_car = loan_emi(\n",
    "    amount = cost_of_car,\n",
    "    duration = duration_car,\n",
    "    rate = rate_car\n",
    ")\n",
    "emi_car"
   ]
  },
  {
   "cell_type": "code",
   "execution_count": 51,
   "id": "93d26c82",
   "metadata": {},
   "outputs": [],
   "source": [
    "total_emi = emi_house+emi_car"
   ]
  },
  {
   "cell_type": "code",
   "execution_count": 52,
   "id": "f2f00c35",
   "metadata": {},
   "outputs": [
    {
     "data": {
      "text/plain": [
       "15561"
      ]
     },
     "execution_count": 52,
     "metadata": {},
     "output_type": "execute_result"
    }
   ],
   "source": [
    "total_emi"
   ]
  },
  {
   "cell_type": "markdown",
   "id": "d9fafe6a",
   "metadata": {},
   "source": [
    "## Exceptions and try-except"
   ]
  },
  {
   "cell_type": "code",
   "execution_count": 53,
   "id": "31dae90f",
   "metadata": {},
   "outputs": [],
   "source": [
    "def loan_emi(amount, duration, rate, down_payment=0):\n",
    "    loan_amount = amount - down_payment\n",
    "    try:\n",
    "        emi = loan_amount * rate * ((1+rate)**duration)/(((1+rate)**duration)-1)\n",
    "    except ZeroDivisionError:\n",
    "        emi = loan_amount/duration\n",
    "    emi = math.ceil(emi)\n",
    "    return emi"
   ]
  },
  {
   "cell_type": "code",
   "execution_count": 54,
   "id": "06c02eeb",
   "metadata": {},
   "outputs": [
    {
     "data": {
      "text/plain": [
       "1267"
      ]
     },
     "execution_count": 54,
     "metadata": {},
     "output_type": "execute_result"
    }
   ],
   "source": [
    "emi_with_interest = loan_emi(\n",
    "    amount=100000,\n",
    "    duration=10*12,\n",
    "    rate=0.09/12\n",
    ")\n",
    "emi_with_interest"
   ]
  },
  {
   "cell_type": "code",
   "execution_count": 55,
   "id": "4317bea3",
   "metadata": {},
   "outputs": [
    {
     "data": {
      "text/plain": [
       "834"
      ]
     },
     "execution_count": 55,
     "metadata": {},
     "output_type": "execute_result"
    }
   ],
   "source": [
    "emi_without_interest = loan_emi(\n",
    "    amount=100000,\n",
    "    duration=10*12,\n",
    "    rate=0\n",
    ")\n",
    "emi_without_interest"
   ]
  },
  {
   "cell_type": "code",
   "execution_count": 60,
   "id": "020ce7d6",
   "metadata": {},
   "outputs": [],
   "source": [
    "total_interest = (emi_with_interest - emi_without_interest)*10*12"
   ]
  },
  {
   "cell_type": "code",
   "execution_count": 61,
   "id": "f8a83b6d",
   "metadata": {},
   "outputs": [
    {
     "name": "stdout",
     "output_type": "stream",
     "text": [
      "total interest paid is $51960.\n"
     ]
    }
   ],
   "source": [
    "print(\"total interest paid is ${}.\".format(total_interest))"
   ]
  },
  {
   "cell_type": "markdown",
   "id": "08652223",
   "metadata": {},
   "source": [
    "## Documenting function using Docstrings"
   ]
  },
  {
   "cell_type": "code",
   "execution_count": 62,
   "id": "0fa5d0fd",
   "metadata": {},
   "outputs": [],
   "source": [
    "def loan_emi(amount, duration, rate, down_payment=0):\n",
    "    \"\"\"Calculates the equal monthly instalment(EMI) for a loan.\n",
    "    \n",
    "    Arguments:\n",
    "        amount -  Total amount to be spent(loan+down payment)\n",
    "        duration - duration of loan(in months)\n",
    "        rate - rate of interest(monthly)\n",
    "        down_payment (optional)- optional initial payment(deducted from payment)\n",
    "    \"\"\"\n",
    "    loan_amount = amount - down_payment\n",
    "    try:\n",
    "        emi = loan_amount * rate * ((1+rate)**duration)/(((1+rate)**duration)-1)\n",
    "    except ZeroDivisionError:\n",
    "        emi = loan_amount / duration\n",
    "    emi = math.ceil(emi)\n",
    "    return emi"
   ]
  },
  {
   "cell_type": "code",
   "execution_count": 63,
   "id": "a23f5cf3",
   "metadata": {},
   "outputs": [
    {
     "name": "stdout",
     "output_type": "stream",
     "text": [
      "Help on function loan_emi in module __main__:\n",
      "\n",
      "loan_emi(amount, duration, rate, down_payment=0)\n",
      "    Calculates the equal monthly instalment(EMI) for a loan.\n",
      "    \n",
      "    Arguments:\n",
      "        amount -  Total amount to be spent(loan+down payment)\n",
      "        duration - duration of loan(in months)\n",
      "        rate - rate of interest(monthly)\n",
      "        down_payment (optional)- optional initial payment(deducted from payment)\n",
      "\n"
     ]
    }
   ],
   "source": [
    "help(loan_emi)"
   ]
  },
  {
   "cell_type": "code",
   "execution_count": 64,
   "id": "cc352c35",
   "metadata": {},
   "outputs": [
    {
     "data": {
      "application/javascript": [
       "window.require && require([\"base/js/namespace\"],function(Jupyter){Jupyter.notebook.save_checkpoint()})"
      ],
      "text/plain": [
       "<IPython.core.display.Javascript object>"
      ]
     },
     "metadata": {},
     "output_type": "display_data"
    },
    {
     "name": "stdout",
     "output_type": "stream",
     "text": [
      "[jovian] Updating notebook \"s827/python-functions-and-scope\" on https://jovian.com/\u001b[0m\n",
      "[jovian] Committed successfully! https://jovian.com/s827/python-functions-and-scope\u001b[0m\n"
     ]
    },
    {
     "data": {
      "text/plain": [
       "'https://jovian.com/s827/python-functions-and-scope'"
      ]
     },
     "execution_count": 64,
     "metadata": {},
     "output_type": "execute_result"
    }
   ],
   "source": [
    "jovian.commit(project='python-functions-and-scope', environment=None)"
   ]
  },
  {
   "cell_type": "markdown",
   "id": "3de98edb",
   "metadata": {},
   "source": [
    "# Exercise- Data Analysis for Vacation Planning\n",
    "\n"
   ]
  },
  {
   "cell_type": "code",
   "execution_count": 161,
   "id": "20d83ea1",
   "metadata": {},
   "outputs": [],
   "source": [
    "def cost_of_trip(flight_cost,hotel_rate,car_rental_rate,duration):\n",
    "    cost_of_hotel_stay = hotel_rate\n",
    "    car_rental = car_rental_rate\n",
    "    total_cost = cost_of_hotel_stay + car_rental + flight_cost\n",
    "    total_cost = math.ceil(total_cost)\n",
    "    return total_cost"
   ]
  },
  {
   "cell_type": "code",
   "execution_count": 432,
   "id": "479b830a",
   "metadata": {},
   "outputs": [
    {
     "data": {
      "text/plain": [
       "420"
      ]
     },
     "execution_count": 432,
     "metadata": {},
     "output_type": "execute_result"
    }
   ],
   "source": [
    "paris_trip = cost_of_trip(\n",
    "    flight_cost = 200,\n",
    "    hotel_rate = 20,\n",
    "    car_rental_rate = 200,\n",
    "    duration = 14\n",
    ")\n",
    "paris_trip"
   ]
  },
  {
   "cell_type": "code",
   "execution_count": 433,
   "id": "67a64db4",
   "metadata": {},
   "outputs": [
    {
     "data": {
      "text/plain": [
       "400"
      ]
     },
     "execution_count": 433,
     "metadata": {},
     "output_type": "execute_result"
    }
   ],
   "source": [
    "london_trip = cost_of_trip(\n",
    "    flight_cost = 250,\n",
    "    hotel_rate = 30,\n",
    "    car_rental_rate = 120,\n",
    "    duration = 7\n",
    ")\n",
    "london_trip"
   ]
  },
  {
   "cell_type": "code",
   "execution_count": 434,
   "id": "1da634f0",
   "metadata": {},
   "outputs": [
    {
     "data": {
      "text/plain": [
       "465"
      ]
     },
     "execution_count": 434,
     "metadata": {},
     "output_type": "execute_result"
    }
   ],
   "source": [
    "dubai_trip = cost_of_trip(\n",
    "    flight_cost = 370,\n",
    "    hotel_rate = 15,\n",
    "    car_rental_rate = 80,\n",
    "    duration = 7\n",
    ")\n",
    "dubai_trip"
   ]
  },
  {
   "cell_type": "code",
   "execution_count": 435,
   "id": "6f306322",
   "metadata": {},
   "outputs": [
    {
     "data": {
      "text/plain": [
       "530"
      ]
     },
     "execution_count": 435,
     "metadata": {},
     "output_type": "execute_result"
    }
   ],
   "source": [
    "mumbai_trip = cost_of_trip(\n",
    "    flight_cost = 450,\n",
    "    hotel_rate = 10,\n",
    "    car_rental_rate = 70,\n",
    "    duration = 7\n",
    ")\n",
    "mumbai_trip"
   ]
  },
  {
   "cell_type": "markdown",
   "id": "f0ea7c38",
   "metadata": {},
   "source": [
    "If you're planning a 1-week long trip, which city should you visit to spend the least amount of money?"
   ]
  },
  {
   "cell_type": "code",
   "execution_count": 134,
   "id": "82808068",
   "metadata": {},
   "outputs": [
    {
     "name": "stdout",
     "output_type": "stream",
     "text": [
      "Cheapest city to travel is:  paris\n"
     ]
    }
   ],
   "source": [
    "trip_dict = {\n",
    "    \"mumbai\":mumbai_trip,\n",
    "    \"london\":london_trip,\n",
    "    \"paris\":paris_trip,\n",
    "    \"dubai\":dubai_trip,\n",
    "}\n",
    "# trip_cost_list = list(trip_dict.values())\n",
    "# print(trip_cost_list)\n",
    "# trip_cost_list.sort()\n",
    "# trip_cost_list\n",
    "print('Cheapest city to travel is: ', list(trip_dict.keys())[list(trip_dict.values()).index(min(trip_dict.values()))])"
   ]
  },
  {
   "cell_type": "code",
   "execution_count": 116,
   "id": "5af899d7",
   "metadata": {},
   "outputs": [
    {
     "data": {
      "text/plain": [
       "540"
      ]
     },
     "execution_count": 116,
     "metadata": {},
     "output_type": "execute_result"
    }
   ],
   "source": [
    "chose_cheap_trip(paris_trip,london_trip,dubai_trip,mumbai_trip)"
   ]
  },
  {
   "cell_type": "code",
   "execution_count": 128,
   "id": "fe47a814",
   "metadata": {},
   "outputs": [
    {
     "data": {
      "text/plain": [
       "['mumbai', 'london', 'paris', 'dubai']"
      ]
     },
     "execution_count": 128,
     "metadata": {},
     "output_type": "execute_result"
    }
   ],
   "source": [
    "list(trip_dict.keys())"
   ]
  },
  {
   "cell_type": "code",
   "execution_count": 125,
   "id": "84110111",
   "metadata": {},
   "outputs": [
    {
     "data": {
      "text/plain": [
       "2"
      ]
     },
     "execution_count": 125,
     "metadata": {},
     "output_type": "execute_result"
    }
   ],
   "source": [
    "list(trip_dict.values()).index(trip_cost_list[0])"
   ]
  },
  {
   "cell_type": "code",
   "execution_count": 248,
   "id": "6e8e6366",
   "metadata": {},
   "outputs": [],
   "source": [
    "\n",
    "cost_trip = 0;\n",
    "def chose_city(duration):\n",
    "    paris_trip = cost_of_trip(200,20*duration,200*math.ceil(duration/7),duration)\n",
    "    london_trip = cost_of_trip(250,30*duration,120*math.ceil(duration/7),duration)\n",
    "    dubai_trip = cost_of_trip(370,15*duration,80*math.ceil(duration/7),duration)\n",
    "    mumbai_trip = cost_of_trip(450,10*duration,70*math.ceil(duration/7),duration)\n",
    "    trip_dict = {\n",
    "    \"mumbai\":mumbai_trip,\n",
    "    \"london\":london_trip,\n",
    "    \"paris\":paris_trip,\n",
    "    \"dubai\":dubai_trip,\n",
    "    }\n",
    "    cheap_city = list(trip_dict.keys())[list(trip_dict.values()).index(min(trip_dict.values()))]\n",
    "    cost_trip = trip_dict[cheap_city]\n",
    "    print('cheapest city to travel is {} and cost is {}'.format(cheap_city, cost_trip))\n",
    "    return cost_trip"
   ]
  },
  {
   "cell_type": "code",
   "execution_count": 249,
   "id": "7c10bb60",
   "metadata": {},
   "outputs": [
    {
     "name": "stdout",
     "output_type": "stream",
     "text": [
      "cheapest city to travel is london and cost is 400\n"
     ]
    },
    {
     "data": {
      "text/plain": [
       "400"
      ]
     },
     "execution_count": 249,
     "metadata": {},
     "output_type": "execute_result"
    }
   ],
   "source": [
    "chose_city(1)"
   ]
  },
  {
   "cell_type": "code",
   "execution_count": 216,
   "id": "29028d14",
   "metadata": {},
   "outputs": [
    {
     "data": {
      "text/plain": [
       "0"
      ]
     },
     "execution_count": 216,
     "metadata": {},
     "output_type": "execute_result"
    }
   ],
   "source": [
    "cost_trip"
   ]
  },
  {
   "cell_type": "markdown",
   "id": "cef79244",
   "metadata": {},
   "source": [
    "If you're planning a 1-week long trip, which city should you visit to spend the least amount of money?"
   ]
  },
  {
   "cell_type": "code",
   "execution_count": 190,
   "id": "815709ad",
   "metadata": {},
   "outputs": [
    {
     "name": "stdout",
     "output_type": "stream",
     "text": [
      "cheapest city to travel is paris and cost is 540\n"
     ]
    }
   ],
   "source": [
    "chose_city(7)"
   ]
  },
  {
   "cell_type": "markdown",
   "id": "37d20861",
   "metadata": {},
   "source": [
    "How does the answer to the previous question change if you change the trip's duration to \n",
    "1. four days, \n",
    "2. ten days, \n",
    "3. two weeks?"
   ]
  },
  {
   "cell_type": "code",
   "execution_count": 191,
   "id": "5ad6650b",
   "metadata": {},
   "outputs": [
    {
     "name": "stdout",
     "output_type": "stream",
     "text": [
      "cheapest city to travel is paris and cost is 480\n"
     ]
    }
   ],
   "source": [
    "chose_city(4)"
   ]
  },
  {
   "cell_type": "code",
   "execution_count": 192,
   "id": "82f6f875",
   "metadata": {},
   "outputs": [
    {
     "name": "stdout",
     "output_type": "stream",
     "text": [
      "cheapest city to travel is dubai and cost is 680\n"
     ]
    }
   ],
   "source": [
    "chose_city(10)"
   ]
  },
  {
   "cell_type": "code",
   "execution_count": 193,
   "id": "aa5763d0",
   "metadata": {},
   "outputs": [
    {
     "name": "stdout",
     "output_type": "stream",
     "text": [
      "cheapest city to travel is mumbai and cost is 730\n"
     ]
    }
   ],
   "source": [
    "chose_city(14)"
   ]
  },
  {
   "cell_type": "code",
   "execution_count": 207,
   "id": "1f4b4282",
   "metadata": {},
   "outputs": [],
   "source": [
    "days = math.ceil((1000 - 200)/(20 + (200/7)))\n"
   ]
  },
  {
   "cell_type": "code",
   "execution_count": 208,
   "id": "1ad1b212",
   "metadata": {},
   "outputs": [
    {
     "data": {
      "text/plain": [
       "17"
      ]
     },
     "execution_count": 208,
     "metadata": {},
     "output_type": "execute_result"
    }
   ],
   "source": [
    "days"
   ]
  },
  {
   "cell_type": "code",
   "execution_count": 443,
   "id": "21deea7e",
   "metadata": {},
   "outputs": [],
   "source": [
    "def chose_city(duration):\n",
    "    paris_trip = cost_of_trip(200,20*duration,200*math.ceil(duration/7),duration)\n",
    "    london_trip = cost_of_trip(250,30*duration,120*math.ceil(duration/7),duration)\n",
    "    dubai_trip = cost_of_trip(370,15*duration,80*math.ceil(duration/7),duration)\n",
    "    mumbai_trip = cost_of_trip(450,10*duration,70*math.ceil(duration/7),duration)\n",
    "    trip_dict = {\n",
    "    \"mumbai\":mumbai_trip,\n",
    "    \"london\":london_trip,\n",
    "    \"paris\":paris_trip,\n",
    "    \"dubai\":dubai_trip,\n",
    "    }\n",
    "    cheap_city = list(trip_dict.keys())[list(trip_dict.values()).index(min(trip_dict.values()))]\n",
    "    cost_trip = trip_dict[cheap_city]\n",
    "    return ('cheapest city to travel is {} and cost is {}'.format(cheap_city, cost_trip))\n",
    "    \n",
    "def budget_trip(budget):\n",
    "    y = 0\n",
    "    for i in range(1,500):\n",
    "        x = int(chose_city(i)[-4:])\n",
    "#         print(x)\n",
    "        if x > budget:\n",
    "            y = i - 1\n",
    "            x = int(chose_city(i-1)[-4:])\n",
    "            break\n",
    "    print(chose_city(y)[27:33],x,y)\n",
    "    return ('With the budget of ${}, one should visit {} and can stay there for {} days.'.format(budget,chose_city(y)[27:33],y))\n",
    "def cost(duration):\n",
    "    paris_trip = cost_of_trip(200,20*duration,200*math.ceil(duration/7),duration)\n",
    "    london_trip = cost_of_trip(250,30*duration,120*math.ceil(duration/7),duration)\n",
    "    dubai_trip = cost_of_trip(370,15*duration,80*math.ceil(duration/7),duration)\n",
    "    mumbai_trip = cost_of_trip(450,10*duration,70*math.ceil(duration/7),duration)\n",
    "#     city_trip = list(paris_trip,london_trip,dubai_trip,mumbai_trip)\n",
    "    trip_dict = {\n",
    "    \"mumbai\":mumbai_trip,\n",
    "    \"london\":london_trip,\n",
    "    \"paris\":paris_trip,\n",
    "    \"dubai\":dubai_trip,\n",
    "    }\n",
    "#     return trip_dict\n",
    "#     cheap_city = list(trip_dict.keys())[list(trip_dict.values()).index(min(trip_dict.values()))]\n",
    "\n",
    "    selected_city = list(trip_dict.keys())[list(trip_dict.values()).index(max(trip_dict.values()))]\n",
    "    cost_selected_city = trip_dict[selected_city]\n",
    "    return selected_city,cost_selected_city\n",
    "\n",
    "def min_day_trip(budget):\n",
    "    y = 0\n",
    "    for duration in range(1,100):\n",
    "        x = cost(duration)[0]\n",
    "        z = int(cost(duration)[1])\n",
    "        if z >= budget:\n",
    "            y = duration - 1\n",
    "            x = cost(duration-1)[0]\n",
    "            z = int(cost(duration-1)[1])\n",
    "            break\n",
    "    return x,y,z\n",
    "            \n",
    "    "
   ]
  },
  {
   "cell_type": "code",
   "execution_count": 444,
   "id": "194dd920",
   "metadata": {},
   "outputs": [
    {
     "data": {
      "text/plain": [
       "('london', 14, 910)"
      ]
     },
     "execution_count": 444,
     "metadata": {},
     "output_type": "execute_result"
    }
   ],
   "source": [
    "min_day_trip(1000)"
   ]
  },
  {
   "cell_type": "code",
   "execution_count": 418,
   "id": "408563eb",
   "metadata": {},
   "outputs": [
    {
     "data": {
      "text/plain": [
       "'cheapest city to travel is mumbai and cost is 1000'"
      ]
     },
     "execution_count": 418,
     "metadata": {},
     "output_type": "execute_result"
    }
   ],
   "source": [
    "chose_city(27)"
   ]
  },
  {
   "cell_type": "code",
   "execution_count": 438,
   "id": "b6916d1b",
   "metadata": {},
   "outputs": [
    {
     "data": {
      "text/plain": [
       "('london', 910)"
      ]
     },
     "execution_count": 438,
     "metadata": {},
     "output_type": "execute_result"
    }
   ],
   "source": [
    "cost(14)"
   ]
  },
  {
   "cell_type": "markdown",
   "id": "99036745",
   "metadata": {},
   "source": [
    "How does the answer to the previous question change if your budget is $600, $2000, or $1500?"
   ]
  },
  {
   "cell_type": "code",
   "execution_count": 445,
   "id": "c658289e",
   "metadata": {},
   "outputs": [
    {
     "name": "stdout",
     "output_type": "stream",
     "text": [
      "paris  540 7\n"
     ]
    },
    {
     "data": {
      "text/plain": [
       "'With the budget of $600, one should visit paris  and can stay there for 7 days.'"
      ]
     },
     "execution_count": 445,
     "metadata": {},
     "output_type": "execute_result"
    }
   ],
   "source": [
    "budget_trip(600)"
   ]
  },
  {
   "cell_type": "code",
   "execution_count": 449,
   "id": "a67ad36d",
   "metadata": {},
   "outputs": [
    {
     "name": "stdout",
     "output_type": "stream",
     "text": [
      "mumbai 1000 27\n"
     ]
    },
    {
     "data": {
      "text/plain": [
       "('london', 14, 910)"
      ]
     },
     "execution_count": 449,
     "metadata": {},
     "output_type": "execute_result"
    }
   ],
   "source": [
    "budget_trip(1000)\n",
    "min_day_trip(1000)"
   ]
  },
  {
   "cell_type": "code",
   "execution_count": 447,
   "id": "055e6df4",
   "metadata": {},
   "outputs": [
    {
     "name": "stdout",
     "output_type": "stream",
     "text": [
      "mumbai 1990 77\n"
     ]
    },
    {
     "data": {
      "text/plain": [
       "('london', 35, 1900)"
      ]
     },
     "execution_count": 447,
     "metadata": {},
     "output_type": "execute_result"
    }
   ],
   "source": [
    "budget_trip(2000)\n",
    "min_day_trip(2000)"
   ]
  },
  {
   "cell_type": "code",
   "execution_count": 448,
   "id": "eeb6e6f3",
   "metadata": {},
   "outputs": [
    {
     "name": "stdout",
     "output_type": "stream",
     "text": [
      "mumbai 1430 49\n"
     ]
    },
    {
     "data": {
      "text/plain": [
       "('paris', 24, 1480)"
      ]
     },
     "execution_count": 448,
     "metadata": {},
     "output_type": "execute_result"
    }
   ],
   "source": [
    "budget_trip(1500)\n",
    "min_day_trip(1500)"
   ]
  },
  {
   "cell_type": "markdown",
   "id": "34d99beb",
   "metadata": {},
   "source": [
    "## jovian solution of above problem"
   ]
  },
  {
   "cell_type": "code",
   "execution_count": 450,
   "id": "4fd35340",
   "metadata": {},
   "outputs": [],
   "source": [
    "Paris = [200, 20, 200, 'Paris']\n",
    "London = [250, 30, 120, 'London']\n",
    "Dubai = [370, 15, 80, 'Dubai']\n",
    "Mumbai = [450, 10, 70, 'Mumbai']\n",
    "Cities = [Paris, London, Dubai, Mumbai]"
   ]
  },
  {
   "cell_type": "code",
   "execution_count": 451,
   "id": "fc0fe22d",
   "metadata": {},
   "outputs": [
    {
     "data": {
      "text/plain": [
       "[[200, 20, 200, 'Paris'],\n",
       " [250, 30, 120, 'London'],\n",
       " [370, 15, 80, 'Dubai'],\n",
       " [450, 10, 70, 'Mumbai']]"
      ]
     },
     "execution_count": 451,
     "metadata": {},
     "output_type": "execute_result"
    }
   ],
   "source": [
    "Cities"
   ]
  },
  {
   "cell_type": "code",
   "execution_count": 458,
   "id": "e5d521db",
   "metadata": {},
   "outputs": [],
   "source": [
    "def cost_of_trip(flight, hotel_cost, car_rent, num_of_days=0):\n",
    "    return flight + (hotel_cost*num_of_days) + (car_rent*math.ceil(num_of_days/7))"
   ]
  },
  {
   "cell_type": "code",
   "execution_count": 459,
   "id": "2690264b",
   "metadata": {},
   "outputs": [],
   "source": [
    "def days_to_visit(days):\n",
    "    costs = []\n",
    "    for city in Cities:\n",
    "        cost = cost_of_trip(city[0],city[1],city[2],days)\n",
    "        costs.append((cost,city[3]))\n",
    "    min_cost = min(costs)\n",
    "    return min_cost"
   ]
  },
  {
   "cell_type": "markdown",
   "id": "10778859",
   "metadata": {},
   "source": [
    "1. If you're planning a 1-week long trip, which city should you visit to spend the least amount of money?"
   ]
  },
  {
   "cell_type": "code",
   "execution_count": 460,
   "id": "17077b40",
   "metadata": {},
   "outputs": [
    {
     "data": {
      "text/plain": [
       "(540, 'Paris')"
      ]
     },
     "execution_count": 460,
     "metadata": {},
     "output_type": "execute_result"
    }
   ],
   "source": [
    "days_to_visit(7)"
   ]
  },
  {
   "cell_type": "markdown",
   "id": "24a48cd5",
   "metadata": {},
   "source": [
    "2. How does the answer to the previous question change if you change the trip's duration to four days, ten days or two weeks?"
   ]
  },
  {
   "cell_type": "code",
   "execution_count": 461,
   "id": "c6cbdb1d",
   "metadata": {},
   "outputs": [
    {
     "data": {
      "text/plain": [
       "(480, 'Paris')"
      ]
     },
     "execution_count": 461,
     "metadata": {},
     "output_type": "execute_result"
    }
   ],
   "source": [
    "days_to_visit(4)"
   ]
  },
  {
   "cell_type": "code",
   "execution_count": 462,
   "id": "efd227fe",
   "metadata": {},
   "outputs": [
    {
     "data": {
      "text/plain": [
       "(680, 'Dubai')"
      ]
     },
     "execution_count": 462,
     "metadata": {},
     "output_type": "execute_result"
    }
   ],
   "source": [
    "days_to_visit(10)"
   ]
  },
  {
   "cell_type": "code",
   "execution_count": 463,
   "id": "ceea469b",
   "metadata": {},
   "outputs": [
    {
     "data": {
      "text/plain": [
       "(730, 'Mumbai')"
      ]
     },
     "execution_count": 463,
     "metadata": {},
     "output_type": "execute_result"
    }
   ],
   "source": [
    "days_to_visit(14)"
   ]
  },
  {
   "cell_type": "markdown",
   "id": "6d6e0c0f",
   "metadata": {},
   "source": [
    "3. If your total budget for the trip is $600, which city should you visit to maximize the duration of your trip? Which city should you visit if you want to minimize the duration?"
   ]
  },
  {
   "cell_type": "code",
   "execution_count": 467,
   "id": "e4a4ecf8",
   "metadata": {},
   "outputs": [],
   "source": [
    "def given_budget(budget, less_days=False):\n",
    "    days=1\n",
    "    cost=0\n",
    "    while cost<budget:\n",
    "#         copy of city cost\n",
    "        cost_before = cost\n",
    "        try:\n",
    "            costs_before = costs.copy()\n",
    "        except:\n",
    "            costs_before = {}\n",
    "        costs={}\n",
    "        for city in Cities:\n",
    "            cost = cost_of_trip(city[0],city[1],city[2],days)\n",
    "            costs[cost]=city[3]\n",
    "        if less_days:\n",
    "            cost = max(list(costs.keys()))\n",
    "            if cost >= budget:\n",
    "                return costs_before[cost_before],days-1\n",
    "        else:\n",
    "            cost=min(list(costs.keys()))\n",
    "            if cost >= budget:\n",
    "                return costs_before[cost_before],days-1\n",
    "        days+=1"
   ]
  },
  {
   "cell_type": "code",
   "execution_count": 468,
   "id": "432666a0",
   "metadata": {},
   "outputs": [],
   "source": [
    "city_to_stay_maximum_days=given_budget(600)"
   ]
  },
  {
   "cell_type": "code",
   "execution_count": 469,
   "id": "8d7f1774",
   "metadata": {},
   "outputs": [
    {
     "data": {
      "text/plain": [
       "('Paris', 7)"
      ]
     },
     "execution_count": 469,
     "metadata": {},
     "output_type": "execute_result"
    }
   ],
   "source": [
    "city_to_stay_maximum_days"
   ]
  },
  {
   "cell_type": "code",
   "execution_count": 470,
   "id": "c952e9ee",
   "metadata": {},
   "outputs": [],
   "source": [
    "city_to_stay_minimum_days=given_budget(600,less_days=True)"
   ]
  },
  {
   "cell_type": "code",
   "execution_count": 471,
   "id": "89bd4485",
   "metadata": {},
   "outputs": [
    {
     "data": {
      "text/plain": [
       "('Mumbai', 7)"
      ]
     },
     "execution_count": 471,
     "metadata": {},
     "output_type": "execute_result"
    }
   ],
   "source": [
    "city_to_stay_minimum_days"
   ]
  },
  {
   "cell_type": "code",
   "execution_count": 472,
   "id": "2b841f37",
   "metadata": {},
   "outputs": [
    {
     "data": {
      "text/plain": [
       "('Mumbai', 26)"
      ]
     },
     "execution_count": 472,
     "metadata": {},
     "output_type": "execute_result"
    }
   ],
   "source": [
    "given_budget(1000)"
   ]
  },
  {
   "cell_type": "code",
   "execution_count": 473,
   "id": "1f913f19",
   "metadata": {},
   "outputs": [
    {
     "data": {
      "text/plain": [
       "('London', 14)"
      ]
     },
     "execution_count": 473,
     "metadata": {},
     "output_type": "execute_result"
    }
   ],
   "source": [
    "given_budget(1000,less_days=True)"
   ]
  },
  {
   "cell_type": "code",
   "execution_count": 474,
   "id": "0e4feb9c",
   "metadata": {},
   "outputs": [
    {
     "data": {
      "text/plain": [
       "('Mumbai', 77)"
      ]
     },
     "execution_count": 474,
     "metadata": {},
     "output_type": "execute_result"
    }
   ],
   "source": [
    "given_budget(2000)"
   ]
  },
  {
   "cell_type": "code",
   "execution_count": 475,
   "id": "5c58c424",
   "metadata": {},
   "outputs": [
    {
     "data": {
      "text/plain": [
       "('London', 35)"
      ]
     },
     "execution_count": 475,
     "metadata": {},
     "output_type": "execute_result"
    }
   ],
   "source": [
    "given_budget(2000,less_days=True)"
   ]
  },
  {
   "cell_type": "code",
   "execution_count": 476,
   "id": "9286b32f",
   "metadata": {},
   "outputs": [
    {
     "data": {
      "text/plain": [
       "('Mumbai', 49)"
      ]
     },
     "execution_count": 476,
     "metadata": {},
     "output_type": "execute_result"
    }
   ],
   "source": [
    "given_budget(1500)"
   ]
  },
  {
   "cell_type": "code",
   "execution_count": 477,
   "id": "25ddffd8",
   "metadata": {},
   "outputs": [
    {
     "data": {
      "text/plain": [
       "('Paris', 24)"
      ]
     },
     "execution_count": 477,
     "metadata": {},
     "output_type": "execute_result"
    }
   ],
   "source": [
    "given_budget(1500,less_days=True)"
   ]
  },
  {
   "cell_type": "code",
   "execution_count": null,
   "id": "9ec4d3af",
   "metadata": {},
   "outputs": [],
   "source": []
  }
 ],
 "metadata": {
  "kernelspec": {
   "display_name": "Python 3 (ipykernel)",
   "language": "python",
   "name": "python3"
  },
  "language_info": {
   "codemirror_mode": {
    "name": "ipython",
    "version": 3
   },
   "file_extension": ".py",
   "mimetype": "text/x-python",
   "name": "python",
   "nbconvert_exporter": "python",
   "pygments_lexer": "ipython3",
   "version": "3.9.13"
  }
 },
 "nbformat": 4,
 "nbformat_minor": 5
}
