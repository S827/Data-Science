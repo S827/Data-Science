{
 "cells": [
  {
   "cell_type": "code",
   "execution_count": 1,
   "id": "1e289321",
   "metadata": {},
   "outputs": [],
   "source": [
    "today = 'Saturday'"
   ]
  },
  {
   "cell_type": "code",
   "execution_count": 2,
   "id": "6d0b8577",
   "metadata": {},
   "outputs": [
    {
     "name": "stdout",
     "output_type": "stream",
     "text": [
      "Today is Saturday\n"
     ]
    }
   ],
   "source": [
    "print('Today is', today)"
   ]
  },
  {
   "cell_type": "code",
   "execution_count": 3,
   "id": "6a334557",
   "metadata": {},
   "outputs": [],
   "source": [
    "def say_hello():\n",
    "    print('hello!')\n",
    "    print('how r u')"
   ]
  },
  {
   "cell_type": "code",
   "execution_count": 4,
   "id": "84033011",
   "metadata": {},
   "outputs": [
    {
     "name": "stdout",
     "output_type": "stream",
     "text": [
      "hello!\n",
      "how r u\n"
     ]
    }
   ],
   "source": [
    "say_hello()"
   ]
  },
  {
   "cell_type": "markdown",
   "id": "1b75531c",
   "metadata": {},
   "source": [
    "## function arguments"
   ]
  },
  {
   "cell_type": "code",
   "execution_count": 5,
   "id": "b6247e0b",
   "metadata": {},
   "outputs": [],
   "source": [
    "def filter_even(number_list):\n",
    "    result_list = []\n",
    "    for number in number_list:\n",
    "        if number % 2 == 0:\n",
    "            result_list.append(number)\n",
    "    return result_list"
   ]
  },
  {
   "cell_type": "code",
   "execution_count": 6,
   "id": "de0f5104",
   "metadata": {},
   "outputs": [],
   "source": [
    "even_list = filter_even([1,2,3,4,5,6,7,8,91])"
   ]
  },
  {
   "cell_type": "code",
   "execution_count": 7,
   "id": "a8770678",
   "metadata": {},
   "outputs": [
    {
     "data": {
      "text/plain": [
       "[2, 4, 6, 8]"
      ]
     },
     "execution_count": 7,
     "metadata": {},
     "output_type": "execute_result"
    }
   ],
   "source": [
    "even_list"
   ]
  },
  {
   "cell_type": "markdown",
   "id": "c819a795",
   "metadata": {},
   "source": [
    "## Problem on function\n",
    "\n",
    "Radha is planning to buy a house that costs $1,260,000. She considering two options to finance her purchase:\n",
    "\n",
    "* Option 1: Make an immediate down payment of $300,000, and take loan 8-year loan with an interest rate of 10% (compounded monthly) for the remaining amount.\n",
    "* Option 2: Take a 10-year loan with an interest rate of 8% (compounded monthly) for the entire amount.\n",
    "\n",
    "Both these loans have to be paid back in equal monthly installments (EMIs). Which loan has a lower EMI among the two?"
   ]
  },
  {
   "cell_type": "code",
   "execution_count": 11,
   "id": "f28d0ee9",
   "metadata": {},
   "outputs": [],
   "source": [
    "def loan_emi(amount):\n",
    "    emi = amount / 12\n",
    "    print('EMI is ${}'.format(emi))"
   ]
  },
  {
   "cell_type": "code",
   "execution_count": 12,
   "id": "75b6b219",
   "metadata": {},
   "outputs": [
    {
     "name": "stdout",
     "output_type": "stream",
     "text": [
      "EMI is $105000.0\n"
     ]
    }
   ],
   "source": [
    "loan_emi(1260000)"
   ]
  },
  {
   "cell_type": "code",
   "execution_count": 15,
   "id": "0c5738d3",
   "metadata": {},
   "outputs": [],
   "source": [
    "def loan_emi(amount, duration):\n",
    "    emi = amount/duration\n",
    "    print('EMI is ${}'.format(emi))"
   ]
  },
  {
   "cell_type": "code",
   "execution_count": 17,
   "id": "fe493bc4",
   "metadata": {},
   "outputs": [
    {
     "name": "stdout",
     "output_type": "stream",
     "text": [
      "EMI is $10500.0\n"
     ]
    }
   ],
   "source": [
    "loan_emi(1260000, 120)"
   ]
  },
  {
   "cell_type": "code",
   "execution_count": 18,
   "id": "cdd80dd6",
   "metadata": {},
   "outputs": [
    {
     "ename": "NameError",
     "evalue": "name 'emi' is not defined",
     "output_type": "error",
     "traceback": [
      "\u001b[1;31m---------------------------------------------------------------------------\u001b[0m",
      "\u001b[1;31mNameError\u001b[0m                                 Traceback (most recent call last)",
      "\u001b[1;32m~\\AppData\\Local\\Temp\\ipykernel_1308\\1358411353.py\u001b[0m in \u001b[0;36m<module>\u001b[1;34m\u001b[0m\n\u001b[1;32m----> 1\u001b[1;33m \u001b[0memi\u001b[0m\u001b[1;33m\u001b[0m\u001b[1;33m\u001b[0m\u001b[0m\n\u001b[0m",
      "\u001b[1;31mNameError\u001b[0m: name 'emi' is not defined"
     ]
    }
   ],
   "source": [
    "emi"
   ]
  },
  {
   "cell_type": "code",
   "execution_count": 19,
   "id": "2944f85a",
   "metadata": {},
   "outputs": [
    {
     "ename": "NameError",
     "evalue": "name 'amount' is not defined",
     "output_type": "error",
     "traceback": [
      "\u001b[1;31m---------------------------------------------------------------------------\u001b[0m",
      "\u001b[1;31mNameError\u001b[0m                                 Traceback (most recent call last)",
      "\u001b[1;32m~\\AppData\\Local\\Temp\\ipykernel_1308\\628052274.py\u001b[0m in \u001b[0;36m<module>\u001b[1;34m\u001b[0m\n\u001b[1;32m----> 1\u001b[1;33m \u001b[0mamount\u001b[0m\u001b[1;33m\u001b[0m\u001b[1;33m\u001b[0m\u001b[0m\n\u001b[0m",
      "\u001b[1;31mNameError\u001b[0m: name 'amount' is not defined"
     ]
    }
   ],
   "source": [
    "amount"
   ]
  },
  {
   "cell_type": "code",
   "execution_count": 20,
   "id": "a9aa14db",
   "metadata": {},
   "outputs": [
    {
     "ename": "NameError",
     "evalue": "name 'duration' is not defined",
     "output_type": "error",
     "traceback": [
      "\u001b[1;31m---------------------------------------------------------------------------\u001b[0m",
      "\u001b[1;31mNameError\u001b[0m                                 Traceback (most recent call last)",
      "\u001b[1;32m~\\AppData\\Local\\Temp\\ipykernel_1308\\3792379043.py\u001b[0m in \u001b[0;36m<module>\u001b[1;34m\u001b[0m\n\u001b[1;32m----> 1\u001b[1;33m \u001b[0mduration\u001b[0m\u001b[1;33m\u001b[0m\u001b[1;33m\u001b[0m\u001b[0m\n\u001b[0m",
      "\u001b[1;31mNameError\u001b[0m: name 'duration' is not defined"
     ]
    }
   ],
   "source": [
    "duration"
   ]
  },
  {
   "cell_type": "code",
   "execution_count": 21,
   "id": "86106fe9",
   "metadata": {},
   "outputs": [
    {
     "name": "stdout",
     "output_type": "stream",
     "text": [
      "EMI is $13125.0\n"
     ]
    }
   ],
   "source": [
    "loan_emi(1260000, 8*12)"
   ]
  },
  {
   "cell_type": "code",
   "execution_count": 23,
   "id": "cd7d37bd",
   "metadata": {},
   "outputs": [
    {
     "name": "stdout",
     "output_type": "stream",
     "text": [
      "EMI is $10500.0\n"
     ]
    }
   ],
   "source": [
    "loan_emi(1260000,10*12)"
   ]
  },
  {
   "cell_type": "code",
   "execution_count": 24,
   "id": "56d45b8c",
   "metadata": {},
   "outputs": [],
   "source": [
    "def loan_emi(amount, duration):\n",
    "    emi = amount/duration\n",
    "    return emi"
   ]
  },
  {
   "cell_type": "code",
   "execution_count": 25,
   "id": "b0c62d98",
   "metadata": {},
   "outputs": [],
   "source": [
    "emi1 = loan_emi(1260000,8*12)"
   ]
  },
  {
   "cell_type": "code",
   "execution_count": 26,
   "id": "1ec4f108",
   "metadata": {},
   "outputs": [],
   "source": [
    "emi2 = loan_emi(1260000,10*12)"
   ]
  },
  {
   "cell_type": "code",
   "execution_count": 27,
   "id": "92dbda35",
   "metadata": {},
   "outputs": [
    {
     "data": {
      "text/plain": [
       "13125.0"
      ]
     },
     "execution_count": 27,
     "metadata": {},
     "output_type": "execute_result"
    }
   ],
   "source": [
    "emi1"
   ]
  },
  {
   "cell_type": "code",
   "execution_count": 28,
   "id": "03d9a592",
   "metadata": {},
   "outputs": [
    {
     "data": {
      "text/plain": [
       "10500.0"
      ]
     },
     "execution_count": 28,
     "metadata": {},
     "output_type": "execute_result"
    }
   ],
   "source": [
    "emi2"
   ]
  },
  {
   "cell_type": "code",
   "execution_count": 31,
   "id": "ce2f90dd",
   "metadata": {},
   "outputs": [],
   "source": [
    "def loan_emi(amount, duration, rate, down_payment = 0):\n",
    "    loan_amount = amount - down_payment\n",
    "    emi = loan_amount * rate *((1+rate)**duration)/(((1+rate)**duration)-1)\n",
    "    return emi"
   ]
  },
  {
   "cell_type": "code",
   "execution_count": 32,
   "id": "735f9294",
   "metadata": {},
   "outputs": [
    {
     "data": {
      "text/plain": [
       "14567.19753389219"
      ]
     },
     "execution_count": 32,
     "metadata": {},
     "output_type": "execute_result"
    }
   ],
   "source": [
    "loan_emi(1260000,8*12,0.1/12,3e5)"
   ]
  },
  {
   "cell_type": "code",
   "execution_count": 33,
   "id": "a4977f4c",
   "metadata": {},
   "outputs": [
    {
     "data": {
      "text/plain": [
       "15287.276888775077"
      ]
     },
     "execution_count": 33,
     "metadata": {},
     "output_type": "execute_result"
    }
   ],
   "source": [
    "loan_emi(1260000, 10*12, 0.08/12)"
   ]
  },
  {
   "cell_type": "markdown",
   "id": "a756eff9",
   "metadata": {},
   "source": [
    "### named arguments"
   ]
  },
  {
   "cell_type": "code",
   "execution_count": 34,
   "id": "332ee6da",
   "metadata": {},
   "outputs": [],
   "source": [
    "emi1 = loan_emi(\n",
    "    amount=1260000,\n",
    "    duration=8*12,\n",
    "    rate = 0.1/12,\n",
    "    down_payment = 3e5\n",
    ")"
   ]
  },
  {
   "cell_type": "code",
   "execution_count": 35,
   "id": "9325ad60",
   "metadata": {},
   "outputs": [
    {
     "data": {
      "text/plain": [
       "14567.19753389219"
      ]
     },
     "execution_count": 35,
     "metadata": {},
     "output_type": "execute_result"
    }
   ],
   "source": [
    "emi1"
   ]
  },
  {
   "cell_type": "code",
   "execution_count": 36,
   "id": "63bda5ac",
   "metadata": {},
   "outputs": [],
   "source": [
    "emi2 = loan_emi(\n",
    "    amount = 1260000,\n",
    "    duration=10*12,\n",
    "    rate=0.08/12\n",
    ")"
   ]
  },
  {
   "cell_type": "code",
   "execution_count": 37,
   "id": "67edf063",
   "metadata": {},
   "outputs": [
    {
     "data": {
      "text/plain": [
       "15287.276888775077"
      ]
     },
     "execution_count": 37,
     "metadata": {},
     "output_type": "execute_result"
    }
   ],
   "source": [
    "emi2"
   ]
  },
  {
   "cell_type": "code",
   "execution_count": 38,
   "id": "b9e51b07",
   "metadata": {},
   "outputs": [],
   "source": [
    "import math"
   ]
  },
  {
   "cell_type": "code",
   "execution_count": 40,
   "id": "16491623",
   "metadata": {},
   "outputs": [
    {
     "name": "stdout",
     "output_type": "stream",
     "text": [
      "Help on built-in function ceil in module math:\n",
      "\n",
      "ceil(x, /)\n",
      "    Return the ceiling of x as an Integral.\n",
      "    \n",
      "    This is the smallest integer >= x.\n",
      "\n"
     ]
    }
   ],
   "source": [
    "help(math.ceil)"
   ]
  },
  {
   "cell_type": "code",
   "execution_count": 41,
   "id": "2894e1b9",
   "metadata": {},
   "outputs": [
    {
     "data": {
      "text/plain": [
       "2"
      ]
     },
     "execution_count": 41,
     "metadata": {},
     "output_type": "execute_result"
    }
   ],
   "source": [
    "math.ceil(1.2)"
   ]
  },
  {
   "cell_type": "code",
   "execution_count": 42,
   "id": "93372d51",
   "metadata": {},
   "outputs": [],
   "source": [
    "def loan_emi(amount, duration,rate,down_payment=0):\n",
    "    loan_amount = amount - down_payment\n",
    "    emi = loan_amount * rate * ((1+rate)**duration) / (((1+rate)**duration)-1)\n",
    "    emi = math.ceil(emi)\n",
    "    return emi"
   ]
  },
  {
   "cell_type": "code",
   "execution_count": 43,
   "id": "c4425729",
   "metadata": {},
   "outputs": [],
   "source": [
    "emi1 = loan_emi(\n",
    "    amount = 1260000,\n",
    "    duration = 8*12,\n",
    "    rate = 0.1/12,\n",
    "    down_payment = 3e5\n",
    ")"
   ]
  },
  {
   "cell_type": "code",
   "execution_count": 44,
   "id": "7628bf95",
   "metadata": {},
   "outputs": [
    {
     "data": {
      "text/plain": [
       "14568"
      ]
     },
     "execution_count": 44,
     "metadata": {},
     "output_type": "execute_result"
    }
   ],
   "source": [
    "emi1"
   ]
  },
  {
   "cell_type": "code",
   "execution_count": 45,
   "id": "0357a78b",
   "metadata": {},
   "outputs": [],
   "source": [
    "emi2 = loan_emi(\n",
    "    amount = 1260000,\n",
    "    duration = 10*12,\n",
    "    rate = 0.08/12,\n",
    ")"
   ]
  },
  {
   "cell_type": "code",
   "execution_count": 46,
   "id": "1ddffc81",
   "metadata": {},
   "outputs": [
    {
     "data": {
      "text/plain": [
       "15288"
      ]
     },
     "execution_count": 46,
     "metadata": {},
     "output_type": "execute_result"
    }
   ],
   "source": [
    "emi2"
   ]
  },
  {
   "cell_type": "code",
   "execution_count": 47,
   "id": "97b4ed84",
   "metadata": {},
   "outputs": [
    {
     "name": "stdout",
     "output_type": "stream",
     "text": [
      "Option1 has the lower EMI: $14568\n"
     ]
    }
   ],
   "source": [
    "if emi1 < emi2:\n",
    "    print('Option1 has the lower EMI: ${}'.format(emi1))\n",
    "else:\n",
    "    print('Option2 has the lower EMI: ${}'.format(emi2))"
   ]
  },
  {
   "cell_type": "markdown",
   "id": "371b937c",
   "metadata": {},
   "source": [
    "## Reusing and improving functions"
   ]
  },
  {
   "cell_type": "markdown",
   "id": "68e0f341",
   "metadata": {},
   "source": [
    "```\n",
    "Q: Shaun is currently paying back a home loan for a house he bought a few years ago. The cost of the house was $800,000.  \n",
    "Shaun made a down payment of 25% of the price. He financed the remaining amount using a 6-year loan with an interest rate of 7% per annum (compounded monthly). Shaun is now buying a car worth $60,000, which he is planning to finance using a 1-year loan with an interest rate of 12% per annum. Both loans are paid back in EMIs. What is the total monthly payment Shaun makes towards loan repayment?```\n"
   ]
  },
  {
   "cell_type": "code",
   "execution_count": 48,
   "id": "2fd41a5d",
   "metadata": {},
   "outputs": [
    {
     "data": {
      "text/plain": [
       "10230"
      ]
     },
     "execution_count": 48,
     "metadata": {},
     "output_type": "execute_result"
    }
   ],
   "source": [
    "cost_of_house = 800000\n",
    "down_payment_house = 0.25 * cost_of_house\n",
    "remaining_amount_house = cost_of_house - down_payment_house\n",
    "duration_house = 6*12\n",
    "rate_house = 0.07/12\n",
    "emi_house = loan_emi(\n",
    "    amount = cost_of_house,\n",
    "    duration = duration_house,\n",
    "    rate = rate_house,\n",
    "    down_payment = down_payment_house\n",
    ")\n",
    "emi_house"
   ]
  },
  {
   "cell_type": "code",
   "execution_count": 50,
   "id": "0f283224",
   "metadata": {},
   "outputs": [
    {
     "data": {
      "text/plain": [
       "5331"
      ]
     },
     "execution_count": 50,
     "metadata": {},
     "output_type": "execute_result"
    }
   ],
   "source": [
    "cost_of_car = 60000\n",
    "duration_car = 1*12\n",
    "rate_car = 0.12/12\n",
    "emi_car = loan_emi(\n",
    "    amount = cost_of_car,\n",
    "    duration = duration_car,\n",
    "    rate = rate_car\n",
    ")\n",
    "emi_car"
   ]
  },
  {
   "cell_type": "code",
   "execution_count": 51,
   "id": "bf664923",
   "metadata": {},
   "outputs": [],
   "source": [
    "total_emi = emi_house+emi_car"
   ]
  },
  {
   "cell_type": "code",
   "execution_count": 52,
   "id": "7349229c",
   "metadata": {},
   "outputs": [
    {
     "data": {
      "text/plain": [
       "15561"
      ]
     },
     "execution_count": 52,
     "metadata": {},
     "output_type": "execute_result"
    }
   ],
   "source": [
    "total_emi"
   ]
  },
  {
   "cell_type": "markdown",
   "id": "a1c82297",
   "metadata": {},
   "source": [
    "## Exceptions and try-except"
   ]
  },
  {
   "cell_type": "code",
   "execution_count": 53,
   "id": "2ef45bb1",
   "metadata": {},
   "outputs": [],
   "source": [
    "def loan_emi(amount, duration, rate, down_payment=0):\n",
    "    loan_amount = amount - down_payment\n",
    "    try:\n",
    "        emi = loan_amount * rate * ((1+rate)**duration)/(((1+rate)**duration)-1)\n",
    "    except ZeroDivisionError:\n",
    "        emi = loan_amount/duration\n",
    "    emi = math.ceil(emi)\n",
    "    return emi"
   ]
  },
  {
   "cell_type": "code",
   "execution_count": 54,
   "id": "a901aff0",
   "metadata": {},
   "outputs": [
    {
     "data": {
      "text/plain": [
       "1267"
      ]
     },
     "execution_count": 54,
     "metadata": {},
     "output_type": "execute_result"
    }
   ],
   "source": [
    "emi_with_interest = loan_emi(\n",
    "    amount=100000,\n",
    "    duration=10*12,\n",
    "    rate=0.09/12\n",
    ")\n",
    "emi_with_interest"
   ]
  },
  {
   "cell_type": "code",
   "execution_count": 55,
   "id": "69fc3757",
   "metadata": {},
   "outputs": [
    {
     "data": {
      "text/plain": [
       "834"
      ]
     },
     "execution_count": 55,
     "metadata": {},
     "output_type": "execute_result"
    }
   ],
   "source": [
    "emi_without_interest = loan_emi(\n",
    "    amount=100000,\n",
    "    duration=10*12,\n",
    "    rate=0\n",
    ")\n",
    "emi_without_interest"
   ]
  },
  {
   "cell_type": "code",
   "execution_count": 60,
   "id": "89326bdc",
   "metadata": {},
   "outputs": [],
   "source": [
    "total_interest = (emi_with_interest - emi_without_interest)*10*12"
   ]
  },
  {
   "cell_type": "code",
   "execution_count": 61,
   "id": "67a65ff8",
   "metadata": {},
   "outputs": [
    {
     "name": "stdout",
     "output_type": "stream",
     "text": [
      "total interest paid is $51960.\n"
     ]
    }
   ],
   "source": [
    "print(\"total interest paid is ${}.\".format(total_interest))"
   ]
  },
  {
   "cell_type": "markdown",
   "id": "411deb63",
   "metadata": {},
   "source": [
    "## Documenting function using Docstrings"
   ]
  },
  {
   "cell_type": "code",
   "execution_count": 62,
   "id": "0a41de71",
   "metadata": {},
   "outputs": [],
   "source": [
    "def loan_emi(amount, duration, rate, down_payment=0):\n",
    "    \"\"\"Calculates the equal monthly instalment(EMI) for a loan.\n",
    "    \n",
    "    Arguments:\n",
    "        amount -  Total amount to be spent(loan+down payment)\n",
    "        duration - duration of loan(in months)\n",
    "        rate - rate of interest(monthly)\n",
    "        down_payment (optional)- optional initial payment(deducted from payment)\n",
    "    \"\"\"\n",
    "    loan_amount = amount - down_payment\n",
    "    try:\n",
    "        emi = loan_amount * rate * ((1+rate)**duration)/(((1+rate)**duration)-1)\n",
    "    except ZeroDivisionError:\n",
    "        emi = loan_amount / duration\n",
    "    emi = math.ceil(emi)\n",
    "    return emi"
   ]
  },
  {
   "cell_type": "code",
   "execution_count": 63,
   "id": "31b805f8",
   "metadata": {},
   "outputs": [
    {
     "name": "stdout",
     "output_type": "stream",
     "text": [
      "Help on function loan_emi in module __main__:\n",
      "\n",
      "loan_emi(amount, duration, rate, down_payment=0)\n",
      "    Calculates the equal monthly instalment(EMI) for a loan.\n",
      "    \n",
      "    Arguments:\n",
      "        amount -  Total amount to be spent(loan+down payment)\n",
      "        duration - duration of loan(in months)\n",
      "        rate - rate of interest(monthly)\n",
      "        down_payment (optional)- optional initial payment(deducted from payment)\n",
      "\n"
     ]
    }
   ],
   "source": [
    "help(loan_emi)"
   ]
  },
  {
   "cell_type": "code",
   "execution_count": 64,
   "id": "9e9715df",
   "metadata": {},
   "outputs": [
    {
     "data": {
      "application/javascript": [
       "window.require && require([\"base/js/namespace\"],function(Jupyter){Jupyter.notebook.save_checkpoint()})"
      ],
      "text/plain": [
       "<IPython.core.display.Javascript object>"
      ]
     },
     "metadata": {},
     "output_type": "display_data"
    },
    {
     "name": "stdout",
     "output_type": "stream",
     "text": [
      "[jovian] Updating notebook \"s827/python-functions-and-scope\" on https://jovian.com/\u001b[0m\n",
      "[jovian] Committed successfully! https://jovian.com/s827/python-functions-and-scope\u001b[0m\n"
     ]
    },
    {
     "data": {
      "text/plain": [
       "'https://jovian.com/s827/python-functions-and-scope'"
      ]
     },
     "execution_count": 64,
     "metadata": {},
     "output_type": "execute_result"
    }
   ],
   "source": [
    "jovian.commit(project='python-functions-and-scope', environment=None)"
   ]
  },
  {
   "cell_type": "markdown",
   "id": "569b7b69",
   "metadata": {},
   "source": [
    "# Exercise- Data Analysis for Vacation Planning\n",
    "\n"
   ]
  },
  {
   "cell_type": "code",
   "execution_count": 66,
   "id": "0503da86",
   "metadata": {},
   "outputs": [],
   "source": [
    "def cost_of_trip(flight_cost,hotel_rate,car_rental_rate,duration):\n",
    "    cost_of_hotel_stay = hotel_rate*duration\n",
    "    if duration <= 7:\n",
    "        car_rental = car_rental_rate * 1\n",
    "    elif duration > 7 and duration <= 14:\n",
    "        car_rental = car_rental_rate * 2\n",
    "    total_cost = cost_of_hotel_stay + car_rental + flight_cost\n",
    "    total_cost = math.ceil(total_cost)\n",
    "    return total_cost"
   ]
  },
  {
   "cell_type": "code",
   "execution_count": 67,
   "id": "67a72160",
   "metadata": {},
   "outputs": [
    {
     "data": {
      "text/plain": [
       "540"
      ]
     },
     "execution_count": 67,
     "metadata": {},
     "output_type": "execute_result"
    }
   ],
   "source": [
    "paris_trip = cost_of_trip(\n",
    "    flight_cost = 200,\n",
    "    hotel_rate = 20,\n",
    "    car_rental_rate = 200,\n",
    "    duration = 7\n",
    ")\n",
    "paris_trip"
   ]
  },
  {
   "cell_type": "code",
   "execution_count": 68,
   "id": "1bce558e",
   "metadata": {},
   "outputs": [
    {
     "data": {
      "text/plain": [
       "580"
      ]
     },
     "execution_count": 68,
     "metadata": {},
     "output_type": "execute_result"
    }
   ],
   "source": [
    "london_trip = cost_of_trip(\n",
    "    flight_cost = 250,\n",
    "    hotel_rate = 30,\n",
    "    car_rental_rate = 120,\n",
    "    duration = 7\n",
    ")\n",
    "london_trip"
   ]
  },
  {
   "cell_type": "code",
   "execution_count": 69,
   "id": "2dc9028a",
   "metadata": {},
   "outputs": [
    {
     "data": {
      "text/plain": [
       "555"
      ]
     },
     "execution_count": 69,
     "metadata": {},
     "output_type": "execute_result"
    }
   ],
   "source": [
    "dubai_trip = cost_of_trip(\n",
    "    flight_cost = 370,\n",
    "    hotel_rate = 15,\n",
    "    car_rental_rate = 80,\n",
    "    duration = 7\n",
    ")\n",
    "dubai_trip"
   ]
  },
  {
   "cell_type": "code",
   "execution_count": 71,
   "id": "16c30451",
   "metadata": {},
   "outputs": [
    {
     "data": {
      "text/plain": [
       "590"
      ]
     },
     "execution_count": 71,
     "metadata": {},
     "output_type": "execute_result"
    }
   ],
   "source": [
    "mumbai_trip = cost_of_trip(\n",
    "    flight_cost = 450,\n",
    "    hotel_rate = 10,\n",
    "    car_rental_rate = 70,\n",
    "    duration = 7\n",
    ")\n",
    "mumbai_trip"
   ]
  },
  {
   "cell_type": "markdown",
   "id": "fdb68f94",
   "metadata": {},
   "source": [
    "If you're planning a 1-week long trip, which city should you visit to spend the least amount of money?"
   ]
  },
  {
   "cell_type": "code",
   "execution_count": 111,
   "id": "d1477d1c",
   "metadata": {},
   "outputs": [
    {
     "data": {
      "text/plain": [
       "[540, 580, 555, 590]"
      ]
     },
     "execution_count": 111,
     "metadata": {},
     "output_type": "execute_result"
    }
   ],
   "source": [
    "trip_dict = {\n",
    "    \"london\":london_trip,\n",
    "    \"paris\":paris_trip,\n",
    "    \"dubai\":dubai_trip,\n",
    "    \"mumbai\":mumbai_trip\n",
    "}\n",
    "trip_cost_list = list(trip_dict.values())\n",
    "trip_cost_list\n"
   ]
  },
  {
   "cell_type": "code",
   "execution_count": 99,
   "id": "85eb7b49",
   "metadata": {},
   "outputs": [
    {
     "data": {
      "text/plain": [
       "540"
      ]
     },
     "execution_count": 99,
     "metadata": {},
     "output_type": "execute_result"
    }
   ],
   "source": [
    "chose_cheap_trip(paris_trip,london_trip,dubai_trip,mumbai_trip)"
   ]
  },
  {
   "cell_type": "code",
   "execution_count": null,
   "id": "777800a4",
   "metadata": {},
   "outputs": [],
   "source": []
  }
 ],
 "metadata": {
  "kernelspec": {
   "display_name": "Python 3 (ipykernel)",
   "language": "python",
   "name": "python3"
  },
  "language_info": {
   "codemirror_mode": {
    "name": "ipython",
    "version": 3
   },
   "file_extension": ".py",
   "mimetype": "text/x-python",
   "name": "python",
   "nbconvert_exporter": "python",
   "pygments_lexer": "ipython3",
   "version": "3.9.13"
  }
 },
 "nbformat": 4,
 "nbformat_minor": 5
}
