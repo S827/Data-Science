{
 "cells": [
  {
   "cell_type": "code",
   "execution_count": 1,
   "id": "0e20d12f",
   "metadata": {},
   "outputs": [],
   "source": [
    "today = 'Saturday'"
   ]
  },
  {
   "cell_type": "code",
   "execution_count": 2,
   "id": "fa955c31",
   "metadata": {},
   "outputs": [
    {
     "name": "stdout",
     "output_type": "stream",
     "text": [
      "Today is Saturday\n"
     ]
    }
   ],
   "source": [
    "print('Today is', today)"
   ]
  },
  {
   "cell_type": "code",
   "execution_count": 3,
   "id": "8d5954f2",
   "metadata": {},
   "outputs": [],
   "source": [
    "def say_hello():\n",
    "    print('hello!')\n",
    "    print('how r u')"
   ]
  },
  {
   "cell_type": "code",
   "execution_count": 4,
   "id": "8dd20fac",
   "metadata": {},
   "outputs": [
    {
     "name": "stdout",
     "output_type": "stream",
     "text": [
      "hello!\n",
      "how r u\n"
     ]
    }
   ],
   "source": [
    "say_hello()"
   ]
  },
  {
   "cell_type": "markdown",
   "id": "8a8ecde6",
   "metadata": {},
   "source": [
    "## function arguments"
   ]
  },
  {
   "cell_type": "code",
   "execution_count": 5,
   "id": "79e8f075",
   "metadata": {},
   "outputs": [],
   "source": [
    "def filter_even(number_list):\n",
    "    result_list = []\n",
    "    for number in number_list:\n",
    "        if number % 2 == 0:\n",
    "            result_list.append(number)\n",
    "    return result_list"
   ]
  },
  {
   "cell_type": "code",
   "execution_count": 6,
   "id": "0b17f89e",
   "metadata": {},
   "outputs": [],
   "source": [
    "even_list = filter_even([1,2,3,4,5,6,7,8,91])"
   ]
  },
  {
   "cell_type": "code",
   "execution_count": 7,
   "id": "1e71c0e6",
   "metadata": {},
   "outputs": [
    {
     "data": {
      "text/plain": [
       "[2, 4, 6, 8]"
      ]
     },
     "execution_count": 7,
     "metadata": {},
     "output_type": "execute_result"
    }
   ],
   "source": [
    "even_list"
   ]
  },
  {
   "cell_type": "markdown",
   "id": "79bf9099",
   "metadata": {},
   "source": [
    "## Problem on function\n",
    "\n",
    "Radha is planning to buy a house that costs $1,260,000. She considering two options to finance her purchase:\n",
    "\n",
    "* Option 1: Make an immediate down payment of $300,000, and take loan 8-year loan with an interest rate of 10% (compounded monthly) for the remaining amount.\n",
    "* Option 2: Take a 10-year loan with an interest rate of 8% (compounded monthly) for the entire amount.\n",
    "\n",
    "Both these loans have to be paid back in equal monthly installments (EMIs). Which loan has a lower EMI among the two?"
   ]
  },
  {
   "cell_type": "code",
   "execution_count": 11,
   "id": "8bf46048",
   "metadata": {},
   "outputs": [],
   "source": [
    "def loan_emi(amount):\n",
    "    emi = amount / 12\n",
    "    print('EMI is ${}'.format(emi))"
   ]
  },
  {
   "cell_type": "code",
   "execution_count": 12,
   "id": "7a0155b6",
   "metadata": {},
   "outputs": [
    {
     "name": "stdout",
     "output_type": "stream",
     "text": [
      "EMI is $105000.0\n"
     ]
    }
   ],
   "source": [
    "loan_emi(1260000)"
   ]
  },
  {
   "cell_type": "code",
   "execution_count": 15,
   "id": "810c7bbd",
   "metadata": {},
   "outputs": [],
   "source": [
    "def loan_emi(amount, duration):\n",
    "    emi = amount/duration\n",
    "    print('EMI is ${}'.format(emi))"
   ]
  },
  {
   "cell_type": "code",
   "execution_count": 17,
   "id": "b4dbdc89",
   "metadata": {},
   "outputs": [
    {
     "name": "stdout",
     "output_type": "stream",
     "text": [
      "EMI is $10500.0\n"
     ]
    }
   ],
   "source": [
    "loan_emi(1260000, 120)"
   ]
  },
  {
   "cell_type": "code",
   "execution_count": 18,
   "id": "7efeb729",
   "metadata": {},
   "outputs": [
    {
     "ename": "NameError",
     "evalue": "name 'emi' is not defined",
     "output_type": "error",
     "traceback": [
      "\u001b[1;31m---------------------------------------------------------------------------\u001b[0m",
      "\u001b[1;31mNameError\u001b[0m                                 Traceback (most recent call last)",
      "\u001b[1;32m~\\AppData\\Local\\Temp\\ipykernel_1308\\1358411353.py\u001b[0m in \u001b[0;36m<module>\u001b[1;34m\u001b[0m\n\u001b[1;32m----> 1\u001b[1;33m \u001b[0memi\u001b[0m\u001b[1;33m\u001b[0m\u001b[1;33m\u001b[0m\u001b[0m\n\u001b[0m",
      "\u001b[1;31mNameError\u001b[0m: name 'emi' is not defined"
     ]
    }
   ],
   "source": [
    "emi"
   ]
  },
  {
   "cell_type": "code",
   "execution_count": 19,
   "id": "ba7fef6a",
   "metadata": {},
   "outputs": [
    {
     "ename": "NameError",
     "evalue": "name 'amount' is not defined",
     "output_type": "error",
     "traceback": [
      "\u001b[1;31m---------------------------------------------------------------------------\u001b[0m",
      "\u001b[1;31mNameError\u001b[0m                                 Traceback (most recent call last)",
      "\u001b[1;32m~\\AppData\\Local\\Temp\\ipykernel_1308\\628052274.py\u001b[0m in \u001b[0;36m<module>\u001b[1;34m\u001b[0m\n\u001b[1;32m----> 1\u001b[1;33m \u001b[0mamount\u001b[0m\u001b[1;33m\u001b[0m\u001b[1;33m\u001b[0m\u001b[0m\n\u001b[0m",
      "\u001b[1;31mNameError\u001b[0m: name 'amount' is not defined"
     ]
    }
   ],
   "source": [
    "amount"
   ]
  },
  {
   "cell_type": "code",
   "execution_count": 20,
   "id": "eba441ac",
   "metadata": {},
   "outputs": [
    {
     "ename": "NameError",
     "evalue": "name 'duration' is not defined",
     "output_type": "error",
     "traceback": [
      "\u001b[1;31m---------------------------------------------------------------------------\u001b[0m",
      "\u001b[1;31mNameError\u001b[0m                                 Traceback (most recent call last)",
      "\u001b[1;32m~\\AppData\\Local\\Temp\\ipykernel_1308\\3792379043.py\u001b[0m in \u001b[0;36m<module>\u001b[1;34m\u001b[0m\n\u001b[1;32m----> 1\u001b[1;33m \u001b[0mduration\u001b[0m\u001b[1;33m\u001b[0m\u001b[1;33m\u001b[0m\u001b[0m\n\u001b[0m",
      "\u001b[1;31mNameError\u001b[0m: name 'duration' is not defined"
     ]
    }
   ],
   "source": [
    "duration"
   ]
  },
  {
   "cell_type": "code",
   "execution_count": 21,
   "id": "d17f51ea",
   "metadata": {},
   "outputs": [
    {
     "name": "stdout",
     "output_type": "stream",
     "text": [
      "EMI is $13125.0\n"
     ]
    }
   ],
   "source": [
    "loan_emi(1260000, 8*12)"
   ]
  },
  {
   "cell_type": "code",
   "execution_count": 23,
   "id": "7cce19ea",
   "metadata": {},
   "outputs": [
    {
     "name": "stdout",
     "output_type": "stream",
     "text": [
      "EMI is $10500.0\n"
     ]
    }
   ],
   "source": [
    "loan_emi(1260000,10*12)"
   ]
  },
  {
   "cell_type": "code",
   "execution_count": 24,
   "id": "8de2e422",
   "metadata": {},
   "outputs": [],
   "source": [
    "def loan_emi(amount, duration):\n",
    "    emi = amount/duration\n",
    "    return emi"
   ]
  },
  {
   "cell_type": "code",
   "execution_count": 25,
   "id": "3ee9f424",
   "metadata": {},
   "outputs": [],
   "source": [
    "emi1 = loan_emi(1260000,8*12)"
   ]
  },
  {
   "cell_type": "code",
   "execution_count": 26,
   "id": "dea629cb",
   "metadata": {},
   "outputs": [],
   "source": [
    "emi2 = loan_emi(1260000,10*12)"
   ]
  },
  {
   "cell_type": "code",
   "execution_count": 27,
   "id": "45a1971f",
   "metadata": {},
   "outputs": [
    {
     "data": {
      "text/plain": [
       "13125.0"
      ]
     },
     "execution_count": 27,
     "metadata": {},
     "output_type": "execute_result"
    }
   ],
   "source": [
    "emi1"
   ]
  },
  {
   "cell_type": "code",
   "execution_count": 28,
   "id": "5d568f36",
   "metadata": {},
   "outputs": [
    {
     "data": {
      "text/plain": [
       "10500.0"
      ]
     },
     "execution_count": 28,
     "metadata": {},
     "output_type": "execute_result"
    }
   ],
   "source": [
    "emi2"
   ]
  },
  {
   "cell_type": "code",
   "execution_count": 31,
   "id": "5cad24af",
   "metadata": {},
   "outputs": [],
   "source": [
    "def loan_emi(amount, duration, rate, down_payment = 0):\n",
    "    loan_amount = amount - down_payment\n",
    "    emi = loan_amount * rate *((1+rate)**duration)/(((1+rate)**duration)-1)\n",
    "    return emi"
   ]
  },
  {
   "cell_type": "code",
   "execution_count": 32,
   "id": "272bf651",
   "metadata": {},
   "outputs": [
    {
     "data": {
      "text/plain": [
       "14567.19753389219"
      ]
     },
     "execution_count": 32,
     "metadata": {},
     "output_type": "execute_result"
    }
   ],
   "source": [
    "loan_emi(1260000,8*12,0.1/12,3e5)"
   ]
  },
  {
   "cell_type": "code",
   "execution_count": 33,
   "id": "88ad8e05",
   "metadata": {},
   "outputs": [
    {
     "data": {
      "text/plain": [
       "15287.276888775077"
      ]
     },
     "execution_count": 33,
     "metadata": {},
     "output_type": "execute_result"
    }
   ],
   "source": [
    "loan_emi(1260000, 10*12, 0.08/12)"
   ]
  },
  {
   "cell_type": "markdown",
   "id": "f74f7a43",
   "metadata": {},
   "source": [
    "### named arguments"
   ]
  },
  {
   "cell_type": "code",
   "execution_count": 34,
   "id": "5dfaf08d",
   "metadata": {},
   "outputs": [],
   "source": [
    "emi1 = loan_emi(\n",
    "    amount=1260000,\n",
    "    duration=8*12,\n",
    "    rate = 0.1/12,\n",
    "    down_payment = 3e5\n",
    ")"
   ]
  },
  {
   "cell_type": "code",
   "execution_count": 35,
   "id": "d75da957",
   "metadata": {},
   "outputs": [
    {
     "data": {
      "text/plain": [
       "14567.19753389219"
      ]
     },
     "execution_count": 35,
     "metadata": {},
     "output_type": "execute_result"
    }
   ],
   "source": [
    "emi1"
   ]
  },
  {
   "cell_type": "code",
   "execution_count": 36,
   "id": "d5ba6061",
   "metadata": {},
   "outputs": [],
   "source": [
    "emi2 = loan_emi(\n",
    "    amount = 1260000,\n",
    "    duration=10*12,\n",
    "    rate=0.08/12\n",
    ")"
   ]
  },
  {
   "cell_type": "code",
   "execution_count": 37,
   "id": "603abc99",
   "metadata": {},
   "outputs": [
    {
     "data": {
      "text/plain": [
       "15287.276888775077"
      ]
     },
     "execution_count": 37,
     "metadata": {},
     "output_type": "execute_result"
    }
   ],
   "source": [
    "emi2"
   ]
  },
  {
   "cell_type": "code",
   "execution_count": 38,
   "id": "a7949eba",
   "metadata": {},
   "outputs": [],
   "source": [
    "import math"
   ]
  },
  {
   "cell_type": "code",
   "execution_count": 40,
   "id": "70a7769d",
   "metadata": {},
   "outputs": [
    {
     "name": "stdout",
     "output_type": "stream",
     "text": [
      "Help on built-in function ceil in module math:\n",
      "\n",
      "ceil(x, /)\n",
      "    Return the ceiling of x as an Integral.\n",
      "    \n",
      "    This is the smallest integer >= x.\n",
      "\n"
     ]
    }
   ],
   "source": [
    "help(math.ceil)"
   ]
  },
  {
   "cell_type": "code",
   "execution_count": 41,
   "id": "ce148331",
   "metadata": {},
   "outputs": [
    {
     "data": {
      "text/plain": [
       "2"
      ]
     },
     "execution_count": 41,
     "metadata": {},
     "output_type": "execute_result"
    }
   ],
   "source": [
    "math.ceil(1.2)"
   ]
  },
  {
   "cell_type": "code",
   "execution_count": 42,
   "id": "a5bd2ef5",
   "metadata": {},
   "outputs": [],
   "source": [
    "def loan_emi(amount, duration,rate,down_payment=0):\n",
    "    loan_amount = amount - down_payment\n",
    "    emi = loan_amount * rate * ((1+rate)**duration) / (((1+rate)**duration)-1)\n",
    "    emi = math.ceil(emi)\n",
    "    return emi"
   ]
  },
  {
   "cell_type": "code",
   "execution_count": 43,
   "id": "8106a104",
   "metadata": {},
   "outputs": [],
   "source": [
    "emi1 = loan_emi(\n",
    "    amount = 1260000,\n",
    "    duration = 8*12,\n",
    "    rate = 0.1/12,\n",
    "    down_payment = 3e5\n",
    ")"
   ]
  },
  {
   "cell_type": "code",
   "execution_count": 44,
   "id": "586e11ef",
   "metadata": {},
   "outputs": [
    {
     "data": {
      "text/plain": [
       "14568"
      ]
     },
     "execution_count": 44,
     "metadata": {},
     "output_type": "execute_result"
    }
   ],
   "source": [
    "emi1"
   ]
  },
  {
   "cell_type": "code",
   "execution_count": 45,
   "id": "716eb4a4",
   "metadata": {},
   "outputs": [],
   "source": [
    "emi2 = loan_emi(\n",
    "    amount = 1260000,\n",
    "    duration = 10*12,\n",
    "    rate = 0.08/12,\n",
    ")"
   ]
  },
  {
   "cell_type": "code",
   "execution_count": 46,
   "id": "2aeb1fd8",
   "metadata": {},
   "outputs": [
    {
     "data": {
      "text/plain": [
       "15288"
      ]
     },
     "execution_count": 46,
     "metadata": {},
     "output_type": "execute_result"
    }
   ],
   "source": [
    "emi2"
   ]
  },
  {
   "cell_type": "code",
   "execution_count": 47,
   "id": "bfaf29b4",
   "metadata": {},
   "outputs": [
    {
     "name": "stdout",
     "output_type": "stream",
     "text": [
      "Option1 has the lower EMI: $14568\n"
     ]
    }
   ],
   "source": [
    "if emi1 < emi2:\n",
    "    print('Option1 has the lower EMI: ${}'.format(emi1))\n",
    "else:\n",
    "    print('Option2 has the lower EMI: ${}'.format(emi2))"
   ]
  },
  {
   "cell_type": "markdown",
   "id": "c47e2679",
   "metadata": {},
   "source": [
    "## Reusing and improving functions"
   ]
  },
  {
   "cell_type": "markdown",
   "id": "0c2fcad1",
   "metadata": {},
   "source": [
    "```\n",
    "Q: Shaun is currently paying back a home loan for a house he bought a few years ago. The cost of the house was $800,000.  \n",
    "Shaun made a down payment of 25% of the price. He financed the remaining amount using a 6-year loan with an interest rate of 7% per annum (compounded monthly). Shaun is now buying a car worth $60,000, which he is planning to finance using a 1-year loan with an interest rate of 12% per annum. Both loans are paid back in EMIs. What is the total monthly payment Shaun makes towards loan repayment?```\n"
   ]
  },
  {
   "cell_type": "code",
   "execution_count": 48,
   "id": "fa44334f",
   "metadata": {},
   "outputs": [
    {
     "data": {
      "text/plain": [
       "10230"
      ]
     },
     "execution_count": 48,
     "metadata": {},
     "output_type": "execute_result"
    }
   ],
   "source": [
    "cost_of_house = 800000\n",
    "down_payment_house = 0.25 * cost_of_house\n",
    "remaining_amount_house = cost_of_house - down_payment_house\n",
    "duration_house = 6*12\n",
    "rate_house = 0.07/12\n",
    "emi_house = loan_emi(\n",
    "    amount = cost_of_house,\n",
    "    duration = duration_house,\n",
    "    rate = rate_house,\n",
    "    down_payment = down_payment_house\n",
    ")\n",
    "emi_house"
   ]
  },
  {
   "cell_type": "code",
   "execution_count": 50,
   "id": "16adf561",
   "metadata": {},
   "outputs": [
    {
     "data": {
      "text/plain": [
       "5331"
      ]
     },
     "execution_count": 50,
     "metadata": {},
     "output_type": "execute_result"
    }
   ],
   "source": [
    "cost_of_car = 60000\n",
    "duration_car = 1*12\n",
    "rate_car = 0.12/12\n",
    "emi_car = loan_emi(\n",
    "    amount = cost_of_car,\n",
    "    duration = duration_car,\n",
    "    rate = rate_car\n",
    ")\n",
    "emi_car"
   ]
  },
  {
   "cell_type": "code",
   "execution_count": 51,
   "id": "68ef07c2",
   "metadata": {},
   "outputs": [],
   "source": [
    "total_emi = emi_house+emi_car"
   ]
  },
  {
   "cell_type": "code",
   "execution_count": 52,
   "id": "f99561f8",
   "metadata": {},
   "outputs": [
    {
     "data": {
      "text/plain": [
       "15561"
      ]
     },
     "execution_count": 52,
     "metadata": {},
     "output_type": "execute_result"
    }
   ],
   "source": [
    "total_emi"
   ]
  },
  {
   "cell_type": "markdown",
   "id": "215b973b",
   "metadata": {},
   "source": [
    "## Exceptions and try-except"
   ]
  },
  {
   "cell_type": "code",
   "execution_count": 53,
   "id": "911852cd",
   "metadata": {},
   "outputs": [],
   "source": [
    "def loan_emi(amount, duration, rate, down_payment=0):\n",
    "    loan_amount = amount - down_payment\n",
    "    try:\n",
    "        emi = loan_amount * rate * ((1+rate)**duration)/(((1+rate)**duration)-1)\n",
    "    except ZeroDivisionError:\n",
    "        emi = loan_amount/duration\n",
    "    emi = math.ceil(emi)\n",
    "    return emi"
   ]
  },
  {
   "cell_type": "code",
   "execution_count": 54,
   "id": "a12edee2",
   "metadata": {},
   "outputs": [
    {
     "data": {
      "text/plain": [
       "1267"
      ]
     },
     "execution_count": 54,
     "metadata": {},
     "output_type": "execute_result"
    }
   ],
   "source": [
    "emi_with_interest = loan_emi(\n",
    "    amount=100000,\n",
    "    duration=10*12,\n",
    "    rate=0.09/12\n",
    ")\n",
    "emi_with_interest"
   ]
  },
  {
   "cell_type": "code",
   "execution_count": 55,
   "id": "e9988318",
   "metadata": {},
   "outputs": [
    {
     "data": {
      "text/plain": [
       "834"
      ]
     },
     "execution_count": 55,
     "metadata": {},
     "output_type": "execute_result"
    }
   ],
   "source": [
    "emi_without_interest = loan_emi(\n",
    "    amount=100000,\n",
    "    duration=10*12,\n",
    "    rate=0\n",
    ")\n",
    "emi_without_interest"
   ]
  },
  {
   "cell_type": "code",
   "execution_count": 60,
   "id": "6a074f29",
   "metadata": {},
   "outputs": [],
   "source": [
    "total_interest = (emi_with_interest - emi_without_interest)*10*12"
   ]
  },
  {
   "cell_type": "code",
   "execution_count": 61,
   "id": "87190269",
   "metadata": {},
   "outputs": [
    {
     "name": "stdout",
     "output_type": "stream",
     "text": [
      "total interest paid is $51960.\n"
     ]
    }
   ],
   "source": [
    "print(\"total interest paid is ${}.\".format(total_interest))"
   ]
  },
  {
   "cell_type": "markdown",
   "id": "ccddcf4c",
   "metadata": {},
   "source": [
    "## Documenting function using Docstrings"
   ]
  },
  {
   "cell_type": "code",
   "execution_count": 62,
   "id": "0737e681",
   "metadata": {},
   "outputs": [],
   "source": [
    "def loan_emi(amount, duration, rate, down_payment=0):\n",
    "    \"\"\"Calculates the equal monthly instalment(EMI) for a loan.\n",
    "    \n",
    "    Arguments:\n",
    "        amount -  Total amount to be spent(loan+down payment)\n",
    "        duration - duration of loan(in months)\n",
    "        rate - rate of interest(monthly)\n",
    "        down_payment (optional)- optional initial payment(deducted from payment)\n",
    "    \"\"\"\n",
    "    loan_amount = amount - down_payment\n",
    "    try:\n",
    "        emi = loan_amount * rate * ((1+rate)**duration)/(((1+rate)**duration)-1)\n",
    "    except ZeroDivisionError:\n",
    "        emi = loan_amount / duration\n",
    "    emi = math.ceil(emi)\n",
    "    return emi"
   ]
  },
  {
   "cell_type": "code",
   "execution_count": 63,
   "id": "1efb2e65",
   "metadata": {},
   "outputs": [
    {
     "name": "stdout",
     "output_type": "stream",
     "text": [
      "Help on function loan_emi in module __main__:\n",
      "\n",
      "loan_emi(amount, duration, rate, down_payment=0)\n",
      "    Calculates the equal monthly instalment(EMI) for a loan.\n",
      "    \n",
      "    Arguments:\n",
      "        amount -  Total amount to be spent(loan+down payment)\n",
      "        duration - duration of loan(in months)\n",
      "        rate - rate of interest(monthly)\n",
      "        down_payment (optional)- optional initial payment(deducted from payment)\n",
      "\n"
     ]
    }
   ],
   "source": [
    "help(loan_emi)"
   ]
  },
  {
   "cell_type": "code",
   "execution_count": 64,
   "id": "107111bf",
   "metadata": {},
   "outputs": [
    {
     "data": {
      "application/javascript": [
       "window.require && require([\"base/js/namespace\"],function(Jupyter){Jupyter.notebook.save_checkpoint()})"
      ],
      "text/plain": [
       "<IPython.core.display.Javascript object>"
      ]
     },
     "metadata": {},
     "output_type": "display_data"
    },
    {
     "name": "stdout",
     "output_type": "stream",
     "text": [
      "[jovian] Updating notebook \"s827/python-functions-and-scope\" on https://jovian.com/\u001b[0m\n",
      "[jovian] Committed successfully! https://jovian.com/s827/python-functions-and-scope\u001b[0m\n"
     ]
    },
    {
     "data": {
      "text/plain": [
       "'https://jovian.com/s827/python-functions-and-scope'"
      ]
     },
     "execution_count": 64,
     "metadata": {},
     "output_type": "execute_result"
    }
   ],
   "source": [
    "jovian.commit(project='python-functions-and-scope', environment=None)"
   ]
  },
  {
   "cell_type": "markdown",
   "id": "3a6fafe5",
   "metadata": {},
   "source": [
    "# Exercise- Data Analysis for Vacation Planning\n",
    "\n"
   ]
  },
  {
   "cell_type": "code",
   "execution_count": 161,
   "id": "502052d9",
   "metadata": {},
   "outputs": [],
   "source": [
    "def cost_of_trip(flight_cost,hotel_rate,car_rental_rate,duration):\n",
    "    cost_of_hotel_stay = hotel_rate\n",
    "    car_rental = car_rental_rate\n",
    "    total_cost = cost_of_hotel_stay + car_rental + flight_cost\n",
    "    total_cost = math.ceil(total_cost)\n",
    "    return total_cost"
   ]
  },
  {
   "cell_type": "code",
   "execution_count": 432,
   "id": "a5d43afc",
   "metadata": {},
   "outputs": [
    {
     "data": {
      "text/plain": [
       "420"
      ]
     },
     "execution_count": 432,
     "metadata": {},
     "output_type": "execute_result"
    }
   ],
   "source": [
    "paris_trip = cost_of_trip(\n",
    "    flight_cost = 200,\n",
    "    hotel_rate = 20,\n",
    "    car_rental_rate = 200,\n",
    "    duration = 14\n",
    ")\n",
    "paris_trip"
   ]
  },
  {
   "cell_type": "code",
   "execution_count": 433,
   "id": "01b50f5c",
   "metadata": {},
   "outputs": [
    {
     "data": {
      "text/plain": [
       "400"
      ]
     },
     "execution_count": 433,
     "metadata": {},
     "output_type": "execute_result"
    }
   ],
   "source": [
    "london_trip = cost_of_trip(\n",
    "    flight_cost = 250,\n",
    "    hotel_rate = 30,\n",
    "    car_rental_rate = 120,\n",
    "    duration = 7\n",
    ")\n",
    "london_trip"
   ]
  },
  {
   "cell_type": "code",
   "execution_count": 434,
   "id": "1618ef01",
   "metadata": {},
   "outputs": [
    {
     "data": {
      "text/plain": [
       "465"
      ]
     },
     "execution_count": 434,
     "metadata": {},
     "output_type": "execute_result"
    }
   ],
   "source": [
    "dubai_trip = cost_of_trip(\n",
    "    flight_cost = 370,\n",
    "    hotel_rate = 15,\n",
    "    car_rental_rate = 80,\n",
    "    duration = 7\n",
    ")\n",
    "dubai_trip"
   ]
  },
  {
   "cell_type": "code",
   "execution_count": 435,
   "id": "e977cdce",
   "metadata": {},
   "outputs": [
    {
     "data": {
      "text/plain": [
       "530"
      ]
     },
     "execution_count": 435,
     "metadata": {},
     "output_type": "execute_result"
    }
   ],
   "source": [
    "mumbai_trip = cost_of_trip(\n",
    "    flight_cost = 450,\n",
    "    hotel_rate = 10,\n",
    "    car_rental_rate = 70,\n",
    "    duration = 7\n",
    ")\n",
    "mumbai_trip"
   ]
  },
  {
   "cell_type": "markdown",
   "id": "eb38b384",
   "metadata": {},
   "source": [
    "If you're planning a 1-week long trip, which city should you visit to spend the least amount of money?"
   ]
  },
  {
   "cell_type": "code",
   "execution_count": 134,
   "id": "1859451f",
   "metadata": {},
   "outputs": [
    {
     "name": "stdout",
     "output_type": "stream",
     "text": [
      "Cheapest city to travel is:  paris\n"
     ]
    }
   ],
   "source": [
    "trip_dict = {\n",
    "    \"mumbai\":mumbai_trip,\n",
    "    \"london\":london_trip,\n",
    "    \"paris\":paris_trip,\n",
    "    \"dubai\":dubai_trip,\n",
    "}\n",
    "# trip_cost_list = list(trip_dict.values())\n",
    "# print(trip_cost_list)\n",
    "# trip_cost_list.sort()\n",
    "# trip_cost_list\n",
    "print('Cheapest city to travel is: ', list(trip_dict.keys())[list(trip_dict.values()).index(min(trip_dict.values()))])"
   ]
  },
  {
   "cell_type": "code",
   "execution_count": 116,
   "id": "1acaf55a",
   "metadata": {},
   "outputs": [
    {
     "data": {
      "text/plain": [
       "540"
      ]
     },
     "execution_count": 116,
     "metadata": {},
     "output_type": "execute_result"
    }
   ],
   "source": [
    "chose_cheap_trip(paris_trip,london_trip,dubai_trip,mumbai_trip)"
   ]
  },
  {
   "cell_type": "code",
   "execution_count": 128,
   "id": "fe94a862",
   "metadata": {},
   "outputs": [
    {
     "data": {
      "text/plain": [
       "['mumbai', 'london', 'paris', 'dubai']"
      ]
     },
     "execution_count": 128,
     "metadata": {},
     "output_type": "execute_result"
    }
   ],
   "source": [
    "list(trip_dict.keys())"
   ]
  },
  {
   "cell_type": "code",
   "execution_count": 125,
   "id": "880783ca",
   "metadata": {},
   "outputs": [
    {
     "data": {
      "text/plain": [
       "2"
      ]
     },
     "execution_count": 125,
     "metadata": {},
     "output_type": "execute_result"
    }
   ],
   "source": [
    "list(trip_dict.values()).index(trip_cost_list[0])"
   ]
  },
  {
   "cell_type": "code",
   "execution_count": 248,
   "id": "961f0b8d",
   "metadata": {},
   "outputs": [],
   "source": [
    "\n",
    "cost_trip = 0;\n",
    "def chose_city(duration):\n",
    "    paris_trip = cost_of_trip(200,20*duration,200*math.ceil(duration/7),duration)\n",
    "    london_trip = cost_of_trip(250,30*duration,120*math.ceil(duration/7),duration)\n",
    "    dubai_trip = cost_of_trip(370,15*duration,80*math.ceil(duration/7),duration)\n",
    "    mumbai_trip = cost_of_trip(450,10*duration,70*math.ceil(duration/7),duration)\n",
    "    trip_dict = {\n",
    "    \"mumbai\":mumbai_trip,\n",
    "    \"london\":london_trip,\n",
    "    \"paris\":paris_trip,\n",
    "    \"dubai\":dubai_trip,\n",
    "    }\n",
    "    cheap_city = list(trip_dict.keys())[list(trip_dict.values()).index(min(trip_dict.values()))]\n",
    "    cost_trip = trip_dict[cheap_city]\n",
    "    print('cheapest city to travel is {} and cost is {}'.format(cheap_city, cost_trip))\n",
    "    return cost_trip"
   ]
  },
  {
   "cell_type": "code",
   "execution_count": 249,
   "id": "1106e319",
   "metadata": {},
   "outputs": [
    {
     "name": "stdout",
     "output_type": "stream",
     "text": [
      "cheapest city to travel is london and cost is 400\n"
     ]
    },
    {
     "data": {
      "text/plain": [
       "400"
      ]
     },
     "execution_count": 249,
     "metadata": {},
     "output_type": "execute_result"
    }
   ],
   "source": [
    "chose_city(1)"
   ]
  },
  {
   "cell_type": "code",
   "execution_count": 216,
   "id": "0d96ae01",
   "metadata": {},
   "outputs": [
    {
     "data": {
      "text/plain": [
       "0"
      ]
     },
     "execution_count": 216,
     "metadata": {},
     "output_type": "execute_result"
    }
   ],
   "source": [
    "cost_trip"
   ]
  },
  {
   "cell_type": "markdown",
   "id": "dd10f101",
   "metadata": {},
   "source": [
    "If you're planning a 1-week long trip, which city should you visit to spend the least amount of money?"
   ]
  },
  {
   "cell_type": "code",
   "execution_count": 190,
   "id": "bec0d9c1",
   "metadata": {},
   "outputs": [
    {
     "name": "stdout",
     "output_type": "stream",
     "text": [
      "cheapest city to travel is paris and cost is 540\n"
     ]
    }
   ],
   "source": [
    "chose_city(7)"
   ]
  },
  {
   "cell_type": "markdown",
   "id": "af5761a0",
   "metadata": {},
   "source": [
    "How does the answer to the previous question change if you change the trip's duration to \n",
    "1. four days, \n",
    "2. ten days, \n",
    "3. two weeks?"
   ]
  },
  {
   "cell_type": "code",
   "execution_count": 191,
   "id": "10f3f251",
   "metadata": {},
   "outputs": [
    {
     "name": "stdout",
     "output_type": "stream",
     "text": [
      "cheapest city to travel is paris and cost is 480\n"
     ]
    }
   ],
   "source": [
    "chose_city(4)"
   ]
  },
  {
   "cell_type": "code",
   "execution_count": 192,
   "id": "a8c2ec01",
   "metadata": {},
   "outputs": [
    {
     "name": "stdout",
     "output_type": "stream",
     "text": [
      "cheapest city to travel is dubai and cost is 680\n"
     ]
    }
   ],
   "source": [
    "chose_city(10)"
   ]
  },
  {
   "cell_type": "code",
   "execution_count": 193,
   "id": "ea9ce36c",
   "metadata": {},
   "outputs": [
    {
     "name": "stdout",
     "output_type": "stream",
     "text": [
      "cheapest city to travel is mumbai and cost is 730\n"
     ]
    }
   ],
   "source": [
    "chose_city(14)"
   ]
  },
  {
   "cell_type": "code",
   "execution_count": 207,
   "id": "9bc28242",
   "metadata": {},
   "outputs": [],
   "source": [
    "days = math.ceil((1000 - 200)/(20 + (200/7)))\n"
   ]
  },
  {
   "cell_type": "code",
   "execution_count": 208,
   "id": "51e4c756",
   "metadata": {},
   "outputs": [
    {
     "data": {
      "text/plain": [
       "17"
      ]
     },
     "execution_count": 208,
     "metadata": {},
     "output_type": "execute_result"
    }
   ],
   "source": [
    "days"
   ]
  },
  {
   "cell_type": "code",
   "execution_count": 443,
   "id": "98349575",
   "metadata": {},
   "outputs": [],
   "source": [
    "def chose_city(duration):\n",
    "    paris_trip = cost_of_trip(200,20*duration,200*math.ceil(duration/7),duration)\n",
    "    london_trip = cost_of_trip(250,30*duration,120*math.ceil(duration/7),duration)\n",
    "    dubai_trip = cost_of_trip(370,15*duration,80*math.ceil(duration/7),duration)\n",
    "    mumbai_trip = cost_of_trip(450,10*duration,70*math.ceil(duration/7),duration)\n",
    "    trip_dict = {\n",
    "    \"mumbai\":mumbai_trip,\n",
    "    \"london\":london_trip,\n",
    "    \"paris\":paris_trip,\n",
    "    \"dubai\":dubai_trip,\n",
    "    }\n",
    "    cheap_city = list(trip_dict.keys())[list(trip_dict.values()).index(min(trip_dict.values()))]\n",
    "    cost_trip = trip_dict[cheap_city]\n",
    "    return ('cheapest city to travel is {} and cost is {}'.format(cheap_city, cost_trip))\n",
    "    \n",
    "def budget_trip(budget):\n",
    "    y = 0\n",
    "    for i in range(1,500):\n",
    "        x = int(chose_city(i)[-4:])\n",
    "#         print(x)\n",
    "        if x > budget:\n",
    "            y = i - 1\n",
    "            x = int(chose_city(i-1)[-4:])\n",
    "            break\n",
    "    print(chose_city(y)[27:33],x,y)\n",
    "    return ('With the budget of ${}, one should visit {} and can stay there for {} days.'.format(budget,chose_city(y)[27:33],y))\n",
    "def cost(duration):\n",
    "    paris_trip = cost_of_trip(200,20*duration,200*math.ceil(duration/7),duration)\n",
    "    london_trip = cost_of_trip(250,30*duration,120*math.ceil(duration/7),duration)\n",
    "    dubai_trip = cost_of_trip(370,15*duration,80*math.ceil(duration/7),duration)\n",
    "    mumbai_trip = cost_of_trip(450,10*duration,70*math.ceil(duration/7),duration)\n",
    "#     city_trip = list(paris_trip,london_trip,dubai_trip,mumbai_trip)\n",
    "    trip_dict = {\n",
    "    \"mumbai\":mumbai_trip,\n",
    "    \"london\":london_trip,\n",
    "    \"paris\":paris_trip,\n",
    "    \"dubai\":dubai_trip,\n",
    "    }\n",
    "#     return trip_dict\n",
    "#     cheap_city = list(trip_dict.keys())[list(trip_dict.values()).index(min(trip_dict.values()))]\n",
    "\n",
    "    selected_city = list(trip_dict.keys())[list(trip_dict.values()).index(max(trip_dict.values()))]\n",
    "    cost_selected_city = trip_dict[selected_city]\n",
    "    return selected_city,cost_selected_city\n",
    "\n",
    "def min_day_trip(budget):\n",
    "    y = 0\n",
    "    for duration in range(1,100):\n",
    "        x = cost(duration)[0]\n",
    "        z = int(cost(duration)[1])\n",
    "        if z >= budget:\n",
    "            y = duration - 1\n",
    "            x = cost(duration-1)[0]\n",
    "            z = int(cost(duration-1)[1])\n",
    "            break\n",
    "    return x,y,z\n",
    "            \n",
    "    "
   ]
  },
  {
   "cell_type": "code",
   "execution_count": 444,
   "id": "5b82fde6",
   "metadata": {},
   "outputs": [
    {
     "data": {
      "text/plain": [
       "('london', 14, 910)"
      ]
     },
     "execution_count": 444,
     "metadata": {},
     "output_type": "execute_result"
    }
   ],
   "source": [
    "min_day_trip(1000)"
   ]
  },
  {
   "cell_type": "code",
   "execution_count": 418,
   "id": "6cf862a7",
   "metadata": {},
   "outputs": [
    {
     "data": {
      "text/plain": [
       "'cheapest city to travel is mumbai and cost is 1000'"
      ]
     },
     "execution_count": 418,
     "metadata": {},
     "output_type": "execute_result"
    }
   ],
   "source": [
    "chose_city(27)"
   ]
  },
  {
   "cell_type": "code",
   "execution_count": 438,
   "id": "7129e0a0",
   "metadata": {},
   "outputs": [
    {
     "data": {
      "text/plain": [
       "('london', 910)"
      ]
     },
     "execution_count": 438,
     "metadata": {},
     "output_type": "execute_result"
    }
   ],
   "source": [
    "cost(14)"
   ]
  },
  {
   "cell_type": "markdown",
   "id": "a294f2c0",
   "metadata": {},
   "source": [
    "How does the answer to the previous question change if your budget is $600, $2000, or $1500?"
   ]
  },
  {
   "cell_type": "code",
   "execution_count": 445,
   "id": "8d5ce2db",
   "metadata": {},
   "outputs": [
    {
     "name": "stdout",
     "output_type": "stream",
     "text": [
      "paris  540 7\n"
     ]
    },
    {
     "data": {
      "text/plain": [
       "'With the budget of $600, one should visit paris  and can stay there for 7 days.'"
      ]
     },
     "execution_count": 445,
     "metadata": {},
     "output_type": "execute_result"
    }
   ],
   "source": [
    "budget_trip(600)"
   ]
  },
  {
   "cell_type": "code",
   "execution_count": 449,
   "id": "98e41f83",
   "metadata": {},
   "outputs": [
    {
     "name": "stdout",
     "output_type": "stream",
     "text": [
      "mumbai 1000 27\n"
     ]
    },
    {
     "data": {
      "text/plain": [
       "('london', 14, 910)"
      ]
     },
     "execution_count": 449,
     "metadata": {},
     "output_type": "execute_result"
    }
   ],
   "source": [
    "budget_trip(1000)\n",
    "min_day_trip(1000)"
   ]
  },
  {
   "cell_type": "code",
   "execution_count": 447,
   "id": "e54f8ba5",
   "metadata": {},
   "outputs": [
    {
     "name": "stdout",
     "output_type": "stream",
     "text": [
      "mumbai 1990 77\n"
     ]
    },
    {
     "data": {
      "text/plain": [
       "('london', 35, 1900)"
      ]
     },
     "execution_count": 447,
     "metadata": {},
     "output_type": "execute_result"
    }
   ],
   "source": [
    "budget_trip(2000)\n",
    "min_day_trip(2000)"
   ]
  },
  {
   "cell_type": "code",
   "execution_count": 448,
   "id": "60c19658",
   "metadata": {},
   "outputs": [
    {
     "name": "stdout",
     "output_type": "stream",
     "text": [
      "mumbai 1430 49\n"
     ]
    },
    {
     "data": {
      "text/plain": [
       "('paris', 24, 1480)"
      ]
     },
     "execution_count": 448,
     "metadata": {},
     "output_type": "execute_result"
    }
   ],
   "source": [
    "budget_trip(1500)\n",
    "min_day_trip(1500)"
   ]
  },
  {
   "cell_type": "code",
   "execution_count": null,
   "id": "c4204cff",
   "metadata": {},
   "outputs": [],
   "source": []
  }
 ],
 "metadata": {
  "kernelspec": {
   "display_name": "Python 3 (ipykernel)",
   "language": "python",
   "name": "python3"
  },
  "language_info": {
   "codemirror_mode": {
    "name": "ipython",
    "version": 3
   },
   "file_extension": ".py",
   "mimetype": "text/x-python",
   "name": "python",
   "nbconvert_exporter": "python",
   "pygments_lexer": "ipython3",
   "version": "3.9.13"
  }
 },
 "nbformat": 4,
 "nbformat_minor": 5
}
