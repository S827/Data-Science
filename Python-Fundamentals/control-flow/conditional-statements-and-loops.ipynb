{
 "cells": [
  {
   "cell_type": "code",
   "execution_count": 1,
   "id": "a6f47386",
   "metadata": {},
   "outputs": [],
   "source": [
    "a_num = 827"
   ]
  },
  {
   "cell_type": "code",
   "execution_count": 2,
   "id": "dcbed0af",
   "metadata": {},
   "outputs": [
    {
     "name": "stdout",
     "output_type": "stream",
     "text": [
      "inside\n",
      "given number 827 is odd.\n"
     ]
    }
   ],
   "source": [
    "if a_num % 2 != 0:\n",
    "    print('inside')\n",
    "    print('given number {} is odd.'.format(a_num))"
   ]
  },
  {
   "cell_type": "code",
   "execution_count": 3,
   "id": "ac8cad60",
   "metadata": {},
   "outputs": [],
   "source": [
    "b_num = 828"
   ]
  },
  {
   "cell_type": "code",
   "execution_count": 5,
   "id": "b510f54b",
   "metadata": {},
   "outputs": [
    {
     "name": "stdout",
     "output_type": "stream",
     "text": [
      "given number 828 is even\n"
     ]
    }
   ],
   "source": [
    "if b_num != 0:\n",
    "    print('given number {} is even'.format(b_num))"
   ]
  },
  {
   "cell_type": "code",
   "execution_count": 6,
   "id": "61baf0f4",
   "metadata": {},
   "outputs": [
    {
     "name": "stdout",
     "output_type": "stream",
     "text": [
      "given number 827 is odd\n"
     ]
    }
   ],
   "source": [
    "if a_num % 2 != 0:\n",
    "    print('given number {} is odd'.format(a_num))\n",
    "else:\n",
    "    print('given number {} is even'.format(a_num))\n",
    "        "
   ]
  },
  {
   "cell_type": "code",
   "execution_count": 7,
   "id": "12729397",
   "metadata": {},
   "outputs": [],
   "source": [
    "players = ('sachin', 'ganguly', 'dravid')"
   ]
  },
  {
   "cell_type": "code",
   "execution_count": 8,
   "id": "3ba43b42",
   "metadata": {},
   "outputs": [],
   "source": [
    "player = 'laxman'"
   ]
  },
  {
   "cell_type": "code",
   "execution_count": 9,
   "id": "fad376b0",
   "metadata": {},
   "outputs": [
    {
     "name": "stdout",
     "output_type": "stream",
     "text": [
      "laxman is not in team\n"
     ]
    }
   ],
   "source": [
    "if player in players:\n",
    "    print('{} is a player in indian cricket team'.format(player))\n",
    "else:\n",
    "    print('{} is not in team'.format(player))"
   ]
  },
  {
   "cell_type": "markdown",
   "id": "285e0ea2",
   "metadata": {},
   "source": [
    "# elif statement"
   ]
  },
  {
   "cell_type": "code",
   "execution_count": 10,
   "id": "6bf6074f",
   "metadata": {},
   "outputs": [],
   "source": [
    "winner = 'India'"
   ]
  },
  {
   "cell_type": "code",
   "execution_count": 13,
   "id": "637d3f6e",
   "metadata": {},
   "outputs": [
    {
     "name": "stdout",
     "output_type": "stream",
     "text": [
      "India has won the world cup 2023\n"
     ]
    }
   ],
   "source": [
    "if winner == 'wi':\n",
    "    print('wi has won')\n",
    "elif winner == 'aus':\n",
    "    print('aus has won')\n",
    "elif winner == 'eng':\n",
    "    print('eng has won')\n",
    "elif winner == 'sa':\n",
    "    print('sa has won')\n",
    "elif winner == 'pak':\n",
    "    print('pak has won')\n",
    "elif winner == 'India':\n",
    "    print('India has won the world cup 2023')"
   ]
  },
  {
   "cell_type": "code",
   "execution_count": 15,
   "id": "a5e9028f",
   "metadata": {},
   "outputs": [],
   "source": [
    "a_num = 91"
   ]
  },
  {
   "cell_type": "code",
   "execution_count": 16,
   "id": "ce0298e6",
   "metadata": {},
   "outputs": [
    {
     "name": "stdout",
     "output_type": "stream",
     "text": [
      "91 is divisible by 7\n"
     ]
    }
   ],
   "source": [
    "if a_num % 2 == 0:\n",
    "    print('{} is divisible by 2'.format(a_num))\n",
    "elif a_num % 3 == 0:\n",
    "    print('{} is divisible by 3'.format(a_num))\n",
    "elif a_num % 5 == 0:\n",
    "    print('{} is divisible by 5'.format(a_num))\n",
    "elif a_num % 7 == 0:\n",
    "    print('{} is divisible by 7'.format(a_num))\n"
   ]
  },
  {
   "cell_type": "markdown",
   "id": "68196343",
   "metadata": {},
   "source": [
    "## using if,elif,else together"
   ]
  },
  {
   "cell_type": "code",
   "execution_count": 17,
   "id": "2e1dbfe1",
   "metadata": {},
   "outputs": [],
   "source": [
    "a_num = 49"
   ]
  },
  {
   "cell_type": "code",
   "execution_count": 18,
   "id": "a13c6d5d",
   "metadata": {},
   "outputs": [
    {
     "name": "stdout",
     "output_type": "stream",
     "text": [
      "All checks failed!\n",
      "49 is not divisible by 2,3 or 5\n"
     ]
    }
   ],
   "source": [
    "if a_num % 2 == 0:\n",
    "    print('{} is divisible by 2'.format(a_num))\n",
    "elif a_num % 3 == 0:\n",
    "    print('{} is divisible by 3'.format(a_num))\n",
    "elif a_num % 5 == 0:\n",
    "    print('{} is divisible by 5'.format(a_num))\n",
    "else:\n",
    "    print('All checks failed!')\n",
    "    print('{} is not divisible by 2,3 or 5'.format(a_num))"
   ]
  },
  {
   "cell_type": "markdown",
   "id": "a344f1b9",
   "metadata": {},
   "source": [
    "## non-boolean conditions"
   ]
  },
  {
   "cell_type": "code",
   "execution_count": 19,
   "id": "ffb4d2b4",
   "metadata": {},
   "outputs": [
    {
     "name": "stdout",
     "output_type": "stream",
     "text": [
      "condition evaluated to False\n"
     ]
    }
   ],
   "source": [
    "if '':\n",
    "    print('condition evaluated to True')\n",
    "else:\n",
    "    print('condition evaluated to False')"
   ]
  },
  {
   "cell_type": "code",
   "execution_count": 20,
   "id": "7d613f5b",
   "metadata": {},
   "outputs": [
    {
     "name": "stdout",
     "output_type": "stream",
     "text": [
      "condition evaluated to True\n"
     ]
    }
   ],
   "source": [
    "if 'a':\n",
    "    print('condition evaluated to True')\n",
    "else:\n",
    "    print('condition evaluated to False')"
   ]
  },
  {
   "cell_type": "markdown",
   "id": "1f7a96af",
   "metadata": {},
   "source": [
    "## nested conditional statements"
   ]
  },
  {
   "cell_type": "code",
   "execution_count": 21,
   "id": "b95d906b",
   "metadata": {},
   "outputs": [],
   "source": [
    "a_num = 15"
   ]
  },
  {
   "cell_type": "code",
   "execution_count": 22,
   "id": "371f466a",
   "metadata": {},
   "outputs": [
    {
     "name": "stdout",
     "output_type": "stream",
     "text": [
      "15 is odd\n",
      "15 is also divisible by 5\n"
     ]
    }
   ],
   "source": [
    "if a_num % 2 == 0:\n",
    "    print('{} is even'.format(a_num))\n",
    "    if a_num % 3 == 0:\n",
    "        print('{} is also divisible by 3'.format(a_num))\n",
    "    else:\n",
    "        print('{} is not divisible by 3'.format(a_num))\n",
    "else:\n",
    "    print('{} is odd'.format(a_num))\n",
    "    if a_num % 5 == 0:\n",
    "        print('{} is also divisible by 5'.format(a_num))\n",
    "    else:\n",
    "        print('{} is not divisible by 5'.format(a_num))"
   ]
  },
  {
   "cell_type": "markdown",
   "id": "a9ed5264",
   "metadata": {},
   "source": [
    "## shorthand if conditional expression"
   ]
  },
  {
   "cell_type": "code",
   "execution_count": 23,
   "id": "0ecf859b",
   "metadata": {},
   "outputs": [
    {
     "name": "stdout",
     "output_type": "stream",
     "text": [
      "The number 13 is odd\n"
     ]
    }
   ],
   "source": [
    "a_num = 13\n",
    "if a_num % 2 == 0:\n",
    "    parity = 'even'\n",
    "else:\n",
    "    parity = 'odd'\n",
    "print('The number {} is {}'.format(a_num, parity))"
   ]
  },
  {
   "cell_type": "markdown",
   "id": "d9d28c56",
   "metadata": {},
   "source": [
    "### if expression"
   ]
  },
  {
   "cell_type": "code",
   "execution_count": 24,
   "id": "6c0e0d9e",
   "metadata": {},
   "outputs": [],
   "source": [
    "result = 'even' if a_num % 2 == 0 else 'odd'"
   ]
  },
  {
   "cell_type": "code",
   "execution_count": 25,
   "id": "0d70c761",
   "metadata": {},
   "outputs": [
    {
     "data": {
      "text/plain": [
       "'odd'"
      ]
     },
     "execution_count": 25,
     "metadata": {},
     "output_type": "execute_result"
    }
   ],
   "source": [
    "result"
   ]
  },
  {
   "cell_type": "markdown",
   "id": "c6267739",
   "metadata": {},
   "source": [
    "## pass statement"
   ]
  },
  {
   "cell_type": "code",
   "execution_count": 26,
   "id": "de7d116f",
   "metadata": {},
   "outputs": [
    {
     "data": {
      "text/plain": [
       "13"
      ]
     },
     "execution_count": 26,
     "metadata": {},
     "output_type": "execute_result"
    }
   ],
   "source": [
    "a_num"
   ]
  },
  {
   "cell_type": "code",
   "execution_count": 27,
   "id": "0af66dcf",
   "metadata": {},
   "outputs": [
    {
     "name": "stdout",
     "output_type": "stream",
     "text": [
      "13 is divisible by 13 but not divisible by 2\n"
     ]
    }
   ],
   "source": [
    "if a_num % 2 == 0:\n",
    "    pass\n",
    "elif a_num % 13 == 0:\n",
    "    print('{} is divisible by 13 but not divisible by 2'.format(a_num))"
   ]
  },
  {
   "cell_type": "code",
   "execution_count": 28,
   "id": "a3c006fb",
   "metadata": {},
   "outputs": [],
   "source": [
    "!pip install jovian --upgrade --quiet"
   ]
  },
  {
   "cell_type": "code",
   "execution_count": 29,
   "id": "f056f53a",
   "metadata": {},
   "outputs": [
    {
     "data": {
      "application/javascript": [
       "if (window.IPython && IPython.notebook.kernel) IPython.notebook.kernel.execute('jovian.utils.jupyter.get_notebook_name_saved = lambda: \"' + IPython.notebook.notebook_name + '\"')"
      ],
      "text/plain": [
       "<IPython.core.display.Javascript object>"
      ]
     },
     "metadata": {},
     "output_type": "display_data"
    }
   ],
   "source": [
    "import jovian"
   ]
  },
  {
   "cell_type": "code",
   "execution_count": 30,
   "id": "5c5d87a0",
   "metadata": {},
   "outputs": [
    {
     "data": {
      "application/javascript": [
       "window.require && require([\"base/js/namespace\"],function(Jupyter){Jupyter.notebook.save_checkpoint()})"
      ],
      "text/plain": [
       "<IPython.core.display.Javascript object>"
      ]
     },
     "metadata": {},
     "output_type": "display_data"
    },
    {
     "name": "stdout",
     "output_type": "stream",
     "text": [
      "[jovian] Please enter your API key ( from https://jovian.com/ ):\u001b[0m\n",
      "API KEY: ········\n",
      "[jovian] Creating a new project \"s827/conditional-statements-and-loops\"\u001b[0m\n",
      "[jovian] Committed successfully! https://jovian.com/s827/conditional-statements-and-loops\u001b[0m\n"
     ]
    },
    {
     "data": {
      "text/plain": [
       "'https://jovian.com/s827/conditional-statements-and-loops'"
      ]
     },
     "execution_count": 30,
     "metadata": {},
     "output_type": "execute_result"
    }
   ],
   "source": [
    "jovian.commit(project = 'conditional-statements-and-loops')"
   ]
  },
  {
   "cell_type": "markdown",
   "id": "a03c1ddb",
   "metadata": {},
   "source": [
    "# Iteration with while loops"
   ]
  },
  {
   "cell_type": "code",
   "execution_count": 31,
   "id": "4e0174df",
   "metadata": {},
   "outputs": [
    {
     "name": "stdout",
     "output_type": "stream",
     "text": [
      "factorial of 100 is 93326215443944152681699238856266700490715968264381621468592963895217599993229915608941463976156518286253697920827223758251185210916864000000000000000000000000\n"
     ]
    }
   ],
   "source": [
    "result = 1\n",
    "i = 1\n",
    "while i <= 100:\n",
    "    result *= i\n",
    "    i += 1\n",
    "print('factorial of 100 is {}'.format(result))"
   ]
  },
  {
   "cell_type": "code",
   "execution_count": null,
   "id": "4de7ed4a",
   "metadata": {},
   "outputs": [],
   "source": []
  }
 ],
 "metadata": {
  "kernelspec": {
   "display_name": "Python 3 (ipykernel)",
   "language": "python",
   "name": "python3"
  },
  "language_info": {
   "codemirror_mode": {
    "name": "ipython",
    "version": 3
   },
   "file_extension": ".py",
   "mimetype": "text/x-python",
   "name": "python",
   "nbconvert_exporter": "python",
   "pygments_lexer": "ipython3",
   "version": "3.9.13"
  }
 },
 "nbformat": 4,
 "nbformat_minor": 5
}
