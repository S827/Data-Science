{
 "cells": [
  {
   "cell_type": "code",
   "execution_count": 1,
   "id": "a6f47386",
   "metadata": {},
   "outputs": [],
   "source": [
    "a_num = 827"
   ]
  },
  {
   "cell_type": "code",
   "execution_count": 2,
   "id": "dcbed0af",
   "metadata": {
    "scrolled": true
   },
   "outputs": [
    {
     "name": "stdout",
     "output_type": "stream",
     "text": [
      "inside\n",
      "given number 827 is odd.\n"
     ]
    }
   ],
   "source": [
    "if a_num % 2 != 0:\n",
    "    print('inside')\n",
    "    print('given number {} is odd.'.format(a_num))"
   ]
  },
  {
   "cell_type": "code",
   "execution_count": 3,
   "id": "ac8cad60",
   "metadata": {},
   "outputs": [],
   "source": [
    "b_num = 828"
   ]
  },
  {
   "cell_type": "code",
   "execution_count": 5,
   "id": "b510f54b",
   "metadata": {},
   "outputs": [
    {
     "name": "stdout",
     "output_type": "stream",
     "text": [
      "given number 828 is even\n"
     ]
    }
   ],
   "source": [
    "if b_num != 0:\n",
    "    print('given number {} is even'.format(b_num))"
   ]
  },
  {
   "cell_type": "code",
   "execution_count": 6,
   "id": "61baf0f4",
   "metadata": {},
   "outputs": [
    {
     "name": "stdout",
     "output_type": "stream",
     "text": [
      "given number 827 is odd\n"
     ]
    }
   ],
   "source": [
    "if a_num % 2 != 0:\n",
    "    print('given number {} is odd'.format(a_num))\n",
    "else:\n",
    "    print('given number {} is even'.format(a_num))\n",
    "        "
   ]
  },
  {
   "cell_type": "code",
   "execution_count": 7,
   "id": "12729397",
   "metadata": {},
   "outputs": [],
   "source": [
    "players = ('sachin', 'ganguly', 'dravid')"
   ]
  },
  {
   "cell_type": "code",
   "execution_count": 8,
   "id": "3ba43b42",
   "metadata": {},
   "outputs": [],
   "source": [
    "player = 'laxman'"
   ]
  },
  {
   "cell_type": "code",
   "execution_count": 9,
   "id": "fad376b0",
   "metadata": {},
   "outputs": [
    {
     "name": "stdout",
     "output_type": "stream",
     "text": [
      "laxman is not in team\n"
     ]
    }
   ],
   "source": [
    "if player in players:\n",
    "    print('{} is a player in indian cricket team'.format(player))\n",
    "else:\n",
    "    print('{} is not in team'.format(player))"
   ]
  },
  {
   "cell_type": "markdown",
   "id": "285e0ea2",
   "metadata": {},
   "source": [
    "# elif statement"
   ]
  },
  {
   "cell_type": "code",
   "execution_count": 10,
   "id": "6bf6074f",
   "metadata": {},
   "outputs": [],
   "source": [
    "winner = 'India'"
   ]
  },
  {
   "cell_type": "code",
   "execution_count": 13,
   "id": "637d3f6e",
   "metadata": {},
   "outputs": [
    {
     "name": "stdout",
     "output_type": "stream",
     "text": [
      "India has won the world cup 2023\n"
     ]
    }
   ],
   "source": [
    "if winner == 'wi':\n",
    "    print('wi has won')\n",
    "elif winner == 'aus':\n",
    "    print('aus has won')\n",
    "elif winner == 'eng':\n",
    "    print('eng has won')\n",
    "elif winner == 'sa':\n",
    "    print('sa has won')\n",
    "elif winner == 'pak':\n",
    "    print('pak has won')\n",
    "elif winner == 'India':\n",
    "    print('India has won the world cup 2023')"
   ]
  },
  {
   "cell_type": "code",
   "execution_count": 15,
   "id": "a5e9028f",
   "metadata": {},
   "outputs": [],
   "source": [
    "a_num = 91"
   ]
  },
  {
   "cell_type": "code",
   "execution_count": 16,
   "id": "ce0298e6",
   "metadata": {},
   "outputs": [
    {
     "name": "stdout",
     "output_type": "stream",
     "text": [
      "91 is divisible by 7\n"
     ]
    }
   ],
   "source": [
    "if a_num % 2 == 0:\n",
    "    print('{} is divisible by 2'.format(a_num))\n",
    "elif a_num % 3 == 0:\n",
    "    print('{} is divisible by 3'.format(a_num))\n",
    "elif a_num % 5 == 0:\n",
    "    print('{} is divisible by 5'.format(a_num))\n",
    "elif a_num % 7 == 0:\n",
    "    print('{} is divisible by 7'.format(a_num))\n"
   ]
  },
  {
   "cell_type": "markdown",
   "id": "68196343",
   "metadata": {},
   "source": [
    "## using if,elif,else together"
   ]
  },
  {
   "cell_type": "code",
   "execution_count": 17,
   "id": "2e1dbfe1",
   "metadata": {},
   "outputs": [],
   "source": [
    "a_num = 49"
   ]
  },
  {
   "cell_type": "code",
   "execution_count": 18,
   "id": "a13c6d5d",
   "metadata": {},
   "outputs": [
    {
     "name": "stdout",
     "output_type": "stream",
     "text": [
      "All checks failed!\n",
      "49 is not divisible by 2,3 or 5\n"
     ]
    }
   ],
   "source": [
    "if a_num % 2 == 0:\n",
    "    print('{} is divisible by 2'.format(a_num))\n",
    "elif a_num % 3 == 0:\n",
    "    print('{} is divisible by 3'.format(a_num))\n",
    "elif a_num % 5 == 0:\n",
    "    print('{} is divisible by 5'.format(a_num))\n",
    "else:\n",
    "    print('All checks failed!')\n",
    "    print('{} is not divisible by 2,3 or 5'.format(a_num))"
   ]
  },
  {
   "cell_type": "markdown",
   "id": "a344f1b9",
   "metadata": {},
   "source": [
    "## non-boolean conditions"
   ]
  },
  {
   "cell_type": "code",
   "execution_count": 19,
   "id": "ffb4d2b4",
   "metadata": {},
   "outputs": [
    {
     "name": "stdout",
     "output_type": "stream",
     "text": [
      "condition evaluated to False\n"
     ]
    }
   ],
   "source": [
    "if '':\n",
    "    print('condition evaluated to True')\n",
    "else:\n",
    "    print('condition evaluated to False')"
   ]
  },
  {
   "cell_type": "code",
   "execution_count": 20,
   "id": "7d613f5b",
   "metadata": {},
   "outputs": [
    {
     "name": "stdout",
     "output_type": "stream",
     "text": [
      "condition evaluated to True\n"
     ]
    }
   ],
   "source": [
    "if 'a':\n",
    "    print('condition evaluated to True')\n",
    "else:\n",
    "    print('condition evaluated to False')"
   ]
  },
  {
   "cell_type": "markdown",
   "id": "1f7a96af",
   "metadata": {},
   "source": [
    "## nested conditional statements"
   ]
  },
  {
   "cell_type": "code",
   "execution_count": 21,
   "id": "b95d906b",
   "metadata": {},
   "outputs": [],
   "source": [
    "a_num = 15"
   ]
  },
  {
   "cell_type": "code",
   "execution_count": 22,
   "id": "371f466a",
   "metadata": {},
   "outputs": [
    {
     "name": "stdout",
     "output_type": "stream",
     "text": [
      "15 is odd\n",
      "15 is also divisible by 5\n"
     ]
    }
   ],
   "source": [
    "if a_num % 2 == 0:\n",
    "    print('{} is even'.format(a_num))\n",
    "    if a_num % 3 == 0:\n",
    "        print('{} is also divisible by 3'.format(a_num))\n",
    "    else:\n",
    "        print('{} is not divisible by 3'.format(a_num))\n",
    "else:\n",
    "    print('{} is odd'.format(a_num))\n",
    "    if a_num % 5 == 0:\n",
    "        print('{} is also divisible by 5'.format(a_num))\n",
    "    else:\n",
    "        print('{} is not divisible by 5'.format(a_num))"
   ]
  },
  {
   "cell_type": "markdown",
   "id": "a9ed5264",
   "metadata": {},
   "source": [
    "## shorthand if conditional expression"
   ]
  },
  {
   "cell_type": "code",
   "execution_count": 23,
   "id": "0ecf859b",
   "metadata": {},
   "outputs": [
    {
     "name": "stdout",
     "output_type": "stream",
     "text": [
      "The number 13 is odd\n"
     ]
    }
   ],
   "source": [
    "a_num = 13\n",
    "if a_num % 2 == 0:\n",
    "    parity = 'even'\n",
    "else:\n",
    "    parity = 'odd'\n",
    "print('The number {} is {}'.format(a_num, parity))"
   ]
  },
  {
   "cell_type": "markdown",
   "id": "d9d28c56",
   "metadata": {},
   "source": [
    "### if expression"
   ]
  },
  {
   "cell_type": "code",
   "execution_count": 24,
   "id": "6c0e0d9e",
   "metadata": {},
   "outputs": [],
   "source": [
    "result = 'even' if a_num % 2 == 0 else 'odd'"
   ]
  },
  {
   "cell_type": "code",
   "execution_count": 25,
   "id": "0d70c761",
   "metadata": {},
   "outputs": [
    {
     "data": {
      "text/plain": [
       "'odd'"
      ]
     },
     "execution_count": 25,
     "metadata": {},
     "output_type": "execute_result"
    }
   ],
   "source": [
    "result"
   ]
  },
  {
   "cell_type": "markdown",
   "id": "c6267739",
   "metadata": {},
   "source": [
    "## pass statement"
   ]
  },
  {
   "cell_type": "code",
   "execution_count": 26,
   "id": "de7d116f",
   "metadata": {},
   "outputs": [
    {
     "data": {
      "text/plain": [
       "13"
      ]
     },
     "execution_count": 26,
     "metadata": {},
     "output_type": "execute_result"
    }
   ],
   "source": [
    "a_num"
   ]
  },
  {
   "cell_type": "code",
   "execution_count": 27,
   "id": "0af66dcf",
   "metadata": {},
   "outputs": [
    {
     "name": "stdout",
     "output_type": "stream",
     "text": [
      "13 is divisible by 13 but not divisible by 2\n"
     ]
    }
   ],
   "source": [
    "if a_num % 2 == 0:\n",
    "    pass\n",
    "elif a_num % 13 == 0:\n",
    "    print('{} is divisible by 13 but not divisible by 2'.format(a_num))"
   ]
  },
  {
   "cell_type": "code",
   "execution_count": 28,
   "id": "a3c006fb",
   "metadata": {},
   "outputs": [],
   "source": [
    "!pip install jovian --upgrade --quiet"
   ]
  },
  {
   "cell_type": "code",
   "execution_count": 29,
   "id": "f056f53a",
   "metadata": {},
   "outputs": [
    {
     "data": {
      "application/javascript": [
       "if (window.IPython && IPython.notebook.kernel) IPython.notebook.kernel.execute('jovian.utils.jupyter.get_notebook_name_saved = lambda: \"' + IPython.notebook.notebook_name + '\"')"
      ],
      "text/plain": [
       "<IPython.core.display.Javascript object>"
      ]
     },
     "metadata": {},
     "output_type": "display_data"
    }
   ],
   "source": [
    "import jovian"
   ]
  },
  {
   "cell_type": "code",
   "execution_count": 30,
   "id": "5c5d87a0",
   "metadata": {},
   "outputs": [
    {
     "data": {
      "application/javascript": [
       "window.require && require([\"base/js/namespace\"],function(Jupyter){Jupyter.notebook.save_checkpoint()})"
      ],
      "text/plain": [
       "<IPython.core.display.Javascript object>"
      ]
     },
     "metadata": {},
     "output_type": "display_data"
    },
    {
     "name": "stdout",
     "output_type": "stream",
     "text": [
      "[jovian] Please enter your API key ( from https://jovian.com/ ):\u001b[0m\n",
      "API KEY: ········\n",
      "[jovian] Creating a new project \"s827/conditional-statements-and-loops\"\u001b[0m\n",
      "[jovian] Committed successfully! https://jovian.com/s827/conditional-statements-and-loops\u001b[0m\n"
     ]
    },
    {
     "data": {
      "text/plain": [
       "'https://jovian.com/s827/conditional-statements-and-loops'"
      ]
     },
     "execution_count": 30,
     "metadata": {},
     "output_type": "execute_result"
    }
   ],
   "source": [
    "jovian.commit(project = 'conditional-statements-and-loops')"
   ]
  },
  {
   "cell_type": "markdown",
   "id": "a03c1ddb",
   "metadata": {},
   "source": [
    "# Iteration with while loops"
   ]
  },
  {
   "cell_type": "code",
   "execution_count": 1,
   "id": "4e0174df",
   "metadata": {},
   "outputs": [
    {
     "name": "stdout",
     "output_type": "stream",
     "text": [
      "1\n",
      "2\n",
      "2\n",
      "3\n",
      "6\n",
      "4\n",
      "24\n",
      "5\n",
      "120\n",
      "6\n",
      "720\n",
      "7\n",
      "5040\n",
      "8\n",
      "40320\n",
      "9\n",
      "362880\n",
      "10\n",
      "3628800\n",
      "11\n",
      "39916800\n",
      "12\n",
      "479001600\n",
      "13\n",
      "6227020800\n",
      "14\n",
      "87178291200\n",
      "15\n",
      "1307674368000\n",
      "16\n",
      "20922789888000\n",
      "17\n",
      "355687428096000\n",
      "18\n",
      "6402373705728000\n",
      "19\n",
      "121645100408832000\n",
      "20\n",
      "2432902008176640000\n",
      "21\n",
      "51090942171709440000\n",
      "22\n",
      "1124000727777607680000\n",
      "23\n",
      "25852016738884976640000\n",
      "24\n",
      "620448401733239439360000\n",
      "25\n",
      "15511210043330985984000000\n",
      "26\n",
      "403291461126605635584000000\n",
      "27\n",
      "10888869450418352160768000000\n",
      "28\n",
      "304888344611713860501504000000\n",
      "29\n",
      "8841761993739701954543616000000\n",
      "30\n",
      "265252859812191058636308480000000\n",
      "31\n",
      "8222838654177922817725562880000000\n",
      "32\n",
      "263130836933693530167218012160000000\n",
      "33\n",
      "8683317618811886495518194401280000000\n",
      "34\n",
      "295232799039604140847618609643520000000\n",
      "35\n",
      "10333147966386144929666651337523200000000\n",
      "36\n",
      "371993326789901217467999448150835200000000\n",
      "37\n",
      "13763753091226345046315979581580902400000000\n",
      "38\n",
      "523022617466601111760007224100074291200000000\n",
      "39\n",
      "20397882081197443358640281739902897356800000000\n",
      "40\n",
      "815915283247897734345611269596115894272000000000\n",
      "41\n",
      "33452526613163807108170062053440751665152000000000\n",
      "42\n",
      "1405006117752879898543142606244511569936384000000000\n",
      "43\n",
      "60415263063373835637355132068513997507264512000000000\n",
      "44\n",
      "2658271574788448768043625811014615890319638528000000000\n",
      "45\n",
      "119622220865480194561963161495657715064383733760000000000\n",
      "46\n",
      "5502622159812088949850305428800254892961651752960000000000\n",
      "47\n",
      "258623241511168180642964355153611979969197632389120000000000\n",
      "48\n",
      "12413915592536072670862289047373375038521486354677760000000000\n",
      "49\n",
      "608281864034267560872252163321295376887552831379210240000000000\n",
      "50\n",
      "30414093201713378043612608166064768844377641568960512000000000000\n",
      "51\n",
      "1551118753287382280224243016469303211063259720016986112000000000000\n",
      "52\n",
      "80658175170943878571660636856403766975289505440883277824000000000000\n",
      "53\n",
      "4274883284060025564298013753389399649690343788366813724672000000000000\n",
      "54\n",
      "230843697339241380472092742683027581083278564571807941132288000000000000\n",
      "55\n",
      "12696403353658275925965100847566516959580321051449436762275840000000000000\n",
      "56\n",
      "710998587804863451854045647463724949736497978881168458687447040000000000000\n",
      "57\n",
      "40526919504877216755680601905432322134980384796226602145184481280000000000000\n",
      "58\n",
      "2350561331282878571829474910515074683828862318181142924420699914240000000000000\n",
      "59\n",
      "138683118545689835737939019720389406345902876772687432540821294940160000000000000\n",
      "60\n",
      "8320987112741390144276341183223364380754172606361245952449277696409600000000000000\n",
      "61\n",
      "507580213877224798800856812176625227226004528988036003099405939480985600000000000000\n",
      "62\n",
      "31469973260387937525653122354950764088012280797258232192163168247821107200000000000000\n",
      "63\n",
      "1982608315404440064116146708361898137544773690227268628106279599612729753600000000000000\n",
      "64\n",
      "126886932185884164103433389335161480802865516174545192198801894375214704230400000000000000\n",
      "65\n",
      "8247650592082470666723170306785496252186258551345437492922123134388955774976000000000000000\n",
      "66\n",
      "544344939077443064003729240247842752644293064388798874532860126869671081148416000000000000000\n",
      "67\n",
      "36471110918188685288249859096605464427167635314049524593701628500267962436943872000000000000000\n",
      "68\n",
      "2480035542436830599600990418569171581047399201355367672371710738018221445712183296000000000000000\n",
      "69\n",
      "171122452428141311372468338881272839092270544893520369393648040923257279754140647424000000000000000\n",
      "70\n",
      "11978571669969891796072783721689098736458938142546425857555362864628009582789845319680000000000000000\n",
      "71\n",
      "850478588567862317521167644239926010288584608120796235886430763388588680378079017697280000000000000000\n",
      "72\n",
      "61234458376886086861524070385274672740778091784697328983823014963978384987221689274204160000000000000000\n",
      "73\n",
      "4470115461512684340891257138125051110076800700282905015819080092370422104067183317016903680000000000000000\n",
      "74\n",
      "330788544151938641225953028221253782145683251820934971170611926835411235700971565459250872320000000000000000\n",
      "75\n",
      "24809140811395398091946477116594033660926243886570122837795894512655842677572867409443815424000000000000000000\n",
      "76\n",
      "1885494701666050254987932260861146558230394535379329335672487982961844043495537923117729972224000000000000000000\n",
      "77\n",
      "145183092028285869634070784086308284983740379224208358846781574688061991349156420080065207861248000000000000000000\n",
      "78\n",
      "11324281178206297831457521158732046228731749579488251990048962825668835325234200766245086213177344000000000000000000\n",
      "79\n",
      "894618213078297528685144171539831652069808216779571907213868063227837990693501860533361810841010176000000000000000000\n",
      "80\n",
      "71569457046263802294811533723186532165584657342365752577109445058227039255480148842668944867280814080000000000000000000\n",
      "81\n",
      "5797126020747367985879734231578109105412357244731625958745865049716390179693892056256184534249745940480000000000000000000\n",
      "82\n",
      "475364333701284174842138206989404946643813294067993328617160934076743994734899148613007131808479167119360000000000000000000\n",
      "83\n",
      "39455239697206586511897471180120610571436503407643446275224357528369751562996629334879591940103770870906880000000000000000000\n",
      "84\n",
      "3314240134565353266999387579130131288000666286242049487118846032383059131291716864129885722968716753156177920000000000000000000\n",
      "85\n",
      "281710411438055027694947944226061159480056634330574206405101912752560026159795933451040286452340924018275123200000000000000000000\n",
      "86\n",
      "24227095383672732381765523203441259715284870552429381750838764496720162249742450276789464634901319465571660595200000000000000000000\n",
      "87\n",
      "2107757298379527717213600518699389595229783738061356212322972511214654115727593174080683423236414793504734471782400000000000000000000\n",
      "88\n",
      "185482642257398439114796845645546284380220968949399346684421580986889562184028199319100141244804501828416633516851200000000000000000000\n",
      "89\n",
      "16507955160908461081216919262453619309839666236496541854913520707833171034378509739399912570787600662729080382999756800000000000000000000\n",
      "90\n",
      "1485715964481761497309522733620825737885569961284688766942216863704985393094065876545992131370884059645617234469978112000000000000000000000\n",
      "91\n",
      "135200152767840296255166568759495142147586866476906677791741734597153670771559994765685283954750449427751168336768008192000000000000000000000\n",
      "92\n",
      "12438414054641307255475324325873553077577991715875414356840239582938137710983519518443046123837041347353107486982656753664000000000000000000000\n",
      "93\n",
      "1156772507081641574759205162306240436214753229576413535186142281213246807121467315215203289516844845303838996289387078090752000000000000000000000\n",
      "94\n",
      "108736615665674308027365285256786601004186803580182872307497374434045199869417927630229109214583415458560865651202385340530688000000000000000000000\n",
      "95\n",
      "10329978488239059262599702099394727095397746340117372869212250571234293987594703124871765375385424468563282236864226607350415360000000000000000000000\n",
      "96\n",
      "991677934870949689209571401541893801158183648651267795444376054838492222809091499987689476037000748982075094738965754305639874560000000000000000000000\n",
      "97\n",
      "96192759682482119853328425949563698712343813919172976158104477319333745612481875498805879175589072651261284189679678167647067832320000000000000000000000\n",
      "98\n",
      "9426890448883247745626185743057242473809693764078951663494238777294707070023223798882976159207729119823605850588608460429412647567360000000000000000000000\n",
      "99\n",
      "933262154439441526816992388562667004907159682643816214685929638952175999932299156089414639761565182862536979208272237582511852109168640000000000000000000000\n",
      "100\n",
      "93326215443944152681699238856266700490715968264381621468592963895217599993229915608941463976156518286253697920827223758251185210916864000000000000000000000000\n",
      "101\n",
      "factorial of 100 is 93326215443944152681699238856266700490715968264381621468592963895217599993229915608941463976156518286253697920827223758251185210916864000000000000000000000000\n"
     ]
    }
   ],
   "source": [
    "result = 1\n",
    "i = 1\n",
    "while i <= 100:\n",
    "    result *= i\n",
    "    print(result)\n",
    "    i += 1\n",
    "    print(i)\n",
    "print('factorial of 100 is {}'.format(result))"
   ]
  },
  {
   "cell_type": "code",
   "execution_count": 4,
   "id": "5c7c8058",
   "metadata": {},
   "outputs": [
    {
     "name": "stdout",
     "output_type": "stream",
     "text": [
      "*\n",
      "**\n",
      "***\n",
      "****\n",
      "*****\n",
      "******\n",
      "*******\n",
      "********\n",
      "*********\n",
      "**********\n",
      "*********\n",
      "********\n",
      "*******\n",
      "******\n",
      "*****\n",
      "****\n",
      "***\n",
      "**\n",
      "*\n"
     ]
    }
   ],
   "source": [
    "line = '*'\n",
    "max_length = 10\n",
    "\n",
    "while len(line) < max_length:\n",
    "    print(line)\n",
    "    line += '*'\n",
    "while len(line) > 0:\n",
    "    print(line)\n",
    "    line = line[:-1]"
   ]
  },
  {
   "cell_type": "code",
   "execution_count": 5,
   "id": "81ee2361",
   "metadata": {},
   "outputs": [
    {
     "name": "stdout",
     "output_type": "stream",
     "text": [
      "*********\n"
     ]
    }
   ],
   "source": [
    "li = '**********'\n",
    "lim = li[:-1]\n",
    "print(lim)"
   ]
  },
  {
   "cell_type": "code",
   "execution_count": 6,
   "id": "ccf770a7",
   "metadata": {},
   "outputs": [
    {
     "data": {
      "text/plain": [
       "''"
      ]
     },
     "execution_count": 6,
     "metadata": {},
     "output_type": "execute_result"
    }
   ],
   "source": [
    "line"
   ]
  },
  {
   "cell_type": "code",
   "execution_count": 8,
   "id": "53dffc30",
   "metadata": {},
   "outputs": [
    {
     "name": "stdout",
     "output_type": "stream",
     "text": [
      "*\n",
      "**\n",
      "***\n",
      "****\n",
      "*****\n"
     ]
    }
   ],
   "source": [
    "for i in range(5):\n",
    "    for j in range(i+1):\n",
    "        print('*', end='')\n",
    "    print()"
   ]
  },
  {
   "cell_type": "code",
   "execution_count": 9,
   "id": "beeda127",
   "metadata": {},
   "outputs": [
    {
     "name": "stdout",
     "output_type": "stream",
     "text": [
      "*****\n",
      "****\n",
      "***\n",
      "**\n",
      "*\n"
     ]
    }
   ],
   "source": [
    "for i in range(5):\n",
    "    for j in range(5-i):\n",
    "        print('*', end='')\n",
    "    print()"
   ]
  },
  {
   "cell_type": "code",
   "execution_count": 15,
   "id": "004836e0",
   "metadata": {},
   "outputs": [
    {
     "name": "stdout",
     "output_type": "stream",
     "text": [
      "*    \n",
      "*    *    \n",
      "*    *    *    \n",
      "*    *    *    *    \n",
      "*    *    *    *    *    \n"
     ]
    }
   ],
   "source": [
    "n = 5\n",
    "for i in range(n):\n",
    "    for j in range(i+1):\n",
    "        print('*'+' '*(n-1),end='')\n",
    "    print()"
   ]
  },
  {
   "cell_type": "code",
   "execution_count": 16,
   "id": "45af0d4d",
   "metadata": {},
   "outputs": [
    {
     "name": "stdout",
     "output_type": "stream",
     "text": [
      "*****\n",
      "****\n",
      "***\n",
      "**\n",
      "*\n"
     ]
    }
   ],
   "source": [
    "for i in range(5):\n",
    "    for j in range(i, 5):\n",
    "        print('*', end='')\n",
    "    print()"
   ]
  },
  {
   "cell_type": "code",
   "execution_count": 32,
   "id": "8da62219",
   "metadata": {},
   "outputs": [
    {
     "name": "stdout",
     "output_type": "stream",
     "text": [
      "    *\n",
      "   **\n",
      "  ***\n",
      " ****\n",
      "*****\n"
     ]
    }
   ],
   "source": [
    "for i in range(5):\n",
    "    for j in range(i+1, 5):\n",
    "        print(' ', end='')\n",
    "    for k in range(i+1):\n",
    "        print('*',end='')\n",
    "    print()"
   ]
  },
  {
   "cell_type": "code",
   "execution_count": 35,
   "id": "9605a715",
   "metadata": {},
   "outputs": [
    {
     "name": "stdout",
     "output_type": "stream",
     "text": [
      "*****\n",
      " ****\n",
      "  ***\n",
      "   **\n",
      "    *\n"
     ]
    }
   ],
   "source": [
    "for i in range(5):\n",
    "    for j in range(i):\n",
    "        print(' ', end='')\n",
    "    for k in range(i,5):\n",
    "        print('*', end='')\n",
    "    \n",
    "    print()"
   ]
  },
  {
   "cell_type": "code",
   "execution_count": 46,
   "id": "f783b5a7",
   "metadata": {},
   "outputs": [
    {
     "name": "stdout",
     "output_type": "stream",
     "text": [
      "                   *\n",
      "                  ***\n",
      "                 *****\n",
      "                *******\n",
      "               *********\n",
      "              ***********\n",
      "             *************\n",
      "            ***************\n",
      "           *****************\n",
      "          *******************\n",
      "         *********************\n",
      "        ***********************\n",
      "       *************************\n",
      "      ***************************\n",
      "     *****************************\n",
      "    *******************************\n",
      "   *********************************\n",
      "  ***********************************\n",
      " *************************************\n",
      "***************************************\n"
     ]
    }
   ],
   "source": [
    "for i in range (20):\n",
    "    for j in range(i+1,20):\n",
    "        print(' ',end='')\n",
    "    for k in range(i+1):\n",
    "        print('*',end='')\n",
    "    for l in range(i):\n",
    "        print('*',end='')\n",
    "    print()"
   ]
  },
  {
   "cell_type": "code",
   "execution_count": null,
   "id": "9b80f22c",
   "metadata": {},
   "outputs": [],
   "source": []
  }
 ],
 "metadata": {
  "kernelspec": {
   "display_name": "Python 3 (ipykernel)",
   "language": "python",
   "name": "python3"
  },
  "language_info": {
   "codemirror_mode": {
    "name": "ipython",
    "version": 3
   },
   "file_extension": ".py",
   "mimetype": "text/x-python",
   "name": "python",
   "nbconvert_exporter": "python",
   "pygments_lexer": "ipython3",
   "version": "3.9.13"
  }
 },
 "nbformat": 4,
 "nbformat_minor": 5
}
