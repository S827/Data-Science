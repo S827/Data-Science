{
 "cells": [
  {
   "cell_type": "code",
   "execution_count": 1,
   "id": "0ccc01e8",
   "metadata": {},
   "outputs": [],
   "source": [
    "a_num = 827"
   ]
  },
  {
   "cell_type": "code",
   "execution_count": 2,
   "id": "0951af09",
   "metadata": {},
   "outputs": [
    {
     "name": "stdout",
     "output_type": "stream",
     "text": [
      "inside\n",
      "given number 827 is odd.\n"
     ]
    }
   ],
   "source": [
    "if a_num % 2 != 0:\n",
    "    print('inside')\n",
    "    print('given number {} is odd.'.format(a_num))"
   ]
  },
  {
   "cell_type": "code",
   "execution_count": 3,
   "id": "884966a0",
   "metadata": {},
   "outputs": [],
   "source": [
    "b_num = 828"
   ]
  },
  {
   "cell_type": "code",
   "execution_count": 5,
   "id": "45a17b58",
   "metadata": {},
   "outputs": [
    {
     "name": "stdout",
     "output_type": "stream",
     "text": [
      "given number 828 is even\n"
     ]
    }
   ],
   "source": [
    "if b_num != 0:\n",
    "    print('given number {} is even'.format(b_num))"
   ]
  },
  {
   "cell_type": "code",
   "execution_count": 6,
   "id": "5ef164ef",
   "metadata": {},
   "outputs": [
    {
     "name": "stdout",
     "output_type": "stream",
     "text": [
      "given number 827 is odd\n"
     ]
    }
   ],
   "source": [
    "if a_num % 2 != 0:\n",
    "    print('given number {} is odd'.format(a_num))\n",
    "else:\n",
    "    print('given number {} is even'.format(a_num))\n",
    "        "
   ]
  },
  {
   "cell_type": "code",
   "execution_count": 7,
   "id": "c50d6eba",
   "metadata": {},
   "outputs": [],
   "source": [
    "players = ('sachin', 'ganguly', 'dravid')"
   ]
  },
  {
   "cell_type": "code",
   "execution_count": 8,
   "id": "88bca6c0",
   "metadata": {},
   "outputs": [],
   "source": [
    "player = 'laxman'"
   ]
  },
  {
   "cell_type": "code",
   "execution_count": 9,
   "id": "c048b1e8",
   "metadata": {},
   "outputs": [
    {
     "name": "stdout",
     "output_type": "stream",
     "text": [
      "laxman is not in team\n"
     ]
    }
   ],
   "source": [
    "if player in players:\n",
    "    print('{} is a player in indian cricket team'.format(player))\n",
    "else:\n",
    "    print('{} is not in team'.format(player))"
   ]
  },
  {
   "cell_type": "markdown",
   "id": "0474b1cc",
   "metadata": {},
   "source": [
    "# elif statement"
   ]
  },
  {
   "cell_type": "code",
   "execution_count": 10,
   "id": "3c666d36",
   "metadata": {},
   "outputs": [],
   "source": [
    "winner = 'India'"
   ]
  },
  {
   "cell_type": "code",
   "execution_count": 13,
   "id": "10942024",
   "metadata": {},
   "outputs": [
    {
     "name": "stdout",
     "output_type": "stream",
     "text": [
      "India has won the world cup 2023\n"
     ]
    }
   ],
   "source": [
    "if winner == 'wi':\n",
    "    print('wi has won')\n",
    "elif winner == 'aus':\n",
    "    print('aus has won')\n",
    "elif winner == 'eng':\n",
    "    print('eng has won')\n",
    "elif winner == 'sa':\n",
    "    print('sa has won')\n",
    "elif winner == 'pak':\n",
    "    print('pak has won')\n",
    "elif winner == 'India':\n",
    "    print('India has won the world cup 2023')"
   ]
  },
  {
   "cell_type": "code",
   "execution_count": 15,
   "id": "21788523",
   "metadata": {},
   "outputs": [],
   "source": [
    "a_num = 91"
   ]
  },
  {
   "cell_type": "code",
   "execution_count": 16,
   "id": "0b65f542",
   "metadata": {},
   "outputs": [
    {
     "name": "stdout",
     "output_type": "stream",
     "text": [
      "91 is divisible by 7\n"
     ]
    }
   ],
   "source": [
    "if a_num % 2 == 0:\n",
    "    print('{} is divisible by 2'.format(a_num))\n",
    "elif a_num % 3 == 0:\n",
    "    print('{} is divisible by 3'.format(a_num))\n",
    "elif a_num % 5 == 0:\n",
    "    print('{} is divisible by 5'.format(a_num))\n",
    "elif a_num % 7 == 0:\n",
    "    print('{} is divisible by 7'.format(a_num))\n"
   ]
  },
  {
   "cell_type": "markdown",
   "id": "1265513a",
   "metadata": {},
   "source": [
    "## using if,elif,else together"
   ]
  },
  {
   "cell_type": "code",
   "execution_count": 17,
   "id": "8848dd3a",
   "metadata": {},
   "outputs": [],
   "source": [
    "a_num = 49"
   ]
  },
  {
   "cell_type": "code",
   "execution_count": 18,
   "id": "4d938ad7",
   "metadata": {},
   "outputs": [
    {
     "name": "stdout",
     "output_type": "stream",
     "text": [
      "All checks failed!\n",
      "49 is not divisible by 2,3 or 5\n"
     ]
    }
   ],
   "source": [
    "if a_num % 2 == 0:\n",
    "    print('{} is divisible by 2'.format(a_num))\n",
    "elif a_num % 3 == 0:\n",
    "    print('{} is divisible by 3'.format(a_num))\n",
    "elif a_num % 5 == 0:\n",
    "    print('{} is divisible by 5'.format(a_num))\n",
    "else:\n",
    "    print('All checks failed!')\n",
    "    print('{} is not divisible by 2,3 or 5'.format(a_num))"
   ]
  },
  {
   "cell_type": "markdown",
   "id": "2ccdbfee",
   "metadata": {},
   "source": [
    "## non-boolean conditions"
   ]
  },
  {
   "cell_type": "code",
   "execution_count": 19,
   "id": "4810d4f4",
   "metadata": {},
   "outputs": [
    {
     "name": "stdout",
     "output_type": "stream",
     "text": [
      "condition evaluated to False\n"
     ]
    }
   ],
   "source": [
    "if '':\n",
    "    print('condition evaluated to True')\n",
    "else:\n",
    "    print('condition evaluated to False')"
   ]
  },
  {
   "cell_type": "code",
   "execution_count": 20,
   "id": "8960c30b",
   "metadata": {},
   "outputs": [
    {
     "name": "stdout",
     "output_type": "stream",
     "text": [
      "condition evaluated to True\n"
     ]
    }
   ],
   "source": [
    "if 'a':\n",
    "    print('condition evaluated to True')\n",
    "else:\n",
    "    print('condition evaluated to False')"
   ]
  },
  {
   "cell_type": "markdown",
   "id": "3dafbe6e",
   "metadata": {},
   "source": [
    "## nested conditional statements"
   ]
  },
  {
   "cell_type": "code",
   "execution_count": 21,
   "id": "1b5ee9c6",
   "metadata": {},
   "outputs": [],
   "source": [
    "a_num = 15"
   ]
  },
  {
   "cell_type": "code",
   "execution_count": 22,
   "id": "10f2d8fb",
   "metadata": {},
   "outputs": [
    {
     "name": "stdout",
     "output_type": "stream",
     "text": [
      "15 is odd\n",
      "15 is also divisible by 5\n"
     ]
    }
   ],
   "source": [
    "if a_num % 2 == 0:\n",
    "    print('{} is even'.format(a_num))\n",
    "    if a_num % 3 == 0:\n",
    "        print('{} is also divisible by 3'.format(a_num))\n",
    "    else:\n",
    "        print('{} is not divisible by 3'.format(a_num))\n",
    "else:\n",
    "    print('{} is odd'.format(a_num))\n",
    "    if a_num % 5 == 0:\n",
    "        print('{} is also divisible by 5'.format(a_num))\n",
    "    else:\n",
    "        print('{} is not divisible by 5'.format(a_num))"
   ]
  },
  {
   "cell_type": "markdown",
   "id": "eb70ab60",
   "metadata": {},
   "source": [
    "## shorthand if conditional expression"
   ]
  },
  {
   "cell_type": "code",
   "execution_count": 23,
   "id": "2afb0cf1",
   "metadata": {},
   "outputs": [
    {
     "name": "stdout",
     "output_type": "stream",
     "text": [
      "The number 13 is odd\n"
     ]
    }
   ],
   "source": [
    "a_num = 13\n",
    "if a_num % 2 == 0:\n",
    "    parity = 'even'\n",
    "else:\n",
    "    parity = 'odd'\n",
    "print('The number {} is {}'.format(a_num, parity))"
   ]
  },
  {
   "cell_type": "markdown",
   "id": "b59437b9",
   "metadata": {},
   "source": [
    "### if expression"
   ]
  },
  {
   "cell_type": "code",
   "execution_count": 24,
   "id": "f49963af",
   "metadata": {},
   "outputs": [],
   "source": [
    "result = 'even' if a_num % 2 == 0 else 'odd'"
   ]
  },
  {
   "cell_type": "code",
   "execution_count": 25,
   "id": "33a1f81c",
   "metadata": {},
   "outputs": [
    {
     "data": {
      "text/plain": [
       "'odd'"
      ]
     },
     "execution_count": 25,
     "metadata": {},
     "output_type": "execute_result"
    }
   ],
   "source": [
    "result"
   ]
  },
  {
   "cell_type": "markdown",
   "id": "32821e84",
   "metadata": {},
   "source": [
    "## pass statement"
   ]
  },
  {
   "cell_type": "code",
   "execution_count": 26,
   "id": "6457bc49",
   "metadata": {},
   "outputs": [
    {
     "data": {
      "text/plain": [
       "13"
      ]
     },
     "execution_count": 26,
     "metadata": {},
     "output_type": "execute_result"
    }
   ],
   "source": [
    "a_num"
   ]
  },
  {
   "cell_type": "code",
   "execution_count": 27,
   "id": "c2c0334a",
   "metadata": {},
   "outputs": [
    {
     "name": "stdout",
     "output_type": "stream",
     "text": [
      "13 is divisible by 13 but not divisible by 2\n"
     ]
    }
   ],
   "source": [
    "if a_num % 2 == 0:\n",
    "    pass\n",
    "elif a_num % 13 == 0:\n",
    "    print('{} is divisible by 13 but not divisible by 2'.format(a_num))"
   ]
  },
  {
   "cell_type": "code",
   "execution_count": 28,
   "id": "4c987142",
   "metadata": {},
   "outputs": [],
   "source": [
    "!pip install jovian --upgrade --quiet"
   ]
  },
  {
   "cell_type": "code",
   "execution_count": 29,
   "id": "4a7d0c61",
   "metadata": {},
   "outputs": [
    {
     "data": {
      "application/javascript": [
       "if (window.IPython && IPython.notebook.kernel) IPython.notebook.kernel.execute('jovian.utils.jupyter.get_notebook_name_saved = lambda: \"' + IPython.notebook.notebook_name + '\"')"
      ],
      "text/plain": [
       "<IPython.core.display.Javascript object>"
      ]
     },
     "metadata": {},
     "output_type": "display_data"
    }
   ],
   "source": [
    "import jovian"
   ]
  },
  {
   "cell_type": "code",
   "execution_count": null,
   "id": "85e23ba6",
   "metadata": {},
   "outputs": [
    {
     "data": {
      "application/javascript": [
       "window.require && require([\"base/js/namespace\"],function(Jupyter){Jupyter.notebook.save_checkpoint()})"
      ],
      "text/plain": [
       "<IPython.core.display.Javascript object>"
      ]
     },
     "metadata": {},
     "output_type": "display_data"
    }
   ],
   "source": [
    "jovian.commit(project = 'conditional-statements-and-loops')"
   ]
  },
  {
   "cell_type": "code",
   "execution_count": null,
   "id": "7f308e64",
   "metadata": {},
   "outputs": [],
   "source": []
  }
 ],
 "metadata": {
  "kernelspec": {
   "display_name": "Python 3 (ipykernel)",
   "language": "python",
   "name": "python3"
  },
  "language_info": {
   "codemirror_mode": {
    "name": "ipython",
    "version": 3
   },
   "file_extension": ".py",
   "mimetype": "text/x-python",
   "name": "python",
   "nbconvert_exporter": "python",
   "pygments_lexer": "ipython3",
   "version": "3.9.13"
  }
 },
 "nbformat": 4,
 "nbformat_minor": 5
}
