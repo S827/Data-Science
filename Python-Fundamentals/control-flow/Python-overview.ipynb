{
 "cells": [
  {
   "cell_type": "markdown",
   "id": "c23edf30",
   "metadata": {},
   "source": [
    "## 1.1 A python program that computes a GPA"
   ]
  },
  {
   "cell_type": "code",
   "execution_count": 1,
   "id": "73fe51ff",
   "metadata": {},
   "outputs": [
    {
     "name": "stdout",
     "output_type": "stream",
     "text": [
      "Welcome to GPA Calculator\n",
      "Please enter all your letter grades, one per line\n",
      "Please enter a blank line to designate the end.\n",
      "e\n",
      "Unknown grade 'e' being ignored\n",
      "a\n",
      "Unknown grade 'a' being ignored\n",
      "A\n",
      "B\n",
      "A\n",
      "A\n",
      "A\n",
      "C\n",
      "C\n",
      "\n",
      "Your GPA is 3.29\n"
     ]
    }
   ],
   "source": [
    "print('Welcome to GPA Calculator')\n",
    "print('Please enter all your letter grades, one per line')\n",
    "print('Please enter a blank line to designate the end.')\n",
    "\n",
    "#map from letter grade to point value\n",
    "points = {'A+':4.0, 'A':4.0, 'A-':3.67, 'B+':3.33, 'B':3.0, 'B-':2.67,\n",
    "          'C+':2.33, 'C':2.0, 'C-':1.67, 'D+':1.33, 'D':1.0, 'F':0.0}\n",
    "num_courses = 0\n",
    "total_points = 0\n",
    "done = False\n",
    "while not done:\n",
    "    grade=input()\n",
    "    if grade == '':\n",
    "        done = True\n",
    "    elif grade not in points:   #unrecognized grade entered\n",
    "        print(\"Unknown grade '{0}' being ignored\".format(grade))\n",
    "    else:\n",
    "        num_courses += 1\n",
    "        total_points += points[grade]\n",
    "if num_courses > 0:\n",
    "    print('Your GPA is {0:.3}'.format(total_points/num_courses))"
   ]
  },
  {
   "cell_type": "code",
   "execution_count": null,
   "id": "96e99871",
   "metadata": {},
   "outputs": [],
   "source": []
  }
 ],
 "metadata": {
  "kernelspec": {
   "display_name": "Python 3 (ipykernel)",
   "language": "python",
   "name": "python3"
  },
  "language_info": {
   "codemirror_mode": {
    "name": "ipython",
    "version": 3
   },
   "file_extension": ".py",
   "mimetype": "text/x-python",
   "name": "python",
   "nbconvert_exporter": "python",
   "pygments_lexer": "ipython3",
   "version": "3.10.9"
  }
 },
 "nbformat": 4,
 "nbformat_minor": 5
}
