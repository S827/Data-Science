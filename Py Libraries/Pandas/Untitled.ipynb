{
 "cells": [
  {
   "cell_type": "code",
   "execution_count": 4,
   "id": "6fb6170a",
   "metadata": {},
   "outputs": [],
   "source": [
    "movies_url = \"https://gist.githubusercontent.com/aakashns/afee0a407d44bbc02321993548021af9/raw/6d7473f0ac4c54aca65fc4b06ed831b8a4840190/movies.csv\""
   ]
  },
  {
   "cell_type": "code",
   "execution_count": 30,
   "id": "07c8eaa4",
   "metadata": {},
   "outputs": [],
   "source": [
    "import os"
   ]
  },
  {
   "cell_type": "code",
   "execution_count": 31,
   "id": "d1daedd5",
   "metadata": {},
   "outputs": [],
   "source": [
    "from urllib.request import urlretrieve"
   ]
  },
  {
   "cell_type": "code",
   "execution_count": 32,
   "id": "96f34d80",
   "metadata": {},
   "outputs": [
    {
     "ename": "FileExistsError",
     "evalue": "[WinError 183] Cannot create a file when that file already exists: './data'",
     "output_type": "error",
     "traceback": [
      "\u001b[1;31m---------------------------------------------------------------------------\u001b[0m",
      "\u001b[1;31mFileExistsError\u001b[0m                           Traceback (most recent call last)",
      "\u001b[1;32m~\\AppData\\Local\\Temp\\ipykernel_2756\\89966455.py\u001b[0m in \u001b[0;36m<module>\u001b[1;34m\u001b[0m\n\u001b[1;32m----> 1\u001b[1;33m \u001b[0mos\u001b[0m\u001b[1;33m.\u001b[0m\u001b[0mmakedirs\u001b[0m\u001b[1;33m(\u001b[0m\u001b[1;34m'./data'\u001b[0m\u001b[1;33m)\u001b[0m\u001b[1;33m\u001b[0m\u001b[1;33m\u001b[0m\u001b[0m\n\u001b[0m",
      "\u001b[1;32m~\\anaconda3\\lib\\os.py\u001b[0m in \u001b[0;36mmakedirs\u001b[1;34m(name, mode, exist_ok)\u001b[0m\n\u001b[0;32m    223\u001b[0m             \u001b[1;32mreturn\u001b[0m\u001b[1;33m\u001b[0m\u001b[1;33m\u001b[0m\u001b[0m\n\u001b[0;32m    224\u001b[0m     \u001b[1;32mtry\u001b[0m\u001b[1;33m:\u001b[0m\u001b[1;33m\u001b[0m\u001b[1;33m\u001b[0m\u001b[0m\n\u001b[1;32m--> 225\u001b[1;33m         \u001b[0mmkdir\u001b[0m\u001b[1;33m(\u001b[0m\u001b[0mname\u001b[0m\u001b[1;33m,\u001b[0m \u001b[0mmode\u001b[0m\u001b[1;33m)\u001b[0m\u001b[1;33m\u001b[0m\u001b[1;33m\u001b[0m\u001b[0m\n\u001b[0m\u001b[0;32m    226\u001b[0m     \u001b[1;32mexcept\u001b[0m \u001b[0mOSError\u001b[0m\u001b[1;33m:\u001b[0m\u001b[1;33m\u001b[0m\u001b[1;33m\u001b[0m\u001b[0m\n\u001b[0;32m    227\u001b[0m         \u001b[1;31m# Cannot rely on checking for EEXIST, since the operating system\u001b[0m\u001b[1;33m\u001b[0m\u001b[1;33m\u001b[0m\u001b[0m\n",
      "\u001b[1;31mFileExistsError\u001b[0m: [WinError 183] Cannot create a file when that file already exists: './data'"
     ]
    }
   ],
   "source": [
    "os.makedirs('./data')"
   ]
  },
  {
   "cell_type": "code",
   "execution_count": 33,
   "id": "f0a2c0d2",
   "metadata": {},
   "outputs": [
    {
     "data": {
      "text/plain": [
       "('data/movies.csv', <http.client.HTTPMessage at 0x13b07c8c580>)"
      ]
     },
     "execution_count": 33,
     "metadata": {},
     "output_type": "execute_result"
    }
   ],
   "source": [
    "urlretrieve(movies_url, 'data/movies.csv')"
   ]
  },
  {
   "cell_type": "code",
   "execution_count": 34,
   "id": "e766bb40",
   "metadata": {},
   "outputs": [
    {
     "data": {
      "text/plain": [
       "['.ipynb_checkpoints', '.jovianrc', 'data', 'Untitled.ipynb']"
      ]
     },
     "execution_count": 34,
     "metadata": {},
     "output_type": "execute_result"
    }
   ],
   "source": [
    "os.listdir()"
   ]
  },
  {
   "cell_type": "code",
   "execution_count": 35,
   "id": "4f97db39",
   "metadata": {},
   "outputs": [
    {
     "ename": "FileNotFoundError",
     "evalue": "[WinError 2] The system cannot find the file specified: 'data.movies.csv'",
     "output_type": "error",
     "traceback": [
      "\u001b[1;31m---------------------------------------------------------------------------\u001b[0m",
      "\u001b[1;31mFileNotFoundError\u001b[0m                         Traceback (most recent call last)",
      "\u001b[1;32m~\\AppData\\Local\\Temp\\ipykernel_2756\\1327871388.py\u001b[0m in \u001b[0;36m<module>\u001b[1;34m\u001b[0m\n\u001b[1;32m----> 1\u001b[1;33m \u001b[0mos\u001b[0m\u001b[1;33m.\u001b[0m\u001b[0mremove\u001b[0m\u001b[1;33m(\u001b[0m\u001b[1;34m'data.movies.csv'\u001b[0m\u001b[1;33m)\u001b[0m\u001b[1;33m\u001b[0m\u001b[1;33m\u001b[0m\u001b[0m\n\u001b[0m",
      "\u001b[1;31mFileNotFoundError\u001b[0m: [WinError 2] The system cannot find the file specified: 'data.movies.csv'"
     ]
    }
   ],
   "source": [
    "os.remove('data.movies.csv')"
   ]
  },
  {
   "cell_type": "code",
   "execution_count": 36,
   "id": "91685a0e",
   "metadata": {},
   "outputs": [
    {
     "data": {
      "text/plain": [
       "['.ipynb_checkpoints', '.jovianrc', 'data', 'Untitled.ipynb']"
      ]
     },
     "execution_count": 36,
     "metadata": {},
     "output_type": "execute_result"
    }
   ],
   "source": [
    "os.listdir()"
   ]
  },
  {
   "cell_type": "markdown",
   "id": "58ce6614",
   "metadata": {},
   "source": [
    "now read csv"
   ]
  },
  {
   "cell_type": "code",
   "execution_count": null,
   "id": "e72d3fb5",
   "metadata": {},
   "outputs": [],
   "source": []
  },
  {
   "cell_type": "code",
   "execution_count": 17,
   "id": "1f91d278",
   "metadata": {},
   "outputs": [
    {
     "name": "stdout",
     "output_type": "stream",
     "text": [
      "Requirement already satisfied: pandas in c:\\users\\india\\anaconda3\\lib\\site-packages (2.0.0)\n",
      "Requirement already satisfied: python-dateutil>=2.8.2 in c:\\users\\india\\anaconda3\\lib\\site-packages (from pandas) (2.8.2)\n",
      "Requirement already satisfied: tzdata>=2022.1 in c:\\users\\india\\anaconda3\\lib\\site-packages (from pandas) (2023.3)\n",
      "Requirement already satisfied: pytz>=2020.1 in c:\\users\\india\\anaconda3\\lib\\site-packages (from pandas) (2022.1)\n",
      "Requirement already satisfied: numpy>=1.20.3 in c:\\users\\india\\anaconda3\\lib\\site-packages (from pandas) (1.24.2)\n",
      "Requirement already satisfied: six>=1.5 in c:\\users\\india\\anaconda3\\lib\\site-packages (from python-dateutil>=2.8.2->pandas) (1.16.0)\n"
     ]
    }
   ],
   "source": [
    "!pip install pandas"
   ]
  },
  {
   "cell_type": "code",
   "execution_count": 46,
   "id": "ba64faa7",
   "metadata": {},
   "outputs": [],
   "source": [
    "import pandas as pd"
   ]
  },
  {
   "cell_type": "code",
   "execution_count": 23,
   "id": "02ff6122",
   "metadata": {},
   "outputs": [],
   "source": [
    "movies_dataframe = pd.read_csv('data/movies.csv')"
   ]
  },
  {
   "cell_type": "code",
   "execution_count": 24,
   "id": "f311936a",
   "metadata": {},
   "outputs": [
    {
     "data": {
      "text/html": [
       "<div>\n",
       "<style scoped>\n",
       "    .dataframe tbody tr th:only-of-type {\n",
       "        vertical-align: middle;\n",
       "    }\n",
       "\n",
       "    .dataframe tbody tr th {\n",
       "        vertical-align: top;\n",
       "    }\n",
       "\n",
       "    .dataframe thead th {\n",
       "        text-align: right;\n",
       "    }\n",
       "</style>\n",
       "<table border=\"1\" class=\"dataframe\">\n",
       "  <thead>\n",
       "    <tr style=\"text-align: right;\">\n",
       "      <th></th>\n",
       "      <th>title</th>\n",
       "      <th>description</th>\n",
       "    </tr>\n",
       "  </thead>\n",
       "  <tbody>\n",
       "    <tr>\n",
       "      <th>0</th>\n",
       "      <td>Fast &amp; Furious</td>\n",
       "      <td>A movie, a race, a franchise</td>\n",
       "    </tr>\n",
       "    <tr>\n",
       "      <th>1</th>\n",
       "      <td>The Dark Knight</td>\n",
       "      <td>Gotham, the \"Batman\", and the Joker</td>\n",
       "    </tr>\n",
       "    <tr>\n",
       "      <th>2</th>\n",
       "      <td>Memento</td>\n",
       "      <td>A guy forgets everything every 15 minutes</td>\n",
       "    </tr>\n",
       "  </tbody>\n",
       "</table>\n",
       "</div>"
      ],
      "text/plain": [
       "             title                                description\n",
       "0   Fast & Furious               A movie, a race, a franchise\n",
       "1  The Dark Knight        Gotham, the \"Batman\", and the Joker\n",
       "2          Memento  A guy forgets everything every 15 minutes"
      ]
     },
     "execution_count": 24,
     "metadata": {},
     "output_type": "execute_result"
    }
   ],
   "source": [
    "movies_dataframe"
   ]
  },
  {
   "cell_type": "markdown",
   "id": "4791726b",
   "metadata": {},
   "source": [
    "convert dataframe into list of dictionaries with to_dict method"
   ]
  },
  {
   "cell_type": "code",
   "execution_count": 25,
   "id": "7ec4a755",
   "metadata": {},
   "outputs": [],
   "source": [
    "movies = movies_dataframe.to_dict('records')"
   ]
  },
  {
   "cell_type": "code",
   "execution_count": 26,
   "id": "ad800f55",
   "metadata": {},
   "outputs": [
    {
     "data": {
      "text/plain": [
       "[{'title': 'Fast & Furious', 'description': 'A movie, a race, a franchise'},\n",
       " {'title': 'The Dark Knight',\n",
       "  'description': 'Gotham, the \"Batman\", and the Joker'},\n",
       " {'title': 'Memento',\n",
       "  'description': 'A guy forgets everything every 15 minutes'}]"
      ]
     },
     "execution_count": 26,
     "metadata": {},
     "output_type": "execute_result"
    }
   ],
   "source": [
    "movies"
   ]
  },
  {
   "cell_type": "markdown",
   "id": "bdb85d0f",
   "metadata": {},
   "source": [
    "if 'records' argument is not passed in to_dict method you will get dictionaries of lists"
   ]
  },
  {
   "cell_type": "code",
   "execution_count": 27,
   "id": "9e18b050",
   "metadata": {},
   "outputs": [],
   "source": [
    "movies_dict = movies_dataframe.to_dict()"
   ]
  },
  {
   "cell_type": "code",
   "execution_count": 28,
   "id": "c1a8b26a",
   "metadata": {},
   "outputs": [
    {
     "data": {
      "text/plain": [
       "{'title': {0: 'Fast & Furious', 1: 'The Dark Knight', 2: 'Memento'},\n",
       " 'description': {0: 'A movie, a race, a franchise',\n",
       "  1: 'Gotham, the \"Batman\", and the Joker',\n",
       "  2: 'A guy forgets everything every 15 minutes'}}"
      ]
     },
     "execution_count": 28,
     "metadata": {},
     "output_type": "execute_result"
    }
   ],
   "source": [
    "movies_dict"
   ]
  },
  {
   "cell_type": "markdown",
   "id": "f886ad17",
   "metadata": {},
   "source": [
    "write data with write_csv func"
   ]
  },
  {
   "cell_type": "code",
   "execution_count": 29,
   "id": "de98f58f",
   "metadata": {},
   "outputs": [
    {
     "ename": "NameError",
     "evalue": "name 'write_csv' is not defined",
     "output_type": "error",
     "traceback": [
      "\u001b[1;31m---------------------------------------------------------------------------\u001b[0m",
      "\u001b[1;31mNameError\u001b[0m                                 Traceback (most recent call last)",
      "\u001b[1;32m~\\AppData\\Local\\Temp\\ipykernel_2756\\1446022058.py\u001b[0m in \u001b[0;36m<module>\u001b[1;34m\u001b[0m\n\u001b[1;32m----> 1\u001b[1;33m \u001b[0mwrite_csv\u001b[0m\u001b[1;33m(\u001b[0m\u001b[0mmovies\u001b[0m\u001b[1;33m,\u001b[0m \u001b[1;34m'movies2.csv'\u001b[0m\u001b[1;33m)\u001b[0m\u001b[1;33m\u001b[0m\u001b[1;33m\u001b[0m\u001b[0m\n\u001b[0m",
      "\u001b[1;31mNameError\u001b[0m: name 'write_csv' is not defined"
     ]
    }
   ],
   "source": [
    "write_csv(movies, 'movies2.csv')"
   ]
  },
  {
   "cell_type": "code",
   "execution_count": 40,
   "id": "af3bade2",
   "metadata": {},
   "outputs": [],
   "source": [
    "def parse_headers(header_line):\n",
    "    return header_line.strip().split(',')\n",
    "\n",
    "def parse_values(data_line):\n",
    "    values = []\n",
    "    for item in data_line.strip().split(','):\n",
    "        if item == '':\n",
    "            values.append(0.0)\n",
    "        else:\n",
    "            try:\n",
    "                values.append(float(item))\n",
    "            except ValueError:\n",
    "                values.append(item)\n",
    "    return values\n",
    "\n",
    "def create_item_dict(values, headers):\n",
    "    result = {}\n",
    "    for value, header in zip(values, headers):\n",
    "        result[header] = value\n",
    "    return result\n",
    "\n",
    "def read_csv(path):\n",
    "    result = []\n",
    "    # Open the file in read mode\n",
    "    with open(path, 'r') as f:\n",
    "        # Get a list of lines\n",
    "        lines = f.readlines()\n",
    "        # Parse the header\n",
    "        headers = parse_headers(lines[0])\n",
    "        # Loop over the remaining lines\n",
    "        for data_line in lines[1:]:\n",
    "            # Parse the values\n",
    "            values = parse_values(data_line)\n",
    "            # Create a dictionary using values & headers\n",
    "            item_dict = create_item_dict(values, headers)\n",
    "            # Add the dictionary to the result\n",
    "            result.append(item_dict)\n",
    "    return result\n",
    "\n",
    "import math\n",
    "\n",
    "def loan_emi(amount, duration, rate, down_payment=0):\n",
    "    \"\"\"Calculates the equal montly installment (EMI) for a loan.\n",
    "    \n",
    "    Arguments:\n",
    "        amount - Total amount to be spent (loan + down payment)\n",
    "        duration - Duration of the loan (in months)\n",
    "        rate - Rate of interest (monthly)\n",
    "        down_payment (optional) - Optional intial payment (deducted from amount)\n",
    "    \"\"\"\n",
    "    loan_amount = amount - down_payment\n",
    "    try:\n",
    "        emi = loan_amount * rate * ((1+rate)**duration) / (((1+rate)**duration)-1)\n",
    "    except ZeroDivisionError:\n",
    "        emi = loan_amount / duration\n",
    "    emi = math.ceil(emi)\n",
    "    return emi\n",
    "\n",
    "def compute_emis(loans):\n",
    "    for loan in loans:\n",
    "        loan['emi'] = loan_emi(\n",
    "            loan['amount'], \n",
    "            loan['duration'], \n",
    "            loan['rate']/12, # the CSV contains yearly rates\n",
    "            loan['down_payment'])\n",
    "    return loans\n",
    "def write_csv(items, path):\n",
    "    # Open the file in write mode\n",
    "    with open(path, 'w') as f:\n",
    "        # Return if there's nothing to write\n",
    "        if len(items) == 0:\n",
    "            return\n",
    "        \n",
    "        # Write the headers in the first line\n",
    "        headers = list(items[0].keys())\n",
    "        f.write(','.join(headers) + '\\n')\n",
    "        \n",
    "        # Write one item per line\n",
    "        for item in items:\n",
    "            values = []\n",
    "            for header in headers:\n",
    "                values.append(str(item.get(header, \"\")))\n",
    "            f.write(','.join(values) + \"\\n\")"
   ]
  },
  {
   "cell_type": "code",
   "execution_count": 44,
   "id": "5c8f05ac",
   "metadata": {},
   "outputs": [],
   "source": [
    "loans3 = read_csv('./data/movies.csv')"
   ]
  },
  {
   "cell_type": "code",
   "execution_count": 45,
   "id": "0c71978e",
   "metadata": {},
   "outputs": [
    {
     "data": {
      "text/plain": [
       "[{'title': 'Fast & Furious', 'description': '\"A movie'},\n",
       " {'title': 'The Dark Knight', 'description': '\"Gotham'},\n",
       " {'title': 'Memento',\n",
       "  'description': 'A guy forgets everything every 15 minutes'}]"
      ]
     },
     "execution_count": 45,
     "metadata": {},
     "output_type": "execute_result"
    }
   ],
   "source": [
    "loans3"
   ]
  },
  {
   "cell_type": "code",
   "execution_count": 47,
   "id": "482894cd",
   "metadata": {},
   "outputs": [],
   "source": [
    "movies_dataframe = pd.read_csv('data/movies.csv')"
   ]
  },
  {
   "cell_type": "code",
   "execution_count": 48,
   "id": "100421d7",
   "metadata": {},
   "outputs": [
    {
     "data": {
      "text/html": [
       "<div>\n",
       "<style scoped>\n",
       "    .dataframe tbody tr th:only-of-type {\n",
       "        vertical-align: middle;\n",
       "    }\n",
       "\n",
       "    .dataframe tbody tr th {\n",
       "        vertical-align: top;\n",
       "    }\n",
       "\n",
       "    .dataframe thead th {\n",
       "        text-align: right;\n",
       "    }\n",
       "</style>\n",
       "<table border=\"1\" class=\"dataframe\">\n",
       "  <thead>\n",
       "    <tr style=\"text-align: right;\">\n",
       "      <th></th>\n",
       "      <th>title</th>\n",
       "      <th>description</th>\n",
       "    </tr>\n",
       "  </thead>\n",
       "  <tbody>\n",
       "    <tr>\n",
       "      <th>0</th>\n",
       "      <td>Fast &amp; Furious</td>\n",
       "      <td>A movie, a race, a franchise</td>\n",
       "    </tr>\n",
       "    <tr>\n",
       "      <th>1</th>\n",
       "      <td>The Dark Knight</td>\n",
       "      <td>Gotham, the \"Batman\", and the Joker</td>\n",
       "    </tr>\n",
       "    <tr>\n",
       "      <th>2</th>\n",
       "      <td>Memento</td>\n",
       "      <td>A guy forgets everything every 15 minutes</td>\n",
       "    </tr>\n",
       "  </tbody>\n",
       "</table>\n",
       "</div>"
      ],
      "text/plain": [
       "             title                                description\n",
       "0   Fast & Furious               A movie, a race, a franchise\n",
       "1  The Dark Knight        Gotham, the \"Batman\", and the Joker\n",
       "2          Memento  A guy forgets everything every 15 minutes"
      ]
     },
     "execution_count": 48,
     "metadata": {},
     "output_type": "execute_result"
    }
   ],
   "source": [
    "movies_dataframe"
   ]
  },
  {
   "cell_type": "markdown",
   "id": "f3ba3a48",
   "metadata": {},
   "source": [
    "dataframe can be converted into list of dictonaries with to_dict function, 'records' argument should be passed"
   ]
  },
  {
   "cell_type": "code",
   "execution_count": 51,
   "id": "4ff781d9",
   "metadata": {},
   "outputs": [],
   "source": [
    "movies = movies_dataframe.to_dict('records')"
   ]
  },
  {
   "cell_type": "code",
   "execution_count": 52,
   "id": "8fff839e",
   "metadata": {},
   "outputs": [
    {
     "data": {
      "text/plain": [
       "[{'title': 'Fast & Furious', 'description': 'A movie, a race, a franchise'},\n",
       " {'title': 'The Dark Knight',\n",
       "  'description': 'Gotham, the \"Batman\", and the Joker'},\n",
       " {'title': 'Memento',\n",
       "  'description': 'A guy forgets everything every 15 minutes'}]"
      ]
     },
     "execution_count": 52,
     "metadata": {},
     "output_type": "execute_result"
    }
   ],
   "source": [
    "movies"
   ]
  },
  {
   "cell_type": "markdown",
   "id": "d2a7f481",
   "metadata": {},
   "source": [
    "if records argument is not passed, will get dictionary of lists"
   ]
  },
  {
   "cell_type": "code",
   "execution_count": 53,
   "id": "c0945a7d",
   "metadata": {},
   "outputs": [],
   "source": [
    "movies_dict = movies_dataframe.to_dict()"
   ]
  },
  {
   "cell_type": "code",
   "execution_count": 54,
   "id": "51a10375",
   "metadata": {},
   "outputs": [
    {
     "data": {
      "text/plain": [
       "{'title': {0: 'Fast & Furious', 1: 'The Dark Knight', 2: 'Memento'},\n",
       " 'description': {0: 'A movie, a race, a franchise',\n",
       "  1: 'Gotham, the \"Batman\", and the Joker',\n",
       "  2: 'A guy forgets everything every 15 minutes'}}"
      ]
     },
     "execution_count": 54,
     "metadata": {},
     "output_type": "execute_result"
    }
   ],
   "source": [
    "movies_dict"
   ]
  },
  {
   "cell_type": "markdown",
   "id": "6fc5f1d3",
   "metadata": {},
   "source": [
    "with write_csv, write the data in movies back to csv file"
   ]
  },
  {
   "cell_type": "code",
   "execution_count": 55,
   "id": "89fae681",
   "metadata": {},
   "outputs": [],
   "source": [
    "write_csv(movies, 'movies2.csv')"
   ]
  },
  {
   "cell_type": "code",
   "execution_count": 56,
   "id": "76265b59",
   "metadata": {},
   "outputs": [
    {
     "data": {
      "text/plain": [
       "['movies.csv']"
      ]
     },
     "execution_count": 56,
     "metadata": {},
     "output_type": "execute_result"
    }
   ],
   "source": [
    "os.listdir('./data')"
   ]
  },
  {
   "cell_type": "code",
   "execution_count": 57,
   "id": "49df93ab",
   "metadata": {},
   "outputs": [
    {
     "data": {
      "text/plain": [
       "['.ipynb_checkpoints', '.jovianrc', 'data', 'movies2.csv', 'Untitled.ipynb']"
      ]
     },
     "execution_count": 57,
     "metadata": {},
     "output_type": "execute_result"
    }
   ],
   "source": [
    "os.listdir()"
   ]
  },
  {
   "cell_type": "code",
   "execution_count": 58,
   "id": "eb79e85e",
   "metadata": {},
   "outputs": [],
   "source": [
    "x = pd.read_csv('movies2.csv')"
   ]
  },
  {
   "cell_type": "code",
   "execution_count": 59,
   "id": "d2fcfd6b",
   "metadata": {},
   "outputs": [
    {
     "data": {
      "text/html": [
       "<div>\n",
       "<style scoped>\n",
       "    .dataframe tbody tr th:only-of-type {\n",
       "        vertical-align: middle;\n",
       "    }\n",
       "\n",
       "    .dataframe tbody tr th {\n",
       "        vertical-align: top;\n",
       "    }\n",
       "\n",
       "    .dataframe thead th {\n",
       "        text-align: right;\n",
       "    }\n",
       "</style>\n",
       "<table border=\"1\" class=\"dataframe\">\n",
       "  <thead>\n",
       "    <tr style=\"text-align: right;\">\n",
       "      <th></th>\n",
       "      <th></th>\n",
       "      <th>title</th>\n",
       "      <th>description</th>\n",
       "    </tr>\n",
       "  </thead>\n",
       "  <tbody>\n",
       "    <tr>\n",
       "      <th>Fast &amp; Furious</th>\n",
       "      <th>A movie</th>\n",
       "      <td>a race</td>\n",
       "      <td>a franchise</td>\n",
       "    </tr>\n",
       "    <tr>\n",
       "      <th>The Dark Knight</th>\n",
       "      <th>Gotham</th>\n",
       "      <td>the \"Batman\"</td>\n",
       "      <td>and the Joker</td>\n",
       "    </tr>\n",
       "    <tr>\n",
       "      <th>Memento</th>\n",
       "      <th>A guy forgets everything every 15 minutes</th>\n",
       "      <td>NaN</td>\n",
       "      <td>NaN</td>\n",
       "    </tr>\n",
       "  </tbody>\n",
       "</table>\n",
       "</div>"
      ],
      "text/plain": [
       "                                                                   title   \n",
       "Fast & Furious  A movie                                           a race  \\\n",
       "The Dark Knight Gotham                                      the \"Batman\"   \n",
       "Memento         A guy forgets everything every 15 minutes            NaN   \n",
       "\n",
       "                                                              description  \n",
       "Fast & Furious  A movie                                       a franchise  \n",
       "The Dark Knight Gotham                                      and the Joker  \n",
       "Memento         A guy forgets everything every 15 minutes             NaN  "
      ]
     },
     "execution_count": 59,
     "metadata": {},
     "output_type": "execute_result"
    }
   ],
   "source": [
    "x"
   ]
  },
  {
   "cell_type": "markdown",
   "id": "08065a96",
   "metadata": {},
   "source": [
    "above csv file is not formatted properly"
   ]
  },
  {
   "cell_type": "markdown",
   "id": "23704bc1",
   "metadata": {},
   "source": [
    "to convert list of dictionaries into dataframe, we should use pd.DataFrame constrcutor"
   ]
  },
  {
   "cell_type": "code",
   "execution_count": 60,
   "id": "bc97d368",
   "metadata": {},
   "outputs": [],
   "source": [
    "df2 = pd.DataFrame(movies)"
   ]
  },
  {
   "cell_type": "code",
   "execution_count": 61,
   "id": "16d5cceb",
   "metadata": {},
   "outputs": [
    {
     "data": {
      "text/html": [
       "<div>\n",
       "<style scoped>\n",
       "    .dataframe tbody tr th:only-of-type {\n",
       "        vertical-align: middle;\n",
       "    }\n",
       "\n",
       "    .dataframe tbody tr th {\n",
       "        vertical-align: top;\n",
       "    }\n",
       "\n",
       "    .dataframe thead th {\n",
       "        text-align: right;\n",
       "    }\n",
       "</style>\n",
       "<table border=\"1\" class=\"dataframe\">\n",
       "  <thead>\n",
       "    <tr style=\"text-align: right;\">\n",
       "      <th></th>\n",
       "      <th>title</th>\n",
       "      <th>description</th>\n",
       "    </tr>\n",
       "  </thead>\n",
       "  <tbody>\n",
       "    <tr>\n",
       "      <th>0</th>\n",
       "      <td>Fast &amp; Furious</td>\n",
       "      <td>A movie, a race, a franchise</td>\n",
       "    </tr>\n",
       "    <tr>\n",
       "      <th>1</th>\n",
       "      <td>The Dark Knight</td>\n",
       "      <td>Gotham, the \"Batman\", and the Joker</td>\n",
       "    </tr>\n",
       "    <tr>\n",
       "      <th>2</th>\n",
       "      <td>Memento</td>\n",
       "      <td>A guy forgets everything every 15 minutes</td>\n",
       "    </tr>\n",
       "  </tbody>\n",
       "</table>\n",
       "</div>"
      ],
      "text/plain": [
       "             title                                description\n",
       "0   Fast & Furious               A movie, a race, a franchise\n",
       "1  The Dark Knight        Gotham, the \"Batman\", and the Joker\n",
       "2          Memento  A guy forgets everything every 15 minutes"
      ]
     },
     "execution_count": 61,
     "metadata": {},
     "output_type": "execute_result"
    }
   ],
   "source": [
    "df2"
   ]
  },
  {
   "cell_type": "markdown",
   "id": "7105815c",
   "metadata": {},
   "source": [
    "after converting to list of dicts to dataframe, now it can be written to csv file with .to_csv method"
   ]
  },
  {
   "cell_type": "code",
   "execution_count": 62,
   "id": "ce5339cb",
   "metadata": {},
   "outputs": [],
   "source": [
    "df2.to_csv('movies3.csv', index=None)"
   ]
  },
  {
   "cell_type": "code",
   "execution_count": 63,
   "id": "e0a2ea66",
   "metadata": {},
   "outputs": [
    {
     "data": {
      "text/html": [
       "<div>\n",
       "<style scoped>\n",
       "    .dataframe tbody tr th:only-of-type {\n",
       "        vertical-align: middle;\n",
       "    }\n",
       "\n",
       "    .dataframe tbody tr th {\n",
       "        vertical-align: top;\n",
       "    }\n",
       "\n",
       "    .dataframe thead th {\n",
       "        text-align: right;\n",
       "    }\n",
       "</style>\n",
       "<table border=\"1\" class=\"dataframe\">\n",
       "  <thead>\n",
       "    <tr style=\"text-align: right;\">\n",
       "      <th></th>\n",
       "      <th>title</th>\n",
       "      <th>description</th>\n",
       "    </tr>\n",
       "  </thead>\n",
       "  <tbody>\n",
       "    <tr>\n",
       "      <th>0</th>\n",
       "      <td>Fast &amp; Furious</td>\n",
       "      <td>A movie, a race, a franchise</td>\n",
       "    </tr>\n",
       "    <tr>\n",
       "      <th>1</th>\n",
       "      <td>The Dark Knight</td>\n",
       "      <td>Gotham, the \"Batman\", and the Joker</td>\n",
       "    </tr>\n",
       "    <tr>\n",
       "      <th>2</th>\n",
       "      <td>Memento</td>\n",
       "      <td>A guy forgets everything every 15 minutes</td>\n",
       "    </tr>\n",
       "  </tbody>\n",
       "</table>\n",
       "</div>"
      ],
      "text/plain": [
       "             title                                description\n",
       "0   Fast & Furious               A movie, a race, a franchise\n",
       "1  The Dark Knight        Gotham, the \"Batman\", and the Joker\n",
       "2          Memento  A guy forgets everything every 15 minutes"
      ]
     },
     "execution_count": 63,
     "metadata": {},
     "output_type": "execute_result"
    }
   ],
   "source": [
    "pd.read_csv('movies3.csv')"
   ]
  },
  {
   "cell_type": "markdown",
   "id": "7c740d89",
   "metadata": {},
   "source": [
    "so u have read the csv with pd.read_csv func, it will return dataframe\n",
    "u can carry out lists of dictionaries with dataframe.to_dict('records')\n",
    "now if you want to write the dictionaries in csv file, u must first convert list of dicts into dataframe with pd.DataFrame(name)\n",
    "now converted dataframe must be converted into csv to be properly formatted\n",
    "converted.to_csv('filename.csv', index=No)"
   ]
  }
 ],
 "metadata": {
  "kernelspec": {
   "display_name": "Python 3 (ipykernel)",
   "language": "python",
   "name": "python3"
  },
  "language_info": {
   "codemirror_mode": {
    "name": "ipython",
    "version": 3
   },
   "file_extension": ".py",
   "mimetype": "text/x-python",
   "name": "python",
   "nbconvert_exporter": "python",
   "pygments_lexer": "ipython3",
   "version": "3.9.13"
  }
 },
 "nbformat": 4,
 "nbformat_minor": 5
}
