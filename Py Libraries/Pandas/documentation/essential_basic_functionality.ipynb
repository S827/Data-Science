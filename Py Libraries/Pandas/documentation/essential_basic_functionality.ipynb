{
 "cells": [
  {
   "cell_type": "code",
   "execution_count": 1,
   "id": "edac87a5",
   "metadata": {},
   "outputs": [],
   "source": [
    "import pandas as pd"
   ]
  },
  {
   "cell_type": "code",
   "execution_count": 2,
   "id": "62e182e2",
   "metadata": {},
   "outputs": [],
   "source": [
    "df = pd.DataFrame(\n",
    "    {\n",
    "        \"Name\": [\n",
    "            \"Braund, Mr. Owen Harris\",\n",
    "            \"Allen, Mr. William Henry\",\n",
    "            \"Bonnell, Miss. Elizabeth\",\n",
    "        ],\n",
    "        \"Age\": [22, 34, 45],\n",
    "        \"Sex\": [\"male\", \"male\", \"female\"],\n",
    "    }\n",
    ")"
   ]
  },
  {
   "cell_type": "code",
   "execution_count": 3,
   "id": "f0d7f817",
   "metadata": {},
   "outputs": [
    {
     "data": {
      "text/html": [
       "<div>\n",
       "<style scoped>\n",
       "    .dataframe tbody tr th:only-of-type {\n",
       "        vertical-align: middle;\n",
       "    }\n",
       "\n",
       "    .dataframe tbody tr th {\n",
       "        vertical-align: top;\n",
       "    }\n",
       "\n",
       "    .dataframe thead th {\n",
       "        text-align: right;\n",
       "    }\n",
       "</style>\n",
       "<table border=\"1\" class=\"dataframe\">\n",
       "  <thead>\n",
       "    <tr style=\"text-align: right;\">\n",
       "      <th></th>\n",
       "      <th>Name</th>\n",
       "      <th>Age</th>\n",
       "      <th>Sex</th>\n",
       "    </tr>\n",
       "  </thead>\n",
       "  <tbody>\n",
       "    <tr>\n",
       "      <th>0</th>\n",
       "      <td>Braund, Mr. Owen Harris</td>\n",
       "      <td>22</td>\n",
       "      <td>male</td>\n",
       "    </tr>\n",
       "    <tr>\n",
       "      <th>1</th>\n",
       "      <td>Allen, Mr. William Henry</td>\n",
       "      <td>34</td>\n",
       "      <td>male</td>\n",
       "    </tr>\n",
       "    <tr>\n",
       "      <th>2</th>\n",
       "      <td>Bonnell, Miss. Elizabeth</td>\n",
       "      <td>45</td>\n",
       "      <td>female</td>\n",
       "    </tr>\n",
       "  </tbody>\n",
       "</table>\n",
       "</div>"
      ],
      "text/plain": [
       "                       Name  Age     Sex\n",
       "0   Braund, Mr. Owen Harris   22    male\n",
       "1  Allen, Mr. William Henry   34    male\n",
       "2  Bonnell, Miss. Elizabeth   45  female"
      ]
     },
     "execution_count": 3,
     "metadata": {},
     "output_type": "execute_result"
    }
   ],
   "source": [
    "df"
   ]
  },
  {
   "cell_type": "markdown",
   "id": "c1da2799",
   "metadata": {},
   "source": [
    "### Each column in a df is a Series"
   ]
  },
  {
   "cell_type": "markdown",
   "id": "c6035f2a",
   "metadata": {},
   "source": [
    "### let's work with the data in column \"Age\""
   ]
  },
  {
   "cell_type": "code",
   "execution_count": 4,
   "id": "4dfea74a",
   "metadata": {},
   "outputs": [
    {
     "data": {
      "text/plain": [
       "0    22\n",
       "1    34\n",
       "2    45\n",
       "Name: Age, dtype: int64"
      ]
     },
     "execution_count": 4,
     "metadata": {},
     "output_type": "execute_result"
    }
   ],
   "source": [
    "df[\"Age\"]"
   ]
  },
  {
   "cell_type": "markdown",
   "id": "aec1da59",
   "metadata": {},
   "source": [
    "### how to create Series from scratch"
   ]
  },
  {
   "cell_type": "code",
   "execution_count": 5,
   "id": "54517e0f",
   "metadata": {},
   "outputs": [],
   "source": [
    "ages = pd.Series([22, 34, 45], name=\"Age\")"
   ]
  },
  {
   "cell_type": "code",
   "execution_count": 6,
   "id": "6ec93073",
   "metadata": {},
   "outputs": [
    {
     "data": {
      "text/plain": [
       "0    22\n",
       "1    34\n",
       "2    45\n",
       "Name: Age, dtype: int64"
      ]
     },
     "execution_count": 6,
     "metadata": {},
     "output_type": "execute_result"
    }
   ],
   "source": [
    "ages #no column labels for series only row labels for series"
   ]
  },
  {
   "cell_type": "markdown",
   "id": "31fb6eab",
   "metadata": {},
   "source": [
    "### max age of passengers"
   ]
  },
  {
   "cell_type": "code",
   "execution_count": 7,
   "id": "21a6f0f0",
   "metadata": {},
   "outputs": [
    {
     "data": {
      "text/plain": [
       "45"
      ]
     },
     "execution_count": 7,
     "metadata": {},
     "output_type": "execute_result"
    }
   ],
   "source": [
    "df['Age'].max() #by selecting the Age column from dataframe"
   ]
  },
  {
   "cell_type": "code",
   "execution_count": 8,
   "id": "73ffe263",
   "metadata": {},
   "outputs": [
    {
     "data": {
      "text/plain": [
       "45"
      ]
     },
     "execution_count": 8,
     "metadata": {},
     "output_type": "execute_result"
    }
   ],
   "source": [
    "ages.max()  # from pandas Series"
   ]
  },
  {
   "cell_type": "markdown",
   "id": "32113baf",
   "metadata": {},
   "source": [
    "### basic statisctics with describe() method"
   ]
  },
  {
   "cell_type": "code",
   "execution_count": 9,
   "id": "bea869e4",
   "metadata": {},
   "outputs": [
    {
     "data": {
      "text/html": [
       "<div>\n",
       "<style scoped>\n",
       "    .dataframe tbody tr th:only-of-type {\n",
       "        vertical-align: middle;\n",
       "    }\n",
       "\n",
       "    .dataframe tbody tr th {\n",
       "        vertical-align: top;\n",
       "    }\n",
       "\n",
       "    .dataframe thead th {\n",
       "        text-align: right;\n",
       "    }\n",
       "</style>\n",
       "<table border=\"1\" class=\"dataframe\">\n",
       "  <thead>\n",
       "    <tr style=\"text-align: right;\">\n",
       "      <th></th>\n",
       "      <th>Age</th>\n",
       "    </tr>\n",
       "  </thead>\n",
       "  <tbody>\n",
       "    <tr>\n",
       "      <th>count</th>\n",
       "      <td>3.000000</td>\n",
       "    </tr>\n",
       "    <tr>\n",
       "      <th>mean</th>\n",
       "      <td>33.666667</td>\n",
       "    </tr>\n",
       "    <tr>\n",
       "      <th>std</th>\n",
       "      <td>11.503623</td>\n",
       "    </tr>\n",
       "    <tr>\n",
       "      <th>min</th>\n",
       "      <td>22.000000</td>\n",
       "    </tr>\n",
       "    <tr>\n",
       "      <th>25%</th>\n",
       "      <td>28.000000</td>\n",
       "    </tr>\n",
       "    <tr>\n",
       "      <th>50%</th>\n",
       "      <td>34.000000</td>\n",
       "    </tr>\n",
       "    <tr>\n",
       "      <th>75%</th>\n",
       "      <td>39.500000</td>\n",
       "    </tr>\n",
       "    <tr>\n",
       "      <th>max</th>\n",
       "      <td>45.000000</td>\n",
       "    </tr>\n",
       "  </tbody>\n",
       "</table>\n",
       "</div>"
      ],
      "text/plain": [
       "             Age\n",
       "count   3.000000\n",
       "mean   33.666667\n",
       "std    11.503623\n",
       "min    22.000000\n",
       "25%    28.000000\n",
       "50%    34.000000\n",
       "75%    39.500000\n",
       "max    45.000000"
      ]
     },
     "execution_count": 9,
     "metadata": {},
     "output_type": "execute_result"
    }
   ],
   "source": [
    "df.describe()"
   ]
  },
  {
   "cell_type": "markdown",
   "id": "4c9dd8f7",
   "metadata": {},
   "source": [
    "### aggregations with describe"
   ]
  },
  {
   "cell_type": "code",
   "execution_count": 10,
   "id": "8f9a723e",
   "metadata": {},
   "outputs": [],
   "source": [
    "import numpy as np"
   ]
  },
  {
   "cell_type": "code",
   "execution_count": 11,
   "id": "4b4f6da3",
   "metadata": {},
   "outputs": [],
   "source": [
    "series = pd.Series(np.random.randn(1000))"
   ]
  },
  {
   "cell_type": "code",
   "execution_count": 12,
   "id": "ed7c3e7d",
   "metadata": {},
   "outputs": [
    {
     "data": {
      "text/plain": [
       "0     -0.354683\n",
       "1      0.801164\n",
       "2     -0.661934\n",
       "3     -0.197221\n",
       "4      0.660566\n",
       "         ...   \n",
       "995    1.069035\n",
       "996   -2.022516\n",
       "997    1.683397\n",
       "998   -0.824121\n",
       "999    0.128534\n",
       "Length: 1000, dtype: float64"
      ]
     },
     "execution_count": 12,
     "metadata": {},
     "output_type": "execute_result"
    }
   ],
   "source": [
    "series"
   ]
  },
  {
   "cell_type": "code",
   "execution_count": 13,
   "id": "f3a82bc9",
   "metadata": {},
   "outputs": [],
   "source": [
    "series[::2] = np.nan"
   ]
  },
  {
   "cell_type": "code",
   "execution_count": 14,
   "id": "d6ca62b2",
   "metadata": {},
   "outputs": [
    {
     "data": {
      "text/plain": [
       "0           NaN\n",
       "1      0.801164\n",
       "2           NaN\n",
       "3     -0.197221\n",
       "4           NaN\n",
       "         ...   \n",
       "995    1.069035\n",
       "996         NaN\n",
       "997    1.683397\n",
       "998         NaN\n",
       "999    0.128534\n",
       "Length: 1000, dtype: float64"
      ]
     },
     "execution_count": 14,
     "metadata": {},
     "output_type": "execute_result"
    }
   ],
   "source": [
    "series"
   ]
  },
  {
   "cell_type": "code",
   "execution_count": 15,
   "id": "773d2db1",
   "metadata": {},
   "outputs": [
    {
     "data": {
      "text/plain": [
       "count    500.000000\n",
       "mean       0.103984\n",
       "std        0.999584\n",
       "min       -3.017099\n",
       "25%       -0.552061\n",
       "50%        0.123486\n",
       "75%        0.841661\n",
       "max        3.026988\n",
       "dtype: float64"
      ]
     },
     "execution_count": 15,
     "metadata": {},
     "output_type": "execute_result"
    }
   ],
   "source": [
    "series.describe()"
   ]
  },
  {
   "cell_type": "code",
   "execution_count": 21,
   "id": "dac24366",
   "metadata": {},
   "outputs": [],
   "source": [
    "# np.random.randn(1000, 5) will create 5 columns of random numbers with 1000 rows\n",
    "# pd.DataFrame(x, columns=['a', 'b'...]) will give the column name\n",
    "frame = pd.DataFrame(np.random.randn(1000, 5), columns = ['a', 'b', 'c', 'd', 'e'])"
   ]
  },
  {
   "cell_type": "code",
   "execution_count": 22,
   "id": "ae0ff269",
   "metadata": {},
   "outputs": [
    {
     "data": {
      "text/html": [
       "<div>\n",
       "<style scoped>\n",
       "    .dataframe tbody tr th:only-of-type {\n",
       "        vertical-align: middle;\n",
       "    }\n",
       "\n",
       "    .dataframe tbody tr th {\n",
       "        vertical-align: top;\n",
       "    }\n",
       "\n",
       "    .dataframe thead th {\n",
       "        text-align: right;\n",
       "    }\n",
       "</style>\n",
       "<table border=\"1\" class=\"dataframe\">\n",
       "  <thead>\n",
       "    <tr style=\"text-align: right;\">\n",
       "      <th></th>\n",
       "      <th>a</th>\n",
       "      <th>b</th>\n",
       "      <th>c</th>\n",
       "      <th>d</th>\n",
       "      <th>e</th>\n",
       "    </tr>\n",
       "  </thead>\n",
       "  <tbody>\n",
       "    <tr>\n",
       "      <th>0</th>\n",
       "      <td>1.169935</td>\n",
       "      <td>-0.405144</td>\n",
       "      <td>-0.066089</td>\n",
       "      <td>-0.358985</td>\n",
       "      <td>1.675503</td>\n",
       "    </tr>\n",
       "    <tr>\n",
       "      <th>1</th>\n",
       "      <td>-2.193696</td>\n",
       "      <td>0.176616</td>\n",
       "      <td>0.972226</td>\n",
       "      <td>-0.035445</td>\n",
       "      <td>1.038014</td>\n",
       "    </tr>\n",
       "    <tr>\n",
       "      <th>2</th>\n",
       "      <td>-2.141097</td>\n",
       "      <td>0.417685</td>\n",
       "      <td>-0.194033</td>\n",
       "      <td>1.442898</td>\n",
       "      <td>-0.269936</td>\n",
       "    </tr>\n",
       "    <tr>\n",
       "      <th>3</th>\n",
       "      <td>0.757818</td>\n",
       "      <td>-1.174309</td>\n",
       "      <td>-0.439817</td>\n",
       "      <td>1.495973</td>\n",
       "      <td>-0.682287</td>\n",
       "    </tr>\n",
       "    <tr>\n",
       "      <th>4</th>\n",
       "      <td>-0.738937</td>\n",
       "      <td>1.559066</td>\n",
       "      <td>0.455216</td>\n",
       "      <td>0.281538</td>\n",
       "      <td>-2.396321</td>\n",
       "    </tr>\n",
       "    <tr>\n",
       "      <th>...</th>\n",
       "      <td>...</td>\n",
       "      <td>...</td>\n",
       "      <td>...</td>\n",
       "      <td>...</td>\n",
       "      <td>...</td>\n",
       "    </tr>\n",
       "    <tr>\n",
       "      <th>995</th>\n",
       "      <td>-0.846564</td>\n",
       "      <td>-0.159712</td>\n",
       "      <td>2.027616</td>\n",
       "      <td>0.047650</td>\n",
       "      <td>0.404581</td>\n",
       "    </tr>\n",
       "    <tr>\n",
       "      <th>996</th>\n",
       "      <td>0.216871</td>\n",
       "      <td>-0.620505</td>\n",
       "      <td>0.088555</td>\n",
       "      <td>-0.905627</td>\n",
       "      <td>1.742363</td>\n",
       "    </tr>\n",
       "    <tr>\n",
       "      <th>997</th>\n",
       "      <td>1.418658</td>\n",
       "      <td>0.232178</td>\n",
       "      <td>1.057874</td>\n",
       "      <td>0.333730</td>\n",
       "      <td>0.249942</td>\n",
       "    </tr>\n",
       "    <tr>\n",
       "      <th>998</th>\n",
       "      <td>-1.023643</td>\n",
       "      <td>0.614648</td>\n",
       "      <td>0.289276</td>\n",
       "      <td>-0.132214</td>\n",
       "      <td>-0.782078</td>\n",
       "    </tr>\n",
       "    <tr>\n",
       "      <th>999</th>\n",
       "      <td>-0.092989</td>\n",
       "      <td>-1.310655</td>\n",
       "      <td>0.951422</td>\n",
       "      <td>-0.962159</td>\n",
       "      <td>1.888213</td>\n",
       "    </tr>\n",
       "  </tbody>\n",
       "</table>\n",
       "<p>1000 rows × 5 columns</p>\n",
       "</div>"
      ],
      "text/plain": [
       "            a         b         c         d         e\n",
       "0    1.169935 -0.405144 -0.066089 -0.358985  1.675503\n",
       "1   -2.193696  0.176616  0.972226 -0.035445  1.038014\n",
       "2   -2.141097  0.417685 -0.194033  1.442898 -0.269936\n",
       "3    0.757818 -1.174309 -0.439817  1.495973 -0.682287\n",
       "4   -0.738937  1.559066  0.455216  0.281538 -2.396321\n",
       "..        ...       ...       ...       ...       ...\n",
       "995 -0.846564 -0.159712  2.027616  0.047650  0.404581\n",
       "996  0.216871 -0.620505  0.088555 -0.905627  1.742363\n",
       "997  1.418658  0.232178  1.057874  0.333730  0.249942\n",
       "998 -1.023643  0.614648  0.289276 -0.132214 -0.782078\n",
       "999 -0.092989 -1.310655  0.951422 -0.962159  1.888213\n",
       "\n",
       "[1000 rows x 5 columns]"
      ]
     },
     "execution_count": 22,
     "metadata": {},
     "output_type": "execute_result"
    }
   ],
   "source": [
    "frame"
   ]
  },
  {
   "cell_type": "code",
   "execution_count": 25,
   "id": "bf8f5cbb",
   "metadata": {},
   "outputs": [],
   "source": [
    "frame.iloc[::2] = np.nan #iloc used for integer indexing"
   ]
  },
  {
   "cell_type": "code",
   "execution_count": 20,
   "id": "571b4c25",
   "metadata": {},
   "outputs": [
    {
     "data": {
      "text/html": [
       "<div>\n",
       "<style scoped>\n",
       "    .dataframe tbody tr th:only-of-type {\n",
       "        vertical-align: middle;\n",
       "    }\n",
       "\n",
       "    .dataframe tbody tr th {\n",
       "        vertical-align: top;\n",
       "    }\n",
       "\n",
       "    .dataframe thead th {\n",
       "        text-align: right;\n",
       "    }\n",
       "</style>\n",
       "<table border=\"1\" class=\"dataframe\">\n",
       "  <thead>\n",
       "    <tr style=\"text-align: right;\">\n",
       "      <th></th>\n",
       "      <th>a</th>\n",
       "      <th>b</th>\n",
       "      <th>c</th>\n",
       "      <th>d</th>\n",
       "      <th>e</th>\n",
       "    </tr>\n",
       "  </thead>\n",
       "  <tbody>\n",
       "    <tr>\n",
       "      <th>count</th>\n",
       "      <td>500.000000</td>\n",
       "      <td>500.000000</td>\n",
       "      <td>500.000000</td>\n",
       "      <td>500.000000</td>\n",
       "      <td>500.000000</td>\n",
       "    </tr>\n",
       "    <tr>\n",
       "      <th>mean</th>\n",
       "      <td>0.035978</td>\n",
       "      <td>-0.037498</td>\n",
       "      <td>0.025229</td>\n",
       "      <td>0.002130</td>\n",
       "      <td>-0.067092</td>\n",
       "    </tr>\n",
       "    <tr>\n",
       "      <th>std</th>\n",
       "      <td>0.967399</td>\n",
       "      <td>1.032769</td>\n",
       "      <td>0.980106</td>\n",
       "      <td>1.029893</td>\n",
       "      <td>1.036419</td>\n",
       "    </tr>\n",
       "    <tr>\n",
       "      <th>min</th>\n",
       "      <td>-2.611786</td>\n",
       "      <td>-3.492245</td>\n",
       "      <td>-2.881768</td>\n",
       "      <td>-2.846208</td>\n",
       "      <td>-3.534457</td>\n",
       "    </tr>\n",
       "    <tr>\n",
       "      <th>25%</th>\n",
       "      <td>-0.597332</td>\n",
       "      <td>-0.726989</td>\n",
       "      <td>-0.616135</td>\n",
       "      <td>-0.707894</td>\n",
       "      <td>-0.757380</td>\n",
       "    </tr>\n",
       "    <tr>\n",
       "      <th>50%</th>\n",
       "      <td>0.124804</td>\n",
       "      <td>-0.053992</td>\n",
       "      <td>0.028515</td>\n",
       "      <td>-0.038079</td>\n",
       "      <td>-0.083551</td>\n",
       "    </tr>\n",
       "    <tr>\n",
       "      <th>75%</th>\n",
       "      <td>0.667989</td>\n",
       "      <td>0.660791</td>\n",
       "      <td>0.648947</td>\n",
       "      <td>0.707988</td>\n",
       "      <td>0.657989</td>\n",
       "    </tr>\n",
       "    <tr>\n",
       "      <th>max</th>\n",
       "      <td>3.067677</td>\n",
       "      <td>3.604923</td>\n",
       "      <td>2.846161</td>\n",
       "      <td>3.208011</td>\n",
       "      <td>3.161970</td>\n",
       "    </tr>\n",
       "  </tbody>\n",
       "</table>\n",
       "</div>"
      ],
      "text/plain": [
       "                a           b           c           d           e\n",
       "count  500.000000  500.000000  500.000000  500.000000  500.000000\n",
       "mean     0.035978   -0.037498    0.025229    0.002130   -0.067092\n",
       "std      0.967399    1.032769    0.980106    1.029893    1.036419\n",
       "min     -2.611786   -3.492245   -2.881768   -2.846208   -3.534457\n",
       "25%     -0.597332   -0.726989   -0.616135   -0.707894   -0.757380\n",
       "50%      0.124804   -0.053992    0.028515   -0.038079   -0.083551\n",
       "75%      0.667989    0.660791    0.648947    0.707988    0.657989\n",
       "max      3.067677    3.604923    2.846161    3.208011    3.161970"
      ]
     },
     "execution_count": 20,
     "metadata": {},
     "output_type": "execute_result"
    }
   ],
   "source": [
    "frame.describe()"
   ]
  },
  {
   "cell_type": "markdown",
   "id": "f85c1938",
   "metadata": {},
   "source": [
    "### we can select specific percentiles to include in the output"
   ]
  },
  {
   "cell_type": "code",
   "execution_count": 31,
   "id": "b5967880",
   "metadata": {},
   "outputs": [
    {
     "data": {
      "text/plain": [
       "count    500.000000\n",
       "mean       0.103984\n",
       "std        0.999584\n",
       "min       -3.017099\n",
       "5%        -1.537426\n",
       "10%       -1.233941\n",
       "20%       -0.752495\n",
       "30%       -0.363522\n",
       "40%       -0.098143\n",
       "50%        0.123486\n",
       "60%        0.403755\n",
       "70%        0.674694\n",
       "80%        1.002943\n",
       "90%        1.359714\n",
       "100%       3.026988\n",
       "max        3.026988\n",
       "dtype: float64"
      ]
     },
     "execution_count": 31,
     "metadata": {},
     "output_type": "execute_result"
    }
   ],
   "source": [
    "series.describe(percentiles=[0.05, 0.1, 0.2, 0.3, 0.4, 0.5, 0.6, 0.7, 0.8, 0.9, 1])"
   ]
  },
  {
   "cell_type": "markdown",
   "id": "8ef47cc1",
   "metadata": {},
   "source": [
    "### for non numerical series, describe() will give a simple summary"
   ]
  },
  {
   "cell_type": "code",
   "execution_count": 32,
   "id": "90e000c3",
   "metadata": {},
   "outputs": [],
   "source": [
    "s = pd.Series(['a', 'b', 'c', 'b', 'a', 'a', 'c', 'd', 'e', 'a', 'c', 'a', 'c', np.nan, 'a', 'b', 'c'])"
   ]
  },
  {
   "cell_type": "code",
   "execution_count": 33,
   "id": "fbc7bcc7",
   "metadata": {},
   "outputs": [
    {
     "data": {
      "text/plain": [
       "count     16\n",
       "unique     5\n",
       "top        a\n",
       "freq       6\n",
       "dtype: object"
      ]
     },
     "execution_count": 33,
     "metadata": {},
     "output_type": "execute_result"
    }
   ],
   "source": [
    "s.describe()"
   ]
  },
  {
   "cell_type": "markdown",
   "id": "a62fdd15",
   "metadata": {},
   "source": [
    "### On mixed type DataFrame object, describe() will restrict the summary to include only numerical columns, if none are only categorical columns will be included"
   ]
  },
  {
   "cell_type": "code",
   "execution_count": 36,
   "id": "6e288693",
   "metadata": {},
   "outputs": [],
   "source": [
    "frame = pd.DataFrame({'a':[\"Y\", \"N\", \"N\", \"Y\"], 'b': range(4)})"
   ]
  },
  {
   "cell_type": "code",
   "execution_count": 37,
   "id": "d40feac6",
   "metadata": {},
   "outputs": [
    {
     "data": {
      "text/html": [
       "<div>\n",
       "<style scoped>\n",
       "    .dataframe tbody tr th:only-of-type {\n",
       "        vertical-align: middle;\n",
       "    }\n",
       "\n",
       "    .dataframe tbody tr th {\n",
       "        vertical-align: top;\n",
       "    }\n",
       "\n",
       "    .dataframe thead th {\n",
       "        text-align: right;\n",
       "    }\n",
       "</style>\n",
       "<table border=\"1\" class=\"dataframe\">\n",
       "  <thead>\n",
       "    <tr style=\"text-align: right;\">\n",
       "      <th></th>\n",
       "      <th>a</th>\n",
       "      <th>b</th>\n",
       "    </tr>\n",
       "  </thead>\n",
       "  <tbody>\n",
       "    <tr>\n",
       "      <th>0</th>\n",
       "      <td>Y</td>\n",
       "      <td>0</td>\n",
       "    </tr>\n",
       "    <tr>\n",
       "      <th>1</th>\n",
       "      <td>N</td>\n",
       "      <td>1</td>\n",
       "    </tr>\n",
       "    <tr>\n",
       "      <th>2</th>\n",
       "      <td>N</td>\n",
       "      <td>2</td>\n",
       "    </tr>\n",
       "    <tr>\n",
       "      <th>3</th>\n",
       "      <td>Y</td>\n",
       "      <td>3</td>\n",
       "    </tr>\n",
       "  </tbody>\n",
       "</table>\n",
       "</div>"
      ],
      "text/plain": [
       "   a  b\n",
       "0  Y  0\n",
       "1  N  1\n",
       "2  N  2\n",
       "3  Y  3"
      ]
     },
     "execution_count": 37,
     "metadata": {},
     "output_type": "execute_result"
    }
   ],
   "source": [
    "frame"
   ]
  },
  {
   "cell_type": "code",
   "execution_count": 38,
   "id": "0765e98a",
   "metadata": {},
   "outputs": [
    {
     "data": {
      "text/html": [
       "<div>\n",
       "<style scoped>\n",
       "    .dataframe tbody tr th:only-of-type {\n",
       "        vertical-align: middle;\n",
       "    }\n",
       "\n",
       "    .dataframe tbody tr th {\n",
       "        vertical-align: top;\n",
       "    }\n",
       "\n",
       "    .dataframe thead th {\n",
       "        text-align: right;\n",
       "    }\n",
       "</style>\n",
       "<table border=\"1\" class=\"dataframe\">\n",
       "  <thead>\n",
       "    <tr style=\"text-align: right;\">\n",
       "      <th></th>\n",
       "      <th>b</th>\n",
       "    </tr>\n",
       "  </thead>\n",
       "  <tbody>\n",
       "    <tr>\n",
       "      <th>count</th>\n",
       "      <td>4.000000</td>\n",
       "    </tr>\n",
       "    <tr>\n",
       "      <th>mean</th>\n",
       "      <td>1.500000</td>\n",
       "    </tr>\n",
       "    <tr>\n",
       "      <th>std</th>\n",
       "      <td>1.290994</td>\n",
       "    </tr>\n",
       "    <tr>\n",
       "      <th>min</th>\n",
       "      <td>0.000000</td>\n",
       "    </tr>\n",
       "    <tr>\n",
       "      <th>25%</th>\n",
       "      <td>0.750000</td>\n",
       "    </tr>\n",
       "    <tr>\n",
       "      <th>50%</th>\n",
       "      <td>1.500000</td>\n",
       "    </tr>\n",
       "    <tr>\n",
       "      <th>75%</th>\n",
       "      <td>2.250000</td>\n",
       "    </tr>\n",
       "    <tr>\n",
       "      <th>max</th>\n",
       "      <td>3.000000</td>\n",
       "    </tr>\n",
       "  </tbody>\n",
       "</table>\n",
       "</div>"
      ],
      "text/plain": [
       "              b\n",
       "count  4.000000\n",
       "mean   1.500000\n",
       "std    1.290994\n",
       "min    0.000000\n",
       "25%    0.750000\n",
       "50%    1.500000\n",
       "75%    2.250000\n",
       "max    3.000000"
      ]
     },
     "execution_count": 38,
     "metadata": {},
     "output_type": "execute_result"
    }
   ],
   "source": [
    "frame.describe()"
   ]
  },
  {
   "cell_type": "markdown",
   "id": "34b39f9e",
   "metadata": {},
   "source": [
    "### However we can include non numerical columns too in describe, with paramters include/exclude\n",
    "\n",
    "#### with include/exclude we can pass the datatypes only and 'all' "
   ]
  },
  {
   "cell_type": "code",
   "execution_count": 40,
   "id": "0461815e",
   "metadata": {},
   "outputs": [
    {
     "data": {
      "text/html": [
       "<div>\n",
       "<style scoped>\n",
       "    .dataframe tbody tr th:only-of-type {\n",
       "        vertical-align: middle;\n",
       "    }\n",
       "\n",
       "    .dataframe tbody tr th {\n",
       "        vertical-align: top;\n",
       "    }\n",
       "\n",
       "    .dataframe thead th {\n",
       "        text-align: right;\n",
       "    }\n",
       "</style>\n",
       "<table border=\"1\" class=\"dataframe\">\n",
       "  <thead>\n",
       "    <tr style=\"text-align: right;\">\n",
       "      <th></th>\n",
       "      <th>a</th>\n",
       "    </tr>\n",
       "  </thead>\n",
       "  <tbody>\n",
       "    <tr>\n",
       "      <th>count</th>\n",
       "      <td>4</td>\n",
       "    </tr>\n",
       "    <tr>\n",
       "      <th>unique</th>\n",
       "      <td>2</td>\n",
       "    </tr>\n",
       "    <tr>\n",
       "      <th>top</th>\n",
       "      <td>Y</td>\n",
       "    </tr>\n",
       "    <tr>\n",
       "      <th>freq</th>\n",
       "      <td>2</td>\n",
       "    </tr>\n",
       "  </tbody>\n",
       "</table>\n",
       "</div>"
      ],
      "text/plain": [
       "        a\n",
       "count   4\n",
       "unique  2\n",
       "top     Y\n",
       "freq    2"
      ]
     },
     "execution_count": 40,
     "metadata": {},
     "output_type": "execute_result"
    }
   ],
   "source": [
    "frame.describe(include=['object'])"
   ]
  },
  {
   "cell_type": "code",
   "execution_count": 41,
   "id": "7ac4a8bb",
   "metadata": {},
   "outputs": [
    {
     "data": {
      "text/html": [
       "<div>\n",
       "<style scoped>\n",
       "    .dataframe tbody tr th:only-of-type {\n",
       "        vertical-align: middle;\n",
       "    }\n",
       "\n",
       "    .dataframe tbody tr th {\n",
       "        vertical-align: top;\n",
       "    }\n",
       "\n",
       "    .dataframe thead th {\n",
       "        text-align: right;\n",
       "    }\n",
       "</style>\n",
       "<table border=\"1\" class=\"dataframe\">\n",
       "  <thead>\n",
       "    <tr style=\"text-align: right;\">\n",
       "      <th></th>\n",
       "      <th>a</th>\n",
       "    </tr>\n",
       "  </thead>\n",
       "  <tbody>\n",
       "    <tr>\n",
       "      <th>count</th>\n",
       "      <td>4</td>\n",
       "    </tr>\n",
       "    <tr>\n",
       "      <th>unique</th>\n",
       "      <td>2</td>\n",
       "    </tr>\n",
       "    <tr>\n",
       "      <th>top</th>\n",
       "      <td>Y</td>\n",
       "    </tr>\n",
       "    <tr>\n",
       "      <th>freq</th>\n",
       "      <td>2</td>\n",
       "    </tr>\n",
       "  </tbody>\n",
       "</table>\n",
       "</div>"
      ],
      "text/plain": [
       "        a\n",
       "count   4\n",
       "unique  2\n",
       "top     Y\n",
       "freq    2"
      ]
     },
     "execution_count": 41,
     "metadata": {},
     "output_type": "execute_result"
    }
   ],
   "source": [
    "frame.describe(exclude=['number'])"
   ]
  },
  {
   "cell_type": "code",
   "execution_count": 42,
   "id": "03ae35a8",
   "metadata": {},
   "outputs": [
    {
     "data": {
      "text/html": [
       "<div>\n",
       "<style scoped>\n",
       "    .dataframe tbody tr th:only-of-type {\n",
       "        vertical-align: middle;\n",
       "    }\n",
       "\n",
       "    .dataframe tbody tr th {\n",
       "        vertical-align: top;\n",
       "    }\n",
       "\n",
       "    .dataframe thead th {\n",
       "        text-align: right;\n",
       "    }\n",
       "</style>\n",
       "<table border=\"1\" class=\"dataframe\">\n",
       "  <thead>\n",
       "    <tr style=\"text-align: right;\">\n",
       "      <th></th>\n",
       "      <th>a</th>\n",
       "      <th>b</th>\n",
       "    </tr>\n",
       "  </thead>\n",
       "  <tbody>\n",
       "    <tr>\n",
       "      <th>count</th>\n",
       "      <td>4</td>\n",
       "      <td>4.000000</td>\n",
       "    </tr>\n",
       "    <tr>\n",
       "      <th>unique</th>\n",
       "      <td>2</td>\n",
       "      <td>NaN</td>\n",
       "    </tr>\n",
       "    <tr>\n",
       "      <th>top</th>\n",
       "      <td>Y</td>\n",
       "      <td>NaN</td>\n",
       "    </tr>\n",
       "    <tr>\n",
       "      <th>freq</th>\n",
       "      <td>2</td>\n",
       "      <td>NaN</td>\n",
       "    </tr>\n",
       "    <tr>\n",
       "      <th>mean</th>\n",
       "      <td>NaN</td>\n",
       "      <td>1.500000</td>\n",
       "    </tr>\n",
       "    <tr>\n",
       "      <th>std</th>\n",
       "      <td>NaN</td>\n",
       "      <td>1.290994</td>\n",
       "    </tr>\n",
       "    <tr>\n",
       "      <th>min</th>\n",
       "      <td>NaN</td>\n",
       "      <td>0.000000</td>\n",
       "    </tr>\n",
       "    <tr>\n",
       "      <th>25%</th>\n",
       "      <td>NaN</td>\n",
       "      <td>0.750000</td>\n",
       "    </tr>\n",
       "    <tr>\n",
       "      <th>50%</th>\n",
       "      <td>NaN</td>\n",
       "      <td>1.500000</td>\n",
       "    </tr>\n",
       "    <tr>\n",
       "      <th>75%</th>\n",
       "      <td>NaN</td>\n",
       "      <td>2.250000</td>\n",
       "    </tr>\n",
       "    <tr>\n",
       "      <th>max</th>\n",
       "      <td>NaN</td>\n",
       "      <td>3.000000</td>\n",
       "    </tr>\n",
       "  </tbody>\n",
       "</table>\n",
       "</div>"
      ],
      "text/plain": [
       "          a         b\n",
       "count     4  4.000000\n",
       "unique    2       NaN\n",
       "top       Y       NaN\n",
       "freq      2       NaN\n",
       "mean    NaN  1.500000\n",
       "std     NaN  1.290994\n",
       "min     NaN  0.000000\n",
       "25%     NaN  0.750000\n",
       "50%     NaN  1.500000\n",
       "75%     NaN  2.250000\n",
       "max     NaN  3.000000"
      ]
     },
     "execution_count": 42,
     "metadata": {},
     "output_type": "execute_result"
    }
   ],
   "source": [
    "frame.describe(include='all')"
   ]
  },
  {
   "cell_type": "markdown",
   "id": "bb032a37",
   "metadata": {},
   "source": [
    "## Index of min/max values\n",
    "\n",
    "* idxmin() will return the index of min value of series/dataframe\n",
    "* idxmax() will return the index of max value of series/dataframe"
   ]
  },
  {
   "cell_type": "code",
   "execution_count": 44,
   "id": "24a01e5e",
   "metadata": {},
   "outputs": [],
   "source": [
    "s1 = pd.Series(np.random.randn(10))"
   ]
  },
  {
   "cell_type": "code",
   "execution_count": 45,
   "id": "e7bb2f98",
   "metadata": {},
   "outputs": [
    {
     "data": {
      "text/plain": [
       "0    1.433208\n",
       "1   -0.478271\n",
       "2    0.543056\n",
       "3   -0.432771\n",
       "4   -0.931697\n",
       "5   -1.321292\n",
       "6   -1.019279\n",
       "7   -1.300000\n",
       "8   -0.946787\n",
       "9   -2.011817\n",
       "dtype: float64"
      ]
     },
     "execution_count": 45,
     "metadata": {},
     "output_type": "execute_result"
    }
   ],
   "source": [
    "s1"
   ]
  },
  {
   "cell_type": "code",
   "execution_count": 47,
   "id": "61af2f0a",
   "metadata": {},
   "outputs": [
    {
     "data": {
      "text/plain": [
       "(9, 0)"
      ]
     },
     "execution_count": 47,
     "metadata": {},
     "output_type": "execute_result"
    }
   ],
   "source": [
    "s1.idxmin(), s1.idxmax()"
   ]
  },
  {
   "cell_type": "code",
   "execution_count": 50,
   "id": "c416de77",
   "metadata": {},
   "outputs": [
    {
     "data": {
      "text/plain": [
       "(-2.0118166936234254, 1.4332078041689515)"
      ]
     },
     "execution_count": 50,
     "metadata": {},
     "output_type": "execute_result"
    }
   ],
   "source": [
    "s1[9], s1[0]"
   ]
  },
  {
   "cell_type": "code",
   "execution_count": 51,
   "id": "872c4841",
   "metadata": {},
   "outputs": [
    {
     "data": {
      "text/plain": [
       "count    10.000000\n",
       "mean     -0.646565\n",
       "std       0.992817\n",
       "min      -2.011817\n",
       "25%      -1.229820\n",
       "50%      -0.939242\n",
       "75%      -0.444146\n",
       "max       1.433208\n",
       "dtype: float64"
      ]
     },
     "execution_count": 51,
     "metadata": {},
     "output_type": "execute_result"
    }
   ],
   "source": [
    "s1.describe()"
   ]
  },
  {
   "cell_type": "markdown",
   "id": "54826dfc",
   "metadata": {},
   "source": [
    "### now check with multiple series or dataframe columns"
   ]
  },
  {
   "cell_type": "code",
   "execution_count": 53,
   "id": "2ce9b012",
   "metadata": {},
   "outputs": [],
   "source": [
    "df1 = pd.DataFrame(np.random.randn(7, 5), columns=['a', 'b', 'c', 'd', 'e'])"
   ]
  },
  {
   "cell_type": "code",
   "execution_count": 54,
   "id": "9f4c0cd8",
   "metadata": {},
   "outputs": [
    {
     "data": {
      "text/html": [
       "<div>\n",
       "<style scoped>\n",
       "    .dataframe tbody tr th:only-of-type {\n",
       "        vertical-align: middle;\n",
       "    }\n",
       "\n",
       "    .dataframe tbody tr th {\n",
       "        vertical-align: top;\n",
       "    }\n",
       "\n",
       "    .dataframe thead th {\n",
       "        text-align: right;\n",
       "    }\n",
       "</style>\n",
       "<table border=\"1\" class=\"dataframe\">\n",
       "  <thead>\n",
       "    <tr style=\"text-align: right;\">\n",
       "      <th></th>\n",
       "      <th>a</th>\n",
       "      <th>b</th>\n",
       "      <th>c</th>\n",
       "      <th>d</th>\n",
       "      <th>e</th>\n",
       "    </tr>\n",
       "  </thead>\n",
       "  <tbody>\n",
       "    <tr>\n",
       "      <th>0</th>\n",
       "      <td>-0.338929</td>\n",
       "      <td>-0.412811</td>\n",
       "      <td>0.242496</td>\n",
       "      <td>-1.838294</td>\n",
       "      <td>0.588975</td>\n",
       "    </tr>\n",
       "    <tr>\n",
       "      <th>1</th>\n",
       "      <td>-0.826719</td>\n",
       "      <td>2.067993</td>\n",
       "      <td>0.580856</td>\n",
       "      <td>0.366991</td>\n",
       "      <td>-0.033012</td>\n",
       "    </tr>\n",
       "    <tr>\n",
       "      <th>2</th>\n",
       "      <td>-0.152020</td>\n",
       "      <td>-1.029013</td>\n",
       "      <td>0.573091</td>\n",
       "      <td>0.610472</td>\n",
       "      <td>0.015568</td>\n",
       "    </tr>\n",
       "    <tr>\n",
       "      <th>3</th>\n",
       "      <td>0.088874</td>\n",
       "      <td>-0.629650</td>\n",
       "      <td>0.586750</td>\n",
       "      <td>-0.134877</td>\n",
       "      <td>1.330945</td>\n",
       "    </tr>\n",
       "    <tr>\n",
       "      <th>4</th>\n",
       "      <td>-1.748392</td>\n",
       "      <td>-0.372358</td>\n",
       "      <td>1.320572</td>\n",
       "      <td>-0.619100</td>\n",
       "      <td>0.023670</td>\n",
       "    </tr>\n",
       "    <tr>\n",
       "      <th>5</th>\n",
       "      <td>-0.831083</td>\n",
       "      <td>0.131637</td>\n",
       "      <td>-0.237758</td>\n",
       "      <td>-0.828414</td>\n",
       "      <td>-0.742476</td>\n",
       "    </tr>\n",
       "    <tr>\n",
       "      <th>6</th>\n",
       "      <td>-1.039771</td>\n",
       "      <td>-1.277665</td>\n",
       "      <td>-0.187859</td>\n",
       "      <td>-0.849789</td>\n",
       "      <td>0.655105</td>\n",
       "    </tr>\n",
       "  </tbody>\n",
       "</table>\n",
       "</div>"
      ],
      "text/plain": [
       "          a         b         c         d         e\n",
       "0 -0.338929 -0.412811  0.242496 -1.838294  0.588975\n",
       "1 -0.826719  2.067993  0.580856  0.366991 -0.033012\n",
       "2 -0.152020 -1.029013  0.573091  0.610472  0.015568\n",
       "3  0.088874 -0.629650  0.586750 -0.134877  1.330945\n",
       "4 -1.748392 -0.372358  1.320572 -0.619100  0.023670\n",
       "5 -0.831083  0.131637 -0.237758 -0.828414 -0.742476\n",
       "6 -1.039771 -1.277665 -0.187859 -0.849789  0.655105"
      ]
     },
     "execution_count": 54,
     "metadata": {},
     "output_type": "execute_result"
    }
   ],
   "source": [
    "df1"
   ]
  },
  {
   "cell_type": "code",
   "execution_count": 58,
   "id": "f512bbde",
   "metadata": {},
   "outputs": [
    {
     "data": {
      "text/plain": [
       "(a    4\n",
       " b    6\n",
       " c    5\n",
       " d    0\n",
       " e    5\n",
       " dtype: int64,\n",
       " a    3\n",
       " b    1\n",
       " c    4\n",
       " d    2\n",
       " e    3\n",
       " dtype: int64)"
      ]
     },
     "execution_count": 58,
     "metadata": {},
     "output_type": "execute_result"
    }
   ],
   "source": [
    "df1.idxmin(), df1.idxmax()"
   ]
  },
  {
   "cell_type": "code",
   "execution_count": 63,
   "id": "92b1218f",
   "metadata": {},
   "outputs": [
    {
     "data": {
      "text/plain": [
       "a    4\n",
       "b    6\n",
       "c    5\n",
       "d    0\n",
       "e    5\n",
       "dtype: int64"
      ]
     },
     "execution_count": 63,
     "metadata": {},
     "output_type": "execute_result"
    }
   ],
   "source": [
    "df1.idxmin(axis=0) #it returns index or rown number of each column which has min value"
   ]
  },
  {
   "cell_type": "code",
   "execution_count": 64,
   "id": "31ff881b",
   "metadata": {
    "scrolled": true
   },
   "outputs": [
    {
     "data": {
      "text/html": [
       "<div>\n",
       "<style scoped>\n",
       "    .dataframe tbody tr th:only-of-type {\n",
       "        vertical-align: middle;\n",
       "    }\n",
       "\n",
       "    .dataframe tbody tr th {\n",
       "        vertical-align: top;\n",
       "    }\n",
       "\n",
       "    .dataframe thead th {\n",
       "        text-align: right;\n",
       "    }\n",
       "</style>\n",
       "<table border=\"1\" class=\"dataframe\">\n",
       "  <thead>\n",
       "    <tr style=\"text-align: right;\">\n",
       "      <th></th>\n",
       "      <th>a</th>\n",
       "      <th>b</th>\n",
       "      <th>c</th>\n",
       "      <th>d</th>\n",
       "      <th>e</th>\n",
       "    </tr>\n",
       "  </thead>\n",
       "  <tbody>\n",
       "    <tr>\n",
       "      <th>0</th>\n",
       "      <td>-0.338929</td>\n",
       "      <td>-0.412811</td>\n",
       "      <td>0.242496</td>\n",
       "      <td>-1.838294</td>\n",
       "      <td>0.588975</td>\n",
       "    </tr>\n",
       "    <tr>\n",
       "      <th>1</th>\n",
       "      <td>-0.826719</td>\n",
       "      <td>2.067993</td>\n",
       "      <td>0.580856</td>\n",
       "      <td>0.366991</td>\n",
       "      <td>-0.033012</td>\n",
       "    </tr>\n",
       "    <tr>\n",
       "      <th>2</th>\n",
       "      <td>-0.152020</td>\n",
       "      <td>-1.029013</td>\n",
       "      <td>0.573091</td>\n",
       "      <td>0.610472</td>\n",
       "      <td>0.015568</td>\n",
       "    </tr>\n",
       "    <tr>\n",
       "      <th>3</th>\n",
       "      <td>0.088874</td>\n",
       "      <td>-0.629650</td>\n",
       "      <td>0.586750</td>\n",
       "      <td>-0.134877</td>\n",
       "      <td>1.330945</td>\n",
       "    </tr>\n",
       "    <tr>\n",
       "      <th>4</th>\n",
       "      <td>-1.748392</td>\n",
       "      <td>-0.372358</td>\n",
       "      <td>1.320572</td>\n",
       "      <td>-0.619100</td>\n",
       "      <td>0.023670</td>\n",
       "    </tr>\n",
       "    <tr>\n",
       "      <th>5</th>\n",
       "      <td>-0.831083</td>\n",
       "      <td>0.131637</td>\n",
       "      <td>-0.237758</td>\n",
       "      <td>-0.828414</td>\n",
       "      <td>-0.742476</td>\n",
       "    </tr>\n",
       "    <tr>\n",
       "      <th>6</th>\n",
       "      <td>-1.039771</td>\n",
       "      <td>-1.277665</td>\n",
       "      <td>-0.187859</td>\n",
       "      <td>-0.849789</td>\n",
       "      <td>0.655105</td>\n",
       "    </tr>\n",
       "  </tbody>\n",
       "</table>\n",
       "</div>"
      ],
      "text/plain": [
       "          a         b         c         d         e\n",
       "0 -0.338929 -0.412811  0.242496 -1.838294  0.588975\n",
       "1 -0.826719  2.067993  0.580856  0.366991 -0.033012\n",
       "2 -0.152020 -1.029013  0.573091  0.610472  0.015568\n",
       "3  0.088874 -0.629650  0.586750 -0.134877  1.330945\n",
       "4 -1.748392 -0.372358  1.320572 -0.619100  0.023670\n",
       "5 -0.831083  0.131637 -0.237758 -0.828414 -0.742476\n",
       "6 -1.039771 -1.277665 -0.187859 -0.849789  0.655105"
      ]
     },
     "execution_count": 64,
     "metadata": {},
     "output_type": "execute_result"
    }
   ],
   "source": [
    "df1"
   ]
  },
  {
   "cell_type": "code",
   "execution_count": 62,
   "id": "41e75ac6",
   "metadata": {},
   "outputs": [
    {
     "data": {
      "text/plain": [
       "0    d\n",
       "1    a\n",
       "2    b\n",
       "3    b\n",
       "4    a\n",
       "5    a\n",
       "6    b\n",
       "dtype: object"
      ]
     },
     "execution_count": 62,
     "metadata": {},
     "output_type": "execute_result"
    }
   ],
   "source": [
    "df1.idxmin(axis=1) # it returns the column name of each row which has min value"
   ]
  },
  {
   "cell_type": "code",
   "execution_count": 67,
   "id": "316dce4b",
   "metadata": {
    "scrolled": true
   },
   "outputs": [
    {
     "data": {
      "text/html": [
       "<div>\n",
       "<style scoped>\n",
       "    .dataframe tbody tr th:only-of-type {\n",
       "        vertical-align: middle;\n",
       "    }\n",
       "\n",
       "    .dataframe tbody tr th {\n",
       "        vertical-align: top;\n",
       "    }\n",
       "\n",
       "    .dataframe thead th {\n",
       "        text-align: right;\n",
       "    }\n",
       "</style>\n",
       "<table border=\"1\" class=\"dataframe\">\n",
       "  <thead>\n",
       "    <tr style=\"text-align: right;\">\n",
       "      <th></th>\n",
       "      <th>a</th>\n",
       "      <th>b</th>\n",
       "      <th>c</th>\n",
       "      <th>d</th>\n",
       "      <th>e</th>\n",
       "    </tr>\n",
       "  </thead>\n",
       "  <tbody>\n",
       "    <tr>\n",
       "      <th>0</th>\n",
       "      <td>-0.338929</td>\n",
       "      <td>-0.412811</td>\n",
       "      <td>0.242496</td>\n",
       "      <td>-1.838294</td>\n",
       "      <td>0.588975</td>\n",
       "    </tr>\n",
       "    <tr>\n",
       "      <th>1</th>\n",
       "      <td>-0.826719</td>\n",
       "      <td>2.067993</td>\n",
       "      <td>0.580856</td>\n",
       "      <td>0.366991</td>\n",
       "      <td>-0.033012</td>\n",
       "    </tr>\n",
       "    <tr>\n",
       "      <th>2</th>\n",
       "      <td>-0.152020</td>\n",
       "      <td>-1.029013</td>\n",
       "      <td>0.573091</td>\n",
       "      <td>0.610472</td>\n",
       "      <td>0.015568</td>\n",
       "    </tr>\n",
       "    <tr>\n",
       "      <th>3</th>\n",
       "      <td>0.088874</td>\n",
       "      <td>-0.629650</td>\n",
       "      <td>0.586750</td>\n",
       "      <td>-0.134877</td>\n",
       "      <td>1.330945</td>\n",
       "    </tr>\n",
       "    <tr>\n",
       "      <th>4</th>\n",
       "      <td>-1.748392</td>\n",
       "      <td>-0.372358</td>\n",
       "      <td>1.320572</td>\n",
       "      <td>-0.619100</td>\n",
       "      <td>0.023670</td>\n",
       "    </tr>\n",
       "    <tr>\n",
       "      <th>5</th>\n",
       "      <td>-0.831083</td>\n",
       "      <td>0.131637</td>\n",
       "      <td>-0.237758</td>\n",
       "      <td>-0.828414</td>\n",
       "      <td>-0.742476</td>\n",
       "    </tr>\n",
       "    <tr>\n",
       "      <th>6</th>\n",
       "      <td>-1.039771</td>\n",
       "      <td>-1.277665</td>\n",
       "      <td>-0.187859</td>\n",
       "      <td>-0.849789</td>\n",
       "      <td>0.655105</td>\n",
       "    </tr>\n",
       "  </tbody>\n",
       "</table>\n",
       "</div>"
      ],
      "text/plain": [
       "          a         b         c         d         e\n",
       "0 -0.338929 -0.412811  0.242496 -1.838294  0.588975\n",
       "1 -0.826719  2.067993  0.580856  0.366991 -0.033012\n",
       "2 -0.152020 -1.029013  0.573091  0.610472  0.015568\n",
       "3  0.088874 -0.629650  0.586750 -0.134877  1.330945\n",
       "4 -1.748392 -0.372358  1.320572 -0.619100  0.023670\n",
       "5 -0.831083  0.131637 -0.237758 -0.828414 -0.742476\n",
       "6 -1.039771 -1.277665 -0.187859 -0.849789  0.655105"
      ]
     },
     "execution_count": 67,
     "metadata": {},
     "output_type": "execute_result"
    }
   ],
   "source": [
    "df1"
   ]
  },
  {
   "cell_type": "code",
   "execution_count": 65,
   "id": "84587574",
   "metadata": {},
   "outputs": [
    {
     "data": {
      "text/plain": [
       "a    3\n",
       "b    1\n",
       "c    4\n",
       "d    2\n",
       "e    3\n",
       "dtype: int64"
      ]
     },
     "execution_count": 65,
     "metadata": {},
     "output_type": "execute_result"
    }
   ],
   "source": [
    "df1.idxmax(axis=0)"
   ]
  },
  {
   "cell_type": "code",
   "execution_count": 66,
   "id": "77822fce",
   "metadata": {},
   "outputs": [
    {
     "data": {
      "text/plain": [
       "0    e\n",
       "1    b\n",
       "2    d\n",
       "3    e\n",
       "4    c\n",
       "5    b\n",
       "6    e\n",
       "dtype: object"
      ]
     },
     "execution_count": 66,
     "metadata": {},
     "output_type": "execute_result"
    }
   ],
   "source": [
    "df1.idxmax(axis=1)"
   ]
  },
  {
   "cell_type": "markdown",
   "id": "59b23417",
   "metadata": {},
   "source": [
    "### when there are multiple rows or columns matching the max or min value, the 1st matching index will be returned"
   ]
  },
  {
   "cell_type": "code",
   "execution_count": 68,
   "id": "11cfac20",
   "metadata": {},
   "outputs": [],
   "source": [
    "df3 = pd.DataFrame([2,1,1,2,np.nan], columns=['A'], index=list(\"edcba\"))"
   ]
  },
  {
   "cell_type": "code",
   "execution_count": 69,
   "id": "dfa0f072",
   "metadata": {},
   "outputs": [
    {
     "data": {
      "text/html": [
       "<div>\n",
       "<style scoped>\n",
       "    .dataframe tbody tr th:only-of-type {\n",
       "        vertical-align: middle;\n",
       "    }\n",
       "\n",
       "    .dataframe tbody tr th {\n",
       "        vertical-align: top;\n",
       "    }\n",
       "\n",
       "    .dataframe thead th {\n",
       "        text-align: right;\n",
       "    }\n",
       "</style>\n",
       "<table border=\"1\" class=\"dataframe\">\n",
       "  <thead>\n",
       "    <tr style=\"text-align: right;\">\n",
       "      <th></th>\n",
       "      <th>A</th>\n",
       "    </tr>\n",
       "  </thead>\n",
       "  <tbody>\n",
       "    <tr>\n",
       "      <th>e</th>\n",
       "      <td>2.0</td>\n",
       "    </tr>\n",
       "    <tr>\n",
       "      <th>d</th>\n",
       "      <td>1.0</td>\n",
       "    </tr>\n",
       "    <tr>\n",
       "      <th>c</th>\n",
       "      <td>1.0</td>\n",
       "    </tr>\n",
       "    <tr>\n",
       "      <th>b</th>\n",
       "      <td>2.0</td>\n",
       "    </tr>\n",
       "    <tr>\n",
       "      <th>a</th>\n",
       "      <td>NaN</td>\n",
       "    </tr>\n",
       "  </tbody>\n",
       "</table>\n",
       "</div>"
      ],
      "text/plain": [
       "     A\n",
       "e  2.0\n",
       "d  1.0\n",
       "c  1.0\n",
       "b  2.0\n",
       "a  NaN"
      ]
     },
     "execution_count": 69,
     "metadata": {},
     "output_type": "execute_result"
    }
   ],
   "source": [
    "df3"
   ]
  },
  {
   "cell_type": "code",
   "execution_count": 72,
   "id": "ae3eeb09",
   "metadata": {},
   "outputs": [
    {
     "data": {
      "text/plain": [
       "A    d\n",
       "dtype: object"
      ]
     },
     "execution_count": 72,
     "metadata": {},
     "output_type": "execute_result"
    }
   ],
   "source": [
    "df3.idxmin()"
   ]
  },
  {
   "cell_type": "code",
   "execution_count": 73,
   "id": "900294c3",
   "metadata": {},
   "outputs": [
    {
     "data": {
      "text/plain": [
       "A    e\n",
       "dtype: object"
      ]
     },
     "execution_count": 73,
     "metadata": {},
     "output_type": "execute_result"
    }
   ],
   "source": [
    "df3.idxmax()"
   ]
  },
  {
   "cell_type": "markdown",
   "id": "6726abfe",
   "metadata": {},
   "source": [
    "## Note: In numpy idxmin and idxmax is argmin and argmax"
   ]
  },
  {
   "cell_type": "markdown",
   "id": "03615450",
   "metadata": {},
   "source": [
    "# Value counts(histogramming)/mode"
   ]
  },
  {
   "cell_type": "markdown",
   "id": "206f0e43",
   "metadata": {},
   "source": [
    "## value_counts() is a series method which returns number of counts of unique values in a series"
   ]
  },
  {
   "cell_type": "code",
   "execution_count": 86,
   "id": "e34ddfe9",
   "metadata": {},
   "outputs": [],
   "source": [
    "data = np.random.randint(1, 7, size = 50)"
   ]
  },
  {
   "cell_type": "code",
   "execution_count": 87,
   "id": "1aca8a7f",
   "metadata": {},
   "outputs": [
    {
     "data": {
      "text/plain": [
       "array([5, 3, 3, 6, 2, 4, 3, 2, 2, 5, 4, 5, 6, 4, 4, 1, 3, 4, 1, 6, 3, 4,\n",
       "       5, 2, 6, 3, 1, 3, 4, 2, 4, 3, 4, 1, 5, 4, 3, 4, 1, 6, 3, 3, 1, 5,\n",
       "       2, 5, 5, 2, 5, 6])"
      ]
     },
     "execution_count": 87,
     "metadata": {},
     "output_type": "execute_result"
    }
   ],
   "source": [
    "data"
   ]
  },
  {
   "cell_type": "code",
   "execution_count": 88,
   "id": "7d42c4a5",
   "metadata": {},
   "outputs": [],
   "source": [
    "s = pd.Series(data)"
   ]
  },
  {
   "cell_type": "code",
   "execution_count": 89,
   "id": "82341797",
   "metadata": {
    "scrolled": true
   },
   "outputs": [
    {
     "data": {
      "text/plain": [
       "0     5\n",
       "1     3\n",
       "2     3\n",
       "3     6\n",
       "4     2\n",
       "5     4\n",
       "6     3\n",
       "7     2\n",
       "8     2\n",
       "9     5\n",
       "10    4\n",
       "11    5\n",
       "12    6\n",
       "13    4\n",
       "14    4\n",
       "15    1\n",
       "16    3\n",
       "17    4\n",
       "18    1\n",
       "19    6\n",
       "20    3\n",
       "21    4\n",
       "22    5\n",
       "23    2\n",
       "24    6\n",
       "25    3\n",
       "26    1\n",
       "27    3\n",
       "28    4\n",
       "29    2\n",
       "30    4\n",
       "31    3\n",
       "32    4\n",
       "33    1\n",
       "34    5\n",
       "35    4\n",
       "36    3\n",
       "37    4\n",
       "38    1\n",
       "39    6\n",
       "40    3\n",
       "41    3\n",
       "42    1\n",
       "43    5\n",
       "44    2\n",
       "45    5\n",
       "46    5\n",
       "47    2\n",
       "48    5\n",
       "49    6\n",
       "dtype: int32"
      ]
     },
     "execution_count": 89,
     "metadata": {},
     "output_type": "execute_result"
    }
   ],
   "source": [
    "s"
   ]
  },
  {
   "cell_type": "code",
   "execution_count": 90,
   "id": "2ae29f0e",
   "metadata": {
    "scrolled": true
   },
   "outputs": [
    {
     "data": {
      "text/plain": [
       "3    11\n",
       "4    11\n",
       "5     9\n",
       "2     7\n",
       "6     6\n",
       "1     6\n",
       "dtype: int64"
      ]
     },
     "execution_count": 90,
     "metadata": {},
     "output_type": "execute_result"
    }
   ],
   "source": [
    "s.value_counts()"
   ]
  },
  {
   "cell_type": "code",
   "execution_count": 92,
   "id": "de72c0ca",
   "metadata": {},
   "outputs": [
    {
     "data": {
      "text/plain": [
       "3    11\n",
       "4    11\n",
       "5     9\n",
       "2     7\n",
       "6     6\n",
       "1     6\n",
       "dtype: int64"
      ]
     },
     "execution_count": 92,
     "metadata": {},
     "output_type": "execute_result"
    }
   ],
   "source": [
    "pd.value_counts(data) #array is passed as an argument in value_counts method"
   ]
  },
  {
   "cell_type": "markdown",
   "id": "2ea4d215",
   "metadata": {},
   "source": [
    "### value_counts() can be used on multiple columns"
   ]
  },
  {
   "cell_type": "code",
   "execution_count": 94,
   "id": "6938d762",
   "metadata": {},
   "outputs": [
    {
     "data": {
      "text/plain": [
       "{'a': [1, 2, 3, 3, 2, 2, 3], 'b': ['a', 'b', 'a', 'c', 'a', 'b', 'a']}"
      ]
     },
     "execution_count": 94,
     "metadata": {},
     "output_type": "execute_result"
    }
   ],
   "source": [
    "data = {'a': [1, 2, 3, 3, 2, 2, 3], 'b': ['a', 'b', 'a', 'c', 'a', 'b', 'a']}\n",
    "data\n",
    "                                          "
   ]
  },
  {
   "cell_type": "code",
   "execution_count": 95,
   "id": "6e6fbd85",
   "metadata": {},
   "outputs": [
    {
     "data": {
      "text/plain": [
       "a    [1, 2, 3, 3, 2, 2, 3]\n",
       "b    [a, b, a, c, a, b, a]\n",
       "dtype: object"
      ]
     },
     "execution_count": 95,
     "metadata": {},
     "output_type": "execute_result"
    }
   ],
   "source": [
    "pd.Series(data)"
   ]
  },
  {
   "cell_type": "code",
   "execution_count": 100,
   "id": "fd33c8f4",
   "metadata": {
    "scrolled": false
   },
   "outputs": [
    {
     "data": {
      "text/html": [
       "<div>\n",
       "<style scoped>\n",
       "    .dataframe tbody tr th:only-of-type {\n",
       "        vertical-align: middle;\n",
       "    }\n",
       "\n",
       "    .dataframe tbody tr th {\n",
       "        vertical-align: top;\n",
       "    }\n",
       "\n",
       "    .dataframe thead th {\n",
       "        text-align: right;\n",
       "    }\n",
       "</style>\n",
       "<table border=\"1\" class=\"dataframe\">\n",
       "  <thead>\n",
       "    <tr style=\"text-align: right;\">\n",
       "      <th></th>\n",
       "      <th>a</th>\n",
       "      <th>b</th>\n",
       "    </tr>\n",
       "  </thead>\n",
       "  <tbody>\n",
       "    <tr>\n",
       "      <th>0</th>\n",
       "      <td>1</td>\n",
       "      <td>a</td>\n",
       "    </tr>\n",
       "    <tr>\n",
       "      <th>1</th>\n",
       "      <td>2</td>\n",
       "      <td>b</td>\n",
       "    </tr>\n",
       "    <tr>\n",
       "      <th>2</th>\n",
       "      <td>3</td>\n",
       "      <td>a</td>\n",
       "    </tr>\n",
       "    <tr>\n",
       "      <th>3</th>\n",
       "      <td>3</td>\n",
       "      <td>c</td>\n",
       "    </tr>\n",
       "    <tr>\n",
       "      <th>4</th>\n",
       "      <td>2</td>\n",
       "      <td>a</td>\n",
       "    </tr>\n",
       "    <tr>\n",
       "      <th>5</th>\n",
       "      <td>2</td>\n",
       "      <td>b</td>\n",
       "    </tr>\n",
       "    <tr>\n",
       "      <th>6</th>\n",
       "      <td>3</td>\n",
       "      <td>a</td>\n",
       "    </tr>\n",
       "  </tbody>\n",
       "</table>\n",
       "</div>"
      ],
      "text/plain": [
       "   a  b\n",
       "0  1  a\n",
       "1  2  b\n",
       "2  3  a\n",
       "3  3  c\n",
       "4  2  a\n",
       "5  2  b\n",
       "6  3  a"
      ]
     },
     "execution_count": 100,
     "metadata": {},
     "output_type": "execute_result"
    }
   ],
   "source": [
    "x = pd.DataFrame(data)\n",
    "x"
   ]
  },
  {
   "cell_type": "code",
   "execution_count": 101,
   "id": "3748fafe",
   "metadata": {},
   "outputs": [
    {
     "data": {
      "text/plain": [
       "a  b\n",
       "2  b    2\n",
       "3  a    2\n",
       "1  a    1\n",
       "2  a    1\n",
       "3  c    1\n",
       "dtype: int64"
      ]
     },
     "execution_count": 101,
     "metadata": {},
     "output_type": "execute_result"
    }
   ],
   "source": [
    "x.value_counts()"
   ]
  },
  {
   "cell_type": "markdown",
   "id": "20c452c1",
   "metadata": {},
   "source": [
    "### with mode() method, we can get the most frequent values"
   ]
  },
  {
   "cell_type": "code",
   "execution_count": 105,
   "id": "02c8bbc6",
   "metadata": {},
   "outputs": [],
   "source": [
    "s5 = pd.Series([1,2,1,3,1,3,4,2,2,4,2,1,1,7,9,2])"
   ]
  },
  {
   "cell_type": "code",
   "execution_count": 106,
   "id": "39aac130",
   "metadata": {},
   "outputs": [
    {
     "data": {
      "text/plain": [
       "0    1\n",
       "1    2\n",
       "dtype: int64"
      ]
     },
     "execution_count": 106,
     "metadata": {},
     "output_type": "execute_result"
    }
   ],
   "source": [
    "s5.mode()"
   ]
  },
  {
   "cell_type": "markdown",
   "id": "1d8daa36",
   "metadata": {},
   "source": [
    "### now let's work with mode on multiple columns"
   ]
  },
  {
   "cell_type": "code",
   "execution_count": 108,
   "id": "03a90a3b",
   "metadata": {},
   "outputs": [],
   "source": [
    "df5 = pd.DataFrame(\n",
    "    {\n",
    "        'A': np.random.randint(1, 7, size=50),\n",
    "        'B': np.random.randint(7, 13, size=50)\n",
    "    }\n",
    ")"
   ]
  },
  {
   "cell_type": "code",
   "execution_count": 109,
   "id": "3a813d3c",
   "metadata": {
    "scrolled": true
   },
   "outputs": [
    {
     "data": {
      "text/html": [
       "<div>\n",
       "<style scoped>\n",
       "    .dataframe tbody tr th:only-of-type {\n",
       "        vertical-align: middle;\n",
       "    }\n",
       "\n",
       "    .dataframe tbody tr th {\n",
       "        vertical-align: top;\n",
       "    }\n",
       "\n",
       "    .dataframe thead th {\n",
       "        text-align: right;\n",
       "    }\n",
       "</style>\n",
       "<table border=\"1\" class=\"dataframe\">\n",
       "  <thead>\n",
       "    <tr style=\"text-align: right;\">\n",
       "      <th></th>\n",
       "      <th>A</th>\n",
       "      <th>B</th>\n",
       "    </tr>\n",
       "  </thead>\n",
       "  <tbody>\n",
       "    <tr>\n",
       "      <th>0</th>\n",
       "      <td>2</td>\n",
       "      <td>7</td>\n",
       "    </tr>\n",
       "    <tr>\n",
       "      <th>1</th>\n",
       "      <td>1</td>\n",
       "      <td>9</td>\n",
       "    </tr>\n",
       "    <tr>\n",
       "      <th>2</th>\n",
       "      <td>5</td>\n",
       "      <td>11</td>\n",
       "    </tr>\n",
       "    <tr>\n",
       "      <th>3</th>\n",
       "      <td>5</td>\n",
       "      <td>12</td>\n",
       "    </tr>\n",
       "    <tr>\n",
       "      <th>4</th>\n",
       "      <td>3</td>\n",
       "      <td>7</td>\n",
       "    </tr>\n",
       "    <tr>\n",
       "      <th>5</th>\n",
       "      <td>1</td>\n",
       "      <td>8</td>\n",
       "    </tr>\n",
       "    <tr>\n",
       "      <th>6</th>\n",
       "      <td>2</td>\n",
       "      <td>9</td>\n",
       "    </tr>\n",
       "    <tr>\n",
       "      <th>7</th>\n",
       "      <td>5</td>\n",
       "      <td>11</td>\n",
       "    </tr>\n",
       "    <tr>\n",
       "      <th>8</th>\n",
       "      <td>5</td>\n",
       "      <td>11</td>\n",
       "    </tr>\n",
       "    <tr>\n",
       "      <th>9</th>\n",
       "      <td>4</td>\n",
       "      <td>11</td>\n",
       "    </tr>\n",
       "    <tr>\n",
       "      <th>10</th>\n",
       "      <td>1</td>\n",
       "      <td>9</td>\n",
       "    </tr>\n",
       "    <tr>\n",
       "      <th>11</th>\n",
       "      <td>6</td>\n",
       "      <td>9</td>\n",
       "    </tr>\n",
       "    <tr>\n",
       "      <th>12</th>\n",
       "      <td>5</td>\n",
       "      <td>10</td>\n",
       "    </tr>\n",
       "    <tr>\n",
       "      <th>13</th>\n",
       "      <td>3</td>\n",
       "      <td>8</td>\n",
       "    </tr>\n",
       "    <tr>\n",
       "      <th>14</th>\n",
       "      <td>6</td>\n",
       "      <td>7</td>\n",
       "    </tr>\n",
       "    <tr>\n",
       "      <th>15</th>\n",
       "      <td>6</td>\n",
       "      <td>11</td>\n",
       "    </tr>\n",
       "    <tr>\n",
       "      <th>16</th>\n",
       "      <td>1</td>\n",
       "      <td>8</td>\n",
       "    </tr>\n",
       "    <tr>\n",
       "      <th>17</th>\n",
       "      <td>2</td>\n",
       "      <td>8</td>\n",
       "    </tr>\n",
       "    <tr>\n",
       "      <th>18</th>\n",
       "      <td>6</td>\n",
       "      <td>11</td>\n",
       "    </tr>\n",
       "    <tr>\n",
       "      <th>19</th>\n",
       "      <td>2</td>\n",
       "      <td>7</td>\n",
       "    </tr>\n",
       "    <tr>\n",
       "      <th>20</th>\n",
       "      <td>3</td>\n",
       "      <td>10</td>\n",
       "    </tr>\n",
       "    <tr>\n",
       "      <th>21</th>\n",
       "      <td>6</td>\n",
       "      <td>9</td>\n",
       "    </tr>\n",
       "    <tr>\n",
       "      <th>22</th>\n",
       "      <td>2</td>\n",
       "      <td>8</td>\n",
       "    </tr>\n",
       "    <tr>\n",
       "      <th>23</th>\n",
       "      <td>2</td>\n",
       "      <td>11</td>\n",
       "    </tr>\n",
       "    <tr>\n",
       "      <th>24</th>\n",
       "      <td>6</td>\n",
       "      <td>7</td>\n",
       "    </tr>\n",
       "    <tr>\n",
       "      <th>25</th>\n",
       "      <td>1</td>\n",
       "      <td>8</td>\n",
       "    </tr>\n",
       "    <tr>\n",
       "      <th>26</th>\n",
       "      <td>4</td>\n",
       "      <td>11</td>\n",
       "    </tr>\n",
       "    <tr>\n",
       "      <th>27</th>\n",
       "      <td>5</td>\n",
       "      <td>9</td>\n",
       "    </tr>\n",
       "    <tr>\n",
       "      <th>28</th>\n",
       "      <td>4</td>\n",
       "      <td>10</td>\n",
       "    </tr>\n",
       "    <tr>\n",
       "      <th>29</th>\n",
       "      <td>2</td>\n",
       "      <td>11</td>\n",
       "    </tr>\n",
       "    <tr>\n",
       "      <th>30</th>\n",
       "      <td>1</td>\n",
       "      <td>10</td>\n",
       "    </tr>\n",
       "    <tr>\n",
       "      <th>31</th>\n",
       "      <td>3</td>\n",
       "      <td>7</td>\n",
       "    </tr>\n",
       "    <tr>\n",
       "      <th>32</th>\n",
       "      <td>1</td>\n",
       "      <td>9</td>\n",
       "    </tr>\n",
       "    <tr>\n",
       "      <th>33</th>\n",
       "      <td>2</td>\n",
       "      <td>12</td>\n",
       "    </tr>\n",
       "    <tr>\n",
       "      <th>34</th>\n",
       "      <td>2</td>\n",
       "      <td>10</td>\n",
       "    </tr>\n",
       "    <tr>\n",
       "      <th>35</th>\n",
       "      <td>1</td>\n",
       "      <td>7</td>\n",
       "    </tr>\n",
       "    <tr>\n",
       "      <th>36</th>\n",
       "      <td>4</td>\n",
       "      <td>9</td>\n",
       "    </tr>\n",
       "    <tr>\n",
       "      <th>37</th>\n",
       "      <td>2</td>\n",
       "      <td>7</td>\n",
       "    </tr>\n",
       "    <tr>\n",
       "      <th>38</th>\n",
       "      <td>1</td>\n",
       "      <td>8</td>\n",
       "    </tr>\n",
       "    <tr>\n",
       "      <th>39</th>\n",
       "      <td>6</td>\n",
       "      <td>7</td>\n",
       "    </tr>\n",
       "    <tr>\n",
       "      <th>40</th>\n",
       "      <td>6</td>\n",
       "      <td>7</td>\n",
       "    </tr>\n",
       "    <tr>\n",
       "      <th>41</th>\n",
       "      <td>4</td>\n",
       "      <td>9</td>\n",
       "    </tr>\n",
       "    <tr>\n",
       "      <th>42</th>\n",
       "      <td>2</td>\n",
       "      <td>12</td>\n",
       "    </tr>\n",
       "    <tr>\n",
       "      <th>43</th>\n",
       "      <td>6</td>\n",
       "      <td>8</td>\n",
       "    </tr>\n",
       "    <tr>\n",
       "      <th>44</th>\n",
       "      <td>1</td>\n",
       "      <td>9</td>\n",
       "    </tr>\n",
       "    <tr>\n",
       "      <th>45</th>\n",
       "      <td>5</td>\n",
       "      <td>11</td>\n",
       "    </tr>\n",
       "    <tr>\n",
       "      <th>46</th>\n",
       "      <td>6</td>\n",
       "      <td>7</td>\n",
       "    </tr>\n",
       "    <tr>\n",
       "      <th>47</th>\n",
       "      <td>4</td>\n",
       "      <td>10</td>\n",
       "    </tr>\n",
       "    <tr>\n",
       "      <th>48</th>\n",
       "      <td>2</td>\n",
       "      <td>10</td>\n",
       "    </tr>\n",
       "    <tr>\n",
       "      <th>49</th>\n",
       "      <td>3</td>\n",
       "      <td>10</td>\n",
       "    </tr>\n",
       "  </tbody>\n",
       "</table>\n",
       "</div>"
      ],
      "text/plain": [
       "    A   B\n",
       "0   2   7\n",
       "1   1   9\n",
       "2   5  11\n",
       "3   5  12\n",
       "4   3   7\n",
       "5   1   8\n",
       "6   2   9\n",
       "7   5  11\n",
       "8   5  11\n",
       "9   4  11\n",
       "10  1   9\n",
       "11  6   9\n",
       "12  5  10\n",
       "13  3   8\n",
       "14  6   7\n",
       "15  6  11\n",
       "16  1   8\n",
       "17  2   8\n",
       "18  6  11\n",
       "19  2   7\n",
       "20  3  10\n",
       "21  6   9\n",
       "22  2   8\n",
       "23  2  11\n",
       "24  6   7\n",
       "25  1   8\n",
       "26  4  11\n",
       "27  5   9\n",
       "28  4  10\n",
       "29  2  11\n",
       "30  1  10\n",
       "31  3   7\n",
       "32  1   9\n",
       "33  2  12\n",
       "34  2  10\n",
       "35  1   7\n",
       "36  4   9\n",
       "37  2   7\n",
       "38  1   8\n",
       "39  6   7\n",
       "40  6   7\n",
       "41  4   9\n",
       "42  2  12\n",
       "43  6   8\n",
       "44  1   9\n",
       "45  5  11\n",
       "46  6   7\n",
       "47  4  10\n",
       "48  2  10\n",
       "49  3  10"
      ]
     },
     "execution_count": 109,
     "metadata": {},
     "output_type": "execute_result"
    }
   ],
   "source": [
    "df5"
   ]
  },
  {
   "cell_type": "code",
   "execution_count": 111,
   "id": "7135ad56",
   "metadata": {},
   "outputs": [
    {
     "data": {
      "text/html": [
       "<div>\n",
       "<style scoped>\n",
       "    .dataframe tbody tr th:only-of-type {\n",
       "        vertical-align: middle;\n",
       "    }\n",
       "\n",
       "    .dataframe tbody tr th {\n",
       "        vertical-align: top;\n",
       "    }\n",
       "\n",
       "    .dataframe thead th {\n",
       "        text-align: right;\n",
       "    }\n",
       "</style>\n",
       "<table border=\"1\" class=\"dataframe\">\n",
       "  <thead>\n",
       "    <tr style=\"text-align: right;\">\n",
       "      <th></th>\n",
       "      <th>A</th>\n",
       "      <th>B</th>\n",
       "    </tr>\n",
       "  </thead>\n",
       "  <tbody>\n",
       "    <tr>\n",
       "      <th>0</th>\n",
       "      <td>2</td>\n",
       "      <td>7</td>\n",
       "    </tr>\n",
       "  </tbody>\n",
       "</table>\n",
       "</div>"
      ],
      "text/plain": [
       "   A  B\n",
       "0  2  7"
      ]
     },
     "execution_count": 111,
     "metadata": {},
     "output_type": "execute_result"
    }
   ],
   "source": [
    "df5.mode() # returns 2 and 7 are the most frequent values together"
   ]
  },
  {
   "cell_type": "code",
   "execution_count": 112,
   "id": "920b824c",
   "metadata": {},
   "outputs": [
    {
     "data": {
      "text/plain": [
       "0    2\n",
       "Name: A, dtype: int32"
      ]
     },
     "execution_count": 112,
     "metadata": {},
     "output_type": "execute_result"
    }
   ],
   "source": [
    "df5['A'].mode()"
   ]
  },
  {
   "cell_type": "code",
   "execution_count": 113,
   "id": "bd9adac6",
   "metadata": {},
   "outputs": [
    {
     "data": {
      "text/plain": [
       "0    7\n",
       "Name: B, dtype: int32"
      ]
     },
     "execution_count": 113,
     "metadata": {},
     "output_type": "execute_result"
    }
   ],
   "source": [
    "df5['B'].mode()"
   ]
  },
  {
   "cell_type": "code",
   "execution_count": null,
   "id": "7782095d",
   "metadata": {},
   "outputs": [],
   "source": []
  }
 ],
 "metadata": {
  "kernelspec": {
   "display_name": "Python 3 (ipykernel)",
   "language": "python",
   "name": "python3"
  },
  "language_info": {
   "codemirror_mode": {
    "name": "ipython",
    "version": 3
   },
   "file_extension": ".py",
   "mimetype": "text/x-python",
   "name": "python",
   "nbconvert_exporter": "python",
   "pygments_lexer": "ipython3",
   "version": "3.10.9"
  }
 },
 "nbformat": 4,
 "nbformat_minor": 5
}
