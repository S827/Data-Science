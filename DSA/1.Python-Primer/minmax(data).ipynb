{
 "cells": [
  {
   "cell_type": "markdown",
   "id": "c603a0d0",
   "metadata": {},
   "source": [
    "# R-1.3 Write a short Python function, minmax(data), that takes a sequence of\n",
    "# one or more numbers, and returns the smallest and largest numbers, in the\n",
    "# form of a tuple of length two. Do not use the built-in functions min or\n",
    "# max in implementing your solution"
   ]
  },
  {
   "cell_type": "code",
   "execution_count": 4,
   "id": "8e8865e7",
   "metadata": {},
   "outputs": [],
   "source": [
    "def minmax(data):\n",
    "    min = 0\n",
    "    max = 0\n",
    "    for i in range(len(data)):\n",
    "        if data[i] > max:\n",
    "            max = data[i]\n",
    "        elif data[i] < min:\n",
    "            min = data[i]\n",
    "    return (min, max)"
   ]
  },
  {
   "cell_type": "code",
   "execution_count": 5,
   "id": "e7117fa1",
   "metadata": {},
   "outputs": [
    {
     "data": {
      "text/plain": [
       "(-2, 51)"
      ]
     },
     "execution_count": 5,
     "metadata": {},
     "output_type": "execute_result"
    }
   ],
   "source": [
    "minmax([2,45,3,-2,0,23,51])"
   ]
  },
  {
   "cell_type": "code",
   "execution_count": 6,
   "id": "2aff41dc",
   "metadata": {},
   "outputs": [
    {
     "data": {
      "text/plain": [
       "tuple"
      ]
     },
     "execution_count": 6,
     "metadata": {},
     "output_type": "execute_result"
    }
   ],
   "source": [
    "type(minmax([2,45,3,-2,0,23,51]))"
   ]
  },
  {
   "cell_type": "code",
   "execution_count": null,
   "id": "e40831a7",
   "metadata": {},
   "outputs": [],
   "source": []
  }
 ],
 "metadata": {
  "kernelspec": {
   "display_name": "Python 3 (ipykernel)",
   "language": "python",
   "name": "python3"
  },
  "language_info": {
   "codemirror_mode": {
    "name": "ipython",
    "version": 3
   },
   "file_extension": ".py",
   "mimetype": "text/x-python",
   "name": "python",
   "nbconvert_exporter": "python",
   "pygments_lexer": "ipython3",
   "version": "3.10.9"
  }
 },
 "nbformat": 4,
 "nbformat_minor": 5
}
