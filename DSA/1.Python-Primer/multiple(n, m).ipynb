{
 "cells": [
  {
   "cell_type": "markdown",
   "id": "588486c4",
   "metadata": {},
   "source": [
    "# R-1.1 Write a short Python function, is multiple(n, m), that takes two integer\n",
    "# values and returns True if n is a multiple of m, that is, n = mi for some\n",
    "# integer i, and False otherwise"
   ]
  },
  {
   "cell_type": "code",
   "execution_count": 25,
   "id": "e6d92a47",
   "metadata": {},
   "outputs": [],
   "source": [
    "def multiple(n, m):\n",
    "    \n",
    "    try:\n",
    "        check = n % m\n",
    "        if check == 0:\n",
    "            return True\n",
    "        else: return False\n",
    "    except:\n",
    "        print('2nd number can\\'t be 0')"
   ]
  },
  {
   "cell_type": "code",
   "execution_count": 17,
   "id": "be1a41a9",
   "metadata": {},
   "outputs": [
    {
     "data": {
      "text/plain": [
       "False"
      ]
     },
     "execution_count": 17,
     "metadata": {},
     "output_type": "execute_result"
    }
   ],
   "source": [
    "multiple(2, 3)"
   ]
  },
  {
   "cell_type": "code",
   "execution_count": 18,
   "id": "b358d08e",
   "metadata": {},
   "outputs": [
    {
     "data": {
      "text/plain": [
       "True"
      ]
     },
     "execution_count": 18,
     "metadata": {},
     "output_type": "execute_result"
    }
   ],
   "source": [
    "multiple(3, 3)"
   ]
  },
  {
   "cell_type": "code",
   "execution_count": 19,
   "id": "06f215d4",
   "metadata": {},
   "outputs": [
    {
     "data": {
      "text/plain": [
       "False"
      ]
     },
     "execution_count": 19,
     "metadata": {},
     "output_type": "execute_result"
    }
   ],
   "source": [
    "multiple(7, 4)"
   ]
  },
  {
   "cell_type": "code",
   "execution_count": 20,
   "id": "2d509bae",
   "metadata": {},
   "outputs": [
    {
     "data": {
      "text/plain": [
       "True"
      ]
     },
     "execution_count": 20,
     "metadata": {},
     "output_type": "execute_result"
    }
   ],
   "source": [
    "multiple(8, 4)"
   ]
  },
  {
   "cell_type": "code",
   "execution_count": 26,
   "id": "cbd258cd",
   "metadata": {},
   "outputs": [
    {
     "data": {
      "text/plain": [
       "True"
      ]
     },
     "execution_count": 26,
     "metadata": {},
     "output_type": "execute_result"
    }
   ],
   "source": [
    "multiple(0, 2)"
   ]
  },
  {
   "cell_type": "code",
   "execution_count": 27,
   "id": "e97bf073",
   "metadata": {},
   "outputs": [
    {
     "name": "stdout",
     "output_type": "stream",
     "text": [
      "2nd number can't be 0\n"
     ]
    }
   ],
   "source": [
    "multiple(2, 0)"
   ]
  },
  {
   "cell_type": "code",
   "execution_count": null,
   "id": "42dd466c",
   "metadata": {},
   "outputs": [],
   "source": []
  }
 ],
 "metadata": {
  "kernelspec": {
   "display_name": "Python 3 (ipykernel)",
   "language": "python",
   "name": "python3"
  },
  "language_info": {
   "codemirror_mode": {
    "name": "ipython",
    "version": 3
   },
   "file_extension": ".py",
   "mimetype": "text/x-python",
   "name": "python",
   "nbconvert_exporter": "python",
   "pygments_lexer": "ipython3",
   "version": "3.10.9"
  }
 },
 "nbformat": 4,
 "nbformat_minor": 5
}
